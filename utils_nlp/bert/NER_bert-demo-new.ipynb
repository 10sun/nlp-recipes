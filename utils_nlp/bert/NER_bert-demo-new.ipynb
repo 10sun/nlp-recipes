{
 "cells": [
  {
   "cell_type": "markdown",
   "metadata": {},
   "source": [
    "# Named Entity Recognition Using BERT"
   ]
  },
  {
   "cell_type": "code",
   "execution_count": 39,
   "metadata": {
    "scrolled": false
   },
   "outputs": [],
   "source": [
    "import pandas as pd\n",
    "import numpy as np\n",
    "from tqdm import tqdm, trange\n",
    "import torch\n",
    "import random"
   ]
  },
  {
   "cell_type": "markdown",
   "metadata": {},
   "source": [
    "## Configurations"
   ]
  },
  {
   "cell_type": "code",
   "execution_count": 40,
   "metadata": {},
   "outputs": [],
   "source": [
    "from configs import PathConfig, GlobalConfig, DeviceConfig, ModelConfig, OptimizerConfig, TrainConfig, EvalConfig"
   ]
  },
  {
   "cell_type": "markdown",
   "metadata": {},
   "source": [
    "### Path configuration"
   ]
  },
  {
   "cell_type": "code",
   "execution_count": 41,
   "metadata": {},
   "outputs": [],
   "source": [
    "path_config_dict = {\"data_dir\": \"./data/NER/\", \n",
    "                    \"output_dir\": \"./NER_output/\"}\n",
    "path_config = PathConfig(path_config_dict)"
   ]
  },
  {
   "cell_type": "markdown",
   "metadata": {},
   "source": [
    "### Global configuration"
   ]
  },
  {
   "cell_type": "code",
   "execution_count": 42,
   "metadata": {},
   "outputs": [],
   "source": [
    "global_config_dict = {\"fp16\": False}\n",
    "global_config = GlobalConfig(global_config_dict)"
   ]
  },
  {
   "cell_type": "markdown",
   "metadata": {},
   "source": [
    "### Device configuration"
   ]
  },
  {
   "cell_type": "code",
   "execution_count": null,
   "metadata": {},
   "outputs": [],
   "source": [
    "device_config_dict = {\"no_cuda\": False}\n",
    "device_config = DeviceConfig(device_config_dict)\n",
    "print(\"device name: {}\".format(torch.cuda.get_device_name(0)))\n",
    "print(\"number of gpus: {}\".format(device_config.n_gpu))"
   ]
  },
  {
   "cell_type": "markdown",
   "metadata": {},
   "source": [
    "### Model configuration"
   ]
  },
  {
   "cell_type": "code",
   "execution_count": 44,
   "metadata": {},
   "outputs": [],
   "source": [
    "model_config_dict = {\"bert_model\": \"bert-base-uncased\",\n",
    "                     \"max_seq_length\": 75,\n",
    "                     \"num_labels\": 18,\n",
    "                     \"model_type\": \"token\"}\n",
    "model_config = ModelConfig(model_config_dict)"
   ]
  },
  {
   "cell_type": "markdown",
   "metadata": {},
   "source": [
    "### Optimizer configuration"
   ]
  },
  {
   "cell_type": "code",
   "execution_count": 45,
   "metadata": {},
   "outputs": [],
   "source": [
    "optimizer_config_dict = {\"no_decay_params\": ['bias', 'gamma', 'beta'],\n",
    "                         \"learning_rate\": 3e-5}\n",
    "optimizer_config = OptimizerConfig(optimizer_config_dict)"
   ]
  },
  {
   "cell_type": "markdown",
   "metadata": {},
   "source": [
    "### Train configuration"
   ]
  },
  {
   "cell_type": "code",
   "execution_count": 76,
   "metadata": {},
   "outputs": [],
   "source": [
    "train_config_dict = {\"train_batch_size\": 32,\n",
    "                     \"num_train_epochs\": 5}\n",
    "train_config = TrainConfig(train_config_dict)"
   ]
  },
  {
   "cell_type": "markdown",
   "metadata": {},
   "source": [
    "### Evaluation configuration"
   ]
  },
  {
   "cell_type": "code",
   "execution_count": 79,
   "metadata": {},
   "outputs": [],
   "source": [
    "eval_config = EvalConfig({\"eval_batch_size\":32})"
   ]
  },
  {
   "cell_type": "markdown",
   "metadata": {},
   "source": [
    "### Set random seeds"
   ]
  },
  {
   "cell_type": "code",
   "execution_count": 48,
   "metadata": {},
   "outputs": [
    {
     "data": {
      "text/plain": [
       "<torch._C.Generator at 0x7fa7827121b0>"
      ]
     },
     "execution_count": 48,
     "metadata": {},
     "output_type": "execute_result"
    }
   ],
   "source": [
    "random.seed(global_config.seed)\n",
    "np.random.seed(global_config.seed)\n",
    "torch.manual_seed(global_config.seed)"
   ]
  },
  {
   "cell_type": "markdown",
   "metadata": {},
   "source": [
    "## Preprocess Data"
   ]
  },
  {
   "cell_type": "markdown",
   "metadata": {},
   "source": [
    "### Create training and validation examples\n",
    "KaggleNERProcessor is a dataset specific class that generates training and evaluation examples in the format accepted by all utility functions. "
   ]
  },
  {
   "cell_type": "code",
   "execution_count": 49,
   "metadata": {
    "scrolled": false
   },
   "outputs": [],
   "source": [
    "from bert_data_utils import KaggleNERProcessor"
   ]
  },
  {
   "cell_type": "code",
   "execution_count": 50,
   "metadata": {
    "scrolled": false
   },
   "outputs": [],
   "source": [
    "kaggle_ner_processor = KaggleNERProcessor(data_dir=\"./data/NER/ner_dataset.csv\", dev_percentage = 0.1)"
   ]
  },
  {
   "cell_type": "code",
   "execution_count": 51,
   "metadata": {
    "scrolled": false
   },
   "outputs": [],
   "source": [
    "train_examples = kaggle_ner_processor.get_train_examples(data_dir=\"./data/NER/ner_dataset.csv\")\n",
    "dev_examples = kaggle_ner_processor.get_dev_examples(data_dir=\"./data/NER/ner_dataset.csv\")"
   ]
  },
  {
   "cell_type": "code",
   "execution_count": 86,
   "metadata": {},
   "outputs": [],
   "source": [
    "a = set(kaggle_ner_processor.train_sentence_nums)\n",
    "b = set(kaggle_ner_processor.dev_sentence_nums)\n",
    "a.intersection(b)"
   ]
  },
  {
   "cell_type": "code",
   "execution_count": 52,
   "metadata": {
    "scrolled": false
   },
   "outputs": [],
   "source": [
    "label_list = kaggle_ner_processor.get_labels()"
   ]
  },
  {
   "cell_type": "code",
   "execution_count": 105,
   "metadata": {},
   "outputs": [
    {
     "name": "stdout",
     "output_type": "stream",
     "text": [
      "Sample sentence: \n",
      "Iranian officials say they expect to get access to sealed sensitive parts of the plant Wednesday , after an IAEA surveillance system begins functioning .\n",
      "\n",
      "Sample sentence labels: \n",
      "['O', 'O', 'B-tim', 'O', 'O', 'O', 'O', 'O', 'B-geo', 'O', 'O', 'O', 'O', 'O', 'B-org', 'O', 'O', 'O', 'O', 'O', 'O', 'O', 'O', 'O', 'O', 'O', 'O', 'O', 'O', 'B-geo', 'I-geo', 'O']\n",
      "\n"
     ]
    }
   ],
   "source": [
    "print('Sample sentence: \\n{}\\n'.format(train_examples[0].text_a))\n",
    "print('Sample sentence labels: \\n{}\\n'.format(train_examples[1].label))"
   ]
  },
  {
   "cell_type": "markdown",
   "metadata": {},
   "source": [
    "### Create dataloaders\n",
    "These two utility functions convert training and evaluation examples to Pytorch dataloaders which can be used for model training and evaluation. The following steps are performed:\n",
    "1. Tokenization\n",
    "2. Convert token and labels to numerical values\n",
    "3. Convert numpy arrays to Pytorch tensors\n",
    "4. Create dataloader for sampling and serving data in batches"
   ]
  },
  {
   "cell_type": "code",
   "execution_count": 53,
   "metadata": {},
   "outputs": [],
   "source": [
    "from bert_utils import create_train_dataloader, create_eval_dataloader"
   ]
  },
  {
   "cell_type": "code",
   "execution_count": 54,
   "metadata": {},
   "outputs": [],
   "source": [
    "train_dataloader = create_train_dataloader(train_examples=train_examples,\n",
    "                                           model_config=model_config,\n",
    "                                           train_config=train_config,\n",
    "                                           label_list=label_list,\n",
    "                                           device_config=device_config)"
   ]
  },
  {
   "cell_type": "code",
   "execution_count": 80,
   "metadata": {},
   "outputs": [],
   "source": [
    "valid_dataloader, _ = create_eval_dataloader(eval_examples=dev_examples, \n",
    "                                             model_config=model_config, \n",
    "                                             eval_config=eval_config, \n",
    "                                             label_list=label_list)"
   ]
  },
  {
   "cell_type": "code",
   "execution_count": 103,
   "metadata": {},
   "outputs": [
    {
     "name": "stdout",
     "output_type": "stream",
     "text": [
      "Sample token ids:\n",
      "tensor([ 9796,  2937,  8443,  2967,  2031,  2146,  4912,  2000, 16857,  1996,\n",
      "         2406,  1005,  2015,  2343,  1010,  8909,  6935,  2015,  2139,  3762,\n",
      "         1012,     0,     0,     0,     0,     0,     0,     0,     0,     0,\n",
      "            0,     0,     0,     0,     0,     0,     0,     0,     0,     0,\n",
      "            0,     0,     0,     0,     0,     0,     0,     0,     0,     0,\n",
      "            0,     0,     0,     0,     0,     0,     0,     0,     0,     0,\n",
      "            0,     0,     0,     0,     0,     0,     0,     0,     0,     0,\n",
      "            0,     0,     0,     0,     0])\n",
      "\n",
      "Sample attention mask:\n",
      "tensor([1, 1, 1, 1, 1, 1, 1, 1, 1, 1, 1, 1, 1, 1, 1, 1, 1, 1, 1, 1, 1, 0, 0, 0,\n",
      "        0, 0, 0, 0, 0, 0, 0, 0, 0, 0, 0, 0, 0, 0, 0, 0, 0, 0, 0, 0, 0, 0, 0, 0,\n",
      "        0, 0, 0, 0, 0, 0, 0, 0, 0, 0, 0, 0, 0, 0, 0, 0, 0, 0, 0, 0, 0, 0, 0, 0,\n",
      "        0, 0, 0])\n",
      "\n",
      "Sample label ids:\n",
      "tensor([12, 17,  9,  9,  9,  9,  9,  9,  9,  9,  9,  9, 17,  9,  9, 15, 17, 17,\n",
      "         2, 17,  9,  9,  9,  9,  9,  9,  9,  9,  9,  9,  9,  9,  9,  9,  9,  9,\n",
      "         9,  9,  9,  9,  9,  9,  9,  9,  9,  9,  9,  9,  9,  9,  9,  9,  9,  9,\n",
      "         9,  9,  9,  9,  9,  9,  9,  9,  9,  9,  9,  9,  9,  9,  9,  9,  9,  9,\n",
      "         9,  9,  9])\n",
      "\n"
     ]
    }
   ],
   "source": [
    "it = iter(train_dataloader)\n",
    "first = next(it)\n",
    "print(\"Sample token ids:\\n{}\\n\".format(first[0][0]))\n",
    "print(\"Sample attention mask:\\n{}\\n\".format(first[1][0]))\n",
    "print(\"Sample label ids:\\n{}\\n\".format(first[3][0]))"
   ]
  },
  {
   "cell_type": "markdown",
   "metadata": {},
   "source": [
    "## Load Model"
   ]
  },
  {
   "cell_type": "code",
   "execution_count": 57,
   "metadata": {},
   "outputs": [],
   "source": [
    "from bert_utils import load_model"
   ]
  },
  {
   "cell_type": "code",
   "execution_count": 58,
   "metadata": {
    "scrolled": false
   },
   "outputs": [],
   "source": [
    "model = load_model(model_config=model_config, \n",
    "                   path_config=path_config, \n",
    "                   device_config=device_config,\n",
    "                   global_config=global_config)"
   ]
  },
  {
   "cell_type": "code",
   "execution_count": 107,
   "metadata": {},
   "outputs": [
    {
     "data": {
      "text/plain": [
       "pytorch_pretrained_bert.modeling.BertForTokenClassification"
      ]
     },
     "execution_count": 107,
     "metadata": {},
     "output_type": "execute_result"
    }
   ],
   "source": [
    "type(model)"
   ]
  },
  {
   "cell_type": "markdown",
   "metadata": {},
   "source": [
    "## Configure Optimizer"
   ]
  },
  {
   "cell_type": "code",
   "execution_count": 59,
   "metadata": {},
   "outputs": [],
   "source": [
    "from bert_utils import configure_optimizer"
   ]
  },
  {
   "cell_type": "code",
   "execution_count": 60,
   "metadata": {
    "scrolled": false
   },
   "outputs": [],
   "source": [
    "optimizer, optimizer_config, _ = configure_optimizer(optimizer_config=optimizer_config,\n",
    "                                                     global_config=global_config, \n",
    "                                                     train_config=train_config, \n",
    "                                                     device_config=device_config, \n",
    "                                                     model=model, \n",
    "                                                     num_train_examples=len(train_dataloader))"
   ]
  },
  {
   "cell_type": "code",
   "execution_count": 109,
   "metadata": {},
   "outputs": [
    {
     "data": {
      "text/plain": [
       "torch.optim.adam.Adam"
      ]
     },
     "execution_count": 109,
     "metadata": {},
     "output_type": "execute_result"
    }
   ],
   "source": [
    "type(optimizer)"
   ]
  },
  {
   "cell_type": "markdown",
   "metadata": {},
   "source": [
    "## Train Model"
   ]
  },
  {
   "cell_type": "code",
   "execution_count": 61,
   "metadata": {},
   "outputs": [],
   "source": [
    "from bert_utils import train_token_model"
   ]
  },
  {
   "cell_type": "code",
   "execution_count": 110,
   "metadata": {
    "scrolled": true
   },
   "outputs": [],
   "source": [
    "model, train_loss = train_token_model(model=model, \n",
    "                                      train_dataloader=train_dataloader, \n",
    "                                      optimizer=optimizer,\n",
    "                                      train_config=train_config, \n",
    "                                      model_config=model_config, \n",
    "                                      optimizer_config=optimizer_config,\n",
    "                                      device_config=device_config,\n",
    "                                      global_config=global_config)"
   ]
  },
  {
   "cell_type": "markdown",
   "metadata": {},
   "source": [
    "## Evaluate Model"
   ]
  },
  {
   "cell_type": "code",
   "execution_count": 63,
   "metadata": {},
   "outputs": [],
   "source": [
    "from bert_utils import eval_token_model"
   ]
  },
  {
   "cell_type": "code",
   "execution_count": 64,
   "metadata": {},
   "outputs": [],
   "source": [
    "def flat_accuracy(preds, labels):\n",
    "    pred_flat = np.argmax(preds, axis=2).flatten()\n",
    "    labels_flat = labels.flatten()\n",
    "    return np.sum(pred_flat == labels_flat) / len(labels_flat)"
   ]
  },
  {
   "cell_type": "code",
   "execution_count": 82,
   "metadata": {
    "scrolled": false
   },
   "outputs": [
    {
     "name": "stdout",
     "output_type": "stream",
     "text": [
      "Validation loss: 0.2580980388323466\n",
      "Validation Accuracy: 0.9766516460905346\n",
      "Validation F1-Score: 0.7453125410892262\n"
     ]
    }
   ],
   "source": [
    "preds, eval_loss, eval_accuracy = eval_token_model(model=model, \n",
    "                                                   eval_dataloader=valid_dataloader, \n",
    "                                                   model_config=model_config, \n",
    "                                                   device_config=device_config, \n",
    "                                                   label_list=label_list,\n",
    "                                                   eval_func=flat_accuracy)"
   ]
  }
 ],
 "metadata": {
  "kernelspec": {
   "display_name": "pytorch",
   "language": "python",
   "name": "pytorch"
  },
  "language_info": {
   "codemirror_mode": {
    "name": "ipython",
    "version": 3
   },
   "file_extension": ".py",
   "mimetype": "text/x-python",
   "name": "python",
   "nbconvert_exporter": "python",
   "pygments_lexer": "ipython3",
   "version": "3.7.3"
  }
 },
 "nbformat": 4,
 "nbformat_minor": 2
}
