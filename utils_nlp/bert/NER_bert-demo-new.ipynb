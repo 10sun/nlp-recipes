{
 "cells": [
  {
   "cell_type": "code",
   "execution_count": 12,
   "metadata": {
    "scrolled": false
   },
   "outputs": [],
   "source": [
    "import pandas as pd\n",
    "import numpy as np\n",
    "from tqdm import tqdm, trange\n",
    "import torch"
   ]
  },
  {
   "cell_type": "markdown",
   "metadata": {},
   "source": [
    "## Configurations"
   ]
  },
  {
   "cell_type": "code",
   "execution_count": 16,
   "metadata": {},
   "outputs": [],
   "source": [
    "from configs import PathConfig, GlobalConfig, DeviceConfig, ModelConfig, OptimizerConfig, TrainConfig, EvalConfig"
   ]
  },
  {
   "cell_type": "code",
   "execution_count": 9,
   "metadata": {},
   "outputs": [],
   "source": [
    "path_config_dict = {\"data_dir\": \"./data/NER/\", \n",
    "                    \"output_dir\": \"./NER_output/\"}\n",
    "path_config = PathConfig(path_config_dict)"
   ]
  },
  {
   "cell_type": "code",
   "execution_count": 10,
   "metadata": {},
   "outputs": [],
   "source": [
    "global_config_dict = {\"fp16\": False}\n",
    "global_config = GlobalConfig(global_config_dict)"
   ]
  },
  {
   "cell_type": "code",
   "execution_count": 13,
   "metadata": {},
   "outputs": [
    {
     "name": "stdout",
     "output_type": "stream",
     "text": [
      "device name: Tesla K80\n",
      "number of gpus: 1\n"
     ]
    }
   ],
   "source": [
    "device_config_dict = {\"no_cuda\": False}\n",
    "device_config = DeviceConfig(device_config_dict)\n",
    "print(\"device name: {}\".format(torch.cuda.get_device_name(0)))\n",
    "print(\"number of gpus: {}\".format(device_config.n_gpu))"
   ]
  },
  {
   "cell_type": "code",
   "execution_count": 14,
   "metadata": {},
   "outputs": [],
   "source": [
    "model_config_dict = {\"bert_model\": \"bert-base-uncased\",\n",
    "                     \"max_seq_length\": 75,\n",
    "                     \"num_labels\": 18,\n",
    "                     \"model_type\": \"token\"}\n",
    "model_config = ModelConfig(model_config_dict)"
   ]
  },
  {
   "cell_type": "code",
   "execution_count": 17,
   "metadata": {},
   "outputs": [],
   "source": [
    "optimizer_config_dict = {\"no_decay_params\": ['bias', 'gamma', 'beta'],\n",
    "                         \"learning_rate\": 3e-5}\n",
    "optimizer_config = OptimizerConfig(optimizer_config_dict)"
   ]
  },
  {
   "cell_type": "code",
   "execution_count": 18,
   "metadata": {},
   "outputs": [],
   "source": [
    "train_config_dict = {\"train_batch_size\": 32, \n",
    "                     \"num_train_epochs\": 5}\n",
    "train_config = TrainConfig(train_config_dict)"
   ]
  },
  {
   "cell_type": "code",
   "execution_count": 19,
   "metadata": {},
   "outputs": [],
   "source": [
    "eval_config = EvalConfig()"
   ]
  },
  {
   "cell_type": "markdown",
   "metadata": {},
   "source": [
    "## Preprocess Data"
   ]
  },
  {
   "cell_type": "markdown",
   "metadata": {},
   "source": [
    "### Create training and validation examples"
   ]
  },
  {
   "cell_type": "code",
   "execution_count": 3,
   "metadata": {
    "scrolled": false
   },
   "outputs": [],
   "source": [
    "from bert_data_utils import KaggleNERProcessor"
   ]
  },
  {
   "cell_type": "code",
   "execution_count": 4,
   "metadata": {
    "scrolled": false
   },
   "outputs": [],
   "source": [
    "kaggle_ner_processor = KaggleNERProcessor(data_dir=\"./data/NER/ner_dataset.csv\", dev_percentage = 0.1)"
   ]
  },
  {
   "cell_type": "code",
   "execution_count": 5,
   "metadata": {
    "scrolled": false
   },
   "outputs": [],
   "source": [
    "train_examples = kaggle_ner_processor.get_train_examples(data_dir=\"./data/NER/ner_dataset.csv\")\n",
    "dev_examples = kaggle_ner_processor.get_dev_examples(data_dir=\"./data/NER/ner_dataset.csv\")"
   ]
  },
  {
   "cell_type": "code",
   "execution_count": 6,
   "metadata": {
    "scrolled": false
   },
   "outputs": [],
   "source": [
    "label_list = kaggle_ner_processor.get_labels()"
   ]
  },
  {
   "cell_type": "markdown",
   "metadata": {},
   "source": [
    "### Create dataloaders"
   ]
  },
  {
   "cell_type": "code",
   "execution_count": 20,
   "metadata": {},
   "outputs": [],
   "source": [
    "from bert_utils import create_train_dataloader, create_eval_dataloader"
   ]
  },
  {
   "cell_type": "code",
   "execution_count": 21,
   "metadata": {},
   "outputs": [],
   "source": [
    "train_dataloader = create_train_dataloader(train_examples=train_examples,\n",
    "                                           model_config=model_config,\n",
    "                                           train_config=train_config,\n",
    "                                           label_list=label_list,\n",
    "                                           device_config=device_config)"
   ]
  },
  {
   "cell_type": "code",
   "execution_count": 22,
   "metadata": {},
   "outputs": [],
   "source": [
    "valid_dataloader = create_eval_dataloader(eval_examples=dev_examples, \n",
    "                                          model_config=model_config, \n",
    "                                          eval_config=eval_config, \n",
    "                                          label_list=label_list)"
   ]
  },
  {
   "cell_type": "markdown",
   "metadata": {},
   "source": [
    "## Load Model"
   ]
  },
  {
   "cell_type": "code",
   "execution_count": 24,
   "metadata": {},
   "outputs": [],
   "source": [
    "from bert_utils import load_model"
   ]
  },
  {
   "cell_type": "code",
   "execution_count": 25,
   "metadata": {
    "scrolled": false
   },
   "outputs": [],
   "source": [
    "model = load_model(model_config=model_config, \n",
    "                   path_config=path_config, \n",
    "                   device_config=device_config,\n",
    "                   global_config=global_config)"
   ]
  },
  {
   "cell_type": "markdown",
   "metadata": {},
   "source": [
    "## Configure Optimizer"
   ]
  },
  {
   "cell_type": "code",
   "execution_count": 26,
   "metadata": {},
   "outputs": [],
   "source": [
    "from bert_utils import configure_optimizer"
   ]
  },
  {
   "cell_type": "code",
   "execution_count": 27,
   "metadata": {
    "scrolled": false
   },
   "outputs": [],
   "source": [
    "optimizer, optimizer_config, _ = configure_optimizer(optimizer_config=optimizer_config,\n",
    "                                                     global_config=global_config, \n",
    "                                                     train_config=train_config, \n",
    "                                                     device_config=device_config, \n",
    "                                                     model=model, \n",
    "                                                     num_train_examples=len(train_dataloader))"
   ]
  },
  {
   "cell_type": "markdown",
   "metadata": {},
   "source": [
    "## Train Model"
   ]
  },
  {
   "cell_type": "code",
   "execution_count": 31,
   "metadata": {},
   "outputs": [],
   "source": [
    "from bert_utils import train_token_model"
   ]
  },
  {
   "cell_type": "code",
   "execution_count": 30,
   "metadata": {
    "scrolled": true
   },
   "outputs": [],
   "source": [
    "model, train_loss = train_token_model(model=model, \n",
    "                                      train_dataloader=train_dataloader, \n",
    "                                      optimizer=optimizer,\n",
    "                                      train_config=train_config, \n",
    "                                      model_config=model_config, \n",
    "                                      optimizer_config=optimizer_config,\n",
    "                                      device_config=device_config,\n",
    "                                      global_config=global_config)"
   ]
  },
  {
   "cell_type": "markdown",
   "metadata": {},
   "source": [
    "## Evaluate Model"
   ]
  },
  {
   "cell_type": "code",
   "execution_count": 32,
   "metadata": {},
   "outputs": [],
   "source": [
    "from bert_utils import eval_token_model"
   ]
  },
  {
   "cell_type": "code",
   "execution_count": 28,
   "metadata": {},
   "outputs": [],
   "source": [
    "def flat_accuracy(preds, labels):\n",
    "    pred_flat = np.argmax(preds, axis=2).flatten()\n",
    "    labels_flat = labels.flatten()\n",
    "    return np.sum(pred_flat == labels_flat) / len(labels_flat)"
   ]
  },
  {
   "cell_type": "code",
   "execution_count": 29,
   "metadata": {
    "scrolled": false
   },
   "outputs": [],
   "source": [
    "preds, eval_loss, eval_accuracy = eval_token_model(model=model, \n",
    "                                                   eval_dataloader=valid_dataloader, \n",
    "                                                   model_config=model_config, \n",
    "                                                   device_config=device_config, \n",
    "                                                   label_list=label_list,\n",
    "                                                   eval_func=flat_accuracy)"
   ]
  }
 ],
 "metadata": {
  "kernelspec": {
   "display_name": "pytorch",
   "language": "python",
   "name": "pytorch"
  },
  "language_info": {
   "codemirror_mode": {
    "name": "ipython",
    "version": 3
   },
   "file_extension": ".py",
   "mimetype": "text/x-python",
   "name": "python",
   "nbconvert_exporter": "python",
   "pygments_lexer": "ipython3",
   "version": "3.7.3"
  }
 },
 "nbformat": 4,
 "nbformat_minor": 2
}
