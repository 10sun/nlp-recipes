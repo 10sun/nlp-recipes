{
 "cells": [
  {
   "cell_type": "markdown",
   "metadata": {},
   "source": [
    "*Copyright (c) Microsoft Corporation. All rights reserved.*  \n",
    "*Licensed under the MIT License.*\n",
    "# Named Entity Recognition Using BERT on Chinese\n",
    "## Summary\n",
    "This notebook demonstrates how to fine tune [pretrained BERT model](https://github.com/huggingface/pytorch-pretrained-BERT) for named entity recognition (NER) task on Chinese text. Utility functions and classes in the NLP Best Practices repo are used to facilitate data preprocessing, model training, model scoring and model evaluation.\n",
    "\n",
    "[BERT (Bidirectional Transformers for Language Understanding)](https://arxiv.org/pdf/1810.04805.pdf) is a powerful pre-trained lanaguage model that can be used for multiple NLP tasks, including text classification, question answering, named entity recognition, etc. It's able to achieve state of the art performance with only a few epochs of fine tuning on task specific datasets.  \n",
    "The figure below illustrates how BERT can be fine tuned for NER tasks. The input data is a list of tokens representing a sentence. In the training data, each token has an entity label. After fine tuning, the model predicts an entity label for each token in a given testing sentence. \n",
    "\n",
    "<img src=\"https://nlpbp.blob.core.windows.net/images/bert_architecture.png\">\n",
    "\n",
    "Named Entity Recognition on non-English text is not very differnt from that on English text. The only difference is the model used, which is configured by the `LANGUAGE` variable below. For non-English languages including Chinese, the *bert-base-multilingual-cased* model can be used by setting `LANGUAGE = Language.MULTILINGUAL`. For Chinese, the *bert-base-chinese* model can also be used by setting `LANGUAGE = Language.CHINESE`. On Chinese text, the performance of *bert-base-chinese* is usually better than *bert-base-multilingual-cased* because the *bert-base-chinese* model is pretrained on Chinese data only. On this particular dataset, the performances of the Chinese-only model and multilingual model are very similar"
   ]
  },
  {
   "cell_type": "markdown",
   "metadata": {},
   "source": [
    "## Required packages\n",
    "* pytorch\n",
    "* pytorch-pretrained-bert\n",
    "* pandas\n",
    "* seqeval"
   ]
  },
  {
   "cell_type": "code",
   "execution_count": 1,
   "metadata": {
    "scrolled": false
   },
   "outputs": [],
   "source": [
    "import sys\n",
    "import os\n",
    "import random\n",
    "from seqeval.metrics import classification_report\n",
    "\n",
    "import torch\n",
    "\n",
    "nlp_path = os.path.abspath('../../')\n",
    "if nlp_path not in sys.path:\n",
    "    sys.path.insert(0, nlp_path)\n",
    "\n",
    "from utils_nlp.bert.token_classification import BERTTokenClassifier, postprocess_token_labels, create_label_map\n",
    "from utils_nlp.bert.common import Language, Tokenizer\n",
    "from utils_nlp.dataset.msra_ner import load_pandas_df, get_unique_labels"
   ]
  },
  {
   "cell_type": "markdown",
   "metadata": {},
   "source": [
    "## Configurations"
   ]
  },
  {
   "cell_type": "code",
   "execution_count": 2,
   "metadata": {
    "scrolled": false
   },
   "outputs": [],
   "source": [
    "# path configurations\n",
    "CACHE_DIR = \"./temp\"\n",
    "\n",
    "# set random seeds\n",
    "RANDOM_SEED = 100\n",
    "torch.manual_seed(RANDOM_SEED)\n",
    "\n",
    "# model configurations\n",
    "LANGUAGE = Language.CHINESE\n",
    "DO_LOWER_CASE = True\n",
    "MAX_SEQ_LENGTH = 200\n",
    "\n",
    "# training configurations\n",
    "BATCH_SIZE = 16\n",
    "NUM_TRAIN_EPOCHS = 1\n",
    "\n",
    "# optimizer configuration\n",
    "LEARNING_RATE = 3e-5\n",
    "\n",
    "TEXT_COL = \"sentence\"\n",
    "LABEL_COL = \"labels\""
   ]
  },
  {
   "cell_type": "markdown",
   "metadata": {},
   "source": [
    "## Preprocess Data"
   ]
  },
  {
   "cell_type": "markdown",
   "metadata": {},
   "source": [
    "### Get training and testing data\n",
    "The dataset used in this notebook is the MSRA NER dataset. The dataset consists of 45000 training sentences and 3442 testing sentences. \n",
    "\n",
    "The helper function `load_pandas_df` downloads the data files if they don't exist in `local_cache_path`. It returns the training or testing data frame based on `file_split`\n",
    "\n",
    "The helper function `get_unique_labels` returns the unique entity labels in the dataset. There are 7 unique labels in the   dataset: \n",
    "* 'O': non-entity \n",
    "* 'B-LOC': beginning of location entity\n",
    "* 'I-LOC': within location entity\n",
    "* 'B-PER': beginning of person entity\n",
    "* 'I-PER': within person entity\n",
    "* 'B-ORG': beginning of organization entity\n",
    "* 'I-ORG': within organization entity\n",
    "\n",
    "The maximum number of words in a sentence is 756. We set MAX_SEQ_LENGTH to 200 above to reduce the GPU memory needed to run this notebook. Less than 1% of testing data are longer than 200, so this should have negligible impact on the model performance evaluation."
   ]
  },
  {
   "cell_type": "code",
   "execution_count": 3,
   "metadata": {},
   "outputs": [
    {
     "name": "stdout",
     "output_type": "stream",
     "text": [
      "Maximum sequence length in train data is: 746\n",
      "Maximum sequence length in test data is: 2427\n",
      "Number of sentences in training data: 45000\n",
      "Number of sentences in testing data: 3442\n",
      "Unique labels: ['O', 'B-LOC', 'B-ORG', 'B-PER', 'I-LOC', 'I-ORG', 'I-PER']\n"
     ]
    }
   ],
   "source": [
    "train_df = load_pandas_df(local_cache_path=CACHE_DIR, file_split=\"train\")\n",
    "test_df = load_pandas_df(local_cache_path=CACHE_DIR, file_split=\"test\")\n",
    "label_list = get_unique_labels()\n",
    "print(\"Number of sentences in training data: {}\".format(train_df.shape[0]))\n",
    "print(\"Number of sentences in testing data: {}\".format(test_df.shape[0]))\n",
    "print(\"Unique labels: {}\".format(label_list))"
   ]
  },
  {
   "cell_type": "code",
   "execution_count": 4,
   "metadata": {},
   "outputs": [
    {
     "data": {
      "text/html": [
       "<div>\n",
       "<style scoped>\n",
       "    .dataframe tbody tr th:only-of-type {\n",
       "        vertical-align: middle;\n",
       "    }\n",
       "\n",
       "    .dataframe tbody tr th {\n",
       "        vertical-align: top;\n",
       "    }\n",
       "\n",
       "    .dataframe thead th {\n",
       "        text-align: right;\n",
       "    }\n",
       "</style>\n",
       "<table border=\"1\" class=\"dataframe\">\n",
       "  <thead>\n",
       "    <tr style=\"text-align: right;\">\n",
       "      <th></th>\n",
       "      <th>sentence</th>\n",
       "      <th>labels</th>\n",
       "    </tr>\n",
       "  </thead>\n",
       "  <tbody>\n",
       "    <tr>\n",
       "      <th>0</th>\n",
       "      <td>当 希 望 工 程 救 助 的 百 万 儿 童 成 长 起 来 ， 科 教 兴 国 蔚 然 ...</td>\n",
       "      <td>[O, O, O, O, O, O, O, O, O, O, O, O, O, O, O, ...</td>\n",
       "    </tr>\n",
       "    <tr>\n",
       "      <th>1</th>\n",
       "      <td>藏 书 本 来 就 是 所 有 传 统 收 藏 门 类 中 的 第 一 大 户 ， 只 是 ...</td>\n",
       "      <td>[O, O, O, O, O, O, O, O, O, O, O, O, O, O, O, ...</td>\n",
       "    </tr>\n",
       "    <tr>\n",
       "      <th>2</th>\n",
       "      <td>因 有 关 日 寇 在 京 掠 夺 文 物 详 情 ， 藏 界 较 为 重 视 ， 也 是 ...</td>\n",
       "      <td>[O, O, O, B-LOC, O, O, B-LOC, O, O, O, O, O, O...</td>\n",
       "    </tr>\n",
       "    <tr>\n",
       "      <th>3</th>\n",
       "      <td>我 们 藏 有 一 册 １ ９ ４ ５ 年 ６ 月 油 印 的 《 北 京 文 物 保 存 ...</td>\n",
       "      <td>[O, O, O, O, O, O, O, O, O, O, O, O, O, O, O, ...</td>\n",
       "    </tr>\n",
       "    <tr>\n",
       "      <th>4</th>\n",
       "      <td>以 家 乡 的 历 史 文 献 、 特 定 历 史 时 期 书 刊 、 某 一 名 家 或 ...</td>\n",
       "      <td>[O, O, O, O, O, O, O, O, O, O, O, O, O, O, O, ...</td>\n",
       "    </tr>\n",
       "  </tbody>\n",
       "</table>\n",
       "</div>"
      ],
      "text/plain": [
       "                                            sentence  \\\n",
       "0  当 希 望 工 程 救 助 的 百 万 儿 童 成 长 起 来 ， 科 教 兴 国 蔚 然 ...   \n",
       "1  藏 书 本 来 就 是 所 有 传 统 收 藏 门 类 中 的 第 一 大 户 ， 只 是 ...   \n",
       "2  因 有 关 日 寇 在 京 掠 夺 文 物 详 情 ， 藏 界 较 为 重 视 ， 也 是 ...   \n",
       "3  我 们 藏 有 一 册 １ ９ ４ ５ 年 ６ 月 油 印 的 《 北 京 文 物 保 存 ...   \n",
       "4  以 家 乡 的 历 史 文 献 、 特 定 历 史 时 期 书 刊 、 某 一 名 家 或 ...   \n",
       "\n",
       "                                              labels  \n",
       "0  [O, O, O, O, O, O, O, O, O, O, O, O, O, O, O, ...  \n",
       "1  [O, O, O, O, O, O, O, O, O, O, O, O, O, O, O, ...  \n",
       "2  [O, O, O, B-LOC, O, O, B-LOC, O, O, O, O, O, O...  \n",
       "3  [O, O, O, O, O, O, O, O, O, O, O, O, O, O, O, ...  \n",
       "4  [O, O, O, O, O, O, O, O, O, O, O, O, O, O, O, ...  "
      ]
     },
     "execution_count": 4,
     "metadata": {},
     "output_type": "execute_result"
    }
   ],
   "source": [
    "train_df.head()"
   ]
  },
  {
   "cell_type": "markdown",
   "metadata": {},
   "source": [
    "### Tokenization and Preprocessing\n",
    "The `tokenize_ner` method of the `Tokenizer` class converts raw string data to numerical features, involving the following steps:\n",
    "1. WordPiece tokenization.\n",
    "2. Convert tokens and labels to numerical values, i.e. token ids and label ids.\n",
    "3. Sequence padding or truncation according to the `max_seq_length` configuration."
   ]
  },
  {
   "cell_type": "markdown",
   "metadata": {},
   "source": [
    "**Create a dictionary that maps labels to numerical values**"
   ]
  },
  {
   "cell_type": "code",
   "execution_count": 5,
   "metadata": {
    "scrolled": false
   },
   "outputs": [],
   "source": [
    "label_map = create_label_map(label_list)"
   ]
  },
  {
   "cell_type": "markdown",
   "metadata": {},
   "source": [
    "**Tokenize input text**"
   ]
  },
  {
   "cell_type": "code",
   "execution_count": 6,
   "metadata": {
    "scrolled": false
   },
   "outputs": [],
   "source": [
    "tokenizer = Tokenizer(language=LANGUAGE, \n",
    "                      to_lower=DO_LOWER_CASE, \n",
    "                      cache_dir=CACHE_DIR)"
   ]
  },
  {
   "cell_type": "markdown",
   "metadata": {},
   "source": [
    "**Create numerical features**  "
   ]
  },
  {
   "cell_type": "code",
   "execution_count": 7,
   "metadata": {
    "scrolled": true
   },
   "outputs": [],
   "source": [
    "train_token_ids, train_input_mask, train_trailing_token_mask, train_label_ids = \\\n",
    "    tokenizer.tokenize_ner(text=train_df[TEXT_COL],\n",
    "                           label_map=label_map,\n",
    "                           max_len=MAX_SEQ_LENGTH,\n",
    "                           labels=train_df[LABEL_COL])\n",
    "test_token_ids, test_input_mask, test_trailing_token_mask, test_label_ids = \\\n",
    "    tokenizer.tokenize_ner(text=test_df[TEXT_COL],\n",
    "                           label_map=label_map,\n",
    "                           max_len=MAX_SEQ_LENGTH,\n",
    "                           labels=test_df[LABEL_COL])"
   ]
  },
  {
   "cell_type": "markdown",
   "metadata": {},
   "source": [
    "`Tokenizer.tokenize_ner` outputs three or four lists of numerical features lists, each sublist contains features of an input sentence: \n",
    "1. token ids: list of numerical values each corresponds to a token.\n",
    "2. attention mask: list of 1s and 0s, 1 for input tokens and 0 for padded tokens, so that padded tokens are not attended to. \n",
    "3. trailing word piece mask: boolean list, `True` for the first word piece of each original word, `False` for the trailing word pieces, e.g. ##ize. This mask is useful for removing predictions on trailing word pieces, so that each original word in the input text has a unique predicted label. \n",
    "4. label ids: list of numerical values each corresponds to an entity label, if `labels` is provided."
   ]
  },
  {
   "cell_type": "code",
   "execution_count": 8,
   "metadata": {
    "scrolled": false
   },
   "outputs": [
    {
     "name": "stdout",
     "output_type": "stream",
     "text": [
      "Sample token ids:\n",
      "[2496, 2361, 3307, 2339, 4923, 3131, 1221, 4638, 4636, 674, 1036, 4997, 2768, 7270, 6629, 3341, 8024, 4906, 3136, 1069, 1744, 5917, 4197, 2768, 7599, 3198, 8024, 791, 1921, 3300, 3119, 5966, 817, 966, 4638, 741, 872, 3766, 743, 8024, 3209, 3189, 2218, 1373, 872, 2637, 679, 2496, 1159, 8013, 0.0, 0.0, 0.0, 0.0, 0.0, 0.0, 0.0, 0.0, 0.0, 0.0, 0.0, 0.0, 0.0, 0.0, 0.0, 0.0, 0.0, 0.0, 0.0, 0.0, 0.0, 0.0, 0.0, 0.0, 0.0, 0.0, 0.0, 0.0, 0.0, 0.0, 0.0, 0.0, 0.0, 0.0, 0.0, 0.0, 0.0, 0.0, 0.0, 0.0, 0.0, 0.0, 0.0, 0.0, 0.0, 0.0, 0.0, 0.0, 0.0, 0.0, 0.0, 0.0, 0.0, 0.0, 0.0, 0.0, 0.0, 0.0, 0.0, 0.0, 0.0, 0.0, 0.0, 0.0, 0.0, 0.0, 0.0, 0.0, 0.0, 0.0, 0.0, 0.0, 0.0, 0.0, 0.0, 0.0, 0.0, 0.0, 0.0, 0.0, 0.0, 0.0, 0.0, 0.0, 0.0, 0.0, 0.0, 0.0, 0.0, 0.0, 0.0, 0.0, 0.0, 0.0, 0.0, 0.0, 0.0, 0.0, 0.0, 0.0, 0.0, 0.0, 0.0, 0.0, 0.0, 0.0, 0.0, 0.0, 0.0, 0.0, 0.0, 0.0, 0.0, 0.0, 0.0, 0.0, 0.0, 0.0, 0.0, 0.0, 0.0, 0.0, 0.0, 0.0, 0.0, 0.0, 0.0, 0.0, 0.0, 0.0, 0.0, 0.0, 0.0, 0.0, 0.0, 0.0, 0.0, 0.0, 0.0, 0.0, 0.0, 0.0, 0.0, 0.0, 0.0, 0.0, 0.0, 0.0, 0.0, 0.0]\n",
      "\n",
      "Sample attention mask:\n",
      "[1.0, 1.0, 1.0, 1.0, 1.0, 1.0, 1.0, 1.0, 1.0, 1.0, 1.0, 1.0, 1.0, 1.0, 1.0, 1.0, 1.0, 1.0, 1.0, 1.0, 1.0, 1.0, 1.0, 1.0, 1.0, 1.0, 1.0, 1.0, 1.0, 1.0, 1.0, 1.0, 1.0, 1.0, 1.0, 1.0, 1.0, 1.0, 1.0, 1.0, 1.0, 1.0, 1.0, 1.0, 1.0, 1.0, 1.0, 1.0, 1.0, 1.0, 0.0, 0.0, 0.0, 0.0, 0.0, 0.0, 0.0, 0.0, 0.0, 0.0, 0.0, 0.0, 0.0, 0.0, 0.0, 0.0, 0.0, 0.0, 0.0, 0.0, 0.0, 0.0, 0.0, 0.0, 0.0, 0.0, 0.0, 0.0, 0.0, 0.0, 0.0, 0.0, 0.0, 0.0, 0.0, 0.0, 0.0, 0.0, 0.0, 0.0, 0.0, 0.0, 0.0, 0.0, 0.0, 0.0, 0.0, 0.0, 0.0, 0.0, 0.0, 0.0, 0.0, 0.0, 0.0, 0.0, 0.0, 0.0, 0.0, 0.0, 0.0, 0.0, 0.0, 0.0, 0.0, 0.0, 0.0, 0.0, 0.0, 0.0, 0.0, 0.0, 0.0, 0.0, 0.0, 0.0, 0.0, 0.0, 0.0, 0.0, 0.0, 0.0, 0.0, 0.0, 0.0, 0.0, 0.0, 0.0, 0.0, 0.0, 0.0, 0.0, 0.0, 0.0, 0.0, 0.0, 0.0, 0.0, 0.0, 0.0, 0.0, 0.0, 0.0, 0.0, 0.0, 0.0, 0.0, 0.0, 0.0, 0.0, 0.0, 0.0, 0.0, 0.0, 0.0, 0.0, 0.0, 0.0, 0.0, 0.0, 0.0, 0.0, 0.0, 0.0, 0.0, 0.0, 0.0, 0.0, 0.0, 0.0, 0.0, 0.0, 0.0, 0.0, 0.0, 0.0, 0.0, 0.0, 0.0, 0.0, 0.0, 0.0, 0.0, 0.0, 0.0, 0.0, 0.0, 0.0, 0.0, 0.0]\n",
      "\n",
      "Sample trailing token mask:\n",
      "[True, True, True, True, True, True, True, True, True, True, True, True, True, True, True, True, True, True, True, True, True, True, True, True, True, True, True, True, True, True, True, True, True, True, True, True, True, True, True, True, True, True, True, True, True, True, True, True, True, True, True, True, True, True, True, True, True, True, True, True, True, True, True, True, True, True, True, True, True, True, True, True, True, True, True, True, True, True, True, True, True, True, True, True, True, True, True, True, True, True, True, True, True, True, True, True, True, True, True, True, True, True, True, True, True, True, True, True, True, True, True, True, True, True, True, True, True, True, True, True, True, True, True, True, True, True, True, True, True, True, True, True, True, True, True, True, True, True, True, True, True, True, True, True, True, True, True, True, True, True, True, True, True, True, True, True, True, True, True, True, True, True, True, True, True, True, True, True, True, True, True, True, True, True, True, True, True, True, True, True, True, True, True, True, True, True, True, True, True, True, True, True, True, True, True, True, True, True, True, True]\n",
      "\n",
      "Sample label ids:\n",
      "[0, 0, 0, 0, 0, 0, 0, 0, 0, 0, 0, 0, 0, 0, 0, 0, 0, 0, 0, 0, 0, 0, 0, 0, 0, 0, 0, 0, 0, 0, 0, 0, 0, 0, 0, 0, 0, 0, 0, 0, 0, 0, 0, 0, 0, 0, 0, 0, 0, 0, 0, 0, 0, 0, 0, 0, 0, 0, 0, 0, 0, 0, 0, 0, 0, 0, 0, 0, 0, 0, 0, 0, 0, 0, 0, 0, 0, 0, 0, 0, 0, 0, 0, 0, 0, 0, 0, 0, 0, 0, 0, 0, 0, 0, 0, 0, 0, 0, 0, 0, 0, 0, 0, 0, 0, 0, 0, 0, 0, 0, 0, 0, 0, 0, 0, 0, 0, 0, 0, 0, 0, 0, 0, 0, 0, 0, 0, 0, 0, 0, 0, 0, 0, 0, 0, 0, 0, 0, 0, 0, 0, 0, 0, 0, 0, 0, 0, 0, 0, 0, 0, 0, 0, 0, 0, 0, 0, 0, 0, 0, 0, 0, 0, 0, 0, 0, 0, 0, 0, 0, 0, 0, 0, 0, 0, 0, 0, 0, 0, 0, 0, 0, 0, 0, 0, 0, 0, 0, 0, 0, 0, 0, 0, 0, 0, 0, 0, 0, 0, 0]\n",
      "\n"
     ]
    }
   ],
   "source": [
    "print((\"Sample token ids:\\n{}\\n\".format(train_token_ids[0])))\n",
    "print(\"Sample attention mask:\\n{}\\n\".format(train_input_mask[0]))\n",
    "print(\"Sample trailing token mask:\\n{}\\n\".format(train_trailing_token_mask[0]))\n",
    "print(\"Sample label ids:\\n{}\\n\".format(train_label_ids[0]))"
   ]
  },
  {
   "cell_type": "markdown",
   "metadata": {},
   "source": [
    "## Create Token Classifier\n",
    "The value of the `language` argument determines which BERT model is used:\n",
    "* Language.ENGLISH: \"bert-base-uncased\"\n",
    "* Language.ENGLISHCASED: \"bert-base-cased\"\n",
    "* Language.ENGLISHLARGE: \"bert-large-uncased\"\n",
    "* Language.ENGLISHLARGECASED: \"bert-large-cased\"\n",
    "* Language.CHINESE: \"bert-base-chinese\"\n",
    "* Language.MULTILINGUAL: \"bert-base-multilingual-cased\"\n",
    "\n",
    "Here we use the base model pre-trained only on Chinese data."
   ]
  },
  {
   "cell_type": "code",
   "execution_count": 9,
   "metadata": {
    "scrolled": false
   },
   "outputs": [],
   "source": [
    "token_classifier = BERTTokenClassifier(language=LANGUAGE,\n",
    "                                       num_labels=len(label_map),\n",
    "                                       cache_dir=CACHE_DIR)"
   ]
  },
  {
   "cell_type": "markdown",
   "metadata": {},
   "source": [
    "## Train Model"
   ]
  },
  {
   "cell_type": "code",
   "execution_count": 10,
   "metadata": {
    "scrolled": true
   },
   "outputs": [
    {
     "name": "stderr",
     "output_type": "stream",
     "text": [
      "t_total value of -1 results in schedule not being applied\n",
      "Epoch:   0%|          | 0/1 [00:00<?, ?it/s]\n",
      "Iteration:   0%|          | 0/2813 [00:00<?, ?it/s]\u001b[A"
     ]
    },
    {
     "name": "stdout",
     "output_type": "stream",
     "text": [
      "Warning: Only 1 CUDA device is available. Data parallelism is not possible.\n"
     ]
    },
    {
     "name": "stderr",
     "output_type": "stream",
     "text": [
      "\n",
      "Iteration:   1%|          | 24/2813 [00:30<59:29,  1.28s/it]\u001b[A\n",
      "Iteration:   1%|          | 24/2813 [00:49<59:29,  1.28s/it]\u001b[A\n",
      "Iteration:   2%|▏         | 48/2813 [01:00<58:40,  1.27s/it]\u001b[A\n",
      "Iteration:   2%|▏         | 48/2813 [01:20<58:40,  1.27s/it]\u001b[A\n",
      "Iteration:   3%|▎         | 72/2813 [01:31<58:02,  1.27s/it]\u001b[A\n",
      "Iteration:   3%|▎         | 72/2813 [01:50<58:02,  1.27s/it]\u001b[A\n",
      "Iteration:   3%|▎         | 96/2813 [02:01<57:33,  1.27s/it]\u001b[A\n",
      "Iteration:   3%|▎         | 96/2813 [02:20<57:33,  1.27s/it]\u001b[A\n",
      "Iteration:   4%|▍         | 120/2813 [02:32<57:05,  1.27s/it]\u001b[A\n",
      "Iteration:   4%|▍         | 120/2813 [02:50<57:05,  1.27s/it]\u001b[A\n",
      "Iteration:   5%|▌         | 144/2813 [03:03<56:39,  1.27s/it]\u001b[A\n",
      "Iteration:   5%|▌         | 144/2813 [03:20<56:39,  1.27s/it]\u001b[A\n",
      "Iteration:   6%|▌         | 168/2813 [03:33<56:16,  1.28s/it]\u001b[A\n",
      "Iteration:   6%|▌         | 168/2813 [03:50<56:16,  1.28s/it]\u001b[A\n",
      "Iteration:   7%|▋         | 192/2813 [04:04<55:52,  1.28s/it]\u001b[A\n",
      "Iteration:   7%|▋         | 192/2813 [04:20<55:52,  1.28s/it]\u001b[A\n",
      "Iteration:   8%|▊         | 216/2813 [04:35<55:26,  1.28s/it]\u001b[A\n",
      "Iteration:   8%|▊         | 216/2813 [04:50<55:26,  1.28s/it]\u001b[A\n",
      "Iteration:   9%|▊         | 240/2813 [05:06<55:01,  1.28s/it]\u001b[A\n",
      "Iteration:   9%|▊         | 240/2813 [05:20<55:01,  1.28s/it]\u001b[A\n",
      "Iteration:   9%|▉         | 264/2813 [05:37<54:35,  1.28s/it]\u001b[A\n",
      "Iteration:   9%|▉         | 264/2813 [05:50<54:35,  1.28s/it]\u001b[A\n",
      "Iteration:  10%|█         | 288/2813 [06:08<54:08,  1.29s/it]\u001b[A\n",
      "Iteration:  10%|█         | 288/2813 [06:20<54:08,  1.29s/it]\u001b[A\n",
      "Iteration:  11%|█         | 312/2813 [06:39<53:41,  1.29s/it]\u001b[A\n",
      "Iteration:  11%|█         | 312/2813 [06:50<53:41,  1.29s/it]\u001b[A\n",
      "Iteration:  12%|█▏        | 336/2813 [07:10<53:13,  1.29s/it]\u001b[A\n",
      "Iteration:  12%|█▏        | 336/2813 [07:30<53:13,  1.29s/it]\u001b[A\n",
      "Iteration:  13%|█▎        | 360/2813 [07:41<52:44,  1.29s/it]\u001b[A\n",
      "Iteration:  13%|█▎        | 360/2813 [08:00<52:44,  1.29s/it]\u001b[A\n",
      "Iteration:  14%|█▎        | 384/2813 [08:12<52:15,  1.29s/it]\u001b[A\n",
      "Iteration:  14%|█▎        | 384/2813 [08:30<52:15,  1.29s/it]\u001b[A\n",
      "Iteration:  15%|█▍        | 408/2813 [08:43<51:45,  1.29s/it]\u001b[A\n",
      "Iteration:  15%|█▍        | 408/2813 [09:00<51:45,  1.29s/it]\u001b[A\n",
      "Iteration:  15%|█▌        | 432/2813 [09:14<51:16,  1.29s/it]\u001b[A\n",
      "Iteration:  15%|█▌        | 432/2813 [09:30<51:16,  1.29s/it]\u001b[A\n",
      "Iteration:  16%|█▌        | 456/2813 [09:45<50:46,  1.29s/it]\u001b[A\n",
      "Iteration:  16%|█▌        | 456/2813 [10:00<50:46,  1.29s/it]\u001b[A\n",
      "Iteration:  17%|█▋        | 480/2813 [10:16<50:14,  1.29s/it]\u001b[A\n",
      "Iteration:  17%|█▋        | 480/2813 [10:30<50:14,  1.29s/it]\u001b[A\n",
      "Iteration:  18%|█▊        | 504/2813 [10:47<49:43,  1.29s/it]\u001b[A\n",
      "Iteration:  18%|█▊        | 504/2813 [11:00<49:43,  1.29s/it]\u001b[A\n",
      "Iteration:  19%|█▉        | 528/2813 [11:18<49:10,  1.29s/it]\u001b[A\n",
      "Iteration:  19%|█▉        | 528/2813 [11:30<49:10,  1.29s/it]\u001b[A\n",
      "Iteration:  20%|█▉        | 552/2813 [11:49<48:40,  1.29s/it]\u001b[A\n",
      "Iteration:  20%|█▉        | 552/2813 [12:00<48:40,  1.29s/it]\u001b[A\n",
      "Iteration:  20%|██        | 576/2813 [12:20<48:08,  1.29s/it]\u001b[A\n",
      "Iteration:  20%|██        | 576/2813 [12:40<48:08,  1.29s/it]\u001b[A\n",
      "Iteration:  21%|██▏       | 600/2813 [12:51<47:37,  1.29s/it]\u001b[A\n",
      "Iteration:  21%|██▏       | 600/2813 [13:10<47:37,  1.29s/it]\u001b[A\n",
      "Iteration:  22%|██▏       | 624/2813 [13:22<47:05,  1.29s/it]\u001b[A\n",
      "Iteration:  22%|██▏       | 624/2813 [13:40<47:05,  1.29s/it]\u001b[A\n",
      "Iteration:  23%|██▎       | 648/2813 [13:53<46:33,  1.29s/it]\u001b[A\n",
      "Iteration:  23%|██▎       | 648/2813 [14:10<46:33,  1.29s/it]\u001b[A\n",
      "Iteration:  24%|██▍       | 672/2813 [14:24<46:02,  1.29s/it]\u001b[A\n",
      "Iteration:  24%|██▍       | 672/2813 [14:40<46:02,  1.29s/it]\u001b[A\n",
      "Iteration:  25%|██▍       | 696/2813 [14:55<45:33,  1.29s/it]\u001b[A\n",
      "Iteration:  25%|██▍       | 696/2813 [15:10<45:33,  1.29s/it]\u001b[A\n",
      "Iteration:  26%|██▌       | 720/2813 [15:26<45:00,  1.29s/it]\u001b[A\n",
      "Iteration:  26%|██▌       | 720/2813 [15:40<45:00,  1.29s/it]\u001b[A\n",
      "Iteration:  26%|██▋       | 744/2813 [15:57<44:28,  1.29s/it]\u001b[A\n",
      "Iteration:  26%|██▋       | 744/2813 [16:10<44:28,  1.29s/it]\u001b[A\n",
      "Iteration:  27%|██▋       | 768/2813 [16:28<43:58,  1.29s/it]\u001b[A\n",
      "Iteration:  27%|██▋       | 768/2813 [16:40<43:58,  1.29s/it]\u001b[A\n",
      "Iteration:  28%|██▊       | 792/2813 [16:59<43:28,  1.29s/it]\u001b[A\n",
      "Iteration:  28%|██▊       | 792/2813 [17:10<43:28,  1.29s/it]\u001b[A\n",
      "Iteration:  29%|██▉       | 816/2813 [17:30<42:58,  1.29s/it]\u001b[A\n",
      "Iteration:  29%|██▉       | 816/2813 [17:50<42:58,  1.29s/it]\u001b[A\n",
      "Iteration:  30%|██▉       | 840/2813 [18:01<42:24,  1.29s/it]\u001b[A\n",
      "Iteration:  30%|██▉       | 840/2813 [18:20<42:24,  1.29s/it]\u001b[A\n",
      "Iteration:  31%|███       | 864/2813 [18:31<41:53,  1.29s/it]\u001b[A\n",
      "Iteration:  31%|███       | 864/2813 [18:50<41:53,  1.29s/it]\u001b[A\n",
      "Iteration:  32%|███▏      | 888/2813 [19:02<41:20,  1.29s/it]\u001b[A\n",
      "Iteration:  32%|███▏      | 888/2813 [19:20<41:20,  1.29s/it]\u001b[A\n",
      "Iteration:  32%|███▏      | 912/2813 [19:33<40:48,  1.29s/it]\u001b[A\n",
      "Iteration:  32%|███▏      | 912/2813 [19:50<40:48,  1.29s/it]\u001b[A\n",
      "Iteration:  33%|███▎      | 936/2813 [20:04<40:16,  1.29s/it]\u001b[A\n",
      "Iteration:  33%|███▎      | 936/2813 [20:20<40:16,  1.29s/it]\u001b[A\n",
      "Iteration:  34%|███▍      | 960/2813 [20:35<39:46,  1.29s/it]\u001b[A\n",
      "Iteration:  34%|███▍      | 960/2813 [20:50<39:46,  1.29s/it]\u001b[A\n",
      "Iteration:  35%|███▍      | 984/2813 [21:06<39:16,  1.29s/it]\u001b[A\n",
      "Iteration:  35%|███▍      | 984/2813 [21:20<39:16,  1.29s/it]\u001b[A\n",
      "Iteration:  36%|███▌      | 1008/2813 [21:37<38:44,  1.29s/it]\u001b[A\n",
      "Iteration:  36%|███▌      | 1008/2813 [21:50<38:44,  1.29s/it]\u001b[A\n",
      "Iteration:  37%|███▋      | 1032/2813 [22:08<38:13,  1.29s/it]\u001b[A\n",
      "Iteration:  37%|███▋      | 1032/2813 [22:20<38:13,  1.29s/it]\u001b[A\n",
      "Iteration:  38%|███▊      | 1056/2813 [22:39<37:42,  1.29s/it]\u001b[A\n",
      "Iteration:  38%|███▊      | 1056/2813 [22:50<37:42,  1.29s/it]\u001b[A\n",
      "Iteration:  38%|███▊      | 1080/2813 [23:10<37:11,  1.29s/it]\u001b[A\n",
      "Iteration:  38%|███▊      | 1080/2813 [23:20<37:11,  1.29s/it]\u001b[A\n",
      "Iteration:  39%|███▉      | 1104/2813 [23:40<36:41,  1.29s/it]\u001b[A\n",
      "Iteration:  39%|███▉      | 1104/2813 [24:00<36:41,  1.29s/it]\u001b[A\n",
      "Iteration:  40%|████      | 1128/2813 [24:11<36:11,  1.29s/it]\u001b[A\n",
      "Iteration:  40%|████      | 1128/2813 [24:30<36:11,  1.29s/it]\u001b[A\n",
      "Iteration:  41%|████      | 1152/2813 [24:42<35:40,  1.29s/it]\u001b[A\n",
      "Iteration:  41%|████      | 1152/2813 [25:00<35:40,  1.29s/it]\u001b[A\n",
      "Iteration:  42%|████▏     | 1176/2813 [25:13<35:09,  1.29s/it]\u001b[A\n",
      "Iteration:  42%|████▏     | 1176/2813 [25:30<35:09,  1.29s/it]\u001b[A\n",
      "Iteration:  43%|████▎     | 1200/2813 [25:44<34:39,  1.29s/it]\u001b[A\n",
      "Iteration:  43%|████▎     | 1200/2813 [26:00<34:39,  1.29s/it]\u001b[A\n",
      "Iteration:  44%|████▎     | 1224/2813 [26:15<34:08,  1.29s/it]\u001b[A\n",
      "Iteration:  44%|████▎     | 1224/2813 [26:30<34:08,  1.29s/it]\u001b[A\n",
      "Iteration:  44%|████▍     | 1248/2813 [26:46<33:37,  1.29s/it]\u001b[A\n",
      "Iteration:  44%|████▍     | 1248/2813 [27:00<33:37,  1.29s/it]\u001b[A\n",
      "Iteration:  45%|████▌     | 1272/2813 [27:17<33:07,  1.29s/it]\u001b[A\n",
      "Iteration:  45%|████▌     | 1272/2813 [27:30<33:07,  1.29s/it]\u001b[A\n",
      "Iteration:  46%|████▌     | 1296/2813 [27:48<32:36,  1.29s/it]\u001b[A\n",
      "Iteration:  46%|████▌     | 1296/2813 [28:00<32:36,  1.29s/it]\u001b[A\n",
      "Iteration:  47%|████▋     | 1320/2813 [28:19<32:06,  1.29s/it]\u001b[A\n",
      "Iteration:  47%|████▋     | 1320/2813 [28:30<32:06,  1.29s/it]\u001b[A\n",
      "Iteration:  48%|████▊     | 1344/2813 [28:50<31:34,  1.29s/it]\u001b[A\n",
      "Iteration:  48%|████▊     | 1344/2813 [29:10<31:34,  1.29s/it]\u001b[A\n",
      "Iteration:  49%|████▊     | 1368/2813 [29:21<31:02,  1.29s/it]\u001b[A\n",
      "Iteration:  49%|████▊     | 1368/2813 [29:40<31:02,  1.29s/it]\u001b[A\n",
      "Iteration:  49%|████▉     | 1392/2813 [29:52<30:31,  1.29s/it]\u001b[A\n",
      "Iteration:  49%|████▉     | 1392/2813 [30:10<30:31,  1.29s/it]\u001b[A\n",
      "Iteration:  50%|█████     | 1416/2813 [30:23<30:00,  1.29s/it]\u001b[A\n",
      "Iteration:  50%|█████     | 1416/2813 [30:40<30:00,  1.29s/it]\u001b[A\n",
      "Iteration:  51%|█████     | 1440/2813 [30:54<29:29,  1.29s/it]\u001b[A\n",
      "Iteration:  51%|█████     | 1440/2813 [31:10<29:29,  1.29s/it]\u001b[A\n",
      "Iteration:  52%|█████▏    | 1464/2813 [31:25<28:58,  1.29s/it]\u001b[A\n",
      "Iteration:  52%|█████▏    | 1464/2813 [31:40<28:58,  1.29s/it]\u001b[A\n",
      "Iteration:  53%|█████▎    | 1488/2813 [31:55<28:27,  1.29s/it]\u001b[A\n",
      "Iteration:  53%|█████▎    | 1488/2813 [32:10<28:27,  1.29s/it]\u001b[A\n",
      "Iteration:  54%|█████▍    | 1512/2813 [32:26<27:55,  1.29s/it]\u001b[A\n"
     ]
    },
    {
     "name": "stderr",
     "output_type": "stream",
     "text": [
      "Iteration:  54%|█████▍    | 1512/2813 [32:40<27:55,  1.29s/it]\u001b[A\n",
      "Iteration:  55%|█████▍    | 1536/2813 [32:57<27:23,  1.29s/it]\u001b[A\n",
      "Iteration:  55%|█████▍    | 1536/2813 [33:10<27:23,  1.29s/it]\u001b[A\n",
      "Iteration:  55%|█████▌    | 1560/2813 [33:28<26:53,  1.29s/it]\u001b[A\n",
      "Iteration:  55%|█████▌    | 1560/2813 [33:40<26:53,  1.29s/it]\u001b[A\n",
      "Iteration:  56%|█████▋    | 1584/2813 [33:59<26:22,  1.29s/it]\u001b[A\n",
      "Iteration:  56%|█████▋    | 1584/2813 [34:10<26:22,  1.29s/it]\u001b[A\n",
      "Iteration:  57%|█████▋    | 1608/2813 [34:30<25:51,  1.29s/it]\u001b[A\n",
      "Iteration:  57%|█████▋    | 1608/2813 [34:50<25:51,  1.29s/it]\u001b[A\n",
      "Iteration:  58%|█████▊    | 1632/2813 [35:01<25:20,  1.29s/it]\u001b[A\n",
      "Iteration:  58%|█████▊    | 1632/2813 [35:20<25:20,  1.29s/it]\u001b[A\n",
      "Iteration:  59%|█████▉    | 1656/2813 [35:32<24:49,  1.29s/it]\u001b[A\n",
      "Iteration:  59%|█████▉    | 1656/2813 [35:50<24:49,  1.29s/it]\u001b[A\n",
      "Iteration:  60%|█████▉    | 1680/2813 [36:03<24:18,  1.29s/it]\u001b[A\n",
      "Iteration:  60%|█████▉    | 1680/2813 [36:20<24:18,  1.29s/it]\u001b[A\n",
      "Iteration:  61%|██████    | 1704/2813 [36:33<23:46,  1.29s/it]\u001b[A\n",
      "Iteration:  61%|██████    | 1704/2813 [36:50<23:46,  1.29s/it]\u001b[A\n",
      "Iteration:  61%|██████▏   | 1728/2813 [37:04<23:17,  1.29s/it]\u001b[A\n",
      "Iteration:  61%|██████▏   | 1728/2813 [37:20<23:17,  1.29s/it]\u001b[A\n",
      "Iteration:  62%|██████▏   | 1752/2813 [37:35<22:45,  1.29s/it]\u001b[A\n",
      "Iteration:  62%|██████▏   | 1752/2813 [37:50<22:45,  1.29s/it]\u001b[A\n",
      "Iteration:  63%|██████▎   | 1776/2813 [38:06<22:14,  1.29s/it]\u001b[A\n",
      "Iteration:  63%|██████▎   | 1776/2813 [38:20<22:14,  1.29s/it]\u001b[A\n",
      "Iteration:  64%|██████▍   | 1800/2813 [38:37<21:44,  1.29s/it]\u001b[A\n",
      "Iteration:  64%|██████▍   | 1800/2813 [38:50<21:44,  1.29s/it]\u001b[A\n",
      "Iteration:  65%|██████▍   | 1824/2813 [39:08<21:12,  1.29s/it]\u001b[A\n",
      "Iteration:  65%|██████▍   | 1824/2813 [39:20<21:12,  1.29s/it]\u001b[A\n",
      "Iteration:  66%|██████▌   | 1848/2813 [39:39<20:42,  1.29s/it]\u001b[A\n",
      "Iteration:  66%|██████▌   | 1848/2813 [39:50<20:42,  1.29s/it]\u001b[A\n",
      "Iteration:  67%|██████▋   | 1872/2813 [40:10<20:11,  1.29s/it]\u001b[A\n",
      "Iteration:  67%|██████▋   | 1872/2813 [40:30<20:11,  1.29s/it]\u001b[A\n",
      "Iteration:  67%|██████▋   | 1896/2813 [40:41<19:40,  1.29s/it]\u001b[A\n",
      "Iteration:  67%|██████▋   | 1896/2813 [41:00<19:40,  1.29s/it]\u001b[A\n",
      "Iteration:  68%|██████▊   | 1920/2813 [41:12<19:09,  1.29s/it]\u001b[A\n",
      "Iteration:  68%|██████▊   | 1920/2813 [41:30<19:09,  1.29s/it]\u001b[A\n",
      "Iteration:  69%|██████▉   | 1944/2813 [41:42<18:38,  1.29s/it]\u001b[A\n",
      "Iteration:  69%|██████▉   | 1944/2813 [42:00<18:38,  1.29s/it]\u001b[A\n",
      "Iteration:  70%|██████▉   | 1968/2813 [42:13<18:07,  1.29s/it]\u001b[A\n",
      "Iteration:  70%|██████▉   | 1968/2813 [42:30<18:07,  1.29s/it]\u001b[A\n",
      "Iteration:  71%|███████   | 1992/2813 [42:44<17:37,  1.29s/it]\u001b[A\n",
      "Iteration:  71%|███████   | 1992/2813 [43:00<17:37,  1.29s/it]\u001b[A\n",
      "Iteration:  72%|███████▏  | 2016/2813 [43:15<17:06,  1.29s/it]\u001b[A\n",
      "Iteration:  72%|███████▏  | 2016/2813 [43:30<17:06,  1.29s/it]\u001b[A\n",
      "Iteration:  73%|███████▎  | 2040/2813 [43:46<16:36,  1.29s/it]\u001b[A\n",
      "Iteration:  73%|███████▎  | 2040/2813 [44:00<16:36,  1.29s/it]\u001b[A\n",
      "Iteration:  73%|███████▎  | 2064/2813 [44:17<16:04,  1.29s/it]\u001b[A\n",
      "Iteration:  73%|███████▎  | 2064/2813 [44:30<16:04,  1.29s/it]\u001b[A\n",
      "Iteration:  74%|███████▍  | 2088/2813 [44:48<15:33,  1.29s/it]\u001b[A\n",
      "Iteration:  74%|███████▍  | 2088/2813 [45:00<15:33,  1.29s/it]\u001b[A\n",
      "Iteration:  75%|███████▌  | 2112/2813 [45:19<15:01,  1.29s/it]\u001b[A\n",
      "Iteration:  75%|███████▌  | 2112/2813 [45:30<15:01,  1.29s/it]\u001b[A\n",
      "Iteration:  76%|███████▌  | 2136/2813 [45:50<14:31,  1.29s/it]\u001b[A\n",
      "Iteration:  76%|███████▌  | 2136/2813 [46:10<14:31,  1.29s/it]\u001b[A\n",
      "Iteration:  77%|███████▋  | 2160/2813 [46:21<14:00,  1.29s/it]\u001b[A\n",
      "Iteration:  77%|███████▋  | 2160/2813 [46:40<14:00,  1.29s/it]\u001b[A\n",
      "Iteration:  78%|███████▊  | 2184/2813 [46:52<13:30,  1.29s/it]\u001b[A\n",
      "Iteration:  78%|███████▊  | 2184/2813 [47:10<13:30,  1.29s/it]\u001b[A\n",
      "Iteration:  78%|███████▊  | 2208/2813 [47:22<12:59,  1.29s/it]\u001b[A\n",
      "Iteration:  78%|███████▊  | 2208/2813 [47:40<12:59,  1.29s/it]\u001b[A\n",
      "Iteration:  79%|███████▉  | 2232/2813 [47:53<12:28,  1.29s/it]\u001b[A\n",
      "Iteration:  79%|███████▉  | 2232/2813 [48:10<12:28,  1.29s/it]\u001b[A\n",
      "Iteration:  80%|████████  | 2256/2813 [48:24<11:57,  1.29s/it]\u001b[A\n",
      "Iteration:  80%|████████  | 2256/2813 [48:40<11:57,  1.29s/it]\u001b[A\n",
      "Iteration:  81%|████████  | 2280/2813 [48:55<11:26,  1.29s/it]\u001b[A\n",
      "Iteration:  81%|████████  | 2280/2813 [49:10<11:26,  1.29s/it]\u001b[A\n",
      "Iteration:  82%|████████▏ | 2304/2813 [49:26<10:55,  1.29s/it]\u001b[A\n",
      "Iteration:  82%|████████▏ | 2304/2813 [49:40<10:55,  1.29s/it]\u001b[A\n",
      "Iteration:  83%|████████▎ | 2328/2813 [49:57<10:24,  1.29s/it]\u001b[A\n",
      "Iteration:  83%|████████▎ | 2328/2813 [50:10<10:24,  1.29s/it]\u001b[A\n",
      "Iteration:  84%|████████▎ | 2352/2813 [50:28<09:53,  1.29s/it]\u001b[A\n",
      "Iteration:  84%|████████▎ | 2352/2813 [50:40<09:53,  1.29s/it]\u001b[A\n",
      "Iteration:  84%|████████▍ | 2376/2813 [50:59<09:22,  1.29s/it]\u001b[A\n",
      "Iteration:  84%|████████▍ | 2376/2813 [51:10<09:22,  1.29s/it]\u001b[A\n",
      "Iteration:  85%|████████▌ | 2400/2813 [51:30<08:51,  1.29s/it]\u001b[A\n",
      "Iteration:  85%|████████▌ | 2400/2813 [51:40<08:51,  1.29s/it]\u001b[A\n",
      "Iteration:  86%|████████▌ | 2424/2813 [52:01<08:20,  1.29s/it]\u001b[A\n",
      "Iteration:  86%|████████▌ | 2424/2813 [52:20<08:20,  1.29s/it]\u001b[A\n",
      "Iteration:  87%|████████▋ | 2448/2813 [52:32<07:50,  1.29s/it]\u001b[A\n",
      "Iteration:  87%|████████▋ | 2448/2813 [52:50<07:50,  1.29s/it]\u001b[A\n",
      "Iteration:  88%|████████▊ | 2472/2813 [53:02<07:19,  1.29s/it]\u001b[A\n",
      "Iteration:  88%|████████▊ | 2472/2813 [53:20<07:19,  1.29s/it]\u001b[A\n",
      "Iteration:  89%|████████▊ | 2496/2813 [53:33<06:48,  1.29s/it]\u001b[A\n",
      "Iteration:  89%|████████▊ | 2496/2813 [53:50<06:48,  1.29s/it]\u001b[A\n",
      "Iteration:  90%|████████▉ | 2520/2813 [54:04<06:17,  1.29s/it]\u001b[A\n",
      "Iteration:  90%|████████▉ | 2520/2813 [54:20<06:17,  1.29s/it]\u001b[A\n",
      "Iteration:  90%|█████████ | 2544/2813 [54:35<05:46,  1.29s/it]\u001b[A\n",
      "Iteration:  90%|█████████ | 2544/2813 [54:50<05:46,  1.29s/it]\u001b[A\n",
      "Iteration:  91%|█████████▏| 2568/2813 [55:06<05:15,  1.29s/it]\u001b[A\n",
      "Iteration:  91%|█████████▏| 2568/2813 [55:20<05:15,  1.29s/it]\u001b[A\n",
      "Iteration:  92%|█████████▏| 2592/2813 [55:37<04:44,  1.29s/it]\u001b[A\n",
      "Iteration:  92%|█████████▏| 2592/2813 [55:50<04:44,  1.29s/it]\u001b[A\n",
      "Iteration:  93%|█████████▎| 2616/2813 [56:08<04:13,  1.29s/it]\u001b[A\n",
      "Iteration:  93%|█████████▎| 2616/2813 [56:20<04:13,  1.29s/it]\u001b[A\n",
      "Iteration:  94%|█████████▍| 2640/2813 [56:39<03:42,  1.29s/it]\u001b[A\n",
      "Iteration:  94%|█████████▍| 2640/2813 [56:50<03:42,  1.29s/it]\u001b[A\n",
      "Iteration:  95%|█████████▍| 2664/2813 [57:10<03:12,  1.29s/it]\u001b[A\n",
      "Iteration:  95%|█████████▍| 2664/2813 [57:30<03:12,  1.29s/it]\u001b[A\n",
      "Iteration:  96%|█████████▌| 2688/2813 [57:41<02:41,  1.29s/it]\u001b[A\n",
      "Iteration:  96%|█████████▌| 2688/2813 [58:00<02:41,  1.29s/it]\u001b[A\n",
      "Iteration:  96%|█████████▋| 2712/2813 [58:12<02:10,  1.29s/it]\u001b[A\n",
      "Iteration:  96%|█████████▋| 2712/2813 [58:30<02:10,  1.29s/it]\u001b[A\n",
      "Iteration:  97%|█████████▋| 2736/2813 [58:43<01:39,  1.29s/it]\u001b[A\n",
      "Iteration:  97%|█████████▋| 2736/2813 [59:00<01:39,  1.29s/it]\u001b[A\n",
      "Iteration:  98%|█████████▊| 2760/2813 [59:14<01:08,  1.29s/it]\u001b[A\n",
      "Iteration:  98%|█████████▊| 2760/2813 [59:30<01:08,  1.29s/it]\u001b[A\n",
      "Iteration:  99%|█████████▉| 2784/2813 [59:45<00:37,  1.29s/it]\u001b[A\n",
      "Iteration:  99%|█████████▉| 2784/2813 [1:00:00<00:37,  1.29s/it]\u001b[A\n",
      "Iteration: 100%|█████████▉| 2808/2813 [1:00:15<00:06,  1.29s/it]\u001b[A\n",
      "Epoch: 100%|██████████| 1/1 [1:00:22<00:00, 3622.32s/it].29s/it]\u001b[A"
     ]
    },
    {
     "name": "stdout",
     "output_type": "stream",
     "text": [
      "Train loss: 0.07014742273803971\n"
     ]
    },
    {
     "name": "stderr",
     "output_type": "stream",
     "text": [
      "\n"
     ]
    }
   ],
   "source": [
    "token_classifier.fit(token_ids=train_token_ids, \n",
    "                     input_mask=train_input_mask, \n",
    "                     labels=train_label_ids,\n",
    "                     num_epochs=NUM_TRAIN_EPOCHS, \n",
    "                     batch_size=BATCH_SIZE, \n",
    "                     learning_rate=LEARNING_RATE)"
   ]
  },
  {
   "cell_type": "markdown",
   "metadata": {},
   "source": [
    "## Predict on Test Data\n",
    "The `predict` method of the token classifier optionally returns the softmax probability of the predicted class, which is a NxM array, where N is size of the testing data and M is the number of tokens in the testing sequence"
   ]
  },
  {
   "cell_type": "code",
   "execution_count": 11,
   "metadata": {
    "scrolled": false
   },
   "outputs": [
    {
     "name": "stderr",
     "output_type": "stream",
     "text": [
      "\r",
      "Iteration:   0%|          | 0/216 [00:00<?, ?it/s]"
     ]
    },
    {
     "name": "stdout",
     "output_type": "stream",
     "text": [
      "Warning: Only 1 CUDA device is available. Data parallelism is not possible.\n"
     ]
    },
    {
     "name": "stderr",
     "output_type": "stream",
     "text": [
      "Iteration: 100%|██████████| 216/216 [01:32<00:00,  2.34it/s]"
     ]
    },
    {
     "name": "stdout",
     "output_type": "stream",
     "text": [
      "Evaluation loss: 0.03504765126746389\n",
      "Sample predicted probabilities:\n",
      "[0.9922516  0.9720795  0.8725999  0.7776708  0.8586385  0.91872704\n",
      " 0.9996006  0.9998628  0.99951696 0.99942696 0.9973278  0.9959351\n",
      " 0.9978994  0.9984732  0.9971475  0.9968125  0.99599177 0.99230534\n",
      " 0.98520017 0.9921949  0.9941393  0.9965797  0.9982722  0.9959889\n",
      " 0.998398   0.9981147  0.9996132  0.99947053 0.9987999  0.9997645\n",
      " 0.9997558  0.9998029  0.9998293  0.99985814 0.9997954  0.9994717\n",
      " 0.9992329  0.9998041  0.99953985 0.99959916 0.9955279  0.98726255\n",
      " 0.9762349  0.97292095 0.9446313  0.9501264  0.94189286 0.9638973\n",
      " 0.9649065  0.98749185 0.99119383 0.99357057 0.99253017 0.9919087\n",
      " 0.9881097  0.9850428  0.9849273  0.9764776  0.9668529  0.9686475\n",
      " 0.96223867 0.9669822  0.98228574 0.9906934  0.99391055 0.99365366\n",
      " 0.9967108  0.99211806 0.9812552  0.98241097 0.9620526  0.98186976\n",
      " 0.98395514 0.98158413 0.9779302  0.95493126 0.9570392  0.9544368\n",
      " 0.96813667 0.9672687  0.9663258  0.9765286  0.98573685 0.9870762\n",
      " 0.9936091  0.9940317  0.99791735 0.99687296 0.9971859  0.9972082\n",
      " 0.9968747  0.997393   0.9962565  0.9978744  0.99607915 0.99727863\n",
      " 0.99870515 0.9978684  0.99538815 0.98852646 0.98247313 0.9764449\n",
      " 0.9818155  0.97462183 0.97708374 0.94641095 0.9839552  0.98784244\n",
      " 0.9943922  0.9969235  0.9922571  0.99347633 0.93547153 0.970549\n",
      " 0.983114   0.9714504  0.97813374 0.9756016  0.9756758  0.9844542\n",
      " 0.9544812  0.9531884  0.94890225 0.96054167 0.95855224 0.9649013\n",
      " 0.9686859  0.9646467  0.97077954 0.96501786 0.9858531  0.9879219\n",
      " 0.97912836 0.98094946 0.97730654 0.9665618  0.9449111  0.98184603\n",
      " 0.96909297 0.9828242  0.99211085 0.982251   0.98121053 0.9826109\n",
      " 0.96345145 0.96129507 0.94783396 0.9486903  0.9622593  0.9838395\n",
      " 0.9814006  0.9904428  0.9925829  0.9911281  0.9957289  0.99171066\n",
      " 0.99489754 0.98259616 0.99336535 0.9958482  0.99561536 0.9935796\n",
      " 0.99078524 0.99494463 0.99474686 0.99455655 0.9910732  0.99521387\n",
      " 0.988351   0.989589   0.98032206 0.9965029  0.9978023  0.9941559\n",
      " 0.9941354  0.9938877  0.99896574 0.9990275  0.9984664  0.9961593\n",
      " 0.9933113  0.97690433 0.97582495 0.9613233  0.93561184 0.96972376\n",
      " 0.9259933  0.96845776 0.9823611  0.9540374  0.9465987  0.9449947\n",
      " 0.95694584 0.9538518  0.9639879  0.96973366 0.9692007  0.9704836\n",
      " 0.97443515 0.97360295]\n",
      "\n",
      "Sample predicted labels:\n",
      "[0, 0, 0, 0, 0, 0, 0, 0, 1, 4, 0, 0, 0, 0, 0, 0, 0, 0, 0, 0, 0, 0, 0, 0, 0, 0, 0, 0, 0, 0, 0, 0, 0, 0, 0, 0, 0, 0, 0, 0, 0, 0, 0, 0, 0, 0, 0, 0, 0, 0, 0, 0, 0, 0, 0, 0, 0, 0, 0, 0, 0, 0, 0, 0, 0, 0, 0, 0, 0, 0, 0, 0, 0, 0, 0, 0, 0, 0, 0, 0, 0, 0, 0, 0, 0, 0, 0, 0, 0, 0, 0, 0, 0, 0, 0, 0, 0, 0, 0, 0, 0, 0, 0, 0, 0, 0, 0, 0, 0, 0, 0, 0, 0, 0, 0, 0, 0, 0, 0, 0, 0, 0, 0, 0, 0, 0, 0, 0, 0, 0, 0, 0, 0, 0, 0, 0, 0, 0, 0, 0, 0, 0, 0, 0, 0, 0, 0, 0, 0, 0, 0, 0, 0, 0, 0, 0, 0, 0, 0, 0, 0, 0, 0, 0, 0, 0, 0, 0, 0, 0, 0, 0, 0, 0, 0, 0, 0, 0, 0, 0, 0, 0, 0, 0, 0, 0, 0, 0, 0, 0, 0, 0, 0, 0, 0, 0, 0, 0, 0, 0]\n",
      "\n"
     ]
    },
    {
     "name": "stderr",
     "output_type": "stream",
     "text": [
      "\n"
     ]
    }
   ],
   "source": [
    "predictions = token_classifier.predict(token_ids=test_token_ids, \n",
    "                                       input_mask=test_input_mask, \n",
    "                                       labels=test_label_ids, \n",
    "                                       batch_size=BATCH_SIZE,\n",
    "                                       probabilities=True)\n",
    "probabilities = predictions.probabilities\n",
    "pred_label_ids = predictions.classes\n",
    "print(\"Sample predicted probabilities:\\n{}\\n\".format(probabilities[5]))\n",
    "print(\"Sample predicted labels:\\n{}\\n\".format(pred_label_ids[5]))"
   ]
  },
  {
   "cell_type": "markdown",
   "metadata": {},
   "source": [
    "## Evaluate Model\n",
    "The `predict` method of the token classifier outputs label ids for all tokens, including the padded tokens. `postprocess_token_labels` is a helper function that removes the predictions on padded tokens. If a `label_map` is provided, it maps the numerical label ids back to original token labels which are usually string type. "
   ]
  },
  {
   "cell_type": "code",
   "execution_count": 12,
   "metadata": {
    "scrolled": false
   },
   "outputs": [
    {
     "name": "stdout",
     "output_type": "stream",
     "text": [
      "           precision    recall  f1-score   support\n",
      "\n",
      "      ORG       0.77      0.89      0.82      1296\n",
      "      LOC       0.92      0.93      0.92      2803\n",
      "      PER       0.93      0.90      0.91      1382\n",
      "\n",
      "micro avg       0.88      0.91      0.89      5481\n",
      "macro avg       0.88      0.91      0.90      5481\n",
      "\n"
     ]
    }
   ],
   "source": [
    "pred_tags_no_padding = postprocess_token_labels(pred_label_ids, \n",
    "                                                test_input_mask, \n",
    "                                                label_map)\n",
    "true_tags_no_padding = postprocess_token_labels(test_label_ids, \n",
    "                                                test_input_mask, \n",
    "                                                label_map)\n",
    "print(classification_report(true_tags_no_padding, pred_tags_no_padding, digits=2))"
   ]
  }
 ],
 "metadata": {
  "kernelspec": {
   "display_name": "nlp_pytorch",
   "language": "python",
   "name": "nlp_pytorch"
  },
  "language_info": {
   "codemirror_mode": {
    "name": "ipython",
    "version": 3
   },
   "file_extension": ".py",
   "mimetype": "text/x-python",
   "name": "python",
   "nbconvert_exporter": "python",
   "pygments_lexer": "ipython3",
   "version": "3.6.8"
  }
 },
 "nbformat": 4,
 "nbformat_minor": 2
}
