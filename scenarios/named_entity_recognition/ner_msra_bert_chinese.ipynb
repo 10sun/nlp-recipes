{
 "cells": [
  {
   "cell_type": "markdown",
   "metadata": {},
   "source": [
    "*Copyright (c) Microsoft Corporation. All rights reserved.*  \n",
    "*Licensed under the MIT License.*\n",
    "# Named Entity Recognition Using BERT on Chinese\n",
    "## Summary\n",
    "This notebook demonstrates how to fine tune [pretrained BERT model](https://github.com/huggingface/pytorch-pretrained-BERT) for named entity recognition (NER) task on Chinese text. Utility functions and classes in the NLP Best Practices repo are used to facilitate data preprocessing, model training, model scoring and model evaluation.\n",
    "\n",
    "[BERT (Bidirectional Transformers for Language Understanding)](https://arxiv.org/pdf/1810.04805.pdf) is a powerful pre-trained lanaguage model that can be used for multiple NLP tasks, including text classification, question answering, named entity recognition, etc. It's able to achieve state of the art performance with only a few epochs of fine tuning on task specific datasets.  \n",
    "The figure below illustrates how BERT can be fine tuned for NER tasks. The input data is a list of tokens representing a sentence. In the training data, each token has an entity label. After fine tuning, the model predicts an entity label for each token in a given testing sentence. \n",
    "\n",
    "<img src=\"https://nlpbp.blob.core.windows.net/images/bert_architecture.png\">\n",
    "\n",
    "Named Entity Recognition on non-English text is not very differnt from that on English text. The only difference is the model used, which is configured by the `LANGUAGE` variable below. For non-English languages including Chinese, the *bert-base-multilingual-cased* model can be used by setting `LANGUAGE = Language.MULTILINGUAL`. For Chinese, the *bert-base-chinese* model can also be used by setting `LANGUAGE = Language.CHINESE`. On Chinese text, the performance of *bert-base-chinese* is usually better than *bert-base-multilingual-cased* because the *bert-base-chinese* model is pretrained on Chinese data only. On this particular dataset, the performances of the Chinese-only model and multilingual model are very similar"
   ]
  },
  {
   "cell_type": "markdown",
   "metadata": {},
   "source": [
    "## Required packages\n",
    "* pytorch\n",
    "* pytorch-pretrained-bert\n",
    "* pandas\n",
    "* seqeval"
   ]
  },
  {
   "cell_type": "code",
   "execution_count": 1,
   "metadata": {
    "scrolled": false
   },
   "outputs": [],
   "source": [
    "import sys\n",
    "import os\n",
    "import random\n",
    "from seqeval.metrics import classification_report\n",
    "\n",
    "import torch\n",
    "\n",
    "nlp_path = os.path.abspath('../../')\n",
    "if nlp_path not in sys.path:\n",
    "    sys.path.insert(0, nlp_path)\n",
    "\n",
    "from utils_nlp.bert.token_classification import BERTTokenClassifier, postprocess_token_labels, create_label_map\n",
    "from utils_nlp.bert.common import Language, Tokenizer\n",
    "from utils_nlp.dataset.msra_ner import load_pandas_df, get_unique_labels"
   ]
  },
  {
   "cell_type": "markdown",
   "metadata": {},
   "source": [
    "## Configurations"
   ]
  },
  {
   "cell_type": "code",
   "execution_count": 2,
   "metadata": {
    "scrolled": false
   },
   "outputs": [],
   "source": [
    "# path configurations\n",
    "CACHE_DIR = \"./temp\"\n",
    "\n",
    "# set random seeds\n",
    "RANDOM_SEED = 100\n",
    "torch.manual_seed(RANDOM_SEED)\n",
    "\n",
    "# model configurations\n",
    "LANGUAGE = Language.CHINESE\n",
    "DO_LOWER_CASE = True\n",
    "MAX_SEQ_LENGTH = 200\n",
    "\n",
    "# training configurations\n",
    "BATCH_SIZE = 16\n",
    "NUM_TRAIN_EPOCHS = 1\n",
    "\n",
    "# optimizer configuration\n",
    "LEARNING_RATE = 3e-5\n",
    "\n",
    "TEXT_COL = \"sentence\"\n",
    "LABEL_COL = \"labels\""
   ]
  },
  {
   "cell_type": "markdown",
   "metadata": {},
   "source": [
    "## Preprocess Data"
   ]
  },
  {
   "cell_type": "markdown",
   "metadata": {},
   "source": [
    "### Get training and testing data\n",
    "The dataset used in this notebook is the MSRA NER dataset. The dataset consists of 45000 training sentences and 3442 testing sentences. \n",
    "\n",
    "The helper function `load_pandas_df` downloads the data files if they don't exist in `local_cache_path`. It returns the training or testing data frame based on `file_split`\n",
    "\n",
    "The helper function `get_unique_labels` returns the unique entity labels in the dataset. There are 7 unique labels in the   dataset: \n",
    "* 'O': non-entity \n",
    "* 'B-LOC': beginning of location entity\n",
    "* 'I-LOC': within location entity\n",
    "* 'B-PER': beginning of person entity\n",
    "* 'I-PER': within person entity\n",
    "* 'B-ORG': beginning of organization entity\n",
    "* 'I-ORG': within organization entity\n",
    "\n",
    "The maximum number of words in a sentence is 2427. We set MAX_SEQ_LENGTH to 200 above to reduce the GPU memory needed to run this notebook. Less than 1% of testing data are longer than 200, so this should have negligible impact on the model performance evaluation."
   ]
  },
  {
   "cell_type": "code",
   "execution_count": 3,
   "metadata": {},
   "outputs": [
    {
     "name": "stdout",
     "output_type": "stream",
     "text": [
      "Maximum sequence length in the train data is: 746\n",
      "Maximum sequence length in the test data is: 2427\n",
      "Number of sentences in training data: 45000\n",
      "Number of sentences in testing data: 3442\n",
      "Unique labels: ['O', 'B-LOC', 'B-ORG', 'B-PER', 'I-LOC', 'I-ORG', 'I-PER']\n"
     ]
    }
   ],
   "source": [
    "train_df = load_pandas_df(local_cache_path=CACHE_DIR, file_split=\"train\")\n",
    "test_df = load_pandas_df(local_cache_path=CACHE_DIR, file_split=\"test\")\n",
    "label_list = get_unique_labels()\n",
    "print(\"Number of sentences in training data: {}\".format(train_df.shape[0]))\n",
    "print(\"Number of sentences in testing data: {}\".format(test_df.shape[0]))\n",
    "print(\"Unique labels: {}\".format(label_list))"
   ]
  },
  {
   "cell_type": "code",
   "execution_count": 4,
   "metadata": {},
   "outputs": [
    {
     "data": {
      "text/html": [
       "<div>\n",
       "<style scoped>\n",
       "    .dataframe tbody tr th:only-of-type {\n",
       "        vertical-align: middle;\n",
       "    }\n",
       "\n",
       "    .dataframe tbody tr th {\n",
       "        vertical-align: top;\n",
       "    }\n",
       "\n",
       "    .dataframe thead th {\n",
       "        text-align: right;\n",
       "    }\n",
       "</style>\n",
       "<table border=\"1\" class=\"dataframe\">\n",
       "  <thead>\n",
       "    <tr style=\"text-align: right;\">\n",
       "      <th></th>\n",
       "      <th>sentence</th>\n",
       "      <th>labels</th>\n",
       "    </tr>\n",
       "  </thead>\n",
       "  <tbody>\n",
       "    <tr>\n",
       "      <th>0</th>\n",
       "      <td>[当, 她, 转, 过, 身, 去, ，, 高, 耸, 的, 楼, 群, ，, 宽, 阔, ...</td>\n",
       "      <td>[O, O, O, O, O, O, O, O, O, O, O, O, O, O, O, ...</td>\n",
       "    </tr>\n",
       "    <tr>\n",
       "      <th>1</th>\n",
       "      <td>[这, 些, 手, 段, 多, 是, 用, 来, 对, 付, 新, 车, 主, 的, ，, ...</td>\n",
       "      <td>[O, O, O, O, O, O, O, O, O, O, O, O, O, O, O, ...</td>\n",
       "    </tr>\n",
       "    <tr>\n",
       "      <th>2</th>\n",
       "      <td>[自, １, ９, ８, ８, 年, 始, ，, 天, 水, 市, 恢, 复, 了, 公, ...</td>\n",
       "      <td>[O, O, O, O, O, O, O, O, B-LOC, I-LOC, I-LOC, ...</td>\n",
       "    </tr>\n",
       "    <tr>\n",
       "      <th>3</th>\n",
       "      <td>[由, 联, 合, 国, 贸, 易, 和, 发, 展, 会, 议, 组, 织, 召, 开, ...</td>\n",
       "      <td>[O, B-ORG, I-ORG, I-ORG, O, O, O, O, O, O, O, ...</td>\n",
       "    </tr>\n",
       "    <tr>\n",
       "      <th>4</th>\n",
       "      <td>[在, 前, 一, 阶, 段, 的, 比, 赛, 中, ，, 中, 国, 队, 分, 别, ...</td>\n",
       "      <td>[O, O, O, O, O, O, O, O, O, O, B-ORG, I-ORG, I...</td>\n",
       "    </tr>\n",
       "  </tbody>\n",
       "</table>\n",
       "</div>"
      ],
      "text/plain": [
       "                                            sentence  \\\n",
       "0  [当, 她, 转, 过, 身, 去, ，, 高, 耸, 的, 楼, 群, ，, 宽, 阔, ...   \n",
       "1  [这, 些, 手, 段, 多, 是, 用, 来, 对, 付, 新, 车, 主, 的, ，, ...   \n",
       "2  [自, １, ９, ８, ８, 年, 始, ，, 天, 水, 市, 恢, 复, 了, 公, ...   \n",
       "3  [由, 联, 合, 国, 贸, 易, 和, 发, 展, 会, 议, 组, 织, 召, 开, ...   \n",
       "4  [在, 前, 一, 阶, 段, 的, 比, 赛, 中, ，, 中, 国, 队, 分, 别, ...   \n",
       "\n",
       "                                              labels  \n",
       "0  [O, O, O, O, O, O, O, O, O, O, O, O, O, O, O, ...  \n",
       "1  [O, O, O, O, O, O, O, O, O, O, O, O, O, O, O, ...  \n",
       "2  [O, O, O, O, O, O, O, O, B-LOC, I-LOC, I-LOC, ...  \n",
       "3  [O, B-ORG, I-ORG, I-ORG, O, O, O, O, O, O, O, ...  \n",
       "4  [O, O, O, O, O, O, O, O, O, O, B-ORG, I-ORG, I...  "
      ]
     },
     "execution_count": 4,
     "metadata": {},
     "output_type": "execute_result"
    }
   ],
   "source": [
    "train_df.head()"
   ]
  },
  {
   "cell_type": "markdown",
   "metadata": {},
   "source": [
    "### Tokenization and Preprocessing\n",
    "The `tokenize_ner` method of the `Tokenizer` class converts raw string data to numerical features, involving the following steps:\n",
    "1. WordPiece tokenization.\n",
    "2. Convert tokens and labels to numerical values, i.e. token ids and label ids.\n",
    "3. Sequence padding or truncation according to the `max_seq_length` configuration."
   ]
  },
  {
   "cell_type": "markdown",
   "metadata": {},
   "source": [
    "**Create a dictionary that maps labels to numerical values**"
   ]
  },
  {
   "cell_type": "code",
   "execution_count": 5,
   "metadata": {
    "scrolled": false
   },
   "outputs": [],
   "source": [
    "label_map = create_label_map(label_list)"
   ]
  },
  {
   "cell_type": "markdown",
   "metadata": {},
   "source": [
    "**Tokenize input text**"
   ]
  },
  {
   "cell_type": "code",
   "execution_count": 6,
   "metadata": {
    "scrolled": false
   },
   "outputs": [],
   "source": [
    "tokenizer = Tokenizer(language=LANGUAGE, \n",
    "                      to_lower=DO_LOWER_CASE, \n",
    "                      cache_dir=CACHE_DIR)"
   ]
  },
  {
   "cell_type": "markdown",
   "metadata": {},
   "source": [
    "**Create numerical features**  "
   ]
  },
  {
   "cell_type": "code",
   "execution_count": 7,
   "metadata": {
    "scrolled": true
   },
   "outputs": [],
   "source": [
    "train_token_ids, train_input_mask, train_trailing_token_mask, train_label_ids = \\\n",
    "    tokenizer.tokenize_ner(text=train_df[TEXT_COL],\n",
    "                           label_map=label_map,\n",
    "                           max_len=MAX_SEQ_LENGTH,\n",
    "                           labels=train_df[LABEL_COL])\n",
    "test_token_ids, test_input_mask, test_trailing_token_mask, test_label_ids = \\\n",
    "    tokenizer.tokenize_ner(text=test_df[TEXT_COL],\n",
    "                           label_map=label_map,\n",
    "                           max_len=MAX_SEQ_LENGTH,\n",
    "                           labels=test_df[LABEL_COL])"
   ]
  },
  {
   "cell_type": "markdown",
   "metadata": {},
   "source": [
    "`Tokenizer.tokenize_ner` outputs three or four lists of numerical features lists, each sublist contains features of an input sentence: \n",
    "1. token ids: list of numerical values each corresponds to a token.\n",
    "2. attention mask: list of 1s and 0s, 1 for input tokens and 0 for padded tokens, so that padded tokens are not attended to. \n",
    "3. trailing word piece mask: boolean list, `True` for the first word piece of each original word, `False` for the trailing word pieces, e.g. ##ize. This mask is useful for removing predictions on trailing word pieces, so that each original word in the input text has a unique predicted label. \n",
    "4. label ids: list of numerical values each corresponds to an entity label, if `labels` is provided."
   ]
  },
  {
   "cell_type": "code",
   "execution_count": 8,
   "metadata": {
    "scrolled": false
   },
   "outputs": [
    {
     "name": "stdout",
     "output_type": "stream",
     "text": [
      "Sample token ids:\n",
      "[2496, 1961, 6760, 6814, 6716, 1343, 8024, 7770, 5458, 4638, 3517, 5408, 8024, 2160, 7333, 4638, 6662, 7481, 8024, 6137, 2805, 1139, 1961, 6929, 3320, 1331, 5445, 2809, 5865, 4638, 5520, 2512, 511, 0.0, 0.0, 0.0, 0.0, 0.0, 0.0, 0.0, 0.0, 0.0, 0.0, 0.0, 0.0, 0.0, 0.0, 0.0, 0.0, 0.0, 0.0, 0.0, 0.0, 0.0, 0.0, 0.0, 0.0, 0.0, 0.0, 0.0, 0.0, 0.0, 0.0, 0.0, 0.0, 0.0, 0.0, 0.0, 0.0, 0.0, 0.0, 0.0, 0.0, 0.0, 0.0, 0.0, 0.0, 0.0, 0.0, 0.0, 0.0, 0.0, 0.0, 0.0, 0.0, 0.0, 0.0, 0.0, 0.0, 0.0, 0.0, 0.0, 0.0, 0.0, 0.0, 0.0, 0.0, 0.0, 0.0, 0.0, 0.0, 0.0, 0.0, 0.0, 0.0, 0.0, 0.0, 0.0, 0.0, 0.0, 0.0, 0.0, 0.0, 0.0, 0.0, 0.0, 0.0, 0.0, 0.0, 0.0, 0.0, 0.0, 0.0, 0.0, 0.0, 0.0, 0.0, 0.0, 0.0, 0.0, 0.0, 0.0, 0.0, 0.0, 0.0, 0.0, 0.0, 0.0, 0.0, 0.0, 0.0, 0.0, 0.0, 0.0, 0.0, 0.0, 0.0, 0.0, 0.0, 0.0, 0.0, 0.0, 0.0, 0.0, 0.0, 0.0, 0.0, 0.0, 0.0, 0.0, 0.0, 0.0, 0.0, 0.0, 0.0, 0.0, 0.0, 0.0, 0.0, 0.0, 0.0, 0.0, 0.0, 0.0, 0.0, 0.0, 0.0, 0.0, 0.0, 0.0, 0.0, 0.0, 0.0, 0.0, 0.0, 0.0, 0.0, 0.0, 0.0, 0.0, 0.0, 0.0, 0.0, 0.0, 0.0, 0.0, 0.0, 0.0, 0.0, 0.0]\n",
      "\n",
      "Sample attention mask:\n",
      "[1.0, 1.0, 1.0, 1.0, 1.0, 1.0, 1.0, 1.0, 1.0, 1.0, 1.0, 1.0, 1.0, 1.0, 1.0, 1.0, 1.0, 1.0, 1.0, 1.0, 1.0, 1.0, 1.0, 1.0, 1.0, 1.0, 1.0, 1.0, 1.0, 1.0, 1.0, 1.0, 1.0, 0.0, 0.0, 0.0, 0.0, 0.0, 0.0, 0.0, 0.0, 0.0, 0.0, 0.0, 0.0, 0.0, 0.0, 0.0, 0.0, 0.0, 0.0, 0.0, 0.0, 0.0, 0.0, 0.0, 0.0, 0.0, 0.0, 0.0, 0.0, 0.0, 0.0, 0.0, 0.0, 0.0, 0.0, 0.0, 0.0, 0.0, 0.0, 0.0, 0.0, 0.0, 0.0, 0.0, 0.0, 0.0, 0.0, 0.0, 0.0, 0.0, 0.0, 0.0, 0.0, 0.0, 0.0, 0.0, 0.0, 0.0, 0.0, 0.0, 0.0, 0.0, 0.0, 0.0, 0.0, 0.0, 0.0, 0.0, 0.0, 0.0, 0.0, 0.0, 0.0, 0.0, 0.0, 0.0, 0.0, 0.0, 0.0, 0.0, 0.0, 0.0, 0.0, 0.0, 0.0, 0.0, 0.0, 0.0, 0.0, 0.0, 0.0, 0.0, 0.0, 0.0, 0.0, 0.0, 0.0, 0.0, 0.0, 0.0, 0.0, 0.0, 0.0, 0.0, 0.0, 0.0, 0.0, 0.0, 0.0, 0.0, 0.0, 0.0, 0.0, 0.0, 0.0, 0.0, 0.0, 0.0, 0.0, 0.0, 0.0, 0.0, 0.0, 0.0, 0.0, 0.0, 0.0, 0.0, 0.0, 0.0, 0.0, 0.0, 0.0, 0.0, 0.0, 0.0, 0.0, 0.0, 0.0, 0.0, 0.0, 0.0, 0.0, 0.0, 0.0, 0.0, 0.0, 0.0, 0.0, 0.0, 0.0, 0.0, 0.0, 0.0, 0.0, 0.0, 0.0, 0.0, 0.0, 0.0, 0.0, 0.0, 0.0, 0.0, 0.0, 0.0, 0.0, 0.0]\n",
      "\n",
      "Sample trailing token mask:\n",
      "[True, True, True, True, True, True, True, True, True, True, True, True, True, True, True, True, True, True, True, True, True, True, True, True, True, True, True, True, True, True, True, True, True, True, True, True, True, True, True, True, True, True, True, True, True, True, True, True, True, True, True, True, True, True, True, True, True, True, True, True, True, True, True, True, True, True, True, True, True, True, True, True, True, True, True, True, True, True, True, True, True, True, True, True, True, True, True, True, True, True, True, True, True, True, True, True, True, True, True, True, True, True, True, True, True, True, True, True, True, True, True, True, True, True, True, True, True, True, True, True, True, True, True, True, True, True, True, True, True, True, True, True, True, True, True, True, True, True, True, True, True, True, True, True, True, True, True, True, True, True, True, True, True, True, True, True, True, True, True, True, True, True, True, True, True, True, True, True, True, True, True, True, True, True, True, True, True, True, True, True, True, True, True, True, True, True, True, True, True, True, True, True, True, True, True, True, True, True, True, True]\n",
      "\n",
      "Sample label ids:\n",
      "[0, 0, 0, 0, 0, 0, 0, 0, 0, 0, 0, 0, 0, 0, 0, 0, 0, 0, 0, 0, 0, 0, 0, 0, 0, 0, 0, 0, 0, 0, 0, 0, 0, 0, 0, 0, 0, 0, 0, 0, 0, 0, 0, 0, 0, 0, 0, 0, 0, 0, 0, 0, 0, 0, 0, 0, 0, 0, 0, 0, 0, 0, 0, 0, 0, 0, 0, 0, 0, 0, 0, 0, 0, 0, 0, 0, 0, 0, 0, 0, 0, 0, 0, 0, 0, 0, 0, 0, 0, 0, 0, 0, 0, 0, 0, 0, 0, 0, 0, 0, 0, 0, 0, 0, 0, 0, 0, 0, 0, 0, 0, 0, 0, 0, 0, 0, 0, 0, 0, 0, 0, 0, 0, 0, 0, 0, 0, 0, 0, 0, 0, 0, 0, 0, 0, 0, 0, 0, 0, 0, 0, 0, 0, 0, 0, 0, 0, 0, 0, 0, 0, 0, 0, 0, 0, 0, 0, 0, 0, 0, 0, 0, 0, 0, 0, 0, 0, 0, 0, 0, 0, 0, 0, 0, 0, 0, 0, 0, 0, 0, 0, 0, 0, 0, 0, 0, 0, 0, 0, 0, 0, 0, 0, 0, 0, 0, 0, 0, 0, 0]\n",
      "\n"
     ]
    }
   ],
   "source": [
    "print((\"Sample token ids:\\n{}\\n\".format(train_token_ids[0])))\n",
    "print(\"Sample attention mask:\\n{}\\n\".format(train_input_mask[0]))\n",
    "print(\"Sample trailing token mask:\\n{}\\n\".format(train_trailing_token_mask[0]))\n",
    "print(\"Sample label ids:\\n{}\\n\".format(train_label_ids[0]))"
   ]
  },
  {
   "cell_type": "markdown",
   "metadata": {},
   "source": [
    "## Create Token Classifier\n",
    "The value of the `language` argument determines which BERT model is used:\n",
    "* Language.ENGLISH: \"bert-base-uncased\"\n",
    "* Language.ENGLISHCASED: \"bert-base-cased\"\n",
    "* Language.ENGLISHLARGE: \"bert-large-uncased\"\n",
    "* Language.ENGLISHLARGECASED: \"bert-large-cased\"\n",
    "* Language.CHINESE: \"bert-base-chinese\"\n",
    "* Language.MULTILINGUAL: \"bert-base-multilingual-cased\"\n",
    "\n",
    "Here we use the base model pre-trained only on Chinese data."
   ]
  },
  {
   "cell_type": "code",
   "execution_count": 9,
   "metadata": {
    "scrolled": false
   },
   "outputs": [],
   "source": [
    "token_classifier = BERTTokenClassifier(language=LANGUAGE,\n",
    "                                       num_labels=len(label_map),\n",
    "                                       cache_dir=CACHE_DIR)"
   ]
  },
  {
   "cell_type": "markdown",
   "metadata": {},
   "source": [
    "## Train Model"
   ]
  },
  {
   "cell_type": "code",
   "execution_count": null,
   "metadata": {
    "scrolled": true
   },
   "outputs": [
    {
     "name": "stderr",
     "output_type": "stream",
     "text": [
      "t_total value of -1 results in schedule not being applied\n",
      "Epoch:   0%|          | 0/1 [00:00<?, ?it/s]\n",
      "Iteration:   0%|          | 0/2813 [00:00<?, ?it/s]\u001b[A"
     ]
    },
    {
     "name": "stdout",
     "output_type": "stream",
     "text": [
      "Warning: Only 1 CUDA device is available. Data parallelism is not possible.\n"
     ]
    },
    {
     "name": "stderr",
     "output_type": "stream",
     "text": [
      "\n",
      "Iteration:   1%|          | 25/2813 [00:30<55:47,  1.20s/it]\u001b[A\n",
      "Iteration:   1%|          | 25/2813 [00:49<55:47,  1.20s/it]\u001b[A\n",
      "Iteration:   2%|▏         | 50/2813 [01:00<55:23,  1.20s/it]\u001b[A\n",
      "Iteration:   2%|▏         | 50/2813 [01:19<55:23,  1.20s/it]\u001b[A\n",
      "Iteration:   3%|▎         | 75/2813 [01:30<55:07,  1.21s/it]\u001b[A\n",
      "Iteration:   3%|▎         | 75/2813 [01:49<55:07,  1.21s/it]\u001b[A\n",
      "Iteration:   4%|▎         | 100/2813 [02:01<54:51,  1.21s/it]\u001b[A\n",
      "Iteration:   4%|▎         | 100/2813 [02:20<54:51,  1.21s/it]\u001b[A\n",
      "Iteration:   4%|▍         | 125/2813 [02:32<54:33,  1.22s/it]\u001b[A\n",
      "Iteration:   4%|▍         | 125/2813 [02:50<54:33,  1.22s/it]\u001b[A\n",
      "Iteration:   5%|▌         | 150/2813 [03:02<54:15,  1.22s/it]\u001b[A\n",
      "Iteration:   5%|▌         | 150/2813 [03:20<54:15,  1.22s/it]\u001b[A\n",
      "Iteration:   6%|▌         | 175/2813 [03:33<53:53,  1.23s/it]\u001b[A\n",
      "Iteration:   6%|▌         | 175/2813 [03:50<53:53,  1.23s/it]\u001b[A\n",
      "Iteration:   7%|▋         | 200/2813 [04:04<53:28,  1.23s/it]\u001b[A\n",
      "Iteration:   7%|▋         | 200/2813 [04:20<53:28,  1.23s/it]\u001b[A\n",
      "Iteration:   8%|▊         | 225/2813 [04:35<53:02,  1.23s/it]\u001b[A\n",
      "Iteration:   8%|▊         | 225/2813 [04:50<53:02,  1.23s/it]\u001b[A\n",
      "Iteration:   9%|▉         | 250/2813 [05:06<52:33,  1.23s/it]\u001b[A\n",
      "Iteration:   9%|▉         | 250/2813 [05:20<52:33,  1.23s/it]\u001b[A\n",
      "Iteration:  10%|▉         | 275/2813 [05:37<52:05,  1.23s/it]\u001b[A\n",
      "Iteration:  10%|▉         | 275/2813 [05:50<52:05,  1.23s/it]\u001b[A\n",
      "Iteration:  11%|█         | 300/2813 [06:07<51:35,  1.23s/it]\u001b[A\n",
      "Iteration:  11%|█         | 300/2813 [06:20<51:35,  1.23s/it]\u001b[A\n",
      "Iteration:  12%|█▏        | 325/2813 [06:38<51:03,  1.23s/it]\u001b[A\n",
      "Iteration:  12%|█▏        | 325/2813 [06:50<51:03,  1.23s/it]\u001b[A\n",
      "Iteration:  12%|█▏        | 350/2813 [07:09<50:31,  1.23s/it]\u001b[A\n",
      "Iteration:  12%|█▏        | 350/2813 [07:20<50:31,  1.23s/it]\u001b[A\n",
      "Iteration:  13%|█▎        | 375/2813 [07:40<50:01,  1.23s/it]\u001b[A\n",
      "Iteration:  13%|█▎        | 375/2813 [08:00<50:01,  1.23s/it]\u001b[A\n",
      "Iteration:  14%|█▍        | 400/2813 [08:10<49:29,  1.23s/it]\u001b[A\n",
      "Iteration:  14%|█▍        | 400/2813 [08:30<49:29,  1.23s/it]\u001b[A\n",
      "Iteration:  15%|█▌        | 425/2813 [08:41<49:00,  1.23s/it]\u001b[A\n",
      "Iteration:  15%|█▌        | 425/2813 [09:00<49:00,  1.23s/it]\u001b[A\n",
      "Iteration:  16%|█▌        | 450/2813 [09:12<48:30,  1.23s/it]\u001b[A\n",
      "Iteration:  16%|█▌        | 450/2813 [09:30<48:30,  1.23s/it]\u001b[A\n",
      "Iteration:  17%|█▋        | 475/2813 [09:43<47:59,  1.23s/it]\u001b[A\n",
      "Iteration:  17%|█▋        | 475/2813 [10:00<47:59,  1.23s/it]\u001b[A\n",
      "Iteration:  18%|█▊        | 500/2813 [10:14<47:29,  1.23s/it]\u001b[A\n",
      "Iteration:  18%|█▊        | 500/2813 [10:30<47:29,  1.23s/it]\u001b[A\n",
      "Iteration:  19%|█▊        | 525/2813 [10:44<46:59,  1.23s/it]\u001b[A\n",
      "Iteration:  19%|█▊        | 525/2813 [11:00<46:59,  1.23s/it]\u001b[A\n",
      "Iteration:  20%|█▉        | 550/2813 [11:15<46:27,  1.23s/it]\u001b[A\n",
      "Iteration:  20%|█▉        | 550/2813 [11:30<46:27,  1.23s/it]\u001b[A\n",
      "Iteration:  20%|██        | 575/2813 [11:46<45:56,  1.23s/it]\u001b[A\n",
      "Iteration:  20%|██        | 575/2813 [12:00<45:56,  1.23s/it]\u001b[A\n",
      "Iteration:  21%|██▏       | 600/2813 [12:17<45:26,  1.23s/it]\u001b[A\n",
      "Iteration:  21%|██▏       | 600/2813 [12:30<45:26,  1.23s/it]\u001b[A\n",
      "Iteration:  22%|██▏       | 625/2813 [12:48<44:55,  1.23s/it]\u001b[A\n",
      "Iteration:  22%|██▏       | 625/2813 [13:00<44:55,  1.23s/it]\u001b[A\n",
      "Iteration:  23%|██▎       | 650/2813 [13:18<44:24,  1.23s/it]\u001b[A\n",
      "Iteration:  23%|██▎       | 650/2813 [13:30<44:24,  1.23s/it]\u001b[A\n",
      "Iteration:  24%|██▍       | 675/2813 [13:49<43:54,  1.23s/it]\u001b[A\n",
      "Iteration:  24%|██▍       | 675/2813 [14:00<43:54,  1.23s/it]\u001b[A\n",
      "Iteration:  25%|██▍       | 700/2813 [14:20<43:24,  1.23s/it]\u001b[A\n",
      "Iteration:  25%|██▍       | 700/2813 [14:40<43:24,  1.23s/it]\u001b[A\n",
      "Iteration:  26%|██▌       | 725/2813 [14:51<42:54,  1.23s/it]\u001b[A\n",
      "Iteration:  26%|██▌       | 725/2813 [15:10<42:54,  1.23s/it]\u001b[A\n",
      "Iteration:  27%|██▋       | 750/2813 [15:22<42:23,  1.23s/it]\u001b[A\n",
      "Iteration:  27%|██▋       | 750/2813 [15:40<42:23,  1.23s/it]\u001b[A\n",
      "Iteration:  28%|██▊       | 775/2813 [15:53<41:52,  1.23s/it]\u001b[A\n",
      "Iteration:  28%|██▊       | 775/2813 [16:10<41:52,  1.23s/it]\u001b[A\n",
      "Iteration:  28%|██▊       | 800/2813 [16:23<41:21,  1.23s/it]\u001b[A\n",
      "Iteration:  28%|██▊       | 800/2813 [16:40<41:21,  1.23s/it]\u001b[A\n",
      "Iteration:  29%|██▉       | 825/2813 [16:54<40:50,  1.23s/it]\u001b[A\n",
      "Iteration:  29%|██▉       | 825/2813 [17:10<40:50,  1.23s/it]\u001b[A\n",
      "Iteration:  30%|███       | 850/2813 [17:25<40:19,  1.23s/it]\u001b[A\n",
      "Iteration:  30%|███       | 850/2813 [17:40<40:19,  1.23s/it]\u001b[A\n",
      "Iteration:  31%|███       | 875/2813 [17:56<39:48,  1.23s/it]\u001b[A\n",
      "Iteration:  31%|███       | 875/2813 [18:10<39:48,  1.23s/it]\u001b[A\n",
      "Iteration:  32%|███▏      | 900/2813 [18:27<39:16,  1.23s/it]\u001b[A\n",
      "Iteration:  32%|███▏      | 900/2813 [18:40<39:16,  1.23s/it]\u001b[A\n",
      "Iteration:  33%|███▎      | 925/2813 [18:57<38:44,  1.23s/it]\u001b[A\n",
      "Iteration:  33%|███▎      | 925/2813 [19:10<38:44,  1.23s/it]\u001b[A\n",
      "Iteration:  34%|███▍      | 950/2813 [19:28<38:13,  1.23s/it]\u001b[A\n",
      "Iteration:  34%|███▍      | 950/2813 [19:40<38:13,  1.23s/it]\u001b[A\n",
      "Iteration:  35%|███▍      | 975/2813 [19:59<37:42,  1.23s/it]\u001b[A\n",
      "Iteration:  35%|███▍      | 975/2813 [20:10<37:42,  1.23s/it]\u001b[A\n",
      "Iteration:  36%|███▌      | 1000/2813 [20:30<37:12,  1.23s/it]\u001b[A\n",
      "Iteration:  36%|███▌      | 1000/2813 [20:50<37:12,  1.23s/it]\u001b[A\n",
      "Iteration:  36%|███▋      | 1025/2813 [21:00<36:40,  1.23s/it]\u001b[A\n",
      "Iteration:  36%|███▋      | 1025/2813 [21:20<36:40,  1.23s/it]\u001b[A\n",
      "Iteration:  37%|███▋      | 1050/2813 [21:31<36:10,  1.23s/it]\u001b[A\n",
      "Iteration:  37%|███▋      | 1050/2813 [21:50<36:10,  1.23s/it]\u001b[A\n",
      "Iteration:  38%|███▊      | 1075/2813 [22:02<35:39,  1.23s/it]\u001b[A\n",
      "Iteration:  38%|███▊      | 1075/2813 [22:20<35:39,  1.23s/it]\u001b[A\n",
      "Iteration:  39%|███▉      | 1100/2813 [22:33<35:08,  1.23s/it]\u001b[A\n",
      "Iteration:  39%|███▉      | 1100/2813 [22:50<35:08,  1.23s/it]\u001b[A\n",
      "Iteration:  40%|███▉      | 1125/2813 [23:04<34:38,  1.23s/it]\u001b[A\n",
      "Iteration:  40%|███▉      | 1125/2813 [23:20<34:38,  1.23s/it]\u001b[A\n",
      "Iteration:  41%|████      | 1150/2813 [23:34<34:08,  1.23s/it]\u001b[A\n",
      "Iteration:  41%|████      | 1150/2813 [23:50<34:08,  1.23s/it]\u001b[A\n",
      "Iteration:  42%|████▏     | 1175/2813 [24:05<33:37,  1.23s/it]\u001b[A\n",
      "Iteration:  42%|████▏     | 1175/2813 [24:20<33:37,  1.23s/it]\u001b[A\n",
      "Iteration:  43%|████▎     | 1200/2813 [24:36<33:07,  1.23s/it]\u001b[A\n",
      "Iteration:  43%|████▎     | 1200/2813 [24:50<33:07,  1.23s/it]\u001b[A\n",
      "Iteration:  44%|████▎     | 1225/2813 [25:07<32:36,  1.23s/it]\u001b[A\n",
      "Iteration:  44%|████▎     | 1225/2813 [25:20<32:36,  1.23s/it]\u001b[A\n",
      "Iteration:  44%|████▍     | 1250/2813 [25:38<32:06,  1.23s/it]\u001b[A\n",
      "Iteration:  44%|████▍     | 1250/2813 [25:50<32:06,  1.23s/it]\u001b[A\n",
      "Iteration:  45%|████▌     | 1275/2813 [26:08<31:36,  1.23s/it]\u001b[A\n",
      "Iteration:  45%|████▌     | 1275/2813 [26:20<31:36,  1.23s/it]\u001b[A\n",
      "Iteration:  46%|████▌     | 1300/2813 [26:39<31:05,  1.23s/it]\u001b[A\n",
      "Iteration:  46%|████▌     | 1300/2813 [26:50<31:05,  1.23s/it]\u001b[A\n",
      "Iteration:  47%|████▋     | 1325/2813 [27:10<30:34,  1.23s/it]\u001b[A\n",
      "Iteration:  47%|████▋     | 1325/2813 [27:30<30:34,  1.23s/it]\u001b[A\n",
      "Iteration:  48%|████▊     | 1350/2813 [27:41<30:03,  1.23s/it]\u001b[A\n",
      "Iteration:  48%|████▊     | 1350/2813 [28:00<30:03,  1.23s/it]\u001b[A\n",
      "Iteration:  49%|████▉     | 1375/2813 [28:12<29:31,  1.23s/it]\u001b[A\n",
      "Iteration:  49%|████▉     | 1375/2813 [28:30<29:31,  1.23s/it]\u001b[A\n",
      "Iteration:  50%|████▉     | 1400/2813 [28:42<29:00,  1.23s/it]\u001b[A\n",
      "Iteration:  50%|████▉     | 1400/2813 [29:00<29:00,  1.23s/it]\u001b[A\n",
      "Iteration:  51%|█████     | 1425/2813 [29:13<28:29,  1.23s/it]\u001b[A\n",
      "Iteration:  51%|█████     | 1425/2813 [29:30<28:29,  1.23s/it]\u001b[A\n",
      "Iteration:  52%|█████▏    | 1450/2813 [29:44<27:57,  1.23s/it]\u001b[A\n",
      "Iteration:  52%|█████▏    | 1450/2813 [30:00<27:57,  1.23s/it]\u001b[A\n",
      "Iteration:  52%|█████▏    | 1475/2813 [30:15<27:25,  1.23s/it]\u001b[A\n",
      "Iteration:  52%|█████▏    | 1475/2813 [30:30<27:25,  1.23s/it]\u001b[A\n",
      "Iteration:  53%|█████▎    | 1500/2813 [30:45<26:53,  1.23s/it]\u001b[A\n",
      "Iteration:  53%|█████▎    | 1500/2813 [31:00<26:53,  1.23s/it]\u001b[A\n",
      "Iteration:  54%|█████▍    | 1525/2813 [31:16<26:22,  1.23s/it]\u001b[A\n",
      "Iteration:  54%|█████▍    | 1525/2813 [31:30<26:22,  1.23s/it]\u001b[A\n",
      "Iteration:  55%|█████▌    | 1550/2813 [31:47<25:51,  1.23s/it]\u001b[A\n",
      "Iteration:  55%|█████▌    | 1550/2813 [32:00<25:51,  1.23s/it]\u001b[A\n",
      "Iteration:  56%|█████▌    | 1575/2813 [32:17<25:21,  1.23s/it]\u001b[A\n"
     ]
    },
    {
     "name": "stderr",
     "output_type": "stream",
     "text": [
      "Iteration:  56%|█████▌    | 1575/2813 [32:30<25:21,  1.23s/it]\u001b[A\n",
      "Iteration:  57%|█████▋    | 1600/2813 [32:48<24:51,  1.23s/it]\u001b[A\n"
     ]
    }
   ],
   "source": [
    "token_classifier.fit(token_ids=train_token_ids, \n",
    "                     input_mask=train_input_mask, \n",
    "                     labels=train_label_ids,\n",
    "                     num_epochs=NUM_TRAIN_EPOCHS, \n",
    "                     batch_size=BATCH_SIZE, \n",
    "                     learning_rate=LEARNING_RATE)"
   ]
  },
  {
   "cell_type": "markdown",
   "metadata": {},
   "source": [
    "## Predict on Test Data\n",
    "The `predict` method of the token classifier optionally returns the softmax probability of the predicted class, which is a NxM array, where N is size of the testing data and M is the number of tokens in the testing sequence"
   ]
  },
  {
   "cell_type": "code",
   "execution_count": null,
   "metadata": {
    "scrolled": false
   },
   "outputs": [],
   "source": [
    "predictions = token_classifier.predict(token_ids=test_token_ids, \n",
    "                                       input_mask=test_input_mask, \n",
    "                                       labels=test_label_ids, \n",
    "                                       batch_size=BATCH_SIZE,\n",
    "                                       probabilities=True)\n",
    "probabilities = predictions.probabilities\n",
    "pred_label_ids = predictions.classes\n",
    "print(\"Sample predicted probabilities:\\n{}\\n\".format(probabilities[5]))\n",
    "print(\"Sample predicted labels:\\n{}\\n\".format(pred_label_ids[5]))"
   ]
  },
  {
   "cell_type": "markdown",
   "metadata": {},
   "source": [
    "## Evaluate Model\n",
    "The `predict` method of the token classifier outputs label ids for all tokens, including the padded tokens. `postprocess_token_labels` is a helper function that removes the predictions on padded tokens. If a `label_map` is provided, it maps the numerical label ids back to original token labels which are usually string type. "
   ]
  },
  {
   "cell_type": "code",
   "execution_count": null,
   "metadata": {
    "scrolled": false
   },
   "outputs": [],
   "source": [
    "pred_tags_no_padding = postprocess_token_labels(pred_label_ids, \n",
    "                                                test_input_mask, \n",
    "                                                label_map)\n",
    "true_tags_no_padding = postprocess_token_labels(test_label_ids, \n",
    "                                                test_input_mask, \n",
    "                                                label_map)\n",
    "print(classification_report(true_tags_no_padding, pred_tags_no_padding, digits=2))"
   ]
  }
 ],
 "metadata": {
  "kernelspec": {
   "display_name": "nlp_pytorch",
   "language": "python",
   "name": "nlp_pytorch"
  },
  "language_info": {
   "codemirror_mode": {
    "name": "ipython",
    "version": 3
   },
   "file_extension": ".py",
   "mimetype": "text/x-python",
   "name": "python",
   "nbconvert_exporter": "python",
   "pygments_lexer": "ipython3",
   "version": "3.6.8"
  }
 },
 "nbformat": 4,
 "nbformat_minor": 2
}
