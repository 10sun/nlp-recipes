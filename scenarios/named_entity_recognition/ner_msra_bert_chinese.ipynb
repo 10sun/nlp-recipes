{
 "cells": [
  {
   "cell_type": "markdown",
   "metadata": {},
   "source": [
    "*Copyright (c) Microsoft Corporation. All rights reserved.*  \n",
    "*Licensed under the MIT License.*\n",
    "# Named Entity Recognition Using BERT on Chinese\n",
    "## Summary\n",
    "This notebook demonstrates how to fine tune [pretrained BERT model](https://github.com/huggingface/pytorch-pretrained-BERT) for named entity recognition (NER) task on Chinese text. Utility functions and classes in the NLP Best Practices repo are used to facilitate data preprocessing, model training, model scoring and model evaluation.\n",
    "\n",
    "[BERT (Bidirectional Transformers for Language Understanding)](https://arxiv.org/pdf/1810.04805.pdf) is a powerful pre-trained lanaguage model that can be used for multiple NLP tasks, including text classification, question answering, named entity recognition, etc. It's able to achieve state of the art performance with only a few epochs of fine tuning on task specific datasets.  \n",
    "The figure below illustrates how BERT can be fine tuned for NER tasks. The input data is a list of tokens representing a sentence. In the training data, each token has an entity label. After fine tuning, the model predicts an entity label for each token in a given testing sentence. \n",
    "\n",
    "<img src=\"https://nlpbp.blob.core.windows.net/images/bert_architecture.png\">\n",
    "\n",
    "Named Entity Recognition on non-English text is not very differnt from that on English text. The only difference is the model used, which is configured by the `LANGUAGE` variable below. For non-English languages including Chinese, the *bert-base-multilingual-cased* model can be used by setting `LANGUAGE = Language.MULTILINGUAL`. For Chinese, the *bert-base-chinese* model can also be used by setting `LANGUAGE = Language.CHINESE`. On Chinese text, the performance of *bert-base-chinese* is usually better than *bert-base-multilingual-cased* because the *bert-base-chinese* model is pretrained on Chinese data only. On this particular dataset, the performances of the Chinese-only model and multilingual model are very similar"
   ]
  },
  {
   "cell_type": "markdown",
   "metadata": {},
   "source": [
    "## Required packages\n",
    "* pytorch\n",
    "* pytorch-pretrained-bert\n",
    "* pandas\n",
    "* seqeval"
   ]
  },
  {
   "cell_type": "code",
   "execution_count": 1,
   "metadata": {
    "scrolled": false
   },
   "outputs": [],
   "source": [
    "import sys\n",
    "import os\n",
    "import random\n",
    "from seqeval.metrics import classification_report\n",
    "\n",
    "import torch\n",
    "\n",
    "nlp_path = os.path.abspath('../../')\n",
    "if nlp_path not in sys.path:\n",
    "    sys.path.insert(0, nlp_path)\n",
    "\n",
    "from utils_nlp.bert.token_classification import BERTTokenClassifier, postprocess_token_labels, create_label_map\n",
    "from utils_nlp.bert.common import Language, Tokenizer\n",
    "from utils_nlp.dataset.msra_ner import load_pandas_df, get_unique_labels"
   ]
  },
  {
   "cell_type": "markdown",
   "metadata": {},
   "source": [
    "## Configurations"
   ]
  },
  {
   "cell_type": "code",
   "execution_count": 2,
   "metadata": {
    "scrolled": false
   },
   "outputs": [],
   "source": [
    "# path configurations\n",
    "CACHE_DIR = \"./temp\"\n",
    "\n",
    "# set random seeds\n",
    "RANDOM_SEED = 100\n",
    "torch.manual_seed(RANDOM_SEED)\n",
    "\n",
    "# model configurations\n",
    "LANGUAGE = Language.CHINESE\n",
    "DO_LOWER_CASE = True\n",
    "MAX_SEQ_LENGTH = 200\n",
    "\n",
    "# training configurations\n",
    "BATCH_SIZE = 16\n",
    "NUM_TRAIN_EPOCHS = 1\n",
    "\n",
    "# optimizer configuration\n",
    "LEARNING_RATE = 3e-5\n",
    "\n",
    "TEXT_COL = \"sentence\"\n",
    "LABEL_COL = \"labels\""
   ]
  },
  {
   "cell_type": "markdown",
   "metadata": {},
   "source": [
    "## Preprocess Data"
   ]
  },
  {
   "cell_type": "markdown",
   "metadata": {},
   "source": [
    "### Get training and testing data\n",
    "The dataset used in this notebook is the MSRA NER dataset. The dataset consists of 45000 training sentences and 3442 testing sentences. \n",
    "\n",
    "The helper function `load_pandas_df` downloads the data files if they don't exist in `local_cache_path`. It returns the training or testing data frame based on `file_split`\n",
    "\n",
    "The helper function `get_unique_labels` returns the unique entity labels in the dataset. There are 7 unique labels in the   dataset: \n",
    "* 'O': non-entity \n",
    "* 'B-LOC': beginning of location entity\n",
    "* 'I-LOC': within location entity\n",
    "* 'B-PER': beginning of person entity\n",
    "* 'I-PER': within person entity\n",
    "* 'B-ORG': beginning of organization entity\n",
    "* 'I-ORG': within organization entity\n",
    "\n",
    "The maximum number of words in a sentence is 2427. We set MAX_SEQ_LENGTH to 200 above to reduce the GPU memory needed to run this notebook. Less than 1% of testing data are longer than 200, so this should have negligible impact on the model performance evaluation."
   ]
  },
  {
   "cell_type": "code",
   "execution_count": 3,
   "metadata": {},
   "outputs": [
    {
     "name": "stdout",
     "output_type": "stream",
     "text": [
      "Maximum sequence length in the train data is: 746\n",
      "Maximum sequence length in the test data is: 2427\n",
      "Number of sentences in training data: 45000\n",
      "Number of sentences in testing data: 3442\n",
      "Unique labels: ['O', 'B-LOC', 'B-ORG', 'B-PER', 'I-LOC', 'I-ORG', 'I-PER']\n"
     ]
    }
   ],
   "source": [
    "train_df = load_pandas_df(local_cache_path=CACHE_DIR, file_split=\"train\")\n",
    "test_df = load_pandas_df(local_cache_path=CACHE_DIR, file_split=\"test\")\n",
    "label_list = get_unique_labels()\n",
    "print(\"Number of sentences in training data: {}\".format(train_df.shape[0]))\n",
    "print(\"Number of sentences in testing data: {}\".format(test_df.shape[0]))\n",
    "print(\"Unique labels: {}\".format(label_list))"
   ]
  },
  {
   "cell_type": "code",
   "execution_count": 4,
   "metadata": {},
   "outputs": [
    {
     "data": {
      "text/html": [
       "<div>\n",
       "<style scoped>\n",
       "    .dataframe tbody tr th:only-of-type {\n",
       "        vertical-align: middle;\n",
       "    }\n",
       "\n",
       "    .dataframe tbody tr th {\n",
       "        vertical-align: top;\n",
       "    }\n",
       "\n",
       "    .dataframe thead th {\n",
       "        text-align: right;\n",
       "    }\n",
       "</style>\n",
       "<table border=\"1\" class=\"dataframe\">\n",
       "  <thead>\n",
       "    <tr style=\"text-align: right;\">\n",
       "      <th></th>\n",
       "      <th>sentence</th>\n",
       "      <th>labels</th>\n",
       "    </tr>\n",
       "  </thead>\n",
       "  <tbody>\n",
       "    <tr>\n",
       "      <th>0</th>\n",
       "      <td>[尽, 管, 欧, 佩, 克, 组, 织, 成, 员, 国, 于, ３, 月, ２, ２, ...</td>\n",
       "      <td>[O, O, B-ORG, I-ORG, I-ORG, I-ORG, I-ORG, O, O...</td>\n",
       "    </tr>\n",
       "    <tr>\n",
       "      <th>1</th>\n",
       "      <td>[美, 国, 宇, 航, 局, 说, ，, 宇, 航, 员, 的, 安, 全, 不, 成, ...</td>\n",
       "      <td>[B-ORG, I-ORG, I-ORG, I-ORG, I-ORG, O, O, O, O...</td>\n",
       "    </tr>\n",
       "    <tr>\n",
       "      <th>2</th>\n",
       "      <td>[这, 一, 问, 题, 将, 由, ６, 月, ２, ４, 日, 召, 开, 的, 欧, ...</td>\n",
       "      <td>[O, O, O, O, O, O, O, O, O, O, O, O, O, O, B-O...</td>\n",
       "    </tr>\n",
       "    <tr>\n",
       "      <th>3</th>\n",
       "      <td>[他, 们, 响, 亮, 地, 提, 出, 了, “, 观, 光, 农, 业, ”, 的, ...</td>\n",
       "      <td>[O, O, O, O, O, O, O, O, O, O, O, O, O, O, O, ...</td>\n",
       "    </tr>\n",
       "    <tr>\n",
       "      <th>4</th>\n",
       "      <td>[拉, 萨, 布, 达, 拉, 宫, 广, 场, 频, 繁, 举, 行, 着, 各, 种, ...</td>\n",
       "      <td>[B-LOC, I-LOC, B-LOC, I-LOC, I-LOC, I-LOC, I-L...</td>\n",
       "    </tr>\n",
       "  </tbody>\n",
       "</table>\n",
       "</div>"
      ],
      "text/plain": [
       "                                            sentence  \\\n",
       "0  [尽, 管, 欧, 佩, 克, 组, 织, 成, 员, 国, 于, ３, 月, ２, ２, ...   \n",
       "1  [美, 国, 宇, 航, 局, 说, ，, 宇, 航, 员, 的, 安, 全, 不, 成, ...   \n",
       "2  [这, 一, 问, 题, 将, 由, ６, 月, ２, ４, 日, 召, 开, 的, 欧, ...   \n",
       "3  [他, 们, 响, 亮, 地, 提, 出, 了, “, 观, 光, 农, 业, ”, 的, ...   \n",
       "4  [拉, 萨, 布, 达, 拉, 宫, 广, 场, 频, 繁, 举, 行, 着, 各, 种, ...   \n",
       "\n",
       "                                              labels  \n",
       "0  [O, O, B-ORG, I-ORG, I-ORG, I-ORG, I-ORG, O, O...  \n",
       "1  [B-ORG, I-ORG, I-ORG, I-ORG, I-ORG, O, O, O, O...  \n",
       "2  [O, O, O, O, O, O, O, O, O, O, O, O, O, O, B-O...  \n",
       "3  [O, O, O, O, O, O, O, O, O, O, O, O, O, O, O, ...  \n",
       "4  [B-LOC, I-LOC, B-LOC, I-LOC, I-LOC, I-LOC, I-L...  "
      ]
     },
     "execution_count": 4,
     "metadata": {},
     "output_type": "execute_result"
    }
   ],
   "source": [
    "train_df.head()"
   ]
  },
  {
   "cell_type": "markdown",
   "metadata": {},
   "source": [
    "**Note that the input text are lists of Chinese characters instead of raw sentences. This format ensures matching between input words and token labels when the words are further tokenized by `Tokenizer.tokenize_ner`. **"
   ]
  },
  {
   "cell_type": "markdown",
   "metadata": {},
   "source": [
    "### Tokenization and Preprocessing\n",
    "The `tokenize_ner` method of the `Tokenizer` class converts raw string data to numerical features, involving the following steps:\n",
    "1. WordPiece tokenization.\n",
    "2. Convert tokens and labels to numerical values, i.e. token ids and label ids.\n",
    "3. Sequence padding or truncation according to the `max_seq_length` configuration."
   ]
  },
  {
   "cell_type": "markdown",
   "metadata": {},
   "source": [
    "**Create a dictionary that maps labels to numerical values**"
   ]
  },
  {
   "cell_type": "code",
   "execution_count": 5,
   "metadata": {
    "scrolled": false
   },
   "outputs": [],
   "source": [
    "label_map = create_label_map(label_list)"
   ]
  },
  {
   "cell_type": "markdown",
   "metadata": {},
   "source": [
    "**Tokenize input text**"
   ]
  },
  {
   "cell_type": "code",
   "execution_count": 6,
   "metadata": {
    "scrolled": false
   },
   "outputs": [],
   "source": [
    "tokenizer = Tokenizer(language=LANGUAGE, \n",
    "                      to_lower=DO_LOWER_CASE, \n",
    "                      cache_dir=CACHE_DIR)"
   ]
  },
  {
   "cell_type": "markdown",
   "metadata": {},
   "source": [
    "**Create numerical features**  "
   ]
  },
  {
   "cell_type": "code",
   "execution_count": 7,
   "metadata": {
    "scrolled": true
   },
   "outputs": [],
   "source": [
    "train_token_ids, train_input_mask, train_trailing_token_mask, train_label_ids = \\\n",
    "    tokenizer.tokenize_ner(text=train_df[TEXT_COL],\n",
    "                           label_map=label_map,\n",
    "                           max_len=MAX_SEQ_LENGTH,\n",
    "                           labels=train_df[LABEL_COL])\n",
    "test_token_ids, test_input_mask, test_trailing_token_mask, test_label_ids = \\\n",
    "    tokenizer.tokenize_ner(text=test_df[TEXT_COL],\n",
    "                           label_map=label_map,\n",
    "                           max_len=MAX_SEQ_LENGTH,\n",
    "                           labels=test_df[LABEL_COL])"
   ]
  },
  {
   "cell_type": "markdown",
   "metadata": {},
   "source": [
    "`Tokenizer.tokenize_ner` outputs three or four lists of numerical features lists, each sublist contains features of an input sentence: \n",
    "1. token ids: list of numerical values each corresponds to a token.\n",
    "2. attention mask: list of 1s and 0s, 1 for input tokens and 0 for padded tokens, so that padded tokens are not attended to. \n",
    "3. trailing word piece mask: boolean list, `True` for the first word piece of each original word, `False` for the trailing word pieces, e.g. ##ize. This mask is useful for removing predictions on trailing word pieces, so that each original word in the input text has a unique predicted label. \n",
    "4. label ids: list of numerical values each corresponds to an entity label, if `labels` is provided."
   ]
  },
  {
   "cell_type": "code",
   "execution_count": 8,
   "metadata": {
    "scrolled": false
   },
   "outputs": [
    {
     "name": "stdout",
     "output_type": "stream",
     "text": [
      "Sample token ids:\n",
      "[2226, 5052, 3616, 877, 1046, 5299, 5302, 2768, 1447, 1744, 754, 8031, 3299, 8030, 8030, 3189, 6809, 2768, 1121, 2208, 1333, 3779, 3189, 772, 7030, 1291, 6379, 8024, 852, 686, 4518, 3779, 817, 1126, 725, 3766, 3300, 2501, 2768, 6772, 2487, 4638, 1353, 2486, 1232, 1928, 8024, 793, 1905, 754, 856, 6837, 4307, 2578, 511, 0.0, 0.0, 0.0, 0.0, 0.0, 0.0, 0.0, 0.0, 0.0, 0.0, 0.0, 0.0, 0.0, 0.0, 0.0, 0.0, 0.0, 0.0, 0.0, 0.0, 0.0, 0.0, 0.0, 0.0, 0.0, 0.0, 0.0, 0.0, 0.0, 0.0, 0.0, 0.0, 0.0, 0.0, 0.0, 0.0, 0.0, 0.0, 0.0, 0.0, 0.0, 0.0, 0.0, 0.0, 0.0, 0.0, 0.0, 0.0, 0.0, 0.0, 0.0, 0.0, 0.0, 0.0, 0.0, 0.0, 0.0, 0.0, 0.0, 0.0, 0.0, 0.0, 0.0, 0.0, 0.0, 0.0, 0.0, 0.0, 0.0, 0.0, 0.0, 0.0, 0.0, 0.0, 0.0, 0.0, 0.0, 0.0, 0.0, 0.0, 0.0, 0.0, 0.0, 0.0, 0.0, 0.0, 0.0, 0.0, 0.0, 0.0, 0.0, 0.0, 0.0, 0.0, 0.0, 0.0, 0.0, 0.0, 0.0, 0.0, 0.0, 0.0, 0.0, 0.0, 0.0, 0.0, 0.0, 0.0, 0.0, 0.0, 0.0, 0.0, 0.0, 0.0, 0.0, 0.0, 0.0, 0.0, 0.0, 0.0, 0.0, 0.0, 0.0, 0.0, 0.0, 0.0, 0.0, 0.0, 0.0, 0.0, 0.0, 0.0, 0.0, 0.0, 0.0, 0.0, 0.0, 0.0, 0.0, 0.0, 0.0, 0.0, 0.0, 0.0, 0.0]\n",
      "\n",
      "Sample attention mask:\n",
      "[1.0, 1.0, 1.0, 1.0, 1.0, 1.0, 1.0, 1.0, 1.0, 1.0, 1.0, 1.0, 1.0, 1.0, 1.0, 1.0, 1.0, 1.0, 1.0, 1.0, 1.0, 1.0, 1.0, 1.0, 1.0, 1.0, 1.0, 1.0, 1.0, 1.0, 1.0, 1.0, 1.0, 1.0, 1.0, 1.0, 1.0, 1.0, 1.0, 1.0, 1.0, 1.0, 1.0, 1.0, 1.0, 1.0, 1.0, 1.0, 1.0, 1.0, 1.0, 1.0, 1.0, 1.0, 1.0, 0.0, 0.0, 0.0, 0.0, 0.0, 0.0, 0.0, 0.0, 0.0, 0.0, 0.0, 0.0, 0.0, 0.0, 0.0, 0.0, 0.0, 0.0, 0.0, 0.0, 0.0, 0.0, 0.0, 0.0, 0.0, 0.0, 0.0, 0.0, 0.0, 0.0, 0.0, 0.0, 0.0, 0.0, 0.0, 0.0, 0.0, 0.0, 0.0, 0.0, 0.0, 0.0, 0.0, 0.0, 0.0, 0.0, 0.0, 0.0, 0.0, 0.0, 0.0, 0.0, 0.0, 0.0, 0.0, 0.0, 0.0, 0.0, 0.0, 0.0, 0.0, 0.0, 0.0, 0.0, 0.0, 0.0, 0.0, 0.0, 0.0, 0.0, 0.0, 0.0, 0.0, 0.0, 0.0, 0.0, 0.0, 0.0, 0.0, 0.0, 0.0, 0.0, 0.0, 0.0, 0.0, 0.0, 0.0, 0.0, 0.0, 0.0, 0.0, 0.0, 0.0, 0.0, 0.0, 0.0, 0.0, 0.0, 0.0, 0.0, 0.0, 0.0, 0.0, 0.0, 0.0, 0.0, 0.0, 0.0, 0.0, 0.0, 0.0, 0.0, 0.0, 0.0, 0.0, 0.0, 0.0, 0.0, 0.0, 0.0, 0.0, 0.0, 0.0, 0.0, 0.0, 0.0, 0.0, 0.0, 0.0, 0.0, 0.0, 0.0, 0.0, 0.0, 0.0, 0.0, 0.0, 0.0, 0.0, 0.0, 0.0, 0.0, 0.0, 0.0, 0.0]\n",
      "\n",
      "Sample trailing token mask:\n",
      "[True, True, True, True, True, True, True, True, True, True, True, True, True, True, True, True, True, True, True, True, True, True, True, True, True, True, True, True, True, True, True, True, True, True, True, True, True, True, True, True, True, True, True, True, True, True, True, True, True, True, True, True, True, True, True, True, True, True, True, True, True, True, True, True, True, True, True, True, True, True, True, True, True, True, True, True, True, True, True, True, True, True, True, True, True, True, True, True, True, True, True, True, True, True, True, True, True, True, True, True, True, True, True, True, True, True, True, True, True, True, True, True, True, True, True, True, True, True, True, True, True, True, True, True, True, True, True, True, True, True, True, True, True, True, True, True, True, True, True, True, True, True, True, True, True, True, True, True, True, True, True, True, True, True, True, True, True, True, True, True, True, True, True, True, True, True, True, True, True, True, True, True, True, True, True, True, True, True, True, True, True, True, True, True, True, True, True, True, True, True, True, True, True, True, True, True, True, True, True, True]\n",
      "\n",
      "Sample label ids:\n",
      "[0, 0, 2, 5, 5, 5, 5, 0, 0, 0, 0, 0, 0, 0, 0, 0, 0, 0, 0, 0, 0, 0, 0, 0, 0, 0, 0, 0, 0, 0, 0, 0, 0, 0, 0, 0, 0, 0, 0, 0, 0, 0, 0, 0, 0, 0, 0, 0, 0, 0, 0, 0, 0, 0, 0, 0, 0, 0, 0, 0, 0, 0, 0, 0, 0, 0, 0, 0, 0, 0, 0, 0, 0, 0, 0, 0, 0, 0, 0, 0, 0, 0, 0, 0, 0, 0, 0, 0, 0, 0, 0, 0, 0, 0, 0, 0, 0, 0, 0, 0, 0, 0, 0, 0, 0, 0, 0, 0, 0, 0, 0, 0, 0, 0, 0, 0, 0, 0, 0, 0, 0, 0, 0, 0, 0, 0, 0, 0, 0, 0, 0, 0, 0, 0, 0, 0, 0, 0, 0, 0, 0, 0, 0, 0, 0, 0, 0, 0, 0, 0, 0, 0, 0, 0, 0, 0, 0, 0, 0, 0, 0, 0, 0, 0, 0, 0, 0, 0, 0, 0, 0, 0, 0, 0, 0, 0, 0, 0, 0, 0, 0, 0, 0, 0, 0, 0, 0, 0, 0, 0, 0, 0, 0, 0, 0, 0, 0, 0, 0, 0]\n",
      "\n"
     ]
    }
   ],
   "source": [
    "print((\"Sample token ids:\\n{}\\n\".format(train_token_ids[0])))\n",
    "print(\"Sample attention mask:\\n{}\\n\".format(train_input_mask[0]))\n",
    "print(\"Sample trailing token mask:\\n{}\\n\".format(train_trailing_token_mask[0]))\n",
    "print(\"Sample label ids:\\n{}\\n\".format(train_label_ids[0]))"
   ]
  },
  {
   "cell_type": "markdown",
   "metadata": {},
   "source": [
    "## Create Token Classifier\n",
    "The value of the `language` argument determines which BERT model is used:\n",
    "* Language.ENGLISH: \"bert-base-uncased\"\n",
    "* Language.ENGLISHCASED: \"bert-base-cased\"\n",
    "* Language.ENGLISHLARGE: \"bert-large-uncased\"\n",
    "* Language.ENGLISHLARGECASED: \"bert-large-cased\"\n",
    "* Language.CHINESE: \"bert-base-chinese\"\n",
    "* Language.MULTILINGUAL: \"bert-base-multilingual-cased\"\n",
    "\n",
    "Here we use the base model pre-trained only on Chinese data."
   ]
  },
  {
   "cell_type": "code",
   "execution_count": 9,
   "metadata": {
    "scrolled": false
   },
   "outputs": [],
   "source": [
    "token_classifier = BERTTokenClassifier(language=LANGUAGE,\n",
    "                                       num_labels=len(label_map),\n",
    "                                       cache_dir=CACHE_DIR)"
   ]
  },
  {
   "cell_type": "markdown",
   "metadata": {},
   "source": [
    "## Train Model"
   ]
  },
  {
   "cell_type": "code",
   "execution_count": 10,
   "metadata": {
    "scrolled": true
   },
   "outputs": [
    {
     "name": "stderr",
     "output_type": "stream",
     "text": [
      "t_total value of -1 results in schedule not being applied\n",
      "Epoch:   0%|          | 0/1 [00:00<?, ?it/s]\n",
      "Iteration:   0%|          | 0/2813 [00:00<?, ?it/s]\u001b[A"
     ]
    },
    {
     "name": "stdout",
     "output_type": "stream",
     "text": [
      "Warning: Only 1 CUDA device is available. Data parallelism is not possible.\n"
     ]
    },
    {
     "name": "stderr",
     "output_type": "stream",
     "text": [
      "\n",
      "Iteration:   1%|          | 25/2813 [00:30<55:48,  1.20s/it]\u001b[A\n",
      "Iteration:   1%|          | 25/2813 [00:49<55:48,  1.20s/it]\u001b[A\n",
      "Iteration:   2%|▏         | 50/2813 [01:00<55:25,  1.20s/it]\u001b[A\n",
      "Iteration:   2%|▏         | 50/2813 [01:20<55:25,  1.20s/it]\u001b[A\n",
      "Iteration:   3%|▎         | 75/2813 [01:30<55:08,  1.21s/it]\u001b[A\n",
      "Iteration:   3%|▎         | 75/2813 [01:50<55:08,  1.21s/it]\u001b[A\n",
      "Iteration:   4%|▎         | 100/2813 [02:01<54:52,  1.21s/it]\u001b[A\n",
      "Iteration:   4%|▎         | 100/2813 [02:20<54:52,  1.21s/it]\u001b[A\n",
      "Iteration:   4%|▍         | 125/2813 [02:32<54:35,  1.22s/it]\u001b[A\n",
      "Iteration:   4%|▍         | 125/2813 [02:50<54:35,  1.22s/it]\u001b[A\n",
      "Iteration:   5%|▌         | 150/2813 [03:03<54:17,  1.22s/it]\u001b[A\n",
      "Iteration:   5%|▌         | 150/2813 [03:20<54:17,  1.22s/it]\u001b[A\n",
      "Iteration:   6%|▌         | 175/2813 [03:33<53:56,  1.23s/it]\u001b[A\n",
      "Iteration:   6%|▌         | 175/2813 [03:50<53:56,  1.23s/it]\u001b[A\n",
      "Iteration:   7%|▋         | 200/2813 [04:04<53:31,  1.23s/it]\u001b[A\n",
      "Iteration:   7%|▋         | 200/2813 [04:20<53:31,  1.23s/it]\u001b[A\n",
      "Iteration:   8%|▊         | 225/2813 [04:35<53:05,  1.23s/it]\u001b[A\n",
      "Iteration:   8%|▊         | 225/2813 [04:50<53:05,  1.23s/it]\u001b[A\n",
      "Iteration:   9%|▉         | 250/2813 [05:06<52:38,  1.23s/it]\u001b[A\n",
      "Iteration:   9%|▉         | 250/2813 [05:20<52:38,  1.23s/it]\u001b[A\n",
      "Iteration:  10%|▉         | 275/2813 [05:37<52:10,  1.23s/it]\u001b[A\n",
      "Iteration:  10%|▉         | 275/2813 [05:50<52:10,  1.23s/it]\u001b[A\n",
      "Iteration:  11%|█         | 300/2813 [06:08<51:41,  1.23s/it]\u001b[A\n",
      "Iteration:  11%|█         | 300/2813 [06:20<51:41,  1.23s/it]\u001b[A\n",
      "Iteration:  12%|█▏        | 325/2813 [06:39<51:10,  1.23s/it]\u001b[A\n",
      "Iteration:  12%|█▏        | 325/2813 [06:50<51:10,  1.23s/it]\u001b[A\n",
      "Iteration:  12%|█▏        | 350/2813 [07:10<50:41,  1.23s/it]\u001b[A\n",
      "Iteration:  12%|█▏        | 350/2813 [07:30<50:41,  1.23s/it]\u001b[A\n",
      "Iteration:  13%|█▎        | 375/2813 [07:41<50:12,  1.24s/it]\u001b[A\n",
      "Iteration:  13%|█▎        | 375/2813 [08:00<50:12,  1.24s/it]\u001b[A\n",
      "Iteration:  14%|█▍        | 400/2813 [08:11<49:41,  1.24s/it]\u001b[A\n",
      "Iteration:  14%|█▍        | 400/2813 [08:30<49:41,  1.24s/it]\u001b[A\n",
      "Iteration:  15%|█▌        | 425/2813 [08:42<49:10,  1.24s/it]\u001b[A\n",
      "Iteration:  15%|█▌        | 425/2813 [09:00<49:10,  1.24s/it]\u001b[A\n",
      "Iteration:  16%|█▌        | 450/2813 [09:13<48:38,  1.24s/it]\u001b[A\n",
      "Iteration:  16%|█▌        | 450/2813 [09:30<48:38,  1.24s/it]\u001b[A\n",
      "Iteration:  17%|█▋        | 475/2813 [09:44<48:06,  1.23s/it]\u001b[A\n",
      "Iteration:  17%|█▋        | 475/2813 [10:00<48:06,  1.23s/it]\u001b[A\n",
      "Iteration:  18%|█▊        | 500/2813 [10:15<47:34,  1.23s/it]\u001b[A\n",
      "Iteration:  18%|█▊        | 500/2813 [10:30<47:34,  1.23s/it]\u001b[A\n",
      "Iteration:  19%|█▊        | 525/2813 [10:46<47:02,  1.23s/it]\u001b[A\n",
      "Iteration:  19%|█▊        | 525/2813 [11:00<47:02,  1.23s/it]\u001b[A\n",
      "Iteration:  20%|█▉        | 550/2813 [11:16<46:31,  1.23s/it]\u001b[A\n",
      "Iteration:  20%|█▉        | 550/2813 [11:30<46:31,  1.23s/it]\u001b[A\n",
      "Iteration:  20%|██        | 575/2813 [11:47<46:00,  1.23s/it]\u001b[A\n",
      "Iteration:  20%|██        | 575/2813 [12:00<46:00,  1.23s/it]\u001b[A\n",
      "Iteration:  21%|██▏       | 600/2813 [12:18<45:30,  1.23s/it]\u001b[A\n",
      "Iteration:  21%|██▏       | 600/2813 [12:30<45:30,  1.23s/it]\u001b[A\n",
      "Iteration:  22%|██▏       | 625/2813 [12:49<44:59,  1.23s/it]\u001b[A\n",
      "Iteration:  22%|██▏       | 625/2813 [13:00<44:59,  1.23s/it]\u001b[A\n",
      "Iteration:  23%|██▎       | 650/2813 [13:20<44:27,  1.23s/it]\u001b[A\n",
      "Iteration:  23%|██▎       | 650/2813 [13:40<44:27,  1.23s/it]\u001b[A\n",
      "Iteration:  24%|██▍       | 675/2813 [13:51<43:55,  1.23s/it]\u001b[A\n",
      "Iteration:  24%|██▍       | 675/2813 [14:10<43:55,  1.23s/it]\u001b[A\n",
      "Iteration:  25%|██▍       | 700/2813 [14:21<43:24,  1.23s/it]\u001b[A\n",
      "Iteration:  25%|██▍       | 700/2813 [14:40<43:24,  1.23s/it]\u001b[A\n",
      "Iteration:  26%|██▌       | 725/2813 [14:52<42:53,  1.23s/it]\u001b[A\n",
      "Iteration:  26%|██▌       | 725/2813 [15:10<42:53,  1.23s/it]\u001b[A\n",
      "Iteration:  27%|██▋       | 750/2813 [15:23<42:22,  1.23s/it]\u001b[A\n",
      "Iteration:  27%|██▋       | 750/2813 [15:40<42:22,  1.23s/it]\u001b[A\n",
      "Iteration:  28%|██▊       | 775/2813 [15:54<41:51,  1.23s/it]\u001b[A\n",
      "Iteration:  28%|██▊       | 775/2813 [16:10<41:51,  1.23s/it]\u001b[A\n",
      "Iteration:  28%|██▊       | 800/2813 [16:25<41:19,  1.23s/it]\u001b[A\n",
      "Iteration:  28%|██▊       | 800/2813 [16:40<41:19,  1.23s/it]\u001b[A\n",
      "Iteration:  29%|██▉       | 825/2813 [16:55<40:48,  1.23s/it]\u001b[A\n",
      "Iteration:  29%|██▉       | 825/2813 [17:10<40:48,  1.23s/it]\u001b[A\n",
      "Iteration:  30%|███       | 850/2813 [17:26<40:18,  1.23s/it]\u001b[A\n",
      "Iteration:  30%|███       | 850/2813 [17:40<40:18,  1.23s/it]\u001b[A\n",
      "Iteration:  31%|███       | 875/2813 [17:57<39:47,  1.23s/it]\u001b[A\n",
      "Iteration:  31%|███       | 875/2813 [18:10<39:47,  1.23s/it]\u001b[A\n",
      "Iteration:  32%|███▏      | 900/2813 [18:28<39:17,  1.23s/it]\u001b[A\n",
      "Iteration:  32%|███▏      | 900/2813 [18:40<39:17,  1.23s/it]\u001b[A\n",
      "Iteration:  33%|███▎      | 925/2813 [18:59<38:46,  1.23s/it]\u001b[A\n",
      "Iteration:  33%|███▎      | 925/2813 [19:10<38:46,  1.23s/it]\u001b[A\n",
      "Iteration:  34%|███▍      | 950/2813 [19:29<38:16,  1.23s/it]\u001b[A\n",
      "Iteration:  34%|███▍      | 950/2813 [19:40<38:16,  1.23s/it]\u001b[A\n",
      "Iteration:  35%|███▍      | 975/2813 [20:00<37:44,  1.23s/it]\u001b[A\n",
      "Iteration:  35%|███▍      | 975/2813 [20:20<37:44,  1.23s/it]\u001b[A\n",
      "Iteration:  36%|███▌      | 1000/2813 [20:31<37:14,  1.23s/it]\u001b[A\n",
      "Iteration:  36%|███▌      | 1000/2813 [20:50<37:14,  1.23s/it]\u001b[A\n",
      "Iteration:  36%|███▋      | 1025/2813 [21:02<36:43,  1.23s/it]\u001b[A\n",
      "Iteration:  36%|███▋      | 1025/2813 [21:20<36:43,  1.23s/it]\u001b[A\n",
      "Iteration:  37%|███▋      | 1050/2813 [21:33<36:12,  1.23s/it]\u001b[A\n",
      "Iteration:  37%|███▋      | 1050/2813 [21:50<36:12,  1.23s/it]\u001b[A\n",
      "Iteration:  38%|███▊      | 1075/2813 [22:03<35:40,  1.23s/it]\u001b[A\n",
      "Iteration:  38%|███▊      | 1075/2813 [22:20<35:40,  1.23s/it]\u001b[A\n",
      "Iteration:  39%|███▉      | 1100/2813 [22:34<35:05,  1.23s/it]\u001b[A\n",
      "Iteration:  39%|███▉      | 1100/2813 [22:50<35:05,  1.23s/it]\u001b[A\n",
      "Iteration:  40%|███▉      | 1125/2813 [23:05<34:31,  1.23s/it]\u001b[A\n",
      "Iteration:  40%|███▉      | 1125/2813 [23:20<34:31,  1.23s/it]\u001b[A\n",
      "Iteration:  41%|████      | 1150/2813 [23:35<33:58,  1.23s/it]\u001b[A\n",
      "Iteration:  41%|████      | 1150/2813 [23:50<33:58,  1.23s/it]\u001b[A\n",
      "Iteration:  42%|████▏     | 1175/2813 [24:06<33:30,  1.23s/it]\u001b[A\n",
      "Iteration:  42%|████▏     | 1175/2813 [24:20<33:30,  1.23s/it]\u001b[A\n",
      "Iteration:  43%|████▎     | 1200/2813 [24:37<33:01,  1.23s/it]\u001b[A\n",
      "Iteration:  43%|████▎     | 1200/2813 [24:50<33:01,  1.23s/it]\u001b[A\n",
      "Iteration:  44%|████▎     | 1225/2813 [25:07<32:32,  1.23s/it]\u001b[A\n",
      "Iteration:  44%|████▎     | 1225/2813 [25:20<32:32,  1.23s/it]\u001b[A\n",
      "Iteration:  44%|████▍     | 1250/2813 [25:38<32:02,  1.23s/it]\u001b[A\n",
      "Iteration:  44%|████▍     | 1250/2813 [25:50<32:02,  1.23s/it]\u001b[A\n",
      "Iteration:  45%|████▌     | 1275/2813 [26:09<31:33,  1.23s/it]\u001b[A\n",
      "Iteration:  45%|████▌     | 1275/2813 [26:20<31:33,  1.23s/it]\u001b[A\n",
      "Iteration:  46%|████▌     | 1300/2813 [26:40<31:03,  1.23s/it]\u001b[A\n",
      "Iteration:  46%|████▌     | 1300/2813 [27:00<31:03,  1.23s/it]\u001b[A\n",
      "Iteration:  47%|████▋     | 1325/2813 [27:11<30:32,  1.23s/it]\u001b[A\n",
      "Iteration:  47%|████▋     | 1325/2813 [27:30<30:32,  1.23s/it]\u001b[A\n",
      "Iteration:  48%|████▊     | 1350/2813 [27:41<30:01,  1.23s/it]\u001b[A\n",
      "Iteration:  48%|████▊     | 1350/2813 [28:00<30:01,  1.23s/it]\u001b[A\n",
      "Iteration:  49%|████▉     | 1375/2813 [28:12<29:30,  1.23s/it]\u001b[A\n",
      "Iteration:  49%|████▉     | 1375/2813 [28:30<29:30,  1.23s/it]\u001b[A\n",
      "Iteration:  50%|████▉     | 1400/2813 [28:43<29:00,  1.23s/it]\u001b[A\n",
      "Iteration:  50%|████▉     | 1400/2813 [29:00<29:00,  1.23s/it]\u001b[A\n",
      "Iteration:  51%|█████     | 1425/2813 [29:14<28:29,  1.23s/it]\u001b[A\n",
      "Iteration:  51%|█████     | 1425/2813 [29:30<28:29,  1.23s/it]\u001b[A\n",
      "Iteration:  52%|█████▏    | 1450/2813 [29:45<27:59,  1.23s/it]\u001b[A\n",
      "Iteration:  52%|█████▏    | 1450/2813 [30:00<27:59,  1.23s/it]\u001b[A\n",
      "Iteration:  52%|█████▏    | 1475/2813 [30:15<27:27,  1.23s/it]\u001b[A\n",
      "Iteration:  52%|█████▏    | 1475/2813 [30:30<27:27,  1.23s/it]\u001b[A\n",
      "Iteration:  53%|█████▎    | 1500/2813 [30:46<26:56,  1.23s/it]\u001b[A\n",
      "Iteration:  53%|█████▎    | 1500/2813 [31:00<26:56,  1.23s/it]\u001b[A\n",
      "Iteration:  54%|█████▍    | 1525/2813 [31:17<26:25,  1.23s/it]\u001b[A\n",
      "Iteration:  54%|█████▍    | 1525/2813 [31:30<26:25,  1.23s/it]\u001b[A\n",
      "Iteration:  55%|█████▌    | 1550/2813 [31:48<25:54,  1.23s/it]\u001b[A\n",
      "Iteration:  55%|█████▌    | 1550/2813 [32:00<25:54,  1.23s/it]\u001b[A\n",
      "Iteration:  56%|█████▌    | 1575/2813 [32:19<25:25,  1.23s/it]\u001b[A\n",
      "Iteration:  56%|█████▌    | 1575/2813 [32:30<25:25,  1.23s/it]\u001b[A\n",
      "Iteration:  57%|█████▋    | 1600/2813 [32:49<24:54,  1.23s/it]\u001b[A\n",
      "Iteration:  57%|█████▋    | 1600/2813 [33:00<24:54,  1.23s/it]\u001b[A\n",
      "Iteration:  58%|█████▊    | 1625/2813 [33:20<24:24,  1.23s/it]\u001b[A\n",
      "Iteration:  58%|█████▊    | 1625/2813 [33:40<24:24,  1.23s/it]\u001b[A\n",
      "Iteration:  59%|█████▊    | 1650/2813 [33:51<23:54,  1.23s/it]\u001b[A\n",
      "Iteration:  59%|█████▊    | 1650/2813 [34:10<23:54,  1.23s/it]\u001b[A\n",
      "Iteration:  60%|█████▉    | 1675/2813 [34:22<23:23,  1.23s/it]\u001b[A\n",
      "Iteration:  60%|█████▉    | 1675/2813 [34:40<23:23,  1.23s/it]\u001b[A\n",
      "Iteration:  60%|██████    | 1700/2813 [34:53<22:52,  1.23s/it]\u001b[A\n",
      "Iteration:  60%|██████    | 1700/2813 [35:10<22:52,  1.23s/it]\u001b[A\n",
      "Iteration:  61%|██████▏   | 1725/2813 [35:24<22:21,  1.23s/it]\u001b[A\n",
      "Iteration:  61%|██████▏   | 1725/2813 [35:40<22:21,  1.23s/it]\u001b[A\n",
      "Iteration:  62%|██████▏   | 1750/2813 [35:54<21:49,  1.23s/it]\u001b[A\n",
      "Iteration:  62%|██████▏   | 1750/2813 [36:10<21:49,  1.23s/it]\u001b[A\n",
      "Iteration:  63%|██████▎   | 1775/2813 [36:25<21:18,  1.23s/it]\u001b[A\n",
      "Iteration:  63%|██████▎   | 1775/2813 [36:40<21:18,  1.23s/it]\u001b[A\n",
      "Iteration:  64%|██████▍   | 1800/2813 [36:56<20:47,  1.23s/it]\u001b[A\n",
      "Iteration:  64%|██████▍   | 1800/2813 [37:10<20:47,  1.23s/it]\u001b[A\n",
      "Iteration:  65%|██████▍   | 1825/2813 [37:27<20:16,  1.23s/it]\u001b[A\n",
      "Iteration:  65%|██████▍   | 1825/2813 [37:40<20:16,  1.23s/it]\u001b[A\n",
      "Iteration:  66%|██████▌   | 1850/2813 [37:57<19:44,  1.23s/it]\u001b[A\n",
      "Iteration:  66%|██████▌   | 1850/2813 [38:10<19:44,  1.23s/it]\u001b[A\n",
      "Iteration:  67%|██████▋   | 1875/2813 [38:28<19:13,  1.23s/it]\u001b[A\n",
      "Iteration:  67%|██████▋   | 1875/2813 [38:40<19:13,  1.23s/it]\u001b[A\n",
      "Iteration:  68%|██████▊   | 1900/2813 [38:59<18:41,  1.23s/it]\u001b[A\n",
      "Iteration:  68%|██████▊   | 1900/2813 [39:10<18:41,  1.23s/it]\u001b[A\n",
      "Iteration:  68%|██████▊   | 1925/2813 [39:29<18:10,  1.23s/it]\u001b[A\n",
      "Iteration:  68%|██████▊   | 1925/2813 [39:40<18:10,  1.23s/it]\u001b[A\n",
      "Iteration:  69%|██████▉   | 1950/2813 [40:00<17:40,  1.23s/it]\u001b[A\n",
      "Iteration:  69%|██████▉   | 1950/2813 [40:20<17:40,  1.23s/it]\u001b[A\n",
      "Iteration:  70%|███████   | 1975/2813 [40:31<17:09,  1.23s/it]\u001b[A\n",
      "Iteration:  70%|███████   | 1975/2813 [40:50<17:09,  1.23s/it]\u001b[A\n",
      "Iteration:  71%|███████   | 2000/2813 [41:01<16:38,  1.23s/it]\u001b[A\n",
      "Iteration:  71%|███████   | 2000/2813 [41:20<16:38,  1.23s/it]\u001b[A\n",
      "Iteration:  72%|███████▏  | 2025/2813 [41:32<16:07,  1.23s/it]\u001b[A\n",
      "Iteration:  72%|███████▏  | 2025/2813 [41:50<16:07,  1.23s/it]\u001b[A\n",
      "Iteration:  73%|███████▎  | 2050/2813 [42:03<15:36,  1.23s/it]\u001b[A\n",
      "Iteration:  73%|███████▎  | 2050/2813 [42:20<15:36,  1.23s/it]\u001b[A\n",
      "Iteration:  74%|███████▍  | 2075/2813 [42:34<15:06,  1.23s/it]\u001b[A\n",
      "Iteration:  74%|███████▍  | 2075/2813 [42:50<15:06,  1.23s/it]\u001b[A\n",
      "Iteration:  75%|███████▍  | 2100/2813 [43:04<14:35,  1.23s/it]\u001b[A\n",
      "Iteration:  75%|███████▍  | 2100/2813 [43:20<14:35,  1.23s/it]\u001b[A\n",
      "Iteration:  76%|███████▌  | 2125/2813 [43:35<14:04,  1.23s/it]\u001b[A\n",
      "Iteration:  76%|███████▌  | 2125/2813 [43:50<14:04,  1.23s/it]\u001b[A\n",
      "Iteration:  76%|███████▋  | 2150/2813 [44:06<13:33,  1.23s/it]\u001b[A\n",
      "Iteration:  76%|███████▋  | 2150/2813 [44:20<13:33,  1.23s/it]\u001b[A\n",
      "Iteration:  77%|███████▋  | 2175/2813 [44:36<13:03,  1.23s/it]\u001b[A\n",
      "Iteration:  77%|███████▋  | 2175/2813 [44:50<13:03,  1.23s/it]\u001b[A\n",
      "Iteration:  78%|███████▊  | 2200/2813 [45:07<12:32,  1.23s/it]\u001b[A\n",
      "Iteration:  78%|███████▊  | 2200/2813 [45:20<12:32,  1.23s/it]\u001b[A\n",
      "Iteration:  79%|███████▉  | 2225/2813 [45:38<12:01,  1.23s/it]\u001b[A\n",
      "Iteration:  79%|███████▉  | 2225/2813 [45:50<12:01,  1.23s/it]\u001b[A\n",
      "Iteration:  80%|███████▉  | 2250/2813 [46:08<11:30,  1.23s/it]\u001b[A\n",
      "Iteration:  80%|███████▉  | 2250/2813 [46:20<11:30,  1.23s/it]\u001b[A\n",
      "Iteration:  81%|████████  | 2275/2813 [46:39<11:00,  1.23s/it]\u001b[A\n",
      "Iteration:  81%|████████  | 2275/2813 [46:50<11:00,  1.23s/it]\u001b[A\n",
      "Iteration:  82%|████████▏ | 2300/2813 [47:10<10:29,  1.23s/it]\u001b[A\n",
      "Iteration:  82%|████████▏ | 2300/2813 [47:20<10:29,  1.23s/it]\u001b[A\n",
      "Iteration:  83%|████████▎ | 2325/2813 [47:40<09:58,  1.23s/it]\u001b[A\n",
      "Iteration:  83%|████████▎ | 2325/2813 [48:00<09:58,  1.23s/it]\u001b[A\n",
      "Iteration:  84%|████████▎ | 2350/2813 [48:11<09:28,  1.23s/it]\u001b[A\n",
      "Iteration:  84%|████████▎ | 2350/2813 [48:30<09:28,  1.23s/it]\u001b[A\n",
      "Iteration:  84%|████████▍ | 2375/2813 [48:42<08:57,  1.23s/it]\u001b[A\n",
      "Iteration:  84%|████████▍ | 2375/2813 [49:00<08:57,  1.23s/it]\u001b[A\n",
      "Iteration:  85%|████████▌ | 2400/2813 [49:12<08:27,  1.23s/it]\u001b[A\n",
      "Iteration:  85%|████████▌ | 2400/2813 [49:30<08:27,  1.23s/it]\u001b[A\n",
      "Iteration:  86%|████████▌ | 2425/2813 [49:43<07:56,  1.23s/it]\u001b[A\n",
      "Iteration:  86%|████████▌ | 2425/2813 [50:00<07:56,  1.23s/it]\u001b[A\n",
      "Iteration:  87%|████████▋ | 2450/2813 [50:14<07:25,  1.23s/it]\u001b[A\n",
      "Iteration:  87%|████████▋ | 2450/2813 [50:30<07:25,  1.23s/it]\u001b[A\n",
      "Iteration:  88%|████████▊ | 2475/2813 [50:45<06:55,  1.23s/it]\u001b[A\n",
      "Iteration:  88%|████████▊ | 2475/2813 [51:00<06:55,  1.23s/it]\u001b[A\n",
      "Iteration:  89%|████████▉ | 2500/2813 [51:15<06:24,  1.23s/it]\u001b[A\n",
      "Iteration:  89%|████████▉ | 2500/2813 [51:30<06:24,  1.23s/it]\u001b[A\n",
      "Iteration:  90%|████████▉ | 2525/2813 [51:46<05:53,  1.23s/it]\u001b[A\n",
      "Iteration:  90%|████████▉ | 2525/2813 [52:00<05:53,  1.23s/it]\u001b[A\n",
      "Iteration:  91%|█████████ | 2550/2813 [52:17<05:22,  1.23s/it]\u001b[A\n",
      "Iteration:  91%|█████████ | 2550/2813 [52:30<05:22,  1.23s/it]\u001b[A\n",
      "Iteration:  92%|█████████▏| 2575/2813 [52:47<04:52,  1.23s/it]\u001b[A\n",
      "Iteration:  92%|█████████▏| 2575/2813 [53:00<04:52,  1.23s/it]\u001b[A\n",
      "Iteration:  92%|█████████▏| 2600/2813 [53:18<04:21,  1.23s/it]\u001b[A\n",
      "Iteration:  92%|█████████▏| 2600/2813 [53:30<04:21,  1.23s/it]\u001b[A\n",
      "Iteration:  93%|█████████▎| 2625/2813 [53:49<03:50,  1.23s/it]\u001b[A\n",
      "Iteration:  93%|█████████▎| 2625/2813 [54:00<03:50,  1.23s/it]\u001b[A\n",
      "Iteration:  94%|█████████▍| 2650/2813 [54:19<03:20,  1.23s/it]\u001b[A\n",
      "Iteration:  94%|█████████▍| 2650/2813 [54:30<03:20,  1.23s/it]\u001b[A\n",
      "Iteration:  95%|█████████▌| 2675/2813 [54:50<02:49,  1.23s/it]\u001b[A\n",
      "Iteration:  95%|█████████▌| 2675/2813 [55:10<02:49,  1.23s/it]\u001b[A\n",
      "Iteration:  96%|█████████▌| 2700/2813 [55:21<02:18,  1.23s/it]\u001b[A\n",
      "Iteration:  96%|█████████▌| 2700/2813 [55:40<02:18,  1.23s/it]\u001b[A\n",
      "Iteration:  97%|█████████▋| 2725/2813 [55:52<01:48,  1.23s/it]\u001b[A\n",
      "Iteration:  97%|█████████▋| 2725/2813 [56:10<01:48,  1.23s/it]\u001b[A\n",
      "Iteration:  98%|█████████▊| 2750/2813 [56:22<01:17,  1.23s/it]\u001b[A\n",
      "Iteration:  98%|█████████▊| 2750/2813 [56:40<01:17,  1.23s/it]\u001b[A\n",
      "Iteration:  99%|█████████▊| 2775/2813 [56:53<00:46,  1.23s/it]\u001b[A\n",
      "Iteration:  99%|█████████▊| 2775/2813 [57:10<00:46,  1.23s/it]\u001b[A\n",
      "Iteration: 100%|█████████▉| 2800/2813 [57:24<00:15,  1.23s/it]\u001b[A\n",
      "Epoch: 100%|██████████| 1/1 [57:39<00:00, 3459.85s/it].23s/it]\u001b[A"
     ]
    },
    {
     "name": "stdout",
     "output_type": "stream",
     "text": [
      "Train loss: 0.059443180853511884\n"
     ]
    },
    {
     "name": "stderr",
     "output_type": "stream",
     "text": [
      "\n"
     ]
    }
   ],
   "source": [
    "token_classifier.fit(token_ids=train_token_ids, \n",
    "                     input_mask=train_input_mask, \n",
    "                     labels=train_label_ids,\n",
    "                     num_epochs=NUM_TRAIN_EPOCHS, \n",
    "                     batch_size=BATCH_SIZE, \n",
    "                     learning_rate=LEARNING_RATE)"
   ]
  },
  {
   "cell_type": "markdown",
   "metadata": {},
   "source": [
    "## Predict on Test Data\n",
    "The `predict` method of the token classifier optionally returns the softmax probability of the predicted class, which is a NxM array, where N is size of the testing data and M is the number of tokens in the testing sequence"
   ]
  },
  {
   "cell_type": "code",
   "execution_count": 11,
   "metadata": {
    "scrolled": false
   },
   "outputs": [
    {
     "name": "stderr",
     "output_type": "stream",
     "text": [
      "\r",
      "Iteration:   0%|          | 0/216 [00:00<?, ?it/s]"
     ]
    },
    {
     "name": "stdout",
     "output_type": "stream",
     "text": [
      "Warning: Only 1 CUDA device is available. Data parallelism is not possible.\n"
     ]
    },
    {
     "name": "stderr",
     "output_type": "stream",
     "text": [
      "Iteration: 100%|██████████| 216/216 [01:28<00:00,  2.45it/s]"
     ]
    },
    {
     "name": "stdout",
     "output_type": "stream",
     "text": [
      "Evaluation loss: 0.029963031752467267\n",
      "Sample predicted probabilities:\n",
      "[0.9984303  0.9996406  0.9998387  0.99995875 0.9999659  0.99996686\n",
      " 0.9999653  0.99997485 0.99997294 0.99997234 0.99995565 0.9999659\n",
      " 0.9999764  0.99997306 0.9999707  0.9999659  0.9999639  0.99997115\n",
      " 0.99997234 0.9999709  0.9999713  0.9999739  0.9999732  0.99997246\n",
      " 0.99997246 0.99997544 0.9999728  0.9999758  0.9999713  0.9999726\n",
      " 0.9999745  0.9999734  0.9999758  0.9999728  0.9999739  0.99996376\n",
      " 0.99995685 0.9999708  0.9999721  0.9999734  0.9999745  0.9999738\n",
      " 0.99997056 0.9999764  0.9997565  0.9997651  0.9994979  0.99969363\n",
      " 0.99973804 0.9998067  0.9997167  0.9998072  0.99989605 0.9999374\n",
      " 0.99995315 0.99995065 0.99994457 0.9996952  0.9994863  0.9981755\n",
      " 0.997241   0.99963045 0.99957377 0.9997564  0.9994242  0.99979025\n",
      " 0.9997782  0.99987435 0.9997774  0.99983525 0.9998965  0.99966764\n",
      " 0.99848396 0.99930775 0.9984328  0.9998795  0.9998504  0.99991655\n",
      " 0.9996692  0.9998728  0.99973184 0.9998615  0.9998672  0.99991643\n",
      " 0.9999485  0.9999243  0.9999273  0.9999074  0.9984498  0.9998512\n",
      " 0.99963784 0.9998771  0.9999267  0.9999449  0.99991786 0.99993026\n",
      " 0.99992704 0.9999472  0.99995196 0.9999598  0.9999552  0.9999578\n",
      " 0.99843055 0.9984394  0.99843067 0.99843043 0.99843055 0.99843055\n",
      " 0.99989355 0.9998455  0.99990284 0.9999038  0.99991775 0.9999558\n",
      " 0.99994004 0.9999554  0.99992037 0.9998338  0.9992242  0.99843043\n",
      " 0.99843043 0.999046   0.99986255 0.99982256 0.9999267  0.9993605\n",
      " 0.9999291  0.99967587 0.99977    0.9984206  0.99959415 0.99843246\n",
      " 0.9992551  0.99951303 0.99917823 0.99992573 0.9996001  0.9999286\n",
      " 0.9995472  0.99985397 0.9998253  0.9998715  0.9992304  0.9999238\n",
      " 0.99843043 0.9999505  0.9999379  0.99843043 0.99843043 0.99843043\n",
      " 0.9984303  0.9984303  0.9984303  0.99843043 0.99843043 0.99843043\n",
      " 0.99983275 0.9998462  0.998431   0.99992967 0.9984345  0.9984308\n",
      " 0.9984308  0.99843174 0.99843055 0.99966836 0.9996505  0.9994405\n",
      " 0.9973653  0.99942183 0.9984364  0.9997886  0.99972945 0.9999306\n",
      " 0.99989676 0.99985445 0.9999244  0.9999325  0.99992836 0.9999502\n",
      " 0.9999447  0.99996257 0.99995553 0.9999553  0.9999232  0.9999453\n",
      " 0.9995939  0.99878937 0.99843043 0.99843043 0.9984347  0.99843043\n",
      " 0.99955267 0.9999355  0.99994063 0.9999558  0.9998578  0.99995506\n",
      " 0.99993396 0.99995184]\n",
      "\n",
      "Sample predicted labels:\n",
      "[0, 0, 0, 0, 0, 0, 0, 0, 0, 0, 0, 0, 0, 0, 0, 0, 0, 0, 0, 0, 0, 0, 0, 0, 0, 0, 0, 0, 0, 0, 0, 0, 0, 0, 0, 0, 0, 0, 0, 0, 0, 0, 0, 0, 0, 0, 0, 0, 0, 0, 0, 0, 0, 0, 0, 0, 0, 0, 0, 0, 0, 0, 0, 0, 0, 0, 0, 0, 0, 0, 0, 0, 0, 0, 0, 0, 0, 0, 0, 0, 0, 0, 0, 0, 0, 0, 0, 0, 0, 0, 0, 0, 0, 0, 0, 0, 0, 0, 0, 0, 0, 0, 0, 0, 0, 0, 0, 0, 0, 0, 0, 0, 0, 0, 0, 0, 0, 0, 0, 0, 0, 0, 0, 0, 0, 0, 0, 0, 0, 0, 0, 0, 0, 0, 0, 0, 0, 0, 0, 0, 0, 0, 0, 0, 0, 0, 0, 0, 0, 0, 0, 0, 0, 0, 0, 0, 0, 0, 0, 0, 0, 0, 0, 0, 0, 0, 0, 0, 0, 0, 0, 0, 0, 0, 0, 0, 0, 0, 0, 0, 0, 0, 0, 0, 0, 0, 0, 0, 0, 0, 0, 0, 0, 0, 0, 0, 0, 0, 0, 0]\n",
      "\n"
     ]
    },
    {
     "name": "stderr",
     "output_type": "stream",
     "text": [
      "\n"
     ]
    }
   ],
   "source": [
    "predictions = token_classifier.predict(token_ids=test_token_ids, \n",
    "                                       input_mask=test_input_mask, \n",
    "                                       labels=test_label_ids, \n",
    "                                       batch_size=BATCH_SIZE,\n",
    "                                       probabilities=True)\n",
    "probabilities = predictions.probabilities\n",
    "pred_label_ids = predictions.classes\n",
    "print(\"Sample predicted probabilities:\\n{}\\n\".format(probabilities[5]))\n",
    "print(\"Sample predicted labels:\\n{}\\n\".format(pred_label_ids[5]))"
   ]
  },
  {
   "cell_type": "markdown",
   "metadata": {},
   "source": [
    "## Evaluate Model\n",
    "The `predict` method of the token classifier outputs label ids for all tokens, including the padded tokens. `postprocess_token_labels` is a helper function that removes the predictions on padded tokens. If a `label_map` is provided, it maps the numerical label ids back to original token labels which are usually string type. "
   ]
  },
  {
   "cell_type": "code",
   "execution_count": 12,
   "metadata": {
    "scrolled": false
   },
   "outputs": [
    {
     "name": "stdout",
     "output_type": "stream",
     "text": [
      "           precision    recall  f1-score   support\n",
      "\n",
      "      ORG       0.80      0.92      0.85      1296\n",
      "      PER       0.94      0.95      0.95      1382\n",
      "      LOC       0.94      0.93      0.94      2803\n",
      "\n",
      "micro avg       0.90      0.93      0.92      5481\n",
      "macro avg       0.91      0.93      0.92      5481\n",
      "\n"
     ]
    }
   ],
   "source": [
    "pred_tags_no_padding = postprocess_token_labels(pred_label_ids, \n",
    "                                                test_input_mask, \n",
    "                                                label_map)\n",
    "true_tags_no_padding = postprocess_token_labels(test_label_ids, \n",
    "                                                test_input_mask, \n",
    "                                                label_map)\n",
    "print(classification_report(true_tags_no_padding, pred_tags_no_padding, digits=2))"
   ]
  }
 ],
 "metadata": {
  "kernelspec": {
   "display_name": "nlp_pytorch",
   "language": "python",
   "name": "nlp_pytorch"
  },
  "language_info": {
   "codemirror_mode": {
    "name": "ipython",
    "version": 3
   },
   "file_extension": ".py",
   "mimetype": "text/x-python",
   "name": "python",
   "nbconvert_exporter": "python",
   "pygments_lexer": "ipython3",
   "version": "3.6.8"
  }
 },
 "nbformat": 4,
 "nbformat_minor": 2
}
