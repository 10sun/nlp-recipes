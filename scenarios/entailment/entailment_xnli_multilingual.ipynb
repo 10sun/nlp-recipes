{
 "cells": [
  {
   "cell_type": "markdown",
   "metadata": {},
   "source": [
    "# Multi-lingual Entailment on XNLI Dataset using BERT"
   ]
  },
  {
   "cell_type": "markdown",
   "metadata": {},
   "source": [
    "### Required packages\n",
    "* pytorch-pretrained-bert\n",
    "* pandas\n",
    "* seqeval\n",
    "* unicode"
   ]
  },
  {
   "cell_type": "code",
   "execution_count": 1,
   "metadata": {
    "scrolled": false
   },
   "outputs": [],
   "source": [
    "import sys\n",
    "import os\n",
    "import random\n",
    "import numpy as np\n",
    "import csv\n",
    "import six\n",
    "\n",
    "import torch\n",
    "\n",
    "nlp_path = os.path.abspath('../../')\n",
    "if nlp_path not in sys.path:\n",
    "    sys.path.insert(0, nlp_path)\n",
    "\n",
    "from utils_nlp.bert.sequence_classification import BERTSequenceClassifier\n",
    "from utils_nlp.bert.common import Language, Tokenizer"
   ]
  },
  {
   "cell_type": "code",
   "execution_count": 15,
   "metadata": {},
   "outputs": [],
   "source": [
    "# set random seeds\n",
    "random_seed = 42\n",
    "random.seed(random_seed)\n",
    "np.random.seed(random_seed)\n",
    "torch.manual_seed(random_seed)\n",
    "num_cuda_devices = torch.cuda.device_count()\n",
    "if num_cuda_devices > 1:\n",
    "    torch.cuda.manual_seed_all(random_seed)\n",
    "\n",
    "# model configurations\n",
    "language = Language.CHINESE\n",
    "do_lower_case = True\n",
    "max_seq_length = 128\n",
    "\n",
    "# training configurations\n",
    "device=\"gpu\"\n",
    "batch_size = 32\n",
    "num_train_epochs = 2\n",
    "\n",
    "# optimizer configurations\n",
    "learning_rate = 5e-5\n",
    "config_file = \"config_multilingual.yaml\"\n",
    "train_data_dir = \"./data/XNLI-MT-1.0/XNLI-MT-1.0/\"\n",
    "dev_data_dir = \"./data/XNLI-MT-1.0/XNLI-MT-1.0/\"\n",
    "cache_dir=\".\""
   ]
  },
  {
   "cell_type": "markdown",
   "metadata": {},
   "source": [
    "## Preprocess Data"
   ]
  },
  {
   "cell_type": "code",
   "execution_count": 3,
   "metadata": {
    "scrolled": false
   },
   "outputs": [],
   "source": [
    "def convert_to_unicode(text):\n",
    "    \"\"\"Converts `text` to Unicode (if it's not already), assuming utf-8 input.\"\"\"\n",
    "    if six.PY3:\n",
    "        if isinstance(text, str):\n",
    "            return text\n",
    "        elif isinstance(text, bytes):\n",
    "            return text.decode(\"utf-8\", \"ignore\")\n",
    "        else:\n",
    "            raise ValueError(\"Unsupported string type: %s\" % (type(text)))\n",
    "    elif six.PY2:\n",
    "        if isinstance(text, str):\n",
    "            return text.decode(\"utf-8\", \"ignore\")\n",
    "        elif isinstance(text, unicode):\n",
    "            return text\n",
    "        else:\n",
    "            raise ValueError(\"Unsupported string type: %s\" % (type(text)))\n",
    "    else:\n",
    "        raise ValueError(\"Not running on Python2 or Python 3?\")\n",
    "        \n",
    "class DataProcessor(object):\n",
    "    \"\"\"Base class for data converters for sequence classification data sets.\"\"\"\n",
    "\n",
    "    def get_train_examples(self, data_dir):\n",
    "        \"\"\"Gets a collection of `InputExample`s for the train set.\"\"\"\n",
    "        raise NotImplementedError()\n",
    "\n",
    "    def get_dev_examples(self, data_dir):\n",
    "        \"\"\"Gets a collection of `InputExample`s for the dev set.\"\"\"\n",
    "        raise NotImplementedError()\n",
    "\n",
    "    def get_labels(self):\n",
    "        \"\"\"Gets the list of labels for this data set.\"\"\"\n",
    "        raise NotImplementedError()\n",
    "\n",
    "    @classmethod\n",
    "    def _read_tsv(cls, input_file, quotechar=None):\n",
    "        \"\"\"Reads a tab separated value file.\"\"\"\n",
    "        with open(input_file, \"r\", encoding=\"utf-8\") as f:\n",
    "            reader = csv.reader(f, delimiter=\"\\t\", quotechar=quotechar)\n",
    "            lines = []\n",
    "            for line in reader:\n",
    "                if sys.version_info[0] == 2:\n",
    "                    line = list(unicode(cell, 'utf-8') for cell in line)\n",
    "                lines.append(line)\n",
    "            return lines\n",
    "\n",
    "        \n",
    "class XnliProcessor(DataProcessor):\n",
    "  \"\"\"Processor for the XNLI data set.\"\"\"\n",
    "\n",
    "  def __init__(self):\n",
    "    self.language = \"zh\"\n",
    "\n",
    "  def get_train_examples(self, data_dir):\n",
    "    \"\"\"See base class.\"\"\"\n",
    "    lines = self._read_tsv(\n",
    "        os.path.join(data_dir, \"multinli\",\n",
    "                     \"multinli.train.%s.tsv\" % self.language))\n",
    "    text_list = []\n",
    "    label_list = []\n",
    "    for (i, line) in enumerate(lines):\n",
    "      if i == 0:\n",
    "        continue\n",
    "      text_a = convert_to_unicode(line[0])\n",
    "      text_b = convert_to_unicode(line[1])\n",
    "      label = convert_to_unicode(line[2])\n",
    "      if label == convert_to_unicode(\"contradictory\"):\n",
    "        label = convert_to_unicode(\"contradiction\")\n",
    "      text_list.append((text_a, text_b))\n",
    "      label_list.append(label)\n",
    "    return text_list, label_list\n",
    "\n",
    "  def get_dev_examples(self, data_dir):\n",
    "    \"\"\"See base class.\"\"\"\n",
    "    lines = self._read_tsv(os.path.join(data_dir, \"xnli\", \"xnli.dev.tsv\"))\n",
    "    text_list = []\n",
    "    label_list = []\n",
    "    for (i, line) in enumerate(lines):\n",
    "      if i == 0:\n",
    "        continue\n",
    "      language = convert_to_unicode(line[0])\n",
    "      if language != convert_to_unicode(self.language):\n",
    "        continue\n",
    "      text_a = convert_to_unicode(line[6])\n",
    "      text_b = convert_to_unicode(line[7])\n",
    "      label = convert_to_unicode(line[1])\n",
    "    \n",
    "      text_list.append((text_a, text_b))\n",
    "      label_list.append(label)\n",
    "    return text_list, label_list\n",
    "\n",
    "  def get_labels(self):\n",
    "    \"\"\"See base class.\"\"\"\n",
    "    return [\"contradiction\", \"entailment\", \"neutral\"]"
   ]
  },
  {
   "cell_type": "code",
   "execution_count": 4,
   "metadata": {
    "scrolled": false
   },
   "outputs": [],
   "source": [
    "xnli_processor =  XnliProcessor()\n",
    "train_text, train_labels = xnli_processor.get_train_examples(data_dir=train_data_dir)\n",
    "dev_text, dev_labels= xnli_processor.get_dev_examples(data_dir=dev_data_dir)\n",
    "label_list = xnli_processor.get_labels()"
   ]
  },
  {
   "cell_type": "code",
   "execution_count": 5,
   "metadata": {},
   "outputs": [],
   "source": [
    "train_text = train_text[:1000]\n",
    "train_labels = train_labels[:1000]\n",
    "dev_text = dev_text[:1000]\n",
    "dev_labels = dev_labels[:1000]"
   ]
  },
  {
   "cell_type": "code",
   "execution_count": 6,
   "metadata": {},
   "outputs": [
    {
     "name": "stdout",
     "output_type": "stream",
     "text": [
      "['contradiction', 'entailment', 'neutral']\n"
     ]
    }
   ],
   "source": [
    "print(label_list)"
   ]
  },
  {
   "cell_type": "markdown",
   "metadata": {},
   "source": [
    "### Convert examples to features\n",
    "The function `convert_examples_to_token_features` converts raw string data to numerical features, involving the following steps:\n",
    "1. Tokenization\n",
    "2. Convert tokens and labels to numerical values\n",
    "3. Sequence padding or truncation"
   ]
  },
  {
   "cell_type": "code",
   "execution_count": 7,
   "metadata": {},
   "outputs": [],
   "source": [
    "tokenizer = Tokenizer(language=language, \n",
    "                      to_lower=do_lower_case, \n",
    "                      cache_dir=cache_dir)"
   ]
  },
  {
   "cell_type": "code",
   "execution_count": 8,
   "metadata": {},
   "outputs": [
    {
     "name": "stderr",
     "output_type": "stream",
     "text": [
      "100%|██████████| 1000/1000 [00:00<00:00, 2916.60it/s]\n",
      "100%|██████████| 1000/1000 [00:00<00:00, 3776.67it/s]\n"
     ]
    }
   ],
   "source": [
    "train_tokens = tokenizer.tokenize(train_text)\n",
    "dev_tokens = tokenizer.tokenize(dev_text)"
   ]
  },
  {
   "cell_type": "code",
   "execution_count": 10,
   "metadata": {},
   "outputs": [],
   "source": [
    "train_token_ids, train_input_mask, train_token_type_ids = \\\n",
    "    tokenizer.preprocess_classification_tokens(train_tokens, max_len=max_seq_length)\n",
    "dev_token_ids, dev_input_mask, dev_token_type_ids = \\\n",
    "    tokenizer.preprocess_classification_tokens(dev_tokens, max_len=max_seq_length)"
   ]
  },
  {
   "cell_type": "code",
   "execution_count": 11,
   "metadata": {},
   "outputs": [],
   "source": [
    "label_map = {label: i for i, label in enumerate(label_list)}\n",
    "train_label_ids = [label_map[l] for l in train_labels]\n",
    "dev_label_ids = [label_map[l] for l in dev_labels]"
   ]
  },
  {
   "cell_type": "code",
   "execution_count": 12,
   "metadata": {},
   "outputs": [
    {
     "name": "stderr",
     "output_type": "stream",
     "text": [
      "100%|██████████| 382072689/382072689 [00:07<00:00, 48295901.53B/s]\n"
     ]
    }
   ],
   "source": [
    "classifier = BERTSequenceClassifier(language=language,\n",
    "                                    num_labels=len(label_list),\n",
    "                                    cache_dir=cache_dir)"
   ]
  },
  {
   "cell_type": "code",
   "execution_count": 16,
   "metadata": {},
   "outputs": [
    {
     "name": "stdout",
     "output_type": "stream",
     "text": [
      "Warning: Only 1 CUDA device is available. Data parallelism is not possible.\n",
      "epoch:1/2; batch:1->4/31; loss:1.304341\n",
      "epoch:1/2; batch:5->8/31; loss:1.074271\n",
      "epoch:1/2; batch:9->12/31; loss:1.063943\n",
      "epoch:1/2; batch:13->16/31; loss:1.124226\n",
      "epoch:1/2; batch:17->20/31; loss:1.100629\n",
      "epoch:1/2; batch:21->24/31; loss:1.128772\n",
      "epoch:1/2; batch:25->28/31; loss:1.216407\n",
      "epoch:1/2; batch:29->32/31; loss:1.041168\n",
      "epoch:2/2; batch:1->4/31; loss:1.054121\n",
      "epoch:2/2; batch:5->8/31; loss:1.015953\n",
      "epoch:2/2; batch:9->12/31; loss:1.072215\n",
      "epoch:2/2; batch:13->16/31; loss:1.143950\n",
      "epoch:2/2; batch:17->20/31; loss:0.927066\n",
      "epoch:2/2; batch:21->24/31; loss:1.054619\n",
      "epoch:2/2; batch:25->28/31; loss:0.914871\n",
      "epoch:2/2; batch:29->32/31; loss:0.977393\n"
     ]
    }
   ],
   "source": [
    "classifier.fit(token_ids=train_token_ids,\n",
    "               input_mask=train_input_mask,\n",
    "               token_type_ids=train_token_type_ids,\n",
    "               labels=train_label_ids,\n",
    "               num_gpus=2,\n",
    "               num_epochs=num_train_epochs,\n",
    "               batch_size=batch_size,\n",
    "               lr=learning_rate,\n",
    "               warmup_proportion=0.1)"
   ]
  },
  {
   "cell_type": "code",
   "execution_count": 17,
   "metadata": {},
   "outputs": [
    {
     "name": "stderr",
     "output_type": "stream",
     "text": [
      "  1%|          | 8/1000 [00:00<00:20, 49.08it/s]"
     ]
    },
    {
     "name": "stdout",
     "output_type": "stream",
     "text": [
      "Warning: Only 1 CUDA device is available. Data parallelism is not possible.\n"
     ]
    },
    {
     "name": "stderr",
     "output_type": "stream",
     "text": [
      "100%|██████████| 1000/1000 [00:15<00:00, 65.77it/s]\n"
     ]
    }
   ],
   "source": [
    "predictions = classifier.predict(token_ids=dev_token_ids,\n",
    "                                 input_mask=dev_input_mask,\n",
    "                                 token_type_ids=dev_token_type_ids,\n",
    "                                 batch_size=8)"
   ]
  },
  {
   "cell_type": "code",
   "execution_count": 18,
   "metadata": {},
   "outputs": [
    {
     "name": "stdout",
     "output_type": "stream",
     "text": [
      "480\n",
      "520\n",
      "0\n"
     ]
    }
   ],
   "source": [
    "print(len([l for l in predictions if l==0]))\n",
    "print(len([l for l in predictions if l==1]))\n",
    "print(len([l for l in predictions if l==2]))"
   ]
  }
 ],
 "metadata": {
  "kernelspec": {
   "display_name": "pytorch",
   "language": "python",
   "name": "pytorch"
  },
  "language_info": {
   "codemirror_mode": {
    "name": "ipython",
    "version": 3
   },
   "file_extension": ".py",
   "mimetype": "text/x-python",
   "name": "python",
   "nbconvert_exporter": "python",
   "pygments_lexer": "ipython3",
   "version": "3.7.3"
  }
 },
 "nbformat": 4,
 "nbformat_minor": 2
}
