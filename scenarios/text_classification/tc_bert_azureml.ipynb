{
 "cells": [
  {
   "cell_type": "markdown",
   "metadata": {},
   "source": [
    "*Copyright (c) Microsoft Corporation. All rights reserved.*\n",
    "\n",
    "*Licensed under the MIT License.*\n",
    "\n",
    "# Text Classification of MultiNLI Sentences using BERT with Azure ML Pipelines"
   ]
  },
  {
   "cell_type": "code",
   "execution_count": 2,
   "metadata": {},
   "outputs": [],
   "source": [
    "import sys\n",
    "sys.path.append(\"../../\")\n",
    "import os\n",
    "import json\n",
    "import random\n",
    "import shutil\n",
    "import pandas as pd\n",
    "\n",
    "from utils_nlp.bert.common import Language, Tokenizer\n",
    "from utils_nlp.azureml import azureml_utils\n",
    "from utils_nlp.dataset.multinli import get_generator\n",
    "\n",
    "from sklearn.preprocessing import LabelEncoder\n",
    "from azureml.core import Datastore, Experiment,  get_run\n",
    "from azureml.core.conda_dependencies import CondaDependencies\n",
    "from azureml.core.runconfig import RunConfiguration\n",
    "from azureml.core.compute import ComputeTarget\n",
    "from azureml.exceptions import ComputeTargetException\n",
    "from azureml.data.data_reference import DataReference\n",
    "from azureml.pipeline.steps import PythonScriptStep\n",
    "from azureml.pipeline.core import Pipeline, PipelineData\n",
    "from azureml.widgets import RunDetails\n",
    "from azureml.train.dnn import PyTorch\n",
    "from azureml.core.runconfig import MpiConfiguration\n",
    "from azureml.pipeline.steps import EstimatorStep"
   ]
  },
  {
   "cell_type": "markdown",
   "metadata": {},
   "source": [
    "## 0. Introduction\n",
    "\n",
    "In this notebook, we fine-tune and evaluate a pretrained BERT model on a subset of the MultiNLI dataset by using Azure ML Pipelines."
   ]
  },
  {
   "cell_type": "code",
   "execution_count": 30,
   "metadata": {},
   "outputs": [],
   "source": [
    "LABEL_COL = \"genre\"\n",
    "TEXT_COL = \"sentence1\"\n",
    "DATA_FOLDER = \"../../data/temp\"\n",
    "TRAIN_FOLDER = \"../../data/temp/train\"\n",
    "TEST_FOLDER = \"../../data/temp/test\"\n",
    "BERT_CACHE_DIR = \"../../data/temp\"\n",
    "LANGUAGE = Language.ENGLISH\n",
    "TO_LOWER = True\n",
    "MAX_LEN = 150\n",
    "BATCH_SIZE = 32\n",
    "NUM_GPUS = 2\n",
    "NUM_EPOCHS = 1\n",
    "TRAIN_SIZE = 0.6\n",
    "TEXT_COL = \"sentence1\"\n",
    "ENCODED_LABEL_COL = \"label\"\n",
    "TOKEN_COL = \"tokens\"\n",
    "MASK_COL = \"mask\"\n",
    "NUM_BATCHES = None\n",
    "LABELS = ['telephone', 'government', 'travel', 'slate', 'fiction']\n",
    "PROJECT_FOLDER = \"../..\"\n",
    "TEMP_FOLDER = \"temp\""
   ]
  },
  {
   "cell_type": "markdown",
   "metadata": {},
   "source": [
    "In this example we will use AzureML pipelines to execute our training pipelines. Each preprocessing step is included as a step in the pipeline. For a more detailed walkthrough of what pipelines are with a getting started guidelines check this [notebook](https://github.com/Azure/MachineLearningNotebooks/blob/master/how-to-use-azureml/machine-learning-pipelines/intro-to-pipelines/aml-pipelines-getting-started.ipynb). We start by doing some AzureML related setup below"
   ]
  },
  {
   "cell_type": "markdown",
   "metadata": {},
   "source": [
    "### 0.1 Create a workspace\n",
    "\n",
    "First, go through the [Configuration](https://github.com/Azure/MachineLearningNotebooks/blob/master/configuration.ipynb) notebook to install the Azure Machine Learning Python SDK and create an Azure ML `Workspace`. This will create a config.json file containing the values needed below to create a workspace.\n",
    "\n",
    "**Note**: you do not need to fill in these values if you have a config.json in the same folder as this notebook"
   ]
  },
  {
   "cell_type": "code",
   "execution_count": 4,
   "metadata": {},
   "outputs": [
    {
     "name": "stdout",
     "output_type": "stream",
     "text": [
      "Performing interactive authentication. Please follow the instructions on the terminal.\n"
     ]
    },
    {
     "name": "stderr",
     "output_type": "stream",
     "text": [
      "WARNING - Note, we have launched a browser for you to login. For old experience with device code, use \"az login --use-device-code\"\n",
      "WARNING - You have logged in. Now let us find all the subscriptions to which you have access...\n"
     ]
    },
    {
     "name": "stdout",
     "output_type": "stream",
     "text": [
      "Interactive authentication successfully completed.\n"
     ]
    }
   ],
   "source": [
    "ws = azureml_utils.get_or_create_workspace(\n",
    "    subscription_id=\"<SUBSCRIPTION_ID>\",\n",
    "    resource_group=\"<RESOURCE_GROUP>\",\n",
    "    workspace_name=\"<WORKSPACE_NAME>\",\n",
    "    workspace_region=\"<WORKSPACE_REGION>\",\n",
    ")"
   ]
  },
  {
   "cell_type": "markdown",
   "metadata": {},
   "source": [
    "### 0.2 Create a compute target"
   ]
  },
  {
   "cell_type": "code",
   "execution_count": null,
   "metadata": {},
   "outputs": [],
   "source": [
    "# choose your cluster\n",
    "cluster_name = \"pipelines-tc-12\"\n",
    "\n",
    "try:\n",
    "    compute_target = ComputeTarget(workspace=ws, name=cluster_name)\n",
    "    print(\"Found existing compute target.\")\n",
    "except ComputeTargetException:\n",
    "    print(\"Creating a new compute target...\")\n",
    "    compute_config = AmlCompute.provisioning_configuration(\n",
    "        vm_size=\"STANDARD_NC12\", max_nodes=8\n",
    "    )\n",
    "\n",
    "    # create the cluster\n",
    "    compute_target = ComputeTarget.create(ws, cluster_name, compute_config)\n",
    "\n",
    "    compute_target.wait_for_completion(show_output=True)\n",
    "\n",
    "# use get_status() to get a detailed status for the current AmlCompute.\n",
    "print(compute_target.get_status().serialize())"
   ]
  },
  {
   "cell_type": "markdown",
   "metadata": {},
   "source": [
    "## 1. Preprocessing\n",
    "\n",
    "The pipeline is defined by a series of steps, the first being a PythonScriptStep which utilizes [DASK](https://dask.org/) to load dataframes in batches allowing us to load and preprocess different sets of data in parallel."
   ]
  },
  {
   "cell_type": "markdown",
   "metadata": {},
   "source": [
    "### 1.1 Read Dataset"
   ]
  },
  {
   "cell_type": "code",
   "execution_count": 33,
   "metadata": {},
   "outputs": [],
   "source": [
    "train_batches = get_generator(DATA_FOLDER, \"train\", num_batches=NUM_BATCHES, batch_size=10e6)\n",
    "test_batches = get_generator(DATA_FOLDER, \"dev_matched\", num_batches=NUM_BATCHES, batch_size=10e6)"
   ]
  },
  {
   "cell_type": "markdown",
   "metadata": {},
   "source": [
    "### 1.2 Preprocess and Tokenize\n",
    "\n",
    "In the classification task, use the first sentence only as the text input, and the corresponding genre as the label. Select the examples corresponding to one of the entailment labels (*neutral* in this case) to avoid duplicate rows, as the sentences are not unique, whereas the sentence pairs are.\n",
    "\n",
    "Once filtered, we encode the labels. To do this, fit a label encoder with the know labels in a MNLI dataset."
   ]
  },
  {
   "cell_type": "code",
   "execution_count": 37,
   "metadata": {
    "scrolled": true
   },
   "outputs": [],
   "source": [
    "os.makedirs(TRAIN_FOLDER, exist_ok=True)\n",
    "os.makedirs(TEST_FOLDER, exist_ok=True)\n",
    "os.makedirs(os.path.join(PROJECT_FOLDER, TEMP_FOLDER), exist_ok=True)\n",
    "\n",
    "labels = LABELS\n",
    "label_encoder = LabelEncoder()\n",
    "label_encoder.fit(labels)\n",
    "\n",
    "num_train_batches = 0\n",
    "for batch in train_batches:\n",
    "    batch = batch[batch[\"gold_label\"]==\"neutral\"]\n",
    "    batch[ENCODED_LABEL_COL] = label_encoder.transform(batch[LABEL_COL])\n",
    "    batch.to_csv(TRAIN_FOLDER+\"/batch{}.csv\".format(str(num_train_batches)))\n",
    "    num_train_batches += 1\n",
    "    \n",
    "num_test_batches = 0\n",
    "for batch in test_batches:\n",
    "    batch = batch[batch[\"gold_label\"]==\"neutral\"]\n",
    "    batch[ENCODED_LABEL_COL] = label_encoder.transform(batch[LABEL_COL])\n",
    "    batch.to_csv(TEST_FOLDER+\"/batch{}.csv\".format(str(num_test_batches)))\n",
    "    num_test_batches += 1"
   ]
  },
  {
   "cell_type": "markdown",
   "metadata": {},
   "source": [
    "Once we have batches of data ready they are uploaded to the datastore."
   ]
  },
  {
   "cell_type": "code",
   "execution_count": 9,
   "metadata": {},
   "outputs": [
    {
     "data": {
      "text/plain": [
       "$AZUREML_DATAREFERENCE_19a8b227ca85497ba549bf5ba4f6e21d"
      ]
     },
     "execution_count": 9,
     "metadata": {},
     "output_type": "execute_result"
    }
   ],
   "source": [
    "ds = ws.get_default_datastore()\n",
    "ds.upload(src_dir=TRAIN_FOLDER, target_path=\"mnli_data/train\", overwrite=True, show_progress=False)\n",
    "ds.upload(src_dir=TEST_FOLDER, target_path=\"mnli_data/test\", overwrite=True, show_progress=False)"
   ]
  },
  {
   "cell_type": "code",
   "execution_count": 10,
   "metadata": {},
   "outputs": [],
   "source": [
    "shutil.rmtree(TRAIN_FOLDER)\n",
    "shutil.rmtree(TEST_FOLDER)"
   ]
  },
  {
   "cell_type": "markdown",
   "metadata": {},
   "source": [
    "We can now parallely operate on each batch to tokenize the data and preprocess the tokens. To do this, we create a PythonScript step below."
   ]
  },
  {
   "cell_type": "code",
   "execution_count": 38,
   "metadata": {
    "scrolled": true
   },
   "outputs": [
    {
     "name": "stdout",
     "output_type": "stream",
     "text": [
      "Writing ../../temp/preprocess.py\n"
     ]
    }
   ],
   "source": [
    "%%writefile $PROJECT_FOLDER/$TEMP_FOLDER/preprocess.py\n",
    "# Copyright (c) Microsoft Corporation. All rights reserved.\n",
    "# Licensed under the MIT License.\n",
    "import argparse\n",
    "import logging\n",
    "import os\n",
    "\n",
    "import pandas as pd\n",
    "\n",
    "from utils_nlp.bert.common import Language, Tokenizer\n",
    "\n",
    "LABEL_COL = \"genre\"\n",
    "TEXT_COL = \"sentence1\"\n",
    "LANGUAGE = Language.ENGLISH\n",
    "TO_LOWER = True\n",
    "MAX_LEN = 150\n",
    "\n",
    "logger = logging.getLogger(__name__)\n",
    "\n",
    "\n",
    "def tokenize(df):\n",
    "    \"\"\"Tokenize the text documents and convert them to lists of tokens using the BERT tokenizer.\n",
    "    Args:\n",
    "        df(pd.Dataframe): Dataframe with training or test samples\n",
    "\n",
    "    Returns:\n",
    "\n",
    "        list: List of lists of tokens for train set.\n",
    "\n",
    "    \"\"\"\n",
    "    tokenizer = Tokenizer(\n",
    "        LANGUAGE, to_lower=TO_LOWER)\n",
    "    tokens = tokenizer.tokenize(list(df[TEXT_COL]))\n",
    "\n",
    "    return tokens\n",
    "\n",
    "\n",
    "def preprocess(tokens):\n",
    "    \"\"\" Preprocess method that does the following,\n",
    "            Convert the tokens into token indices corresponding to the BERT tokenizer's vocabulary\n",
    "            Add the special tokens [CLS] and [SEP] to mark the beginning and end of a sentence\n",
    "            Pad or truncate the token lists to the specified max length\n",
    "            Return mask lists that indicate paddings' positions\n",
    "            Return token type id lists that indicate which sentence the tokens belong to (not needed\n",
    "            for one-sequence classification)\n",
    "\n",
    "    Args:\n",
    "        tokens(pd.Dataframe): Dataframe with tokens for train set.\n",
    "\n",
    "    Returns:\n",
    "        list: List of lists of tokens for train or test set with special tokens added.\n",
    "        list: Input mask.\n",
    "    \"\"\"\n",
    "    tokenizer = Tokenizer(\n",
    "        LANGUAGE, to_lower=TO_LOWER)\n",
    "    tokens, mask, _ = tokenizer.preprocess_classification_tokens(\n",
    "        tokens, MAX_LEN\n",
    "    )\n",
    "\n",
    "    return tokens, mask\n",
    "\n",
    "\n",
    "parser = argparse.ArgumentParser()\n",
    "parser.add_argument(\"--input_data\", type=str, help=\"input data\")\n",
    "parser.add_argument(\"--output_data\", type=str, help=\"Path to the output file.\")\n",
    "\n",
    "args = parser.parse_args()\n",
    "input_data = args.input_data\n",
    "output_data = args.output_data\n",
    "output_dir = os.path.dirname(os.path.abspath(output_data))\n",
    "\n",
    "if output_dir is not None:\n",
    "    os.makedirs(output_dir, exist_ok=True)\n",
    "    logger.info(\"%s created\" % output_dir)\n",
    "\n",
    "df = pd.read_csv(args.input_data)\n",
    "tokens_array = tokenize(df)\n",
    "tokens_array, mask_array = preprocess(tokens_array)\n",
    "\n",
    "df['tokens'] = tokens_array\n",
    "df['mask'] = mask_array\n",
    "\n",
    "# Filter columns\n",
    "cols = ['tokens', 'mask', 'label']\n",
    "df = df[cols]\n",
    "df.to_csv(output_data, header=False, index=False)\n",
    "logger.info(\"Completed\")"
   ]
  },
  {
   "cell_type": "markdown",
   "metadata": {},
   "source": [
    "Create a conda environment for the steps below."
   ]
  },
  {
   "cell_type": "code",
   "execution_count": 12,
   "metadata": {},
   "outputs": [],
   "source": [
    "conda_dependencies = CondaDependencies.create(\n",
    "    conda_packages=[\n",
    "        \"numpy\",\n",
    "        \"scikit-learn\",\n",
    "        \"pandas\",\n",
    "    ],\n",
    "    pip_packages=[\"azureml-sdk==1.0.43.*\", \n",
    "                  \"torch==1.1\", \n",
    "                  \"tqdm==4.31.1\",\n",
    "                 \"pytorch-pretrained-bert>=0.6\"],\n",
    "    python_version=\"3.6.8\",\n",
    ")\n",
    "run_config = RunConfiguration(conda_dependencies=conda_dependencies)\n",
    "run_config.environment.docker.enabled = True"
   ]
  },
  {
   "cell_type": "markdown",
   "metadata": {},
   "source": [
    "Then create the list of steps that use the preprocess.py created above. We use the output of these steps as input to training in the next section."
   ]
  },
  {
   "cell_type": "code",
   "execution_count": 13,
   "metadata": {},
   "outputs": [],
   "source": [
    "processed_train_files = []\n",
    "processed_test_files = []\n",
    "ds = ws.get_default_datastore()\n",
    "\n",
    "for i in range(num_train_batches):\n",
    "        input_data = DataReference(datastore=ds, \n",
    "                                   data_reference_name='train_batch_{}'.format(str(i)), \n",
    "                                   path_on_datastore='mnli_data/train/batch{}.csv'.format(str(i)),\n",
    "                                   overwrite=False)\n",
    "\n",
    "        output_data = PipelineData(name=\"train{}\".format(str(i)), datastore=ds,\n",
    "                       output_path_on_compute='mnli_data/processed_train/batch{}.csv'.format(str(i)))\n",
    "\n",
    "        step = PythonScriptStep(\n",
    "            name='preprocess_step_train_{}'.format(str(i)),\n",
    "            arguments=[\"--input_data\", input_data, \"--output_data\", output_data],\n",
    "            script_name= \"utils_nlp/bert/preprocess.py\",\n",
    "            inputs=[input_data],\n",
    "            outputs=[output_data],\n",
    "            source_directory=project_folder,\n",
    "            compute_target=compute_target,\n",
    "            runconfig=run_config,\n",
    "            allow_reuse=False,\n",
    "        )\n",
    "        \n",
    "        processed_train_files.append(output_data)         \n",
    "            \n",
    "for i in range(num_test_batches):\n",
    "            input_data = DataReference(datastore=ds, \n",
    "                                       data_reference_name='test_batch_{}'.format(str(i)), \n",
    "                                       path_on_datastore='mnli_data/test/batch{}.csv'.format(str(i)),\n",
    "                                       overwrite=False)\n",
    "        \n",
    "            output_data = PipelineData(name=\"test{}\".format(str(i)), datastore=ds,\n",
    "                        output_path_on_compute='mnli_data/processed_test/batch{}.csv'.format(str(i)))\n",
    "            \n",
    "            step = PythonScriptStep(\n",
    "                name='preprocess_step_test_{}'.format(str(i)),\n",
    "                arguments=[\"--input_data\", input_data, \"--output_data\", output_data],\n",
    "                script_name= \"utils_nlp/bert/preprocess.py\",\n",
    "                inputs=[input_data],\n",
    "                outputs=[output_data],\n",
    "                source_directory=project_folder,\n",
    "                compute_target=compute_target,\n",
    "                runconfig=run_config,\n",
    "                allow_reuse=False,\n",
    "            )\n",
    "            \n",
    "            processed_test_files.append(output_data)"
   ]
  },
  {
   "cell_type": "markdown",
   "metadata": {},
   "source": [
    "## 2. Train and Score"
   ]
  },
  {
   "cell_type": "markdown",
   "metadata": {},
   "source": [
    "Once the data is processed and available on datastore, we  train the classifier using the training examples. This involves fine-tuning the BERT Transformer and learning a linear classification layer on top of that. After training is complete we score the performance of the model on the test dataset\n",
    "\n",
    "The training is distributed and is done AzureML's capability to support distributed using MPI with horovod. \n"
   ]
  },
  {
   "cell_type": "markdown",
   "metadata": {},
   "source": [
    "### 2.1 Setup training script"
   ]
  },
  {
   "cell_type": "code",
   "execution_count": 39,
   "metadata": {},
   "outputs": [
    {
     "name": "stdout",
     "output_type": "stream",
     "text": [
      "Overwriting ../../train.py\n"
     ]
    }
   ],
   "source": [
    "%%writefile $PROJECT_FOLDER/train.py\n",
    "# Copyright (c) Microsoft Corporation. All rights reserved.\n",
    "# Licensed under the MIT License.\n",
    "\n",
    "import argparse\n",
    "import json\n",
    "import logging\n",
    "import os\n",
    "import torch\n",
    "from sklearn.metrics import classification_report\n",
    "\n",
    "from utils_nlp.bert.common import Language\n",
    "from utils_nlp.bert.sequence_classification_distributed import (\n",
    "    BERTSequenceDistClassifier,\n",
    ")\n",
    "from utils_nlp.common.timer import Timer\n",
    "\n",
    "BATCH_SIZE = 32\n",
    "NUM_GPUS = 2\n",
    "NUM_EPOCHS = 1\n",
    "LABELS = [\"telephone\", \"government\", \"travel\", \"slate\", \"fiction\"]\n",
    "OUTPUT_DIR = \"./outputs/\"\n",
    "\n",
    "logger = logging.getLogger(__name__)\n",
    "\n",
    "parser = argparse.ArgumentParser()\n",
    "parser.add_argument(\n",
    "    \"--train_files\",\n",
    "    nargs=\"+\",\n",
    "    default=[],\n",
    "    help=\"List of file paths to all the files in train dataset.\",\n",
    ")\n",
    "\n",
    "parser.add_argument(\n",
    "    \"--test_files\",\n",
    "    nargs=\"+\",\n",
    "    default=[],\n",
    "    help=\"List of file paths to all the files in test dataset.\",\n",
    ")\n",
    "\n",
    "args = parser.parse_args()\n",
    "train_files = [file.strip() for file in args.train_files]\n",
    "test_files = [file.strip() for file in args.test_files]\n",
    "\n",
    "# Handle square brackets from train list\n",
    "train_files[0] = train_files[0][1:]\n",
    "train_files[len(train_files) - 1] = train_files[len(train_files) - 1][:-1]\n",
    "\n",
    "# Handle square brackets from test list\n",
    "test_files[0] = test_files[0][1:]\n",
    "test_files[len(test_files) - 1] = test_files[len(test_files) - 1][:-1]\n",
    "\n",
    "# Train\n",
    "classifier = BERTSequenceDistClassifier(\n",
    "    language=Language.ENGLISH, num_labels=len(LABELS)\n",
    ")\n",
    "with Timer() as t:\n",
    "    classifier.fit(\n",
    "        train_files,\n",
    "        num_gpus=NUM_GPUS,\n",
    "        num_epochs=NUM_EPOCHS,\n",
    "        batch_size=BATCH_SIZE,\n",
    "        verbose=True,\n",
    "    )\n",
    "\n",
    "# Predict\n",
    "preds, labels_test = classifier.predict(\n",
    "    test_files, num_gpus=NUM_GPUS, batch_size=BATCH_SIZE\n",
    ")\n",
    "\n",
    "results = classification_report(\n",
    "    labels_test, preds, target_names=LABELS, output_dict=True\n",
    ")\n",
    "\n",
    "# Write out results.\n",
    "result_file = os.path.join(OUTPUT_DIR, \"results.json\")\n",
    "with open(result_file, \"w+\") as fp:\n",
    "    json.dump(results, fp)\n",
    "\n",
    "# Save model\n",
    "model_file = os.path.join(OUTPUT_DIR, \"model.pt\")\n",
    "torch.save(classifier.model.state_dict(), model_file)"
   ]
  },
  {
   "cell_type": "markdown",
   "metadata": {},
   "source": [
    "### 2.2 Create a Pytorch Estimator\n",
    "\n",
    "We create a Pytorch Estimator using AzureML SDK and additonally define an EstimatorStep to run it on AzureML pipelines."
   ]
  },
  {
   "cell_type": "code",
   "execution_count": 47,
   "metadata": {},
   "outputs": [
    {
     "name": "stderr",
     "output_type": "stream",
     "text": [
      "WARNING - framework_version is not specified, defaulting to version 1.1.\n",
      "WARNING - 'process_count_per_node' parameter will be deprecated. Please use it as part of 'distributed_training' parameter.\n"
     ]
    }
   ],
   "source": [
    "estimator = PyTorch(source_directory=project_folder,\n",
    "                    compute_target=compute_target,\n",
    "                    entry_script='utils_nlp/bert/train.py',\n",
    "                    node_count=4,\n",
    "                    distributed_training=MpiConfiguration(),\n",
    "                    process_count_per_node=2,\n",
    "                    use_gpu=True,\n",
    "                    conda_packages=['scikit-learn=0.20.3', 'numpy>=1.16.0', 'pandas'],\n",
    "                    pip_packages=[\"tqdm==4.31.1\",\"pytorch-pretrained-bert>=0.6\",'azureml-mlflow>=1.0.43.1']\n",
    "                   )"
   ]
  },
  {
   "cell_type": "code",
   "execution_count": 48,
   "metadata": {},
   "outputs": [],
   "source": [
    "inputs = processed_train_files + processed_test_files\n",
    "\n",
    "est_step = EstimatorStep(name=\"Estimator-Train\", \n",
    "                         estimator=estimator, \n",
    "                         estimator_entry_script_arguments=[\n",
    "                             '--train_files',  str(processed_train_files),\n",
    "                             '--test_files', str(processed_test_files)],\n",
    "                         inputs = inputs,\n",
    "                         runconfig_pipeline_params=None, \n",
    "                         compute_target=compute_target)"
   ]
  },
  {
   "cell_type": "markdown",
   "metadata": {},
   "source": [
    "### 2.3 Submit the pipeline."
   ]
  },
  {
   "cell_type": "code",
   "execution_count": 49,
   "metadata": {},
   "outputs": [
    {
     "name": "stdout",
     "output_type": "stream",
     "text": [
      "Created step Estimator-Train [83d1dfb9][1a0e49ec-c2cb-407c-985a-c5ceaf2a69c4], (This step will run and generate new outputs)\n",
      "Created step preprocess_step_train_0 [632e6788][9b726ae0-d1b9-4165-b816-dc340a4dcce3], (This step will run and generate new outputs)\n",
      "Created step preprocess_step_train_1 [171b0953][2cb6c894-723e-4839-a6f4-e8826d0bd88b], (This step will run and generate new outputs)\n",
      "Created step preprocess_step_train_2 [e48a6105][781554a9-df63-4ba9-b82d-ebc2fd24d1bd], (This step will run and generate new outputs)\n",
      "Created step preprocess_step_train_3 [3b917cd5][dc7fa041-31be-4215-b8a9-c9964e1c5aec], (This step will run and generate new outputs)\n",
      "Created step preprocess_step_train_4 [2e0457ae][5e0d5960-a316-4871-88c1-5812539e4740], (This step will run and generate new outputs)\n",
      "Created step preprocess_step_train_5 [69954270][0e28a297-c7fb-42d8-905a-5f8d551e4786], (This step will run and generate new outputs)\n",
      "Created step preprocess_step_train_6 [969503b9][ec9354ef-44b3-4b11-bd91-21103de041ea], (This step will run and generate new outputs)\n",
      "Created step preprocess_step_train_7 [4fc394f0][87600c09-a302-4c3e-be54-bcfa8642c49d], (This step will run and generate new outputs)\n",
      "Created step preprocess_step_train_8 [ad962c9f][2b2e9aa7-5485-46a0-93cc-e2125435a4c4], (This step will run and generate new outputs)\n",
      "Created step preprocess_step_train_9 [e52f9d05][ada1899c-fd14-4d31-8359-6e110c58e72d], (This step will run and generate new outputs)\n",
      "Created step preprocess_step_train_10 [d4f58a48][78fe8dda-8829-4d79-84aa-3594ed8d91ae], (This step will run and generate new outputs)\n",
      "Created step preprocess_step_train_11 [bcd02f53][c1bc770f-1620-4a06-bd28-5542e348b966], (This step will run and generate new outputs)\n",
      "Created step preprocess_step_train_12 [cd7271a7][c23b889d-4587-4655-b29a-51e2045efe58], (This step will run and generate new outputs)\n",
      "Created step preprocess_step_train_13 [e0774b51][84666144-c46f-4c35-a6ef-280e87d98721], (This step will run and generate new outputs)\n",
      "Created step preprocess_step_train_14 [ecb0dd3a][0791dee5-57d1-4367-9411-c41663a809b9], (This step will run and generate new outputs)\n",
      "Created step preprocess_step_train_15 [05aa9a79][2aedb009-9f1c-4f8c-8b04-a14efc9852e8], (This step will run and generate new outputs)\n",
      "Created step preprocess_step_train_16 [0cf7e879][253fd59c-d2b3-4f37-8296-44830bb3e5a2], (This step will run and generate new outputs)\n",
      "Created step preprocess_step_train_17 [8f51c901][7f5e61b0-0f6e-4576-935c-3864ca901521], (This step will run and generate new outputs)\n",
      "Created step preprocess_step_train_18 [cfeb62bf][5f05dbac-3743-487a-a8b2-8f93e8cd2b6f], (This step will run and generate new outputs)\n",
      "Created step preprocess_step_train_19 [61482bcc][c509e1ce-acb2-4c6f-8e77-19ead3b742bc], (This step will run and generate new outputs)\n",
      "Created step preprocess_step_train_20 [fcd5547f][5a7a5604-924d-43a1-9ba2-6ce5269bcd09], (This step will run and generate new outputs)\n",
      "Created step preprocess_step_train_21 [47ca65e4][55eb238d-ed16-435d-801c-6eb79500f2df], (This step will run and generate new outputs)\n",
      "Created step preprocess_step_train_22 [39f898a2][d947e8d7-c60f-4ccb-8993-9b278423d639], (This step will run and generate new outputs)\n",
      "Created step preprocess_step_train_23 [345c3c53][c77f5b5b-79e0-4a90-aa9c-6c6aac15a24c], (This step will run and generate new outputs)\n",
      "Created step preprocess_step_train_24 [548ee810][d5164b62-163a-4670-8f25-4a0ffe475356], (This step will run and generate new outputs)\n",
      "Created step preprocess_step_train_25 [25220982][a490321c-ecb8-4dcf-a951-75c75fc95add], (This step will run and generate new outputs)\n",
      "Created step preprocess_step_train_26 [30e06e6d][f8ed9d56-a72c-454d-884d-951def100a95], (This step will run and generate new outputs)\n",
      "Created step preprocess_step_train_27 [1b14ab29][6b333e9a-9cfb-40a4-8e30-bffb7e5d7d5c], (This step will run and generate new outputs)\n",
      "Created step preprocess_step_train_28 [fc5d0dcf][2dc2079d-92b5-40db-9119-542661f47346], (This step will run and generate new outputs)\n",
      "Created step preprocess_step_train_29 [a3dd6c4f][4fc75839-cca9-4952-9eca-4c4039a82e28], (This step will run and generate new outputs)\n",
      "Created step preprocess_step_train_30 [b80210bf][7591a547-77cf-481a-a084-3e3fa640dded], (This step will run and generate new outputs)\n",
      "Created step preprocess_step_train_31 [1ac04a12][df912550-fd60-4582-bd5f-64b7bede0d9f], (This step will run and generate new outputs)\n",
      "Created step preprocess_step_train_32 [2dd03322][dc27c53f-ccc3-45a6-9794-d87ec5602b83], (This step will run and generate new outputs)\n",
      "Created step preprocess_step_train_33 [b8d9b1c2][498db973-03f5-44cd-a425-27c6204663e8], (This step will run and generate new outputs)\n",
      "Created step preprocess_step_train_34 [f249da5f][5345c086-2920-4f06-b45a-d1ba3fddde1d], (This step will run and generate new outputs)\n",
      "Created step preprocess_step_train_35 [d3172150][dd275f2d-13f2-4fbd-80b9-00826b94e1c7], (This step will run and generate new outputs)\n",
      "Created step preprocess_step_train_36 [976ba5e1][f1b6bd4b-6ebc-4a59-a5c3-3405a1f4742a], (This step will run and generate new outputs)\n",
      "Created step preprocess_step_train_37 [0ef883df][ab9f8d74-7ff8-4a04-bbe5-c7d54e5d2380], (This step will run and generate new outputs)\n",
      "Created step preprocess_step_train_38 [f1ca31a1][b9ba1986-4c1e-44e4-bc5b-904369138395], (This step will run and generate new outputs)\n",
      "Created step preprocess_step_train_39 [26abeb3a][9cfab51d-17d9-4c40-ae49-283fb9a032e8], (This step will run and generate new outputs)\n",
      "Created step preprocess_step_train_40 [b3ad3605][101de9fc-3a16-4b5f-b6b4-bae585bbc6b5], (This step will run and generate new outputs)\n",
      "Created step preprocess_step_train_41 [cc48ebfe][8bdcf1fa-5c0b-4f43-9d7f-f07da858d6a0], (This step will run and generate new outputs)\n",
      "Created step preprocess_step_train_42 [5e1977a0][0a6701db-245e-40aa-8dcc-022a1d1ac163], (This step will run and generate new outputs)\n",
      "Created step preprocess_step_train_43 [1b43619a][d49cedc2-0947-411f-851c-97ce93d00d88], (This step will run and generate new outputs)\n",
      "Created step preprocess_step_train_44 [3d7731e6][887cf236-e5bb-4c0e-bee0-18b15c1607dc], (This step will run and generate new outputs)\n",
      "Created step preprocess_step_train_45 [9429f6b4][727bdec3-ed22-4b88-acd8-c81a125a40c5], (This step will run and generate new outputs)\n",
      "Created step preprocess_step_train_46 [bb388e1c][ddb1abd1-9935-49f9-801e-4a97b6f02e7d], (This step will run and generate new outputs)\n",
      "Created step preprocess_step_train_47 [9cf35c67][2e428a15-ce75-464d-bd88-4c122c6286c4], (This step will run and generate new outputs)\n",
      "Created step preprocess_step_train_48 [64d9617e][283d1a44-2369-4c60-962a-74617b9467af], (This step will run and generate new outputs)\n",
      "Created step preprocess_step_train_49 [9b60db84][51b51652-ec9b-4e6d-8f8c-77f1736e60af], (This step will run and generate new outputs)\n",
      "Created step preprocess_step_test_0 [3e31b982][f3bdfc0e-9445-4cf9-9609-2566de529725], (This step will run and generate new outputs)\n",
      "Created step preprocess_step_test_1 [79ff26af][1a6b2dc9-581e-4e99-b480-bd3b0c64278f], (This step will run and generate new outputs)\n",
      "Using data reference train_batch_0 for StepId [7f128105][17f8e701-3e04-4b71-8bcf-c089ade07e53], (Consumers of this data are eligible to reuse prior runs.)\n",
      "Using data reference train_batch_1 for StepId [8004ce6a][846dcc59-19b4-4f65-b586-90f6d04b7ce7], (Consumers of this data are eligible to reuse prior runs.)\n",
      "Using data reference train_batch_2 for StepId [5790f7d6][4db130ad-01fc-4deb-8461-66abd488c60f], (Consumers of this data are eligible to reuse prior runs.)\n",
      "Using data reference train_batch_3 for StepId [ab1b8e31][b5bf4b06-9947-4406-bcf4-5e2fd4c6f87c], (Consumers of this data are eligible to reuse prior runs.)\n",
      "Using data reference train_batch_4 for StepId [866009dd][99bbe1f0-a7ae-4edb-a12f-2210421bf8aa], (Consumers of this data are eligible to reuse prior runs.)\n",
      "Using data reference train_batch_5 for StepId [a07477ce][b305958a-6a60-4c3d-9db7-f86d0e68b7e1], (Consumers of this data are eligible to reuse prior runs.)\n",
      "Using data reference train_batch_6 for StepId [14fe4e00][b9357ce8-e771-4829-b381-63f57094b9b5], (Consumers of this data are eligible to reuse prior runs.)\n",
      "Using data reference train_batch_7 for StepId [0cf0b449][d2cb8ea4-4650-4143-85cc-3a50b2d92fb3], (Consumers of this data are eligible to reuse prior runs.)\n",
      "Using data reference train_batch_8 for StepId [8fe845f8][0b8ae803-5f49-4361-9c27-156a4f69486b], (Consumers of this data are eligible to reuse prior runs.)\n",
      "Using data reference train_batch_9 for StepId [49a28762][2d50bd14-2fb0-4742-8805-3bd1dc19c3c3], (Consumers of this data are eligible to reuse prior runs.)\n",
      "Using data reference train_batch_10 for StepId [361f5496][cba68341-2c4a-432e-a4bc-38af276684a6], (Consumers of this data are eligible to reuse prior runs.)\n",
      "Using data reference train_batch_11 for StepId [202de8d7][f7250703-3bad-4db6-9c4a-e68c98565f0a], (Consumers of this data are eligible to reuse prior runs.)\n",
      "Using data reference train_batch_12 for StepId [ec061512][1e833559-7b27-422d-ad18-c7b8421af99a], (Consumers of this data are eligible to reuse prior runs.)\n",
      "Using data reference train_batch_13 for StepId [b582c9d6][c28e0d83-f13d-4bb4-9be5-d0da1d983202], (Consumers of this data are eligible to reuse prior runs.)\n",
      "Using data reference train_batch_14 for StepId [1123214a][65f357df-583d-4323-80cf-dafebf99cc07], (Consumers of this data are eligible to reuse prior runs.)\n",
      "Using data reference train_batch_15 for StepId [de6350ac][895c3744-0a30-4d4e-a977-d44b7f1f66c3], (Consumers of this data are eligible to reuse prior runs.)\n",
      "Using data reference train_batch_16 for StepId [3d8e72ae][ccd4caec-2388-4f08-8de2-3339827d6235], (Consumers of this data are eligible to reuse prior runs.)\n",
      "Using data reference train_batch_17 for StepId [bfb9a257][17a19068-51f7-4c41-91bb-7dad813ea472], (Consumers of this data are eligible to reuse prior runs.)\n",
      "Using data reference train_batch_18 for StepId [1c402452][483e0c5f-6202-475e-b7f1-f793ac2156de], (Consumers of this data are eligible to reuse prior runs.)\n",
      "Using data reference train_batch_19 for StepId [c9a7299d][799ce7d8-6bc2-41b7-95a6-a03414eda1fc], (Consumers of this data are eligible to reuse prior runs.)\n",
      "Using data reference train_batch_20 for StepId [702a5849][9dc2a80a-1a7d-49fc-9d33-9789bfaebd76], (Consumers of this data are eligible to reuse prior runs.)\n",
      "Using data reference train_batch_21 for StepId [64f4c59d][19bf9363-deb0-4eb4-a589-bc08780061e9], (Consumers of this data are eligible to reuse prior runs.)\n",
      "Using data reference train_batch_22 for StepId [54a89a02][37d2249a-9f9f-4b6c-8c61-2b0262e7d5ef], (Consumers of this data are eligible to reuse prior runs.)\n",
      "Using data reference train_batch_23 for StepId [a819cf25][5b88784c-ea85-4b79-9fa8-374692a803d3], (Consumers of this data are eligible to reuse prior runs.)\n",
      "Using data reference train_batch_24 for StepId [5801f7ce][26f61dda-448b-4cb3-b9c4-b72bcab4030b], (Consumers of this data are eligible to reuse prior runs.)\n",
      "Using data reference train_batch_25 for StepId [87e62a81][5a903bbf-323e-4b18-b784-2d2e23c8e7d7], (Consumers of this data are eligible to reuse prior runs.)\n",
      "Using data reference train_batch_26 for StepId [f847626d][bbe266bf-b6ef-4087-a66e-90bfdece293c], (Consumers of this data are eligible to reuse prior runs.)\n",
      "Using data reference train_batch_27 for StepId [2b464f3c][92c6f4b1-44eb-430c-a659-9e87f4823b2b], (Consumers of this data are eligible to reuse prior runs.)\n",
      "Using data reference train_batch_28 for StepId [1d694b98][08581dd9-cf36-458e-9665-7bf798ffeeee], (Consumers of this data are eligible to reuse prior runs.)\n",
      "Using data reference train_batch_29 for StepId [b4ad49ea][2161f439-0e8a-47ee-9780-eae0ca99ae85], (Consumers of this data are eligible to reuse prior runs.)\n",
      "Using data reference train_batch_30 for StepId [a9248078][c6c9d84d-d71c-46dd-88c9-b1fb44f642c3], (Consumers of this data are eligible to reuse prior runs.)\n",
      "Using data reference train_batch_31 for StepId [0581f75f][db5ce984-359a-443b-a5e7-5ba398c3d68f], (Consumers of this data are eligible to reuse prior runs.)\n",
      "Using data reference train_batch_32 for StepId [9de0491c][a2d37ce8-0c10-415c-97a1-195c21d7361b], (Consumers of this data are eligible to reuse prior runs.)\n",
      "Using data reference train_batch_33 for StepId [0cbccb7a][e0572514-1e3d-4e8c-9542-6948768bf355], (Consumers of this data are eligible to reuse prior runs.)\n",
      "Using data reference train_batch_34 for StepId [970131ae][67585ef5-fa8a-4718-a2cf-637c62d12147], (Consumers of this data are eligible to reuse prior runs.)\n",
      "Using data reference train_batch_35 for StepId [09b41b93][fa9834be-405c-4252-b4b7-1eb9f908885e], (Consumers of this data are eligible to reuse prior runs.)\n",
      "Using data reference train_batch_36 for StepId [bc3e5765][d54bf550-4da8-41f1-951a-d43e2b423d2a], (Consumers of this data are eligible to reuse prior runs.)\n",
      "Using data reference train_batch_37 for StepId [bdbca3fe][9567112e-7a8c-482d-9384-ef23f4c74c11], (Consumers of this data are eligible to reuse prior runs.)\n",
      "Using data reference train_batch_38 for StepId [30a057b6][5e878069-b66c-4fac-a883-d6df489deb42], (Consumers of this data are eligible to reuse prior runs.)\n",
      "Using data reference train_batch_39 for StepId [780f7dd6][2d2099f7-d261-4bd2-97a1-afb74eb461a6], (Consumers of this data are eligible to reuse prior runs.)\n",
      "Using data reference train_batch_40 for StepId [99fd5036][18519919-2154-4167-93a9-1ce8d0e473fa], (Consumers of this data are eligible to reuse prior runs.)\n",
      "Using data reference train_batch_41 for StepId [b82dcdf3][46b6aff7-4c3f-4ada-8472-58126f7d0ea3], (Consumers of this data are eligible to reuse prior runs.)\n",
      "Using data reference train_batch_42 for StepId [149973b9][0ca8164e-ceb3-4404-a79d-583c87f38115], (Consumers of this data are eligible to reuse prior runs.)\n",
      "Using data reference train_batch_43 for StepId [83734967][475d6255-534b-44a5-bcb8-9e831a714656], (Consumers of this data are eligible to reuse prior runs.)\n",
      "Using data reference train_batch_44 for StepId [6a58150a][c3ac2e29-647d-42b3-885d-c6eb1b0079a3], (Consumers of this data are eligible to reuse prior runs.)\n",
      "Using data reference train_batch_45 for StepId [9c8e2845][a13b63e2-bc7f-46d6-8424-01148e0c39ba], (Consumers of this data are eligible to reuse prior runs.)\n",
      "Using data reference train_batch_46 for StepId [c51b21bd][13ee5a14-7102-452d-8558-63d48dd9634c], (Consumers of this data are eligible to reuse prior runs.)\n",
      "Using data reference train_batch_47 for StepId [b49f117a][a61f0148-28b6-4e14-b83c-5c7d76523638], (Consumers of this data are eligible to reuse prior runs.)\n",
      "Using data reference train_batch_48 for StepId [16d00179][ff3ed020-862b-4154-9562-564ae0b786cb], (Consumers of this data are eligible to reuse prior runs.)\n",
      "Using data reference train_batch_49 for StepId [307f08c3][ff5b9b21-99ea-47e6-ae60-20e9bb417a85], (Consumers of this data are eligible to reuse prior runs.)\n",
      "Using data reference test_batch_0 for StepId [8dcdb483][7893a2ac-3e3a-4222-bfba-448fcf808d69], (Consumers of this data are eligible to reuse prior runs.)\n",
      "Using data reference test_batch_1 for StepId [7edb8907][c00e2c25-bbb2-47e6-a2fb-c537f22b2780], (Consumers of this data are eligible to reuse prior runs.)\n",
      "Submitted pipeline run: eb123faf-f502-490d-bb41-51bac971a5b5\n"
     ]
    }
   ],
   "source": [
    "pipeline = Pipeline(workspace=ws, steps=[est_step])\n",
    "experiment = Experiment(ws, 'NLP-TC-BERT-distributed')\n",
    "pipeline_run = experiment.submit(pipeline)"
   ]
  },
  {
   "cell_type": "code",
   "execution_count": 50,
   "metadata": {
    "scrolled": false
   },
   "outputs": [
    {
     "data": {
      "application/vnd.jupyter.widget-view+json": {
       "model_id": "8ae546760c614d44a8fa331bf8068713",
       "version_major": 2,
       "version_minor": 0
      },
      "text/plain": [
       "_PipelineWidget(widget_settings={'childWidgetDisplay': 'popup', 'send_telemetry': True, 'log_level': 'INFO', '…"
      ]
     },
     "metadata": {},
     "output_type": "display_data"
    }
   ],
   "source": [
    "RunDetails(pipeline_run).show()"
   ]
  },
  {
   "cell_type": "code",
   "execution_count": null,
   "metadata": {},
   "outputs": [],
   "source": [
    "#If you would like to cancel the job for any reasons uncomment the code below.\n",
    "#experiment = Experiment(ws, name='NLP-TC-BERT-distributed')\n",
    "#run = get_run(experiment, '2f2eb9b3-f9a1-42cf-a846-057572277a7f')\n",
    "#run.cancel()"
   ]
  },
  {
   "cell_type": "markdown",
   "metadata": {},
   "source": [
    "### 2.4 Download and analyze results"
   ]
  },
  {
   "cell_type": "code",
   "execution_count": 9,
   "metadata": {
    "scrolled": false
   },
   "outputs": [
    {
     "name": "stdout",
     "output_type": "stream",
     "text": [
      "Downloading file outputs/results.json to ./outputs\\results.json...\n",
      "Downloading file outputs/model.pt to ./outputs\\model.pt...\n"
     ]
    }
   ],
   "source": [
    "step_run = pipeline_run.find_step_run(\"Estimator-Train\")[0]\n",
    "file_names = ['outputs/results.json', 'outputs/model.pt']\n",
    "azureml_utils.get_output_files(step_run, './outputs', file_names=file_names)"
   ]
  },
  {
   "cell_type": "code",
   "execution_count": 16,
   "metadata": {},
   "outputs": [
    {
     "name": "stdout",
     "output_type": "stream",
     "text": [
      "              f1-score  precision    recall  support\n",
      "telephone     0.922724   0.889381  0.958665    629.0\n",
      "government    0.960270   0.972603  0.948247    599.0\n",
      "travel        0.861564   0.916811  0.812596    651.0\n",
      "slate         0.992713   0.993517  0.991909    618.0\n",
      "fiction       0.941815   0.912782  0.972756    624.0\n",
      "micro avg     0.935598   0.935598  0.935598   3121.0\n",
      "macro avg     0.935817   0.937019  0.936835   3121.0\n",
      "weighted avg  0.934849   0.936374  0.935598   3121.0\n"
     ]
    }
   ],
   "source": [
    "with open('outputs/results.json', 'r') as handle:\n",
    "    parsed = json.load(handle)\n",
    "    print(pd.DataFrame.from_dict(parsed).transpose())"
   ]
  },
  {
   "cell_type": "markdown",
   "metadata": {},
   "source": [
    "Finally clean up any intermediate files we created."
   ]
  },
  {
   "cell_type": "code",
   "execution_count": 40,
   "metadata": {},
   "outputs": [],
   "source": [
    "shutil.rmtree(os.path.join(PROJECT_FOLDER, TEMP_FOLDER))"
   ]
  },
  {
   "cell_type": "code",
   "execution_count": null,
   "metadata": {},
   "outputs": [],
   "source": []
  }
 ],
 "metadata": {
  "kernelspec": {
   "display_name": "Python NLP CPU",
   "language": "python",
   "name": "nlp_cpu"
  },
  "language_info": {
   "codemirror_mode": {
    "name": "ipython",
    "version": 3
   },
   "file_extension": ".py",
   "mimetype": "text/x-python",
   "name": "python",
   "nbconvert_exporter": "python",
   "pygments_lexer": "ipython3",
   "version": "3.6.8"
  }
 },
 "nbformat": 4,
 "nbformat_minor": 2
}
