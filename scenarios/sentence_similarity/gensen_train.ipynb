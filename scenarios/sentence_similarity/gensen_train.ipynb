{
 "cells": [
  {
   "cell_type": "markdown",
   "metadata": {
    "nbpresent": {
     "id": "75caf421-c00a-4d6d-8a3d-47ebe7493af5"
    }
   },
   "source": [
    "\n",
    "Copyright (c) Microsoft Corporation. All rights reserved.\n",
    "\n",
    "Licensed under the MIT License."
   ]
  },
  {
   "cell_type": "markdown",
   "metadata": {
    "nbpresent": {
     "id": "0738bb22-14af-45ca-9ad7-e0c068f280cf"
    }
   },
   "source": [
    "# GenSen with Pytorch\n",
    "In this tutorial, you will train a GenSen model for the sentence similarity task. We use the [SNLI](https://nlp.stanford.edu/projects/snli/) dataset in this example. For a more detailed walkthrough about data processing jump to [SNLI Data Prep](../01-prep-data/snli.ipynb). A quickstart version of this notebook can be found [here](../00-quick-start/)\n",
    "\n",
    "## Overview\n",
    "\n",
    "### What is GenSen?\n",
    "\n",
    "GenSen[\\[1\\]](#References) is a technique to learn general purpose, fixed-length representations of sentences via multi-task training. GenSen is to combine the benefits of These representations are useful for transfer and low-resource learning. GenSen is trained on several data sources with multiple training objectives on over 100 milion sentences.\n",
    "\n",
    "### Why GenSen?\n",
    "\n",
    "GenSen model performs the state-of-the-art results on multiple datasets, such as MRPC, SICK-R, SICK-E and STS, for sentence similarity. The reported results are as follows compared with other models [\\[2\\]](#References):\n",
    "\n",
    "| Model | MRPC | SICK-R | SICK-E | STS |\n",
    "| --- | --- | --- | --- | --- |\n",
    "| GenSen (Subramanian et al., 2018) | 78.6/84.4 | 0.888 | 87.8 | 78.9/78.6 |\n",
    "| [InferSent](https://arxiv.org/abs/1705.02364) (Conneau et al., 2017) | 76.2/83.1 | 0.884 | 86.3 | 75.8/75.5 |\n",
    "| [TF-KLD](https://www.aclweb.org/anthology/D13-1090) (Ji and Eisenstein, 2013) | 80.4/85.9 | - | - | - |\n",
    "\n",
    "## Outline\n",
    "This notebook is organized as follows:\n",
    "\n",
    "1. GenSen Theory\n",
    "2. Data preparation and inspection\n",
    "3. Model application, performance and analysis"
   ]
  },
  {
   "cell_type": "markdown",
   "metadata": {
    "nbpresent": {
     "id": "e91468d4-7bb8-469b-95a6-4e6f4dfcdf55"
    }
   },
   "source": [
    "## 0. Global Settings"
   ]
  },
  {
   "cell_type": "code",
   "execution_count": 1,
   "metadata": {
    "nbpresent": {
     "id": "a6e277ee-edbb-44a5-81d4-93565d2f3a83"
    }
   },
   "outputs": [
    {
     "name": "stdout",
     "output_type": "stream",
     "text": [
      "System version: 3.6.8 |Anaconda, Inc.| (default, Dec 30 2018, 01:22:34) \n",
      "[GCC 7.3.0]\n"
     ]
    }
   ],
   "source": [
    "import sys\n",
    "sys.path.append(\"../..\")\n",
    "\n",
    "import os\n",
    "from utils_nlp.dataset.preprocess import to_lowercase, to_nltk_tokens\n",
    "from utils_nlp.dataset import snli\n",
    "from scenarios.sentence_similarity.gensen_wrapper import GenSenClassifier\n",
    "from utils_nlp.pretrained_embeddings.glove import download_and_extract \n",
    "\n",
    "\n",
    "print(\"System version: {}\".format(sys.version))\n",
    "BASE_DATA_PATH = '../../data'"
   ]
  },
  {
   "cell_type": "markdown",
   "metadata": {
    "nbpresent": {
     "id": "aee768e5-f317-4dfb-807c-cb4f5f0c0204"
    }
   },
   "source": [
    "## 3. Data Preparation and inspection"
   ]
  },
  {
   "cell_type": "markdown",
   "metadata": {
    "nbpresent": {
     "id": "4c570c1b-0e4e-41e9-aa27-5ab1ce8c13a1"
    }
   },
   "source": [
    "The [SNLI](https://nlp.stanford.edu/projects/snli/) corpus (version 1.0) is a collection of 570k human-written English sentence pairs manually labeled for balanced classification with the labels entailment, contradiction, and neutral, supporting the task of natural language inference (NLI), also known as recognizing textual entailment (RTE). "
   ]
  },
  {
   "cell_type": "markdown",
   "metadata": {
    "nbpresent": {
     "id": "99c241e1-2f23-4fb3-9d3c-8f479c6b0030"
    }
   },
   "source": [
    "### 3.1 Load the dataset\n",
    "\n",
    "We provide a function load_pandas_df which does the following\n",
    "\n",
    "* Downloads the SNLI zipfile at the specified directory location\n",
    "* Extracts the file based on the specified split\n",
    "* Loads the split as a pandas dataframe The zipfile contains the following files:\n",
    "    * snli_1.0_dev.txt\n",
    "    * snli_1.0_train.txt\n",
    "    * snli_1.0_test.tx\n",
    "    * snli_1.0_dev.jsonl\n",
    "    * snli_1.0_train.jsonl\n",
    "    * snli_1.0_test.jsonl\n",
    "    \n",
    "The loader defaults to reading from the .txt file; however, you can change this to .jsonl by setting the optional file_type parameter when calling the function."
   ]
  },
  {
   "cell_type": "code",
   "execution_count": 2,
   "metadata": {
    "nbpresent": {
     "id": "5952e06d-1dae-462d-8fce-66eb7ef536dd"
    }
   },
   "outputs": [
    {
     "name": "stderr",
     "output_type": "stream",
     "text": [
      "100%|██████████| 92.3k/92.3k [00:04<00:00, 21.8kKB/s]\n"
     ]
    },
    {
     "data": {
      "text/html": [
       "<div>\n",
       "<style scoped>\n",
       "    .dataframe tbody tr th:only-of-type {\n",
       "        vertical-align: middle;\n",
       "    }\n",
       "\n",
       "    .dataframe tbody tr th {\n",
       "        vertical-align: top;\n",
       "    }\n",
       "\n",
       "    .dataframe thead th {\n",
       "        text-align: right;\n",
       "    }\n",
       "</style>\n",
       "<table border=\"1\" class=\"dataframe\">\n",
       "  <thead>\n",
       "    <tr style=\"text-align: right;\">\n",
       "      <th></th>\n",
       "      <th>gold_label</th>\n",
       "      <th>sentence1_binary_parse</th>\n",
       "      <th>sentence2_binary_parse</th>\n",
       "      <th>sentence1_parse</th>\n",
       "      <th>sentence2_parse</th>\n",
       "      <th>sentence1</th>\n",
       "      <th>sentence2</th>\n",
       "      <th>captionID</th>\n",
       "      <th>pairID</th>\n",
       "      <th>label1</th>\n",
       "      <th>label2</th>\n",
       "      <th>label3</th>\n",
       "      <th>label4</th>\n",
       "      <th>label5</th>\n",
       "    </tr>\n",
       "  </thead>\n",
       "  <tbody>\n",
       "    <tr>\n",
       "      <th>0</th>\n",
       "      <td>neutral</td>\n",
       "      <td>( ( ( A person ) ( on ( a horse ) ) ) ( ( jump...</td>\n",
       "      <td>( ( A person ) ( ( is ( ( training ( his horse...</td>\n",
       "      <td>(ROOT (S (NP (NP (DT A) (NN person)) (PP (IN o...</td>\n",
       "      <td>(ROOT (S (NP (DT A) (NN person)) (VP (VBZ is) ...</td>\n",
       "      <td>A person on a horse jumps over a broken down a...</td>\n",
       "      <td>A person is training his horse for a competition.</td>\n",
       "      <td>3416050480.jpg#4</td>\n",
       "      <td>3416050480.jpg#4r1n</td>\n",
       "      <td>neutral</td>\n",
       "      <td>NaN</td>\n",
       "      <td>NaN</td>\n",
       "      <td>NaN</td>\n",
       "      <td>NaN</td>\n",
       "    </tr>\n",
       "    <tr>\n",
       "      <th>1</th>\n",
       "      <td>contradiction</td>\n",
       "      <td>( ( ( A person ) ( on ( a horse ) ) ) ( ( jump...</td>\n",
       "      <td>( ( A person ) ( ( ( ( is ( at ( a diner ) ) )...</td>\n",
       "      <td>(ROOT (S (NP (NP (DT A) (NN person)) (PP (IN o...</td>\n",
       "      <td>(ROOT (S (NP (DT A) (NN person)) (VP (VBZ is) ...</td>\n",
       "      <td>A person on a horse jumps over a broken down a...</td>\n",
       "      <td>A person is at a diner, ordering an omelette.</td>\n",
       "      <td>3416050480.jpg#4</td>\n",
       "      <td>3416050480.jpg#4r1c</td>\n",
       "      <td>contradiction</td>\n",
       "      <td>NaN</td>\n",
       "      <td>NaN</td>\n",
       "      <td>NaN</td>\n",
       "      <td>NaN</td>\n",
       "    </tr>\n",
       "    <tr>\n",
       "      <th>2</th>\n",
       "      <td>entailment</td>\n",
       "      <td>( ( ( A person ) ( on ( a horse ) ) ) ( ( jump...</td>\n",
       "      <td>( ( A person ) ( ( ( ( is outdoors ) , ) ( on ...</td>\n",
       "      <td>(ROOT (S (NP (NP (DT A) (NN person)) (PP (IN o...</td>\n",
       "      <td>(ROOT (S (NP (DT A) (NN person)) (VP (VBZ is) ...</td>\n",
       "      <td>A person on a horse jumps over a broken down a...</td>\n",
       "      <td>A person is outdoors, on a horse.</td>\n",
       "      <td>3416050480.jpg#4</td>\n",
       "      <td>3416050480.jpg#4r1e</td>\n",
       "      <td>entailment</td>\n",
       "      <td>NaN</td>\n",
       "      <td>NaN</td>\n",
       "      <td>NaN</td>\n",
       "      <td>NaN</td>\n",
       "    </tr>\n",
       "    <tr>\n",
       "      <th>3</th>\n",
       "      <td>neutral</td>\n",
       "      <td>( Children ( ( ( smiling and ) waving ) ( at c...</td>\n",
       "      <td>( They ( are ( smiling ( at ( their parents ) ...</td>\n",
       "      <td>(ROOT (NP (S (NP (NNP Children)) (VP (VBG smil...</td>\n",
       "      <td>(ROOT (S (NP (PRP They)) (VP (VBP are) (VP (VB...</td>\n",
       "      <td>Children smiling and waving at camera</td>\n",
       "      <td>They are smiling at their parents</td>\n",
       "      <td>2267923837.jpg#2</td>\n",
       "      <td>2267923837.jpg#2r1n</td>\n",
       "      <td>neutral</td>\n",
       "      <td>NaN</td>\n",
       "      <td>NaN</td>\n",
       "      <td>NaN</td>\n",
       "      <td>NaN</td>\n",
       "    </tr>\n",
       "    <tr>\n",
       "      <th>4</th>\n",
       "      <td>entailment</td>\n",
       "      <td>( Children ( ( ( smiling and ) waving ) ( at c...</td>\n",
       "      <td>( There ( ( are children ) present ) )</td>\n",
       "      <td>(ROOT (NP (S (NP (NNP Children)) (VP (VBG smil...</td>\n",
       "      <td>(ROOT (S (NP (EX There)) (VP (VBP are) (NP (NN...</td>\n",
       "      <td>Children smiling and waving at camera</td>\n",
       "      <td>There are children present</td>\n",
       "      <td>2267923837.jpg#2</td>\n",
       "      <td>2267923837.jpg#2r1e</td>\n",
       "      <td>entailment</td>\n",
       "      <td>NaN</td>\n",
       "      <td>NaN</td>\n",
       "      <td>NaN</td>\n",
       "      <td>NaN</td>\n",
       "    </tr>\n",
       "  </tbody>\n",
       "</table>\n",
       "</div>"
      ],
      "text/plain": [
       "      gold_label                             sentence1_binary_parse  \\\n",
       "0        neutral  ( ( ( A person ) ( on ( a horse ) ) ) ( ( jump...   \n",
       "1  contradiction  ( ( ( A person ) ( on ( a horse ) ) ) ( ( jump...   \n",
       "2     entailment  ( ( ( A person ) ( on ( a horse ) ) ) ( ( jump...   \n",
       "3        neutral  ( Children ( ( ( smiling and ) waving ) ( at c...   \n",
       "4     entailment  ( Children ( ( ( smiling and ) waving ) ( at c...   \n",
       "\n",
       "                              sentence2_binary_parse  \\\n",
       "0  ( ( A person ) ( ( is ( ( training ( his horse...   \n",
       "1  ( ( A person ) ( ( ( ( is ( at ( a diner ) ) )...   \n",
       "2  ( ( A person ) ( ( ( ( is outdoors ) , ) ( on ...   \n",
       "3  ( They ( are ( smiling ( at ( their parents ) ...   \n",
       "4             ( There ( ( are children ) present ) )   \n",
       "\n",
       "                                     sentence1_parse  \\\n",
       "0  (ROOT (S (NP (NP (DT A) (NN person)) (PP (IN o...   \n",
       "1  (ROOT (S (NP (NP (DT A) (NN person)) (PP (IN o...   \n",
       "2  (ROOT (S (NP (NP (DT A) (NN person)) (PP (IN o...   \n",
       "3  (ROOT (NP (S (NP (NNP Children)) (VP (VBG smil...   \n",
       "4  (ROOT (NP (S (NP (NNP Children)) (VP (VBG smil...   \n",
       "\n",
       "                                     sentence2_parse  \\\n",
       "0  (ROOT (S (NP (DT A) (NN person)) (VP (VBZ is) ...   \n",
       "1  (ROOT (S (NP (DT A) (NN person)) (VP (VBZ is) ...   \n",
       "2  (ROOT (S (NP (DT A) (NN person)) (VP (VBZ is) ...   \n",
       "3  (ROOT (S (NP (PRP They)) (VP (VBP are) (VP (VB...   \n",
       "4  (ROOT (S (NP (EX There)) (VP (VBP are) (NP (NN...   \n",
       "\n",
       "                                           sentence1  \\\n",
       "0  A person on a horse jumps over a broken down a...   \n",
       "1  A person on a horse jumps over a broken down a...   \n",
       "2  A person on a horse jumps over a broken down a...   \n",
       "3              Children smiling and waving at camera   \n",
       "4              Children smiling and waving at camera   \n",
       "\n",
       "                                           sentence2         captionID  \\\n",
       "0  A person is training his horse for a competition.  3416050480.jpg#4   \n",
       "1      A person is at a diner, ordering an omelette.  3416050480.jpg#4   \n",
       "2                  A person is outdoors, on a horse.  3416050480.jpg#4   \n",
       "3                  They are smiling at their parents  2267923837.jpg#2   \n",
       "4                         There are children present  2267923837.jpg#2   \n",
       "\n",
       "                pairID         label1 label2 label3 label4 label5  \n",
       "0  3416050480.jpg#4r1n        neutral    NaN    NaN    NaN    NaN  \n",
       "1  3416050480.jpg#4r1c  contradiction    NaN    NaN    NaN    NaN  \n",
       "2  3416050480.jpg#4r1e     entailment    NaN    NaN    NaN    NaN  \n",
       "3  2267923837.jpg#2r1n        neutral    NaN    NaN    NaN    NaN  \n",
       "4  2267923837.jpg#2r1e     entailment    NaN    NaN    NaN    NaN  "
      ]
     },
     "execution_count": 2,
     "metadata": {},
     "output_type": "execute_result"
    }
   ],
   "source": [
    "train = snli.load_pandas_df(BASE_DATA_PATH, file_split=\"train\")\n",
    "dev = snli.load_pandas_df(BASE_DATA_PATH, file_split=\"dev\")\n",
    "test = snli.load_pandas_df(BASE_DATA_PATH, file_split=\"test\")\n",
    "\n",
    "train.head()"
   ]
  },
  {
   "cell_type": "markdown",
   "metadata": {
    "nbpresent": {
     "id": "6d5f7565-1f84-4489-8d06-dabd6bd99190"
    }
   },
   "source": [
    "### 3.2 Tokenize\n",
    "\n",
    "We have loaded the dataset into pandas.DataFrame, we now convert sentences to tokens. We also clean the data before tokenizing. This includes dropping unneccessary columns and renaming the relevant columns as score, sentence_1, and sentence_2."
   ]
  },
  {
   "cell_type": "code",
   "execution_count": 3,
   "metadata": {
    "nbpresent": {
     "id": "e6160617-03f0-4809-9360-8b040dc4395f"
    }
   },
   "outputs": [],
   "source": [
    "def clean(df, file_split):\n",
    "    src_file_path = os.path.join(BASE_DATA_PATH, \"raw/snli_1.0/snli_1.0_{}.txt\".format(file_split))\n",
    "    if not os.path.exists(os.path.join(BASE_DATA_PATH, \"clean/snli_1.0\")):\n",
    "        os.makedirs(os.path.join(BASE_DATA_PATH, \"clean/snli_1.0\"))\n",
    "    dest_file_path = os.path.join(BASE_DATA_PATH, \"clean/snli_1.0/snli_1.0_{}.txt\".format(file_split))\n",
    "    clean_df = snli.clean_snli(src_file_path).dropna() # drop rows with any NaN vals\n",
    "    clean_df.to_csv(dest_file_path)\n",
    "    return clean_df\n",
    "\n",
    "train = clean(train, 'train')\n",
    "dev = clean(dev, 'dev')\n",
    "test = clean(test, 'test')"
   ]
  },
  {
   "cell_type": "markdown",
   "metadata": {
    "nbpresent": {
     "id": "0331f346-a896-4019-8844-38139382ff36"
    }
   },
   "source": [
    "Once we have the clean pandas dataframes, we do lowercase standardization and tokenization. We use the [NLTK] (https://www.nltk.org/) library for tokenization."
   ]
  },
  {
   "cell_type": "code",
   "execution_count": 4,
   "metadata": {
    "nbpresent": {
     "id": "92c2e565-a968-42f5-aa77-7ff5f340a436"
    }
   },
   "outputs": [],
   "source": [
    "train_tok = to_nltk_tokens(to_lowercase(train))\n",
    "dev_tok = to_nltk_tokens(to_lowercase(dev))\n",
    "test_tok = to_nltk_tokens(to_lowercase(test))"
   ]
  },
  {
   "cell_type": "code",
   "execution_count": 5,
   "metadata": {
    "nbpresent": {
     "id": "4912b609-8141-4212-a6ad-814d73f724ed"
    }
   },
   "outputs": [
    {
     "data": {
      "text/html": [
       "<div>\n",
       "<style scoped>\n",
       "    .dataframe tbody tr th:only-of-type {\n",
       "        vertical-align: middle;\n",
       "    }\n",
       "\n",
       "    .dataframe tbody tr th {\n",
       "        vertical-align: top;\n",
       "    }\n",
       "\n",
       "    .dataframe thead th {\n",
       "        text-align: right;\n",
       "    }\n",
       "</style>\n",
       "<table border=\"1\" class=\"dataframe\">\n",
       "  <thead>\n",
       "    <tr style=\"text-align: right;\">\n",
       "      <th></th>\n",
       "      <th>score</th>\n",
       "      <th>sentence1</th>\n",
       "      <th>sentence2</th>\n",
       "      <th>sentence1_tokens</th>\n",
       "      <th>sentence2_tokens</th>\n",
       "    </tr>\n",
       "  </thead>\n",
       "  <tbody>\n",
       "    <tr>\n",
       "      <th>0</th>\n",
       "      <td>neutral</td>\n",
       "      <td>two women are embracing while holding to go pa...</td>\n",
       "      <td>the sisters are hugging goodbye while holding ...</td>\n",
       "      <td>[two, women, are, embracing, while, holding, t...</td>\n",
       "      <td>[the, sisters, are, hugging, goodbye, while, h...</td>\n",
       "    </tr>\n",
       "    <tr>\n",
       "      <th>1</th>\n",
       "      <td>entailment</td>\n",
       "      <td>two women are embracing while holding to go pa...</td>\n",
       "      <td>two woman are holding packages.</td>\n",
       "      <td>[two, women, are, embracing, while, holding, t...</td>\n",
       "      <td>[two, woman, are, holding, packages, .]</td>\n",
       "    </tr>\n",
       "    <tr>\n",
       "      <th>2</th>\n",
       "      <td>contradiction</td>\n",
       "      <td>two women are embracing while holding to go pa...</td>\n",
       "      <td>the men are fighting outside a deli.</td>\n",
       "      <td>[two, women, are, embracing, while, holding, t...</td>\n",
       "      <td>[the, men, are, fighting, outside, a, deli, .]</td>\n",
       "    </tr>\n",
       "    <tr>\n",
       "      <th>3</th>\n",
       "      <td>entailment</td>\n",
       "      <td>two young children in blue jerseys, one with t...</td>\n",
       "      <td>two kids in numbered jerseys wash their hands.</td>\n",
       "      <td>[two, young, children, in, blue, jerseys, ,, o...</td>\n",
       "      <td>[two, kids, in, numbered, jerseys, wash, their...</td>\n",
       "    </tr>\n",
       "    <tr>\n",
       "      <th>4</th>\n",
       "      <td>neutral</td>\n",
       "      <td>two young children in blue jerseys, one with t...</td>\n",
       "      <td>two kids at a ballgame wash their hands.</td>\n",
       "      <td>[two, young, children, in, blue, jerseys, ,, o...</td>\n",
       "      <td>[two, kids, at, a, ballgame, wash, their, hand...</td>\n",
       "    </tr>\n",
       "  </tbody>\n",
       "</table>\n",
       "</div>"
      ],
      "text/plain": [
       "           score                                          sentence1  \\\n",
       "0        neutral  two women are embracing while holding to go pa...   \n",
       "1     entailment  two women are embracing while holding to go pa...   \n",
       "2  contradiction  two women are embracing while holding to go pa...   \n",
       "3     entailment  two young children in blue jerseys, one with t...   \n",
       "4        neutral  two young children in blue jerseys, one with t...   \n",
       "\n",
       "                                           sentence2  \\\n",
       "0  the sisters are hugging goodbye while holding ...   \n",
       "1                    two woman are holding packages.   \n",
       "2               the men are fighting outside a deli.   \n",
       "3     two kids in numbered jerseys wash their hands.   \n",
       "4           two kids at a ballgame wash their hands.   \n",
       "\n",
       "                                    sentence1_tokens  \\\n",
       "0  [two, women, are, embracing, while, holding, t...   \n",
       "1  [two, women, are, embracing, while, holding, t...   \n",
       "2  [two, women, are, embracing, while, holding, t...   \n",
       "3  [two, young, children, in, blue, jerseys, ,, o...   \n",
       "4  [two, young, children, in, blue, jerseys, ,, o...   \n",
       "\n",
       "                                    sentence2_tokens  \n",
       "0  [the, sisters, are, hugging, goodbye, while, h...  \n",
       "1            [two, woman, are, holding, packages, .]  \n",
       "2     [the, men, are, fighting, outside, a, deli, .]  \n",
       "3  [two, kids, in, numbered, jerseys, wash, their...  \n",
       "4  [two, kids, at, a, ballgame, wash, their, hand...  "
      ]
     },
     "execution_count": 5,
     "metadata": {},
     "output_type": "execute_result"
    }
   ],
   "source": [
    "dev_tok.head()"
   ]
  },
  {
   "cell_type": "markdown",
   "metadata": {
    "nbpresent": {
     "id": "59494d88-c7c9-4efc-a191-f16d6ac2ac40"
    }
   },
   "source": [
    "##  4. Model application, performance and analysis of the results\n",
    "The model has been implemented as a GenSen class with the specifics hidden inside the fit() method, so that no explicit call is needed. The algorithm operates in three different steps:\n",
    "\n",
    "** Model initialization ** : This is where we tell our class how to train the model. The main parameters to specify are the number of\n",
    "1. config file which contains information about the number of training epochs, the minibatch size etc.\n",
    "2. cache_dir which is the folder where all the data will be saved.\n",
    "3. learning rate for the model\n",
    "4. path to the pretrained embedding vectors.\n",
    "\n",
    "** Model fit ** : This is where we train the model on the data. The method takes two arguments: the training, dev and test set pandas dataframes. Note that the model is trained only on the training set, the test set is used to display the test set accuracy of the trained model, that in turn is an estimation of the generazation capabilities of the algorithm. It is generally useful to look at these quantities to have a first idea of the optimization behaviour.\n",
    "\n",
    "** Model prediction ** : This is where we generate the similarity for a pair of sentences. Once the model has been trained and we are satisfied with its overall accuracy we use the saved model to show the similarity between two provided sentences. "
   ]
  },
  {
   "cell_type": "markdown",
   "metadata": {},
   "source": [
    "### 4.0 Download pretrained vectors."
   ]
  },
  {
   "cell_type": "code",
   "execution_count": 6,
   "metadata": {},
   "outputs": [
    {
     "name": "stderr",
     "output_type": "stream",
     "text": [
      "100%|██████████| 2.13M/2.13M [00:54<00:00, 38.7kKB/s]\n"
     ]
    }
   ],
   "source": [
    "pretrained_embedding_path = download_and_extract(BASE_DATA_PATH)"
   ]
  },
  {
   "cell_type": "markdown",
   "metadata": {
    "nbpresent": {
     "id": "ab565124-43de-4862-b286-2b5db3a868fe"
    }
   },
   "source": [
    "### 4.1 Initialize Model"
   ]
  },
  {
   "cell_type": "code",
   "execution_count": 8,
   "metadata": {
    "nbpresent": {
     "id": "641a9c74-974c-4aac-8c16-3b44d686f0f3"
    },
    "scrolled": true
   },
   "outputs": [],
   "source": [
    "#import autoreload\n",
    "#%load_ext autoreload\n",
    "#%autoreload 2\n",
    "#%aimport utils_nlp.model.gensen\n",
    "\n",
    "config_filepath = 'gensen_config.json'\n",
    "clf = GenSenClassifier(config_file = config_filepath, \n",
    "                       pretrained_embedding_path = pretrained_embedding_path,\n",
    "                       learning_rate = 0.0001, \n",
    "                       cache_dir=BASE_DATA_PATH)"
   ]
  },
  {
   "cell_type": "markdown",
   "metadata": {
    "nbpresent": {
     "id": "5f87d13c-d04f-4d38-820e-fb82082153c4"
    }
   },
   "source": [
    "### 4.2 Train Model"
   ]
  },
  {
   "cell_type": "code",
   "execution_count": 9,
   "metadata": {
    "nbpresent": {
     "id": "6ea45671-c7a5-4fe8-a450-8b54161f26c5"
    },
    "scrolled": true
   },
   "outputs": [
    {
     "name": "stderr",
     "output_type": "stream",
     "text": [
      "/data/anaconda/envs/nlp_gpu/lib/python3.6/site-packages/torch/nn/modules/rnn.py:46: UserWarning: dropout option adds dropout after all but last recurrent layer, so non-zero dropout expects num_layers greater than 1, but got dropout=0.8 and num_layers=1\n",
      "  \"num_layers={}\".format(dropout, num_layers))\n",
      "../../scenarios/sentence_similarity/gensen_train.py:425: UserWarning: torch.nn.utils.clip_grad_norm is now deprecated in favor of torch.nn.utils.clip_grad_norm_.\n",
      "  torch.nn.utils.clip_grad_norm(model.parameters(), 1.0)\n",
      "../../utils_nlp/gensen/utils.py:362: UserWarning: volatile was removed and now has no effect. Use `with torch.no_grad():` instead.\n",
      "  Variable(torch.LongTensor(sorted_src_lens), volatile=True)\n",
      "/data/anaconda/envs/nlp_gpu/lib/python3.6/site-packages/torch/nn/functional.py:1332: UserWarning: nn.functional.sigmoid is deprecated. Use torch.sigmoid instead.\n",
      "  warnings.warn(\"nn.functional.sigmoid is deprecated. Use torch.sigmoid instead.\")\n",
      "/data/anaconda/envs/nlp_gpu/lib/python3.6/site-packages/torch/nn/functional.py:1320: UserWarning: nn.functional.tanh is deprecated. Use torch.tanh instead.\n",
      "  warnings.warn(\"nn.functional.tanh is deprecated. Use torch.tanh instead.\")\n",
      "../../scenarios/sentence_similarity/gensen_train.py:517: UserWarning: torch.nn.utils.clip_grad_norm is now deprecated in favor of torch.nn.utils.clip_grad_norm_.\n",
      "  torch.nn.utils.clip_grad_norm(model.parameters(), 1.0)\n",
      "/data/anaconda/envs/nlp_gpu/lib/python3.6/site-packages/horovod/torch/__init__.py:163: UserWarning: optimizer.step(synchronize=True) called after optimizer.synchronize(). This can cause training slowdown. You may want to consider using optimizer.step(synchronize=False) if you use optimizer.synchronize() in your code.\n",
      "  warnings.warn(\"optimizer.step(synchronize=True) called after \"\n",
      "../../scenarios/sentence_similarity/gensen_train.py:238: UserWarning: Implicit dimension choice for softmax has been deprecated. Change the call to include dim=X as an argument.\n",
      "  f.softmax(class_logits).data.cpu().numpy().argmax(axis=-1)\n"
     ]
    },
    {
     "name": "stdout",
     "output_type": "stream",
     "text": [
      "NLI Dev Acc : 0.32869\n"
     ]
    },
    {
     "name": "stderr",
     "output_type": "stream",
     "text": [
      "../../scenarios/sentence_similarity/gensen_train.py:257: UserWarning: Implicit dimension choice for softmax has been deprecated. Change the call to include dim=X as an argument.\n",
      "  f.softmax(class_logits).data.cpu().numpy().argmax(axis=-1)\n"
     ]
    },
    {
     "name": "stdout",
     "output_type": "stream",
     "text": [
      "NLI Test Acc : 0.32767\n",
      "NLI Dev Acc : 0.32869\n",
      "NLI Test Acc : 0.32767\n",
      "NLI Dev Acc : 0.34485\n",
      "NLI Test Acc : 0.34334\n",
      "NLI Dev Acc : 0.33306\n",
      "NLI Test Acc : 0.32950\n",
      "NLI Dev Acc : 0.33824\n",
      "NLI Test Acc : 0.34283\n",
      "NLI Dev Acc : 0.36507\n",
      "NLI Test Acc : 0.36482\n",
      "NLI Dev Acc : 0.34983\n",
      "NLI Test Acc : 0.34762\n",
      "NLI Dev Acc : 0.35216\n",
      "NLI Test Acc : 0.34792\n",
      "NLI Dev Acc : 0.33824\n",
      "NLI Test Acc : 0.34283\n",
      "NLI Dev Acc : 0.33835\n",
      "NLI Test Acc : 0.34294\n",
      "NLI Dev Acc : 0.33306\n",
      "NLI Test Acc : 0.32950\n",
      "NLI Dev Acc : 0.33306\n",
      "NLI Test Acc : 0.32950\n",
      "NLI Dev Acc : 0.34302\n",
      "NLI Test Acc : 0.34161\n",
      "NLI Dev Acc : 0.36385\n",
      "NLI Test Acc : 0.37154\n",
      "NLI Dev Acc : 0.38295\n",
      "NLI Test Acc : 0.38386\n",
      "NLI Dev Acc : 0.38793\n",
      "NLI Test Acc : 0.38742\n",
      "NLI Dev Acc : 0.39138\n",
      "NLI Test Acc : 0.38976\n",
      "NLI Dev Acc : 0.35135\n",
      "NLI Test Acc : 0.35393\n",
      "NLI Dev Acc : 0.34007\n",
      "NLI Test Acc : 0.33744\n",
      "NLI Dev Acc : 0.33306\n",
      "NLI Test Acc : 0.32950\n",
      "NLI Dev Acc : 0.33306\n",
      "NLI Test Acc : 0.32950\n",
      "NLI Dev Acc : 0.33804\n",
      "NLI Test Acc : 0.34263\n",
      "NLI Dev Acc : 0.34617\n",
      "NLI Test Acc : 0.35413\n",
      "NLI Dev Acc : 0.35034\n",
      "NLI Test Acc : 0.34772\n",
      "NLI Dev Acc : 0.33306\n",
      "NLI Test Acc : 0.32950\n",
      "NLI Dev Acc : 0.33560\n",
      "NLI Test Acc : 0.33184\n",
      "NLI Dev Acc : 0.35298\n",
      "NLI Test Acc : 0.35922\n",
      "NLI Dev Acc : 0.34363\n",
      "NLI Test Acc : 0.34009\n",
      "NLI Dev Acc : 0.36365\n",
      "NLI Test Acc : 0.36238\n",
      "NLI Dev Acc : 0.35145\n",
      "NLI Test Acc : 0.35077\n",
      "NLI Dev Acc : 0.33367\n",
      "NLI Test Acc : 0.33092\n",
      "NLI Dev Acc : 0.36141\n",
      "NLI Test Acc : 0.35882\n",
      "NLI Dev Acc : 0.35369\n",
      "NLI Test Acc : 0.35678\n",
      "NLI Dev Acc : 0.32869\n",
      "NLI Test Acc : 0.32767\n",
      "NLI Dev Acc : 0.32869\n",
      "NLI Test Acc : 0.32767\n",
      "NLI Dev Acc : 0.32869\n",
      "NLI Test Acc : 0.32767\n",
      "NLI Dev Acc : 0.32910\n",
      "NLI Test Acc : 0.32807\n",
      "NLI Dev Acc : 0.35470\n",
      "NLI Test Acc : 0.35230\n",
      "NLI Dev Acc : 0.40469\n",
      "NLI Test Acc : 0.40869\n",
      "NLI Dev Acc : 0.37106\n",
      "NLI Test Acc : 0.36594\n",
      "NLI Dev Acc : 0.37939\n",
      "NLI Test Acc : 0.37246\n",
      "NLI Dev Acc : 0.38254\n",
      "NLI Test Acc : 0.37724\n",
      "NLI Dev Acc : 0.37309\n",
      "NLI Test Acc : 0.37449\n",
      "NLI Dev Acc : 0.33936\n",
      "NLI Test Acc : 0.33876\n",
      "NLI Dev Acc : 0.34820\n",
      "NLI Test Acc : 0.34864\n",
      "NLI Dev Acc : 0.38387\n",
      "NLI Test Acc : 0.38060\n",
      "NLI Dev Acc : 0.40073\n",
      "NLI Test Acc : 0.40564\n",
      "NLI Dev Acc : 0.35867\n",
      "NLI Test Acc : 0.36553\n",
      "NLI Dev Acc : 0.35277\n",
      "NLI Test Acc : 0.36044\n",
      "NLI Dev Acc : 0.40205\n",
      "NLI Test Acc : 0.39963\n",
      "CPU times: user 1h 8min 52s, sys: 19min 2s, total: 1h 27min 55s\n",
      "Wall time: 1h 28min\n"
     ]
    }
   ],
   "source": [
    "%%time\n",
    "clf.fit(train_tok, dev_tok, test_tok)"
   ]
  },
  {
   "cell_type": "markdown",
   "metadata": {},
   "source": [
    "### 4.3 Predict"
   ]
  },
  {
   "cell_type": "code",
   "execution_count": 19,
   "metadata": {},
   "outputs": [
    {
     "data": {
      "text/html": [
       "<div>\n",
       "<style scoped>\n",
       "    .dataframe tbody tr th:only-of-type {\n",
       "        vertical-align: middle;\n",
       "    }\n",
       "\n",
       "    .dataframe tbody tr th {\n",
       "        vertical-align: top;\n",
       "    }\n",
       "\n",
       "    .dataframe thead th {\n",
       "        text-align: right;\n",
       "    }\n",
       "</style>\n",
       "<table border=\"1\" class=\"dataframe\">\n",
       "  <thead>\n",
       "    <tr style=\"text-align: right;\">\n",
       "      <th></th>\n",
       "      <th>0</th>\n",
       "      <th>1</th>\n",
       "    </tr>\n",
       "  </thead>\n",
       "  <tbody>\n",
       "    <tr>\n",
       "      <th>0</th>\n",
       "      <td>1.000000</td>\n",
       "      <td>0.976151</td>\n",
       "    </tr>\n",
       "    <tr>\n",
       "      <th>1</th>\n",
       "      <td>0.976151</td>\n",
       "      <td>1.000000</td>\n",
       "    </tr>\n",
       "  </tbody>\n",
       "</table>\n",
       "</div>"
      ],
      "text/plain": [
       "          0         1\n",
       "0  1.000000  0.976151\n",
       "1  0.976151  1.000000"
      ]
     },
     "execution_count": 19,
     "metadata": {},
     "output_type": "execute_result"
    }
   ],
   "source": [
    "sentences = [\n",
    "        'the quick brown fox jumped over the lazy dog',\n",
    "        'it is going to be a bright sunshiny day tomorrow'\n",
    "    ]\n",
    "\n",
    "clf.predict(sentences)"
   ]
  },
  {
   "cell_type": "markdown",
   "metadata": {},
   "source": [
    "## References\n",
    "\n",
    "1. Subramanian, Sandeep and Trischler, Adam and Bengio, Yoshua and Pal, Christopher J, [*Learning general purpose distributed sentence representations via large scale multi-task learning*](https://arxiv.org/abs/1804.00079), ICLR, 2018.\n",
    "3. Semantic textual similarity. url: http://nlpprogress.com/english/semantic_textual_similarity.html"
   ]
  },
  {
   "cell_type": "code",
   "execution_count": null,
   "metadata": {},
   "outputs": [],
   "source": []
  }
 ],
 "metadata": {
  "kernelspec": {
   "display_name": "Python [conda env:nlp_gpu]",
   "language": "python",
   "name": "conda-env-nlp_gpu-py"
  },
  "language_info": {
   "codemirror_mode": {
    "name": "ipython",
    "version": 3
   },
   "file_extension": ".py",
   "mimetype": "text/x-python",
   "name": "python",
   "nbconvert_exporter": "python",
   "pygments_lexer": "ipython3",
   "version": "3.6.8"
  }
 },
 "nbformat": 4,
 "nbformat_minor": 2
}
