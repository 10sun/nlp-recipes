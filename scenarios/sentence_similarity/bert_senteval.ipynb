{
 "cells": [
  {
   "cell_type": "markdown",
   "metadata": {},
   "source": [
    "# Parallel Experimentation with BERT on AzureML"
   ]
  },
  {
   "cell_type": "markdown",
   "metadata": {},
   "source": [
    "[SentEval](https://github.com/facebookresearch/SentEval) is a widely used benchmarking tool for evaluating general-purpose sentence embeddings. It provides a simple interface for evaluating embeddings on up to 17 supported downstream tasks (such as sentiment classification, natural language inference, semantic similarity, etc.) \n",
    "\n",
    "Due to the fact that different BERT layers capture different information, and that the choice of pooling layer and pooling strategy for the encoding is highly dependent on the final finetuning task, we use SentEval to evaluate different combinations of these encoding parameters on the STSBenchmark dataset. In this notebook, we aim to show an example of\n",
    "* running SentEval experiments with BERT encodings\n",
    "* running parallel jobs on AzureML compute targets for faster experimentation (extracting sequence encodings from BERT with 110M parameters is computationally expensive, even without finetuning. Each experiment could take an hour or more, depending on the specs of the machine, so running multiple experiments sequentially can quickly add up) "
   ]
  },
  {
   "cell_type": "markdown",
   "metadata": {},
   "source": [
    "### 00 Global Settings"
   ]
  },
  {
   "cell_type": "code",
   "execution_count": 1,
   "metadata": {},
   "outputs": [],
   "source": [
    "import os\n",
    "import sys\n",
    "import pickle\n",
    "import shutil\n",
    "import itertools\n",
    "import glob\n",
    "import numpy as np\n",
    "import pandas as pd\n",
    "import seaborn as sns\n",
    "import matplotlib.pyplot as plt\n",
    "\n",
    "from azureml.core import Experiment\n",
    "from azureml.data.data_reference import DataReference\n",
    "from azureml.train.dnn import PyTorch\n",
    "from azureml.widgets import RunDetails\n",
    "\n",
    "sys.path.append(\"../../\")\n",
    "from utils_nlp.azureml.azureml_utils import get_or_create_workspace, get_or_create_amlcompute\n",
    "from utils_nlp.models.bert.common import Language, Tokenizer\n",
    "from utils_nlp.models.bert.sequence_encoding import BERTSentenceEncoder, PoolingStrategy\n",
    "from utils_nlp.eval.senteval import SentEvalConfig"
   ]
  },
  {
   "cell_type": "code",
   "execution_count": 2,
   "metadata": {
    "tags": [
     "parameters"
    ]
   },
   "outputs": [],
   "source": [
    "CACHE_DIR = \"./temp\"\n",
    "LOCAL_SENTEVAL_DIR = os.path.join(CACHE_DIR, \"SentEval\")\n",
    "\n",
    "MODEL_PARAMS = {\n",
    "    \"num_gpus\": 1,\n",
    "    \"language\": Language.ENGLISH,\n",
    "    \"to_lower\": True,\n",
    "    \"max_len\": 128,\n",
    "    \"cache_dir\": CACHE_DIR\n",
    "}\n",
    "\n",
    "SENTEVAL_PARAMS = {\n",
    "    \"usepytorch\": True, \n",
    "    \"batch_size\": 128,\n",
    "    \"transfer_tasks\": [\"STSBenchmark\"]\n",
    "}\n",
    "\n",
    "EXP_PARAMS = {\n",
    "    \"layer_index\": range(12),\n",
    "    \"pooling_strategy\": [PoolingStrategy.MEAN, PoolingStrategy.MAX],\n",
    "}\n",
    "\n",
    "# azureml config\n",
    "subscription_id = \"YOUR_SUBSCRIPTION_ID\"\n",
    "resource_group = \"YOUR_RESOURCE_GROUP_NAME\"  \n",
    "workspace_name = \"YOUR_WORKSPACE_NAME\"  \n",
    "workspace_region = \"YOUR_WORKSPACE_REGION\"\n",
    "\n",
    "CONFIG_PATH = \".azureml\"\n",
    "EXPERIMENT_NAME = \"NLP-SS-bert\"\n",
    "CLUSTER_NAME = \"eval-gpu\"\n",
    "MAX_NODES = None"
   ]
  },
  {
   "cell_type": "code",
   "execution_count": null,
   "metadata": {},
   "outputs": [],
   "source": [
    "os.makedirs(CACHE_DIR, exist_ok=True)"
   ]
  },
  {
   "cell_type": "markdown",
   "metadata": {},
   "source": [
    "### 01 Set up AzureML resources"
   ]
  },
  {
   "cell_type": "markdown",
   "metadata": {},
   "source": [
    "We set up the following AzureML resources for this example:\n",
    "* A [Workspace](https://docs.microsoft.com/en-us/azure/machine-learning/service/concept-workspace), a centralized hub for all the artifacts you create when you use Azure Machine Learning service\n",
    "* An [Experiment](https://docs.microsoft.com/en-us/python/api/azureml-core/azureml.core.experiment.experiment?view=azure-ml-py), which acts a container for trials or model runs\n",
    "* A [Datastore](https://docs.microsoft.com/en-us/azure/machine-learning/service/how-to-access-data), a compute location-independent abstraction of data in Azure storage accounts"
   ]
  },
  {
   "cell_type": "code",
   "execution_count": 3,
   "metadata": {},
   "outputs": [],
   "source": [
    "ws = get_or_create_workspace(\n",
    "    config_path=CONFIG_PATH,\n",
    "    subscription_id=subscription_id,\n",
    "    resource_group=resource_group,\n",
    "    workspace_name=workspace_name,\n",
    "    workspace_region=workspace_region,\n",
    ")\n",
    "exp = Experiment(workspace=ws, name=EXPERIMENT_NAME)\n",
    "ds = ws.get_default_datastore()"
   ]
  },
  {
   "cell_type": "markdown",
   "metadata": {},
   "source": [
    "### 02 Set up SentEval"
   ]
  },
  {
   "cell_type": "markdown",
   "metadata": {},
   "source": [
    "Clone the repository."
   ]
  },
  {
   "cell_type": "code",
   "execution_count": 4,
   "metadata": {},
   "outputs": [],
   "source": [
    "if not os.path.exists(LOCAL_SENTEVAL_DIR):\n",
    "    !git clone https://github.com/facebookresearch/SentEval.git $LOCAL_SENTEVAL_DIR"
   ]
  },
  {
   "cell_type": "markdown",
   "metadata": {},
   "source": [
    "Run the bash script to download the data for auxiliary transfer tasks."
   ]
  },
  {
   "cell_type": "code",
   "execution_count": 5,
   "metadata": {},
   "outputs": [],
   "source": [
    "data_path = os.path.join(LOCAL_SENTEVAL_DIR, \"data/downstream\")\n",
    "data_script = \"get_transfer_data.bash\"\n",
    "cwd = os.path.abspath(os.getcwd())\n",
    "\n",
    "if not any([f.is_dir() for f in os.scandir(data_path)]):\n",
    "    !cd $data_path && ./$data_script"
   ]
  },
  {
   "cell_type": "markdown",
   "metadata": {},
   "source": [
    "Upload the SentEval dependency to datastore."
   ]
  },
  {
   "cell_type": "code",
   "execution_count": 6,
   "metadata": {},
   "outputs": [
    {
     "data": {
      "text/plain": [
       "$AZUREML_DATAREFERENCE_29393ed34c4d4ab398be34e5f5952c2c"
      ]
     },
     "execution_count": 6,
     "metadata": {},
     "output_type": "execute_result"
    }
   ],
   "source": [
    "ds.upload(\n",
    "    src_dir=LOCAL_SENTEVAL_DIR,\n",
    "    target_path=os.path.join(EXPERIMENT_NAME, \"senteval\"),\n",
    "    overwrite=False,\n",
    "    show_progress=False,\n",
    ")"
   ]
  },
  {
   "cell_type": "markdown",
   "metadata": {},
   "source": [
    "### 03 Define experiment configurations\n",
    "We define a set of static configurations, which entails model parameters that will stay consistent across all experiments, in `SentEvalConfig`. We also define the parameter space that will vary across the experiments. We serialize the configuration objects and upload them to our datastore to make them accessible to all experiments."
   ]
  },
  {
   "cell_type": "code",
   "execution_count": 7,
   "metadata": {},
   "outputs": [],
   "source": [
    "sc = SentEvalConfig(\n",
    "    model_params=MODEL_PARAMS,\n",
    "    senteval_params=SENTEVAL_PARAMS,\n",
    ")"
   ]
  },
  {
   "cell_type": "code",
   "execution_count": 8,
   "metadata": {},
   "outputs": [],
   "source": [
    "parameter_groups = list(itertools.product(*list(EXP_PARAMS.values())))"
   ]
  },
  {
   "cell_type": "code",
   "execution_count": 9,
   "metadata": {},
   "outputs": [
    {
     "data": {
      "text/plain": [
       "$AZUREML_DATAREFERENCE_07723c6c94b7431b9f811c8be538d8b7"
      ]
     },
     "execution_count": 9,
     "metadata": {},
     "output_type": "execute_result"
    }
   ],
   "source": [
    "os.makedirs(os.path.join(CACHE_DIR, \"config\"), exist_ok=True)\n",
    "\n",
    "static_config = (\n",
    "    SentEvalConfig(model_params=MODEL_PARAMS, senteval_params=SENTEVAL_PARAMS),\n",
    "    os.path.join(CACHE_DIR, \"config\", \"static_config.pkl\"),\n",
    ")\n",
    "exp_configs = [\n",
    "    (\n",
    "        dict(zip(EXP_PARAMS.keys(), p)),\n",
    "        os.path.join(CACHE_DIR, \"config\", \"exp_config_{0:03d}.pkl\".format(i)),\n",
    "    )\n",
    "    for i, p in enumerate(parameter_groups)\n",
    "]\n",
    "\n",
    "configs = [static_config] + exp_configs\n",
    "for config in configs:\n",
    "    pickle.dump(config[0], open(config[1], \"wb\"))\n",
    "\n",
    "ds.upload_files(\n",
    "    [c[1] for c in configs],\n",
    "    target_path=\"{}/config\".format(EXPERIMENT_NAME),\n",
    "    overwrite=True,\n",
    "    show_progress=False,\n",
    ")"
   ]
  },
  {
   "cell_type": "markdown",
   "metadata": {},
   "source": [
    "### 04 Scale the compute target"
   ]
  },
  {
   "cell_type": "markdown",
   "metadata": {},
   "source": [
    "Scale the number of nodes in the compute target to the number of experiments we want to run."
   ]
  },
  {
   "cell_type": "code",
   "execution_count": 10,
   "metadata": {},
   "outputs": [
    {
     "name": "stdout",
     "output_type": "stream",
     "text": [
      "Scaling compute target eval-gpu to 24 node(s)\n"
     ]
    }
   ],
   "source": [
    "compute_target = get_or_create_amlcompute(\n",
    "    workspace=ws,\n",
    "    compute_name=CLUSTER_NAME,\n",
    "    vm_size=\"STANDARD_NC6\",\n",
    "    min_nodes=len(parameter_groups),\n",
    "    max_nodes=MAX_NODES,\n",
    "    idle_seconds_before_scaledown=300,\n",
    "    verbose=False,\n",
    ")\n",
    "\n",
    "print(\n",
    "    \"Scaling compute target {0} to {1} node(s)\".format(\n",
    "        CLUSTER_NAME, min(len(parameter_groups), int(MAX_NODES or 100))\n",
    "    )\n",
    ")"
   ]
  },
  {
   "cell_type": "markdown",
   "metadata": {},
   "source": [
    "### 05 Define the execution script"
   ]
  },
  {
   "cell_type": "markdown",
   "metadata": {},
   "source": [
    "Here we define the script to be executed for each experiment on the remote compute target. We deserialize the configuration objects from the datastore to specify the model parameters for the experiment, and run the SentEval evaluation engine with that model for the STSBenchmark transfer task.\n",
    "\n",
    "As specified in the SentEval repo, we implement the **batcher** function, which transforms a batch of text sentence into sentence embeddings.\n",
    "\n",
    "After running SentEval, we serialize the output."
   ]
  },
  {
   "cell_type": "code",
   "execution_count": 11,
   "metadata": {
    "scrolled": true
   },
   "outputs": [],
   "source": [
    "src_dir = os.path.join(CACHE_DIR, EXPERIMENT_NAME)\n",
    "os.makedirs(src_dir, exist_ok=True)\n",
    "if not os.path.exists(os.path.join(src_dir, \"utils_nlp\")):\n",
    "    shutil.copytree(\"../../utils_nlp\", os.path.join(src_dir, \"utils_nlp\"))"
   ]
  },
  {
   "cell_type": "code",
   "execution_count": 12,
   "metadata": {
    "scrolled": true
   },
   "outputs": [
    {
     "name": "stdout",
     "output_type": "stream",
     "text": [
      "Writing ./temp/NLP-SS-bert/run.py\n"
     ]
    }
   ],
   "source": [
    "%%writefile $src_dir/run.py\n",
    "import pickle\n",
    "import argparse\n",
    "import os\n",
    "from utils_nlp.eval.senteval import SentEvalConfig\n",
    "from utils_nlp.models.bert.sequence_encoding import BERTSentenceEncoder\n",
    "\n",
    "\n",
    "def prepare_output(output_dir, config_file):\n",
    "    os.makedirs(output_dir, exist_ok=True)\n",
    "    out = os.path.join(\n",
    "        output_dir,\n",
    "        \"results_{}.pkl\".format(config_file.split(\"/\")[-1].split(\".\")[0][-3:]),\n",
    "    )\n",
    "    return out\n",
    "\n",
    "\n",
    "def batcher(params, batch):\n",
    "    sentences = [\" \".join(s).lower() for s in batch]\n",
    "    embeddings = params[\"model\"].encode(\n",
    "        sentences, batch_size=params[\"batch_size\"], as_numpy=True\n",
    "    )\n",
    "    return embeddings\n",
    "\n",
    "\n",
    "if __name__ == \"__main__\":\n",
    "    parser = argparse.ArgumentParser()\n",
    "    parser.add_argument(\"--data_dir\", type=str, dest=\"data_dir\")\n",
    "    parser.add_argument(\n",
    "        \"--static_config\",\n",
    "        type=str,\n",
    "        dest=\"static_config\",\n",
    "        help=\"Filename of serialized static config object\",\n",
    "    )\n",
    "    parser.add_argument(\n",
    "        \"--exp_config\",\n",
    "        type=str,\n",
    "        dest=\"exp_config\",\n",
    "        help=\"Filename of serialized experiment config object\",\n",
    "    )\n",
    "    parser.add_argument(\n",
    "        \"--output_dir\",\n",
    "        type=str,\n",
    "        dest=\"output_dir\",\n",
    "        help=\"Directory to write serialized results to\",\n",
    "    )\n",
    "    args = parser.parse_args()\n",
    "\n",
    "    # Import senteval\n",
    "    sys.path.insert(0, args.data_dir)\n",
    "    import senteval\n",
    "\n",
    "    # Deserialize configs\n",
    "    static_config = pickle.load(open(args.static_config, \"rb\"))\n",
    "    exp_config = pickle.load(open(args.exp_config, \"rb\"))\n",
    "\n",
    "    # Update senteval params for this experiment\n",
    "    params = static_config.senteval_params\n",
    "    params[\"model\"] = BERTSentenceEncoder(**static_config.model_params)\n",
    "    for k, v in exp_config.items():\n",
    "        setattr(params[\"model\"], k, v)\n",
    "    params[\"task_path\"] = \"{}/data\".format(args.data_dir)\n",
    "\n",
    "    # Run the senteval engine\n",
    "    se = senteval.engine.SE(params, batcher)\n",
    "    results = se.eval(params[\"transfer_tasks\"])\n",
    "\n",
    "    # Pickle the output\n",
    "    output_file = prepare_output(args.output_dir, args.exp_config)\n",
    "    print(\"Pickling to {}\".format(output_file))\n",
    "    pickle.dump(results, open(output_file, \"wb\"))"
   ]
  },
  {
   "cell_type": "markdown",
   "metadata": {},
   "source": [
    "### 06 Run the experiments in parallel"
   ]
  },
  {
   "cell_type": "markdown",
   "metadata": {},
   "source": [
    "We iterate through the experiment parameter combinations and submit each job to AmlCompute as a `PyTorch` estimator. Since we explicitly set `node_count=1` and `process_count_per_node=1` in the estimator, the jobs will run in parallel."
   ]
  },
  {
   "cell_type": "code",
   "execution_count": 13,
   "metadata": {},
   "outputs": [],
   "source": [
    "runs = []\n",
    "for i in range(len(parameter_groups)):\n",
    "    est = PyTorch(\n",
    "        source_directory=src_dir,\n",
    "        script_params={\n",
    "            \"--data_dir\": ds.path(\"{}/senteval\".format(EXPERIMENT_NAME)).as_mount(),\n",
    "            \"--static_config\": ds.path(\n",
    "                \"{0}/{1}/{2}\".format(\n",
    "                    EXPERIMENT_NAME, \"config\", static_config[1].split(\"/\")[-1]\n",
    "                )\n",
    "            ).as_mount(),\n",
    "            \"--exp_config\": ds.path(\n",
    "                \"{0}/{1}/{2}\".format(\n",
    "                    EXPERIMENT_NAME, \"config\", exp_configs[i][1].split(\"/\")[-1]\n",
    "                )\n",
    "            ),\n",
    "            \"--output_dir\": \"./outputs\",\n",
    "        },\n",
    "        compute_target=compute_target,\n",
    "        entry_script=\"run.py\",\n",
    "        inputs=[\n",
    "            DataReference(\n",
    "                datastore=ds, path_on_datastore=\"outputs\"\n",
    "            ).as_upload(\n",
    "                path_on_compute=os.path.join(\"./outputs/results_{0:03d}.pkl\".format(i))\n",
    "            )\n",
    "        ],\n",
    "        node_count=1,\n",
    "        process_count_per_node=1,\n",
    "        use_gpu=True,\n",
    "        framework_version=\"1.1\",\n",
    "        conda_packages=[\"numpy\", \"pandas\"],\n",
    "        pip_packages=[\n",
    "            \"scikit-learn==0.20.3\",\n",
    "            \"azureml-sdk==1.0.53\",\n",
    "            \"pytorch-pretrained-bert>=0.6\",\n",
    "        ],\n",
    "    )\n",
    "\n",
    "    run = exp.submit(est)\n",
    "    runs.append(run)"
   ]
  },
  {
   "cell_type": "markdown",
   "metadata": {},
   "source": [
    "Each run object is collected in `runs`, so we can monitor any run via a Jupyter widget for debugging."
   ]
  },
  {
   "cell_type": "code",
   "execution_count": 14,
   "metadata": {
    "scrolled": false
   },
   "outputs": [],
   "source": [
    "#RunDetails(runs[0]).show()"
   ]
  },
  {
   "cell_type": "markdown",
   "metadata": {},
   "source": [
    "Alternatively, block until the runs are complete."
   ]
  },
  {
   "cell_type": "code",
   "execution_count": 15,
   "metadata": {},
   "outputs": [],
   "source": [
    "_ = runs[-1].wait_for_completion()"
   ]
  },
  {
   "cell_type": "markdown",
   "metadata": {},
   "source": [
    "Finally, we pull down the serialized outputs of each experiment from the datastore and inspect the metrics for analysis."
   ]
  },
  {
   "cell_type": "code",
   "execution_count": 19,
   "metadata": {},
   "outputs": [
    {
     "data": {
      "text/plain": [
       "24"
      ]
     },
     "execution_count": 19,
     "metadata": {},
     "output_type": "execute_result"
    }
   ],
   "source": [
    "ds.download(\n",
    "    target_path=CACHE_DIR,\n",
    "    prefix=\"outputs\",\n",
    "    show_progress=False,\n",
    ")"
   ]
  },
  {
   "cell_type": "code",
   "execution_count": 30,
   "metadata": {},
   "outputs": [
    {
     "data": {
      "text/plain": [
       "<matplotlib.axes._subplots.AxesSubplot at 0x1a27fbc390>"
      ]
     },
     "execution_count": 30,
     "metadata": {},
     "output_type": "execute_result"
    },
    {
     "data": {
      "image/png": "[encoded data removed]",
      "text/plain": [
       "<Figure size 720x144 with 2 Axes>"
      ]
     },
     "metadata": {
      "needs_background": "light"
     },
     "output_type": "display_data"
    }
   ],
   "source": [
    "%matplotlib inline\n",
    "\n",
    "results = [\n",
    "    pickle.load(open(f, \"rb\"))\n",
    "    for f in sorted(glob.glob(os.path.join(CACHE_DIR, \"outputs\", \"*.pkl\")))\n",
    "]\n",
    "\n",
    "df = pd.DataFrame(\n",
    "    np.reshape(\n",
    "        [r[\"STSBenchmark\"][\"pearson\"] for r in results],\n",
    "        (len(EXP_PARAMS[\"layer_index\"]), len(EXP_PARAMS[\"pooling_strategy\"])),\n",
    "    ).T,\n",
    "    index=[s.value for s in EXP_PARAMS[\"pooling_strategy\"]],\n",
    "    columns=EXP_PARAMS[\"layer_index\"],\n",
    ")\n",
    "fig, ax = plt.subplots(figsize=(10,2)) \n",
    "sns.heatmap(df, annot=True, fmt=\".2g\", ax=ax)"
   ]
  }
 ],
 "metadata": {
  "celltoolbar": "Tags",
  "kernelspec": {
   "display_name": "Python (nlp_cpu)",
   "language": "python",
   "name": "nlp_cpu"
  },
  "language_info": {
   "codemirror_mode": {
    "name": "ipython",
    "version": 3
   },
   "file_extension": ".py",
   "mimetype": "text/x-python",
   "name": "python",
   "nbconvert_exporter": "python",
   "pygments_lexer": "ipython3",
   "version": "3.6.8"
  }
 },
 "nbformat": 4,
 "nbformat_minor": 2
}
