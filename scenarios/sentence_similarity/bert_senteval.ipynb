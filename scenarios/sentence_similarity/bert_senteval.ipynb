{
 "cells": [
  {
   "cell_type": "code",
   "execution_count": 1,
   "metadata": {},
   "outputs": [],
   "source": [
    "import sys\n",
    "import os\n",
    "import torch\n",
    "import itertools\n",
    "import numpy as np\n",
    "import pandas as pd\n",
    "from collections import OrderedDict\n",
    "\n",
    "sys.path.append(\"../../\")\n",
    "from utils_nlp.models.bert.common import Language, Tokenizer\n",
    "from utils_nlp.models.bert.sequence_encoding import BERTSentenceEncoder, PoolingStrategy\n",
    "from utils_nlp.eval.senteval2 import SentEvalConfig, ExperimentRunner"
   ]
  },
  {
   "cell_type": "code",
   "execution_count": 2,
   "metadata": {},
   "outputs": [],
   "source": [
    "# device config\n",
    "NUM_GPUS = 0\n",
    "\n",
    "# model config\n",
    "LANGUAGE = Language.ENGLISH\n",
    "TO_LOWER = True\n",
    "MAX_SEQ_LENGTH = 128\n",
    "# LAYER_INDEX = -2\n",
    "# POOLING_STRATEGY = PoolingStrategy.MEAN\n",
    "\n",
    "# path config\n",
    "CACHE_DIR = \"./temp\"\n",
    "PATH_TO_SENTEVAL = \"../../../SentEval\""
   ]
  },
  {
   "cell_type": "code",
   "execution_count": 3,
   "metadata": {},
   "outputs": [],
   "source": [
    "if not os.path.exists(CACHE_DIR):\n",
    "    os.makedirs(CACHE_DIR, exist_ok=True)"
   ]
  },
  {
   "cell_type": "code",
   "execution_count": 4,
   "metadata": {},
   "outputs": [],
   "source": [
    "se = BERTSentenceEncoder(\n",
    "    language=LANGUAGE,\n",
    "    num_gpus=NUM_GPUS,\n",
    "    cache_dir=CACHE_DIR,\n",
    "    to_lower=TO_LOWER,\n",
    "    max_len=MAX_SEQ_LENGTH,\n",
    ")"
   ]
  },
  {
   "cell_type": "code",
   "execution_count": 5,
   "metadata": {},
   "outputs": [],
   "source": [
    "def prepare(params, samples):\n",
    "    sentences = [\" \".join(s).lower() for s in samples]\n",
    "    params[\"embeddings\"] = params[\"model\"].encode(\n",
    "        sentences,\n",
    "        batch_size=params[\"batch_size\"],\n",
    "        as_numpy=False,\n",
    "    )\n",
    "    params[\"sentence2idx\"] = collections.OrderedDict(\n",
    "        list(zip(sentences, range(len(sentences))))\n",
    "    )\n",
    "    return\n",
    "\n",
    "def batcher(params, batch):\n",
    "    sentences = [\" \".join(s).lower() for s in batch]\n",
    "    sentence_indices = [params[\"sentence2idx\"][s] for s in sentences]\n",
    "\n",
    "    df = params[\"embeddings\"]\n",
    "    embeddings = []\n",
    "    for i in sentence_indices:\n",
    "        values = np.squeeze(\n",
    "            df.loc[\n",
    "                (df[\"text_index\"] == i) & (df[\"layer_index\"] == params[\"layer_index\"])\n",
    "            ][\"values\"].values\n",
    "        ).tolist()\n",
    "        embeddings.append(values)\n",
    "    embeddings = np.array(embeddings)\n",
    "    return embeddings"
   ]
  },
  {
   "cell_type": "code",
   "execution_count": 6,
   "metadata": {},
   "outputs": [],
   "source": [
    "senteval_config = SentEvalConfig(\n",
    "    path_to_senteval=PATH_TO_SENTEVAL,\n",
    "    model=se,\n",
    "    prepare_func=prepare,\n",
    "    batcher_func=batcher,\n",
    "    transfer_tasks=[\"STSBenchmark\"],\n",
    ")"
   ]
  },
  {
   "cell_type": "code",
   "execution_count": 7,
   "metadata": {},
   "outputs": [],
   "source": [
    "experiment_parameters = {\"layer_index\": [-1, -2], \"pooling_strategy\": [PoolingStrategy.MEAN, PoolingStrategy.MAX]}"
   ]
  },
  {
   "cell_type": "code",
   "execution_count": 8,
   "metadata": {},
   "outputs": [],
   "source": [
    "er = ExperimentRunner(senteval_config=senteval_config, experiment_parameters=experiment_parameters)"
   ]
  },
  {
   "cell_type": "raw",
   "metadata": {},
   "source": [
    "er.run_all()"
   ]
  }
 ],
 "metadata": {
  "kernelspec": {
   "display_name": "Python (nlp_cpu)",
   "language": "python",
   "name": "nlp_cpu"
  },
  "language_info": {
   "codemirror_mode": {
    "name": "ipython",
    "version": 3
   },
   "file_extension": ".py",
   "mimetype": "text/x-python",
   "name": "python",
   "nbconvert_exporter": "python",
   "pygments_lexer": "ipython3",
   "version": "3.6.8"
  }
 },
 "nbformat": 4,
 "nbformat_minor": 2
}
