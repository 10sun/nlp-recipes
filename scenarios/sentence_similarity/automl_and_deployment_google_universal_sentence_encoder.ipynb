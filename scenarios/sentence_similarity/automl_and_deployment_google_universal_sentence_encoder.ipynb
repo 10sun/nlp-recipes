{
 "cells": [
  {
   "cell_type": "markdown",
   "metadata": {},
   "source": [
    "<i>Copyright (c) Microsoft Corporation. All rights reserved.</i>\n",
    "\n",
    "<i>Licensed under the MIT License.</i>"
   ]
  },
  {
   "cell_type": "markdown",
   "metadata": {},
   "source": [
    "# Using AutoML for Predicting Sentence Similarity"
   ]
  },
  {
   "cell_type": "markdown",
   "metadata": {},
   "source": [
    "This notebook demonstrates how to use Azure AutoML to automate machine learning model selection and tuning. It also demonstrates how to use a popular sentence embedding model from Google, Universal Sentence Encoder. "
   ]
  },
  {
   "cell_type": "markdown",
   "metadata": {},
   "source": [
    "### What is Azure AutoML?\n",
    "\n",
    "Automated machine learning (AutoML) is a capability of Microsoft's Azure Machine Learning service. The goal of AutoML is to \"improve the productivity of data scientists and democratize AI\" [1] by allowing for the rapid development and deployment of machine learning models. To acheive this goal, AutoML automates the process of selecting a ML model and tuning the model. All the user is required to provide is a dataset (suitable for a classification, regression, or time-series forecasting problem) and a metric to optimize in choosing the model and hyperparameters. The user is also given the ability to set time and cost constraints for the model selection and tuning.\n",
    "\n",
    "[1]https://azure.microsoft.com/en-us/blog/new-automated-machine-learning-capabilities-in-azure-machine-learning-service/"
   ]
  },
  {
   "cell_type": "markdown",
   "metadata": {},
   "source": [
    "![](automl.png)"
   ]
  },
  {
   "cell_type": "markdown",
   "metadata": {},
   "source": [
    "The AutoML model selection and tuning process can be easily tracked through the Azure portal or directly in python notebooks through the use of widgets. AutoML quickly selects a high quilty machine learning model tailored for your prediction problem. In this notebook, we walk through the steps of preparing data, setting up an AutoML experiment, and evaluating the results of our best model. More information about running AutoML experiments in Python can be found [here](https://docs.microsoft.com/en-us/azure/machine-learning/service/how-to-configure-auto-train). "
   ]
  },
  {
   "cell_type": "markdown",
   "metadata": {},
   "source": [
    "### Modeling Problem\n",
    "\n",
    "The regression problem we will demonstrate is predicting sentence similarity scores on the STS Benchmark dataset. The [STS Benchmark dataset](http://ixa2.si.ehu.es/stswiki/index.php/STSbenchmark#STS_benchmark_dataset_and_companion_dataset) contains a selection of English datasets that were used in Semantic Textual Similarity (STS) tasks 2012-2017. The dataset contains 8,628 sentence pairs with a human-labeled integer representing the sentences' similarity (ranging from 0, for no meaning overlap, to 5, meaning equivalence).\n",
    "\n",
    "For each sentence in the sentence pair, we will use Google's pretrained Universal Sentence Encoder (details provided below) to generate a $512$-dimensional embedding. Both embeddings in the sentence pair will be concatenated and the resulting $1024$-dimensional vector will be used as features in our regression problem. Our target variable is the sentence similarity score."
   ]
  },
  {
   "cell_type": "code",
   "execution_count": 1,
   "metadata": {
    "scrolled": false
   },
   "outputs": [
    {
     "name": "stderr",
     "output_type": "stream",
     "text": [
      "WARNING - Some hub symbols are not available because TensorFlow version is less than 1.14\n"
     ]
    },
    {
     "name": "stdout",
     "output_type": "stream",
     "text": [
      "Turning diagnostics collection on. \n",
      "System version: 3.6.8 |Anaconda, Inc.| (default, Feb 21 2019, 18:30:04) [MSC v.1916 64 bit (AMD64)]\n",
      "Azure ML SDK Version: 1.0.43\n",
      "Pandas version: 0.23.4\n",
      "Tensorflow Version: 1.13.1\n"
     ]
    }
   ],
   "source": [
    "# Set the environment path to find NLP\n",
    "import sys\n",
    "sys.path.append(\"../../\")\n",
    "import time\n",
    "import os\n",
    "import pandas as pd\n",
    "import shutil\n",
    "import numpy as np\n",
    "import torch\n",
    "import sys\n",
    "from scipy.stats import pearsonr\n",
    "from scipy.spatial import distance\n",
    "from sklearn.externals import joblib\n",
    "\n",
    "# Import utils\n",
    "from utils_nlp.azureml import azureml_utils\n",
    "from utils_nlp.dataset import stsbenchmark\n",
    "from utils_nlp.dataset.preprocess import (\n",
    "    to_lowercase,\n",
    "    to_spacy_tokens,\n",
    "    rm_spacy_stopwords,\n",
    ")\n",
    "\n",
    "# Tensorflow dependencies for Google Universal Sentence Encoder\n",
    "import tensorflow as tf\n",
    "import tensorflow_hub as hub\n",
    "tf.logging.set_verbosity(tf.logging.ERROR) # reduce logging output\n",
    "\n",
    "# AzureML packages\n",
    "import azureml as aml\n",
    "import logging\n",
    "from azureml.telemetry import set_diagnostics_collection\n",
    "set_diagnostics_collection(send_diagnostics=True)\n",
    "from azureml.train.automl import AutoMLConfig\n",
    "from azureml.core.experiment import Experiment\n",
    "from azureml.widgets import RunDetails\n",
    "from azureml.train.automl.run import AutoMLRun\n",
    "from azureml.core.webservice import AciWebservice, Webservice\n",
    "\n",
    "print(\"System version: {}\".format(sys.version))\n",
    "print(\"Azure ML SDK Version:\", aml.core.VERSION)\n",
    "print(\"Pandas version: {}\".format(pd.__version__))\n",
    "print(\"Tensorflow Version:\", tf.VERSION)"
   ]
  },
  {
   "cell_type": "code",
   "execution_count": 2,
   "metadata": {},
   "outputs": [],
   "source": [
    "BASE_DATA_PATH = '../../data'"
   ]
  },
  {
   "cell_type": "markdown",
   "metadata": {},
   "source": [
    "# Data Preparation"
   ]
  },
  {
   "cell_type": "markdown",
   "metadata": {},
   "source": [
    "## STS Benchmark Dataset"
   ]
  },
  {
   "cell_type": "markdown",
   "metadata": {},
   "source": [
    "As described above, the STS Benchmark dataset contains 8.6K sentence pairs along with a human-annotated score for how similiar the two sentences are. We will load the training, development (validation), and test sets provided by STS Benchmark and preprocess the data (lowercase the text, drop irrelevant columns, and rename the remaining columns) using the utils contained in this repo. Each dataset will ultimately have three columns: _sentence1_ and _sentence2_ which contain the text of the sentences in the sentence pair, and _score_ which contains the human-annotated similarity score of the sentence pair."
   ]
  },
  {
   "cell_type": "code",
   "execution_count": 3,
   "metadata": {},
   "outputs": [
    {
     "name": "stderr",
     "output_type": "stream",
     "text": [
      "100%|██████████████████████████████████████████████████████████████████████████████████| 401/401 [00:01<00:00, 260KB/s]\n"
     ]
    },
    {
     "name": "stdout",
     "output_type": "stream",
     "text": [
      "Data downloaded to ../../data\\raw\\stsbenchmark\n"
     ]
    },
    {
     "name": "stderr",
     "output_type": "stream",
     "text": [
      "100%|██████████████████████████████████████████████████████████████████████████████████| 401/401 [00:01<00:00, 304KB/s]\n"
     ]
    },
    {
     "name": "stdout",
     "output_type": "stream",
     "text": [
      "Data downloaded to ../../data\\raw\\stsbenchmark\n"
     ]
    },
    {
     "name": "stderr",
     "output_type": "stream",
     "text": [
      "100%|██████████████████████████████████████████████████████████████████████████████████| 401/401 [00:01<00:00, 304KB/s]\n"
     ]
    },
    {
     "name": "stdout",
     "output_type": "stream",
     "text": [
      "Data downloaded to ../../data\\raw\\stsbenchmark\n"
     ]
    }
   ],
   "source": [
    "# Load in the raw datasets as pandas dataframes\n",
    "train_raw = stsbenchmark.load_pandas_df(BASE_DATA_PATH, file_split=\"train\")\n",
    "dev_raw = stsbenchmark.load_pandas_df(BASE_DATA_PATH, file_split=\"dev\")\n",
    "test_raw = stsbenchmark.load_pandas_df(BASE_DATA_PATH, file_split=\"test\")"
   ]
  },
  {
   "cell_type": "code",
   "execution_count": 4,
   "metadata": {},
   "outputs": [],
   "source": [
    "# Clean each dataset by lowercasing text, removing irrelevant columns,\n",
    "# and renaming the remaining columns\n",
    "train = stsbenchmark.clean_sts(train_raw)\n",
    "dev = stsbenchmark.clean_sts(dev_raw)\n",
    "test = stsbenchmark.clean_sts(test_raw)"
   ]
  },
  {
   "cell_type": "code",
   "execution_count": 5,
   "metadata": {},
   "outputs": [
    {
     "name": "stdout",
     "output_type": "stream",
     "text": [
      "Training set has 5749 sentences\n",
      "Development set has 1500 sentences\n",
      "Testing set has 1379 sentences\n"
     ]
    }
   ],
   "source": [
    "print(\"Training set has {} sentences\".format(len(train)))\n",
    "print(\"Development set has {} sentences\".format(len(dev)))\n",
    "print(\"Testing set has {} sentences\".format(len(test)))\n"
   ]
  },
  {
   "cell_type": "code",
   "execution_count": 6,
   "metadata": {},
   "outputs": [
    {
     "data": {
      "text/html": [
       "<div>\n",
       "<style scoped>\n",
       "    .dataframe tbody tr th:only-of-type {\n",
       "        vertical-align: middle;\n",
       "    }\n",
       "\n",
       "    .dataframe tbody tr th {\n",
       "        vertical-align: top;\n",
       "    }\n",
       "\n",
       "    .dataframe thead th {\n",
       "        text-align: right;\n",
       "    }\n",
       "</style>\n",
       "<table border=\"1\" class=\"dataframe\">\n",
       "  <thead>\n",
       "    <tr style=\"text-align: right;\">\n",
       "      <th></th>\n",
       "      <th>score</th>\n",
       "      <th>sentence1</th>\n",
       "      <th>sentence2</th>\n",
       "    </tr>\n",
       "  </thead>\n",
       "  <tbody>\n",
       "    <tr>\n",
       "      <th>0</th>\n",
       "      <td>5.00</td>\n",
       "      <td>A plane is taking off.</td>\n",
       "      <td>An air plane is taking off.</td>\n",
       "    </tr>\n",
       "    <tr>\n",
       "      <th>1</th>\n",
       "      <td>3.80</td>\n",
       "      <td>A man is playing a large flute.</td>\n",
       "      <td>A man is playing a flute.</td>\n",
       "    </tr>\n",
       "    <tr>\n",
       "      <th>2</th>\n",
       "      <td>3.80</td>\n",
       "      <td>A man is spreading shreded cheese on a pizza.</td>\n",
       "      <td>A man is spreading shredded cheese on an uncoo...</td>\n",
       "    </tr>\n",
       "    <tr>\n",
       "      <th>3</th>\n",
       "      <td>2.60</td>\n",
       "      <td>Three men are playing chess.</td>\n",
       "      <td>Two men are playing chess.</td>\n",
       "    </tr>\n",
       "    <tr>\n",
       "      <th>4</th>\n",
       "      <td>4.25</td>\n",
       "      <td>A man is playing the cello.</td>\n",
       "      <td>A man seated is playing the cello.</td>\n",
       "    </tr>\n",
       "  </tbody>\n",
       "</table>\n",
       "</div>"
      ],
      "text/plain": [
       "   score                                      sentence1  \\\n",
       "0   5.00                         A plane is taking off.   \n",
       "1   3.80                A man is playing a large flute.   \n",
       "2   3.80  A man is spreading shreded cheese on a pizza.   \n",
       "3   2.60                   Three men are playing chess.   \n",
       "4   4.25                    A man is playing the cello.   \n",
       "\n",
       "                                           sentence2  \n",
       "0                        An air plane is taking off.  \n",
       "1                          A man is playing a flute.  \n",
       "2  A man is spreading shredded cheese on an uncoo...  \n",
       "3                         Two men are playing chess.  \n",
       "4                 A man seated is playing the cello.  "
      ]
     },
     "execution_count": 6,
     "metadata": {},
     "output_type": "execute_result"
    }
   ],
   "source": [
    "train.head(5)"
   ]
  },
  {
   "cell_type": "markdown",
   "metadata": {},
   "source": [
    "## Feature Engineering:  Universal Sentence Encoder"
   ]
  },
  {
   "cell_type": "markdown",
   "metadata": {},
   "source": [
    "Now that we have our sentence pairs loaded, we will convert these sentences into a numerical representation in order to use them in our machine learning model. To do this, we'll use a popular sentence encoder called Google Universal Sentence Encoder (see [original paper](https://static.googleusercontent.com/media/research.google.com/en//pubs/archive/46808.pdf)). Google provides two pretrained models based on different design goals: a Transformer model (targets high accuracy even if this reduces model complexity) and a Deep Averaging Network model (DAN; targets efficient inference). Both models are trained on a variety of web sources (Wikipedia, news, question-answers pages, and discussion forums) and produced 512-dimensional embeddings. This notebook utilizes the Transformer-based encoding model which can be downloaded [here](https://tfhub.dev/google/universal-sentence-encoder-large/3) because of its better performance relative to the DAN model on the STS Benchmark dataset (see Table 2 in Google Research's [paper](https://static.googleusercontent.com/media/research.google.com/en//pubs/archive/46808.pdf)). "
   ]
  },
  {
   "cell_type": "markdown",
   "metadata": {},
   "source": [
    "**Google Universal Sentence Encoder: Transformer Model** The Transformer model produces sentence embeddings using the \"encoding sub-graph of the transformer architecture\" (original architecture introduced [here](https://arxiv.org/abs/1706.03762)). \"This sub-graph uses attention to compute context aware representations of words in a sentence that take into account both the ordering and identity of all the other workds. The context aware word representations are converted to a fixed length sentence encoding vector by computing the element-wise sum of the representations at each word position.\" The input to the model is lowercase PTB-tokenized strings and the model is designed to be useful for multiple different tasks by using multi-task learning. More details about the model can be found in the [paper](https://static.googleusercontent.com/media/research.google.com/en//pubs/archive/46808.pdf) by Google Research."
   ]
  },
  {
   "cell_type": "markdown",
   "metadata": {},
   "source": [
    "**Using the Pretrained Model**\n",
    "\n",
    "Tensorflow-hub provides the pretrained model for use by the public. We import the model from its url and then feed the model our sentences for it to encode."
   ]
  },
  {
   "cell_type": "code",
   "execution_count": 7,
   "metadata": {},
   "outputs": [],
   "source": [
    "module_url = \"https://tfhub.dev/google/universal-sentence-encoder-large/3\"\n",
    "\n",
    "# Import the Universal Sentence Encoder's TF Hub module\n",
    "embedding_model = hub.Module(module_url)"
   ]
  },
  {
   "cell_type": "code",
   "execution_count": 8,
   "metadata": {},
   "outputs": [],
   "source": [
    "def google_encoder(dataset):\n",
    "    \"\"\" Function that embeds sentences using the Google Universal\n",
    "    Sentence Encoder pretrained model\n",
    "    \n",
    "    Parameters:\n",
    "    ----------\n",
    "    dataset: pandas dataframe with sentences and scores\n",
    "    \n",
    "    Returns:\n",
    "    -------\n",
    "    emb1: 512-dimensional representation of sentence1\n",
    "    emb2: 512-dimensional representation of sentence2\n",
    "    \"\"\"\n",
    "    sts_input1 = tf.placeholder(tf.string, shape=(None))\n",
    "    sts_input2 = tf.placeholder(tf.string, shape=(None))\n",
    "\n",
    "    # Apply embedding model and normalize the input\n",
    "    sts_encode1 = tf.nn.l2_normalize(embedding_model(sts_input1), axis=1)\n",
    "    sts_encode2 = tf.nn.l2_normalize(embedding_model(sts_input2), axis=1)\n",
    "    \n",
    "    with tf.Session() as session:\n",
    "        session.run(tf.global_variables_initializer())\n",
    "        session.run(tf.tables_initializer())\n",
    "        emb1, emb2 = session.run(\n",
    "          [sts_encode1, sts_encode2],\n",
    "          feed_dict={\n",
    "              sts_input1: dataset['sentence1'],\n",
    "              sts_input2: dataset['sentence2']\n",
    "          })\n",
    "    return emb1, emb2"
   ]
  },
  {
   "cell_type": "markdown",
   "metadata": {},
   "source": [
    "As features, we will embed both sentences using the Google Universal Sentence Encoder and concatenate their representations into a $1024$-dimensional vector. The resulting data will be saved in a dataframe for consumption by our AutoML model."
   ]
  },
  {
   "cell_type": "code",
   "execution_count": 9,
   "metadata": {},
   "outputs": [],
   "source": [
    "def feature_engineering(dataset):\n",
    "    \"\"\"Extracts embedding features from the dataset and returns\n",
    "    features and target in a dataframe\n",
    "    \n",
    "    Parameters:\n",
    "    ----------\n",
    "    dataset: pandas dataframe with sentences and scores\n",
    "    \n",
    "    Returns:\n",
    "    -------\n",
    "    df: pandas dataframe with embedding features and target variable\n",
    "    \"\"\"\n",
    "    google_USE_emb1, google_USE_emb2 = google_encoder(dataset)\n",
    "    n_google = google_USE_emb1.shape[1] #length of the embeddings \n",
    "    df = np.concatenate((google_USE_emb1, google_USE_emb2), axis=1)\n",
    "    names = ['USEEmb1_'+str(i) for i in range(n_google)]+['USEEmb2_'+str(i) for i in range(n_google)]\n",
    "    df = pd.DataFrame(df, columns=names)\n",
    "    df['score'] = dataset['score'].tolist()\n",
    "    return df"
   ]
  },
  {
   "cell_type": "code",
   "execution_count": 10,
   "metadata": {},
   "outputs": [],
   "source": [
    "training_data = feature_engineering(train)\n",
    "validation_data = feature_engineering(dev)\n",
    "testing_data = feature_engineering(test)"
   ]
  },
  {
   "cell_type": "code",
   "execution_count": null,
   "metadata": {},
   "outputs": [],
   "source": [
    "#Take this out later\n",
    "\n",
    "training_data.to_csv(os.path.join(featurized_data_location,\"googleUSE_features_train.csv\"), index=None)\n",
    "testing_data.to_csv(os.path.join(featurized_data_location,\"googleUSE_features_test.csv\"), index=None)\n",
    "validation_data.to_csv(os.path.join(featurized_data_location,\"googleUSE_features_dev.csv\"), index=None)"
   ]
  },
  {
   "cell_type": "markdown",
   "metadata": {},
   "source": [
    "# Calculate Baseline Performance"
   ]
  },
  {
   "cell_type": "markdown",
   "metadata": {},
   "source": [
    "Before using AutoML we will calculate a baseline to compare the AutoML results to. For the baseline we will take the Google Universal Sentence Encoder embeddings of each sentence, calculate the cosine similarity between the two sentence embeddings, then compare the predicted values with the true scores using pearson correlation. "
   ]
  },
  {
   "cell_type": "markdown",
   "metadata": {},
   "source": [
    "### What is Pearson Correlation?\n",
    "\n",
    "Our evaluation metric is Pearson correlation ($\\rho$) which is a measure of the linear correlation between two variables. The formula for calculating Pearson correlation is as follows:  \n",
    "\n",
    "$$\\rho_{X,Y} = \\frac{E[(X-\\mu_X)(Y-\\mu_Y)]}{\\sigma_X \\sigma_Y}$$\n",
    "\n",
    "This metric takes a value in [-1,1] where -1 represents a perfect negative correlation, 1 represents a perfect positive correlation, and 0 represents no correlation. We utilize the Pearson correlation metric as this is the metric that [SentEval](http://nlpprogress.com/english/semantic_textual_similarity.html), a widely-used evaluation toolkit for evaluation sentence representations, uses for the STS Benchmark dataset."
   ]
  },
  {
   "cell_type": "code",
   "execution_count": 11,
   "metadata": {},
   "outputs": [],
   "source": [
    "def get_baseline_performance(data):\n",
    "    \"\"\" Get baseline performance by calculating the cosine similarity between\n",
    "    the embeddings in the sentence pair and then evaluating the pearson \n",
    "    correlation between the predicted and true similarity scores\n",
    "    \n",
    "    Parameters:\n",
    "    ----------\n",
    "    data: dataframe containing embeddings and similarity scores\n",
    "    \"\"\"\n",
    "    emb1 = data[[i for i in data.columns if 'USEEmb1' in i]].values.tolist()\n",
    "    emb2 = data[[i for i in data.columns if 'USEEmb2' in i]].values.tolist()\n",
    "    scores = data['score'].values.tolist()\n",
    "    \n",
    "    predictions = [1-distance.cosine(emb1[i], emb2[i]) for i in range(len(emb1))]\n",
    "    print(\"Google Universal Sentence Encoder Pearson Correlation:\", round(pearsonr(predictions, scores)[0],3))"
   ]
  },
  {
   "cell_type": "code",
   "execution_count": 12,
   "metadata": {},
   "outputs": [
    {
     "name": "stdout",
     "output_type": "stream",
     "text": [
      "Google Universal Sentence Encoder Pearson Correlation: 0.764\n"
     ]
    }
   ],
   "source": [
    "get_baseline_performance(testing_data)"
   ]
  },
  {
   "cell_type": "markdown",
   "metadata": {},
   "source": [
    "# AutoML"
   ]
  },
  {
   "cell_type": "markdown",
   "metadata": {},
   "source": [
    "AutoML can be used for classification, regression or timeseries experiments. Each experiment type has corresponding machine learning models and metrics that can be optimized (see [here](https://docs.microsoft.com/en-us/azure/machine-learning/service/how-to-configure-auto-train)) and the options will be delineated below. As a first step we connect to an existing workspace or create one if it doesn't exist."
   ]
  },
  {
   "cell_type": "code",
   "execution_count": 13,
   "metadata": {},
   "outputs": [
    {
     "name": "stdout",
     "output_type": "stream",
     "text": [
      "Performing interactive authentication. Please follow the instructions on the terminal.\n"
     ]
    },
    {
     "name": "stderr",
     "output_type": "stream",
     "text": [
      "WARNING - Note, we have launched a browser for you to login. For old experience with device code, use \"az login --use-device-code\"\n",
      "WARNING - You have logged in. Now let us find all the subscriptions to which you have access...\n"
     ]
    },
    {
     "name": "stdout",
     "output_type": "stream",
     "text": [
      "Interactive authentication successfully completed.\n",
      "Workspace name: MAIDAPNLP\n",
      "Azure region: eastus2\n",
      "Subscription id: 15ae9cb6-95c1-483d-a0e3-b1a1a3b06324\n",
      "Resource group: nlprg\n"
     ]
    }
   ],
   "source": [
    "ws = azureml_utils.get_or_create_workspace(\n",
    "    subscription_id=\"<SUBSCRIPTION_ID>\",\n",
    "    resource_group=\"<RESOURCE_GROUP>\",\n",
    "    workspace_name=\"<WORKSPACE_NAME>\",\n",
    "    workspace_region=\"<WORKSPACE_REGION>\"\n",
    ")\n",
    "\n",
    "# @Courtney : put the print in another cell and don't run it. \n",
    "print('Workspace name: ' + ws.name, \n",
    "      'Azure region: ' + ws.location, \n",
    "      'Subscription id: ' + ws.subscription_id, \n",
    "      'Resource group: ' + ws.resource_group, sep='\\n')"
   ]
  },
  {
   "cell_type": "markdown",
   "metadata": {},
   "source": [
    "## AutoMLConfig Parameters\n",
    "Next, we specify the parameters for the AutoMLConfig class. "
   ]
  },
  {
   "cell_type": "markdown",
   "metadata": {},
   "source": [
    "**task**  \n",
    "AutoML supports the following base learners for the regression task: Elastic Net, Light GBM, Gradient Boosting, Decision Tree, K-nearest Neighbors, LARS Lasso, Stochastic Gradient Descent, Random Forest, Extremely Randomized Trees, XGBoost, DNN Regressor, Linear Regression. In addition, AutoML also supports two kinds of ensemble methods: voting (weighted average of the output of multiple base learners) and stacking (training a second \"metalearner\" which uses the base algorithms' predictions to predict the target variable). Specific base learners can be included or excluded in the parameters for the AutoMLConfig class (whitelist_models and blacklist_models) and the voting/stacking ensemble options can be specified as well (enable_voting_ensemble and enable_stack_ensemble)"
   ]
  },
  {
   "cell_type": "markdown",
   "metadata": {},
   "source": [
    "**preprocess**  \n",
    "AutoML also has advanced preprocessing methods, eliminating the need for users to perform this manually. Data is automatically scaled and normalized but an additional parameter in the AutoMLConfig class enables the use of more advanced techniques including imputation, generating additional features, transformations, word embeddings, etc. (full list found [here](https://docs.microsoft.com/en-us/azure/machine-learning/service/how-to-create-portal-experiments#preprocess)). Note that algorithm-specific preprocessing will be applied even if preprocess=False. "
   ]
  },
  {
   "cell_type": "markdown",
   "metadata": {},
   "source": [
    "**primary_metric**  \n",
    "The regression metrics available are the following: Spearman Correlation (spearman_correlation), Normalized RMSE (normalized_root_mean_squared_error), Normalized MAE (normalized_mean_absolute_error), and R2 score (r2_score) "
   ]
  },
  {
   "cell_type": "markdown",
   "metadata": {},
   "source": [
    "**Constraints:**  \n",
    "There is a cost_mode parameter to set cost prediction modes (see options [here](https://docs.microsoft.com/en-us/python/api/azureml-train-automl/azureml.train.automl.automlconfig?view=azure-ml-py)). To set constraints on time there are multiple parameters including experiment_exit_score (target score to exit the experiment after acheiving), experiment_timeout_minutes (maximum amount of time for all combined iterations), and iterations (total number of different algorithm and parameter combinations to try)."
   ]
  },
  {
   "cell_type": "code",
   "execution_count": 14,
   "metadata": {},
   "outputs": [],
   "source": [
    "automl_settings = {\n",
    "    \"task\": 'regression', #type of task: classification, regression or forecasting\n",
    "    \"debug_log\": 'automated_ml_errors.log',\n",
    "    \"path\": './automated-ml-regression',\n",
    "    \"iteration_timeout_minutes\" : 15, #How long each iteration can take before moving on\n",
    "    \"iterations\" : 50, #Number of algorithm options to try\n",
    "    \"primary_metric\" : 'spearman_correlation', #Metric to optimize\n",
    "    \"preprocess\" : True, #Whether dataset preprocessing should be applied\n",
    "    \"verbosity\":logging.ERROR}"
   ]
  },
  {
   "cell_type": "code",
   "execution_count": 15,
   "metadata": {},
   "outputs": [],
   "source": [
    "X_train = training_data.drop(\"score\", axis=1).values\n",
    "y_train = training_data['score'].values.flatten()\n",
    "X_validation = validation_data.drop(\"score\", axis=1).values\n",
    "y_validation = validation_data['score'].values.flatten()\n",
    "\n",
    "# local compute\n",
    "automated_ml_config = AutoMLConfig(\n",
    "     X = X_train,\n",
    "     y = y_train,\n",
    "     X_valid = X_validation,\n",
    "     y_valid = y_validation,\n",
    "     **automl_settings)"
   ]
  },
  {
   "cell_type": "markdown",
   "metadata": {},
   "source": [
    "## Run the Experiment\n",
    "\n",
    "Run the experiment locally and inspect the results using a widget"
   ]
  },
  {
   "cell_type": "code",
   "execution_count": 16,
   "metadata": {},
   "outputs": [
    {
     "name": "stdout",
     "output_type": "stream",
     "text": [
      "Running on local machine\n",
      "Parent Run ID: AutoML_5c05b58e-1709-4042-a38c-f4b96cbae855\n",
      "Current status: DatasetFeaturization. Beginning to featurize the dataset.\n",
      "Current status: DatasetEvaluation. Gathering dataset statistics.\n",
      "Current status: FeaturesGeneration. Generating features for the dataset.\n",
      "Current status: DatasetFeaturizationCompleted. Completed featurizing the dataset.\n",
      "Current status: ModelSelection. Beginning model selection.\n",
      "\n",
      "****************************************************************************************************\n",
      "ITERATION: The iteration being evaluated.\n",
      "PIPELINE: A summary description of the pipeline being evaluated.\n",
      "DURATION: Time taken for the current iteration.\n",
      "METRIC: The result of computing score on the fitted pipeline.\n",
      "BEST: The best observed score thus far.\n",
      "****************************************************************************************************\n",
      "\n",
      " ITERATION   PIPELINE                                       DURATION      METRIC      BEST\n",
      "         0   StandardScalerWrapper RandomForest             0:00:14       0.1703    0.1703\n",
      "         1   MinMaxScaler RandomForest                      0:00:55       0.4157    0.4157\n",
      "         2   StandardScalerWrapper ExtremeRandomTrees       0:00:32       0.2771    0.4157\n",
      "         3   StandardScalerWrapper LightGBM                 0:00:09       0.2708    0.4157\n",
      "         4   RobustScaler DecisionTree                      0:00:12       0.2435    0.4157\n",
      "         5   StandardScalerWrapper LassoLars                0:00:07       0.1246    0.4157\n",
      "         6   StandardScalerWrapper LightGBM                 0:00:12       0.6567    0.6567\n",
      "         7   StandardScalerWrapper RandomForest             0:00:10       0.1989    0.6567\n",
      "         8   StandardScalerWrapper LassoLars                0:00:09       0.0836    0.6567\n",
      "         9   MinMaxScaler ExtremeRandomTrees                0:00:12       0.3547    0.6567\n",
      "        10   RobustScaler ExtremeRandomTrees                0:00:33       0.3561    0.6567\n",
      "        11   StandardScalerWrapper ExtremeRandomTrees       0:00:11       0.2956    0.6567\n",
      "        12   StandardScalerWrapper LassoLars                0:00:10          nan    0.6567\n",
      "ERROR: Run AutoML_5c05b58e-1709-4042-a38c-f4b96cbae855_12 failed with exception \"Primary metric spearman_correlation is not available.\".\n",
      "        13   MinMaxScaler ExtremeRandomTrees                0:00:12       0.2495    0.6567\n",
      "        14   RobustScaler RandomForest                      0:00:14       0.3333    0.6567\n",
      "        15   StandardScalerWrapper LassoLars                0:00:06          nan    0.6567\n",
      "ERROR: Run AutoML_5c05b58e-1709-4042-a38c-f4b96cbae855_15 failed with exception \"Primary metric spearman_correlation is not available.\".\n",
      "        16   StandardScalerWrapper ExtremeRandomTrees       0:00:09       0.2098    0.6567\n",
      "        17   StandardScalerWrapper RandomForest             0:00:09       0.2262    0.6567\n",
      "        18   MinMaxScaler SGD                               0:00:08       0.0877    0.6567\n",
      "        19   StandardScalerWrapper RandomForest             0:00:20       0.3533    0.6567\n",
      "        20   StandardScalerWrapper LightGBM                 0:00:27       0.7412    0.7412\n",
      "        21   StandardScalerWrapper LightGBM                 0:00:28       0.6983    0.7412\n",
      "        22   StandardScalerWrapper LightGBM                 0:00:31       0.6864    0.7412\n",
      "        23   StandardScalerWrapper RandomForest             0:03:53       0.4227    0.7412\n",
      "        24   MaxAbsScaler DecisionTree                      0:05:29       0.1967    0.7412\n",
      "        25   MaxAbsScaler LightGBM                          0:01:14       0.3161    0.7412\n",
      "        26   StandardScalerWrapper LightGBM                 0:01:22       0.5771    0.7412\n",
      "        27   StandardScalerWrapper ExtremeRandomTrees       0:00:31       0.1956    0.7412\n",
      "        28                                                  0:15:12          nan    0.7412\n",
      "ERROR: Fit operation exceeded provided timeout, terminating and moving onto the next iteration. Please consider increasing the iteration_timeout_minutes parameter.\n",
      "        29   MaxAbsScaler LightGBM                          0:04:06       0.7195    0.7412\n",
      "        30   SparseNormalizer LightGBM                      0:00:39       0.6011    0.7412\n",
      "        31   MaxAbsScaler LightGBM                          0:00:31       0.7445    0.7445\n",
      "        32   StandardScalerWrapper LightGBM                 0:00:43       0.4265    0.7445\n",
      "        33   MaxAbsScaler LightGBM                          0:00:30       0.7460    0.7460\n",
      "        34   MaxAbsScaler LightGBM                          0:00:27       0.5939    0.7460\n",
      "        35   StandardScalerWrapper LightGBM                 0:00:38       0.7115    0.7460\n",
      "        36   MaxAbsScaler LightGBM                          0:00:35       0.7265    0.7460\n",
      "        37   MaxAbsScaler LightGBM                          0:01:15       0.6830    0.7460\n",
      "        38   StandardScalerWrapper LightGBM                 0:00:35       0.5717    0.7460\n",
      "        39   MaxAbsScaler LightGBM                          0:00:38       0.6779    0.7460\n",
      "        40   TruncatedSVDWrapper LightGBM                   0:00:17       0.6970    0.7460\n",
      "        41   MaxAbsScaler LightGBM                          0:00:32       0.7303    0.7460\n",
      "        42   MaxAbsScaler LightGBM                          0:03:12       0.7011    0.7460\n",
      "        43   StandardScalerWrapper LightGBM                 0:00:35       0.6661    0.7460\n",
      "        44   SparseNormalizer LightGBM                      0:00:31       0.6854    0.7460\n",
      "        45   TruncatedSVDWrapper LightGBM                   0:00:21       0.7386    0.7460\n",
      "        46   MaxAbsScaler LightGBM                          0:00:51       0.7113    0.7460\n",
      "        47   MaxAbsScaler LightGBM                          0:00:37       0.6230    0.7460\n",
      "        48   VotingEnsemble                                 0:01:26       0.8104    0.8104\n",
      "        49   StackEnsemble                                  0:05:20       0.8102    0.8104\n"
     ]
    }
   ],
   "source": [
    "experiment=Experiment(ws, 'automated-ml-regression')\n",
    "local_run = experiment.submit(automated_ml_config, show_output=True)"
   ]
  },
  {
   "cell_type": "markdown",
   "metadata": {},
   "source": [
    "The results of the completed run can be visualized in two ways. First, by using a RunDetails widget as shown in the cell below. Second, my accessing the [Azure portal](https://portal.azure.com), selecting your workspace, clicking on _Experiments_ and then selecting the name and run number of the experiment you want to inspect. Both these methods will show the results and duration for each iteration (algorithm tried), a visualization of the results, and information about the run including the compute target, primary metric, etc."
   ]
  },
  {
   "cell_type": "code",
   "execution_count": 17,
   "metadata": {},
   "outputs": [
    {
     "data": {
      "application/vnd.jupyter.widget-view+json": {
       "model_id": "20258ec1fa27452db1ac708b631d48aa",
       "version_major": 2,
       "version_minor": 0
      },
      "text/plain": [
       "_AutoMLWidget(widget_settings={'childWidgetDisplay': 'popup', 'send_telemetry': True, 'log_level': 'INFO', 'sd…"
      ]
     },
     "metadata": {},
     "output_type": "display_data"
    }
   ],
   "source": [
    "# Inspect the run details using the provided widget\n",
    "RunDetails(local_run).show()"
   ]
  },
  {
   "cell_type": "markdown",
   "metadata": {},
   "source": [
    "## Deploy\n",
    "\n",
    "### Retrieve the Best Model\n",
    "Below we select the best pipeline from our iterations. The get_output method returns the best run and the fitted model for the last invocation. Overloads on get_output allow you to retrieve the best run and fitted model for any logged metric or for a particular iteration."
   ]
  },
  {
   "cell_type": "code",
   "execution_count": 18,
   "metadata": {},
   "outputs": [],
   "source": [
    "best_run, fitted_model = local_run.get_output()"
   ]
  },
  {
   "cell_type": "markdown",
   "metadata": {},
   "source": [
    "### Register the Fitted Model for Deployment\n",
    "If neither metric nor iteration are specified in the register_model call, the iteration with the best primary metric is registered."
   ]
  },
  {
   "cell_type": "code",
   "execution_count": 19,
   "metadata": {},
   "outputs": [
    {
     "name": "stdout",
     "output_type": "stream",
     "text": [
      "Registering model AutoML5c05b58e1best\n",
      "AutoML5c05b58e1best\n"
     ]
    }
   ],
   "source": [
    "description = 'AutoML Model'\n",
    "tags = {'area': \"nlp\", 'type': \"sentencesimilarity automl\"}\n",
    "name = 'automl'\n",
    "model = local_run.register_model(description = description, tags = tags)\n",
    "\n",
    "print(local_run.model_id) "
   ]
  },
  {
   "cell_type": "markdown",
   "metadata": {},
   "source": [
    "### Create Scoring Script"
   ]
  },
  {
   "cell_type": "code",
   "execution_count": 20,
   "metadata": {},
   "outputs": [
    {
     "name": "stdout",
     "output_type": "stream",
     "text": [
      "Overwriting score.py\n"
     ]
    }
   ],
   "source": [
    "%%writefile score.py\n",
    "import pickle\n",
    "import json\n",
    "import numpy\n",
    "import azureml.train.automl\n",
    "from sklearn.externals import joblib\n",
    "from azureml.core.model import Model\n",
    "\n",
    "\n",
    "def init():\n",
    "    global model\n",
    "    model_path = Model.get_model_path(model_name = '<<modelid>>') # this name is model.id of model that we want to deploy\n",
    "    # deserialize the model file back into a sklearn model\n",
    "    model = joblib.load(model_path)\n",
    "\n",
    "def run(rawdata):\n",
    "    try:\n",
    "        data = json.loads(rawdata)['data']\n",
    "        data = numpy.array(data)\n",
    "        result = model.predict(data)\n",
    "    except Exception as e:\n",
    "        result = str(e)\n",
    "        return json.dumps({\"error\": result})\n",
    "    return json.dumps({\"result\":result.tolist()})"
   ]
  },
  {
   "cell_type": "markdown",
   "metadata": {},
   "source": [
    "### Create a YAML File for the Environment\n",
    "\n",
    "To ensure the fit results are consistent with the training results, the SDK dependency versions need to be the same as the environment that trains the model. The following cells create a file, myenv.yml, which specifies the dependencies from the run."
   ]
  },
  {
   "cell_type": "code",
   "execution_count": null,
   "metadata": {},
   "outputs": [],
   "source": [
    "experiment=Experiment(ws, 'automated-ml-regression')\n",
    "ml_run = AutoMLRun(experiment = experiment, run_id = local_run.id)"
   ]
  },
  {
   "cell_type": "code",
   "execution_count": null,
   "metadata": {},
   "outputs": [],
   "source": [
    "dependencies = ml_run.get_run_sdk_dependencies(iteration = 7)"
   ]
  },
  {
   "cell_type": "code",
   "execution_count": null,
   "metadata": {},
   "outputs": [],
   "source": [
    "for p in ['azureml-train-automl', 'azureml-sdk', 'azureml-core']:\n",
    "    print('{}\\t{}'.format(p, dependencies[p]))"
   ]
  },
  {
   "cell_type": "code",
   "execution_count": 21,
   "metadata": {},
   "outputs": [
    {
     "data": {
      "text/plain": [
       "'autoenv.yml'"
      ]
     },
     "execution_count": 21,
     "metadata": {},
     "output_type": "execute_result"
    }
   ],
   "source": [
    "from azureml.core.conda_dependencies import CondaDependencies\n",
    "\n",
    "myenv = CondaDependencies.create(conda_packages=['numpy','scikit-learn','py-xgboost<=0.80'],\n",
    "                                 pip_packages=['azureml-sdk[automl]'], python_version = '3.6.8')\n",
    "\n",
    "conda_env_file_name = 'autoenv.yml'\n",
    "myenv.save_to_file('.', conda_env_file_name)"
   ]
  },
  {
   "cell_type": "code",
   "execution_count": 22,
   "metadata": {},
   "outputs": [],
   "source": [
    "# Substitute the actual model id in the script file.\n",
    "\n",
    "script_file_name = 'score.py'\n",
    "\n",
    "with open(script_file_name, 'r') as cefr:\n",
    "    content = cefr.read()\n",
    "\n",
    "with open(script_file_name, 'w') as cefw:\n",
    "    cefw.write(content.replace('<<modelid>>', local_run.model_id))"
   ]
  },
  {
   "cell_type": "markdown",
   "metadata": {},
   "source": [
    "### Create a Container Image"
   ]
  },
  {
   "cell_type": "code",
   "execution_count": 23,
   "metadata": {},
   "outputs": [
    {
     "name": "stdout",
     "output_type": "stream",
     "text": [
      "Creating image\n",
      "Running.\n",
      "NotStarted..............................................\n",
      "Succeeded\n",
      "Image creation operation finished for image automl-image:9, operation \"Succeeded\"\n"
     ]
    }
   ],
   "source": [
    "from azureml.core.image import ContainerImage\n",
    "\n",
    "image_config = ContainerImage.image_configuration(execution_script = \"score.py\",\n",
    "                                                  runtime = \"python\",\n",
    "                                                  conda_file = \"autoenv.yml\",\n",
    "                                                  description = \"Image with automl model\",\n",
    "                                                  tags = {'area': \"nlp\", 'type': \"sentencesimilarity automl\"})\n",
    "\n",
    "image = ContainerImage.create(name = \"automl-image\",\n",
    "                              # this is the model object\n",
    "                              models = [model],\n",
    "                              image_config = image_config,\n",
    "                              workspace = ws)\n",
    "\n",
    "image.wait_for_creation(show_output = True)\n"
   ]
  },
  {
   "cell_type": "code",
   "execution_count": null,
   "metadata": {},
   "outputs": [],
   "source": [
    "print(image.image_build_log_uri) "
   ]
  },
  {
   "cell_type": "markdown",
   "metadata": {},
   "source": [
    "### Deploy the Image as a Web Service on Azure Container Instance"
   ]
  },
  {
   "cell_type": "code",
   "execution_count": 24,
   "metadata": {},
   "outputs": [],
   "source": [
    "#Set the web service configuration (using default here)\n",
    "aci_config = AciWebservice.deploy_configuration(cpu_cores = 1, \n",
    "                                               memory_gb = 1)"
   ]
  },
  {
   "cell_type": "code",
   "execution_count": 25,
   "metadata": {},
   "outputs": [
    {
     "name": "stdout",
     "output_type": "stream",
     "text": [
      "Creating service\n",
      "Running.........................\n",
      "SucceededACI service creation operation finished, operation \"Succeeded\"\n",
      "Healthy\n"
     ]
    }
   ],
   "source": [
    "# deploy image as web service\n",
    "aci_service_name ='aci-service'\n",
    "aci_service = Webservice.deploy_from_image(workspace = ws, \n",
    "                                           name = aci_service_name,\n",
    "                                           image = image,\n",
    "                                           deployment_config = aci_config)\n",
    "\n",
    "aci_service.wait_for_deployment(show_output = True)\n",
    "print(aci_service.state)"
   ]
  },
  {
   "cell_type": "markdown",
   "metadata": {},
   "source": [
    "## Test"
   ]
  },
  {
   "cell_type": "code",
   "execution_count": 26,
   "metadata": {},
   "outputs": [
    {
     "name": "stdout",
     "output_type": "stream",
     "text": [
      "<class 'numpy.ndarray'>\n",
      "21256649\n"
     ]
    }
   ],
   "source": [
    "# load multiple sentences\n",
    "import pandas as pd\n",
    "import json \n",
    "\n",
    "sentences = []\n",
    "data = pd.read_csv(\"testing_set.csv\")\n",
    "train_y = data['score'].values.flatten()\n",
    "train_x = data.drop(\"score\", axis=1).values\n",
    "\n",
    "print(type(train_x))\n",
    "\n",
    "train_x = train_x.tolist()\n",
    "data = {'data': train_x}\n",
    "data = json.dumps(data)\n",
    "print(len(data))\n",
    "\n",
    "#print(data)"
   ]
  },
  {
   "cell_type": "code",
   "execution_count": 27,
   "metadata": {},
   "outputs": [
    {
     "name": "stdout",
     "output_type": "stream",
     "text": [
      "nb sentences encoded : 27018\n"
     ]
    },
    {
     "name": "stdout",
     "output_type": "stream",
     "text": [
      "{\"result\": [2.4007649356586533, 3.7203041050076435, 3.01905608701006, 3.902856364455924, 1.1550228301889944, 1.3840207272790979, 3.178933834598589, 2.0223381553819926, 2.622230818796456, 1.7338832115242881, 1.7338832115242881, 4.323554015554397, 1.425456035672047, 3.484031993820433, 2.6054303529758225, 1.7605201466322773, 4.306348418450282, 3.348479712581535, 3.385623520970331, 1.6276171412284968, 2.1343994392871606, 1.6012629512613972, 3.869952502388212, 3.686662790001718, 1.6451070211205048, 3.1421279572615366, 1.111655437831912, 3.0180103017472146, 1.9712967228763916, 3.4114704338436295, 3.6518193090231668, 3.562469227771801, 2.124821531366967, 3.834628005697218, 2.945914751898513, -0.2392489880655022, 1.2437658111011634, 3.0753114019001915, 3.336621543167602, 0.7072309427745641, 2.7822500083684014, 2.897998498396679, 3.507070164144911, 0.8324353540675962, 2.3439851393673887, 1.196795770111204, 1.2525496534114489, 0.823759560298268, 2.9920972505050303, 1.9236245820356928, 1.5376412762417093, 1.9239034683592888, 0.680217556271701, 0.8143318319044779, 1.6569386883279007, 0.4259460646219386, 3.3319423567551247, 0.9045598298338577, 3.211903077820651, 1.7243704134512794, 3.514874356499507, 0.9110995408450886, 3.3741522237839656, 1.2281258642856878, 3.465292338670356, 0.32058502612519185, 0.8850275497988621, 3.065256206079797, 0.4053934125165189, 3.5740675568691405, 3.281222953364415, 3.5140749236641007, 1.071282888904832, 3.0968370948355677, 2.845044903199787, 1.1761123158943305, 1.0931252885255132, -0.2190979331369351, 3.0278360651324765, 3.3771503236637863, 0.3595765778211298, 1.4457001019091615, 3.0655501960586586, 1.6492383358940006, 0.700043224420747, 2.034128871545479, 2.9722384301971485, 3.5590364352072705, 3.012090526492372, 1.432290360589044, 2.0708695062946347, 3.6032182783315987, 1.4070917999765014, 2.9198148106213044, 1.602526171561382, 3.0423404255325828, 4.134046333382066, 3.1833924704358454, 2.6972409320246538, 2.9434198535949747, -0.05719679744147322, 1.2503400387171553, 3.2788294771940167, 2.241817370332072, 2.8001416992606636, 2.5398034571458528, 0.3029301262149539, 2.178643890606605, 2.0575427816124714, 2.6827134271921307, 3.43005114934858, 3.047697949118931, 3.472035416873391, 3.703490992658692, 0.225430822332008, 0.043626339595712264, 3.0879265634103734, 2.664410529751562, 0.7146709184194655, 1.3892539947195832, 1.930121000571028, 1.5100478053809738, 1.7024385761581813, 0.9894313783101468, 0.6221041392720973, 3.5563839037874154, 1.3334827047760667, 2.550764256588327, 2.5132284082157508, 3.0888773695858593, 3.0042233009733916, 3.144856207572728, 3.363023145527185, 4.013332011077687, 2.4978689717062226, 4.7154419897349715, 4.091931365848677, 2.5915953148524076, 1.9035472956314814, 3.833530140479712, 3.996015336852124, 3.4759896565796544, 2.529646569551917, 4.01565651738302, 2.40554205513067, 1.6604893811174333, 2.3036266116855906, 3.291920898341884, 1.8514038884508663, 0.7320211729888076, 2.3516518607367636, 1.714361267002725, 3.3393321350157557, 3.404014965739996, 3.3363768800838876, 3.1177630731489376, 0.7495448149489056, 1.44139528899232, 3.8746406822493165, 0.9831310767486685, 3.7189856624445485, 3.128158819716561, 1.4778378372937289, 3.251769986232879, 3.1260653092856465, 3.8012358220902875, 2.972991227310789, 2.7869173126273847, 3.620144049554889, 2.7610451957087454, 2.0077517983652537, 1.62559678706209, 3.3835946499295915, 3.342784987133866, 2.778189118048538, 3.1837254309785257, 3.070986244981476, 3.466654863132514, 0.1706408313049759, 0.382837393103195, 0.6416225628881164, 1.9705785347947344, 2.4767273642199097, 0.9397530596698768, 1.8664705351321715, 0.3653088047711237, 0.060504487338421606, 0.6283130609242394, 0.7083774945975357, 0.8152272276658127, 3.4867539254639994, 3.757142718332686, 1.425830358140289, 3.138372825095919, 3.109286797434089, 3.5647830017865174, 2.4814118018830107, 1.1912843278368994, -0.211299440780044, 3.0640266338622344, 0.9568925868946916, 1.4447557293942643, 1.1420885489452837, 0.8900281057215034, 0.8318306978489256, 1.6307705462289308, 3.4983493687922675, 0.6783178581004078, 2.4580089109110053, 2.329802776356859, 2.2295937954146856, 1.6013504699842562, 0.9129166329934331, 1.7457743241980899, 3.1655465968364505, 1.355118817170123, 2.5743628644444585, 2.7571419830768256, 3.4745078193915346, 2.5051203913814897, 0.8307662328614271, 0.720744510775827, 1.8276461846463783, 3.01690229431437, -0.25050333797693924, 1.2815725435665288, 1.8872697372451213, 2.610577907494665, 1.3883996116181896, 1.2228511391747832, 0.35257187262163364, 0.8965247082238874, 2.2941033262696093, 3.466202232227163, 3.1068231722279633, 3.045204921878465, 0.45158281481116574, 0.933151563866055, 2.243300376185762, 0.07105386847779536, 2.4037748914249484, -0.08515316836355831, 0.913547797393113, 0.0010811001570994374, 2.6841702656376856, 0.6660893597738771, 2.4119960757687875, 2.0595140086068637, 0.43530312378093233, 1.0416628278285354, 2.8734853544394308, 3.7976065265996, 3.6161862057111867, 2.7500292221185023, 1.1883248613421873, 3.345537123161656, 0.9461683170219358, 2.645964435953183, 3.0503539161431528, 0.02160243930148138, 4.207381581116232, 3.1888530831664124, 3.5807382073022747, 2.9365557843933274, 1.8450879607864796, 1.9307271926057505, 2.5485730185570334, 2.555793825137589, 1.7867196131587055, 4.206651146773874, 3.466417205623947, 1.1866513656691242, 3.4247481250143985, 3.2486935215344124, 3.751927409699416, 4.073381170104493, 1.4681226441012432, 0.7175379704412098, 3.2199806504598225, 2.8939563419398264, 1.7042682827949156, 1.8045430872239652, 3.063693264683336, 3.3147825728537157, 3.377488576856278, 2.631703354832816, 1.9792029734778631, 3.5481532566384923, 3.3685051150052976, 1.7323567312852364, 3.7209295890706864, 1.7547467154102796, 2.763679923184088, 3.617752810172748, 0.17499532980648613, 0.7242352481260469, 2.1087864702964487, 3.407714961810979, 3.4456155889786166, 2.9553953025572057, 3.770130702080153, 2.2909553383442476, 1.9822024869846375, 3.7059386406902366, 2.954842082898494, 3.7044464337001783, 3.5903349466486034, 2.135460796431692, 3.807138304298016, 2.969702904218857, 1.62352803589241, 0.6537953084301349, 0.9787363044080096, 3.5468258351266404, 3.347184776089763, 3.1943672324179957, 2.3960911552047324, 3.2700265623256337, 0.8962644507418412, 1.9281645098119242, 3.4269055678798415, 2.4575140645674036, 3.443161137798304, 2.607613774906206, 3.402960449177406, 0.12448582120560814, 3.1136945522439143, 3.068403804825057, 3.6577983809139285, 2.6776231883508554, 3.952742078214713, 3.647291086545242, 3.4383021672325236, 3.262818182001557, 2.640391532766498, 3.231945060912891, 3.2000507949684445, 2.7703545014052726, 0.8331445128667355, 1.7949420809913157, 3.5300512892143874, 3.993110424063823, 4.176896626114492, 2.425195004734868, 2.0264410800699153, 0.7531986543600562, 3.1973635935527467, 1.714744851755237, 2.8469963787728485, 1.0622498557913416, 3.528951499711494, 4.245668920107155, 0.8090282336075807, 3.771529999518523, 3.0706324398965092, 0.16155029210451213, 2.577498432153764, 3.373535217339784, 0.19928354084516253, 3.7671545285397663, 3.5453055378572453, 3.1227485639965544, 3.014042056501635, 2.6843448435920125, 3.2186726678477813, 1.5168294086042708, 1.99028904358292, 2.771840928110641, 4.096401701677807, 3.8210128471610325, 3.421090305572525, 4.0799640437889035, 1.1979911049453364, 1.2180758168031065, 1.436703461325978, 3.347879993586396, 2.4025182611477955, 1.23037296675016, 2.3636640084955087, 2.423460147035201, 4.146036541875713, 3.3982643737285914, 2.7542003931208012, 0.6110590294045548, 2.6854984402422546, 2.603755669960302, 3.4137779066710423, 1.5121894241671099, 2.0913552771801807, 2.827220540899616, 3.413622807541957, 1.7612197811243804, 0.1504072586714507, 1.233232024294982, 2.7551491240830006, -0.31992309227563764, 0.6646156517721699, 4.073629622709906, 3.406296727242307, 1.8605601331168824, 2.650801211522822, 0.2601210474295682, 2.046291019644924, 2.858555525628637, 2.1026937875881813, 3.7518529595192875, 0.9583201625870615, 3.097799931549756, 2.9054741688676518, 2.6441238359580828, 3.1845230257713366, 3.536449681631408, 2.4545165695728723, 3.5547517385032616, 0.7444258549051933, 1.6271314830233479, 0.6302729386007294, 4.320773767831801, 3.816297374117777, 3.6349317889361736, 4.021965486546852, 1.6704224158152112, 4.039212643255107, 1.0856242613212121, 2.3304699493289474, 3.1305519515355753, 0.6965602809808259, 4.262738327208635, 3.0437801839029115, 3.950757460330295, 1.412302179775267, 3.889742568787724, 0.6786148984300411, 2.4838593710267007, 0.654101747099627, 2.583098003689608, 2.818493227722639, 4.130215985078361, 3.913518738390418, 3.024256401117099, 2.7852458525669013, 3.2480414589000404, 0.9728466260265598, 3.565262733522141, 3.929838803757427, 0.5028391606654596, 2.090004509911121, 3.2834303755658376, 1.1340542891269836, 2.4449012431913295, 3.298761407923188, 4.083922765892926, 1.3926948034239552, 0.5263184160167794, 4.657861306433003, 2.7029299012372405, 2.823283939915331, 3.7342853500543036, 2.868196168939005, 2.323410689386915, 1.2789545967901779, 0.6148851219515439, 0.2857623751057112, 1.5526051243016619, 3.2968079891109827, 3.199813840882855, 2.822673463498511, 3.996560000579014, 3.4368410475520106, 0.5387465130421016, 3.2144963961864224, 3.6250401496359803, 2.530109542295146, 3.661496824951344, 2.57004764881931, 2.497163411244967, 0.8552174607208394, 2.314861786651138, 3.226208716885824, 1.0888971502178093, 4.097519935679198, 2.3137168269095985, 3.713266883115758, 1.3470152602283132, 4.1477415215905244, 1.3787303069833947, 2.783921973162389, 3.286047654465115, 3.5450918950284414, 3.243038342934074, 3.881319435145448, 2.6332230527484732, 3.031088047412508, 3.9590878175779527, 2.850714014447557, 2.479376685176867, 1.03707003686562, 3.7906223073421463, 1.5182353258292025, 4.863782566406362, 1.7684636605450037, 1.4112498008710455, 1.604204256009843, 2.984325632476774, 1.5414034680086948, 3.416017860268618, 2.1742178178426292, 1.1989604522466768, 2.9953078584927018, 1.4583392392992678, 1.0003298189181882, 1.8377120914761766, 3.66991625941158, 0.5400579209192116, 1.4459360036311313, 1.5948839264030654, 2.099930795696326, 1.6918701183528013, 2.560092812607309, 3.330682890115802, 1.959174916040434, 2.5004523207697535, 3.5791231927634946, 2.308375936108195, 3.8904198923046454, 1.7763068151583101, 2.952609890681845, 2.110326965971543, 3.779523700581668, 1.1960219365830944, 1.2077961255982665, 1.5398203290497199, 2.2043086926716287, 1.073135130300595, 1.8934420832937688, 1.0238102796505002, 3.503565303995557, 1.62492764414433, 2.0770609423805184, 1.9948054754566058, 4.025946118131413, 1.7624947399018527, 1.8152564359098275, 3.1696252811668426, 3.3969423429389356, 3.7753738723103742, 1.0947613928149178, 2.3398224157435425, 2.4990117665020692, 2.9781136890034476, 3.261538318444305, 1.0127385513707918, 2.5812838461411927, 2.758573469573072, 1.9257398023555914, 2.5742937344184718, 2.5895961688817084, 2.1511742248346053, 3.0548549895363926, 2.7207298522885575, 3.636010882568026, 2.3040651892989605, 1.94086883457108, 1.8127623139073386, 2.181532308900643, 2.8408944189255823, 3.8542324557227245, 2.677435921373939, 0.5007048519536742, 2.1445654577402773, 2.6892382671318527, 2.3721654806086128, 1.41310139591782, 3.4727111191925824, 3.592725949620006, 3.588137663341875, 3.095131086693382, 3.1630869677026543, 2.5169578600178846, 2.2924490804605724, 1.8366148648830272, 2.736553140462617, 3.201378347367616, 1.702570641619703, 1.9068809741423467, 3.400209658236268, 1.974274726099257, 3.631584887655271, 1.6172447530514695, 2.351199840928339, 2.2752482582598224, 1.9430059394059969, 3.5921915414575754, 1.6873260069203793, 1.1071239195601534, 3.328030585208255, 2.429212093439262, 1.1198444299984158, 3.508556830928189, 4.032919585985083, 3.166842173167614, 0.7050881376855174, 1.9540927777939345, 1.3216569012987762, 1.5461667060622044, 3.156026957552728, 2.628858327598987, 1.556984437966439, 2.845001237048929, 2.4997845380124404, 3.708049943488315, 2.232049412888785, 2.3311256211051794, 1.5642007429618343, 2.0899784046815006, 1.8032159432803923, 3.1255853932777597, 0.8413036189722212, 2.8763190809588193, 3.6876558677865705, 2.189062786778165, 2.829582497494671, 0.9756493553838288, 4.304298240436837, 1.7457715148646749, 3.342280290528494, 2.7137922341551763, 2.227923035829614, 1.6982824583921725, 2.558979259456806, 3.059370988741424, 3.5936397722099502, 2.7505829477837045, 2.5060400718855447, 2.0528613827397857, 2.007372232890293, 2.6863008434490596, 2.506805340379085, 2.869577318812625, 3.1679419307060206, 2.2968588226889537, 3.547150110761137, 2.8380284825525006, 2.619904186797817, 2.7461132281211498, 3.4079562235344127, 2.877709866466577, 2.8401351158091708, 3.0733962196639877, 3.6218696214465953, 1.4887307265388356, 3.58660500134064, 2.9572020036640843, 2.6341039499767267, 2.2782857206253384, 3.1322145945772, 3.131648316252123, 2.107115324202573, 2.798597730251243, 2.7658248649373856, 3.1166003469277728, 3.1268471085741636, 1.964078945543616, 1.6708352840862384, 3.9506874070454296, 2.5456095060280464, 2.194620419111837, 2.508968889597246, 3.0579378571010394, 2.130147038193876, 1.9952200321764486, 2.8316935605523392, 1.2367999525997722, 3.6771943633424664, 3.2101344985939613, 1.2090441597142658, 2.0545455123522007, 2.2053158410639373, 1.5200620991258607, 1.4601831066814448, 2.9441695479837615, 2.1752116615864483, 3.2374649315244572, 1.7925449316172752, 2.507735656543983, 1.7247329475830961, 2.426189713708539, 1.4752241072219026, 3.20777469787363, 3.10724013604713, 2.4839521438542658, 0.8728502275804966, 3.711190782678877, 3.0284155539598006, 3.2898362998350716, 2.1355209578637524, 2.453902453341244, 1.854354554245718, 2.0148192329704115, 3.5461202162333185, 3.141836818120166, 4.101723038133673, 2.4329927223335077, 3.6368390219625657, 1.733466125475294, 1.6602608909185481, 2.22707951526562, 1.3244461639255156, 2.88256590405389, 3.163494826663484, 3.3791828090488076, 1.7016271797206928, 2.0137802764720756, 2.820670637894466, 2.389788962231025, 1.505257318475078, 2.3626819769201415, 3.1133470578930664, 2.9076674172126773, 2.7130002186952145, 3.3131934566484627, 2.9872284567906657, 2.711230302466336, 2.2027114398511722, 2.6005573530380857, 2.3761147643903757, 3.059756622914858, 3.423177334934199, 2.555409608717624, 3.114645027419842, 2.489437240647881, 2.7850122425465593, 2.046035381086139, 1.8502818708375561, 2.822046366929282, 2.091956116877832, 2.7243767064607396, 3.0198886758826142, 2.2846621415815735, 2.9925468404824622, 2.5040400407220096, 3.2011328545298974, 2.899057745967722, 2.88347143561458, 2.477843029869807, 2.8087378040008515, 2.6455674844717127, 2.3163831725788313, 2.7629868636108443, 2.1742888892881456, 1.675904992182427, 2.4991527620658127, 1.9694541866830546, 2.067169288463332, 2.2321600228506497, 3.2674350153606895, 2.7653115505827754, 3.137156896609537, 2.5386968252405784, 2.4351194277298376, 3.3730478236603463, 2.119980705824364, 0.9616803129944496, 2.423854203694371, 3.0384514018665985, 2.8119229208783425, 2.9050246184001725, 1.9766031683918777, 2.889477347000595, 2.8789492484396058, 2.844152611528514, 2.2676204871100865, 2.4136481150968128, 3.5400521729317873, 3.2941520559244726, 2.630960525297087, 2.73492119026562, 2.1926812748788294, 2.740937399972681, 1.8614950423611356, 2.593176926387489, 2.85000216779835, 3.8809945185395, 3.909857264971338, 2.469823835415648, 1.7302720279029715, 2.1666582110707724, 2.5908463344069537, 3.3736328448572377, 2.239697597323414, 2.244741685388107, 2.1041302615978954, 2.2806820770645606, 1.9285337770348905, 1.676603504648464, 2.586535329497653, 2.324007983498282, 2.9027989099533174, 1.2852376480182786, 2.062621602297574, 2.568913058356344, 2.1733302440463302, 1.763354019719918, 1.4292968491672942, 2.5070526672286024, 3.234117561165093, 3.6191728964909298, 3.434963522851285, 3.4471321769303147, 2.2071106858189777, 2.6257480444101335, 2.5873937516722423, 2.540284755928624, 2.490298362612369, 2.4783555437440454, 2.139422690872629, 2.2284906474734707, 2.660037964168879, 3.803744795968945, 1.9569439019540176, 1.9854245005140652, 2.3888392029217242, 2.5591552899889614, 2.953703568924823, 2.0852016002112066, 2.5120289596833105, 3.091705475317183, 1.8516296581776697, 2.551319078836151, 3.6612886614092006, 2.0512107121829977, 2.0513810933859973, 2.49492757046954, 3.238911779445031, 2.7158631562534628, 2.1552656474450806, 3.676226361567823, 1.3843819128455084, 1.9523879048737625, 2.9645329352282377, 3.357052170204582, 2.38796249311755, 3.395932757348177, 3.1691574284828214, 3.3962278399115107, 3.24409842669985, 3.084678113977659, 3.0979939523331765, 2.944913980668609, 2.950675869664319, 3.1186375828548507, 1.8735532615855475, 2.788452644337485, 3.2965700362708166, 3.2476246105920774, 2.016500793641796, 1.4775744638012087, 2.455294653905821, 3.1012216346784824, 2.7039056917080524, 3.0225901376550763, 3.73051662712301, 3.561781207394679, 1.3372006152725102, 1.9669603420963115, 1.6382466828433202, 1.8051270397607486, 1.9902983362699878, 1.295709814038781, 3.0541525599340336, 2.4120597983142638, 2.917200213117251, 2.295869511847802, 2.915612746298734, 2.036172001889443, 3.968347889909805, 2.319743870170633, 3.5303672681271494, 4.041713910191172, 2.323276105865658, 3.2026264274786445, 2.7452772263380907, 3.153410322692673, 3.4805220553619587, 1.9615463116693832, 3.928706486198638, 2.7042271198622747, 3.643225138480707, 3.2675392481455128, 2.56596489458562, 3.5498042797541043, 2.992139036312882, 2.4496832035067135, 2.4941386286767653, 3.2537238041078065, 3.2098441301263776, 3.071732022837564, 3.613405870873094, 3.0571169262105187, 3.5034655580449625, 3.864997636939696, 3.8923866651833556, 2.5443538226393705, 3.9644087864479416, 4.3742334909931655, 3.2626279780279344, 2.4832071592967426, 2.6810079278106476, 3.0657080692755536, 3.185633346500324, 3.2179949166006674, 2.83102762384967, 3.006989775851423, 3.270420949088386, 3.4415568771256764, 2.9762682597850882, 3.058296575491441, 3.714968305401228, 3.5189049998383695, 2.9630203678276215, 2.6915069855819813, 3.915976218166813, 4.025270887934071, 4.061352212082405, 3.9328608208624245, 3.022448871576655, 2.40077672413356, 2.4322528876532474, 3.506271082617848, 3.5784556420288904, 2.48930586320751, 3.3229979738977242, 3.491603286407794, 1.8874204231159117, 2.849572663825799, 2.1829460481559635, 2.6769747617114317, 3.517350445439615, 2.9147329348132036, 2.989421460394383, 3.6817362941500678, 3.8333193660029026, 3.1694420326903945, 3.1894911024923944, 2.2845336231301836, 3.549367105938334, 3.678898232991184, 2.6454487192773812, 2.281455385264731, 2.8839677846679663, 2.837990615102943, 3.259142296492863, 3.107086356989458, 2.51649737578461, 3.5780840532158367, 2.4337906650849135, 2.961484560644563, 2.387360437409033, 3.5970532153736197, 2.6035127208714868, 3.4022561358815513, 2.7411298547814833, 3.4680806329054787, 3.0173208397895683, 2.230372060650678, 3.194706703121717, 3.6521004250325655, 2.5948319460785485, 3.3124170272140043, 2.9043328833901496, 2.715247970003449, 3.8614548713669365, 3.7184080370220913, 3.217045946968865, 3.5754074785612766, 2.981847561872253, 3.7945639438917533, 4.166949953023856, 3.7415112307491993, 2.7156515482510564, 3.522642678631886, 4.039979299015728, 2.5596421353993533, 2.491434958002671, 2.7286534090548136, 3.5607026110454556, 3.124543976734519, 3.7439454443743507, 2.2444113025301307, 3.31593649916145, 3.6421614510223934, 2.80184715721985, 2.8152294772434083, 2.7189682284990693, 1.9712638327633405, 2.2225357246300934, 2.4764235274714905, 3.757696482835125, 1.631341267532276, 2.8086425136838487, 3.1708671559816115, 2.6598111186275233, 3.3036248251710587, 3.3856884289496803, 2.7417197284606054, 2.6201310852841924, 3.706651060591473, 3.481852755800717, 3.440320271552699, 3.3263662299393912, 3.519141542885544, 3.6715816246656874, 3.6561722282005378, 2.900139080063901, 3.920545710124385, 2.9010944307942377, 3.7418992069045216, 3.6071454851401668, 3.9007254288359463, 3.269838809357927, 3.416252095647819, 3.1498544378698474, 3.5443570326277007, 2.7042181447208185, 3.2330074449447856, 3.3921173402155538, 3.4697086474481518, 2.632894143723635, 3.3117417419920647, 2.152796430328292, 2.784557712994731, 3.729239087025558, 3.7039597278432046, 3.088913459003473, 3.8998808599935435, 2.5520075615859854, 3.4921049087665565, 3.7909321587975393, 3.7925086914518973, 4.114226111933249, 3.8835507667800093, 3.1066634389208074, 3.63132138965877, 3.584869087427812, 3.6376363302140136, 2.7310233652756737, 1.812675089707175, 2.5590693851535717, 3.574132710384399, 3.3152510020368697, 3.7480643197771655, 3.6306142221636972, 4.070325586658873, 2.197284716179904, 3.2759028954110057, 3.622139154195582, 3.6377816514663843, 4.255945002756924, 3.68300081197788, 2.5376882929345066, 2.839389575003969, 3.3472722189690858, 2.7199727784504146, 2.1030216705599507, 3.370292140583007, 2.534134794807473, 4.002564487009867, 2.067986536681024, 3.1414731195799694, 3.470109912459018, 3.708052307762132, 3.151333601970356, 2.418976163687315, 1.5262332310045914, 2.5739240694172665, 2.8538279132275686, 3.3329645305631446, 4.091109259808409, 3.918619742233721, 2.815194544052006, 2.353515917087883, 3.3901850289052113, 3.4421072874854644, 2.363093205627888, 3.224592657854113, 3.7867706571060995, 3.2383798293646895, 2.5572444273433264, 2.046564606675505, 3.714942860007509, 3.7642321086462673, 4.340547476353654, 3.8987540261427123, 2.9798952620802863, 2.88616439114652, 3.2504492534204577, 2.986593726731848, 2.9899548801174576, 2.813098001075675, 1.8286751718300847, 2.8123307238250748, 3.222209944862631, 3.4597944907334974, 3.7907370319135745, 2.518916568181, 3.334813091465324, 3.617222304642308, 2.583895605422133, 3.30287686719256, 3.7575435441737826, 2.002515992067927, 2.567724088146479, 3.465644343529918, 3.5248877031053567, 3.97915230585789, 4.201747165540247, 3.235671379347487, 2.9748735808497213, 2.920438658557805, 2.8858398983929248, 2.2869379508825936, 1.4556482455235786, 3.8944220790841393, 2.948126700029103, 3.325631163599958, 3.3542076849026095, 3.679748815703511, 3.9951804164614355, 3.555864818181974, 3.0304880634330167, 1.9203384395118877, 2.06125851549044, 3.4882751852624043, 1.302545255732906, 1.8823212502123445, 3.293184795322817, 2.2915763130461646, 3.0153008098454617, 1.309190441039, 3.783466877872818, 2.5695571103501, 2.073721108822683, 2.116053124434779, 3.2251765126128724, 3.1171300726060043, 2.4403975190682776, 2.21139585032154, 2.85344569019514, 2.838834090000973, 3.3216411862083866, 2.418433740675964, 0.5842643928044109, 3.758925722611947, 2.9622500916988344, 4.366839792208037, 3.526978928300739, 2.8720433548905313, 1.7395332195844833, 3.0349753878570236, 1.6973289259321238, 2.9788230588508395, 3.4828497210998437, 1.7941506512349572, 2.8216032195046106, 3.0650214748449516, 0.9271829288501763, 2.540642883686294, 1.882018454025525, 2.3578944365867938, 1.8725060802170725, 2.468926398649008, 4.2456384979915756, 3.0737515512934093, 2.8981538989888054, 2.155094084567309, 0.7381764589940008, 3.4891839578315262, 2.6544098341609415, 3.0491550082889707, 1.3307568364332314, 2.0020094121839698, 2.417875824564256, 3.351076177367197, 2.7600565986554373, 1.4576973854400834, 3.4937065134447023, 3.4075247378155282, 3.167528732529367, 2.875933713792609, 3.2510334543287747, 2.2302785740657094, 3.820771508325611, 2.3310925130576834, 3.0440211506601424, 1.531677081003587, 2.8324096403411287, 3.94491271348647, 3.5487696817749788, 3.3046400074277873, 3.2331021255154657, 2.0459871446074276, 2.054793114012052, 2.5539570228655726, 3.11362435498946, 3.338476101128342, 3.013147800773455, 3.7718908322183795, 3.187412490777917, 2.9912362873468292, 2.594841068902907, 3.009954460073072, 3.9306272150503943, 3.842726463442695, 3.1600353683724713, 3.862533428432032, 3.1752073712122266, 2.1055200792533233, 2.290986798209671, 1.6561998519963164, 2.051581159789608, 2.0579811739193032, 2.5740558071651205, 3.5807291794415104, 2.2007137129304204, 3.0727838766505013, 1.4944885012842102, 3.150749661894655, 3.387202705738997, 3.951069845294468, 3.0731707589595896, 3.5830931000509816, 3.663824690305388, 3.6015642994370713, 3.9574621324709267, 3.1856567419930193, 2.9879406818956498, 2.5524536969954035, 2.239341893005705, 3.084176617426294, 3.1819619107192727, 1.937136649872337, 2.2788553138980236, 3.587746400109457, 2.9725323636335315, 1.9631741431643428, 4.605332358109236, 3.823700609110611, 2.2347561057660696, 0.8396625055692859, 3.396104247404846, 3.475560991080612, 3.9545496780399243, 1.846141179967212, 2.80678588779163, 0.7488139837733249, 4.2567884956927555, 3.1837653852771393, 3.962123383905963, 2.5947344338484206, 3.4426881464236656, 2.081724754151715, 1.9912106273442574, 2.9709320384178457, 1.8037442758687694, 2.8813980632514538, 3.3755108556433386, 3.7405653405973913, 2.6191846156338463, 1.6720714970120745, 2.335831864189882, 2.9988997506562844, 1.7877199724383026, 2.6536321443084936, 3.695990832996317, 2.907805675813865, 2.4331897249780576, 1.1228995521304208, 3.6552455784967037, 1.4720646185160096, 3.8414397919385146, -0.0024038636618798, 0.4891400444319629, 2.994557163201774, 2.83443220365923, 1.9004078494421095, 3.1909590403621824, 3.3218691169647006, 1.0287792222505625, 1.4065322204716273, 2.5246112282529576, 3.484904963259684, 0.7348979581660239, 2.699549172978241, 2.8735800276621166, 2.6796477115723674, 1.9647321674035938, 4.132617683554722, 1.1567336674343123, 1.0067948849874369, 2.0609990307401067, 2.7966758810509758, 2.9429116568674614, 3.029512216087856, 2.1607349662266127, 2.3073796871805743, 2.459907431878223, 2.0093044149296393, 1.3507236626420844, 1.9919483732507655, 2.719386677643159, 2.64544066372447, 3.642895024003619, 2.0458309277991944, 2.5812584053163423, 2.081622937815319, 4.038987189166854, 3.2283460434176203, 3.1299333112198617, 2.44330677839802, 0.8651243782261259, 4.266610422354583, 2.2886985124107193, 2.8774511534450555, 2.4249759408786775, 4.042692437612484, 4.177254951082251, 3.063129337017748, 2.9752100190877817, 1.9678322508873571, 2.9098875505857267, 3.492035142037713, 2.563735154259473, 2.018926768613127, 3.687986025252337, 2.885724344353045, 4.2534628167350865, 3.380156567086184, 3.4186966546348594, 1.6840294615770652, 2.8592741025588664, 3.143120940191124, 3.5037172078344825, 2.5607331638979374, 1.8300423396130263, 2.320562409401714, 3.1163754112083355, 3.7107336258970913, 3.6631871831580503, 3.8039790267751714, 2.5498822163043986, 3.499174920111733, 4.582165428796414, 3.6461050722084756, 3.791987404709681, 2.4527741447393208, 2.246446979352826, 2.7304762272559047, 3.730930529248425, 2.8316325249900167, 2.634246929739397, 1.1853713655264004, 3.5431372942489583, 1.472237875135905, 2.1601648770079467, 2.589000106851014, 2.5875364233197145, 1.977727221188185, 3.385190650696605, 0.7890993817638915, 2.9336873381748627, 1.3216326198792667, 1.356744263747531, 3.0909000167547713, 2.3693370546284456, 1.4961197095665637, 2.096660756641706, 1.8479874198015775, 0.11619308951303675, 1.6860747366973479]}\n"
     ]
    }
   ],
   "source": [
    "score = aci_service.run(input_data = data)\n",
    "\n",
    "# embeddings will print the error message incase error occurs.\n",
    "print('nb sentences encoded : {0}'.format(len(score)))\n",
    "print(score)"
   ]
  },
  {
   "cell_type": "code",
   "execution_count": 28,
   "metadata": {},
   "outputs": [
    {
     "name": "stdout",
     "output_type": "stream",
     "text": [
      "0.7764788693697073\n"
     ]
    }
   ],
   "source": [
    "from scipy.stats import pearsonr\n",
    "#print(train_y)\n",
    "result = json.loads(score)\n",
    "output = result[\"result\"]\n",
    "print(pearsonr(output, train_y)[0])"
   ]
  },
  {
   "cell_type": "markdown",
   "metadata": {},
   "source": [
    "## Inspect the Best Model\n",
    "\n",
    "Now we can identify the model that maximized performance on a given metric (spearman correlation in our case). The object returned by AutoML is a Pipeline class which chains together multiple steps in a machine learning workflow in order to provide a \"reproducible mechanism for building, evaluating, deploying, and running ML systems\" (see [here](https://github.com/Azure/MachineLearningNotebooks/blob/master/how-to-use-azureml/machine-learning-pipelines/intro-to-pipelines/aml-pipelines-getting-started.ipynb) for additional information about Pipelines). Our best model is a Pipeline with two steps: a DataTransformer step and a PreFittedSoftVotingRegressor step. We demonstrate how to extract additional information about what data transformations were used and which models make up the ensemble."
   ]
  },
  {
   "cell_type": "code",
   "execution_count": null,
   "metadata": {},
   "outputs": [],
   "source": [
    "lookup_metric = \"spearman_correlation\"\n",
    "best_run, fitted_model = local_run.get_output(metric = lookup_metric)\n",
    "print(fitted_model)"
   ]
  },
  {
   "cell_type": "markdown",
   "metadata": {},
   "source": [
    "We can look at the different models that are used to produce the stack ensemble model"
   ]
  },
  {
   "cell_type": "code",
   "execution_count": null,
   "metadata": {},
   "outputs": [],
   "source": [
    "fitted_model.named_steps['stackensembleregressor'].get_params()"
   ]
  },
  {
   "cell_type": "markdown",
   "metadata": {},
   "source": [
    "We can also look at how each column in our dataset was featurized by AutoML"
   ]
  },
  {
   "cell_type": "code",
   "execution_count": null,
   "metadata": {},
   "outputs": [],
   "source": [
    "fitted_model.named_steps['datatransformer'].get_featurization_summary()"
   ]
  }
 ],
 "metadata": {
  "kernelspec": {
   "display_name": "Python 3",
   "language": "python",
   "name": "python3"
  },
  "language_info": {
   "codemirror_mode": {
    "name": "ipython",
    "version": 3
   },
   "file_extension": ".py",
   "mimetype": "text/x-python",
   "name": "python",
   "nbconvert_exporter": "python",
   "pygments_lexer": "ipython3",
   "version": "3.6.8"
  }
 },
 "nbformat": 4,
 "nbformat_minor": 2
}
