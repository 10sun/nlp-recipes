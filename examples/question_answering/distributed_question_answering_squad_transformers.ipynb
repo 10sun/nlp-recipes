{
 "cells": [
  {
   "cell_type": "markdown",
   "metadata": {},
   "source": [
    "# Distributed Question Answering on the SQuAD Dataset"
   ]
  },
  {
   "cell_type": "markdown",
   "metadata": {},
   "source": [
    "## Prerequisites\n",
    "* Check out the nlp-recipes repo.   \n",
    "`git clone git@github.com:microsoft/nlp-recipes.git`\n",
    "* Swicth to the branch with distributed training utilities and notebook.   \n",
    "`git checkout hlu/distributed_training_utils_and_notebook`\n",
    "* Follow the instructions [here](https://github.com/microsoft/nlp-recipes/blob/master/SETUP.md) to set up the python environment.\n",
    "* Optionally, to run Horovod within a local Docker container, follow the instructions [here](https://github.com/horovod/horovod/blob/master/docs/docker.rst) to prepare the Docker environment."
   ]
  },
  {
   "cell_type": "markdown",
   "metadata": {},
   "source": [
    "## Single VM, Multi-GPU"
   ]
  },
  {
   "cell_type": "markdown",
   "metadata": {},
   "source": [
    "### DistributedDataParallel"
   ]
  },
  {
   "cell_type": "markdown",
   "metadata": {},
   "source": [
    "**Key code changes vs. DataParallel**\n",
    "```python\n",
    "def main():\n",
    "    ngpus_per_node = torch.cuda.device_count()\n",
    "\n",
    "    MODEL_NAME = args.model_name\n",
    "    qa_extractor = AnswerExtractor(model_name=MODEL_NAME, cache_dir=args.cache_dir)\n",
    "\n",
    "    mp.spawn(main_worker, nprocs=ngpus_per_node, args=(ngpus_per_node, qa_extractor, args))\n",
    "\n",
    "\n",
    "def main_worker(local_rank, ngpus_per_node, qa_extractor, args):\n",
    "    rank = args.rank * ngpus_per_node + local_rank\n",
    "    world_size = args.node_count * ngpus_per_node\n",
    "\n",
    "    torch.distributed.init_process_group(\n",
    "        backend=\"nccl\",\n",
    "        init_method=args.dist_url,\n",
    "        world_size=world_size,\n",
    "        rank=rank\n",
    "    )\n",
    "\n",
    "    ...\n",
    "\n",
    "    train_sampler = DistributedSampler(train_dataset, num_replicas=world_size, rank=rank)\n",
    "\n",
    "    model = torch.nn.parallel.DistributedDataParallel(\n",
    "        model,\n",
    "        device_ids=[local_rank],\n",
    "        find_unused_parameters=True,\n",
    "    )\n",
    "```"
   ]
  },
  {
   "cell_type": "markdown",
   "metadata": {},
   "source": [
    "**Execute the following command from shell**\n",
    "```\n",
    "python ./examples/question_answering/distributed_question_answering_squad_transformers_DDP.py --quick_run True\n",
    "```"
   ]
  },
  {
   "cell_type": "markdown",
   "metadata": {},
   "source": [
    "### Horovod"
   ]
  },
  {
   "cell_type": "markdown",
   "metadata": {},
   "source": [
    "**Key code changes vs. DataParallel**\n",
    "```python\n",
    "import horovod.torch as hvd\n",
    "\n",
    "hvd.init()\n",
    "\n",
    "rank = hvd.rank()\n",
    "local_rank = hvd.local_rank()\n",
    "world_size = hvd.size()\n",
    "\n",
    "...\n",
    "\n",
    "train_sampler = DistributedSampler(train_dataset, num_replicas=world_size, rank=rank)\n",
    "\n",
    "optimizer = AdamW(optimizer_grouped_parameters, lr=learning_rate, eps=adam_epsilon)\n",
    "\n",
    "optimizer = hvd.DistributedOptimizer(\n",
    "    optimizer,\n",
    "    named_parameters=model.named_parameters(),\n",
    "    backward_passes_per_step=gradient_accumulation_steps,\n",
    ")\n",
    "\n",
    "hvd.broadcast_parameters(model.state_dict(), root_rank=0)\n",
    "hvd.broadcast_optimizer_state(optimizer, root_rank=0)\n",
    "\n",
    "```"
   ]
  },
  {
   "cell_type": "markdown",
   "metadata": {},
   "source": [
    "**Execute the following command from shell within the Docker container**\n",
    "```\n",
    "mpirun -np 4 \\\n",
    "    ./examples/question_answering/distributed_question_answering_squad_transformers_HVD.py \\\n",
    "    --quick_run True\n",
    "```"
   ]
  },
  {
   "cell_type": "markdown",
   "metadata": {},
   "source": [
    "## Multi-node, multi-GPU AMLCompute"
   ]
  },
  {
   "cell_type": "markdown",
   "metadata": {},
   "source": [
    "### Import local modules"
   ]
  },
  {
   "cell_type": "code",
   "execution_count": 3,
   "metadata": {},
   "outputs": [
    {
     "name": "stdout",
     "output_type": "stream",
     "text": [
      "SDK version: 1.0.69\n"
     ]
    }
   ],
   "source": [
    "import os\n",
    "import sys\n",
    "\n",
    "nlp_path = os.path.abspath('../../')\n",
    "if nlp_path not in sys.path:\n",
    "    sys.path.insert(0, nlp_path)\n",
    "    \n",
    "from utils_nlp.azureml import azureml_utils\n",
    "from utils_nlp.dataset.squad import load_pandas_df\n",
    "\n",
    "from azureml.core import Experiment\n",
    "from azureml.core.compute import ComputeTarget, AmlCompute\n",
    "from azureml.core.compute_target import ComputeTargetException\n",
    "from azureml.train.dnn import PyTorch\n",
    "from azureml.widgets import RunDetails\n",
    "\n",
    "# Check core SDK version number\n",
    "import azureml.core\n",
    "\n",
    "print(\"SDK version:\", azureml.core.VERSION)"
   ]
  },
  {
   "cell_type": "markdown",
   "metadata": {},
   "source": [
    "### Configurations"
   ]
  },
  {
   "cell_type": "code",
   "execution_count": 4,
   "metadata": {},
   "outputs": [],
   "source": [
    "AMLCOMPUTE_CLUSTER_NAME = \"qanc24rsv3-2\"\n",
    "NODE_COUNT = 2\n",
    "VM_SIZE = 'STANDARD_NC24rs_v3'\n",
    "\n",
    "AZUREML_CONFIG_PATH = \"./.azureml\"\n",
    "DATA_FOLDER = './squad'\n",
    "PROJECT_FOLDER = './azureml_exp'\n",
    "EXPERIMENT_NAME = 'NLP-QA'\n",
    "\n",
    "os.makedirs(PROJECT_FOLDER, exist_ok=True)"
   ]
  },
  {
   "cell_type": "markdown",
   "metadata": {},
   "source": [
    "### Prepare the Azure Machine Learning workspace"
   ]
  },
  {
   "cell_type": "markdown",
   "metadata": {},
   "source": [
    "**Note**: Horovod is not a general requirement of the NLP recipes repo. Please manualy add `- horovod>=0.16.1` at the end of the `nlp_gpu.yaml` file. "
   ]
  },
  {
   "cell_type": "code",
   "execution_count": 13,
   "metadata": {},
   "outputs": [],
   "source": [
    "!cp distributed_question_answering_squad_transformers_HVD.py './azureml_exp'\n",
    "!cp distributed_question_answering_squad_transformers_DDP.py './azureml_exp'\n",
    "!cp -r ../../utils_nlp './azureml_exp'\n",
    "!cp ../../tools/nlp_gpu.yaml './azureml_exp'"
   ]
  },
  {
   "cell_type": "code",
   "execution_count": 5,
   "metadata": {},
   "outputs": [],
   "source": [
    "ws = azureml_utils.get_or_create_workspace(\n",
    "    config_path=AZUREML_CONFIG_PATH,\n",
    "    subscription_id=\"<subscription id>\",\n",
    "    resource_group=\"<reource group>\",\n",
    "    workspace_name=\"<workspace name>\",\n",
    "    workspace_region=\"<workspace region>\",\n",
    ")\n",
    "\n",
    "print('Workspace name: ' + ws.name, \n",
    "      'Azure region: ' + ws.location, \n",
    "      'Subscription id: ' + ws.subscription_id, \n",
    "      'Resource group: ' + ws.resource_group, sep='\\n')"
   ]
  },
  {
   "cell_type": "markdown",
   "metadata": {},
   "source": [
    "### Download data to local and upload to workspace datastore"
   ]
  },
  {
   "cell_type": "code",
   "execution_count": 26,
   "metadata": {},
   "outputs": [],
   "source": [
    "train_df = load_pandas_df(local_cache_path=DATA_FOLDER, squad_version=\"v1.1\", file_split=\"train\")\n",
    "dev_df = load_pandas_df(local_cache_path=DATA_FOLDER, squad_version=\"v1.1\", file_split=\"dev\")"
   ]
  },
  {
   "cell_type": "code",
   "execution_count": 6,
   "metadata": {},
   "outputs": [],
   "source": [
    "ds = ws.get_default_datastore()"
   ]
  },
  {
   "cell_type": "code",
   "execution_count": 17,
   "metadata": {},
   "outputs": [],
   "source": [
    "ds.upload(src_dir=DATA_FOLDER, target_path=DATA_FOLDER)"
   ]
  },
  {
   "cell_type": "markdown",
   "metadata": {},
   "source": [
    "### Create the AMLCompute cluster"
   ]
  },
  {
   "cell_type": "code",
   "execution_count": 7,
   "metadata": {},
   "outputs": [
    {
     "name": "stdout",
     "output_type": "stream",
     "text": [
      "Found existing compute target.\n",
      "{'currentNodeCount': 0, 'targetNodeCount': 0, 'nodeStateCounts': {'preparingNodeCount': 0, 'runningNodeCount': 0, 'idleNodeCount': 0, 'unusableNodeCount': 0, 'leavingNodeCount': 0, 'preemptedNodeCount': 0}, 'allocationState': 'Steady', 'allocationStateTransitionTime': '2019-10-30T16:09:55.440000+00:00', 'errors': None, 'creationTime': '2019-10-28T20:33:25.147673+00:00', 'modifiedTime': '2019-10-28T20:33:41.337052+00:00', 'provisioningState': 'Succeeded', 'provisioningStateTransitionTime': None, 'scaleSettings': {'minNodeCount': 0, 'maxNodeCount': 2, 'nodeIdleTimeBeforeScaleDown': 'PT120S'}, 'vmPriority': 'Dedicated', 'vmSize': 'STANDARD_NC24RS_V3'}\n"
     ]
    }
   ],
   "source": [
    "try:\n",
    "    gpu_compute_target = ComputeTarget(workspace=ws, name=AMLCOMPUTE_CLUSTER_NAME)\n",
    "    print('Found existing compute target.')\n",
    "except ComputeTargetException:\n",
    "    print('Creating a new compute target...')\n",
    "    compute_config = AmlCompute.provisioning_configuration(vm_size=VM_SIZE,\n",
    "                                                           max_nodes=NODE_COUNT)\n",
    "\n",
    "    # create the cluster\n",
    "    gpu_compute_target = ComputeTarget.create(ws, AMLCOMPUTE_CLUSTER_NAME, compute_config)\n",
    "\n",
    "    gpu_compute_target.wait_for_completion(show_output=True)\n",
    "\n",
    "# use get_status() to get a detailed status for the current AmlCompute. \n",
    "print(gpu_compute_target.get_status().serialize())"
   ]
  },
  {
   "cell_type": "markdown",
   "metadata": {},
   "source": [
    "### DistributedDataParallel on Multi-node AML Compute"
   ]
  },
  {
   "cell_type": "code",
   "execution_count": 8,
   "metadata": {},
   "outputs": [],
   "source": [
    "from azureml.train.dnn import Nccl"
   ]
  },
  {
   "cell_type": "code",
   "execution_count": 23,
   "metadata": {},
   "outputs": [],
   "source": [
    "NcclConfig=Nccl()\n",
    "ENTRY_SCRIPT = 'distributed_question_answering_squad_transformers_DDP.py'\n",
    "estimator = PyTorch(source_directory=PROJECT_FOLDER,\n",
    "                    compute_target=gpu_compute_target,\n",
    "                    script_params={\n",
    "                        \"--dist_url\": \"$AZ_BATCHAI_PYTORCH_INIT_METHOD\",\n",
    "#                         \"--dist_url\": \"$AZ_BATCH_MASTER_NODE\",\n",
    "                        \"--rank\": \"$AZ_BATCHAI_TASK_INDEX\",\n",
    "                        \"--node_count\": NODE_COUNT,\n",
    "                        \"--cache_dir\": ds.path('squad/').as_mount(),\n",
    "                        \"--model_name\": \"bert-large-cased-whole-word-masking\",\n",
    "                        \"--do_lower_case\": False,\n",
    "                        \"--quick_run\": True\n",
    "                    },\n",
    "                    entry_script= ENTRY_SCRIPT,\n",
    "                    node_count=NODE_COUNT,\n",
    "                    distributed_training=NcclConfig,\n",
    "                    conda_dependencies_file=\"nlp_gpu.yaml\",\n",
    "                    use_gpu=True)"
   ]
  },
  {
   "cell_type": "code",
   "execution_count": 14,
   "metadata": {},
   "outputs": [],
   "source": [
    "experiment = Experiment(ws, name=EXPERIMENT_NAME)"
   ]
  },
  {
   "cell_type": "code",
   "execution_count": 15,
   "metadata": {},
   "outputs": [
    {
     "data": {
      "application/vnd.jupyter.widget-view+json": {
       "model_id": "4c056219e3394ab48cee8e5901b6e59b",
       "version_major": 2,
       "version_minor": 0
      },
      "text/plain": [
       "_UserRunWidget(widget_settings={'childWidgetDisplay': 'popup', 'send_telemetry': False, 'log_level': 'INFO', '…"
      ]
     },
     "metadata": {},
     "output_type": "display_data"
    }
   ],
   "source": [
    "run = experiment.submit(estimator)\n",
    "RunDetails(run).show()"
   ]
  },
  {
   "cell_type": "markdown",
   "metadata": {},
   "source": [
    "### Horovod on Multi-node AML Compute"
   ]
  },
  {
   "cell_type": "code",
   "execution_count": 17,
   "metadata": {},
   "outputs": [],
   "source": [
    "from azureml.core.runconfig import MpiConfiguration"
   ]
  },
  {
   "cell_type": "code",
   "execution_count": 28,
   "metadata": {},
   "outputs": [],
   "source": [
    "mpiConfig=MpiConfiguration()\n",
    "mpiConfig.process_count_per_node=4\n",
    "ENTRY_SCRIPT = 'distributed_question_answering_squad_transformers_HVD.py'\n",
    "\n",
    "estimator = PyTorch(source_directory=PROJECT_FOLDER,\n",
    "                    compute_target=gpu_compute_target,\n",
    "                    script_params = {\n",
    "                        \"--cache_dir\": ds.path('squad/').as_mount(),\n",
    "                        \"--model_name\": \"bert-large-cased-whole-word-masking\",\n",
    "                        \"--do_lower_case\": False,\n",
    "                        \"--gradient_accumulation_steps\":8,\n",
    "                        \"--quick_run\": True\n",
    "\n",
    "                    },\n",
    "                    custom_docker_image='mcr.microsoft.com/azureml/base-gpu:intelmpi2018.3-cuda9.0-cudnn7-ubuntu16.04',\n",
    "                    entry_script=ENTRY_SCRIPT,\n",
    "                    node_count=NODE_COUNT,\n",
    "                    distributed_training=mpiConfig,\n",
    "                    conda_dependencies_file=\"nlp_gpu.yaml\",\n",
    "                    framework_version='1.1',\n",
    "                    use_gpu=True)\n"
   ]
  },
  {
   "cell_type": "code",
   "execution_count": 19,
   "metadata": {},
   "outputs": [],
   "source": [
    "experiment = Experiment(ws, name=EXPERIMENT_NAME)"
   ]
  },
  {
   "cell_type": "code",
   "execution_count": 21,
   "metadata": {},
   "outputs": [
    {
     "data": {
      "application/vnd.jupyter.widget-view+json": {
       "model_id": "b29efb025522409f92bcd02802919ca8",
       "version_major": 2,
       "version_minor": 0
      },
      "text/plain": [
       "_UserRunWidget(widget_settings={'childWidgetDisplay': 'popup', 'send_telemetry': False, 'log_level': 'INFO', '…"
      ]
     },
     "metadata": {},
     "output_type": "display_data"
    }
   ],
   "source": [
    "run = experiment.submit(estimator)\n",
    "RunDetails(run).show()"
   ]
  }
 ],
 "metadata": {
  "kernelspec": {
   "display_name": "nlp_gpu",
   "language": "python",
   "name": "nlp_gpu"
  },
  "language_info": {
   "codemirror_mode": {
    "name": "ipython",
    "version": 3
   },
   "file_extension": ".py",
   "mimetype": "text/x-python",
   "name": "python",
   "nbconvert_exporter": "python",
   "pygments_lexer": "ipython3",
   "version": "3.6.8"
  }
 },
 "nbformat": 4,
 "nbformat_minor": 2
}
