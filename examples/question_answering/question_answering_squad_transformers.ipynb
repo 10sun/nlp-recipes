{
 "cells": [
  {
   "cell_type": "markdown",
   "metadata": {},
   "source": [
    "Copyright (c) Microsoft Corporation. All rights reserved.\n",
    "\n",
    "Licensed under the MIT License."
   ]
  },
  {
   "cell_type": "markdown",
   "metadata": {},
   "source": [
    "# Question Answering on the SQuAD Dataset using BERT\n"
   ]
  },
  {
   "cell_type": "markdown",
   "metadata": {},
   "source": [
    "# Before You Start\n",
    "\n",
    "The running time shown in this notebook is on a Standard_NC24s_v3 Azure Deep Learning Virtual Machine with 4 NVIDIA Tesla V100 GPUs. \n",
    "> **Tip**: If you want to run through the notebook quickly, you can set the **`QUICK_RUN`** flag in the cell below to **`True`** to run the notebook on a small subset of the data and a smaller number of epochs. \n",
    "\n",
    "The table below provides some reference running time on different machine configurations.  \n",
    "\n",
    "|QUICK_RUN|Machine Configurations|Running time|\n",
    "|:---------|:----------------------|:------------|\n",
    "|True|4 **CPU**s, 14GB memory| ~ 10 minutes |\n",
    "|True|1 NVIDIA Tesla K80 GPUs, 12GB GPU memory| ~ 3 minutes |\n",
    "|False|4 NVIDIA Tesla K80 GPUs, 48GB GPU memory| ~ 18 hours |\n",
    "|False|4 NVIDIA Tesla V100 GPUs, 64GB GPU memory| ~ 7 hours|\n",
    "\n",
    "If you run into CUDA out-of-memory error, try reducing the `BATCH_SIZE` and `MAX_SEQ_LENGTH`, but note that model performance will be compromised. "
   ]
  },
  {
   "cell_type": "code",
   "execution_count": 1,
   "metadata": {},
   "outputs": [],
   "source": [
    "## Set QUICK_RUN = True to run the notebook on a small subset of data and a smaller number of epochs.\n",
    "QUICK_RUN = False"
   ]
  },
  {
   "cell_type": "markdown",
   "metadata": {},
   "source": [
    "## Summary\n",
    "This notebook demonstrates how to fine tune [pretrained BERT model](https://github.com/huggingface/pytorch-transformers) for extractive question answering task. Utility functions and classes in the NLP Best Practices repo are used to facilitate data preprocessing, model training, model scoring, result postprocessing, and model evaluation. \n",
    "\n",
    "BERT[\\[1\\]](#References) is a powerful pre-trained lanaguage model that can be used for multiple NLP tasks, including text classification, question answering, named entity recognition, etc. It's able to achieve state of the art performance with only a few epochs of fine tuning on task specific datasets.  \n",
    "The figure below illustrates how BERT can be fine tuned for extractive question answering task. The question and paragraph tokens are concatenated as a single input token sequence with a special token [SEP] between them. For the paragraph tokens, BERT predicts the probabilities of each token being the start and end of the answer span. The tokens with the highest sum of starting probability and ending probability define the span of the predicted answer\n",
    "\n",
    "<img src=\"https://nlpbp.blob.core.windows.net/images/bert_qa.PNG\">"
   ]
  },
  {
   "cell_type": "code",
   "execution_count": 2,
   "metadata": {},
   "outputs": [],
   "source": [
    "import os\n",
    "import sys\n",
    "\n",
    "import torch\n",
    "\n",
    "nlp_path = os.path.abspath('../../')\n",
    "if nlp_path not in sys.path:\n",
    "    sys.path.insert(0, nlp_path)\n",
    "\n",
    "from utils_nlp.dataset.squad import load_pandas_df\n",
    "from utils_nlp.dataset.pytorch import QADataset\n",
    "from utils_nlp.models.transformers.common import TOKENIZER_CLASS\n",
    "from utils_nlp.models.transformers.question_answering import (\n",
    "    QAProcessor,\n",
    "    AnswerExtractor,\n",
    "    postprocess_xlnet_answer,\n",
    "    postprocess_bert_answer\n",
    ")\n",
    "                                                              \n",
    "from utils_nlp.eval.evaluate_question_answering import evaluate_qa\n",
    "from utils_nlp.common.timer import Timer"
   ]
  },
  {
   "cell_type": "markdown",
   "metadata": {},
   "source": [
    "## Configurations"
   ]
  },
  {
   "cell_type": "markdown",
   "metadata": {},
   "source": [
    "To get all the transformer models supporting question answering, call `AnswerExtractor.list_supported_models()`."
   ]
  },
  {
   "cell_type": "code",
   "execution_count": 3,
   "metadata": {},
   "outputs": [
    {
     "data": {
      "text/plain": [
       "['bert-base-uncased',\n",
       " 'bert-large-uncased',\n",
       " 'bert-base-cased',\n",
       " 'bert-large-cased',\n",
       " 'bert-base-multilingual-uncased',\n",
       " 'bert-base-multilingual-cased',\n",
       " 'bert-base-chinese',\n",
       " 'bert-base-german-cased',\n",
       " 'bert-large-uncased-whole-word-masking',\n",
       " 'bert-large-cased-whole-word-masking',\n",
       " 'bert-large-uncased-whole-word-masking-finetuned-squad',\n",
       " 'bert-large-cased-whole-word-masking-finetuned-squad',\n",
       " 'bert-base-cased-finetuned-mrpc',\n",
       " 'xlnet-base-cased',\n",
       " 'xlnet-large-cased']"
      ]
     },
     "execution_count": 3,
     "metadata": {},
     "output_type": "execute_result"
    }
   ],
   "source": [
    "AnswerExtractor.list_supported_models()"
   ]
  },
  {
   "cell_type": "code",
   "execution_count": 17,
   "metadata": {
    "tags": [
     "parameters"
    ]
   },
   "outputs": [
    {
     "name": "stdout",
     "output_type": "stream",
     "text": [
      "Max sequence length: 128\n",
      "Document stride: 64\n",
      "Per gpu batch size: 1\n"
     ]
    }
   ],
   "source": [
    "MODEL_NAME = \"bert-large-cased-whole-word-masking\"\n",
    "DO_LOWER_CASE = False\n",
    "\n",
    "# MODEL_NAME = \"xlnet-large-cased\"\n",
    "# DO_LOWER_CASE = False\n",
    "\n",
    "TRAIN_DATA_USED_PERCENT = 1\n",
    "DEV_DATA_USED_PERCENT = 1\n",
    "NUM_EPOCHS = 2\n",
    "\n",
    "MAX_SEQ_LENGTH = 384\n",
    "DOC_STRIDE = 128\n",
    "PER_GPU_BATCH_SIZE = 2\n",
    "\n",
    "if QUICK_RUN:\n",
    "    TRAIN_DATA_USED_PERCENT = 0.001\n",
    "    DEV_DATA_USED_PERCENT = 0.01\n",
    "    NUM_EPOCHS = 1\n",
    "    \n",
    "    MAX_SEQ_LENGTH = 128\n",
    "    DOC_STRIDE = 64\n",
    "    PER_GPU_BATCH_SIZE = 1\n",
    "\n",
    "print(\"Max sequence length: {}\".format(MAX_SEQ_LENGTH))\n",
    "print(\"Document stride: {}\".format(DOC_STRIDE))\n",
    "print(\"Per gpu batch size: {}\".format(PER_GPU_BATCH_SIZE))\n",
    "\n",
    "RANDOM_SEED = 42\n",
    "SQUAD_VERSION = \"v1.1\" \n",
    "CACHE_DIR = \"./temp\"\n",
    "\n",
    "MAX_QUESTION_LENGTH = 64\n",
    "DOC_STRIDE = 128\n",
    "LEARNING_RATE = 3e-5\n",
    "\n",
    "DOC_TEXT_COL = \"doc_text\"\n",
    "QUESTION_TEXT_COL = \"question_text\"\n",
    "ANSWER_START_COL = \"answer_start\"\n",
    "ANSWER_TEXT_COL = \"answer_text\"\n",
    "QA_ID_COL = \"qa_id\"\n",
    "IS_IMPOSSIBLE_COL = \"is_impossible\""
   ]
  },
  {
   "cell_type": "markdown",
   "metadata": {},
   "source": [
    "## Load Data"
   ]
  },
  {
   "cell_type": "markdown",
   "metadata": {},
   "source": [
    "### The SQuAD Dataset\n",
    "Stanford Question Answering Dataset (SQuAD) is a reading comprehension dataset, consisting of questions posed by crowdworkers on a set of Wikipedia articles, where the answer to every question is a segment of text, or span, from the corresponding reading passage, or the question might be unanswerable. [\\[2, 3\\]](#References)\n",
    "\n",
    "<img src=\"https://nlpbp.blob.core.windows.net/images/squad.png\">\n",
    "\n",
    "There has been two versions of SQuAD datasets. SQuAD 1.1 contains 100,000+ question-answer pairs on 500+ articles. SQuAD 2.0 adds 50,000 new, unanswerable questions written adversarially by crowdworkers to look similar to answerable ones. These datasets are available at [https://rajpurkar.github.io/SQuAD-explorer/](https://rajpurkar.github.io/SQuAD-explorer/). Each dataset comes with a training dataset and a development dataset. \n"
   ]
  },
  {
   "cell_type": "markdown",
   "metadata": {},
   "source": [
    "The utility function `load_pandas_df` downloads the dataset specified by `squad_version` and `file_split` to `local_cache_path` if it doesn't exist already."
   ]
  },
  {
   "cell_type": "code",
   "execution_count": 5,
   "metadata": {},
   "outputs": [],
   "source": [
    "train_df = load_pandas_df(local_cache_path=CACHE_DIR, squad_version=SQUAD_VERSION, file_split=\"train\")\n",
    "dev_df = load_pandas_df(local_cache_path=CACHE_DIR, squad_version=SQUAD_VERSION, file_split=\"dev\")"
   ]
  },
  {
   "cell_type": "code",
   "execution_count": 6,
   "metadata": {},
   "outputs": [
    {
     "data": {
      "text/html": [
       "<div>\n",
       "<style scoped>\n",
       "    .dataframe tbody tr th:only-of-type {\n",
       "        vertical-align: middle;\n",
       "    }\n",
       "\n",
       "    .dataframe tbody tr th {\n",
       "        vertical-align: top;\n",
       "    }\n",
       "\n",
       "    .dataframe thead th {\n",
       "        text-align: right;\n",
       "    }\n",
       "</style>\n",
       "<table border=\"1\" class=\"dataframe\">\n",
       "  <thead>\n",
       "    <tr style=\"text-align: right;\">\n",
       "      <th></th>\n",
       "      <th>doc_text</th>\n",
       "      <th>question_text</th>\n",
       "      <th>answer_start</th>\n",
       "      <th>answer_text</th>\n",
       "      <th>qa_id</th>\n",
       "      <th>is_impossible</th>\n",
       "    </tr>\n",
       "  </thead>\n",
       "  <tbody>\n",
       "    <tr>\n",
       "      <td>0</td>\n",
       "      <td>Architecturally, the school has a Catholic cha...</td>\n",
       "      <td>To whom did the Virgin Mary allegedly appear i...</td>\n",
       "      <td>515</td>\n",
       "      <td>Saint Bernadette Soubirous</td>\n",
       "      <td>5733be284776f41900661182</td>\n",
       "      <td>False</td>\n",
       "    </tr>\n",
       "    <tr>\n",
       "      <td>1</td>\n",
       "      <td>Architecturally, the school has a Catholic cha...</td>\n",
       "      <td>What is in front of the Notre Dame Main Building?</td>\n",
       "      <td>188</td>\n",
       "      <td>a copper statue of Christ</td>\n",
       "      <td>5733be284776f4190066117f</td>\n",
       "      <td>False</td>\n",
       "    </tr>\n",
       "    <tr>\n",
       "      <td>2</td>\n",
       "      <td>Architecturally, the school has a Catholic cha...</td>\n",
       "      <td>The Basilica of the Sacred heart at Notre Dame...</td>\n",
       "      <td>279</td>\n",
       "      <td>the Main Building</td>\n",
       "      <td>5733be284776f41900661180</td>\n",
       "      <td>False</td>\n",
       "    </tr>\n",
       "    <tr>\n",
       "      <td>3</td>\n",
       "      <td>Architecturally, the school has a Catholic cha...</td>\n",
       "      <td>What is the Grotto at Notre Dame?</td>\n",
       "      <td>381</td>\n",
       "      <td>a Marian place of prayer and reflection</td>\n",
       "      <td>5733be284776f41900661181</td>\n",
       "      <td>False</td>\n",
       "    </tr>\n",
       "    <tr>\n",
       "      <td>4</td>\n",
       "      <td>Architecturally, the school has a Catholic cha...</td>\n",
       "      <td>What sits on top of the Main Building at Notre...</td>\n",
       "      <td>92</td>\n",
       "      <td>a golden statue of the Virgin Mary</td>\n",
       "      <td>5733be284776f4190066117e</td>\n",
       "      <td>False</td>\n",
       "    </tr>\n",
       "  </tbody>\n",
       "</table>\n",
       "</div>"
      ],
      "text/plain": [
       "                                            doc_text  \\\n",
       "0  Architecturally, the school has a Catholic cha...   \n",
       "1  Architecturally, the school has a Catholic cha...   \n",
       "2  Architecturally, the school has a Catholic cha...   \n",
       "3  Architecturally, the school has a Catholic cha...   \n",
       "4  Architecturally, the school has a Catholic cha...   \n",
       "\n",
       "                                       question_text  answer_start  \\\n",
       "0  To whom did the Virgin Mary allegedly appear i...           515   \n",
       "1  What is in front of the Notre Dame Main Building?           188   \n",
       "2  The Basilica of the Sacred heart at Notre Dame...           279   \n",
       "3                  What is the Grotto at Notre Dame?           381   \n",
       "4  What sits on top of the Main Building at Notre...            92   \n",
       "\n",
       "                               answer_text                     qa_id  \\\n",
       "0               Saint Bernadette Soubirous  5733be284776f41900661182   \n",
       "1                a copper statue of Christ  5733be284776f4190066117f   \n",
       "2                        the Main Building  5733be284776f41900661180   \n",
       "3  a Marian place of prayer and reflection  5733be284776f41900661181   \n",
       "4       a golden statue of the Virgin Mary  5733be284776f4190066117e   \n",
       "\n",
       "   is_impossible  \n",
       "0          False  \n",
       "1          False  \n",
       "2          False  \n",
       "3          False  \n",
       "4          False  "
      ]
     },
     "execution_count": 6,
     "metadata": {},
     "output_type": "execute_result"
    }
   ],
   "source": [
    "train_df.head()"
   ]
  },
  {
   "cell_type": "code",
   "execution_count": 7,
   "metadata": {},
   "outputs": [
    {
     "data": {
      "text/html": [
       "<div>\n",
       "<style scoped>\n",
       "    .dataframe tbody tr th:only-of-type {\n",
       "        vertical-align: middle;\n",
       "    }\n",
       "\n",
       "    .dataframe tbody tr th {\n",
       "        vertical-align: top;\n",
       "    }\n",
       "\n",
       "    .dataframe thead th {\n",
       "        text-align: right;\n",
       "    }\n",
       "</style>\n",
       "<table border=\"1\" class=\"dataframe\">\n",
       "  <thead>\n",
       "    <tr style=\"text-align: right;\">\n",
       "      <th></th>\n",
       "      <th>doc_text</th>\n",
       "      <th>question_text</th>\n",
       "      <th>answer_start</th>\n",
       "      <th>answer_text</th>\n",
       "      <th>qa_id</th>\n",
       "      <th>is_impossible</th>\n",
       "    </tr>\n",
       "  </thead>\n",
       "  <tbody>\n",
       "    <tr>\n",
       "      <td>0</td>\n",
       "      <td>Super Bowl 50 was an American football game to...</td>\n",
       "      <td>Which NFL team represented the AFC at Super Bo...</td>\n",
       "      <td>[177, 177, 177]</td>\n",
       "      <td>[Denver Broncos, Denver Broncos, Denver Broncos]</td>\n",
       "      <td>56be4db0acb8001400a502ec</td>\n",
       "      <td>False</td>\n",
       "    </tr>\n",
       "    <tr>\n",
       "      <td>1</td>\n",
       "      <td>Super Bowl 50 was an American football game to...</td>\n",
       "      <td>Which NFL team represented the NFC at Super Bo...</td>\n",
       "      <td>[249, 249, 249]</td>\n",
       "      <td>[Carolina Panthers, Carolina Panthers, Carolin...</td>\n",
       "      <td>56be4db0acb8001400a502ed</td>\n",
       "      <td>False</td>\n",
       "    </tr>\n",
       "    <tr>\n",
       "      <td>2</td>\n",
       "      <td>Super Bowl 50 was an American football game to...</td>\n",
       "      <td>Where did Super Bowl 50 take place?</td>\n",
       "      <td>[403, 355, 355]</td>\n",
       "      <td>[Santa Clara, California, Levi's Stadium, Levi...</td>\n",
       "      <td>56be4db0acb8001400a502ee</td>\n",
       "      <td>False</td>\n",
       "    </tr>\n",
       "    <tr>\n",
       "      <td>3</td>\n",
       "      <td>Super Bowl 50 was an American football game to...</td>\n",
       "      <td>Which NFL team won Super Bowl 50?</td>\n",
       "      <td>[177, 177, 177]</td>\n",
       "      <td>[Denver Broncos, Denver Broncos, Denver Broncos]</td>\n",
       "      <td>56be4db0acb8001400a502ef</td>\n",
       "      <td>False</td>\n",
       "    </tr>\n",
       "    <tr>\n",
       "      <td>4</td>\n",
       "      <td>Super Bowl 50 was an American football game to...</td>\n",
       "      <td>What color was used to emphasize the 50th anni...</td>\n",
       "      <td>[488, 488, 521]</td>\n",
       "      <td>[gold, gold, gold]</td>\n",
       "      <td>56be4db0acb8001400a502f0</td>\n",
       "      <td>False</td>\n",
       "    </tr>\n",
       "  </tbody>\n",
       "</table>\n",
       "</div>"
      ],
      "text/plain": [
       "                                            doc_text  \\\n",
       "0  Super Bowl 50 was an American football game to...   \n",
       "1  Super Bowl 50 was an American football game to...   \n",
       "2  Super Bowl 50 was an American football game to...   \n",
       "3  Super Bowl 50 was an American football game to...   \n",
       "4  Super Bowl 50 was an American football game to...   \n",
       "\n",
       "                                       question_text     answer_start  \\\n",
       "0  Which NFL team represented the AFC at Super Bo...  [177, 177, 177]   \n",
       "1  Which NFL team represented the NFC at Super Bo...  [249, 249, 249]   \n",
       "2                Where did Super Bowl 50 take place?  [403, 355, 355]   \n",
       "3                  Which NFL team won Super Bowl 50?  [177, 177, 177]   \n",
       "4  What color was used to emphasize the 50th anni...  [488, 488, 521]   \n",
       "\n",
       "                                         answer_text  \\\n",
       "0   [Denver Broncos, Denver Broncos, Denver Broncos]   \n",
       "1  [Carolina Panthers, Carolina Panthers, Carolin...   \n",
       "2  [Santa Clara, California, Levi's Stadium, Levi...   \n",
       "3   [Denver Broncos, Denver Broncos, Denver Broncos]   \n",
       "4                                 [gold, gold, gold]   \n",
       "\n",
       "                      qa_id  is_impossible  \n",
       "0  56be4db0acb8001400a502ec          False  \n",
       "1  56be4db0acb8001400a502ed          False  \n",
       "2  56be4db0acb8001400a502ee          False  \n",
       "3  56be4db0acb8001400a502ef          False  \n",
       "4  56be4db0acb8001400a502f0          False  "
      ]
     },
     "execution_count": 7,
     "metadata": {},
     "output_type": "execute_result"
    }
   ],
   "source": [
    "dev_df.head()"
   ]
  },
  {
   "cell_type": "code",
   "execution_count": 8,
   "metadata": {},
   "outputs": [],
   "source": [
    "train_df = train_df.sample(frac=TRAIN_DATA_USED_PERCENT).reset_index(drop=True)\n",
    "dev_df = dev_df.sample(frac=DEV_DATA_USED_PERCENT).reset_index(drop=True)"
   ]
  },
  {
   "cell_type": "markdown",
   "metadata": {},
   "source": [
    "`QADataset` is a standard question answering dataset for downstream processing."
   ]
  },
  {
   "cell_type": "code",
   "execution_count": 9,
   "metadata": {},
   "outputs": [],
   "source": [
    "train_dataset = QADataset(\n",
    "    df=train_df,\n",
    "    doc_text_col=DOC_TEXT_COL,\n",
    "    question_text_col=QUESTION_TEXT_COL,\n",
    "    qa_id_col=QA_ID_COL,\n",
    "    is_impossible_col=IS_IMPOSSIBLE_COL,\n",
    "    answer_start_col=ANSWER_START_COL,\n",
    "    answer_text_col=ANSWER_TEXT_COL\n",
    ")\n",
    "dev_dataset = QADataset(\n",
    "    df=dev_df,\n",
    "    doc_text_col=DOC_TEXT_COL,\n",
    "    question_text_col=QUESTION_TEXT_COL,\n",
    "    qa_id_col=QA_ID_COL,\n",
    "    is_impossible_col=IS_IMPOSSIBLE_COL,\n",
    "    answer_start_col=ANSWER_START_COL,\n",
    "    answer_text_col=ANSWER_TEXT_COL\n",
    ")"
   ]
  },
  {
   "cell_type": "markdown",
   "metadata": {},
   "source": [
    "## Tokenize and Preprocess Data"
   ]
  },
  {
   "cell_type": "markdown",
   "metadata": {},
   "source": [
    "The utility function `get_qa_dataloader` tokenizes the input paragraph, question, and answer texts, and converts them into the format required by pre-trained BERT model, involving the following steps:\n",
    "* WordPiece tokenization.\n",
    "* Convert character-based answer span indices to token-based indices.\n",
    "* Truncate the question token list if it's longer than `max_question_length`.\n",
    "* Split the paragraph into multiple segments if it's longer than `max_len` - `max_question_length` - 3. (The \"-3\" is for the special [CLS] token and two [SEP] tokens.)\n",
    "* Add the special tokens [CLS] and [SEP].\n",
    "* Pad the concatenated token sequence to `max_len` if it's shorter.\n",
    "* Convert the tokens into token indices corresponding to the BERT tokenizer's vocabulary.\n",
    "\n",
    "`get_qa_dataloader` returns a Pytorch DataLoader that samples and serves data batches for training or predicting. By default, it saves `cached_examples_test.jsonl` and `cached_features_test.jsonl` to `./cached_qa_features`. These two files are required by postprocessing the predicted answer start and end indices to get the final answer text. You can change the default file directory by specifying `cache_dir`. "
   ]
  },
  {
   "cell_type": "code",
   "execution_count": 10,
   "metadata": {},
   "outputs": [],
   "source": [
    "qa_processor = QAProcessor(model_name=MODEL_NAME, to_lower=DO_LOWER_CASE)\n",
    "train_features = qa_processor.preprocess(\n",
    "    train_dataset, \n",
    "    is_training=True,\n",
    "    max_question_length=MAX_QUESTION_LENGTH,\n",
    "    max_seq_len=MAX_SEQ_LENGTH,\n",
    "    doc_stride=DOC_STRIDE\n",
    ")\n",
    "\n",
    "dev_features = qa_processor.preprocess(\n",
    "    dev_dataset, \n",
    "    is_training=False,\n",
    "    max_question_length=MAX_QUESTION_LENGTH,\n",
    "    max_seq_len=MAX_SEQ_LENGTH,\n",
    "    doc_stride=DOC_STRIDE\n",
    ")"
   ]
  },
  {
   "cell_type": "markdown",
   "metadata": {},
   "source": [
    "## Train AnswerExtractor"
   ]
  },
  {
   "cell_type": "code",
   "execution_count": 11,
   "metadata": {},
   "outputs": [],
   "source": [
    "qa_extractor = AnswerExtractor(model_name=MODEL_NAME, cache_dir=CACHE_DIR)"
   ]
  },
  {
   "cell_type": "code",
   "execution_count": 12,
   "metadata": {},
   "outputs": [
    {
     "name": "stderr",
     "output_type": "stream",
     "text": [
      "Epoch:   0%|          | 0/1 [00:00<?, ?it/s]\n",
      "Iteration:   0%|          | 0/88 [00:00<?, ?it/s]\u001b[A\n",
      "Iteration:   1%|          | 1/88 [00:00<00:56,  1.55it/s]\u001b[A\n",
      "Iteration:   2%|▏         | 2/88 [00:01<00:51,  1.65it/s]\u001b[A\n",
      "Iteration:   3%|▎         | 3/88 [00:01<00:48,  1.76it/s]\u001b[A\n",
      "Iteration:   5%|▍         | 4/88 [00:02<00:45,  1.83it/s]\u001b[A\n",
      "Iteration:   6%|▌         | 5/88 [00:02<00:44,  1.88it/s]\u001b[A\n",
      "Iteration:   7%|▋         | 6/88 [00:03<00:42,  1.92it/s]\u001b[A\n",
      "Iteration:   8%|▊         | 7/88 [00:03<00:41,  1.96it/s]\u001b[A\n",
      "Iteration:   9%|▉         | 8/88 [00:04<00:40,  1.98it/s]\u001b[A\n",
      "Iteration:  10%|█         | 9/88 [00:04<00:39,  2.00it/s]\u001b[A\n",
      "Iteration:  11%|█▏        | 10/88 [00:05<00:38,  2.01it/s]\u001b[A\n",
      "Iteration:  12%|█▎        | 11/88 [00:05<00:38,  2.01it/s]\u001b[A\n",
      "Iteration:  14%|█▎        | 12/88 [00:06<00:37,  2.02it/s]\u001b[A\n",
      "Iteration:  15%|█▍        | 13/88 [00:06<00:37,  2.02it/s]\u001b[A\n",
      "Iteration:  16%|█▌        | 14/88 [00:07<00:36,  2.03it/s]\u001b[A\n",
      "Iteration:  17%|█▋        | 15/88 [00:07<00:36,  2.03it/s]\u001b[A\n",
      "Iteration:  18%|█▊        | 16/88 [00:08<00:35,  2.03it/s]\u001b[A\n",
      "Iteration:  19%|█▉        | 17/88 [00:08<00:34,  2.03it/s]\u001b[A\n",
      "Iteration:  20%|██        | 18/88 [00:09<00:34,  2.04it/s]\u001b[A\n",
      "Iteration:  22%|██▏       | 19/88 [00:09<00:33,  2.03it/s]\u001b[A\n",
      "Iteration:  23%|██▎       | 20/88 [00:10<00:33,  2.04it/s]\u001b[A\n",
      "Iteration:  24%|██▍       | 21/88 [00:10<00:32,  2.03it/s]\u001b[A\n",
      "Iteration:  25%|██▌       | 22/88 [00:10<00:32,  2.03it/s]\u001b[A\n",
      "Iteration:  26%|██▌       | 23/88 [00:11<00:32,  2.02it/s]\u001b[A\n",
      "Iteration:  27%|██▋       | 24/88 [00:11<00:31,  2.02it/s]\u001b[A\n",
      "Iteration:  28%|██▊       | 25/88 [00:12<00:31,  2.02it/s]\u001b[A\n",
      "Iteration:  30%|██▉       | 26/88 [00:12<00:30,  2.02it/s]\u001b[A\n",
      "Iteration:  31%|███       | 27/88 [00:13<00:30,  2.02it/s]\u001b[A\n",
      "Iteration:  32%|███▏      | 28/88 [00:13<00:29,  2.02it/s]\u001b[A\n",
      "Iteration:  33%|███▎      | 29/88 [00:14<00:29,  2.03it/s]\u001b[A\n",
      "Iteration:  34%|███▍      | 30/88 [00:14<00:28,  2.03it/s]\u001b[A\n",
      "Iteration:  35%|███▌      | 31/88 [00:15<00:28,  2.03it/s]\u001b[A\n",
      "Iteration:  36%|███▋      | 32/88 [00:15<00:27,  2.03it/s]\u001b[A\n",
      "Iteration:  38%|███▊      | 33/88 [00:16<00:27,  2.02it/s]\u001b[A\n",
      "Iteration:  39%|███▊      | 34/88 [00:16<00:26,  2.03it/s]\u001b[A\n",
      "Iteration:  40%|███▉      | 35/88 [00:17<00:26,  2.02it/s]\u001b[A\n",
      "Iteration:  41%|████      | 36/88 [00:17<00:25,  2.02it/s]\u001b[A\n",
      "Iteration:  42%|████▏     | 37/88 [00:18<00:25,  2.03it/s]\u001b[A\n",
      "Iteration:  43%|████▎     | 38/88 [00:18<00:24,  2.03it/s]\u001b[A\n",
      "Iteration:  44%|████▍     | 39/88 [00:19<00:24,  2.03it/s]\u001b[A\n",
      "Iteration:  45%|████▌     | 40/88 [00:19<00:23,  2.03it/s]\u001b[A\n",
      "Iteration:  47%|████▋     | 41/88 [00:20<00:23,  2.03it/s]\u001b[A\n",
      "Iteration:  48%|████▊     | 42/88 [00:20<00:22,  2.04it/s]\u001b[A\n",
      "Iteration:  49%|████▉     | 43/88 [00:21<00:22,  2.01it/s]\u001b[A\n",
      "Iteration:  50%|█████     | 44/88 [00:21<00:21,  2.02it/s]\u001b[A\n",
      "Iteration:  51%|█████     | 45/88 [00:22<00:21,  2.02it/s]\u001b[A\n",
      "Iteration:  52%|█████▏    | 46/88 [00:22<00:20,  2.02it/s]\u001b[A\n",
      "Iteration:  53%|█████▎    | 47/88 [00:23<00:20,  2.02it/s]\u001b[A\n",
      "Iteration:  55%|█████▍    | 48/88 [00:23<00:19,  2.02it/s]\u001b[A\n",
      "Iteration:  56%|█████▌    | 49/88 [00:24<00:19,  2.02it/s]\u001b[A\n",
      "Iteration:  57%|█████▋    | 50/88 [00:24<00:18,  2.03it/s]\u001b[A\n",
      "Iteration:  58%|█████▊    | 51/88 [00:25<00:18,  2.03it/s]\u001b[A\n",
      "Iteration:  59%|█████▉    | 52/88 [00:25<00:17,  2.03it/s]\u001b[A\n",
      "Iteration:  60%|██████    | 53/88 [00:26<00:17,  2.03it/s]\u001b[A\n",
      "Iteration:  61%|██████▏   | 54/88 [00:26<00:16,  2.03it/s]\u001b[A\n",
      "Iteration:  62%|██████▎   | 55/88 [00:27<00:16,  2.03it/s]\u001b[A\n",
      "Iteration:  64%|██████▎   | 56/88 [00:27<00:15,  2.02it/s]\u001b[A\n",
      "Iteration:  65%|██████▍   | 57/88 [00:28<00:15,  2.03it/s]\u001b[A\n",
      "Iteration:  66%|██████▌   | 58/88 [00:28<00:14,  2.03it/s]\u001b[A\n",
      "Iteration:  67%|██████▋   | 59/88 [00:29<00:14,  2.03it/s]\u001b[A\n",
      "Iteration:  68%|██████▊   | 60/88 [00:29<00:13,  2.03it/s]\u001b[A\n",
      "Iteration:  69%|██████▉   | 61/88 [00:30<00:13,  2.03it/s]\u001b[A\n",
      "Iteration:  70%|███████   | 62/88 [00:30<00:12,  2.04it/s]\u001b[A\n",
      "Iteration:  72%|███████▏  | 63/88 [00:31<00:12,  2.04it/s]\u001b[A\n",
      "Iteration:  73%|███████▎  | 64/88 [00:31<00:11,  2.03it/s]\u001b[A\n",
      "Iteration:  74%|███████▍  | 65/88 [00:32<00:11,  2.03it/s]\u001b[A\n",
      "Iteration:  75%|███████▌  | 66/88 [00:32<00:10,  2.03it/s]\u001b[A\n",
      "Iteration:  76%|███████▌  | 67/88 [00:33<00:10,  2.01it/s]\u001b[A\n",
      "Iteration:  77%|███████▋  | 68/88 [00:33<00:09,  2.01it/s]\u001b[A\n",
      "Iteration:  78%|███████▊  | 69/88 [00:34<00:09,  2.02it/s]\u001b[A\n",
      "Iteration:  80%|███████▉  | 70/88 [00:34<00:08,  2.02it/s]\u001b[A\n",
      "Iteration:  81%|████████  | 71/88 [00:35<00:08,  2.03it/s]\u001b[A\n",
      "Iteration:  82%|████████▏ | 72/88 [00:35<00:07,  2.03it/s]\u001b[A\n",
      "Iteration:  83%|████████▎ | 73/88 [00:36<00:07,  2.03it/s]\u001b[A\n",
      "Iteration:  84%|████████▍ | 74/88 [00:36<00:06,  2.03it/s]\u001b[A\n",
      "Iteration:  85%|████████▌ | 75/88 [00:37<00:06,  2.03it/s]\u001b[A\n",
      "Iteration:  86%|████████▋ | 76/88 [00:37<00:05,  2.02it/s]\u001b[A\n",
      "Iteration:  88%|████████▊ | 77/88 [00:38<00:05,  2.03it/s]\u001b[A\n",
      "Iteration:  89%|████████▊ | 78/88 [00:38<00:04,  2.03it/s]\u001b[A\n",
      "Iteration:  90%|████████▉ | 79/88 [00:39<00:04,  2.03it/s]\u001b[A\n",
      "Iteration:  91%|█████████ | 80/88 [00:39<00:03,  2.03it/s]\u001b[A\n",
      "Iteration:  92%|█████████▏| 81/88 [00:40<00:03,  2.03it/s]\u001b[A\n",
      "Iteration:  93%|█████████▎| 82/88 [00:40<00:02,  2.04it/s]\u001b[A\n",
      "Iteration:  94%|█████████▍| 83/88 [00:41<00:02,  2.04it/s]\u001b[A\n",
      "Iteration:  95%|█████████▌| 84/88 [00:41<00:01,  2.03it/s]\u001b[A\n",
      "Iteration:  97%|█████████▋| 85/88 [00:42<00:01,  2.03it/s]\u001b[A\n",
      "Iteration:  98%|█████████▊| 86/88 [00:42<00:00,  2.03it/s]\u001b[A\n",
      "Iteration:  99%|█████████▉| 87/88 [00:43<00:00,  2.03it/s]\u001b[A\n",
      "Epoch: 100%|██████████| 1/1 [00:43<00:00, 43.61s/it]3it/s]\u001b[A\n"
     ]
    },
    {
     "name": "stdout",
     "output_type": "stream",
     "text": [
      "Training time : 0.016 hrs\n"
     ]
    }
   ],
   "source": [
    "with Timer() as t:\n",
    "    qa_extractor.fit(train_dataset=train_features,\n",
    "                     num_epochs=NUM_EPOCHS,\n",
    "                     learning_rate=LEARNING_RATE,\n",
    "                     per_gpu_batch_size=PER_GPU_BATCH_SIZE,\n",
    "                     seed=RANDOM_SEED,\n",
    "                     cache_model=True)\n",
    "print(\"Training time : {:.3f} hrs\".format(t.interval / 3600)) "
   ]
  },
  {
   "cell_type": "markdown",
   "metadata": {},
   "source": [
    "## Predict\n",
    "Note that the `BERTQAExtractor.predict` only outputs the probabilities of each token being the start and end of the answer span. the `postprocess_answers` method takes these probabilities and generates the final answers. "
   ]
  },
  {
   "cell_type": "code",
   "execution_count": 13,
   "metadata": {},
   "outputs": [
    {
     "name": "stderr",
     "output_type": "stream",
     "text": [
      "Evaluating: 100%|██████████| 106/106 [00:08<00:00, 12.52it/s]\n"
     ]
    }
   ],
   "source": [
    "qa_results = qa_extractor.predict(dev_features,per_gpu_batch_size=PER_GPU_BATCH_SIZE)"
   ]
  },
  {
   "cell_type": "markdown",
   "metadata": {},
   "source": [
    "## Postprocess and Generate the Final Answers"
   ]
  },
  {
   "cell_type": "code",
   "execution_count": 14,
   "metadata": {},
   "outputs": [],
   "source": [
    "model_type = MODEL_NAME.split(\"-\")[0]\n",
    "\n",
    "if model_type == \"bert\":\n",
    "    final_answers, answer_probs, nbest_answers = postprocess_bert_answer(\n",
    "        qa_results,\n",
    "        examples_file=\"./cached_qa_features/cached_examples_test.jsonl\",\n",
    "        features_file=\"./cached_qa_features/cached_features_test.jsonl\", \n",
    "        do_lower_case=DO_LOWER_CASE\n",
    "    )\n",
    "elif model_type == \"xlnet\":\n",
    "    final_answers, answer_probs, nbest_answers = postprocess_xlnet_answer(\n",
    "        qa_results,\n",
    "        examples_file=\"./cached_qa_features/cached_examples_test.jsonl\",\n",
    "        features_file=\"./cached_qa_features/cached_features_test.jsonl\", \n",
    "        do_lower_case=DO_LOWER_CASE,\n",
    "        model_name=MODEL_NAME\n",
    "    )\n"
   ]
  },
  {
   "cell_type": "code",
   "execution_count": 15,
   "metadata": {},
   "outputs": [
    {
     "name": "stdout",
     "output_type": "stream",
     "text": [
      "Paragraph:\n",
      "Immunology is strongly experimental in everyday practice but is also characterized by an ongoing theoretical attitude. Many theories have been suggested in immunology from the end of the nineteenth century up to the present time. The end of the 19th century and the beginning of the 20th century saw a battle between \"cellular\" and \"humoral\" theories of immunity. According to the cellular theory of immunity, represented in particular by Elie Metchnikoff, it was cells – more precisely, phagocytes – that were responsible for immune responses. In contrast, the humoral theory of immunity, held, among others, by Robert Koch and Emil von Behring, stated that the active immune agents were soluble components (molecules) found in the organism’s “humors” rather than its cells.\n",
      "\n",
      "Question:\n",
      "What two scientists were proponents of the humoral theory of immunity?\n",
      "\n",
      "Ground truth answers:\n",
      "['Robert Koch and Emil von Behring', 'Robert Koch and Emil von Behring', 'Robert Koch and Emil von Behring,']\n",
      "\n",
      "Predicted answer:\n",
      "nineteenth century\n",
      "\n",
      "Top N best answers\n",
      "[OrderedDict([('text', 'nineteenth century'), ('probability', 0.12097534248748448), ('start_logit', 2.1996326446533203), ('end_logit', 2.9119832515716553)]), OrderedDict([('text', '19th century'), ('probability', 0.10530837327147059), ('start_logit', 2.536839246749878), ('end_logit', 2.4360828399658203)]), OrderedDict([('text', '19th century and the beginning of the 20th century'), ('probability', 0.09296861900773258), ('start_logit', 2.536839246749878), ('end_logit', 2.3114519119262695)]), OrderedDict([('text', 'nineteenth century up to the present time. The end of the 19th century'), ('probability', 0.07516504773352964), ('start_logit', 2.1996326446533203), ('end_logit', 2.4360828399658203)]), OrderedDict([('text', 'nineteenth century up to the present time. The end of the 19th century and the beginning of the 20th century'), ('probability', 0.06635740794725282), ('start_logit', 2.1996326446533203), ('end_logit', 2.3114519119262695)]), OrderedDict([('text', '19th century and the beginning of the 20th'), ('probability', 0.05631371255904655), ('start_logit', 2.536839246749878), ('end_logit', 1.8101279735565186)]), OrderedDict([('text', '19th'), ('probability', 0.0470225868197884), ('start_logit', 2.536839246749878), ('end_logit', 1.6298179626464844)]), OrderedDict([('text', '19th century and the beginning of the 20th century saw a battle between \"cellular\" and \"humoral\" theories of immunity'), ('probability', 0.041737830313587715), ('start_logit', 2.536839246749878), ('end_logit', 1.510597825050354)]), OrderedDict([('text', 'century'), ('probability', 0.04102605407520423), ('start_logit', 1.118253231048584), ('end_logit', 2.9119832515716553)]), OrderedDict([('text', 'nineteenth century up to the present time. The end of the 19th century and the beginning of the 20th'), ('probability', 0.04019455206701715), ('start_logit', 2.1996326446533203), ('end_logit', 1.8101279735565186)]), OrderedDict([('text', 'immunology from the end of the nineteenth century'), ('probability', 0.036842099958386075), ('start_logit', 1.0106871128082275), ('end_logit', 2.9119832515716553)]), OrderedDict([('text', 'immunology'), ('probability', 0.03662324439564894), ('start_logit', 1.0106871128082275), ('end_logit', 2.9060251712799072)]), OrderedDict([('text', '19th century and the beginning of the 20th century saw a battle between \"cellular\" and \"humoral\" theories of immunity. According to the cellular theory'), ('probability', 0.03536584713738754), ('start_logit', 2.536839246749878), ('end_logit', 1.344936490058899)]), OrderedDict([('text', 'nineteenth century up to the present time. The end of the 19th'), ('probability', 0.0335629055227365), ('start_logit', 2.1996326446533203), ('end_logit', 1.6298179626464844)]), OrderedDict([('text', 'Immunology is strongly experimental in everyday practice but is also characterized by an ongoing theoretical attitude. Many theories have been suggested in immunology'), ('probability', 0.03106798563850186), ('start_logit', 0.8461818695068359), ('end_logit', 2.9060251712799072)]), OrderedDict([('text', 'theories have been suggested in immunology from the end of the nineteenth century'), ('probability', 0.029619567984891095), ('start_logit', 0.7924811244010925), ('end_logit', 2.9119832515716553)]), OrderedDict([('text', 'theories have been suggested in immunology'), ('probability', 0.02944361690645946), ('start_logit', 0.7924811244010925), ('end_logit', 2.9060251712799072)]), OrderedDict([('text', 'nineteenth'), ('probability', 0.028838874788397834), ('start_logit', 2.1996326446533203), ('end_logit', 1.4781208038330078)]), OrderedDict([('text', '20th century'), ('probability', 0.026075803733528562), ('start_logit', 1.2655850648880005), ('end_logit', 2.3114519119262695)]), OrderedDict([('text', 'century up to the present time. The end of the 19th century'), ('probability', 0.025490527651947932), ('start_logit', 1.118253231048584), ('end_logit', 2.4360828399658203)])]\n",
      "-------------------------------------------------------------------------------------------------------------------\n",
      "Paragraph:\n",
      "Luther devised the catechism as a method of imparting the basics of Christianity to the congregations. In 1529, he wrote the Large Catechism, a manual for pastors and teachers, as well as a synopsis, the Small Catechism, to be memorised by the people themselves. The catechisms provided easy-to-understand instructional and devotional material on the Ten Commandments, the Apostles' Creed, the Lord's Prayer, baptism, and the Lord's Supper. Luther incorporated questions and answers in the catechism so that the basics of Christian faith would not just be learned by rote, \"the way monkeys do it\", but understood.\n",
      "\n",
      "Question:\n",
      "For whom was the Small Catechism meant?\n",
      "\n",
      "Ground truth answers:\n",
      "['the people', 'the people', 'people']\n",
      "\n",
      "Predicted answer:\n",
      "1529\n",
      "\n",
      "Top N best answers\n",
      "[OrderedDict([('text', '1529'), ('probability', 0.1677100962859405), ('start_logit', 2.5250022411346436), ('end_logit', 3.5851852893829346)]), OrderedDict([('text', '9'), ('probability', 0.09720824800288481), ('start_logit', 1.9796209335327148), ('end_logit', 3.5851852893829346)]), OrderedDict([('text', '1529, he wrote the Large Catechism'), ('probability', 0.08019481990598239), ('start_logit', 2.5250022411346436), ('end_logit', 2.847407341003418)]), OrderedDict([('text', 'Luther devised the catechism as a method of imparting the basics of Christianity to the congregations. In 1529'), ('probability', 0.07641583122195589), ('start_logit', 1.7389552593231201), ('end_logit', 3.5851852893829346)]), OrderedDict([('text', 'catechism as a method of imparting the basics of Christianity to the congregations. In 1529'), ('probability', 0.06074434427330167), ('start_logit', 1.5094393491744995), ('end_logit', 3.5851852893829346)]), OrderedDict([('text', 'Christianity to the congregations. In 1529'), ('probability', 0.04750626340132477), ('start_logit', 1.2636269330978394), ('end_logit', 3.5851852893829346)]), OrderedDict([('text', '9, he wrote the Large Catechism'), ('probability', 0.04648257984824103), ('start_logit', 1.9796209335327148), ('end_logit', 2.847407341003418)]), OrderedDict([('text', 'echism as a method of imparting the basics of Christianity to the congregations. In 1529'), ('probability', 0.04466143761840728), ('start_logit', 1.2018758058547974), ('end_logit', 3.5851852893829346)]), OrderedDict([('text', '1529, he wrote the Large Catech'), ('probability', 0.04291742683521011), ('start_logit', 2.5250022411346436), ('end_logit', 2.22222638130188)]), OrderedDict([('text', 'Luther devised the catechism'), ('probability', 0.040723074855764575), ('start_logit', 1.7389552593231201), ('end_logit', 2.9557902812957764)]), OrderedDict([('text', 'Large Catechism'), ('probability', 0.036227396435044495), ('start_logit', 1.7303589582443237), ('end_logit', 2.847407341003418)]), OrderedDict([('text', 'echism'), ('probability', 0.03420701676530418), ('start_logit', 1.6729741096496582), ('end_logit', 2.847407341003418)]), OrderedDict([('text', 'catechism'), ('probability', 0.03237151830123981), ('start_logit', 1.5094393491744995), ('end_logit', 2.9557902812957764)]), OrderedDict([('text', 'catechism as a method of imparting the basics of Christianity to the congregations. In 1529, he wrote the Large Catechism'), ('probability', 0.02904644298217363), ('start_logit', 1.5094393491744995), ('end_logit', 2.847407341003418)]), OrderedDict([('text', 'pastors and teachers, as well as a synopsis, the Small Catechism'), ('probability', 0.028947342974681167), ('start_logit', 1.733361005783081), ('end_logit', 2.620068073272705)]), OrderedDict([('text', 'Large Catechism, a manual for pastors and teachers, as well as a synopsis, the Small Catechism'), ('probability', 0.02886057198543491), ('start_logit', 1.7303589582443237), ('end_logit', 2.620068073272705)]), OrderedDict([('text', 'he wrote the Large Catechism'), ('probability', 0.02827137216290497), ('start_logit', 1.4823930263519287), ('end_logit', 2.847407341003418)]), OrderedDict([('text', 'echism, a manual for pastors and teachers, as well as a synopsis, the Small Catechism'), ('probability', 0.027251035594902464), ('start_logit', 1.6729741096496582), ('end_logit', 2.620068073272705)]), OrderedDict([('text', 'Catechism'), ('probability', 0.025377350388606952), ('start_logit', 1.3744003772735596), ('end_logit', 2.847407341003418)]), OrderedDict([('text', '9, he wrote the Large Catech'), ('probability', 0.02487583016069445), ('start_logit', 1.9796209335327148), ('end_logit', 2.22222638130188)])]\n",
      "-------------------------------------------------------------------------------------------------------------------\n",
      "Paragraph:\n",
      "There would be no more scoring in the third quarter, but early in the fourth, the Broncos drove to the Panthers 41-yard line. On the next play, Ealy knocked the ball out of Manning's hand as he was winding up for a pass, and then recovered it for Carolina on the 50-yard line. A 16-yard reception by Devin Funchess and a 12-yard run by Stewart then set up Gano's 39-yard field goal, cutting the Panthers deficit to one score at 16–10. The next three drives of the game would end in punts.\n",
      "\n",
      "Question:\n",
      "Where was the ball recovered?\n",
      "\n",
      "Ground truth answers:\n",
      "['50-yard line.', 'on the 50-yard line', '50']\n",
      "\n",
      "Predicted answer:\n",
      "16–10\n",
      "\n",
      "Top N best answers\n",
      "[OrderedDict([('text', '16–10'), ('probability', 0.08197330859610061), ('start_logit', 2.24471116065979), ('end_logit', 2.212851047515869)]), OrderedDict([('text', '16'), ('probability', 0.07538915777266422), ('start_logit', 2.24471116065979), ('end_logit', 2.1291208267211914)]), OrderedDict([('text', '39-yard field goal, cutting the Panthers deficit to one score at 16–10'), ('probability', 0.060943604227302446), ('start_logit', 1.9482663869857788), ('end_logit', 2.212851047515869)]), OrderedDict([('text', '41-yard line'), ('probability', 0.05714831627418805), ('start_logit', 2.1004085540771484), ('end_logit', 1.9964098930358887)]), OrderedDict([('text', '39-yard field goal, cutting the Panthers deficit to one score at 16'), ('probability', 0.05604857328578618), ('start_logit', 1.9482663869857788), ('end_logit', 2.1291208267211914)]), OrderedDict([('text', \"Manning's hand as he was winding up for a pass, and then recovered it for Carolina on the 50-yard line\"), ('probability', 0.0556161655198733), ('start_logit', 2.105079174041748), ('end_logit', 1.964563250541687)]), OrderedDict([('text', \"Manning's hand as he was winding up for a pass, and then recovered it for Carolina on the 50\"), ('probability', 0.054014530099414856), ('start_logit', 2.105079174041748), ('end_logit', 1.9353424310684204)]), OrderedDict([('text', 'Manning'), ('probability', 0.04949651980618849), ('start_logit', 2.105079174041748), ('end_logit', 1.847991704940796)]), OrderedDict([('text', '41-yard line. On the next play, Ealy knocked the ball out of Manning'), ('probability', 0.04926587940870499), ('start_logit', 2.1004085540771484), ('end_logit', 1.847991704940796)]), OrderedDict([('text', '41-yard line. On the next play, Ealy'), ('probability', 0.04705205327485105), ('start_logit', 2.1004085540771484), ('end_logit', 1.8020144701004028)]), OrderedDict([('text', \"12-yard run by Stewart then set up Gano's 39-yard field goal, cutting the Panthers deficit to one score at 16–10\"), ('probability', 0.04569840377678118), ('start_logit', 1.6603808403015137), ('end_logit', 2.212851047515869)]), OrderedDict([('text', '41'), ('probability', 0.04338383588368621), ('start_logit', 2.1004085540771484), ('end_logit', 1.7208468914031982)]), OrderedDict([('text', '41-yard line. On the next play'), ('probability', 0.04302392443082894), ('start_logit', 2.1004085540771484), ('end_logit', 1.7125163078308105)]), OrderedDict([('text', '16–10. The next three drives of the game'), ('probability', 0.04228904619630909), ('start_logit', 2.24471116065979), ('end_logit', 1.5509854555130005)]), OrderedDict([('text', \"12-yard run by Stewart then set up Gano's 39-yard field goal, cutting the Panthers deficit to one score at 16\"), ('probability', 0.0420278775041484), ('start_logit', 1.6603808403015137), ('end_logit', 2.1291208267211914)]), OrderedDict([('text', '50-yard line'), ('probability', 0.04179361362719832), ('start_logit', 1.8193488121032715), ('end_logit', 1.964563250541687)]), OrderedDict([('text', '50'), ('probability', 0.04059004032600846), ('start_logit', 1.8193488121032715), ('end_logit', 1.9353424310684204)]), OrderedDict([('text', \"16-yard reception by Devin Funchess and a 12-yard run by Stewart then set up Gano's 39\"), ('probability', 0.038285174296850286), ('start_logit', 1.9598174095153809), ('end_logit', 1.736413836479187)]), OrderedDict([('text', 'fourth'), ('probability', 0.03811448999186287), ('start_logit', 1.5407391786575317), ('end_logit', 2.1510238647460938)]), OrderedDict([('text', '39'), ('probability', 0.0378454857012523), ('start_logit', 1.9482663869857788), ('end_logit', 1.736413836479187)])]\n",
      "-------------------------------------------------------------------------------------------------------------------\n"
     ]
    }
   ],
   "source": [
    "for i in [0, 10, 100]:\n",
    "    print('Paragraph:')\n",
    "    print(dev_df.iloc[i]['doc_text'])\n",
    "    print()\n",
    "    print('Question:')\n",
    "    print(dev_df.iloc[i]['question_text'])\n",
    "    print()\n",
    "    print('Ground truth answers:')\n",
    "    print(dev_df.iloc[i]['answer_text'])\n",
    "    print()\n",
    "    print('Predicted answer:')\n",
    "    print(final_answers[dev_df.iloc[i]['qa_id']])\n",
    "    print()\n",
    "    print('Top N best answers')\n",
    "    print(nbest_answers[dev_df.iloc[i]['qa_id']])\n",
    "    print('-------------------------------------------------------------------------------------------------------------------')"
   ]
  },
  {
   "cell_type": "markdown",
   "metadata": {},
   "source": [
    "## Evaluate"
   ]
  },
  {
   "cell_type": "markdown",
   "metadata": {},
   "source": [
    "Question answering task is usually evaluated on two metrics: exact match (EM) and F1 score.   \n",
    "The exact match is computed by first performing some simple normalization (e.g. remove punctuation and convert to lower case) on the ground truth and predicted answers and check if they match exactly after normalization.   \n",
    "F1 score is computed from token-level precision and recall by comparing the ground truth and predicted answers. "
   ]
  },
  {
   "cell_type": "code",
   "execution_count": 16,
   "metadata": {},
   "outputs": [
    {
     "name": "stdout",
     "output_type": "stream",
     "text": [
      "{\n",
      "  \"exact\": 4.716981132075472,\n",
      "  \"f1\": 10.085990166703944,\n",
      "  \"total\": 106,\n",
      "  \"HasAns_exact\": 4.716981132075472,\n",
      "  \"HasAns_f1\": 10.085990166703944,\n",
      "  \"HasAns_total\": 106\n",
      "}\n"
     ]
    }
   ],
   "source": [
    "evaluation_result = evaluate_qa(qa_ids=dev_df['qa_id'], \n",
    "                                actuals=dev_df['answer_text'], \n",
    "                                preds=final_answers)"
   ]
  },
  {
   "cell_type": "markdown",
   "metadata": {},
   "source": [
    "## References\n",
    "\n",
    "1. Devlin, Jacob and Chang, Ming-Wei and Lee, Kenton and Toutanova, Kristina, [*BERT: Pre-training of Deep Bidirectional Transformers for Language Understanding*](https://arxiv.org/abs/1810.04805), ACL, 2018.\n",
    "2. Pranav Rajpurkar, Jian Zhang, Konstantin Lopyrev, Percy Liang, [*SQuAD: 100,000+ Questions for Machine Comprehension of Text*](https://arxiv.org/abs/1606.05250), EMNLP, 2016.\n",
    "3. Pranav Rajpurkar, Robin Jia, Percy Liang, [*Know What You Don't Know: Unanswerable Questions for SQuAD*](https://arxiv.org/abs/1806.03822), ACL, 2018"
   ]
  }
 ],
 "metadata": {
  "celltoolbar": "Tags",
  "kernelspec": {
   "display_name": "nlp_gpu",
   "language": "python",
   "name": "nlp_gpu"
  },
  "language_info": {
   "codemirror_mode": {
    "name": "ipython",
    "version": 3
   },
   "file_extension": ".py",
   "mimetype": "text/x-python",
   "name": "python",
   "nbconvert_exporter": "python",
   "pygments_lexer": "ipython3",
   "version": "3.6.8"
  }
 },
 "nbformat": 4,
 "nbformat_minor": 2
}
