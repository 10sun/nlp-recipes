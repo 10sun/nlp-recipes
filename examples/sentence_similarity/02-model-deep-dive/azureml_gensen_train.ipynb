{
 "cells": [
  {
   "cell_type": "markdown",
   "metadata": {
    "pycharm": {
     "metadata": false
    }
   },
   "source": [
    "Copyright (c) Microsoft Corporation. All rights reserved.\n",
    "\n",
    "Licensed under the MIT License."
   ]
  },
  {
   "cell_type": "markdown",
   "metadata": {
    "pycharm": {
     "metadata": false
    }
   },
   "source": [
    "# Train GenSen Model with Distributed Pytorch on AML\n",
    "In this tutorial, you will train a GenSen model with PyTorch on AML using distributed training across a GPU cluster. This could also be a generic guideline to train models using GPU cluster.\n",
    "\n",
    "Regarding **AzureML**, please refer to:\n",
    "* [Quickstart notebook](https://docs.microsoft.com/en-us/azure/machine-learning/service/quickstart-create-workspace-with-python)\n",
    "* [Hyperdrive](https://docs.microsoft.com/en-us/azure/machine-learning/service/how-to-tune-hyperparameters)"
   ]
  },
  {
   "cell_type": "markdown",
   "metadata": {
    "pycharm": {
     "metadata": false
    }
   },
   "source": [
    "## 0. Global Settings"
   ]
  },
  {
   "cell_type": "code",
   "execution_count": 1,
   "metadata": {
    "pycharm": {
     "metadata": false,
     "name": "#%%\n"
    }
   },
   "outputs": [
    {
     "name": "stdout",
     "output_type": "stream",
     "text": [
      "System version: 3.6.8 |Anaconda, Inc.| (default, Feb 21 2019, 18:30:04) [MSC v.1916 64 bit (AMD64)]\n",
      "Azure ML SDK Version: 1.0.33\n",
      "Pandas version: 0.24.2\n"
     ]
    }
   ],
   "source": [
    "# set the environment path to find NLP\n",
    "import sys\n",
    "sys.path.append(\"../../../\")\n",
    "import time\n",
    "import os\n",
    "import papermill as pm\n",
    "import pandas as pd\n",
    "import shutil\n",
    "\n",
    "import azureml as aml\n",
    "import azureml.train.hyperdrive as hd\n",
    "\n",
    "from azureml.telemetry import set_diagnostics_collection\n",
    "from utils_nlp.dataset.preprocess import to_lowercase, to_nltk_tokens\n",
    "from utils_nlp.dataset import snli\n",
    "from models.gensen.amlcode.data_utils import gensen_preprocess\n",
    "\n",
    "print(\"System version: {}\".format(sys.version))\n",
    "print(\"Azure ML SDK Version:\", aml.core.VERSION)\n",
    "print(\"Pandas version: {}\".format(pd.__version__))"
   ]
  },
  {
   "cell_type": "code",
   "execution_count": 2,
   "metadata": {},
   "outputs": [],
   "source": [
    "BASE_DATA_PATH = '../../../data'"
   ]
  },
  {
   "cell_type": "markdown",
   "metadata": {
    "pycharm": {
     "metadata": false
    }
   },
   "source": [
    "\n",
    "Opt-in diagnostics for better experience, quality, and security of future releases."
   ]
  },
  {
   "cell_type": "code",
   "execution_count": 3,
   "metadata": {
    "pycharm": {
     "metadata": false,
     "name": "#%%\n"
    }
   },
   "outputs": [
    {
     "name": "stdout",
     "output_type": "stream",
     "text": [
      "Turning diagnostics collection on. \n"
     ]
    }
   ],
   "source": [
    "set_diagnostics_collection(send_diagnostics=True)"
   ]
  },
  {
   "cell_type": "markdown",
   "metadata": {
    "pycharm": {
     "metadata": false
    }
   },
   "source": [
    "We assume that an AzureML [Workspace](https://docs.microsoft.com/azure/machine-learning/service/concept-azure-machine-learning-architecture#workspace) has already been created. For instructions on how to do this, see [here](README.md)."
   ]
  },
  {
   "cell_type": "markdown",
   "metadata": {
    "pycharm": {
     "metadata": false
    }
   },
   "source": [
    "## 1 Initialize workspace\n",
    "\n",
    "We create a workspace object using the configurations specified in `aml_config/config.json` that you created in the prerequisite step."
   ]
  },
  {
   "cell_type": "code",
   "execution_count": 4,
   "metadata": {
    "pycharm": {
     "metadata": false,
     "name": "#%%\n"
    }
   },
   "outputs": [
    {
     "name": "stdout",
     "output_type": "stream",
     "text": [
      "AzureML workspace name:  MAIDAPNLP\n"
     ]
    }
   ],
   "source": [
    "# AzureML workspace info. Note, will look up \"./aml_config/config.json\" first, then fall back to using this\n",
    "SUBSCRIPTION_ID = '<subscription-id>'\n",
    "RESOURCE_GROUP  = '<resource-group>'\n",
    "WORKSPACE_NAME  = '<workspace-name>'\n",
    "\n",
    "# Connect to a workspace\n",
    "try:\n",
    "    ws = aml.core.Workspace.from_config()\n",
    "except aml.exceptions.UserErrorException:\n",
    "    try:\n",
    "        ws = aml.core.Workspace(\n",
    "            subscription_id=SUBSCRIPTION_ID,\n",
    "            resource_group=RESOURCE_GROUP,\n",
    "            workspace_name=WORKSPACE_NAME\n",
    "        )\n",
    "        ws.write_config()\n",
    "    except aml.exceptions.AuthenticationException:\n",
    "        ws = None\n",
    "\n",
    "if ws is None:\n",
    "    raise ValueError(\n",
    "        \"\"\"Cannot access the AzureML workspace w/ the config info provided.\n",
    "        Please check if you entered the correct id, group name and workspace name\"\"\"\n",
    "    )\n",
    "else:\n",
    "    print(\"AzureML workspace name: \", ws.name)"
   ]
  },
  {
   "cell_type": "markdown",
   "metadata": {
    "pycharm": {
     "metadata": false
    }
   },
   "source": [
    "Once you've created your workspace and set up your development environment, training a model in Azure Machine Learning involves the following steps:\n",
    "1. Create a remote compute target (note you can also use local computer as compute target)\n",
    "2. Prepare your training data and upload it to datastore\n",
    "3. Create your training script\n",
    "4. Create an Estimator object\n",
    "5. Submit the estimator to an experiment object under the workspace"
   ]
  },
  {
   "cell_type": "markdown",
   "metadata": {},
   "source": [
    "## 2 Create or load an existing compute target\n",
    "\n",
    "You will need to create a [compute target](https://docs.microsoft.com/azure/machine-learning/service/concept-azure-machine-learning-architecture#compute-target) for training your model. In this tutorial, we use Azure ML managed compute ([AmlCompute](https://docs.microsoft.com/azure/machine-learning/service/how-to-set-up-training-targets#amlcompute)) for our remote training compute resource. Specifically, the below code creates an `STANDARD_NC6` GPU cluster that autoscales from `0` to `4` nodes. \n",
    "\n",
    "**Creation of AmlCompute takes approximately 5 minutes.** If the AmlCompute with that name is already in your workspace, this code will skip the creation process and loads the cluster directly.\n",
    "\n",
    "As with other Azure services, there are limits on certain resources (e.g. AmlCompute) associated with the Azure Machine Learning service. Please read [this article](https://docs.microsoft.com/en-us/azure/machine-learning/service/how-to-manage-quotas) on the default limits and how to request more quota."
   ]
  },
  {
   "cell_type": "code",
   "execution_count": 5,
   "metadata": {
    "pycharm": {
     "metadata": false,
     "name": "#%%\n"
    }
   },
   "outputs": [
    {
     "name": "stdout",
     "output_type": "stream",
     "text": [
      "Found existing compute target.\n",
      "{'currentNodeCount': 0, 'targetNodeCount': 0, 'nodeStateCounts': {'preparingNodeCount': 0, 'runningNodeCount': 0, 'idleNodeCount': 0, 'unusableNodeCount': 0, 'leavingNodeCount': 0, 'preemptedNodeCount': 0}, 'allocationState': 'Steady', 'allocationStateTransitionTime': '2019-05-02T21:01:04.496000+00:00', 'errors': None, 'creationTime': '2019-04-17T17:21:26.968570+00:00', 'modifiedTime': '2019-04-17T17:27:28.740980+00:00', 'provisioningState': 'Succeeded', 'provisioningStateTransitionTime': None, 'scaleSettings': {'minNodeCount': 0, 'maxNodeCount': 4, 'nodeIdleTimeBeforeScaleDown': 'PT7200S'}, 'vmPriority': 'Dedicated', 'vmSize': 'STANDARD_NC6'}\n"
     ]
    }
   ],
   "source": [
    "from azureml.core.compute import ComputeTarget, AmlCompute\n",
    "from azureml.core.compute_target import ComputeTargetException\n",
    "\n",
    "VM_SIZE = 'STANDARD_NC6'\n",
    "VM_PRIORITY = 'lowpriority'\n",
    "MAX_NODES = 4\n",
    "\n",
    "# choose a name for your cluster\n",
    "cluster_name = \"gpucluster\"\n",
    "\n",
    "try:\n",
    "    compute_target = ComputeTarget(workspace=ws, name=cluster_name)\n",
    "    print('Found existing compute target.')\n",
    "except ComputeTargetException:\n",
    "    print('Creating a new compute target...')\n",
    "    compute_config = AmlCompute.provisioning_configuration(vm_size=VM_SIZE,\n",
    "                                                           max_nodes=MAX_NODES)\n",
    "\n",
    "    # create the cluster\n",
    "    compute_target = ComputeTarget.create(ws, cluster_name, compute_config)\n",
    "\n",
    "    compute_target.wait_for_completion(show_output=True)\n",
    "\n",
    "# use get_status() to get a detailed status for the current AmlCompute. \n",
    "print(compute_target.get_status().serialize())"
   ]
  },
  {
   "cell_type": "markdown",
   "metadata": {},
   "source": [
    "## 3. Prepare dataset.\n",
    "\n",
    "In this section, we will\n",
    "1. Download the dataset and load the dataset.\n",
    "2. Tokenize and reshape the dataset for Gensen.\n",
    "3. Upload the training set to the default blob storage of the workspace.\n",
    "\n",
    "We use the [SNLI](https://nlp.stanford.edu/projects/snli/) dataset in this example. For a more detailed walkthrough about data processing jump to [SNLI Data Prep](../01-prep-data/snli.ipynb)"
   ]
  },
  {
   "cell_type": "markdown",
   "metadata": {},
   "source": [
    "### 3.1 Load the dataset"
   ]
  },
  {
   "cell_type": "code",
   "execution_count": 6,
   "metadata": {},
   "outputs": [
    {
     "data": {
      "text/html": [
       "<div>\n",
       "<style scoped>\n",
       "    .dataframe tbody tr th:only-of-type {\n",
       "        vertical-align: middle;\n",
       "    }\n",
       "\n",
       "    .dataframe tbody tr th {\n",
       "        vertical-align: top;\n",
       "    }\n",
       "\n",
       "    .dataframe thead th {\n",
       "        text-align: right;\n",
       "    }\n",
       "</style>\n",
       "<table border=\"1\" class=\"dataframe\">\n",
       "  <thead>\n",
       "    <tr style=\"text-align: right;\">\n",
       "      <th></th>\n",
       "      <th>gold_label</th>\n",
       "      <th>sentence1_binary_parse</th>\n",
       "      <th>sentence2_binary_parse</th>\n",
       "      <th>sentence1_parse</th>\n",
       "      <th>sentence2_parse</th>\n",
       "      <th>sentence1</th>\n",
       "      <th>sentence2</th>\n",
       "      <th>captionID</th>\n",
       "      <th>pairID</th>\n",
       "      <th>label1</th>\n",
       "      <th>label2</th>\n",
       "      <th>label3</th>\n",
       "      <th>label4</th>\n",
       "      <th>label5</th>\n",
       "    </tr>\n",
       "  </thead>\n",
       "  <tbody>\n",
       "    <tr>\n",
       "      <th>0</th>\n",
       "      <td>neutral</td>\n",
       "      <td>( ( ( A person ) ( on ( a horse ) ) ) ( ( jump...</td>\n",
       "      <td>( ( A person ) ( ( is ( ( training ( his horse...</td>\n",
       "      <td>(ROOT (S (NP (NP (DT A) (NN person)) (PP (IN o...</td>\n",
       "      <td>(ROOT (S (NP (DT A) (NN person)) (VP (VBZ is) ...</td>\n",
       "      <td>A person on a horse jumps over a broken down a...</td>\n",
       "      <td>A person is training his horse for a competition.</td>\n",
       "      <td>3416050480.jpg#4</td>\n",
       "      <td>3416050480.jpg#4r1n</td>\n",
       "      <td>neutral</td>\n",
       "      <td>NaN</td>\n",
       "      <td>NaN</td>\n",
       "      <td>NaN</td>\n",
       "      <td>NaN</td>\n",
       "    </tr>\n",
       "    <tr>\n",
       "      <th>1</th>\n",
       "      <td>contradiction</td>\n",
       "      <td>( ( ( A person ) ( on ( a horse ) ) ) ( ( jump...</td>\n",
       "      <td>( ( A person ) ( ( ( ( is ( at ( a diner ) ) )...</td>\n",
       "      <td>(ROOT (S (NP (NP (DT A) (NN person)) (PP (IN o...</td>\n",
       "      <td>(ROOT (S (NP (DT A) (NN person)) (VP (VBZ is) ...</td>\n",
       "      <td>A person on a horse jumps over a broken down a...</td>\n",
       "      <td>A person is at a diner, ordering an omelette.</td>\n",
       "      <td>3416050480.jpg#4</td>\n",
       "      <td>3416050480.jpg#4r1c</td>\n",
       "      <td>contradiction</td>\n",
       "      <td>NaN</td>\n",
       "      <td>NaN</td>\n",
       "      <td>NaN</td>\n",
       "      <td>NaN</td>\n",
       "    </tr>\n",
       "    <tr>\n",
       "      <th>2</th>\n",
       "      <td>entailment</td>\n",
       "      <td>( ( ( A person ) ( on ( a horse ) ) ) ( ( jump...</td>\n",
       "      <td>( ( A person ) ( ( ( ( is outdoors ) , ) ( on ...</td>\n",
       "      <td>(ROOT (S (NP (NP (DT A) (NN person)) (PP (IN o...</td>\n",
       "      <td>(ROOT (S (NP (DT A) (NN person)) (VP (VBZ is) ...</td>\n",
       "      <td>A person on a horse jumps over a broken down a...</td>\n",
       "      <td>A person is outdoors, on a horse.</td>\n",
       "      <td>3416050480.jpg#4</td>\n",
       "      <td>3416050480.jpg#4r1e</td>\n",
       "      <td>entailment</td>\n",
       "      <td>NaN</td>\n",
       "      <td>NaN</td>\n",
       "      <td>NaN</td>\n",
       "      <td>NaN</td>\n",
       "    </tr>\n",
       "    <tr>\n",
       "      <th>3</th>\n",
       "      <td>neutral</td>\n",
       "      <td>( Children ( ( ( smiling and ) waving ) ( at c...</td>\n",
       "      <td>( They ( are ( smiling ( at ( their parents ) ...</td>\n",
       "      <td>(ROOT (NP (S (NP (NNP Children)) (VP (VBG smil...</td>\n",
       "      <td>(ROOT (S (NP (PRP They)) (VP (VBP are) (VP (VB...</td>\n",
       "      <td>Children smiling and waving at camera</td>\n",
       "      <td>They are smiling at their parents</td>\n",
       "      <td>2267923837.jpg#2</td>\n",
       "      <td>2267923837.jpg#2r1n</td>\n",
       "      <td>neutral</td>\n",
       "      <td>NaN</td>\n",
       "      <td>NaN</td>\n",
       "      <td>NaN</td>\n",
       "      <td>NaN</td>\n",
       "    </tr>\n",
       "    <tr>\n",
       "      <th>4</th>\n",
       "      <td>entailment</td>\n",
       "      <td>( Children ( ( ( smiling and ) waving ) ( at c...</td>\n",
       "      <td>( There ( ( are children ) present ) )</td>\n",
       "      <td>(ROOT (NP (S (NP (NNP Children)) (VP (VBG smil...</td>\n",
       "      <td>(ROOT (S (NP (EX There)) (VP (VBP are) (NP (NN...</td>\n",
       "      <td>Children smiling and waving at camera</td>\n",
       "      <td>There are children present</td>\n",
       "      <td>2267923837.jpg#2</td>\n",
       "      <td>2267923837.jpg#2r1e</td>\n",
       "      <td>entailment</td>\n",
       "      <td>NaN</td>\n",
       "      <td>NaN</td>\n",
       "      <td>NaN</td>\n",
       "      <td>NaN</td>\n",
       "    </tr>\n",
       "  </tbody>\n",
       "</table>\n",
       "</div>"
      ],
      "text/plain": [
       "      gold_label                             sentence1_binary_parse  \\\n",
       "0        neutral  ( ( ( A person ) ( on ( a horse ) ) ) ( ( jump...   \n",
       "1  contradiction  ( ( ( A person ) ( on ( a horse ) ) ) ( ( jump...   \n",
       "2     entailment  ( ( ( A person ) ( on ( a horse ) ) ) ( ( jump...   \n",
       "3        neutral  ( Children ( ( ( smiling and ) waving ) ( at c...   \n",
       "4     entailment  ( Children ( ( ( smiling and ) waving ) ( at c...   \n",
       "\n",
       "                              sentence2_binary_parse  \\\n",
       "0  ( ( A person ) ( ( is ( ( training ( his horse...   \n",
       "1  ( ( A person ) ( ( ( ( is ( at ( a diner ) ) )...   \n",
       "2  ( ( A person ) ( ( ( ( is outdoors ) , ) ( on ...   \n",
       "3  ( They ( are ( smiling ( at ( their parents ) ...   \n",
       "4             ( There ( ( are children ) present ) )   \n",
       "\n",
       "                                     sentence1_parse  \\\n",
       "0  (ROOT (S (NP (NP (DT A) (NN person)) (PP (IN o...   \n",
       "1  (ROOT (S (NP (NP (DT A) (NN person)) (PP (IN o...   \n",
       "2  (ROOT (S (NP (NP (DT A) (NN person)) (PP (IN o...   \n",
       "3  (ROOT (NP (S (NP (NNP Children)) (VP (VBG smil...   \n",
       "4  (ROOT (NP (S (NP (NNP Children)) (VP (VBG smil...   \n",
       "\n",
       "                                     sentence2_parse  \\\n",
       "0  (ROOT (S (NP (DT A) (NN person)) (VP (VBZ is) ...   \n",
       "1  (ROOT (S (NP (DT A) (NN person)) (VP (VBZ is) ...   \n",
       "2  (ROOT (S (NP (DT A) (NN person)) (VP (VBZ is) ...   \n",
       "3  (ROOT (S (NP (PRP They)) (VP (VBP are) (VP (VB...   \n",
       "4  (ROOT (S (NP (EX There)) (VP (VBP are) (NP (NN...   \n",
       "\n",
       "                                           sentence1  \\\n",
       "0  A person on a horse jumps over a broken down a...   \n",
       "1  A person on a horse jumps over a broken down a...   \n",
       "2  A person on a horse jumps over a broken down a...   \n",
       "3              Children smiling and waving at camera   \n",
       "4              Children smiling and waving at camera   \n",
       "\n",
       "                                           sentence2         captionID  \\\n",
       "0  A person is training his horse for a competition.  3416050480.jpg#4   \n",
       "1      A person is at a diner, ordering an omelette.  3416050480.jpg#4   \n",
       "2                  A person is outdoors, on a horse.  3416050480.jpg#4   \n",
       "3                  They are smiling at their parents  2267923837.jpg#2   \n",
       "4                         There are children present  2267923837.jpg#2   \n",
       "\n",
       "                pairID         label1 label2 label3 label4 label5  \n",
       "0  3416050480.jpg#4r1n        neutral    NaN    NaN    NaN    NaN  \n",
       "1  3416050480.jpg#4r1c  contradiction    NaN    NaN    NaN    NaN  \n",
       "2  3416050480.jpg#4r1e     entailment    NaN    NaN    NaN    NaN  \n",
       "3  2267923837.jpg#2r1n        neutral    NaN    NaN    NaN    NaN  \n",
       "4  2267923837.jpg#2r1e     entailment    NaN    NaN    NaN    NaN  "
      ]
     },
     "execution_count": 6,
     "metadata": {},
     "output_type": "execute_result"
    }
   ],
   "source": [
    "# defaults to txt\n",
    "train = snli.load_pandas_df(BASE_DATA_PATH, file_split=\"train\")\n",
    "\n",
    "#load dataframe from jsonl file format\n",
    "dev = snli.load_pandas_df(BASE_DATA_PATH, file_split=\"dev\", file_type=\"txt\")\n",
    "\n",
    "#specify txt format \n",
    "test = snli.load_pandas_df(BASE_DATA_PATH, file_split=\"test\", file_type=\"txt\")\n",
    "\n",
    "train.head()"
   ]
  },
  {
   "cell_type": "markdown",
   "metadata": {},
   "source": [
    "### 3.2 Tokenize"
   ]
  },
  {
   "cell_type": "code",
   "execution_count": 8,
   "metadata": {},
   "outputs": [],
   "source": [
    "def clean(df, file_split):\n",
    "    src_file_path = os.path.join(BASE_DATA_PATH, \"raw/snli_1.0/snli_1.0_{}.txt\".format(file_split))\n",
    "    if not os.path.exists(os.path.join(BASE_DATA_PATH, \"clean/snli_1.0\")):\n",
    "        os.makedirs(os.path.join(BASE_DATA_PATH, \"clean/snli_1.0\"))\n",
    "    dest_file_path = os.path.join(BASE_DATA_PATH, \"clean/snli_1.0/snli_1.0_{}.txt\".format(file_split))\n",
    "    clean_df = snli.clean_snli(src_file_path).dropna() # drop rows with any NaN vals\n",
    "    clean_df.to_csv(dest_file_path)\n",
    "    return clean_df\n",
    "\n",
    "train = clean(train, 'train')\n",
    "dev = clean(dev, 'dev')\n",
    "test = clean(test, 'test')"
   ]
  },
  {
   "cell_type": "code",
   "execution_count": 9,
   "metadata": {},
   "outputs": [
    {
     "name": "stderr",
     "output_type": "stream",
     "text": [
      "[nltk_data] Downloading package punkt to\n",
      "[nltk_data]     C:\\Users\\abeswara\\AppData\\Roaming\\nltk_data...\n",
      "[nltk_data]   Package punkt is already up-to-date!\n",
      "[nltk_data] Downloading package punkt to\n",
      "[nltk_data]     C:\\Users\\abeswara\\AppData\\Roaming\\nltk_data...\n",
      "[nltk_data]   Package punkt is already up-to-date!\n",
      "[nltk_data] Downloading package punkt to\n",
      "[nltk_data]     C:\\Users\\abeswara\\AppData\\Roaming\\nltk_data...\n",
      "[nltk_data]   Package punkt is already up-to-date!\n"
     ]
    }
   ],
   "source": [
    "train_tok = to_nltk_tokens(to_lowercase(train))\n",
    "dev_tok = to_nltk_tokens(to_lowercase(dev))\n",
    "test_tok = to_nltk_tokens(to_lowercase(test))"
   ]
  },
  {
   "cell_type": "markdown",
   "metadata": {},
   "source": [
    "Gensen also needs some model specific preprocessing which we run through below"
   ]
  },
  {
   "cell_type": "code",
   "execution_count": 10,
   "metadata": {},
   "outputs": [],
   "source": [
    "gensen_preprocess(train_tok, dev_tok, test_tok, os.path.abspath(BASE_DATA_PATH))"
   ]
  },
  {
   "cell_type": "markdown",
   "metadata": {},
   "source": [
    "We make the data accessible remotely by uploading that data from your local machine into Azure. Then it can be accessed for remote training. The datastore is a convenient construct associated with your workspace for you to upload or download data. You can also interact with it from your remote compute targets. It's backed by an Azure Blob storage account."
   ]
  },
  {
   "cell_type": "code",
   "execution_count": 21,
   "metadata": {
    "scrolled": false
   },
   "outputs": [
    {
     "name": "stdout",
     "output_type": "stream",
     "text": [
      "AzureBlob maidapnlp0056795534 azureml-blobstore-09b72610-7938-4ed2-86a2-5004896b12d9\n",
      "Uploading ../../../data\\clean/snli_1.0/snli_1.0_dev.txt\n",
      "Uploading ../../../data\\clean/snli_1.0/snli_1.0_dev.txt.clean\n",
      "Uploading ../../../data\\clean/snli_1.0/snli_1.0_dev.txt.lab\n",
      "Uploading ../../../data\\clean/snli_1.0/snli_1.0_dev.txt.s1.tok\n",
      "Uploading ../../../data\\clean/snli_1.0/snli_1.0_dev.txt.s2.tok\n",
      "Uploading ../../../data\\clean/snli_1.0/snli_1.0_test.txt\n",
      "Uploading ../../../data\\clean/snli_1.0/snli_1.0_test.txt.clean\n",
      "Uploading ../../../data\\clean/snli_1.0/snli_1.0_test.txt.lab\n",
      "Uploading ../../../data\\clean/snli_1.0/snli_1.0_test.txt.s1.tok\n",
      "Uploading ../../../data\\clean/snli_1.0/snli_1.0_test.txt.s2.tok\n",
      "Uploading ../../../data\\clean/snli_1.0/snli_1.0_train.txt\n",
      "Uploading ../../../data\\clean/snli_1.0/snli_1.0_train.txt.clean\n",
      "Uploading ../../../data\\clean/snli_1.0/snli_1.0_train.txt.lab\n",
      "Uploading ../../../data\\clean/snli_1.0/snli_1.0_train.txt.s1.tok\n",
      "Uploading ../../../data\\clean/snli_1.0/snli_1.0_train.txt.s2.tok\n"
     ]
    },
    {
     "name": "stderr",
     "output_type": "stream",
     "text": [
      "--- Logging error ---\n",
      "Traceback (most recent call last):\n",
      "  File \"C:\\Users\\abeswara\\AppData\\Local\\Continuum\\anaconda3\\envs\\nlp\\lib\\site-packages\\azureml\\data\\azure_storage_datastore.py\", line 256, in handler\n",
      "    result = fn()\n",
      "  File \"C:\\Users\\abeswara\\AppData\\Local\\Continuum\\anaconda3\\envs\\nlp\\lib\\site-packages\\azureml\\data\\azure_storage_datastore.py\", line 576, in <lambda>\n",
      "    lambda target, source: lambda: self.blob_service.create_blob_from_path(self.container_name, target, source)\n",
      "  File \"C:\\Users\\abeswara\\AppData\\Local\\Continuum\\anaconda3\\envs\\nlp\\lib\\site-packages\\azureml\\_vendor\\azure_storage\\blob\\blockblobservice.py\", line 463, in create_blob_from_path\n",
      "    timeout=timeout)\n",
      "  File \"C:\\Users\\abeswara\\AppData\\Local\\Continuum\\anaconda3\\envs\\nlp\\lib\\site-packages\\azureml\\_vendor\\azure_storage\\blob\\blockblobservice.py\", line 582, in create_blob_from_stream\n",
      "    timeout=timeout)\n",
      "  File \"C:\\Users\\abeswara\\AppData\\Local\\Continuum\\anaconda3\\envs\\nlp\\lib\\site-packages\\azureml\\_vendor\\azure_storage\\blob\\blockblobservice.py\", line 971, in _put_blob\n",
      "    return self._perform_request(request, _parse_base_properties)\n",
      "  File \"C:\\Users\\abeswara\\AppData\\Local\\Continuum\\anaconda3\\envs\\nlp\\lib\\site-packages\\azureml\\_vendor\\azure_storage\\common\\storageclient.py\", line 381, in _perform_request\n",
      "    raise ex\n",
      "  File \"C:\\Users\\abeswara\\AppData\\Local\\Continuum\\anaconda3\\envs\\nlp\\lib\\site-packages\\azureml\\_vendor\\azure_storage\\common\\storageclient.py\", line 306, in _perform_request\n",
      "    raise ex\n",
      "  File \"C:\\Users\\abeswara\\AppData\\Local\\Continuum\\anaconda3\\envs\\nlp\\lib\\site-packages\\azureml\\_vendor\\azure_storage\\common\\storageclient.py\", line 292, in _perform_request\n",
      "    HTTPError(response.status, response.message, response.headers, response.body))\n",
      "  File \"C:\\Users\\abeswara\\AppData\\Local\\Continuum\\anaconda3\\envs\\nlp\\lib\\site-packages\\azureml\\_vendor\\azure_storage\\common\\_error.py\", line 115, in _http_error_handler\n",
      "    raise ex\n",
      "azure.common.AzureHttpError: Forbidden\n",
      "<!DOCTYPE HTML PUBLIC \"-//W3C//DTD HTML 4.01//EN\"\"http://www.w3.org/TR/html4/strict.dtd\">\n",
      "<HTML><HEAD><TITLE>Forbidden</TITLE>\n",
      "<META HTTP-EQUIV=\"Content-Type\" Content=\"text/html; charset=us-ascii\"></HEAD>\n",
      "<BODY><h2>Forbidden URL</h2>\n",
      "<hr><p>HTTP Error 403. The request URL is forbidden.</p>\n",
      "</BODY></HTML>\n",
      "\n",
      "\n",
      "During handling of the above exception, another exception occurred:\n",
      "\n",
      "Traceback (most recent call last):\n",
      "  File \"C:\\Users\\abeswara\\AppData\\Local\\Continuum\\anaconda3\\envs\\nlp\\lib\\logging\\__init__.py\", line 994, in emit\n",
      "    msg = self.format(record)\n",
      "  File \"C:\\Users\\abeswara\\AppData\\Local\\Continuum\\anaconda3\\envs\\nlp\\lib\\logging\\__init__.py\", line 840, in format\n",
      "    return fmt.format(record)\n",
      "  File \"C:\\Users\\abeswara\\AppData\\Local\\Continuum\\anaconda3\\envs\\nlp\\lib\\logging\\__init__.py\", line 577, in format\n",
      "    record.message = record.getMessage()\n",
      "  File \"C:\\Users\\abeswara\\AppData\\Local\\Continuum\\anaconda3\\envs\\nlp\\lib\\logging\\__init__.py\", line 338, in getMessage\n",
      "    msg = msg % self.args\n",
      "TypeError: not all arguments converted during string formatting\n",
      "Call stack:\n",
      "  File \"C:\\Users\\abeswara\\AppData\\Local\\Continuum\\anaconda3\\envs\\nlp\\lib\\threading.py\", line 884, in _bootstrap\n",
      "    self._bootstrap_inner()\n",
      "  File \"C:\\Users\\abeswara\\AppData\\Local\\Continuum\\anaconda3\\envs\\nlp\\lib\\threading.py\", line 916, in _bootstrap_inner\n",
      "    self.run()\n",
      "  File \"C:\\Users\\abeswara\\AppData\\Local\\Continuum\\anaconda3\\envs\\nlp\\lib\\threading.py\", line 864, in run\n",
      "    self._target(*self._args, **self._kwargs)\n",
      "  File \"C:\\Users\\abeswara\\AppData\\Local\\Continuum\\anaconda3\\envs\\nlp\\lib\\site-packages\\azureml\\_history\\utils\\task_queue.py\", line 57, in _awaiter\n",
      "    result = task.wait()\n",
      "  File \"C:\\Users\\abeswara\\AppData\\Local\\Continuum\\anaconda3\\envs\\nlp\\lib\\site-packages\\azureml\\_history\\utils\\async_task.py\", line 48, in wait\n",
      "    return self._handler(self._task, self._logger)\n",
      "  File \"C:\\Users\\abeswara\\AppData\\Local\\Continuum\\anaconda3\\envs\\nlp\\lib\\site-packages\\azureml\\data\\azure_storage_datastore.py\", line 263, in handler\n",
      "    logger.error(\"Task Exception\", e)\n",
      "Message: 'Task Exception'\n",
      "Arguments: (AzureHttpError('Forbidden\\n<!DOCTYPE HTML PUBLIC \"-//W3C//DTD HTML 4.01//EN\"\"http://www.w3.org/TR/html4/strict.dtd\">\\r\\n<HTML><HEAD><TITLE>Forbidden</TITLE>\\r\\n<META HTTP-EQUIV=\"Content-Type\" Content=\"text/html; charset=us-ascii\"></HEAD>\\r\\n<BODY><h2>Forbidden URL</h2>\\r\\n<hr><p>HTTP Error 403. The request URL is forbidden.</p>\\r\\n</BODY></HTML>\\r\\n',),)\n",
      "--- Logging error ---\n",
      "Traceback (most recent call last):\n",
      "  File \"C:\\Users\\abeswara\\AppData\\Local\\Continuum\\anaconda3\\envs\\nlp\\lib\\site-packages\\azureml\\data\\azure_storage_datastore.py\", line 256, in handler\n",
      "    result = fn()\n",
      "  File \"C:\\Users\\abeswara\\AppData\\Local\\Continuum\\anaconda3\\envs\\nlp\\lib\\site-packages\\azureml\\data\\azure_storage_datastore.py\", line 576, in <lambda>\n",
      "    lambda target, source: lambda: self.blob_service.create_blob_from_path(self.container_name, target, source)\n",
      "  File \"C:\\Users\\abeswara\\AppData\\Local\\Continuum\\anaconda3\\envs\\nlp\\lib\\site-packages\\azureml\\_vendor\\azure_storage\\blob\\blockblobservice.py\", line 463, in create_blob_from_path\n",
      "    timeout=timeout)\n",
      "  File \"C:\\Users\\abeswara\\AppData\\Local\\Continuum\\anaconda3\\envs\\nlp\\lib\\site-packages\\azureml\\_vendor\\azure_storage\\blob\\blockblobservice.py\", line 582, in create_blob_from_stream\n",
      "    timeout=timeout)\n",
      "  File \"C:\\Users\\abeswara\\AppData\\Local\\Continuum\\anaconda3\\envs\\nlp\\lib\\site-packages\\azureml\\_vendor\\azure_storage\\blob\\blockblobservice.py\", line 971, in _put_blob\n",
      "    return self._perform_request(request, _parse_base_properties)\n",
      "  File \"C:\\Users\\abeswara\\AppData\\Local\\Continuum\\anaconda3\\envs\\nlp\\lib\\site-packages\\azureml\\_vendor\\azure_storage\\common\\storageclient.py\", line 381, in _perform_request\n",
      "    raise ex\n",
      "  File \"C:\\Users\\abeswara\\AppData\\Local\\Continuum\\anaconda3\\envs\\nlp\\lib\\site-packages\\azureml\\_vendor\\azure_storage\\common\\storageclient.py\", line 306, in _perform_request\n",
      "    raise ex\n",
      "  File \"C:\\Users\\abeswara\\AppData\\Local\\Continuum\\anaconda3\\envs\\nlp\\lib\\site-packages\\azureml\\_vendor\\azure_storage\\common\\storageclient.py\", line 292, in _perform_request\n",
      "    HTTPError(response.status, response.message, response.headers, response.body))\n",
      "  File \"C:\\Users\\abeswara\\AppData\\Local\\Continuum\\anaconda3\\envs\\nlp\\lib\\site-packages\\azureml\\_vendor\\azure_storage\\common\\_error.py\", line 115, in _http_error_handler\n",
      "    raise ex\n",
      "azure.common.AzureHttpError: Forbidden\n",
      "<!DOCTYPE HTML PUBLIC \"-//W3C//DTD HTML 4.01//EN\"\"http://www.w3.org/TR/html4/strict.dtd\">\n",
      "<HTML><HEAD><TITLE>Forbidden</TITLE>\n",
      "<META HTTP-EQUIV=\"Content-Type\" Content=\"text/html; charset=us-ascii\"></HEAD>\n",
      "<BODY><h2>Forbidden URL</h2>\n",
      "<hr><p>HTTP Error 403. The request URL is forbidden.</p>\n",
      "</BODY></HTML>\n",
      "\n",
      "\n",
      "During handling of the above exception, another exception occurred:\n",
      "\n",
      "Traceback (most recent call last):\n",
      "  File \"C:\\Users\\abeswara\\AppData\\Local\\Continuum\\anaconda3\\envs\\nlp\\lib\\logging\\__init__.py\", line 994, in emit\n",
      "    msg = self.format(record)\n",
      "  File \"C:\\Users\\abeswara\\AppData\\Local\\Continuum\\anaconda3\\envs\\nlp\\lib\\logging\\__init__.py\", line 840, in format\n",
      "    return fmt.format(record)\n",
      "  File \"C:\\Users\\abeswara\\AppData\\Local\\Continuum\\anaconda3\\envs\\nlp\\lib\\logging\\__init__.py\", line 577, in format\n",
      "    record.message = record.getMessage()\n",
      "  File \"C:\\Users\\abeswara\\AppData\\Local\\Continuum\\anaconda3\\envs\\nlp\\lib\\logging\\__init__.py\", line 338, in getMessage\n",
      "    msg = msg % self.args\n",
      "TypeError: not all arguments converted during string formatting\n",
      "Call stack:\n",
      "  File \"C:\\Users\\abeswara\\AppData\\Local\\Continuum\\anaconda3\\envs\\nlp\\lib\\threading.py\", line 884, in _bootstrap\n",
      "    self._bootstrap_inner()\n",
      "  File \"C:\\Users\\abeswara\\AppData\\Local\\Continuum\\anaconda3\\envs\\nlp\\lib\\threading.py\", line 916, in _bootstrap_inner\n",
      "    self.run()\n",
      "  File \"C:\\Users\\abeswara\\AppData\\Local\\Continuum\\anaconda3\\envs\\nlp\\lib\\threading.py\", line 864, in run\n",
      "    self._target(*self._args, **self._kwargs)\n",
      "  File \"C:\\Users\\abeswara\\AppData\\Local\\Continuum\\anaconda3\\envs\\nlp\\lib\\site-packages\\azureml\\_history\\utils\\task_queue.py\", line 57, in _awaiter\n",
      "    result = task.wait()\n",
      "  File \"C:\\Users\\abeswara\\AppData\\Local\\Continuum\\anaconda3\\envs\\nlp\\lib\\site-packages\\azureml\\_history\\utils\\async_task.py\", line 48, in wait\n",
      "    return self._handler(self._task, self._logger)\n"
     ]
    },
    {
     "name": "stderr",
     "output_type": "stream",
     "text": [
      "  File \"C:\\Users\\abeswara\\AppData\\Local\\Continuum\\anaconda3\\envs\\nlp\\lib\\site-packages\\azureml\\data\\azure_storage_datastore.py\", line 263, in handler\n",
      "    logger.error(\"Task Exception\", e)\n",
      "Message: 'Task Exception'\n",
      "Arguments: (AzureHttpError('Forbidden\\n<!DOCTYPE HTML PUBLIC \"-//W3C//DTD HTML 4.01//EN\"\"http://www.w3.org/TR/html4/strict.dtd\">\\r\\n<HTML><HEAD><TITLE>Forbidden</TITLE>\\r\\n<META HTTP-EQUIV=\"Content-Type\" Content=\"text/html; charset=us-ascii\"></HEAD>\\r\\n<BODY><h2>Forbidden URL</h2>\\r\\n<hr><p>HTTP Error 403. The request URL is forbidden.</p>\\r\\n</BODY></HTML>\\r\\n',),)\n",
      "--- Logging error ---\n",
      "Traceback (most recent call last):\n",
      "  File \"C:\\Users\\abeswara\\AppData\\Local\\Continuum\\anaconda3\\envs\\nlp\\lib\\site-packages\\azureml\\data\\azure_storage_datastore.py\", line 256, in handler\n",
      "    result = fn()\n",
      "  File \"C:\\Users\\abeswara\\AppData\\Local\\Continuum\\anaconda3\\envs\\nlp\\lib\\site-packages\\azureml\\data\\azure_storage_datastore.py\", line 576, in <lambda>\n",
      "    lambda target, source: lambda: self.blob_service.create_blob_from_path(self.container_name, target, source)\n",
      "  File \"C:\\Users\\abeswara\\AppData\\Local\\Continuum\\anaconda3\\envs\\nlp\\lib\\site-packages\\azureml\\_vendor\\azure_storage\\blob\\blockblobservice.py\", line 463, in create_blob_from_path\n",
      "    timeout=timeout)\n",
      "  File \"C:\\Users\\abeswara\\AppData\\Local\\Continuum\\anaconda3\\envs\\nlp\\lib\\site-packages\\azureml\\_vendor\\azure_storage\\blob\\blockblobservice.py\", line 582, in create_blob_from_stream\n",
      "    timeout=timeout)\n",
      "  File \"C:\\Users\\abeswara\\AppData\\Local\\Continuum\\anaconda3\\envs\\nlp\\lib\\site-packages\\azureml\\_vendor\\azure_storage\\blob\\blockblobservice.py\", line 971, in _put_blob\n",
      "    return self._perform_request(request, _parse_base_properties)\n",
      "  File \"C:\\Users\\abeswara\\AppData\\Local\\Continuum\\anaconda3\\envs\\nlp\\lib\\site-packages\\azureml\\_vendor\\azure_storage\\common\\storageclient.py\", line 381, in _perform_request\n",
      "    raise ex\n",
      "  File \"C:\\Users\\abeswara\\AppData\\Local\\Continuum\\anaconda3\\envs\\nlp\\lib\\site-packages\\azureml\\_vendor\\azure_storage\\common\\storageclient.py\", line 306, in _perform_request\n",
      "    raise ex\n",
      "  File \"C:\\Users\\abeswara\\AppData\\Local\\Continuum\\anaconda3\\envs\\nlp\\lib\\site-packages\\azureml\\_vendor\\azure_storage\\common\\storageclient.py\", line 292, in _perform_request\n",
      "    HTTPError(response.status, response.message, response.headers, response.body))\n",
      "  File \"C:\\Users\\abeswara\\AppData\\Local\\Continuum\\anaconda3\\envs\\nlp\\lib\\site-packages\\azureml\\_vendor\\azure_storage\\common\\_error.py\", line 115, in _http_error_handler\n",
      "    raise ex\n",
      "azure.common.AzureHttpError: Forbidden\n",
      "<!DOCTYPE HTML PUBLIC \"-//W3C//DTD HTML 4.01//EN\"\"http://www.w3.org/TR/html4/strict.dtd\">\n",
      "<HTML><HEAD><TITLE>Forbidden</TITLE>\n",
      "<META HTTP-EQUIV=\"Content-Type\" Content=\"text/html; charset=us-ascii\"></HEAD>\n",
      "<BODY><h2>Forbidden URL</h2>\n",
      "<hr><p>HTTP Error 403. The request URL is forbidden.</p>\n",
      "</BODY></HTML>\n",
      "\n",
      "\n",
      "During handling of the above exception, another exception occurred:\n",
      "\n",
      "Traceback (most recent call last):\n",
      "  File \"C:\\Users\\abeswara\\AppData\\Local\\Continuum\\anaconda3\\envs\\nlp\\lib\\logging\\__init__.py\", line 994, in emit\n",
      "    msg = self.format(record)\n",
      "  File \"C:\\Users\\abeswara\\AppData\\Local\\Continuum\\anaconda3\\envs\\nlp\\lib\\logging\\__init__.py\", line 840, in format\n",
      "    return fmt.format(record)\n",
      "  File \"C:\\Users\\abeswara\\AppData\\Local\\Continuum\\anaconda3\\envs\\nlp\\lib\\logging\\__init__.py\", line 577, in format\n",
      "    record.message = record.getMessage()\n",
      "  File \"C:\\Users\\abeswara\\AppData\\Local\\Continuum\\anaconda3\\envs\\nlp\\lib\\logging\\__init__.py\", line 338, in getMessage\n",
      "    msg = msg % self.args\n",
      "TypeError: not all arguments converted during string formatting\n",
      "Call stack:\n",
      "  File \"C:\\Users\\abeswara\\AppData\\Local\\Continuum\\anaconda3\\envs\\nlp\\lib\\threading.py\", line 884, in _bootstrap\n",
      "    self._bootstrap_inner()\n",
      "  File \"C:\\Users\\abeswara\\AppData\\Local\\Continuum\\anaconda3\\envs\\nlp\\lib\\threading.py\", line 916, in _bootstrap_inner\n",
      "    self.run()\n",
      "  File \"C:\\Users\\abeswara\\AppData\\Local\\Continuum\\anaconda3\\envs\\nlp\\lib\\threading.py\", line 864, in run\n",
      "    self._target(*self._args, **self._kwargs)\n",
      "  File \"C:\\Users\\abeswara\\AppData\\Local\\Continuum\\anaconda3\\envs\\nlp\\lib\\site-packages\\azureml\\_history\\utils\\task_queue.py\", line 57, in _awaiter\n",
      "    result = task.wait()\n",
      "  File \"C:\\Users\\abeswara\\AppData\\Local\\Continuum\\anaconda3\\envs\\nlp\\lib\\site-packages\\azureml\\_history\\utils\\async_task.py\", line 48, in wait\n",
      "    return self._handler(self._task, self._logger)\n",
      "  File \"C:\\Users\\abeswara\\AppData\\Local\\Continuum\\anaconda3\\envs\\nlp\\lib\\site-packages\\azureml\\data\\azure_storage_datastore.py\", line 263, in handler\n",
      "    logger.error(\"Task Exception\", e)\n",
      "Message: 'Task Exception'\n",
      "Arguments: (AzureHttpError('Forbidden\\n<!DOCTYPE HTML PUBLIC \"-//W3C//DTD HTML 4.01//EN\"\"http://www.w3.org/TR/html4/strict.dtd\">\\r\\n<HTML><HEAD><TITLE>Forbidden</TITLE>\\r\\n<META HTTP-EQUIV=\"Content-Type\" Content=\"text/html; charset=us-ascii\"></HEAD>\\r\\n<BODY><h2>Forbidden URL</h2>\\r\\n<hr><p>HTTP Error 403. The request URL is forbidden.</p>\\r\\n</BODY></HTML>\\r\\n',),)\n",
      "--- Logging error ---\n",
      "Traceback (most recent call last):\n",
      "  File \"C:\\Users\\abeswara\\AppData\\Local\\Continuum\\anaconda3\\envs\\nlp\\lib\\site-packages\\azureml\\data\\azure_storage_datastore.py\", line 256, in handler\n",
      "    result = fn()\n",
      "  File \"C:\\Users\\abeswara\\AppData\\Local\\Continuum\\anaconda3\\envs\\nlp\\lib\\site-packages\\azureml\\data\\azure_storage_datastore.py\", line 576, in <lambda>\n",
      "    lambda target, source: lambda: self.blob_service.create_blob_from_path(self.container_name, target, source)\n",
      "  File \"C:\\Users\\abeswara\\AppData\\Local\\Continuum\\anaconda3\\envs\\nlp\\lib\\site-packages\\azureml\\_vendor\\azure_storage\\blob\\blockblobservice.py\", line 463, in create_blob_from_path\n",
      "    timeout=timeout)\n",
      "  File \"C:\\Users\\abeswara\\AppData\\Local\\Continuum\\anaconda3\\envs\\nlp\\lib\\site-packages\\azureml\\_vendor\\azure_storage\\blob\\blockblobservice.py\", line 582, in create_blob_from_stream\n",
      "    timeout=timeout)\n",
      "  File \"C:\\Users\\abeswara\\AppData\\Local\\Continuum\\anaconda3\\envs\\nlp\\lib\\site-packages\\azureml\\_vendor\\azure_storage\\blob\\blockblobservice.py\", line 971, in _put_blob\n",
      "    return self._perform_request(request, _parse_base_properties)\n",
      "  File \"C:\\Users\\abeswara\\AppData\\Local\\Continuum\\anaconda3\\envs\\nlp\\lib\\site-packages\\azureml\\_vendor\\azure_storage\\common\\storageclient.py\", line 381, in _perform_request\n",
      "    raise ex\n",
      "  File \"C:\\Users\\abeswara\\AppData\\Local\\Continuum\\anaconda3\\envs\\nlp\\lib\\site-packages\\azureml\\_vendor\\azure_storage\\common\\storageclient.py\", line 306, in _perform_request\n",
      "    raise ex\n",
      "  File \"C:\\Users\\abeswara\\AppData\\Local\\Continuum\\anaconda3\\envs\\nlp\\lib\\site-packages\\azureml\\_vendor\\azure_storage\\common\\storageclient.py\", line 292, in _perform_request\n",
      "    HTTPError(response.status, response.message, response.headers, response.body))\n",
      "  File \"C:\\Users\\abeswara\\AppData\\Local\\Continuum\\anaconda3\\envs\\nlp\\lib\\site-packages\\azureml\\_vendor\\azure_storage\\common\\_error.py\", line 115, in _http_error_handler\n",
      "    raise ex\n",
      "azure.common.AzureHttpError: Forbidden\n",
      "<!DOCTYPE HTML PUBLIC \"-//W3C//DTD HTML 4.01//EN\"\"http://www.w3.org/TR/html4/strict.dtd\">\n",
      "<HTML><HEAD><TITLE>Forbidden</TITLE>\n",
      "<META HTTP-EQUIV=\"Content-Type\" Content=\"text/html; charset=us-ascii\"></HEAD>\n",
      "<BODY><h2>Forbidden URL</h2>\n",
      "<hr><p>HTTP Error 403. The request URL is forbidden.</p>\n",
      "</BODY></HTML>\n",
      "\n",
      "\n",
      "During handling of the above exception, another exception occurred:\n",
      "\n",
      "Traceback (most recent call last):\n",
      "  File \"C:\\Users\\abeswara\\AppData\\Local\\Continuum\\anaconda3\\envs\\nlp\\lib\\logging\\__init__.py\", line 994, in emit\n",
      "    msg = self.format(record)\n",
      "  File \"C:\\Users\\abeswara\\AppData\\Local\\Continuum\\anaconda3\\envs\\nlp\\lib\\logging\\__init__.py\", line 840, in format\n",
      "    return fmt.format(record)\n",
      "  File \"C:\\Users\\abeswara\\AppData\\Local\\Continuum\\anaconda3\\envs\\nlp\\lib\\logging\\__init__.py\", line 577, in format\n",
      "    record.message = record.getMessage()\n",
      "  File \"C:\\Users\\abeswara\\AppData\\Local\\Continuum\\anaconda3\\envs\\nlp\\lib\\logging\\__init__.py\", line 338, in getMessage\n",
      "    msg = msg % self.args\n",
      "TypeError: not all arguments converted during string formatting\n",
      "Call stack:\n",
      "  File \"C:\\Users\\abeswara\\AppData\\Local\\Continuum\\anaconda3\\envs\\nlp\\lib\\threading.py\", line 884, in _bootstrap\n",
      "    self._bootstrap_inner()\n"
     ]
    },
    {
     "name": "stderr",
     "output_type": "stream",
     "text": [
      "  File \"C:\\Users\\abeswara\\AppData\\Local\\Continuum\\anaconda3\\envs\\nlp\\lib\\threading.py\", line 916, in _bootstrap_inner\n",
      "    self.run()\n",
      "  File \"C:\\Users\\abeswara\\AppData\\Local\\Continuum\\anaconda3\\envs\\nlp\\lib\\threading.py\", line 864, in run\n",
      "    self._target(*self._args, **self._kwargs)\n",
      "  File \"C:\\Users\\abeswara\\AppData\\Local\\Continuum\\anaconda3\\envs\\nlp\\lib\\site-packages\\azureml\\_history\\utils\\task_queue.py\", line 57, in _awaiter\n",
      "    result = task.wait()\n",
      "  File \"C:\\Users\\abeswara\\AppData\\Local\\Continuum\\anaconda3\\envs\\nlp\\lib\\site-packages\\azureml\\_history\\utils\\async_task.py\", line 48, in wait\n",
      "    return self._handler(self._task, self._logger)\n",
      "  File \"C:\\Users\\abeswara\\AppData\\Local\\Continuum\\anaconda3\\envs\\nlp\\lib\\site-packages\\azureml\\data\\azure_storage_datastore.py\", line 263, in handler\n",
      "    logger.error(\"Task Exception\", e)\n",
      "Message: 'Task Exception'\n",
      "Arguments: (AzureHttpError('Forbidden\\n<!DOCTYPE HTML PUBLIC \"-//W3C//DTD HTML 4.01//EN\"\"http://www.w3.org/TR/html4/strict.dtd\">\\r\\n<HTML><HEAD><TITLE>Forbidden</TITLE>\\r\\n<META HTTP-EQUIV=\"Content-Type\" Content=\"text/html; charset=us-ascii\"></HEAD>\\r\\n<BODY><h2>Forbidden URL</h2>\\r\\n<hr><p>HTTP Error 403. The request URL is forbidden.</p>\\r\\n</BODY></HTML>\\r\\n',),)\n",
      "--- Logging error ---\n",
      "Traceback (most recent call last):\n",
      "  File \"C:\\Users\\abeswara\\AppData\\Local\\Continuum\\anaconda3\\envs\\nlp\\lib\\site-packages\\azureml\\data\\azure_storage_datastore.py\", line 256, in handler\n",
      "    result = fn()\n",
      "  File \"C:\\Users\\abeswara\\AppData\\Local\\Continuum\\anaconda3\\envs\\nlp\\lib\\site-packages\\azureml\\data\\azure_storage_datastore.py\", line 576, in <lambda>\n",
      "    lambda target, source: lambda: self.blob_service.create_blob_from_path(self.container_name, target, source)\n",
      "  File \"C:\\Users\\abeswara\\AppData\\Local\\Continuum\\anaconda3\\envs\\nlp\\lib\\site-packages\\azureml\\_vendor\\azure_storage\\blob\\blockblobservice.py\", line 463, in create_blob_from_path\n",
      "    timeout=timeout)\n",
      "  File \"C:\\Users\\abeswara\\AppData\\Local\\Continuum\\anaconda3\\envs\\nlp\\lib\\site-packages\\azureml\\_vendor\\azure_storage\\blob\\blockblobservice.py\", line 582, in create_blob_from_stream\n",
      "    timeout=timeout)\n",
      "  File \"C:\\Users\\abeswara\\AppData\\Local\\Continuum\\anaconda3\\envs\\nlp\\lib\\site-packages\\azureml\\_vendor\\azure_storage\\blob\\blockblobservice.py\", line 971, in _put_blob\n",
      "    return self._perform_request(request, _parse_base_properties)\n",
      "  File \"C:\\Users\\abeswara\\AppData\\Local\\Continuum\\anaconda3\\envs\\nlp\\lib\\site-packages\\azureml\\_vendor\\azure_storage\\common\\storageclient.py\", line 381, in _perform_request\n",
      "    raise ex\n",
      "  File \"C:\\Users\\abeswara\\AppData\\Local\\Continuum\\anaconda3\\envs\\nlp\\lib\\site-packages\\azureml\\_vendor\\azure_storage\\common\\storageclient.py\", line 306, in _perform_request\n",
      "    raise ex\n",
      "  File \"C:\\Users\\abeswara\\AppData\\Local\\Continuum\\anaconda3\\envs\\nlp\\lib\\site-packages\\azureml\\_vendor\\azure_storage\\common\\storageclient.py\", line 292, in _perform_request\n",
      "    HTTPError(response.status, response.message, response.headers, response.body))\n",
      "  File \"C:\\Users\\abeswara\\AppData\\Local\\Continuum\\anaconda3\\envs\\nlp\\lib\\site-packages\\azureml\\_vendor\\azure_storage\\common\\_error.py\", line 115, in _http_error_handler\n",
      "    raise ex\n",
      "azure.common.AzureHttpError: Forbidden\n",
      "<!DOCTYPE HTML PUBLIC \"-//W3C//DTD HTML 4.01//EN\"\"http://www.w3.org/TR/html4/strict.dtd\">\n",
      "<HTML><HEAD><TITLE>Forbidden</TITLE>\n",
      "<META HTTP-EQUIV=\"Content-Type\" Content=\"text/html; charset=us-ascii\"></HEAD>\n",
      "<BODY><h2>Forbidden URL</h2>\n",
      "<hr><p>HTTP Error 403. The request URL is forbidden.</p>\n",
      "</BODY></HTML>\n",
      "\n",
      "\n",
      "During handling of the above exception, another exception occurred:\n",
      "\n",
      "Traceback (most recent call last):\n",
      "  File \"C:\\Users\\abeswara\\AppData\\Local\\Continuum\\anaconda3\\envs\\nlp\\lib\\logging\\__init__.py\", line 994, in emit\n",
      "    msg = self.format(record)\n",
      "  File \"C:\\Users\\abeswara\\AppData\\Local\\Continuum\\anaconda3\\envs\\nlp\\lib\\logging\\__init__.py\", line 840, in format\n",
      "    return fmt.format(record)\n",
      "  File \"C:\\Users\\abeswara\\AppData\\Local\\Continuum\\anaconda3\\envs\\nlp\\lib\\logging\\__init__.py\", line 577, in format\n",
      "    record.message = record.getMessage()\n",
      "  File \"C:\\Users\\abeswara\\AppData\\Local\\Continuum\\anaconda3\\envs\\nlp\\lib\\logging\\__init__.py\", line 338, in getMessage\n",
      "    msg = msg % self.args\n",
      "TypeError: not all arguments converted during string formatting\n",
      "Call stack:\n",
      "  File \"C:\\Users\\abeswara\\AppData\\Local\\Continuum\\anaconda3\\envs\\nlp\\lib\\threading.py\", line 884, in _bootstrap\n",
      "    self._bootstrap_inner()\n",
      "  File \"C:\\Users\\abeswara\\AppData\\Local\\Continuum\\anaconda3\\envs\\nlp\\lib\\threading.py\", line 916, in _bootstrap_inner\n",
      "    self.run()\n",
      "  File \"C:\\Users\\abeswara\\AppData\\Local\\Continuum\\anaconda3\\envs\\nlp\\lib\\threading.py\", line 864, in run\n",
      "    self._target(*self._args, **self._kwargs)\n",
      "  File \"C:\\Users\\abeswara\\AppData\\Local\\Continuum\\anaconda3\\envs\\nlp\\lib\\site-packages\\azureml\\_history\\utils\\task_queue.py\", line 57, in _awaiter\n",
      "    result = task.wait()\n",
      "  File \"C:\\Users\\abeswara\\AppData\\Local\\Continuum\\anaconda3\\envs\\nlp\\lib\\site-packages\\azureml\\_history\\utils\\async_task.py\", line 48, in wait\n",
      "    return self._handler(self._task, self._logger)\n",
      "  File \"C:\\Users\\abeswara\\AppData\\Local\\Continuum\\anaconda3\\envs\\nlp\\lib\\site-packages\\azureml\\data\\azure_storage_datastore.py\", line 263, in handler\n",
      "    logger.error(\"Task Exception\", e)\n",
      "Message: 'Task Exception'\n",
      "Arguments: (AzureHttpError('Forbidden\\n<!DOCTYPE HTML PUBLIC \"-//W3C//DTD HTML 4.01//EN\"\"http://www.w3.org/TR/html4/strict.dtd\">\\r\\n<HTML><HEAD><TITLE>Forbidden</TITLE>\\r\\n<META HTTP-EQUIV=\"Content-Type\" Content=\"text/html; charset=us-ascii\"></HEAD>\\r\\n<BODY><h2>Forbidden URL</h2>\\r\\n<hr><p>HTTP Error 403. The request URL is forbidden.</p>\\r\\n</BODY></HTML>\\r\\n',),)\n",
      "--- Logging error ---\n",
      "Traceback (most recent call last):\n",
      "  File \"C:\\Users\\abeswara\\AppData\\Local\\Continuum\\anaconda3\\envs\\nlp\\lib\\site-packages\\azureml\\data\\azure_storage_datastore.py\", line 256, in handler\n",
      "    result = fn()\n",
      "  File \"C:\\Users\\abeswara\\AppData\\Local\\Continuum\\anaconda3\\envs\\nlp\\lib\\site-packages\\azureml\\data\\azure_storage_datastore.py\", line 576, in <lambda>\n",
      "    lambda target, source: lambda: self.blob_service.create_blob_from_path(self.container_name, target, source)\n",
      "  File \"C:\\Users\\abeswara\\AppData\\Local\\Continuum\\anaconda3\\envs\\nlp\\lib\\site-packages\\azureml\\_vendor\\azure_storage\\blob\\blockblobservice.py\", line 463, in create_blob_from_path\n",
      "    timeout=timeout)\n",
      "  File \"C:\\Users\\abeswara\\AppData\\Local\\Continuum\\anaconda3\\envs\\nlp\\lib\\site-packages\\azureml\\_vendor\\azure_storage\\blob\\blockblobservice.py\", line 582, in create_blob_from_stream\n",
      "    timeout=timeout)\n",
      "  File \"C:\\Users\\abeswara\\AppData\\Local\\Continuum\\anaconda3\\envs\\nlp\\lib\\site-packages\\azureml\\_vendor\\azure_storage\\blob\\blockblobservice.py\", line 971, in _put_blob\n",
      "    return self._perform_request(request, _parse_base_properties)\n",
      "  File \"C:\\Users\\abeswara\\AppData\\Local\\Continuum\\anaconda3\\envs\\nlp\\lib\\site-packages\\azureml\\_vendor\\azure_storage\\common\\storageclient.py\", line 381, in _perform_request\n",
      "    raise ex\n",
      "  File \"C:\\Users\\abeswara\\AppData\\Local\\Continuum\\anaconda3\\envs\\nlp\\lib\\site-packages\\azureml\\_vendor\\azure_storage\\common\\storageclient.py\", line 306, in _perform_request\n",
      "    raise ex\n",
      "  File \"C:\\Users\\abeswara\\AppData\\Local\\Continuum\\anaconda3\\envs\\nlp\\lib\\site-packages\\azureml\\_vendor\\azure_storage\\common\\storageclient.py\", line 292, in _perform_request\n",
      "    HTTPError(response.status, response.message, response.headers, response.body))\n",
      "  File \"C:\\Users\\abeswara\\AppData\\Local\\Continuum\\anaconda3\\envs\\nlp\\lib\\site-packages\\azureml\\_vendor\\azure_storage\\common\\_error.py\", line 115, in _http_error_handler\n",
      "    raise ex\n",
      "azure.common.AzureHttpError: Forbidden\n",
      "<!DOCTYPE HTML PUBLIC \"-//W3C//DTD HTML 4.01//EN\"\"http://www.w3.org/TR/html4/strict.dtd\">\n",
      "<HTML><HEAD><TITLE>Forbidden</TITLE>\n",
      "<META HTTP-EQUIV=\"Content-Type\" Content=\"text/html; charset=us-ascii\"></HEAD>\n",
      "<BODY><h2>Forbidden URL</h2>\n",
      "<hr><p>HTTP Error 403. The request URL is forbidden.</p>\n",
      "</BODY></HTML>\n",
      "\n",
      "\n",
      "During handling of the above exception, another exception occurred:\n",
      "\n",
      "Traceback (most recent call last):\n",
      "  File \"C:\\Users\\abeswara\\AppData\\Local\\Continuum\\anaconda3\\envs\\nlp\\lib\\logging\\__init__.py\", line 994, in emit\n",
      "    msg = self.format(record)\n",
      "  File \"C:\\Users\\abeswara\\AppData\\Local\\Continuum\\anaconda3\\envs\\nlp\\lib\\logging\\__init__.py\", line 840, in format\n",
      "    return fmt.format(record)\n"
     ]
    },
    {
     "name": "stderr",
     "output_type": "stream",
     "text": [
      "  File \"C:\\Users\\abeswara\\AppData\\Local\\Continuum\\anaconda3\\envs\\nlp\\lib\\logging\\__init__.py\", line 577, in format\n",
      "    record.message = record.getMessage()\n",
      "  File \"C:\\Users\\abeswara\\AppData\\Local\\Continuum\\anaconda3\\envs\\nlp\\lib\\logging\\__init__.py\", line 338, in getMessage\n",
      "    msg = msg % self.args\n",
      "TypeError: not all arguments converted during string formatting\n",
      "Call stack:\n",
      "  File \"C:\\Users\\abeswara\\AppData\\Local\\Continuum\\anaconda3\\envs\\nlp\\lib\\threading.py\", line 884, in _bootstrap\n",
      "    self._bootstrap_inner()\n",
      "  File \"C:\\Users\\abeswara\\AppData\\Local\\Continuum\\anaconda3\\envs\\nlp\\lib\\threading.py\", line 916, in _bootstrap_inner\n",
      "    self.run()\n",
      "  File \"C:\\Users\\abeswara\\AppData\\Local\\Continuum\\anaconda3\\envs\\nlp\\lib\\threading.py\", line 864, in run\n",
      "    self._target(*self._args, **self._kwargs)\n",
      "  File \"C:\\Users\\abeswara\\AppData\\Local\\Continuum\\anaconda3\\envs\\nlp\\lib\\site-packages\\azureml\\_history\\utils\\task_queue.py\", line 57, in _awaiter\n",
      "    result = task.wait()\n",
      "  File \"C:\\Users\\abeswara\\AppData\\Local\\Continuum\\anaconda3\\envs\\nlp\\lib\\site-packages\\azureml\\_history\\utils\\async_task.py\", line 48, in wait\n",
      "    return self._handler(self._task, self._logger)\n",
      "  File \"C:\\Users\\abeswara\\AppData\\Local\\Continuum\\anaconda3\\envs\\nlp\\lib\\site-packages\\azureml\\data\\azure_storage_datastore.py\", line 263, in handler\n",
      "    logger.error(\"Task Exception\", e)\n",
      "Message: 'Task Exception'\n",
      "Arguments: (AzureHttpError('Forbidden\\n<!DOCTYPE HTML PUBLIC \"-//W3C//DTD HTML 4.01//EN\"\"http://www.w3.org/TR/html4/strict.dtd\">\\r\\n<HTML><HEAD><TITLE>Forbidden</TITLE>\\r\\n<META HTTP-EQUIV=\"Content-Type\" Content=\"text/html; charset=us-ascii\"></HEAD>\\r\\n<BODY><h2>Forbidden URL</h2>\\r\\n<hr><p>HTTP Error 403. The request URL is forbidden.</p>\\r\\n</BODY></HTML>\\r\\n',),)\n",
      "--- Logging error ---\n",
      "Traceback (most recent call last):\n",
      "  File \"C:\\Users\\abeswara\\AppData\\Local\\Continuum\\anaconda3\\envs\\nlp\\lib\\site-packages\\azureml\\data\\azure_storage_datastore.py\", line 256, in handler\n",
      "    result = fn()\n",
      "  File \"C:\\Users\\abeswara\\AppData\\Local\\Continuum\\anaconda3\\envs\\nlp\\lib\\site-packages\\azureml\\data\\azure_storage_datastore.py\", line 576, in <lambda>\n",
      "    lambda target, source: lambda: self.blob_service.create_blob_from_path(self.container_name, target, source)\n",
      "  File \"C:\\Users\\abeswara\\AppData\\Local\\Continuum\\anaconda3\\envs\\nlp\\lib\\site-packages\\azureml\\_vendor\\azure_storage\\blob\\blockblobservice.py\", line 463, in create_blob_from_path\n",
      "    timeout=timeout)\n",
      "  File \"C:\\Users\\abeswara\\AppData\\Local\\Continuum\\anaconda3\\envs\\nlp\\lib\\site-packages\\azureml\\_vendor\\azure_storage\\blob\\blockblobservice.py\", line 582, in create_blob_from_stream\n",
      "    timeout=timeout)\n",
      "  File \"C:\\Users\\abeswara\\AppData\\Local\\Continuum\\anaconda3\\envs\\nlp\\lib\\site-packages\\azureml\\_vendor\\azure_storage\\blob\\blockblobservice.py\", line 971, in _put_blob\n",
      "    return self._perform_request(request, _parse_base_properties)\n",
      "  File \"C:\\Users\\abeswara\\AppData\\Local\\Continuum\\anaconda3\\envs\\nlp\\lib\\site-packages\\azureml\\_vendor\\azure_storage\\common\\storageclient.py\", line 381, in _perform_request\n",
      "    raise ex\n",
      "  File \"C:\\Users\\abeswara\\AppData\\Local\\Continuum\\anaconda3\\envs\\nlp\\lib\\site-packages\\azureml\\_vendor\\azure_storage\\common\\storageclient.py\", line 306, in _perform_request\n",
      "    raise ex\n",
      "  File \"C:\\Users\\abeswara\\AppData\\Local\\Continuum\\anaconda3\\envs\\nlp\\lib\\site-packages\\azureml\\_vendor\\azure_storage\\common\\storageclient.py\", line 292, in _perform_request\n",
      "    HTTPError(response.status, response.message, response.headers, response.body))\n",
      "  File \"C:\\Users\\abeswara\\AppData\\Local\\Continuum\\anaconda3\\envs\\nlp\\lib\\site-packages\\azureml\\_vendor\\azure_storage\\common\\_error.py\", line 115, in _http_error_handler\n",
      "    raise ex\n",
      "azure.common.AzureHttpError: Forbidden\n",
      "<!DOCTYPE HTML PUBLIC \"-//W3C//DTD HTML 4.01//EN\"\"http://www.w3.org/TR/html4/strict.dtd\">\n",
      "<HTML><HEAD><TITLE>Forbidden</TITLE>\n",
      "<META HTTP-EQUIV=\"Content-Type\" Content=\"text/html; charset=us-ascii\"></HEAD>\n",
      "<BODY><h2>Forbidden URL</h2>\n",
      "<hr><p>HTTP Error 403. The request URL is forbidden.</p>\n",
      "</BODY></HTML>\n",
      "\n",
      "\n",
      "During handling of the above exception, another exception occurred:\n",
      "\n",
      "Traceback (most recent call last):\n",
      "  File \"C:\\Users\\abeswara\\AppData\\Local\\Continuum\\anaconda3\\envs\\nlp\\lib\\logging\\__init__.py\", line 994, in emit\n",
      "    msg = self.format(record)\n",
      "  File \"C:\\Users\\abeswara\\AppData\\Local\\Continuum\\anaconda3\\envs\\nlp\\lib\\logging\\__init__.py\", line 840, in format\n",
      "    return fmt.format(record)\n",
      "  File \"C:\\Users\\abeswara\\AppData\\Local\\Continuum\\anaconda3\\envs\\nlp\\lib\\logging\\__init__.py\", line 577, in format\n",
      "    record.message = record.getMessage()\n",
      "  File \"C:\\Users\\abeswara\\AppData\\Local\\Continuum\\anaconda3\\envs\\nlp\\lib\\logging\\__init__.py\", line 338, in getMessage\n",
      "    msg = msg % self.args\n",
      "TypeError: not all arguments converted during string formatting\n",
      "Call stack:\n",
      "  File \"C:\\Users\\abeswara\\AppData\\Local\\Continuum\\anaconda3\\envs\\nlp\\lib\\threading.py\", line 884, in _bootstrap\n",
      "    self._bootstrap_inner()\n",
      "  File \"C:\\Users\\abeswara\\AppData\\Local\\Continuum\\anaconda3\\envs\\nlp\\lib\\threading.py\", line 916, in _bootstrap_inner\n",
      "    self.run()\n",
      "  File \"C:\\Users\\abeswara\\AppData\\Local\\Continuum\\anaconda3\\envs\\nlp\\lib\\threading.py\", line 864, in run\n",
      "    self._target(*self._args, **self._kwargs)\n",
      "  File \"C:\\Users\\abeswara\\AppData\\Local\\Continuum\\anaconda3\\envs\\nlp\\lib\\site-packages\\azureml\\_history\\utils\\task_queue.py\", line 57, in _awaiter\n",
      "    result = task.wait()\n",
      "  File \"C:\\Users\\abeswara\\AppData\\Local\\Continuum\\anaconda3\\envs\\nlp\\lib\\site-packages\\azureml\\_history\\utils\\async_task.py\", line 48, in wait\n",
      "    return self._handler(self._task, self._logger)\n",
      "  File \"C:\\Users\\abeswara\\AppData\\Local\\Continuum\\anaconda3\\envs\\nlp\\lib\\site-packages\\azureml\\data\\azure_storage_datastore.py\", line 263, in handler\n",
      "    logger.error(\"Task Exception\", e)\n",
      "Message: 'Task Exception'\n",
      "Arguments: (AzureHttpError('Forbidden\\n<!DOCTYPE HTML PUBLIC \"-//W3C//DTD HTML 4.01//EN\"\"http://www.w3.org/TR/html4/strict.dtd\">\\r\\n<HTML><HEAD><TITLE>Forbidden</TITLE>\\r\\n<META HTTP-EQUIV=\"Content-Type\" Content=\"text/html; charset=us-ascii\"></HEAD>\\r\\n<BODY><h2>Forbidden URL</h2>\\r\\n<hr><p>HTTP Error 403. The request URL is forbidden.</p>\\r\\n</BODY></HTML>\\r\\n',),)\n",
      "--- Logging error ---\n",
      "Traceback (most recent call last):\n",
      "  File \"C:\\Users\\abeswara\\AppData\\Local\\Continuum\\anaconda3\\envs\\nlp\\lib\\site-packages\\azureml\\data\\azure_storage_datastore.py\", line 256, in handler\n",
      "    result = fn()\n",
      "  File \"C:\\Users\\abeswara\\AppData\\Local\\Continuum\\anaconda3\\envs\\nlp\\lib\\site-packages\\azureml\\data\\azure_storage_datastore.py\", line 576, in <lambda>\n",
      "    lambda target, source: lambda: self.blob_service.create_blob_from_path(self.container_name, target, source)\n",
      "  File \"C:\\Users\\abeswara\\AppData\\Local\\Continuum\\anaconda3\\envs\\nlp\\lib\\site-packages\\azureml\\_vendor\\azure_storage\\blob\\blockblobservice.py\", line 463, in create_blob_from_path\n",
      "    timeout=timeout)\n",
      "  File \"C:\\Users\\abeswara\\AppData\\Local\\Continuum\\anaconda3\\envs\\nlp\\lib\\site-packages\\azureml\\_vendor\\azure_storage\\blob\\blockblobservice.py\", line 582, in create_blob_from_stream\n",
      "    timeout=timeout)\n",
      "  File \"C:\\Users\\abeswara\\AppData\\Local\\Continuum\\anaconda3\\envs\\nlp\\lib\\site-packages\\azureml\\_vendor\\azure_storage\\blob\\blockblobservice.py\", line 971, in _put_blob\n",
      "    return self._perform_request(request, _parse_base_properties)\n",
      "  File \"C:\\Users\\abeswara\\AppData\\Local\\Continuum\\anaconda3\\envs\\nlp\\lib\\site-packages\\azureml\\_vendor\\azure_storage\\common\\storageclient.py\", line 381, in _perform_request\n",
      "    raise ex\n",
      "  File \"C:\\Users\\abeswara\\AppData\\Local\\Continuum\\anaconda3\\envs\\nlp\\lib\\site-packages\\azureml\\_vendor\\azure_storage\\common\\storageclient.py\", line 306, in _perform_request\n",
      "    raise ex\n",
      "  File \"C:\\Users\\abeswara\\AppData\\Local\\Continuum\\anaconda3\\envs\\nlp\\lib\\site-packages\\azureml\\_vendor\\azure_storage\\common\\storageclient.py\", line 292, in _perform_request\n",
      "    HTTPError(response.status, response.message, response.headers, response.body))\n",
      "  File \"C:\\Users\\abeswara\\AppData\\Local\\Continuum\\anaconda3\\envs\\nlp\\lib\\site-packages\\azureml\\_vendor\\azure_storage\\common\\_error.py\", line 115, in _http_error_handler\n",
      "    raise ex\n",
      "azure.common.AzureHttpError: Forbidden\n",
      "<!DOCTYPE HTML PUBLIC \"-//W3C//DTD HTML 4.01//EN\"\"http://www.w3.org/TR/html4/strict.dtd\">\n",
      "<HTML><HEAD><TITLE>Forbidden</TITLE>\n",
      "<META HTTP-EQUIV=\"Content-Type\" Content=\"text/html; charset=us-ascii\"></HEAD>\n",
      "<BODY><h2>Forbidden URL</h2>\n",
      "<hr><p>HTTP Error 403. The request URL is forbidden.</p>\n",
      "</BODY></HTML>\n",
      "\n"
     ]
    },
    {
     "name": "stderr",
     "output_type": "stream",
     "text": [
      "\n",
      "During handling of the above exception, another exception occurred:\n",
      "\n",
      "Traceback (most recent call last):\n",
      "  File \"C:\\Users\\abeswara\\AppData\\Local\\Continuum\\anaconda3\\envs\\nlp\\lib\\logging\\__init__.py\", line 994, in emit\n",
      "    msg = self.format(record)\n",
      "  File \"C:\\Users\\abeswara\\AppData\\Local\\Continuum\\anaconda3\\envs\\nlp\\lib\\logging\\__init__.py\", line 840, in format\n",
      "    return fmt.format(record)\n",
      "  File \"C:\\Users\\abeswara\\AppData\\Local\\Continuum\\anaconda3\\envs\\nlp\\lib\\logging\\__init__.py\", line 577, in format\n",
      "    record.message = record.getMessage()\n",
      "  File \"C:\\Users\\abeswara\\AppData\\Local\\Continuum\\anaconda3\\envs\\nlp\\lib\\logging\\__init__.py\", line 338, in getMessage\n",
      "    msg = msg % self.args\n",
      "TypeError: not all arguments converted during string formatting\n",
      "Call stack:\n",
      "  File \"C:\\Users\\abeswara\\AppData\\Local\\Continuum\\anaconda3\\envs\\nlp\\lib\\threading.py\", line 884, in _bootstrap\n",
      "    self._bootstrap_inner()\n",
      "  File \"C:\\Users\\abeswara\\AppData\\Local\\Continuum\\anaconda3\\envs\\nlp\\lib\\threading.py\", line 916, in _bootstrap_inner\n",
      "    self.run()\n",
      "  File \"C:\\Users\\abeswara\\AppData\\Local\\Continuum\\anaconda3\\envs\\nlp\\lib\\threading.py\", line 864, in run\n",
      "    self._target(*self._args, **self._kwargs)\n",
      "  File \"C:\\Users\\abeswara\\AppData\\Local\\Continuum\\anaconda3\\envs\\nlp\\lib\\site-packages\\azureml\\_history\\utils\\task_queue.py\", line 57, in _awaiter\n",
      "    result = task.wait()\n",
      "  File \"C:\\Users\\abeswara\\AppData\\Local\\Continuum\\anaconda3\\envs\\nlp\\lib\\site-packages\\azureml\\_history\\utils\\async_task.py\", line 48, in wait\n",
      "    return self._handler(self._task, self._logger)\n",
      "  File \"C:\\Users\\abeswara\\AppData\\Local\\Continuum\\anaconda3\\envs\\nlp\\lib\\site-packages\\azureml\\data\\azure_storage_datastore.py\", line 263, in handler\n",
      "    logger.error(\"Task Exception\", e)\n",
      "Message: 'Task Exception'\n",
      "Arguments: (AzureHttpError('Forbidden\\n<!DOCTYPE HTML PUBLIC \"-//W3C//DTD HTML 4.01//EN\"\"http://www.w3.org/TR/html4/strict.dtd\">\\r\\n<HTML><HEAD><TITLE>Forbidden</TITLE>\\r\\n<META HTTP-EQUIV=\"Content-Type\" Content=\"text/html; charset=us-ascii\"></HEAD>\\r\\n<BODY><h2>Forbidden URL</h2>\\r\\n<hr><p>HTTP Error 403. The request URL is forbidden.</p>\\r\\n</BODY></HTML>\\r\\n',),)\n",
      "--- Logging error ---\n",
      "Traceback (most recent call last):\n",
      "  File \"C:\\Users\\abeswara\\AppData\\Local\\Continuum\\anaconda3\\envs\\nlp\\lib\\site-packages\\azureml\\data\\azure_storage_datastore.py\", line 256, in handler\n",
      "    result = fn()\n",
      "  File \"C:\\Users\\abeswara\\AppData\\Local\\Continuum\\anaconda3\\envs\\nlp\\lib\\site-packages\\azureml\\data\\azure_storage_datastore.py\", line 576, in <lambda>\n",
      "    lambda target, source: lambda: self.blob_service.create_blob_from_path(self.container_name, target, source)\n",
      "  File \"C:\\Users\\abeswara\\AppData\\Local\\Continuum\\anaconda3\\envs\\nlp\\lib\\site-packages\\azureml\\_vendor\\azure_storage\\blob\\blockblobservice.py\", line 463, in create_blob_from_path\n",
      "    timeout=timeout)\n",
      "  File \"C:\\Users\\abeswara\\AppData\\Local\\Continuum\\anaconda3\\envs\\nlp\\lib\\site-packages\\azureml\\_vendor\\azure_storage\\blob\\blockblobservice.py\", line 582, in create_blob_from_stream\n",
      "    timeout=timeout)\n",
      "  File \"C:\\Users\\abeswara\\AppData\\Local\\Continuum\\anaconda3\\envs\\nlp\\lib\\site-packages\\azureml\\_vendor\\azure_storage\\blob\\blockblobservice.py\", line 971, in _put_blob\n",
      "    return self._perform_request(request, _parse_base_properties)\n",
      "  File \"C:\\Users\\abeswara\\AppData\\Local\\Continuum\\anaconda3\\envs\\nlp\\lib\\site-packages\\azureml\\_vendor\\azure_storage\\common\\storageclient.py\", line 381, in _perform_request\n",
      "    raise ex\n",
      "  File \"C:\\Users\\abeswara\\AppData\\Local\\Continuum\\anaconda3\\envs\\nlp\\lib\\site-packages\\azureml\\_vendor\\azure_storage\\common\\storageclient.py\", line 306, in _perform_request\n",
      "    raise ex\n",
      "  File \"C:\\Users\\abeswara\\AppData\\Local\\Continuum\\anaconda3\\envs\\nlp\\lib\\site-packages\\azureml\\_vendor\\azure_storage\\common\\storageclient.py\", line 292, in _perform_request\n",
      "    HTTPError(response.status, response.message, response.headers, response.body))\n",
      "  File \"C:\\Users\\abeswara\\AppData\\Local\\Continuum\\anaconda3\\envs\\nlp\\lib\\site-packages\\azureml\\_vendor\\azure_storage\\common\\_error.py\", line 115, in _http_error_handler\n",
      "    raise ex\n",
      "azure.common.AzureHttpError: Forbidden\n",
      "<!DOCTYPE HTML PUBLIC \"-//W3C//DTD HTML 4.01//EN\"\"http://www.w3.org/TR/html4/strict.dtd\">\n",
      "<HTML><HEAD><TITLE>Forbidden</TITLE>\n",
      "<META HTTP-EQUIV=\"Content-Type\" Content=\"text/html; charset=us-ascii\"></HEAD>\n",
      "<BODY><h2>Forbidden URL</h2>\n",
      "<hr><p>HTTP Error 403. The request URL is forbidden.</p>\n",
      "</BODY></HTML>\n",
      "\n",
      "\n",
      "During handling of the above exception, another exception occurred:\n",
      "\n",
      "Traceback (most recent call last):\n",
      "  File \"C:\\Users\\abeswara\\AppData\\Local\\Continuum\\anaconda3\\envs\\nlp\\lib\\logging\\__init__.py\", line 994, in emit\n",
      "    msg = self.format(record)\n",
      "  File \"C:\\Users\\abeswara\\AppData\\Local\\Continuum\\anaconda3\\envs\\nlp\\lib\\logging\\__init__.py\", line 840, in format\n",
      "    return fmt.format(record)\n",
      "  File \"C:\\Users\\abeswara\\AppData\\Local\\Continuum\\anaconda3\\envs\\nlp\\lib\\logging\\__init__.py\", line 577, in format\n",
      "    record.message = record.getMessage()\n",
      "  File \"C:\\Users\\abeswara\\AppData\\Local\\Continuum\\anaconda3\\envs\\nlp\\lib\\logging\\__init__.py\", line 338, in getMessage\n",
      "    msg = msg % self.args\n",
      "TypeError: not all arguments converted during string formatting\n",
      "Call stack:\n",
      "  File \"C:\\Users\\abeswara\\AppData\\Local\\Continuum\\anaconda3\\envs\\nlp\\lib\\threading.py\", line 884, in _bootstrap\n",
      "    self._bootstrap_inner()\n",
      "  File \"C:\\Users\\abeswara\\AppData\\Local\\Continuum\\anaconda3\\envs\\nlp\\lib\\threading.py\", line 916, in _bootstrap_inner\n",
      "    self.run()\n",
      "  File \"C:\\Users\\abeswara\\AppData\\Local\\Continuum\\anaconda3\\envs\\nlp\\lib\\threading.py\", line 864, in run\n",
      "    self._target(*self._args, **self._kwargs)\n",
      "  File \"C:\\Users\\abeswara\\AppData\\Local\\Continuum\\anaconda3\\envs\\nlp\\lib\\site-packages\\azureml\\_history\\utils\\task_queue.py\", line 57, in _awaiter\n",
      "    result = task.wait()\n",
      "  File \"C:\\Users\\abeswara\\AppData\\Local\\Continuum\\anaconda3\\envs\\nlp\\lib\\site-packages\\azureml\\_history\\utils\\async_task.py\", line 48, in wait\n",
      "    return self._handler(self._task, self._logger)\n",
      "  File \"C:\\Users\\abeswara\\AppData\\Local\\Continuum\\anaconda3\\envs\\nlp\\lib\\site-packages\\azureml\\data\\azure_storage_datastore.py\", line 263, in handler\n",
      "    logger.error(\"Task Exception\", e)\n",
      "Message: 'Task Exception'\n",
      "Arguments: (AzureHttpError('Forbidden\\n<!DOCTYPE HTML PUBLIC \"-//W3C//DTD HTML 4.01//EN\"\"http://www.w3.org/TR/html4/strict.dtd\">\\r\\n<HTML><HEAD><TITLE>Forbidden</TITLE>\\r\\n<META HTTP-EQUIV=\"Content-Type\" Content=\"text/html; charset=us-ascii\"></HEAD>\\r\\n<BODY><h2>Forbidden URL</h2>\\r\\n<hr><p>HTTP Error 403. The request URL is forbidden.</p>\\r\\n</BODY></HTML>\\r\\n',),)\n",
      "--- Logging error ---\n",
      "Traceback (most recent call last):\n",
      "  File \"C:\\Users\\abeswara\\AppData\\Local\\Continuum\\anaconda3\\envs\\nlp\\lib\\site-packages\\azureml\\data\\azure_storage_datastore.py\", line 256, in handler\n",
      "    result = fn()\n",
      "  File \"C:\\Users\\abeswara\\AppData\\Local\\Continuum\\anaconda3\\envs\\nlp\\lib\\site-packages\\azureml\\data\\azure_storage_datastore.py\", line 576, in <lambda>\n",
      "    lambda target, source: lambda: self.blob_service.create_blob_from_path(self.container_name, target, source)\n",
      "  File \"C:\\Users\\abeswara\\AppData\\Local\\Continuum\\anaconda3\\envs\\nlp\\lib\\site-packages\\azureml\\_vendor\\azure_storage\\blob\\blockblobservice.py\", line 463, in create_blob_from_path\n",
      "    timeout=timeout)\n",
      "  File \"C:\\Users\\abeswara\\AppData\\Local\\Continuum\\anaconda3\\envs\\nlp\\lib\\site-packages\\azureml\\_vendor\\azure_storage\\blob\\blockblobservice.py\", line 582, in create_blob_from_stream\n",
      "    timeout=timeout)\n",
      "  File \"C:\\Users\\abeswara\\AppData\\Local\\Continuum\\anaconda3\\envs\\nlp\\lib\\site-packages\\azureml\\_vendor\\azure_storage\\blob\\blockblobservice.py\", line 971, in _put_blob\n",
      "    return self._perform_request(request, _parse_base_properties)\n",
      "  File \"C:\\Users\\abeswara\\AppData\\Local\\Continuum\\anaconda3\\envs\\nlp\\lib\\site-packages\\azureml\\_vendor\\azure_storage\\common\\storageclient.py\", line 381, in _perform_request\n",
      "    raise ex\n",
      "  File \"C:\\Users\\abeswara\\AppData\\Local\\Continuum\\anaconda3\\envs\\nlp\\lib\\site-packages\\azureml\\_vendor\\azure_storage\\common\\storageclient.py\", line 306, in _perform_request\n",
      "    raise ex\n",
      "  File \"C:\\Users\\abeswara\\AppData\\Local\\Continuum\\anaconda3\\envs\\nlp\\lib\\site-packages\\azureml\\_vendor\\azure_storage\\common\\storageclient.py\", line 292, in _perform_request\n",
      "    HTTPError(response.status, response.message, response.headers, response.body))\n"
     ]
    },
    {
     "name": "stderr",
     "output_type": "stream",
     "text": [
      "  File \"C:\\Users\\abeswara\\AppData\\Local\\Continuum\\anaconda3\\envs\\nlp\\lib\\site-packages\\azureml\\_vendor\\azure_storage\\common\\_error.py\", line 115, in _http_error_handler\n",
      "    raise ex\n",
      "azure.common.AzureHttpError: Forbidden\n",
      "<!DOCTYPE HTML PUBLIC \"-//W3C//DTD HTML 4.01//EN\"\"http://www.w3.org/TR/html4/strict.dtd\">\n",
      "<HTML><HEAD><TITLE>Forbidden</TITLE>\n",
      "<META HTTP-EQUIV=\"Content-Type\" Content=\"text/html; charset=us-ascii\"></HEAD>\n",
      "<BODY><h2>Forbidden URL</h2>\n",
      "<hr><p>HTTP Error 403. The request URL is forbidden.</p>\n",
      "</BODY></HTML>\n",
      "\n",
      "\n",
      "During handling of the above exception, another exception occurred:\n",
      "\n",
      "Traceback (most recent call last):\n",
      "  File \"C:\\Users\\abeswara\\AppData\\Local\\Continuum\\anaconda3\\envs\\nlp\\lib\\logging\\__init__.py\", line 994, in emit\n",
      "    msg = self.format(record)\n",
      "  File \"C:\\Users\\abeswara\\AppData\\Local\\Continuum\\anaconda3\\envs\\nlp\\lib\\logging\\__init__.py\", line 840, in format\n",
      "    return fmt.format(record)\n",
      "  File \"C:\\Users\\abeswara\\AppData\\Local\\Continuum\\anaconda3\\envs\\nlp\\lib\\logging\\__init__.py\", line 577, in format\n",
      "    record.message = record.getMessage()\n",
      "  File \"C:\\Users\\abeswara\\AppData\\Local\\Continuum\\anaconda3\\envs\\nlp\\lib\\logging\\__init__.py\", line 338, in getMessage\n",
      "    msg = msg % self.args\n",
      "TypeError: not all arguments converted during string formatting\n",
      "Call stack:\n",
      "  File \"C:\\Users\\abeswara\\AppData\\Local\\Continuum\\anaconda3\\envs\\nlp\\lib\\threading.py\", line 884, in _bootstrap\n",
      "    self._bootstrap_inner()\n",
      "  File \"C:\\Users\\abeswara\\AppData\\Local\\Continuum\\anaconda3\\envs\\nlp\\lib\\threading.py\", line 916, in _bootstrap_inner\n",
      "    self.run()\n",
      "  File \"C:\\Users\\abeswara\\AppData\\Local\\Continuum\\anaconda3\\envs\\nlp\\lib\\threading.py\", line 864, in run\n",
      "    self._target(*self._args, **self._kwargs)\n",
      "  File \"C:\\Users\\abeswara\\AppData\\Local\\Continuum\\anaconda3\\envs\\nlp\\lib\\site-packages\\azureml\\_history\\utils\\task_queue.py\", line 57, in _awaiter\n",
      "    result = task.wait()\n",
      "  File \"C:\\Users\\abeswara\\AppData\\Local\\Continuum\\anaconda3\\envs\\nlp\\lib\\site-packages\\azureml\\_history\\utils\\async_task.py\", line 48, in wait\n",
      "    return self._handler(self._task, self._logger)\n",
      "  File \"C:\\Users\\abeswara\\AppData\\Local\\Continuum\\anaconda3\\envs\\nlp\\lib\\site-packages\\azureml\\data\\azure_storage_datastore.py\", line 263, in handler\n",
      "    logger.error(\"Task Exception\", e)\n",
      "Message: 'Task Exception'\n",
      "Arguments: (AzureHttpError('Forbidden\\n<!DOCTYPE HTML PUBLIC \"-//W3C//DTD HTML 4.01//EN\"\"http://www.w3.org/TR/html4/strict.dtd\">\\r\\n<HTML><HEAD><TITLE>Forbidden</TITLE>\\r\\n<META HTTP-EQUIV=\"Content-Type\" Content=\"text/html; charset=us-ascii\"></HEAD>\\r\\n<BODY><h2>Forbidden URL</h2>\\r\\n<hr><p>HTTP Error 403. The request URL is forbidden.</p>\\r\\n</BODY></HTML>\\r\\n',),)\n",
      "--- Logging error ---\n",
      "Traceback (most recent call last):\n",
      "  File \"C:\\Users\\abeswara\\AppData\\Local\\Continuum\\anaconda3\\envs\\nlp\\lib\\site-packages\\azureml\\data\\azure_storage_datastore.py\", line 256, in handler\n",
      "    result = fn()\n",
      "  File \"C:\\Users\\abeswara\\AppData\\Local\\Continuum\\anaconda3\\envs\\nlp\\lib\\site-packages\\azureml\\data\\azure_storage_datastore.py\", line 576, in <lambda>\n",
      "    lambda target, source: lambda: self.blob_service.create_blob_from_path(self.container_name, target, source)\n",
      "  File \"C:\\Users\\abeswara\\AppData\\Local\\Continuum\\anaconda3\\envs\\nlp\\lib\\site-packages\\azureml\\_vendor\\azure_storage\\blob\\blockblobservice.py\", line 463, in create_blob_from_path\n",
      "    timeout=timeout)\n",
      "  File \"C:\\Users\\abeswara\\AppData\\Local\\Continuum\\anaconda3\\envs\\nlp\\lib\\site-packages\\azureml\\_vendor\\azure_storage\\blob\\blockblobservice.py\", line 614, in create_blob_from_stream\n",
      "    initialization_vector=iv\n",
      "  File \"C:\\Users\\abeswara\\AppData\\Local\\Continuum\\anaconda3\\envs\\nlp\\lib\\site-packages\\azureml\\_vendor\\azure_storage\\blob\\_upload_chunking.py\", line 85, in _upload_blob_chunks\n",
      "    raise f.exception()\n",
      "  File \"C:\\Users\\abeswara\\AppData\\Local\\Continuum\\anaconda3\\envs\\nlp\\lib\\concurrent\\futures\\thread.py\", line 56, in run\n",
      "    result = self.fn(*self.args, **self.kwargs)\n",
      "  File \"C:\\Users\\abeswara\\AppData\\Local\\Continuum\\anaconda3\\envs\\nlp\\lib\\site-packages\\azureml\\_vendor\\azure_storage\\blob\\_upload_chunking.py\", line 210, in process_chunk\n",
      "    return self._upload_chunk_with_progress(chunk_offset, chunk_bytes)\n",
      "  File \"C:\\Users\\abeswara\\AppData\\Local\\Continuum\\anaconda3\\envs\\nlp\\lib\\site-packages\\azureml\\_vendor\\azure_storage\\blob\\_upload_chunking.py\", line 224, in _upload_chunk_with_progress\n",
      "    range_id = self._upload_chunk(chunk_offset, chunk_data)\n",
      "  File \"C:\\Users\\abeswara\\AppData\\Local\\Continuum\\anaconda3\\envs\\nlp\\lib\\site-packages\\azureml\\_vendor\\azure_storage\\blob\\_upload_chunking.py\", line 269, in _upload_chunk\n",
      "    timeout=self.timeout,\n",
      "  File \"C:\\Users\\abeswara\\AppData\\Local\\Continuum\\anaconda3\\envs\\nlp\\lib\\site-packages\\azureml\\_vendor\\azure_storage\\blob\\blockblobservice.py\", line 1013, in _put_block\n",
      "    self._perform_request(request)\n",
      "  File \"C:\\Users\\abeswara\\AppData\\Local\\Continuum\\anaconda3\\envs\\nlp\\lib\\site-packages\\azureml\\_vendor\\azure_storage\\common\\storageclient.py\", line 381, in _perform_request\n",
      "    raise ex\n",
      "  File \"C:\\Users\\abeswara\\AppData\\Local\\Continuum\\anaconda3\\envs\\nlp\\lib\\site-packages\\azureml\\_vendor\\azure_storage\\common\\storageclient.py\", line 306, in _perform_request\n",
      "    raise ex\n",
      "  File \"C:\\Users\\abeswara\\AppData\\Local\\Continuum\\anaconda3\\envs\\nlp\\lib\\site-packages\\azureml\\_vendor\\azure_storage\\common\\storageclient.py\", line 292, in _perform_request\n",
      "    HTTPError(response.status, response.message, response.headers, response.body))\n",
      "  File \"C:\\Users\\abeswara\\AppData\\Local\\Continuum\\anaconda3\\envs\\nlp\\lib\\site-packages\\azureml\\_vendor\\azure_storage\\common\\_error.py\", line 115, in _http_error_handler\n",
      "    raise ex\n",
      "azure.common.AzureHttpError: Forbidden\n",
      "<!DOCTYPE HTML PUBLIC \"-//W3C//DTD HTML 4.01//EN\"\"http://www.w3.org/TR/html4/strict.dtd\">\n",
      "<HTML><HEAD><TITLE>Forbidden</TITLE>\n",
      "<META HTTP-EQUIV=\"Content-Type\" Content=\"text/html; charset=us-ascii\"></HEAD>\n",
      "<BODY><h2>Forbidden URL</h2>\n",
      "<hr><p>HTTP Error 403. The request URL is forbidden.</p>\n",
      "</BODY></HTML>\n",
      "\n",
      "\n",
      "During handling of the above exception, another exception occurred:\n",
      "\n",
      "Traceback (most recent call last):\n",
      "  File \"C:\\Users\\abeswara\\AppData\\Local\\Continuum\\anaconda3\\envs\\nlp\\lib\\logging\\__init__.py\", line 994, in emit\n",
      "    msg = self.format(record)\n",
      "  File \"C:\\Users\\abeswara\\AppData\\Local\\Continuum\\anaconda3\\envs\\nlp\\lib\\logging\\__init__.py\", line 840, in format\n",
      "    return fmt.format(record)\n",
      "  File \"C:\\Users\\abeswara\\AppData\\Local\\Continuum\\anaconda3\\envs\\nlp\\lib\\logging\\__init__.py\", line 577, in format\n",
      "    record.message = record.getMessage()\n",
      "  File \"C:\\Users\\abeswara\\AppData\\Local\\Continuum\\anaconda3\\envs\\nlp\\lib\\logging\\__init__.py\", line 338, in getMessage\n",
      "    msg = msg % self.args\n",
      "TypeError: not all arguments converted during string formatting\n",
      "Call stack:\n",
      "  File \"C:\\Users\\abeswara\\AppData\\Local\\Continuum\\anaconda3\\envs\\nlp\\lib\\threading.py\", line 884, in _bootstrap\n",
      "    self._bootstrap_inner()\n",
      "  File \"C:\\Users\\abeswara\\AppData\\Local\\Continuum\\anaconda3\\envs\\nlp\\lib\\threading.py\", line 916, in _bootstrap_inner\n",
      "    self.run()\n",
      "  File \"C:\\Users\\abeswara\\AppData\\Local\\Continuum\\anaconda3\\envs\\nlp\\lib\\threading.py\", line 864, in run\n",
      "    self._target(*self._args, **self._kwargs)\n",
      "  File \"C:\\Users\\abeswara\\AppData\\Local\\Continuum\\anaconda3\\envs\\nlp\\lib\\site-packages\\azureml\\_history\\utils\\task_queue.py\", line 57, in _awaiter\n",
      "    result = task.wait()\n",
      "  File \"C:\\Users\\abeswara\\AppData\\Local\\Continuum\\anaconda3\\envs\\nlp\\lib\\site-packages\\azureml\\_history\\utils\\async_task.py\", line 48, in wait\n",
      "    return self._handler(self._task, self._logger)\n",
      "  File \"C:\\Users\\abeswara\\AppData\\Local\\Continuum\\anaconda3\\envs\\nlp\\lib\\site-packages\\azureml\\data\\azure_storage_datastore.py\", line 263, in handler\n",
      "    logger.error(\"Task Exception\", e)\n",
      "Message: 'Task Exception'\n",
      "Arguments: (AzureHttpError('Forbidden\\n<!DOCTYPE HTML PUBLIC \"-//W3C//DTD HTML 4.01//EN\"\"http://www.w3.org/TR/html4/strict.dtd\">\\r\\n<HTML><HEAD><TITLE>Forbidden</TITLE>\\r\\n<META HTTP-EQUIV=\"Content-Type\" Content=\"text/html; charset=us-ascii\"></HEAD>\\r\\n<BODY><h2>Forbidden URL</h2>\\r\\n<hr><p>HTTP Error 403. The request URL is forbidden.</p>\\r\\n</BODY></HTML>\\r\\n',),)\n",
      "--- Logging error ---\n",
      "Traceback (most recent call last):\n",
      "  File \"C:\\Users\\abeswara\\AppData\\Local\\Continuum\\anaconda3\\envs\\nlp\\lib\\site-packages\\azureml\\data\\azure_storage_datastore.py\", line 256, in handler\n",
      "    result = fn()\n"
     ]
    },
    {
     "name": "stderr",
     "output_type": "stream",
     "text": [
      "  File \"C:\\Users\\abeswara\\AppData\\Local\\Continuum\\anaconda3\\envs\\nlp\\lib\\site-packages\\azureml\\data\\azure_storage_datastore.py\", line 576, in <lambda>\n",
      "    lambda target, source: lambda: self.blob_service.create_blob_from_path(self.container_name, target, source)\n",
      "  File \"C:\\Users\\abeswara\\AppData\\Local\\Continuum\\anaconda3\\envs\\nlp\\lib\\site-packages\\azureml\\_vendor\\azure_storage\\blob\\blockblobservice.py\", line 463, in create_blob_from_path\n",
      "    timeout=timeout)\n",
      "  File \"C:\\Users\\abeswara\\AppData\\Local\\Continuum\\anaconda3\\envs\\nlp\\lib\\site-packages\\azureml\\_vendor\\azure_storage\\blob\\blockblobservice.py\", line 582, in create_blob_from_stream\n",
      "    timeout=timeout)\n",
      "  File \"C:\\Users\\abeswara\\AppData\\Local\\Continuum\\anaconda3\\envs\\nlp\\lib\\site-packages\\azureml\\_vendor\\azure_storage\\blob\\blockblobservice.py\", line 971, in _put_blob\n",
      "    return self._perform_request(request, _parse_base_properties)\n",
      "  File \"C:\\Users\\abeswara\\AppData\\Local\\Continuum\\anaconda3\\envs\\nlp\\lib\\site-packages\\azureml\\_vendor\\azure_storage\\common\\storageclient.py\", line 381, in _perform_request\n",
      "    raise ex\n",
      "  File \"C:\\Users\\abeswara\\AppData\\Local\\Continuum\\anaconda3\\envs\\nlp\\lib\\site-packages\\azureml\\_vendor\\azure_storage\\common\\storageclient.py\", line 306, in _perform_request\n",
      "    raise ex\n",
      "  File \"C:\\Users\\abeswara\\AppData\\Local\\Continuum\\anaconda3\\envs\\nlp\\lib\\site-packages\\azureml\\_vendor\\azure_storage\\common\\storageclient.py\", line 292, in _perform_request\n",
      "    HTTPError(response.status, response.message, response.headers, response.body))\n",
      "  File \"C:\\Users\\abeswara\\AppData\\Local\\Continuum\\anaconda3\\envs\\nlp\\lib\\site-packages\\azureml\\_vendor\\azure_storage\\common\\_error.py\", line 115, in _http_error_handler\n",
      "    raise ex\n",
      "azure.common.AzureHttpError: Forbidden\n",
      "<!DOCTYPE HTML PUBLIC \"-//W3C//DTD HTML 4.01//EN\"\"http://www.w3.org/TR/html4/strict.dtd\">\n",
      "<HTML><HEAD><TITLE>Forbidden</TITLE>\n",
      "<META HTTP-EQUIV=\"Content-Type\" Content=\"text/html; charset=us-ascii\"></HEAD>\n",
      "<BODY><h2>Forbidden URL</h2>\n",
      "<hr><p>HTTP Error 403. The request URL is forbidden.</p>\n",
      "</BODY></HTML>\n",
      "\n",
      "\n",
      "During handling of the above exception, another exception occurred:\n",
      "\n",
      "Traceback (most recent call last):\n",
      "  File \"C:\\Users\\abeswara\\AppData\\Local\\Continuum\\anaconda3\\envs\\nlp\\lib\\logging\\__init__.py\", line 994, in emit\n",
      "    msg = self.format(record)\n",
      "  File \"C:\\Users\\abeswara\\AppData\\Local\\Continuum\\anaconda3\\envs\\nlp\\lib\\logging\\__init__.py\", line 840, in format\n",
      "    return fmt.format(record)\n",
      "  File \"C:\\Users\\abeswara\\AppData\\Local\\Continuum\\anaconda3\\envs\\nlp\\lib\\logging\\__init__.py\", line 577, in format\n",
      "    record.message = record.getMessage()\n",
      "  File \"C:\\Users\\abeswara\\AppData\\Local\\Continuum\\anaconda3\\envs\\nlp\\lib\\logging\\__init__.py\", line 338, in getMessage\n",
      "    msg = msg % self.args\n",
      "TypeError: not all arguments converted during string formatting\n",
      "Call stack:\n",
      "  File \"C:\\Users\\abeswara\\AppData\\Local\\Continuum\\anaconda3\\envs\\nlp\\lib\\threading.py\", line 884, in _bootstrap\n",
      "    self._bootstrap_inner()\n",
      "  File \"C:\\Users\\abeswara\\AppData\\Local\\Continuum\\anaconda3\\envs\\nlp\\lib\\threading.py\", line 916, in _bootstrap_inner\n",
      "    self.run()\n",
      "  File \"C:\\Users\\abeswara\\AppData\\Local\\Continuum\\anaconda3\\envs\\nlp\\lib\\threading.py\", line 864, in run\n",
      "    self._target(*self._args, **self._kwargs)\n",
      "  File \"C:\\Users\\abeswara\\AppData\\Local\\Continuum\\anaconda3\\envs\\nlp\\lib\\site-packages\\azureml\\_history\\utils\\task_queue.py\", line 57, in _awaiter\n",
      "    result = task.wait()\n",
      "  File \"C:\\Users\\abeswara\\AppData\\Local\\Continuum\\anaconda3\\envs\\nlp\\lib\\site-packages\\azureml\\_history\\utils\\async_task.py\", line 48, in wait\n",
      "    return self._handler(self._task, self._logger)\n",
      "  File \"C:\\Users\\abeswara\\AppData\\Local\\Continuum\\anaconda3\\envs\\nlp\\lib\\site-packages\\azureml\\data\\azure_storage_datastore.py\", line 263, in handler\n",
      "    logger.error(\"Task Exception\", e)\n",
      "Message: 'Task Exception'\n",
      "Arguments: (AzureHttpError('Forbidden\\n<!DOCTYPE HTML PUBLIC \"-//W3C//DTD HTML 4.01//EN\"\"http://www.w3.org/TR/html4/strict.dtd\">\\r\\n<HTML><HEAD><TITLE>Forbidden</TITLE>\\r\\n<META HTTP-EQUIV=\"Content-Type\" Content=\"text/html; charset=us-ascii\"></HEAD>\\r\\n<BODY><h2>Forbidden URL</h2>\\r\\n<hr><p>HTTP Error 403. The request URL is forbidden.</p>\\r\\n</BODY></HTML>\\r\\n',),)\n",
      "--- Logging error ---\n",
      "Traceback (most recent call last):\n",
      "  File \"C:\\Users\\abeswara\\AppData\\Local\\Continuum\\anaconda3\\envs\\nlp\\lib\\site-packages\\azureml\\data\\azure_storage_datastore.py\", line 256, in handler\n",
      "    result = fn()\n",
      "  File \"C:\\Users\\abeswara\\AppData\\Local\\Continuum\\anaconda3\\envs\\nlp\\lib\\site-packages\\azureml\\data\\azure_storage_datastore.py\", line 576, in <lambda>\n",
      "    lambda target, source: lambda: self.blob_service.create_blob_from_path(self.container_name, target, source)\n",
      "  File \"C:\\Users\\abeswara\\AppData\\Local\\Continuum\\anaconda3\\envs\\nlp\\lib\\site-packages\\azureml\\_vendor\\azure_storage\\blob\\blockblobservice.py\", line 463, in create_blob_from_path\n",
      "    timeout=timeout)\n",
      "  File \"C:\\Users\\abeswara\\AppData\\Local\\Continuum\\anaconda3\\envs\\nlp\\lib\\site-packages\\azureml\\_vendor\\azure_storage\\blob\\blockblobservice.py\", line 582, in create_blob_from_stream\n",
      "    timeout=timeout)\n",
      "  File \"C:\\Users\\abeswara\\AppData\\Local\\Continuum\\anaconda3\\envs\\nlp\\lib\\site-packages\\azureml\\_vendor\\azure_storage\\blob\\blockblobservice.py\", line 971, in _put_blob\n",
      "    return self._perform_request(request, _parse_base_properties)\n",
      "  File \"C:\\Users\\abeswara\\AppData\\Local\\Continuum\\anaconda3\\envs\\nlp\\lib\\site-packages\\azureml\\_vendor\\azure_storage\\common\\storageclient.py\", line 381, in _perform_request\n",
      "    raise ex\n",
      "  File \"C:\\Users\\abeswara\\AppData\\Local\\Continuum\\anaconda3\\envs\\nlp\\lib\\site-packages\\azureml\\_vendor\\azure_storage\\common\\storageclient.py\", line 306, in _perform_request\n",
      "    raise ex\n",
      "  File \"C:\\Users\\abeswara\\AppData\\Local\\Continuum\\anaconda3\\envs\\nlp\\lib\\site-packages\\azureml\\_vendor\\azure_storage\\common\\storageclient.py\", line 292, in _perform_request\n",
      "    HTTPError(response.status, response.message, response.headers, response.body))\n",
      "  File \"C:\\Users\\abeswara\\AppData\\Local\\Continuum\\anaconda3\\envs\\nlp\\lib\\site-packages\\azureml\\_vendor\\azure_storage\\common\\_error.py\", line 115, in _http_error_handler\n",
      "    raise ex\n",
      "azure.common.AzureHttpError: Forbidden\n",
      "<!DOCTYPE HTML PUBLIC \"-//W3C//DTD HTML 4.01//EN\"\"http://www.w3.org/TR/html4/strict.dtd\">\n",
      "<HTML><HEAD><TITLE>Forbidden</TITLE>\n",
      "<META HTTP-EQUIV=\"Content-Type\" Content=\"text/html; charset=us-ascii\"></HEAD>\n",
      "<BODY><h2>Forbidden URL</h2>\n",
      "<hr><p>HTTP Error 403. The request URL is forbidden.</p>\n",
      "</BODY></HTML>\n",
      "\n",
      "\n",
      "During handling of the above exception, another exception occurred:\n",
      "\n",
      "Traceback (most recent call last):\n",
      "  File \"C:\\Users\\abeswara\\AppData\\Local\\Continuum\\anaconda3\\envs\\nlp\\lib\\logging\\__init__.py\", line 994, in emit\n",
      "    msg = self.format(record)\n",
      "  File \"C:\\Users\\abeswara\\AppData\\Local\\Continuum\\anaconda3\\envs\\nlp\\lib\\logging\\__init__.py\", line 840, in format\n",
      "    return fmt.format(record)\n",
      "  File \"C:\\Users\\abeswara\\AppData\\Local\\Continuum\\anaconda3\\envs\\nlp\\lib\\logging\\__init__.py\", line 577, in format\n",
      "    record.message = record.getMessage()\n",
      "  File \"C:\\Users\\abeswara\\AppData\\Local\\Continuum\\anaconda3\\envs\\nlp\\lib\\logging\\__init__.py\", line 338, in getMessage\n",
      "    msg = msg % self.args\n",
      "TypeError: not all arguments converted during string formatting\n",
      "Call stack:\n",
      "  File \"C:\\Users\\abeswara\\AppData\\Local\\Continuum\\anaconda3\\envs\\nlp\\lib\\threading.py\", line 884, in _bootstrap\n",
      "    self._bootstrap_inner()\n",
      "  File \"C:\\Users\\abeswara\\AppData\\Local\\Continuum\\anaconda3\\envs\\nlp\\lib\\threading.py\", line 916, in _bootstrap_inner\n",
      "    self.run()\n",
      "  File \"C:\\Users\\abeswara\\AppData\\Local\\Continuum\\anaconda3\\envs\\nlp\\lib\\threading.py\", line 864, in run\n",
      "    self._target(*self._args, **self._kwargs)\n",
      "  File \"C:\\Users\\abeswara\\AppData\\Local\\Continuum\\anaconda3\\envs\\nlp\\lib\\site-packages\\azureml\\_history\\utils\\task_queue.py\", line 57, in _awaiter\n",
      "    result = task.wait()\n",
      "  File \"C:\\Users\\abeswara\\AppData\\Local\\Continuum\\anaconda3\\envs\\nlp\\lib\\site-packages\\azureml\\_history\\utils\\async_task.py\", line 48, in wait\n",
      "    return self._handler(self._task, self._logger)\n",
      "  File \"C:\\Users\\abeswara\\AppData\\Local\\Continuum\\anaconda3\\envs\\nlp\\lib\\site-packages\\azureml\\data\\azure_storage_datastore.py\", line 263, in handler\n",
      "    logger.error(\"Task Exception\", e)\n"
     ]
    },
    {
     "name": "stderr",
     "output_type": "stream",
     "text": [
      "Message: 'Task Exception'\n",
      "Arguments: (AzureHttpError('Forbidden\\n<!DOCTYPE HTML PUBLIC \"-//W3C//DTD HTML 4.01//EN\"\"http://www.w3.org/TR/html4/strict.dtd\">\\r\\n<HTML><HEAD><TITLE>Forbidden</TITLE>\\r\\n<META HTTP-EQUIV=\"Content-Type\" Content=\"text/html; charset=us-ascii\"></HEAD>\\r\\n<BODY><h2>Forbidden URL</h2>\\r\\n<hr><p>HTTP Error 403. The request URL is forbidden.</p>\\r\\n</BODY></HTML>\\r\\n',),)\n",
      "--- Logging error ---\n",
      "Traceback (most recent call last):\n",
      "  File \"C:\\Users\\abeswara\\AppData\\Local\\Continuum\\anaconda3\\envs\\nlp\\lib\\site-packages\\azureml\\data\\azure_storage_datastore.py\", line 256, in handler\n",
      "    result = fn()\n",
      "  File \"C:\\Users\\abeswara\\AppData\\Local\\Continuum\\anaconda3\\envs\\nlp\\lib\\site-packages\\azureml\\data\\azure_storage_datastore.py\", line 576, in <lambda>\n",
      "    lambda target, source: lambda: self.blob_service.create_blob_from_path(self.container_name, target, source)\n",
      "  File \"C:\\Users\\abeswara\\AppData\\Local\\Continuum\\anaconda3\\envs\\nlp\\lib\\site-packages\\azureml\\_vendor\\azure_storage\\blob\\blockblobservice.py\", line 463, in create_blob_from_path\n",
      "    timeout=timeout)\n",
      "  File \"C:\\Users\\abeswara\\AppData\\Local\\Continuum\\anaconda3\\envs\\nlp\\lib\\site-packages\\azureml\\_vendor\\azure_storage\\blob\\blockblobservice.py\", line 582, in create_blob_from_stream\n",
      "    timeout=timeout)\n",
      "  File \"C:\\Users\\abeswara\\AppData\\Local\\Continuum\\anaconda3\\envs\\nlp\\lib\\site-packages\\azureml\\_vendor\\azure_storage\\blob\\blockblobservice.py\", line 971, in _put_blob\n",
      "    return self._perform_request(request, _parse_base_properties)\n",
      "  File \"C:\\Users\\abeswara\\AppData\\Local\\Continuum\\anaconda3\\envs\\nlp\\lib\\site-packages\\azureml\\_vendor\\azure_storage\\common\\storageclient.py\", line 381, in _perform_request\n",
      "    raise ex\n",
      "  File \"C:\\Users\\abeswara\\AppData\\Local\\Continuum\\anaconda3\\envs\\nlp\\lib\\site-packages\\azureml\\_vendor\\azure_storage\\common\\storageclient.py\", line 306, in _perform_request\n",
      "    raise ex\n",
      "  File \"C:\\Users\\abeswara\\AppData\\Local\\Continuum\\anaconda3\\envs\\nlp\\lib\\site-packages\\azureml\\_vendor\\azure_storage\\common\\storageclient.py\", line 292, in _perform_request\n",
      "    HTTPError(response.status, response.message, response.headers, response.body))\n",
      "  File \"C:\\Users\\abeswara\\AppData\\Local\\Continuum\\anaconda3\\envs\\nlp\\lib\\site-packages\\azureml\\_vendor\\azure_storage\\common\\_error.py\", line 115, in _http_error_handler\n",
      "    raise ex\n",
      "azure.common.AzureHttpError: Forbidden\n",
      "<!DOCTYPE HTML PUBLIC \"-//W3C//DTD HTML 4.01//EN\"\"http://www.w3.org/TR/html4/strict.dtd\">\n",
      "<HTML><HEAD><TITLE>Forbidden</TITLE>\n",
      "<META HTTP-EQUIV=\"Content-Type\" Content=\"text/html; charset=us-ascii\"></HEAD>\n",
      "<BODY><h2>Forbidden URL</h2>\n",
      "<hr><p>HTTP Error 403. The request URL is forbidden.</p>\n",
      "</BODY></HTML>\n",
      "\n",
      "\n",
      "During handling of the above exception, another exception occurred:\n",
      "\n",
      "Traceback (most recent call last):\n",
      "  File \"C:\\Users\\abeswara\\AppData\\Local\\Continuum\\anaconda3\\envs\\nlp\\lib\\logging\\__init__.py\", line 994, in emit\n",
      "    msg = self.format(record)\n",
      "  File \"C:\\Users\\abeswara\\AppData\\Local\\Continuum\\anaconda3\\envs\\nlp\\lib\\logging\\__init__.py\", line 840, in format\n",
      "    return fmt.format(record)\n",
      "  File \"C:\\Users\\abeswara\\AppData\\Local\\Continuum\\anaconda3\\envs\\nlp\\lib\\logging\\__init__.py\", line 577, in format\n",
      "    record.message = record.getMessage()\n",
      "  File \"C:\\Users\\abeswara\\AppData\\Local\\Continuum\\anaconda3\\envs\\nlp\\lib\\logging\\__init__.py\", line 338, in getMessage\n",
      "    msg = msg % self.args\n",
      "TypeError: not all arguments converted during string formatting\n",
      "Call stack:\n",
      "  File \"C:\\Users\\abeswara\\AppData\\Local\\Continuum\\anaconda3\\envs\\nlp\\lib\\threading.py\", line 884, in _bootstrap\n",
      "    self._bootstrap_inner()\n",
      "  File \"C:\\Users\\abeswara\\AppData\\Local\\Continuum\\anaconda3\\envs\\nlp\\lib\\threading.py\", line 916, in _bootstrap_inner\n",
      "    self.run()\n",
      "  File \"C:\\Users\\abeswara\\AppData\\Local\\Continuum\\anaconda3\\envs\\nlp\\lib\\threading.py\", line 864, in run\n",
      "    self._target(*self._args, **self._kwargs)\n",
      "  File \"C:\\Users\\abeswara\\AppData\\Local\\Continuum\\anaconda3\\envs\\nlp\\lib\\site-packages\\azureml\\_history\\utils\\task_queue.py\", line 57, in _awaiter\n",
      "    result = task.wait()\n",
      "  File \"C:\\Users\\abeswara\\AppData\\Local\\Continuum\\anaconda3\\envs\\nlp\\lib\\site-packages\\azureml\\_history\\utils\\async_task.py\", line 48, in wait\n",
      "    return self._handler(self._task, self._logger)\n",
      "  File \"C:\\Users\\abeswara\\AppData\\Local\\Continuum\\anaconda3\\envs\\nlp\\lib\\site-packages\\azureml\\data\\azure_storage_datastore.py\", line 263, in handler\n",
      "    logger.error(\"Task Exception\", e)\n",
      "Message: 'Task Exception'\n",
      "Arguments: (AzureHttpError('Forbidden\\n<!DOCTYPE HTML PUBLIC \"-//W3C//DTD HTML 4.01//EN\"\"http://www.w3.org/TR/html4/strict.dtd\">\\r\\n<HTML><HEAD><TITLE>Forbidden</TITLE>\\r\\n<META HTTP-EQUIV=\"Content-Type\" Content=\"text/html; charset=us-ascii\"></HEAD>\\r\\n<BODY><h2>Forbidden URL</h2>\\r\\n<hr><p>HTTP Error 403. The request URL is forbidden.</p>\\r\\n</BODY></HTML>\\r\\n',),)\n",
      "--- Logging error ---\n",
      "Traceback (most recent call last):\n",
      "  File \"C:\\Users\\abeswara\\AppData\\Local\\Continuum\\anaconda3\\envs\\nlp\\lib\\site-packages\\azureml\\data\\azure_storage_datastore.py\", line 256, in handler\n",
      "    result = fn()\n",
      "  File \"C:\\Users\\abeswara\\AppData\\Local\\Continuum\\anaconda3\\envs\\nlp\\lib\\site-packages\\azureml\\data\\azure_storage_datastore.py\", line 576, in <lambda>\n",
      "    lambda target, source: lambda: self.blob_service.create_blob_from_path(self.container_name, target, source)\n",
      "  File \"C:\\Users\\abeswara\\AppData\\Local\\Continuum\\anaconda3\\envs\\nlp\\lib\\site-packages\\azureml\\_vendor\\azure_storage\\blob\\blockblobservice.py\", line 463, in create_blob_from_path\n",
      "    timeout=timeout)\n",
      "  File \"C:\\Users\\abeswara\\AppData\\Local\\Continuum\\anaconda3\\envs\\nlp\\lib\\site-packages\\azureml\\_vendor\\azure_storage\\blob\\blockblobservice.py\", line 582, in create_blob_from_stream\n",
      "    timeout=timeout)\n",
      "  File \"C:\\Users\\abeswara\\AppData\\Local\\Continuum\\anaconda3\\envs\\nlp\\lib\\site-packages\\azureml\\_vendor\\azure_storage\\blob\\blockblobservice.py\", line 971, in _put_blob\n",
      "    return self._perform_request(request, _parse_base_properties)\n",
      "  File \"C:\\Users\\abeswara\\AppData\\Local\\Continuum\\anaconda3\\envs\\nlp\\lib\\site-packages\\azureml\\_vendor\\azure_storage\\common\\storageclient.py\", line 381, in _perform_request\n",
      "    raise ex\n",
      "  File \"C:\\Users\\abeswara\\AppData\\Local\\Continuum\\anaconda3\\envs\\nlp\\lib\\site-packages\\azureml\\_vendor\\azure_storage\\common\\storageclient.py\", line 306, in _perform_request\n",
      "    raise ex\n",
      "  File \"C:\\Users\\abeswara\\AppData\\Local\\Continuum\\anaconda3\\envs\\nlp\\lib\\site-packages\\azureml\\_vendor\\azure_storage\\common\\storageclient.py\", line 292, in _perform_request\n",
      "    HTTPError(response.status, response.message, response.headers, response.body))\n",
      "  File \"C:\\Users\\abeswara\\AppData\\Local\\Continuum\\anaconda3\\envs\\nlp\\lib\\site-packages\\azureml\\_vendor\\azure_storage\\common\\_error.py\", line 115, in _http_error_handler\n",
      "    raise ex\n",
      "azure.common.AzureHttpError: Forbidden\n",
      "<!DOCTYPE HTML PUBLIC \"-//W3C//DTD HTML 4.01//EN\"\"http://www.w3.org/TR/html4/strict.dtd\">\n",
      "<HTML><HEAD><TITLE>Forbidden</TITLE>\n",
      "<META HTTP-EQUIV=\"Content-Type\" Content=\"text/html; charset=us-ascii\"></HEAD>\n",
      "<BODY><h2>Forbidden URL</h2>\n",
      "<hr><p>HTTP Error 403. The request URL is forbidden.</p>\n",
      "</BODY></HTML>\n",
      "\n",
      "\n",
      "During handling of the above exception, another exception occurred:\n",
      "\n",
      "Traceback (most recent call last):\n",
      "  File \"C:\\Users\\abeswara\\AppData\\Local\\Continuum\\anaconda3\\envs\\nlp\\lib\\logging\\__init__.py\", line 994, in emit\n",
      "    msg = self.format(record)\n",
      "  File \"C:\\Users\\abeswara\\AppData\\Local\\Continuum\\anaconda3\\envs\\nlp\\lib\\logging\\__init__.py\", line 840, in format\n",
      "    return fmt.format(record)\n",
      "  File \"C:\\Users\\abeswara\\AppData\\Local\\Continuum\\anaconda3\\envs\\nlp\\lib\\logging\\__init__.py\", line 577, in format\n",
      "    record.message = record.getMessage()\n",
      "  File \"C:\\Users\\abeswara\\AppData\\Local\\Continuum\\anaconda3\\envs\\nlp\\lib\\logging\\__init__.py\", line 338, in getMessage\n",
      "    msg = msg % self.args\n",
      "TypeError: not all arguments converted during string formatting\n",
      "Call stack:\n",
      "  File \"C:\\Users\\abeswara\\AppData\\Local\\Continuum\\anaconda3\\envs\\nlp\\lib\\threading.py\", line 884, in _bootstrap\n",
      "    self._bootstrap_inner()\n",
      "  File \"C:\\Users\\abeswara\\AppData\\Local\\Continuum\\anaconda3\\envs\\nlp\\lib\\threading.py\", line 916, in _bootstrap_inner\n",
      "    self.run()\n",
      "  File \"C:\\Users\\abeswara\\AppData\\Local\\Continuum\\anaconda3\\envs\\nlp\\lib\\threading.py\", line 864, in run\n",
      "    self._target(*self._args, **self._kwargs)\n"
     ]
    },
    {
     "name": "stderr",
     "output_type": "stream",
     "text": [
      "  File \"C:\\Users\\abeswara\\AppData\\Local\\Continuum\\anaconda3\\envs\\nlp\\lib\\site-packages\\azureml\\_history\\utils\\task_queue.py\", line 57, in _awaiter\n",
      "    result = task.wait()\n",
      "  File \"C:\\Users\\abeswara\\AppData\\Local\\Continuum\\anaconda3\\envs\\nlp\\lib\\site-packages\\azureml\\_history\\utils\\async_task.py\", line 48, in wait\n",
      "    return self._handler(self._task, self._logger)\n",
      "  File \"C:\\Users\\abeswara\\AppData\\Local\\Continuum\\anaconda3\\envs\\nlp\\lib\\site-packages\\azureml\\data\\azure_storage_datastore.py\", line 263, in handler\n",
      "    logger.error(\"Task Exception\", e)\n",
      "Message: 'Task Exception'\n",
      "Arguments: (AzureHttpError('Forbidden\\n<!DOCTYPE HTML PUBLIC \"-//W3C//DTD HTML 4.01//EN\"\"http://www.w3.org/TR/html4/strict.dtd\">\\r\\n<HTML><HEAD><TITLE>Forbidden</TITLE>\\r\\n<META HTTP-EQUIV=\"Content-Type\" Content=\"text/html; charset=us-ascii\"></HEAD>\\r\\n<BODY><h2>Forbidden URL</h2>\\r\\n<hr><p>HTTP Error 403. The request URL is forbidden.</p>\\r\\n</BODY></HTML>\\r\\n',),)\n"
     ]
    },
    {
     "data": {
      "text/plain": [
       "$AZUREML_DATAREFERENCE_974ecbc6b7d74bb190868e70fd13026f"
      ]
     },
     "execution_count": 21,
     "metadata": {},
     "output_type": "execute_result"
    }
   ],
   "source": [
    "data_folder = os.path.join(BASE_DATA_PATH, \"clean/snli_1.0/\")\n",
    "ds = ws.get_default_datastore()\n",
    "print(ds.datastore_type, ds.account_name, ds.container_name)\n",
    "\n",
    "ds.upload(src_dir=data_folder, target_path='data', overwrite=True, show_progress=True)"
   ]
  },
  {
   "cell_type": "markdown",
   "metadata": {},
   "source": [
    "### 2.3 Create a training script\n",
    "\n",
    "Create a directory that will contain all the necessary code from your local machine that you will need access to on the remote resource. This includes the training script and any additional files your training script depends on.\n",
    "\n",
    "In this notebook we load the files in ``./models/advanced/gensen/amlcode``. The directory contains all the code you want to submit to AmlCompute to run including the training script and other helper utils used by GenSen model."
   ]
  },
  {
   "cell_type": "code",
   "execution_count": null,
   "metadata": {},
   "outputs": [],
   "source": [
    "source_directory = 'models/advanced/gensen/amlcode'"
   ]
  },
  {
   "cell_type": "markdown",
   "metadata": {},
   "source": [
    "Now you will need to create your training script. In this tutorial, the script for distributed training of GENSEN is already provided for you at `train.py`. In practice, you should be able to take any custom PyTorch training script as is and run it with Azure ML without having to modify your code.\n",
    "\n",
    "The training script also uses Azure ML's [metric logging](https://docs.microsoft.com/en-us/azure/machine-learning/service/how-to-track-experiments) capabilities, you will have to add a small amount of Azure ML logic inside your training script. In this example, at each logging interval, we will log the loss for that minibatch to our Azure ML run."
   ]
  },
  {
   "cell_type": "code",
   "execution_count": null,
   "metadata": {},
   "outputs": [],
   "source": [
    "entry_script = 'train.py'"
   ]
  },
  {
   "cell_type": "markdown",
   "metadata": {
    "pycharm": {
     "metadata": false
    }
   },
   "source": [
    "## 3. Train model on the remote compute\n",
    "Now that we have the setup ready, we can start training our model. "
   ]
  },
  {
   "cell_type": "markdown",
   "metadata": {
    "pycharm": {
     "metadata": false
    }
   },
   "source": [
    "### 3.1 Create an experiment\n",
    "We first start by creating an [Experiment](https://docs.microsoft.com/azure/machine-learning/service/concept-azure-machine-learning-architecture#experiment) to track all the runs in your workspace for this distributed PyTorch tutorial."
   ]
  },
  {
   "cell_type": "code",
   "execution_count": null,
   "metadata": {
    "pycharm": {
     "metadata": false,
     "name": "#%%\n"
    }
   },
   "outputs": [],
   "source": [
    "from azureml.core import Experiment, get_run\n",
    "\n",
    "experiment_name = 'pytorch-gensen'\n",
    "experiment = Experiment(ws, name=experiment_name)"
   ]
  },
  {
   "cell_type": "markdown",
   "metadata": {
    "pycharm": {
     "metadata": false
    }
   },
   "source": [
    "### 3.2 Create a PyTorch estimator\n",
    "\n",
    "In this section, we create a PyTorch estimator that enables you to train your models at scale across CPU and GPU clusters of Azure VMs. You can easily run distributed PyTorch training with a few API calls, while Azure Machine Learning will manage behind the scenes all the infrastructure and orchestration needed to carry out these workloads. \n",
    "\n",
    "The Azure ML SDK's PyTorch estimator enables you to easily submit PyTorch training jobs for both single-node and distributed runs. For more information on the PyTorch estimator, refer [here](https://docs.microsoft.com/azure/machine-learning/service/how-to-train-pytorch).\n",
    "\n",
    "In this example we run distributed PyTorch using the Horovod framework on AzureML"
   ]
  },
  {
   "cell_type": "code",
   "execution_count": null,
   "metadata": {
    "pycharm": {
     "metadata": false,
     "name": "#%%\n"
    }
   },
   "outputs": [],
   "source": [
    "from azureml.train.dnn import PyTorch\n",
    "from azureml.train.estimator import Estimator\n",
    "\n",
    "script_params = {\n",
    "    '--config': 'example_config.json',\n",
    "    '--data_folder': ds.as_mount()}\n",
    "\n",
    "estimator = PyTorch(source_directory=source_directory,\n",
    "                    script_params=script_params,\n",
    "                    compute_target=compute_target,\n",
    "                    entry_script=entry_script,\n",
    "                    node_count=4,\n",
    "                    process_count_per_node=1,\n",
    "                    distributed_backend='mpi',\n",
    "                    use_gpu=True,\n",
    "                    conda_packages=['scikit-learn=0.20.3']\n",
    "                   )"
   ]
  },
  {
   "cell_type": "markdown",
   "metadata": {
    "pycharm": {
     "metadata": false
    }
   },
   "source": [
    "The above code specifies that we will run our training script on `4` nodes, with one worker per node. In order to execute a distributed run using GPU, you must provide the argument `use_gpu=True`. To execute a distributed run using MPI/Horovod, you must provide the argument `distributed_backend='mpi'`. Using this estimator with these settings, PyTorch, Horovod and their dependencies will be installed for you. If you are the first time to create a experiment, it may take longer to set up conda environments under `.azureml/conda_dependencies.yml`. After the first run, it will use the existing conda environments and directly run the code. However, if your script also uses other packages, make sure to install them via the `PyTorch` constructor's `pip_packages` or `conda_packages` parameters. The more required packages are stored in `.azureml/conda_dependencies.yml` file."
   ]
  },
  {
   "cell_type": "markdown",
   "metadata": {
    "pycharm": {
     "metadata": false
    }
   },
   "source": [
    "### 3.3 Submit job\n",
    "Run your experiment by submitting your estimator object. Note that this call is asynchronous."
   ]
  },
  {
   "cell_type": "code",
   "execution_count": null,
   "metadata": {
    "pycharm": {
     "metadata": false,
     "name": "#%%\n"
    }
   },
   "outputs": [],
   "source": [
    "run = experiment.submit(estimator)\n",
    "print(run)"
   ]
  },
  {
   "cell_type": "markdown",
   "metadata": {
    "pycharm": {
     "metadata": false
    }
   },
   "source": [
    "### 3.4 Monitor your run\n",
    "You can monitor the progress of the run with a Jupyter widget. Like the run submission, the widget is asynchronous and provides live updates every 10-15 seconds until the job completes. You can see that the widget automatically plots and visualizes the loss metric that we logged to the Azure ML run."
   ]
  },
  {
   "cell_type": "code",
   "execution_count": null,
   "metadata": {
    "pycharm": {
     "metadata": false,
     "name": "#%%\n"
    }
   },
   "outputs": [],
   "source": [
    "from azureml.widgets import RunDetails\n",
    "\n",
    "RunDetails(run).show()"
   ]
  },
  {
   "cell_type": "markdown",
   "metadata": {
    "pycharm": {
     "metadata": false
    }
   },
   "source": [
    "Alternatively, you can block until the script has completed training before running more code."
   ]
  },
  {
   "cell_type": "code",
   "execution_count": null,
   "metadata": {
    "pycharm": {
     "metadata": false,
     "name": "#%%\n"
    }
   },
   "outputs": [],
   "source": [
    "run.wait_for_completion(show_output=True) # this provides a verbose log#%%\n"
   ]
  },
  {
   "cell_type": "markdown",
   "metadata": {
    "pycharm": {
     "metadata": false
    }
   },
   "source": [
    "### 3.5 Cancel the job.\n",
    "It's better to cancel the job manually to make sure you does not waste resources."
   ]
  },
  {
   "cell_type": "code",
   "execution_count": null,
   "metadata": {
    "pycharm": {
     "metadata": false,
     "name": "#%%\n"
    }
   },
   "outputs": [],
   "source": [
    "# Cancel the job with id.\n",
    "# job_id = \"pytorch-gensen_1555533596_d9cc75fe\"\n",
    "# run = get_run(experiment, job_id)\n",
    "\n",
    "# Cancel jobs.\n",
    "run.cancel()"
   ]
  }
 ],
 "metadata": {
  "kernelspec": {
   "display_name": "Python [conda env:nlp]",
   "language": "python",
   "name": "conda-env-nlp-py"
  },
  "language_info": {
   "codemirror_mode": {
    "name": "ipython",
    "version": 3
   },
   "file_extension": ".py",
   "mimetype": "text/x-python",
   "name": "python",
   "nbconvert_exporter": "python",
   "pygments_lexer": "ipython3",
   "version": "3.6.8"
  },
  "stem_cell": {
   "cell_type": "raw",
   "metadata": {
    "pycharm": {
     "metadata": false
    }
   },
   "source": ""
  }
 },
 "nbformat": 4,
 "nbformat_minor": 1
}
