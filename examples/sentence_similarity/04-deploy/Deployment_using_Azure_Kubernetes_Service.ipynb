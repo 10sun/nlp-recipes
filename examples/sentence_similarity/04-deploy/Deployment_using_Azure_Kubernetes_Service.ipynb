{
 "cells": [
  {
   "cell_type": "code",
   "execution_count": null,
   "metadata": {},
   "outputs": [],
   "source": [
    "import os\n",
    "import requests\n",
    "import sys\n",
    "\n",
    "import azureml.core\n",
    "from azureml.core import Experiment, Workspace\n",
    "from azureml.core.image import ContainerImage\n",
    "from azureml.core.model import Model\n",
    "from azureml.core.webservice import AciWebservice, Webservice\n",
    "from azureml.exceptions import ProjectSystemException, UserErrorException\n",
    "\n",
    "\n",
    "\n"
   ]
  },
  {
   "cell_type": "code",
   "execution_count": null,
   "metadata": {},
   "outputs": [],
   "source": [
    "# Check core SDK version number\n",
    "print(f\"Azure ML SDK Version: {azureml.core.VERSION}\")"
   ]
  },
  {
   "cell_type": "code",
   "execution_count": null,
   "metadata": {},
   "outputs": [],
   "source": [
    "# Let's define these variables here - These pieces of information can be found on the portal\n",
    "subscription_id = os.getenv(\"SUBSCRIPTION_ID\", default=\"<our_subscription_id>\")\n",
    "resource_group =  os.getenv(\"RESOURCE_GROUP\", default=\"<our_resource_group>\")\n",
    "workspace_name = os.getenv(\"WORKSPACE_NAME\", default=\"<our_workspace_name>\")\n",
    "workspace_region = os.getenv(\"WORKSPACE_REGION\", default=\"<our_workspace_region>\")\n",
    "\n",
    "try:\n",
    "    # Let's load the workspace from the configuration file\n",
    "    ws = Workspace.from_config()\n",
    "    print(\"Workspace was loaded successfully from the configuration file\")\n",
    "except (UserErrorException, ProjectSystemException):\n",
    "    # or directly from Azure, if it already exists (exist_ok=True).\n",
    "    # If it does not exist, let's create a workspace from scratch\n",
    "    ws = Workspace.create(name=workspace_name,\n",
    "                          subscription_id=subscription_id,\n",
    "                          resource_group=resource_group,\n",
    "                          location=workspace_region,\n",
    "                          create_resource_group=True,\n",
    "                          exist_ok=True\n",
    "                         )\n",
    "    ws.write_config()\n",
    "    print(\"Workspace was loaded successfully from Azure\")"
   ]
  },
  {
   "cell_type": "code",
   "execution_count": null,
   "metadata": {},
   "outputs": [],
   "source": [
    "# Print the workspace attributes\n",
    "print(f'Workspace name: {ws.name}\\n \\\n",
    "      Azure region: {ws.location}\\n \\\n",
    "      Subscription id: {ws.subscription_id}\\n \\\n",
    "      Resource group: {ws.resource_group}')"
   ]
  },
  {
   "cell_type": "code",
   "execution_count": null,
   "metadata": {},
   "outputs": [],
   "source": [
    "MODEL_NAME = 'infersent1'\n",
    "PICKLED_MODEL_NAME = MODEL_NAME + '.pkl' #assumption - it's on local"
   ]
  },
  {
   "cell_type": "code",
   "execution_count": null,
   "metadata": {},
   "outputs": [],
   "source": [
    "model = Model.register(\n",
    "    model_path = os.path.join(\"C:/NLP/examples/sentence_similarity/04-deploy\", PICKLED_MODEL_NAME),\n",
    "    model_name = PICKLED_MODEL_NAME,\n",
    "    tags = {\"Model\": \"InferSent\"},\n",
    "    description = \"InferSent pretrained model\",\n",
    "    workspace = ws\n",
    ")"
   ]
  },
  {
   "cell_type": "code",
   "execution_count": null,
   "metadata": {},
   "outputs": [],
   "source": [
    "model.download()"
   ]
  },
  {
   "cell_type": "code",
   "execution_count": null,
   "metadata": {},
   "outputs": [],
   "source": [
    "# Close the run\n",
    "run.complete()"
   ]
  },
  {
   "cell_type": "code",
   "execution_count": null,
   "metadata": {},
   "outputs": [],
   "source": [
    "# Access the portal\n",
    "run\n",
    "\n",
    "#next - scoring, computational resources"
   ]
  }
 ],
 "metadata": {
  "kernelspec": {
   "display_name": "Python 3",
   "language": "python",
   "name": "python3"
  },
  "language_info": {
   "codemirror_mode": {
    "name": "ipython",
    "version": 3
   },
   "file_extension": ".py",
   "mimetype": "text/x-python",
   "name": "python",
   "nbconvert_exporter": "python",
   "pygments_lexer": "ipython3",
   "version": "3.6.8"
  }
 },
 "nbformat": 4,
 "nbformat_minor": 2
}
