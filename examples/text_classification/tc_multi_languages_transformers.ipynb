{
 "cells": [
  {
   "cell_type": "markdown",
   "metadata": {},
   "source": [
    "*Copyright (c) Microsoft Corporation. All rights reserved.*\n",
    "\n",
    "*Licensed under the MIT License.*\n",
    "\n",
    "# Text Classification of Multi Language Datasets using Transformer Model"
   ]
  },
  {
   "cell_type": "code",
   "execution_count": null,
   "metadata": {},
   "outputs": [],
   "source": [
    "import scrapbook as sb\n",
    "import pandas as pd\n",
    "import torch\n",
    "\n",
    "from tempfile import TemporaryDirectory\n",
    "from utils_nlp.common.timer import Timer\n",
    "from sklearn.metrics import classification_report\n",
    "from utils_nlp.models.transformers.sequence_classification import SequenceClassifier\n",
    "\n",
    "from utils_nlp.dataset import multinli\n",
    "from utils_nlp.dataset import dac\n",
    "from utils_nlp.dataset import bbc_hindi"
   ]
  },
  {
   "cell_type": "markdown",
   "metadata": {},
   "source": [
    "## Introduction\n",
    "\n",
    "In this notebook, we fine-tune and evaluate a pretrained Transformer model using BERT earchitecture on three different language datasets:\n",
    "\n",
    "- [MultiNLI dataset](https://www.nyu.edu/projects/bowman/multinli/): The Multi-Genre NLI corpus, in English\n",
    "- [DAC dataset](https://data.mendeley.com/datasets/v524p5dhpj/2): DataSet for Arabic Classification corpus, in Arabic\n",
    "- [BBC Hindi dataset](https://github.com/NirantK/hindi2vec/releases/tag/bbc-hindi-v0.1): BBC Hindi News corpus, in Hindi\n",
    "\n",
    "If you want to run through the notebook quickly, you can set the **`QUICK_RUN`** flag in the cell below to **`True`** to run the notebook on a small subset of the data and a smaller number of epochs. You can also choose a dataset from three existing datasets (**`MultNLI`**, **`DAC`**, and **`BBC Hindi`**) to experiment. "
   ]
  },
  {
   "cell_type": "markdown",
   "metadata": {},
   "source": [
    "### Running Time\n",
    "\n",
    "The table below provides some reference running time on different datasets.  \n",
    "\n",
    "|Dataset|QUICK_RUN|Machine Configurations|Running time|\n",
    "|:------|:---------|:----------------------|:------------|\n",
    "|MultiNLI|True|2 NVIDIA Tesla K80 GPUs, 12GB GPU memory| ~ 8 minutes |\n",
    "|MultiNLI|False|2 NVIDIA Tesla K80 GPUs, 12GB GPU memory| ~ 5.7 hours |\n",
    "|DAC|True|2 NVIDIA Tesla K80 GPUs, 12GB GPU memory| ~ 13 minutes |\n",
    "|DAC|False|2 NVIDIA Tesla K80 GPUs, 12GB GPU memory| ~ 5.6 hours |\n",
    "|BBC Hindi|True|2 NVIDIA Tesla K80 GPUs, 12GB GPU memory| ~ 1 minute |\n",
    "|BBC Hindi|False|2 NVIDIA Tesla K80 GPUs, 12GB GPU memory| ~ 14 minutes |\n",
    "\n",
    "If you run into CUDA out-of-memory error or the jupyter kernel dies constantly, try reducing the `batch_size` and `max_len` in `CONFIG`, but note that model performance may be compromised. "
   ]
  },
  {
   "cell_type": "code",
   "execution_count": null,
   "metadata": {},
   "outputs": [],
   "source": [
    "# Set QUICK_RUN = True to run the notebook on a small subset of data and a smaller number of epochs.\n",
    "QUICK_RUN = True\n",
    "\n",
    "# the dataset you want to try, valid values are: \"multinli\", \"dac\", \"bbc-hindi\"\n",
    "USE_DATASET = \"dac\""
   ]
  },
  {
   "cell_type": "markdown",
   "metadata": {},
   "source": [
    "Several pretrained models have been made available by [Hugging Face](https://github.com/huggingface/transformers). For text classification, the following pretrained models are supported."
   ]
  },
  {
   "cell_type": "code",
   "execution_count": null,
   "metadata": {},
   "outputs": [],
   "source": [
    "pd.DataFrame({\"model_name\": SequenceClassifier.list_supported_models()})"
   ]
  },
  {
   "cell_type": "markdown",
   "metadata": {},
   "source": [
    "In order to demonstrate multi language capability of Transformer models, we only use the model **`bert-base-multilingual-cased`** by default in this notebook."
   ]
  },
  {
   "cell_type": "markdown",
   "metadata": {},
   "source": [
    "## Configuration"
   ]
  },
  {
   "cell_type": "code",
   "execution_count": null,
   "metadata": {},
   "outputs": [],
   "source": [
    "CONFIG = {\n",
    "    'local_path': TemporaryDirectory().name,\n",
    "    'test_fraction': 0.2,\n",
    "    'random_seed': 100,\n",
    "    'train_sample_ratio': 1.0,\n",
    "    'test_sample_ratio': 1.0,\n",
    "    'model_name': 'bert-base-multilingual-cased',\n",
    "    'to_lower': False,\n",
    "    'cache_dir': TemporaryDirectory().name,\n",
    "    'max_len': 150,\n",
    "    'num_train_epochs': 5,\n",
    "    'device': 'cuda',\n",
    "    'batch_size': 8,\n",
    "    'verbose': True,\n",
    "    'load_dataset': None\n",
    "}\n",
    "\n",
    "if QUICK_RUN:\n",
    "    CONFIG['train_sample_ratio'] = 0.2\n",
    "    CONFIG['test_sample_ratio'] = 0.2\n",
    "    CONFIG['num_train_epochs'] = 1\n",
    "\n",
    "torch.manual_seed(CONFIG['random_seed'])\n",
    "\n",
    "if torch.cuda.is_available():\n",
    "    CONFIG['batch_size'] = 16\n",
    "    \n",
    "if USE_DATASET == \"multinli\":\n",
    "    CONFIG['to_lower'] = True\n",
    "    CONFIG['load_dataset'] = multinli.load_dataset\n",
    "    \n",
    "    if QUICK_RUN:\n",
    "        CONFIG['train_sample_ratio'] = 0.1\n",
    "        CONFIG['test_sample_ratio'] = 0.1\n",
    "elif USE_DATASET == \"dac\":\n",
    "    CONFIG['load_dataset'] = dac.load_dataset\n",
    "elif USE_DATASET == \"bbc-hindi\":\n",
    "    CONFIG['load_dataset'] = bbc_hindi.load_dataset\n",
    "else:\n",
    "    raise ValueError(\"Supported datasets are: 'multinli', 'dac', and 'bbc-hindi'\")"
   ]
  },
  {
   "cell_type": "markdown",
   "metadata": {},
   "source": [
    "## Load Dataset\n",
    "\n",
    "By choosing the dataset you want to experiment with, the code snippet below will adaptively seletct a helper function **`load_dataset`** for the dataset.  The helper function downloads the raw data, splits it into training and testing datasets (also sub-sampling if the sampling ratio is smaller than 1.0), and then processes for the transformer model. Everything is done in one function call, and you can use the processed training and testing Pytorch datasets to fine tune the model and evaluate the performance of the model."
   ]
  },
  {
   "cell_type": "code",
   "execution_count": null,
   "metadata": {},
   "outputs": [],
   "source": [
    "train_dataset, test_dataset, label_encoder = CONFIG['load_dataset'](\n",
    "    local_path=CONFIG['local_path'],\n",
    "    test_fraction=CONFIG['test_fraction'],\n",
    "    random_seed=CONFIG['random_seed'],\n",
    "    train_sample_ratio=CONFIG['train_sample_ratio'],\n",
    "    test_sample_ratio=CONFIG['test_sample_ratio'],\n",
    "    model_name=CONFIG['model_name'],\n",
    "    to_lower=CONFIG['to_lower'],\n",
    "    cache_dir=CONFIG['cache_dir'],\n",
    "    max_len=CONFIG['max_len']\n",
    ")"
   ]
  },
  {
   "cell_type": "markdown",
   "metadata": {},
   "source": [
    "## Fine Tune\n",
    "\n",
    "There are two steps to fine tune a transformer model for text classifiction: 1). instantiate a `SequenceClassifier` class which is a wrapper of the transformer model, and 2), fit the model using the preprocessed training dataset. The member method `fit` of `SequenceClassifier` class is used to fine tune the model."
   ]
  },
  {
   "cell_type": "code",
   "execution_count": null,
   "metadata": {
    "scrolled": true
   },
   "outputs": [],
   "source": [
    "model = SequenceClassifier(\n",
    "    model_name=CONFIG['model_name'],\n",
    "    num_labels=len(label_encoder.classes_),\n",
    "    cache_dir=CONFIG['cache_dir']\n",
    ")\n",
    "\n",
    "# Fine tune the model using the training dataset\n",
    "with Timer() as t:\n",
    "    model.fit(\n",
    "        train_dataset=train_dataset,\n",
    "        device=CONFIG['device'],\n",
    "        num_epochs=CONFIG['num_train_epochs'],\n",
    "        batch_size=CONFIG['batch_size'],\n",
    "        verbose=CONFIG['verbose'],\n",
    "        seed=CONFIG['random_seed']\n",
    "    )\n",
    "\n",
    "print(\"Training time : {:.3f} hrs\".format(t.interval / 3600))"
   ]
  },
  {
   "cell_type": "markdown",
   "metadata": {},
   "source": [
    "## Evaluate on Testing Dataset\n",
    "\n",
    "The `predict` method of the `SequenceClassifier` returns a Numpy ndarray of raw predictions. Each predicting value is a label ID, and if you want to get the label values you will need to call function `get_label_values` from the dataset package. An instance of sklearn `LabelEncoder` is returned when loading the dataset and can be used to get the mapping between label ID and label value."
   ]
  },
  {
   "cell_type": "code",
   "execution_count": null,
   "metadata": {},
   "outputs": [],
   "source": [
    "with Timer() as t:\n",
    "    preds = model.predict(\n",
    "        eval_dataset=test_dataset,\n",
    "        device=CONFIG['device'],\n",
    "        batch_size=CONFIG['batch_size'],\n",
    "        verbose=CONFIG['verbose']\n",
    "    )\n",
    "\n",
    "print(\"Prediction time : {:.3f} hrs\".format(t.interval / 3600))"
   ]
  },
  {
   "cell_type": "markdown",
   "metadata": {},
   "source": [
    "Finally, we compute the precision, recall, and F1 metrics of the evaluation on the test set."
   ]
  },
  {
   "cell_type": "code",
   "execution_count": 8,
   "metadata": {},
   "outputs": [
    {
     "name": "stdout",
     "output_type": "stream",
     "text": [
      "              precision    recall  f1-score   support\n",
      "\n",
      "     culture       0.94      0.93      0.94       554\n",
      "     diverse       0.95      0.95      0.95       679\n",
      "     economy       0.87      0.89      0.88       543\n",
      "    politics       0.88      0.89      0.89       796\n",
      "      sports       0.99      0.98      0.99      1780\n",
      "\n",
      "   micro avg       0.94      0.94      0.94      4352\n",
      "   macro avg       0.93      0.93      0.93      4352\n",
      "weighted avg       0.94      0.94      0.94      4352\n",
      "\n"
     ]
    }
   ],
   "source": [
    "report = classification_report(\n",
    "    test_dataset.tensors[2], \n",
    "    preds,\n",
    "    digits=2,\n",
    "    labels=np.unique(test_dataset.tensors[2]),\n",
    "    target_names=label_encoder.classes_\n",
    ")\n",
    "\n",
    "print(report)"
   ]
  },
  {
   "cell_type": "code",
   "execution_count": null,
   "metadata": {},
   "outputs": [],
   "source": [
    "# for testing\n",
    "report_splits = report.split('\\n')[-2].split()\n",
    "\n",
    "sb.glue(\"precision\", float(report_splits[2]))\n",
    "sb.glue(\"recall\", float(report_splits[3]))\n",
    "sb.glue(\"f1\", float(report_splits[4]))"
   ]
  }
 ],
 "metadata": {
  "kernelspec": {
   "display_name": "Python 3",
   "language": "python",
   "name": "python3"
  },
  "language_info": {
   "codemirror_mode": {
    "name": "ipython",
    "version": 3
   },
   "file_extension": ".py",
   "mimetype": "text/x-python",
   "name": "python",
   "nbconvert_exporter": "python",
   "pygments_lexer": "ipython3",
   "version": "3.6.8"
  }
 },
 "nbformat": 4,
 "nbformat_minor": 2
}
