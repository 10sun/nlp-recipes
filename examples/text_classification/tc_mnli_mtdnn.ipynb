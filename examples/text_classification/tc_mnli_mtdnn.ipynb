{
 "cells": [
  {
   "cell_type": "code",
   "execution_count": 1,
   "metadata": {},
   "outputs": [
    {
     "name": "stdout",
     "output_type": "stream",
     "text": [
      "Better speed can be achieved with apex installed from https://www.github.com/nvidia/apex.\n"
     ]
    }
   ],
   "source": [
    "# import json\n",
    "# import os\n",
    "# import sys\n",
    "# from tempfile import TemporaryDirectory\n",
    "\n",
    "# import numpy as np\n",
    "# import pandas as pd\n",
    "# import scrapbook as sb\n",
    "# import torch\n",
    "# import torch.nn as nn\n",
    "# from sklearn.metrics import accuracy_score, classification_report\n",
    "# from sklearn.model_selection import train_test_split\n",
    "# from sklearn.preprocessing import LabelEncoder\n",
    "# from tqdm import tqdm\n",
    "# from utils_nlp.common.timer import Timer\n",
    "# from utils_nlp.dataset.multinli import load_pandas_df\n",
    "# from utils_nlp.models.transformers.sequence_classification import (\n",
    "#     Processor, SequenceClassifier)\n",
    "# from utils_nlp.models.mtdnn.configuration_mtdnn import MTDNNConfig\n",
    "# from utils_nlp.models.mtdnn.modeling_mtdnn import MTDNNModel\n",
    "\n",
    "from utils_nlp.models.mtdnn.common.types import EncoderModelType\n",
    "from utils_nlp.models.mtdnn.configuration_mtdnn import MTDNNConfig\n",
    "from utils_nlp.models.mtdnn.modeling_mtdnn import MTDNNModel\n",
    "from utils_nlp.models.mtdnn.process_mtdnn import MTDNNDataProcess, MTDNNPipelineProcess\n",
    "from utils_nlp.models.mtdnn.tasks.config import MTDNNTaskDefs"
   ]
  },
  {
   "cell_type": "code",
   "execution_count": 2,
   "metadata": {},
   "outputs": [],
   "source": [
    "cuda_device = 0"
   ]
  },
  {
   "cell_type": "code",
   "execution_count": 3,
   "metadata": {},
   "outputs": [
    {
     "name": "stderr",
     "output_type": "stream",
     "text": [
      "INFO - Mapping Task attributes\n",
      "INFO - Configured task definitions - ['mnli']\n"
     ]
    }
   ],
   "source": [
    "config = MTDNNConfig(cuda_device=cuda_device, multi_gpu_on=False)\n",
    "\n",
    "# Define task parameters\n",
    "# Python dict, yaml or json\n",
    "tasks_params = {\n",
    "    \"mnli\": {\n",
    "        \"data_format\": \"PremiseAndOneHypothesis\",\n",
    "        \"encoder_type\": \"BERT\",\n",
    "        \"dropout_p\": 0.3,\n",
    "        \"enable_san\": True,\n",
    "        \"labels\": [\"contradiction\", \"neutral\", \"entailment\"],\n",
    "        \"metric_meta\": [\"ACC\"],\n",
    "        \"loss\": \"CeCriterion\",\n",
    "        \"kd_loss\": \"MseCriterion\",\n",
    "        \"n_class\": 3,\n",
    "        \"split_names\": [\n",
    "            \"train\",\n",
    "            \"matched_dev\",\n",
    "            \"mismatched_dev\",\n",
    "            \"matched_test\",\n",
    "            \"mismatched_test\",\n",
    "        ],\n",
    "        \"task_type\": \"Classification\",\n",
    "    },\n",
    "}\n",
    "\n",
    "# Define the tasks\n",
    "task_defs = MTDNNTaskDefs(tasks_params)"
   ]
  },
  {
   "cell_type": "code",
   "execution_count": null,
   "metadata": {},
   "outputs": [],
   "source": []
  },
  {
   "cell_type": "code",
   "execution_count": 4,
   "metadata": {},
   "outputs": [
    {
     "name": "stderr",
     "output_type": "stream",
     "text": [
      "INFO - Starting to process the training data sets\n",
      "INFO - Loading /home/useradmin/sources/mt-dnn/data/canonical_data/bert_uncased_lower/mnli_train.json as task 0\n"
     ]
    },
    {
     "name": "stdout",
     "output_type": "stream",
     "text": [
      "Loaded 392702 samples out of 392702\n"
     ]
    },
    {
     "name": "stderr",
     "output_type": "stream",
     "text": [
      "INFO - Starting to process the testing data sets\n"
     ]
    },
    {
     "name": "stdout",
     "output_type": "stream",
     "text": [
      "Loaded 9832 samples out of 9832\n",
      "Loaded 9847 samples out of 9847\n",
      "Loaded 9815 samples out of 9815\n",
      "Loaded 9796 samples out of 9796\n"
     ]
    }
   ],
   "source": [
    "# Make the Data Preprocess step and update the config with training data updates\n",
    "data_processor = MTDNNDataProcess(\n",
    "    config=config,\n",
    "    task_defs=task_defs,\n",
    "    batch_size=8,\n",
    "    data_dir=\"/home/useradmin/sources/mt-dnn/data/canonical_data/bert_uncased_lower\",\n",
    "    train_datasets_list=[\"mnli\"],\n",
    "    test_datasets_list=[\"mnli_mismatched\", \"mnli_matched\"],\n",
    ")"
   ]
  },
  {
   "cell_type": "code",
   "execution_count": 5,
   "metadata": {},
   "outputs": [],
   "source": [
    "multitask_train_dataloader = data_processor.get_train_dataloader()\n",
    "dev_dataloaders_list = data_processor.get_dev_dataloaders()\n",
    "test_dataloaders_list = data_processor.get_test_dataloaders()"
   ]
  },
  {
   "cell_type": "code",
   "execution_count": 6,
   "metadata": {},
   "outputs": [
    {
     "data": {
      "text/plain": [
       "<torch.utils.data.dataloader.DataLoader at 0x7f5f52cf6748>"
      ]
     },
     "execution_count": 6,
     "metadata": {},
     "output_type": "execute_result"
    }
   ],
   "source": [
    "multitask_train_dataloader"
   ]
  },
  {
   "cell_type": "code",
   "execution_count": 7,
   "metadata": {},
   "outputs": [],
   "source": [
    "# Update config with data preprocess params\n",
    "config = data_processor.update_config(config)"
   ]
  },
  {
   "cell_type": "code",
   "execution_count": 8,
   "metadata": {},
   "outputs": [
    {
     "data": {
      "text/plain": [
       "{\n",
       "  \"adam_eps\": 1e-06,\n",
       "  \"answer_opt\": 0,\n",
       "  \"attention_probs_dropout_prob\": 0.1,\n",
       "  \"batch_size\": 8,\n",
       "  \"batch_size_eval\": 8,\n",
       "  \"bert_dropout_p\": 0.1,\n",
       "  \"bert_l2norm\": 0.0,\n",
       "  \"cuda\": true,\n",
       "  \"cuda_device\": 0,\n",
       "  \"decoder_opts\": [\n",
       "    0\n",
       "  ],\n",
       "  \"dropout_p\": 0.1,\n",
       "  \"dropout_w\": 0.0,\n",
       "  \"dump_feature\": false,\n",
       "  \"embedding_opt\": 0,\n",
       "  \"enable_variational_dropout\": true,\n",
       "  \"encoder_type\": 1,\n",
       "  \"epochs\": 5,\n",
       "  \"finetuning_task\": null,\n",
       "  \"fp16\": false,\n",
       "  \"fp16_opt_level\": \"01\",\n",
       "  \"freeze_layers\": 1,\n",
       "  \"global_grad_clipping\": 1.0,\n",
       "  \"grad_accumulation_step\": 1,\n",
       "  \"grad_clipping\": 0.0,\n",
       "  \"have_lr_scheduler\": true,\n",
       "  \"hidden_act\": \"gelu\",\n",
       "  \"hidden_dropout_prob\": 0.1,\n",
       "  \"hidden_size\": 768,\n",
       "  \"id2label\": {\n",
       "    \"0\": \"LABEL_0\",\n",
       "    \"1\": \"LABEL_1\"\n",
       "  },\n",
       "  \"init_checkpoint\": \"bert-base-uncased\",\n",
       "  \"init_ratio\": 1.0,\n",
       "  \"initializer_range\": 0.02,\n",
       "  \"intermediate_size\": 3072,\n",
       "  \"is_decoder\": false,\n",
       "  \"kd_loss_types\": [\n",
       "    1\n",
       "  ],\n",
       "  \"kwargs\": {},\n",
       "  \"label2id\": {\n",
       "    \"LABEL_0\": 0,\n",
       "    \"LABEL_1\": 1\n",
       "  },\n",
       "  \"layer_norm_eps\": 1e-12,\n",
       "  \"learning_rate\": 5e-05,\n",
       "  \"log_per_updates\": 500,\n",
       "  \"loss_types\": [\n",
       "    0\n",
       "  ],\n",
       "  \"lr_gamma\": 0.5,\n",
       "  \"max_position_embeddings\": 512,\n",
       "  \"max_seq_len\": 512,\n",
       "  \"mix_opt\": 0,\n",
       "  \"mkd_opt\": 0,\n",
       "  \"model_ckpt\": \"checkpoints/model_0.pt\",\n",
       "  \"momentum\": 0.0,\n",
       "  \"mtl_opt\": 0,\n",
       "  \"multi_gpu_on\": false,\n",
       "  \"multi_step_lr\": \"10,20,30\",\n",
       "  \"num_attention_heads\": 12,\n",
       "  \"num_hidden_layers\": 12,\n",
       "  \"num_labels\": 2,\n",
       "  \"optimizer\": \"adamax\",\n",
       "  \"output_attentions\": false,\n",
       "  \"output_hidden_states\": false,\n",
       "  \"output_past\": true,\n",
       "  \"pooler\": null,\n",
       "  \"pruned_heads\": {},\n",
       "  \"ratio\": 0.0,\n",
       "  \"resume\": false,\n",
       "  \"save_per_updates\": 10000,\n",
       "  \"save_per_updates_on\": false,\n",
       "  \"scheduler_type\": \"ms\",\n",
       "  \"seed\": 2018,\n",
       "  \"task_types\": [\n",
       "    1\n",
       "  ],\n",
       "  \"tasks_dropout_p\": [\n",
       "    0.3\n",
       "  ],\n",
       "  \"tasks_nclass_list\": [\n",
       "    3\n",
       "  ],\n",
       "  \"torchscript\": false,\n",
       "  \"type_vocab_size\": 2,\n",
       "  \"update_bert_opt\": 0,\n",
       "  \"use_bfloat16\": false,\n",
       "  \"use_glue_format\": false,\n",
       "  \"use_pretrained_model\": false,\n",
       "  \"use_tensor_board\": false,\n",
       "  \"vb_dropout\": true,\n",
       "  \"vocab_size\": 30522,\n",
       "  \"warmup\": 0.1,\n",
       "  \"warmup_schedule\": \"warmup_linear\",\n",
       "  \"weight_decay\": 0.0,\n",
       "  \"weighted_on\": false\n",
       "}"
      ]
     },
     "execution_count": 8,
     "metadata": {},
     "output_type": "execute_result"
    }
   ],
   "source": [
    "config"
   ]
  },
  {
   "cell_type": "code",
   "execution_count": 9,
   "metadata": {},
   "outputs": [
    {
     "name": "stdout",
     "output_type": "stream",
     "text": [
      "idx: 0, number of task labels: 3\n",
      "Network:  SANBERTNetwork(\n",
      "  (bert): BertModel(\n",
      "    (embeddings): BertEmbeddings(\n",
      "      (word_embeddings): Embedding(30522, 768, padding_idx=0)\n",
      "      (position_embeddings): Embedding(512, 768)\n",
      "      (token_type_embeddings): Embedding(2, 768)\n",
      "      (LayerNorm): LayerNorm((768,), eps=1e-12, elementwise_affine=True)\n",
      "      (dropout): Dropout(p=0.1, inplace=False)\n",
      "    )\n",
      "    (encoder): BertEncoder(\n",
      "      (layer): ModuleList(\n",
      "        (0): BertLayer(\n",
      "          (attention): BertAttention(\n",
      "            (self): BertSelfAttention(\n",
      "              (query): Linear(in_features=768, out_features=768, bias=True)\n",
      "              (key): Linear(in_features=768, out_features=768, bias=True)\n",
      "              (value): Linear(in_features=768, out_features=768, bias=True)\n",
      "              (dropout): Dropout(p=0.1, inplace=False)\n",
      "            )\n",
      "            (output): BertSelfOutput(\n",
      "              (dense): Linear(in_features=768, out_features=768, bias=True)\n",
      "              (LayerNorm): LayerNorm((768,), eps=1e-12, elementwise_affine=True)\n",
      "              (dropout): Dropout(p=0.1, inplace=False)\n",
      "            )\n",
      "          )\n",
      "          (intermediate): BertIntermediate(\n",
      "            (dense): Linear(in_features=768, out_features=3072, bias=True)\n",
      "          )\n",
      "          (output): BertOutput(\n",
      "            (dense): Linear(in_features=3072, out_features=768, bias=True)\n",
      "            (LayerNorm): LayerNorm((768,), eps=1e-12, elementwise_affine=True)\n",
      "            (dropout): Dropout(p=0.1, inplace=False)\n",
      "          )\n",
      "        )\n",
      "        (1): BertLayer(\n",
      "          (attention): BertAttention(\n",
      "            (self): BertSelfAttention(\n",
      "              (query): Linear(in_features=768, out_features=768, bias=True)\n",
      "              (key): Linear(in_features=768, out_features=768, bias=True)\n",
      "              (value): Linear(in_features=768, out_features=768, bias=True)\n",
      "              (dropout): Dropout(p=0.1, inplace=False)\n",
      "            )\n",
      "            (output): BertSelfOutput(\n",
      "              (dense): Linear(in_features=768, out_features=768, bias=True)\n",
      "              (LayerNorm): LayerNorm((768,), eps=1e-12, elementwise_affine=True)\n",
      "              (dropout): Dropout(p=0.1, inplace=False)\n",
      "            )\n",
      "          )\n",
      "          (intermediate): BertIntermediate(\n",
      "            (dense): Linear(in_features=768, out_features=3072, bias=True)\n",
      "          )\n",
      "          (output): BertOutput(\n",
      "            (dense): Linear(in_features=3072, out_features=768, bias=True)\n",
      "            (LayerNorm): LayerNorm((768,), eps=1e-12, elementwise_affine=True)\n",
      "            (dropout): Dropout(p=0.1, inplace=False)\n",
      "          )\n",
      "        )\n",
      "        (2): BertLayer(\n",
      "          (attention): BertAttention(\n",
      "            (self): BertSelfAttention(\n",
      "              (query): Linear(in_features=768, out_features=768, bias=True)\n",
      "              (key): Linear(in_features=768, out_features=768, bias=True)\n",
      "              (value): Linear(in_features=768, out_features=768, bias=True)\n",
      "              (dropout): Dropout(p=0.1, inplace=False)\n",
      "            )\n",
      "            (output): BertSelfOutput(\n",
      "              (dense): Linear(in_features=768, out_features=768, bias=True)\n",
      "              (LayerNorm): LayerNorm((768,), eps=1e-12, elementwise_affine=True)\n",
      "              (dropout): Dropout(p=0.1, inplace=False)\n",
      "            )\n",
      "          )\n",
      "          (intermediate): BertIntermediate(\n",
      "            (dense): Linear(in_features=768, out_features=3072, bias=True)\n",
      "          )\n",
      "          (output): BertOutput(\n",
      "            (dense): Linear(in_features=3072, out_features=768, bias=True)\n",
      "            (LayerNorm): LayerNorm((768,), eps=1e-12, elementwise_affine=True)\n",
      "            (dropout): Dropout(p=0.1, inplace=False)\n",
      "          )\n",
      "        )\n",
      "        (3): BertLayer(\n",
      "          (attention): BertAttention(\n",
      "            (self): BertSelfAttention(\n",
      "              (query): Linear(in_features=768, out_features=768, bias=True)\n",
      "              (key): Linear(in_features=768, out_features=768, bias=True)\n",
      "              (value): Linear(in_features=768, out_features=768, bias=True)\n",
      "              (dropout): Dropout(p=0.1, inplace=False)\n",
      "            )\n",
      "            (output): BertSelfOutput(\n",
      "              (dense): Linear(in_features=768, out_features=768, bias=True)\n",
      "              (LayerNorm): LayerNorm((768,), eps=1e-12, elementwise_affine=True)\n",
      "              (dropout): Dropout(p=0.1, inplace=False)\n",
      "            )\n",
      "          )\n",
      "          (intermediate): BertIntermediate(\n",
      "            (dense): Linear(in_features=768, out_features=3072, bias=True)\n",
      "          )\n",
      "          (output): BertOutput(\n",
      "            (dense): Linear(in_features=3072, out_features=768, bias=True)\n",
      "            (LayerNorm): LayerNorm((768,), eps=1e-12, elementwise_affine=True)\n",
      "            (dropout): Dropout(p=0.1, inplace=False)\n",
      "          )\n",
      "        )\n",
      "        (4): BertLayer(\n",
      "          (attention): BertAttention(\n",
      "            (self): BertSelfAttention(\n",
      "              (query): Linear(in_features=768, out_features=768, bias=True)\n",
      "              (key): Linear(in_features=768, out_features=768, bias=True)\n",
      "              (value): Linear(in_features=768, out_features=768, bias=True)\n",
      "              (dropout): Dropout(p=0.1, inplace=False)\n",
      "            )\n",
      "            (output): BertSelfOutput(\n",
      "              (dense): Linear(in_features=768, out_features=768, bias=True)\n",
      "              (LayerNorm): LayerNorm((768,), eps=1e-12, elementwise_affine=True)\n",
      "              (dropout): Dropout(p=0.1, inplace=False)\n",
      "            )\n",
      "          )\n",
      "          (intermediate): BertIntermediate(\n",
      "            (dense): Linear(in_features=768, out_features=3072, bias=True)\n",
      "          )\n",
      "          (output): BertOutput(\n",
      "            (dense): Linear(in_features=3072, out_features=768, bias=True)\n",
      "            (LayerNorm): LayerNorm((768,), eps=1e-12, elementwise_affine=True)\n",
      "            (dropout): Dropout(p=0.1, inplace=False)\n",
      "          )\n",
      "        )\n",
      "        (5): BertLayer(\n",
      "          (attention): BertAttention(\n",
      "            (self): BertSelfAttention(\n",
      "              (query): Linear(in_features=768, out_features=768, bias=True)\n",
      "              (key): Linear(in_features=768, out_features=768, bias=True)\n",
      "              (value): Linear(in_features=768, out_features=768, bias=True)\n",
      "              (dropout): Dropout(p=0.1, inplace=False)\n",
      "            )\n",
      "            (output): BertSelfOutput(\n",
      "              (dense): Linear(in_features=768, out_features=768, bias=True)\n",
      "              (LayerNorm): LayerNorm((768,), eps=1e-12, elementwise_affine=True)\n",
      "              (dropout): Dropout(p=0.1, inplace=False)\n",
      "            )\n",
      "          )\n",
      "          (intermediate): BertIntermediate(\n",
      "            (dense): Linear(in_features=768, out_features=3072, bias=True)\n",
      "          )\n",
      "          (output): BertOutput(\n",
      "            (dense): Linear(in_features=3072, out_features=768, bias=True)\n",
      "            (LayerNorm): LayerNorm((768,), eps=1e-12, elementwise_affine=True)\n",
      "            (dropout): Dropout(p=0.1, inplace=False)\n",
      "          )\n",
      "        )\n",
      "        (6): BertLayer(\n",
      "          (attention): BertAttention(\n",
      "            (self): BertSelfAttention(\n",
      "              (query): Linear(in_features=768, out_features=768, bias=True)\n",
      "              (key): Linear(in_features=768, out_features=768, bias=True)\n",
      "              (value): Linear(in_features=768, out_features=768, bias=True)\n",
      "              (dropout): Dropout(p=0.1, inplace=False)\n",
      "            )\n",
      "            (output): BertSelfOutput(\n",
      "              (dense): Linear(in_features=768, out_features=768, bias=True)\n",
      "              (LayerNorm): LayerNorm((768,), eps=1e-12, elementwise_affine=True)\n",
      "              (dropout): Dropout(p=0.1, inplace=False)\n",
      "            )\n",
      "          )\n",
      "          (intermediate): BertIntermediate(\n",
      "            (dense): Linear(in_features=768, out_features=3072, bias=True)\n",
      "          )\n",
      "          (output): BertOutput(\n",
      "            (dense): Linear(in_features=3072, out_features=768, bias=True)\n",
      "            (LayerNorm): LayerNorm((768,), eps=1e-12, elementwise_affine=True)\n",
      "            (dropout): Dropout(p=0.1, inplace=False)\n",
      "          )\n",
      "        )\n",
      "        (7): BertLayer(\n",
      "          (attention): BertAttention(\n",
      "            (self): BertSelfAttention(\n",
      "              (query): Linear(in_features=768, out_features=768, bias=True)\n",
      "              (key): Linear(in_features=768, out_features=768, bias=True)\n",
      "              (value): Linear(in_features=768, out_features=768, bias=True)\n",
      "              (dropout): Dropout(p=0.1, inplace=False)\n",
      "            )\n",
      "            (output): BertSelfOutput(\n",
      "              (dense): Linear(in_features=768, out_features=768, bias=True)\n",
      "              (LayerNorm): LayerNorm((768,), eps=1e-12, elementwise_affine=True)\n",
      "              (dropout): Dropout(p=0.1, inplace=False)\n",
      "            )\n",
      "          )\n",
      "          (intermediate): BertIntermediate(\n",
      "            (dense): Linear(in_features=768, out_features=3072, bias=True)\n",
      "          )\n",
      "          (output): BertOutput(\n",
      "            (dense): Linear(in_features=3072, out_features=768, bias=True)\n",
      "            (LayerNorm): LayerNorm((768,), eps=1e-12, elementwise_affine=True)\n",
      "            (dropout): Dropout(p=0.1, inplace=False)\n",
      "          )\n",
      "        )\n",
      "        (8): BertLayer(\n",
      "          (attention): BertAttention(\n",
      "            (self): BertSelfAttention(\n",
      "              (query): Linear(in_features=768, out_features=768, bias=True)\n",
      "              (key): Linear(in_features=768, out_features=768, bias=True)\n",
      "              (value): Linear(in_features=768, out_features=768, bias=True)\n",
      "              (dropout): Dropout(p=0.1, inplace=False)\n",
      "            )\n",
      "            (output): BertSelfOutput(\n",
      "              (dense): Linear(in_features=768, out_features=768, bias=True)\n",
      "              (LayerNorm): LayerNorm((768,), eps=1e-12, elementwise_affine=True)\n",
      "              (dropout): Dropout(p=0.1, inplace=False)\n",
      "            )\n",
      "          )\n",
      "          (intermediate): BertIntermediate(\n",
      "            (dense): Linear(in_features=768, out_features=3072, bias=True)\n",
      "          )\n",
      "          (output): BertOutput(\n",
      "            (dense): Linear(in_features=3072, out_features=768, bias=True)\n",
      "            (LayerNorm): LayerNorm((768,), eps=1e-12, elementwise_affine=True)\n",
      "            (dropout): Dropout(p=0.1, inplace=False)\n",
      "          )\n",
      "        )\n",
      "        (9): BertLayer(\n",
      "          (attention): BertAttention(\n",
      "            (self): BertSelfAttention(\n",
      "              (query): Linear(in_features=768, out_features=768, bias=True)\n",
      "              (key): Linear(in_features=768, out_features=768, bias=True)\n",
      "              (value): Linear(in_features=768, out_features=768, bias=True)\n",
      "              (dropout): Dropout(p=0.1, inplace=False)\n",
      "            )\n",
      "            (output): BertSelfOutput(\n",
      "              (dense): Linear(in_features=768, out_features=768, bias=True)\n",
      "              (LayerNorm): LayerNorm((768,), eps=1e-12, elementwise_affine=True)\n",
      "              (dropout): Dropout(p=0.1, inplace=False)\n",
      "            )\n",
      "          )\n",
      "          (intermediate): BertIntermediate(\n",
      "            (dense): Linear(in_features=768, out_features=3072, bias=True)\n",
      "          )\n",
      "          (output): BertOutput(\n",
      "            (dense): Linear(in_features=3072, out_features=768, bias=True)\n",
      "            (LayerNorm): LayerNorm((768,), eps=1e-12, elementwise_affine=True)\n",
      "            (dropout): Dropout(p=0.1, inplace=False)\n",
      "          )\n",
      "        )\n",
      "        (10): BertLayer(\n",
      "          (attention): BertAttention(\n",
      "            (self): BertSelfAttention(\n",
      "              (query): Linear(in_features=768, out_features=768, bias=True)\n",
      "              (key): Linear(in_features=768, out_features=768, bias=True)\n",
      "              (value): Linear(in_features=768, out_features=768, bias=True)\n",
      "              (dropout): Dropout(p=0.1, inplace=False)\n",
      "            )\n",
      "            (output): BertSelfOutput(\n",
      "              (dense): Linear(in_features=768, out_features=768, bias=True)\n",
      "              (LayerNorm): LayerNorm((768,), eps=1e-12, elementwise_affine=True)\n",
      "              (dropout): Dropout(p=0.1, inplace=False)\n",
      "            )\n",
      "          )\n",
      "          (intermediate): BertIntermediate(\n",
      "            (dense): Linear(in_features=768, out_features=3072, bias=True)\n",
      "          )\n",
      "          (output): BertOutput(\n",
      "            (dense): Linear(in_features=3072, out_features=768, bias=True)\n",
      "            (LayerNorm): LayerNorm((768,), eps=1e-12, elementwise_affine=True)\n",
      "            (dropout): Dropout(p=0.1, inplace=False)\n",
      "          )\n",
      "        )\n",
      "        (11): BertLayer(\n",
      "          (attention): BertAttention(\n",
      "            (self): BertSelfAttention(\n",
      "              (query): Linear(in_features=768, out_features=768, bias=True)\n",
      "              (key): Linear(in_features=768, out_features=768, bias=True)\n",
      "              (value): Linear(in_features=768, out_features=768, bias=True)\n",
      "              (dropout): Dropout(p=0.1, inplace=False)\n",
      "            )\n",
      "            (output): BertSelfOutput(\n",
      "              (dense): Linear(in_features=768, out_features=768, bias=True)\n",
      "              (LayerNorm): LayerNorm((768,), eps=1e-12, elementwise_affine=True)\n",
      "              (dropout): Dropout(p=0.1, inplace=False)\n",
      "            )\n",
      "          )\n",
      "          (intermediate): BertIntermediate(\n",
      "            (dense): Linear(in_features=768, out_features=3072, bias=True)\n",
      "          )\n",
      "          (output): BertOutput(\n",
      "            (dense): Linear(in_features=3072, out_features=768, bias=True)\n",
      "            (LayerNorm): LayerNorm((768,), eps=1e-12, elementwise_affine=True)\n",
      "            (dropout): Dropout(p=0.1, inplace=False)\n",
      "          )\n",
      "        )\n",
      "      )\n",
      "    )\n",
      "    (pooler): BertPooler(\n",
      "      (dense): Linear(in_features=768, out_features=768, bias=True)\n",
      "      (activation): Tanh()\n",
      "    )\n",
      "  )\n",
      "  (dropout_list): ModuleList(\n",
      "    (0): DropoutWrapper()\n",
      "  )\n",
      "  (scoring_list): ModuleList(\n",
      "    (0): Linear(in_features=768, out_features=3, bias=True)\n",
      "  )\n",
      ")\n"
     ]
    }
   ],
   "source": [
    "# Instantiate model\n",
    "model = MTDNNModel(config)\n",
    "print(\"Network: \", model.network)"
   ]
  },
  {
   "cell_type": "code",
   "execution_count": 10,
   "metadata": {},
   "outputs": [
    {
     "data": {
      "text/plain": [
       "Parameter containing:\n",
       "tensor([[-0.0102, -0.0615, -0.0265,  ..., -0.0199, -0.0372, -0.0098],\n",
       "        [-0.0117, -0.0600, -0.0323,  ..., -0.0168, -0.0401, -0.0107],\n",
       "        [-0.0198, -0.0627, -0.0326,  ..., -0.0165, -0.0420, -0.0032],\n",
       "        ...,\n",
       "        [-0.0218, -0.0556, -0.0135,  ..., -0.0043, -0.0151, -0.0249],\n",
       "        [-0.0462, -0.0565, -0.0019,  ...,  0.0157, -0.0139, -0.0095],\n",
       "        [ 0.0015, -0.0821, -0.0160,  ..., -0.0081, -0.0475,  0.0753]],\n",
       "       device='cuda:0', requires_grad=True)"
      ]
     },
     "execution_count": 10,
     "metadata": {},
     "output_type": "execute_result"
    }
   ],
   "source": [
    "model.network.bert.embeddings.word_embeddings.weight"
   ]
  },
  {
   "cell_type": "code",
   "execution_count": 11,
   "metadata": {},
   "outputs": [],
   "source": [
    "# Create a process pipeline for training and inference\n",
    "pipeline_process = MTDNNPipelineProcess(\n",
    "    model=model,\n",
    "    config=config,\n",
    "    task_defs=task_defs,\n",
    "    multitask_train_dataloader=multitask_train_dataloader,\n",
    "    dev_dataloaders_list=dev_dataloaders_list,\n",
    "    test_dataloaders_list=test_dataloaders_list,\n",
    ")"
   ]
  },
  {
   "cell_type": "code",
   "execution_count": 12,
   "metadata": {},
   "outputs": [
    {
     "name": "stderr",
     "output_type": "stream",
     "text": [
      "INFO - Total number of params: 109484547\n",
      "INFO - At epoch 0\n",
      "INFO - Amount of data to go over: 49088\n",
      "INFO - Task - [ 0] Updates - [     1] Training Loss - [1.15971] Time Remaining - [9:36:01]\n",
      "INFO - Task - [ 0] Updates - [   500] Training Loss - [1.10957] Time Remaining - [5:26:22]\n",
      "INFO - Task - [ 0] Updates - [  1000] Training Loss - [1.10850] Time Remaining - [5:23:16]\n",
      "INFO - Task - [ 0] Updates - [  1500] Training Loss - [1.10725] Time Remaining - [5:19:38]\n",
      "INFO - Task - [ 0] Updates - [  2000] Training Loss - [1.10652] Time Remaining - [5:15:28]\n",
      "INFO - Task - [ 0] Updates - [  2500] Training Loss - [1.10586] Time Remaining - [5:11:12]\n",
      "INFO - Task - [ 0] Updates - [  3000] Training Loss - [1.10539] Time Remaining - [5:08:03]\n",
      "INFO - Task - [ 0] Updates - [  3500] Training Loss - [1.10474] Time Remaining - [5:04:19]\n",
      "INFO - Task - [ 0] Updates - [  4000] Training Loss - [1.10387] Time Remaining - [5:01:14]\n",
      "INFO - Task - [ 0] Updates - [  4500] Training Loss - [1.10350] Time Remaining - [4:57:42]\n",
      "INFO - Task - [ 0] Updates - [  5000] Training Loss - [1.10280] Time Remaining - [4:54:43]\n",
      "INFO - Task - [ 0] Updates - [  5500] Training Loss - [1.10225] Time Remaining - [4:51:24]\n",
      "INFO - Task - [ 0] Updates - [  6000] Training Loss - [1.10174] Time Remaining - [4:48:00]\n",
      "INFO - Task - [ 0] Updates - [  6500] Training Loss - [1.10125] Time Remaining - [4:44:45]\n",
      "INFO - Task - [ 0] Updates - [  7000] Training Loss - [1.10100] Time Remaining - [4:41:14]\n",
      "INFO - Task - [ 0] Updates - [  7500] Training Loss - [1.10051] Time Remaining - [4:37:45]\n",
      "INFO - Task - [ 0] Updates - [  8000] Training Loss - [1.09978] Time Remaining - [4:34:10]\n",
      "INFO - Task - [ 0] Updates - [  8500] Training Loss - [1.09905] Time Remaining - [4:30:55]\n",
      "INFO - Task - [ 0] Updates - [  9500] Training Loss - [1.09820] Time Remaining - [4:24:36]\n",
      "INFO - Task - [ 0] Updates - [ 10000] Training Loss - [1.09804] Time Remaining - [4:21:21]\n",
      "INFO - Task - [ 0] Updates - [ 10500] Training Loss - [1.09763] Time Remaining - [4:18:01]\n",
      "INFO - Task - [ 0] Updates - [ 11000] Training Loss - [1.09737] Time Remaining - [4:14:43]\n",
      "INFO - Task - [ 0] Updates - [ 11500] Training Loss - [1.09724] Time Remaining - [4:11:22]\n",
      "INFO - Task - [ 0] Updates - [ 12000] Training Loss - [1.09704] Time Remaining - [4:08:01]\n",
      "INFO - Task - [ 0] Updates - [ 12500] Training Loss - [1.09700] Time Remaining - [4:04:33]\n",
      "INFO - Task - [ 0] Updates - [ 13000] Training Loss - [1.09664] Time Remaining - [4:01:10]\n",
      "INFO - Task - [ 0] Updates - [ 13500] Training Loss - [1.09646] Time Remaining - [3:57:46]\n",
      "INFO - Task - [ 0] Updates - [ 14000] Training Loss - [1.09628] Time Remaining - [3:54:26]\n",
      "INFO - Task - [ 0] Updates - [ 14500] Training Loss - [1.09605] Time Remaining - [3:51:14]\n",
      "INFO - Task - [ 0] Updates - [ 15000] Training Loss - [1.09601] Time Remaining - [3:47:52]\n",
      "INFO - Task - [ 0] Updates - [ 15500] Training Loss - [1.09583] Time Remaining - [3:44:38]\n",
      "INFO - Task - [ 0] Updates - [ 16000] Training Loss - [1.09574] Time Remaining - [3:41:14]\n",
      "INFO - Task - [ 0] Updates - [ 16500] Training Loss - [1.09560] Time Remaining - [3:37:51]\n",
      "INFO - Task - [ 0] Updates - [ 17000] Training Loss - [1.09549] Time Remaining - [3:34:32]\n",
      "INFO - Task - [ 0] Updates - [ 17500] Training Loss - [1.09548] Time Remaining - [3:31:15]\n",
      "INFO - Task - [ 0] Updates - [ 18000] Training Loss - [1.09527] Time Remaining - [3:27:53]\n",
      "INFO - Task - [ 0] Updates - [ 18500] Training Loss - [1.09509] Time Remaining - [3:24:33]\n",
      "INFO - Task - [ 0] Updates - [ 19000] Training Loss - [1.09497] Time Remaining - [3:21:14]\n",
      "INFO - Task - [ 0] Updates - [ 19500] Training Loss - [1.09483] Time Remaining - [3:17:54]\n",
      "INFO - Task - [ 0] Updates - [ 20000] Training Loss - [1.09468] Time Remaining - [3:14:32]\n",
      "INFO - Task - [ 0] Updates - [ 20500] Training Loss - [1.09464] Time Remaining - [3:11:12]\n",
      "INFO - Task - [ 0] Updates - [ 21000] Training Loss - [1.09449] Time Remaining - [3:07:50]\n",
      "INFO - Task - [ 0] Updates - [ 21500] Training Loss - [1.09431] Time Remaining - [3:04:29]\n",
      "INFO - Task - [ 0] Updates - [ 22000] Training Loss - [1.09408] Time Remaining - [3:01:06]\n",
      "INFO - Task - [ 0] Updates - [ 22500] Training Loss - [1.09397] Time Remaining - [2:57:46]\n",
      "INFO - Task - [ 0] Updates - [ 23000] Training Loss - [1.09391] Time Remaining - [2:54:25]\n",
      "INFO - Task - [ 0] Updates - [ 23500] Training Loss - [1.09381] Time Remaining - [2:51:07]\n",
      "INFO - Task - [ 0] Updates - [ 24000] Training Loss - [1.09373] Time Remaining - [2:47:47]\n",
      "INFO - Task - [ 0] Updates - [ 24500] Training Loss - [1.09378] Time Remaining - [2:44:27]\n",
      "INFO - Task - [ 0] Updates - [ 25000] Training Loss - [1.09367] Time Remaining - [2:41:10]\n",
      "INFO - Task - [ 0] Updates - [ 25500] Training Loss - [1.09368] Time Remaining - [2:37:46]\n",
      "INFO - Task - [ 0] Updates - [ 26000] Training Loss - [1.09368] Time Remaining - [2:34:28]\n",
      "INFO - Task - [ 0] Updates - [ 26500] Training Loss - [1.09348] Time Remaining - [2:31:08]\n",
      "INFO - Task - [ 0] Updates - [ 27000] Training Loss - [1.09339] Time Remaining - [2:27:46]\n",
      "INFO - Task - [ 0] Updates - [ 27500] Training Loss - [1.09331] Time Remaining - [2:24:26]\n",
      "INFO - Task - [ 0] Updates - [ 28000] Training Loss - [1.09324] Time Remaining - [2:21:03]\n",
      "INFO - Task - [ 0] Updates - [ 28500] Training Loss - [1.09316] Time Remaining - [2:17:43]\n",
      "INFO - Task - [ 0] Updates - [ 29000] Training Loss - [1.09306] Time Remaining - [2:14:22]\n",
      "INFO - Task - [ 0] Updates - [ 29500] Training Loss - [1.09299] Time Remaining - [2:11:01]\n",
      "INFO - Task - [ 0] Updates - [ 30000] Training Loss - [1.09289] Time Remaining - [2:07:40]\n",
      "INFO - Task - [ 0] Updates - [ 30500] Training Loss - [1.09282] Time Remaining - [2:04:21]\n",
      "INFO - Task - [ 0] Updates - [ 31000] Training Loss - [1.09275] Time Remaining - [2:01:01]\n",
      "INFO - Task - [ 0] Updates - [ 31500] Training Loss - [1.09266] Time Remaining - [1:57:40]\n",
      "INFO - Task - [ 0] Updates - [ 32000] Training Loss - [1.09263] Time Remaining - [1:54:20]\n",
      "INFO - Task - [ 0] Updates - [ 32500] Training Loss - [1.09258] Time Remaining - [1:50:59]\n",
      "INFO - Task - [ 0] Updates - [ 33000] Training Loss - [1.09254] Time Remaining - [1:47:37]\n",
      "INFO - Task - [ 0] Updates - [ 33500] Training Loss - [1.09243] Time Remaining - [1:44:17]\n",
      "INFO - Task - [ 0] Updates - [ 34000] Training Loss - [1.09235] Time Remaining - [1:40:56]\n",
      "INFO - Task - [ 0] Updates - [ 34500] Training Loss - [1.09231] Time Remaining - [1:37:36]\n",
      "INFO - Task - [ 0] Updates - [ 35000] Training Loss - [1.09224] Time Remaining - [1:34:14]\n",
      "INFO - Task - [ 0] Updates - [ 35500] Training Loss - [1.09218] Time Remaining - [1:30:53]\n",
      "INFO - Task - [ 0] Updates - [ 36000] Training Loss - [1.09214] Time Remaining - [1:27:33]\n",
      "INFO - Task - [ 0] Updates - [ 36500] Training Loss - [1.09204] Time Remaining - [1:24:12]\n",
      "INFO - Task - [ 0] Updates - [ 37000] Training Loss - [1.09204] Time Remaining - [1:20:51]\n",
      "INFO - Task - [ 0] Updates - [ 37500] Training Loss - [1.09201] Time Remaining - [1:17:30]\n",
      "INFO - Task - [ 0] Updates - [ 38000] Training Loss - [1.09198] Time Remaining - [1:14:09]\n",
      "INFO - Task - [ 0] Updates - [ 38500] Training Loss - [1.09187] Time Remaining - [1:10:48]\n",
      "INFO - Task - [ 0] Updates - [ 39000] Training Loss - [1.09174] Time Remaining - [1:07:27]\n",
      "INFO - Task - [ 0] Updates - [ 39500] Training Loss - [1.09169] Time Remaining - [1:04:06]\n",
      "INFO - Task - [ 0] Updates - [ 40000] Training Loss - [1.09164] Time Remaining - [1:00:45]\n",
      "INFO - Task - [ 0] Updates - [ 40500] Training Loss - [1.09160] Time Remaining - [0:57:25]\n",
      "INFO - Task - [ 0] Updates - [ 41000] Training Loss - [1.09156] Time Remaining - [0:54:04]\n",
      "INFO - Task - [ 0] Updates - [ 41500] Training Loss - [1.09154] Time Remaining - [0:50:44]\n",
      "INFO - Task - [ 0] Updates - [ 42000] Training Loss - [1.09151] Time Remaining - [0:47:23]\n",
      "INFO - Task - [ 0] Updates - [ 42500] Training Loss - [1.09147] Time Remaining - [0:44:02]\n",
      "INFO - Task - [ 0] Updates - [ 43000] Training Loss - [1.09141] Time Remaining - [0:40:42]\n",
      "INFO - Task - [ 0] Updates - [ 43500] Training Loss - [1.09139] Time Remaining - [0:37:21]\n",
      "INFO - Task - [ 0] Updates - [ 44000] Training Loss - [1.09134] Time Remaining - [0:34:01]\n",
      "INFO - Task - [ 0] Updates - [ 44500] Training Loss - [1.09125] Time Remaining - [0:30:40]\n"
     ]
    },
    {
     "name": "stderr",
     "output_type": "stream",
     "text": [
      "INFO - Task - [ 0] Updates - [ 45000] Training Loss - [1.09114] Time Remaining - [0:27:19]\n",
      "INFO - Task - [ 0] Updates - [ 45500] Training Loss - [1.09116] Time Remaining - [0:23:59]\n",
      "INFO - Task - [ 0] Updates - [ 46000] Training Loss - [1.09110] Time Remaining - [0:20:38]\n",
      "INFO - Task - [ 0] Updates - [ 46500] Training Loss - [1.09103] Time Remaining - [0:17:18]\n",
      "INFO - Task - [ 0] Updates - [ 47000] Training Loss - [1.09095] Time Remaining - [0:13:57]\n",
      "INFO - Task - [ 0] Updates - [ 47500] Training Loss - [1.09093] Time Remaining - [0:10:37]\n",
      "INFO - Task - [ 0] Updates - [ 48000] Training Loss - [1.09093] Time Remaining - [0:07:16]\n",
      "INFO - Task - [ 0] Updates - [ 48500] Training Loss - [1.09091] Time Remaining - [0:03:55]\n",
      "INFO - Task - [ 0] Updates - [ 49000] Training Loss - [1.09093] Time Remaining - [0:00:35]\n"
     ]
    }
   ],
   "source": [
    "pipeline_process.fit(epochs=1)"
   ]
  },
  {
   "cell_type": "code",
   "execution_count": 14,
   "metadata": {},
   "outputs": [
    {
     "name": "stderr",
     "output_type": "stream",
     "text": [
      "INFO - At epoch 0\n"
     ]
    },
    {
     "name": "stdout",
     "output_type": "stream",
     "text": [
      "predicting 0\n",
      "predicting 100\n",
      "predicting 200\n",
      "predicting 300\n",
      "predicting 400\n",
      "predicting 500\n",
      "predicting 600\n",
      "predicting 700\n",
      "predicting 800\n",
      "predicting 900\n",
      "predicting 1000\n",
      "predicting 1100\n",
      "predicting 1200\n"
     ]
    },
    {
     "name": "stderr",
     "output_type": "stream",
     "text": [
      "INFO - Task mnli_mismatched -- epoch 0 -- Dev ACC: 34.856\n"
     ]
    },
    {
     "name": "stdout",
     "output_type": "stream",
     "text": [
      "predicting 0\n",
      "predicting 100\n",
      "predicting 200\n",
      "predicting 300\n",
      "predicting 400\n",
      "predicting 500\n",
      "predicting 600\n",
      "predicting 700\n",
      "predicting 800\n",
      "predicting 900\n",
      "predicting 1000\n",
      "predicting 1100\n",
      "predicting 1200\n"
     ]
    },
    {
     "name": "stderr",
     "output_type": "stream",
     "text": [
      "INFO - [new test scores saved.]\n"
     ]
    },
    {
     "name": "stdout",
     "output_type": "stream",
     "text": [
      "predicting 0\n",
      "predicting 100\n",
      "predicting 200\n",
      "predicting 300\n",
      "predicting 400\n",
      "predicting 500\n",
      "predicting 600\n",
      "predicting 700\n",
      "predicting 800\n",
      "predicting 900\n",
      "predicting 1000\n",
      "predicting 1100\n",
      "predicting 1200\n"
     ]
    },
    {
     "name": "stderr",
     "output_type": "stream",
     "text": [
      "INFO - Task mnli_matched -- epoch 0 -- Dev ACC: 36.383\n"
     ]
    },
    {
     "name": "stdout",
     "output_type": "stream",
     "text": [
      "predicting 0\n",
      "predicting 100\n",
      "predicting 200\n",
      "predicting 300\n",
      "predicting 400\n",
      "predicting 500\n",
      "predicting 600\n",
      "predicting 700\n",
      "predicting 800\n",
      "predicting 900\n",
      "predicting 1000\n",
      "predicting 1100\n",
      "predicting 1200\n"
     ]
    },
    {
     "name": "stderr",
     "output_type": "stream",
     "text": [
      "INFO - [new test scores saved.]\n",
      "INFO - model saved to checkpoint/model_0.pt\n",
      "INFO - At epoch 1\n"
     ]
    },
    {
     "name": "stdout",
     "output_type": "stream",
     "text": [
      "predicting 0\n",
      "predicting 100\n",
      "predicting 200\n",
      "predicting 300\n",
      "predicting 400\n",
      "predicting 500\n",
      "predicting 600\n",
      "predicting 700\n",
      "predicting 800\n",
      "predicting 900\n",
      "predicting 1000\n",
      "predicting 1100\n",
      "predicting 1200\n"
     ]
    },
    {
     "name": "stderr",
     "output_type": "stream",
     "text": [
      "INFO - Task mnli_mismatched -- epoch 1 -- Dev ACC: 34.856\n"
     ]
    },
    {
     "name": "stdout",
     "output_type": "stream",
     "text": [
      "predicting 0\n",
      "predicting 100\n",
      "predicting 200\n",
      "predicting 300\n",
      "predicting 400\n",
      "predicting 500\n",
      "predicting 600\n",
      "predicting 700\n",
      "predicting 800\n",
      "predicting 900\n",
      "predicting 1000\n",
      "predicting 1100\n",
      "predicting 1200\n"
     ]
    },
    {
     "name": "stderr",
     "output_type": "stream",
     "text": [
      "INFO - [new test scores saved.]\n"
     ]
    },
    {
     "name": "stdout",
     "output_type": "stream",
     "text": [
      "predicting 0\n",
      "predicting 100\n",
      "predicting 200\n",
      "predicting 300\n",
      "predicting 400\n",
      "predicting 500\n",
      "predicting 600\n",
      "predicting 700\n",
      "predicting 800\n",
      "predicting 900\n",
      "predicting 1000\n",
      "predicting 1100\n",
      "predicting 1200\n"
     ]
    },
    {
     "name": "stderr",
     "output_type": "stream",
     "text": [
      "INFO - Task mnli_matched -- epoch 1 -- Dev ACC: 36.383\n"
     ]
    },
    {
     "name": "stdout",
     "output_type": "stream",
     "text": [
      "predicting 0\n",
      "predicting 100\n",
      "predicting 200\n",
      "predicting 300\n",
      "predicting 400\n",
      "predicting 500\n",
      "predicting 600\n",
      "predicting 700\n",
      "predicting 800\n",
      "predicting 900\n",
      "predicting 1000\n",
      "predicting 1100\n",
      "predicting 1200\n"
     ]
    },
    {
     "name": "stderr",
     "output_type": "stream",
     "text": [
      "INFO - [new test scores saved.]\n",
      "INFO - model saved to checkpoint/model_1.pt\n",
      "INFO - At epoch 2\n"
     ]
    },
    {
     "name": "stdout",
     "output_type": "stream",
     "text": [
      "predicting 0\n",
      "predicting 100\n",
      "predicting 200\n",
      "predicting 300\n",
      "predicting 400\n",
      "predicting 500\n",
      "predicting 600\n",
      "predicting 700\n",
      "predicting 800\n",
      "predicting 900\n",
      "predicting 1000\n",
      "predicting 1100\n",
      "predicting 1200\n"
     ]
    },
    {
     "name": "stderr",
     "output_type": "stream",
     "text": [
      "INFO - Task mnli_mismatched -- epoch 2 -- Dev ACC: 34.856\n"
     ]
    },
    {
     "name": "stdout",
     "output_type": "stream",
     "text": [
      "predicting 0\n",
      "predicting 100\n",
      "predicting 200\n",
      "predicting 300\n",
      "predicting 400\n",
      "predicting 500\n",
      "predicting 600\n",
      "predicting 700\n",
      "predicting 800\n",
      "predicting 900\n",
      "predicting 1000\n",
      "predicting 1100\n",
      "predicting 1200\n"
     ]
    },
    {
     "name": "stderr",
     "output_type": "stream",
     "text": [
      "INFO - [new test scores saved.]\n"
     ]
    },
    {
     "name": "stdout",
     "output_type": "stream",
     "text": [
      "predicting 0\n",
      "predicting 100\n",
      "predicting 200\n",
      "predicting 300\n",
      "predicting 400\n",
      "predicting 500\n",
      "predicting 600\n",
      "predicting 700\n",
      "predicting 800\n",
      "predicting 900\n",
      "predicting 1000\n",
      "predicting 1100\n",
      "predicting 1200\n"
     ]
    },
    {
     "name": "stderr",
     "output_type": "stream",
     "text": [
      "INFO - Task mnli_matched -- epoch 2 -- Dev ACC: 36.383\n"
     ]
    },
    {
     "name": "stdout",
     "output_type": "stream",
     "text": [
      "predicting 0\n",
      "predicting 100\n",
      "predicting 200\n",
      "predicting 300\n",
      "predicting 400\n",
      "predicting 500\n",
      "predicting 600\n",
      "predicting 700\n",
      "predicting 800\n",
      "predicting 900\n",
      "predicting 1000\n",
      "predicting 1100\n",
      "predicting 1200\n"
     ]
    },
    {
     "name": "stderr",
     "output_type": "stream",
     "text": [
      "INFO - [new test scores saved.]\n",
      "INFO - model saved to checkpoint/model_2.pt\n",
      "INFO - At epoch 3\n"
     ]
    },
    {
     "name": "stdout",
     "output_type": "stream",
     "text": [
      "predicting 0\n",
      "predicting 100\n",
      "predicting 200\n",
      "predicting 300\n",
      "predicting 400\n",
      "predicting 500\n",
      "predicting 600\n",
      "predicting 700\n",
      "predicting 800\n",
      "predicting 900\n",
      "predicting 1000\n",
      "predicting 1100\n",
      "predicting 1200\n"
     ]
    },
    {
     "name": "stderr",
     "output_type": "stream",
     "text": [
      "INFO - Task mnli_mismatched -- epoch 3 -- Dev ACC: 34.856\n"
     ]
    },
    {
     "name": "stdout",
     "output_type": "stream",
     "text": [
      "predicting 0\n",
      "predicting 100\n",
      "predicting 200\n",
      "predicting 300\n",
      "predicting 400\n",
      "predicting 500\n",
      "predicting 600\n",
      "predicting 700\n",
      "predicting 800\n",
      "predicting 900\n",
      "predicting 1000\n",
      "predicting 1100\n",
      "predicting 1200\n"
     ]
    },
    {
     "name": "stderr",
     "output_type": "stream",
     "text": [
      "INFO - [new test scores saved.]\n"
     ]
    },
    {
     "name": "stdout",
     "output_type": "stream",
     "text": [
      "predicting 0\n",
      "predicting 100\n",
      "predicting 200\n",
      "predicting 300\n",
      "predicting 400\n",
      "predicting 500\n",
      "predicting 600\n",
      "predicting 700\n",
      "predicting 800\n",
      "predicting 900\n",
      "predicting 1000\n",
      "predicting 1100\n",
      "predicting 1200\n"
     ]
    },
    {
     "name": "stderr",
     "output_type": "stream",
     "text": [
      "INFO - Task mnli_matched -- epoch 3 -- Dev ACC: 36.383\n"
     ]
    },
    {
     "name": "stdout",
     "output_type": "stream",
     "text": [
      "predicting 0\n",
      "predicting 100\n",
      "predicting 200\n",
      "predicting 300\n",
      "predicting 400\n",
      "predicting 500\n",
      "predicting 600\n",
      "predicting 700\n",
      "predicting 800\n",
      "predicting 900\n",
      "predicting 1000\n",
      "predicting 1100\n",
      "predicting 1200\n"
     ]
    },
    {
     "name": "stderr",
     "output_type": "stream",
     "text": [
      "INFO - [new test scores saved.]\n",
      "INFO - model saved to checkpoint/model_3.pt\n",
      "INFO - At epoch 4\n"
     ]
    },
    {
     "name": "stdout",
     "output_type": "stream",
     "text": [
      "predicting 0\n",
      "predicting 100\n",
      "predicting 200\n",
      "predicting 300\n",
      "predicting 400\n",
      "predicting 500\n",
      "predicting 600\n",
      "predicting 700\n",
      "predicting 800\n",
      "predicting 900\n",
      "predicting 1000\n",
      "predicting 1100\n",
      "predicting 1200\n"
     ]
    },
    {
     "name": "stderr",
     "output_type": "stream",
     "text": [
      "INFO - Task mnli_mismatched -- epoch 4 -- Dev ACC: 34.856\n"
     ]
    },
    {
     "name": "stdout",
     "output_type": "stream",
     "text": [
      "predicting 0\n",
      "predicting 100\n",
      "predicting 200\n",
      "predicting 300\n",
      "predicting 400\n",
      "predicting 500\n",
      "predicting 600\n",
      "predicting 700\n",
      "predicting 800\n",
      "predicting 900\n",
      "predicting 1000\n",
      "predicting 1100\n",
      "predicting 1200\n"
     ]
    },
    {
     "name": "stderr",
     "output_type": "stream",
     "text": [
      "INFO - [new test scores saved.]\n"
     ]
    },
    {
     "name": "stdout",
     "output_type": "stream",
     "text": [
      "predicting 0\n",
      "predicting 100\n",
      "predicting 200\n",
      "predicting 300\n",
      "predicting 400\n",
      "predicting 500\n",
      "predicting 600\n",
      "predicting 700\n",
      "predicting 800\n",
      "predicting 900\n",
      "predicting 1000\n",
      "predicting 1100\n",
      "predicting 1200\n"
     ]
    },
    {
     "name": "stderr",
     "output_type": "stream",
     "text": [
      "INFO - Task mnli_matched -- epoch 4 -- Dev ACC: 36.383\n"
     ]
    },
    {
     "name": "stdout",
     "output_type": "stream",
     "text": [
      "predicting 0\n",
      "predicting 100\n",
      "predicting 200\n",
      "predicting 300\n",
      "predicting 400\n",
      "predicting 500\n",
      "predicting 600\n",
      "predicting 700\n",
      "predicting 800\n",
      "predicting 900\n",
      "predicting 1000\n",
      "predicting 1100\n",
      "predicting 1200\n"
     ]
    },
    {
     "name": "stderr",
     "output_type": "stream",
     "text": [
      "INFO - [new test scores saved.]\n",
      "INFO - model saved to checkpoint/model_4.pt\n"
     ]
    }
   ],
   "source": [
    "pipeline_process.predict()"
   ]
  },
  {
   "cell_type": "code",
   "execution_count": null,
   "metadata": {},
   "outputs": [],
   "source": []
  }
 ],
 "metadata": {
  "kernelspec": {
   "display_name": "Python (nlp_gpu)",
   "language": "python",
   "name": "nlp_gpu"
  },
  "language_info": {
   "codemirror_mode": {
    "name": "ipython",
    "version": 3
   },
   "file_extension": ".py",
   "mimetype": "text/x-python",
   "name": "python",
   "nbconvert_exporter": "python",
   "pygments_lexer": "ipython3",
   "version": "3.6.8"
  }
 },
 "nbformat": 4,
 "nbformat_minor": 2
}
