{
 "cells": [
  {
   "cell_type": "markdown",
   "metadata": {},
   "source": [
    "*Copyright (c) Microsoft Corporation. All rights reserved.*\n",
    "\n",
    "*Licensed under the MIT License.*\n",
    "\n",
    "# Text Classification of MultiNLI Sentences using different Transformer models"
   ]
  },
  {
   "cell_type": "code",
   "execution_count": null,
   "metadata": {},
   "outputs": [],
   "source": [
    "import sys\n",
    "import os\n",
    "import json\n",
    "import pandas as pd\n",
    "import numpy as np\n",
    "import scrapbook as sb\n",
    "from sklearn.metrics import classification_report, accuracy_score\n",
    "from sklearn.preprocessing import LabelEncoder\n",
    "from sklearn.model_selection import train_test_split\n",
    "import torch\n",
    "import torch.nn as nn\n",
    "from tqdm import tqdm\n",
    "from utils_nlp.dataset.multinli import load_pandas_df\n",
    "from utils_nlp.models.transformers.sequence_classification import (\n",
    "    SequenceClassifier,\n",
    "    Processor,\n",
    ")\n",
    "from utils_nlp.common.timer import Timer"
   ]
  },
  {
   "cell_type": "markdown",
   "metadata": {},
   "source": [
    "## Introduction\n",
    "In this notebook, we fine-tune and evaluate a number of pretrained models on a subset of the [MultiNLI](https://www.nyu.edu/projects/bowman/multinli/) dataset.\n",
    "\n",
    "We use a [sequence classifier](../../utils_nlp/models/transformers/sequence_classification.py) that wraps [Hugging Face's PyTorch implementation](https://github.com/huggingface/transformers) of different transformers, like [BERT](https://github.com/google-research/bert), [XLNet](https://github.com/zihangdai/xlnet), and [RoBERTa](https://github.com/pytorch/fairseq)."
   ]
  },
  {
   "cell_type": "code",
   "execution_count": 32,
   "metadata": {
    "tags": [
     "parameters"
    ]
   },
   "outputs": [],
   "source": [
    "# notebook parameters\n",
    "DATA_FOLDER = \"./temp\"\n",
    "CACHE_DIR = \"./temp\"\n",
    "DEVICE = \"cuda\"\n",
    "NUM_EPOCHS = 1\n",
    "BATCH_SIZE = 16\n",
    "NUM_GPUS = 2\n",
    "MAX_LEN = 150\n",
    "TRAIN_DATA_FRACTION = 0.15\n",
    "TEST_DATA_FRACTION = 0.15\n",
    "TRAIN_SIZE = 0.75\n",
    "LABEL_COL = \"genre\"\n",
    "TEXT_COL = \"sentence1\""
   ]
  },
  {
   "cell_type": "markdown",
   "metadata": {},
   "source": [
    "## Read Dataset\n",
    "We start by loading a subset of the data. The following function also downloads and extracts the files, if they don't exist in the data folder.\n",
    "\n",
    "The MultiNLI dataset is mainly used for natural language inference (NLI) tasks, where the inputs are sentence pairs and the labels are entailment indicators. The sentence pairs are also classified into *genres* that allow for more coverage and better evaluation of NLI models.\n",
    "\n",
    "For our classification task, we use the first sentence only as the text input, and the corresponding genre as the label. We select the examples corresponding to one of the entailment labels (*neutral* in this case) to avoid duplicate rows, as the sentences are not unique, whereas the sentence pairs are."
   ]
  },
  {
   "cell_type": "code",
   "execution_count": 4,
   "metadata": {},
   "outputs": [],
   "source": [
    "df = load_pandas_df(DATA_FOLDER, \"train\")\n",
    "df = df[df[\"gold_label\"]==\"neutral\"]  # get unique sentences"
   ]
  },
  {
   "cell_type": "code",
   "execution_count": 5,
   "metadata": {},
   "outputs": [
    {
     "data": {
      "text/html": [
       "<div>\n",
       "<style scoped>\n",
       "    .dataframe tbody tr th:only-of-type {\n",
       "        vertical-align: middle;\n",
       "    }\n",
       "\n",
       "    .dataframe tbody tr th {\n",
       "        vertical-align: top;\n",
       "    }\n",
       "\n",
       "    .dataframe thead th {\n",
       "        text-align: right;\n",
       "    }\n",
       "</style>\n",
       "<table border=\"1\" class=\"dataframe\">\n",
       "  <thead>\n",
       "    <tr style=\"text-align: right;\">\n",
       "      <th></th>\n",
       "      <th>genre</th>\n",
       "      <th>sentence1</th>\n",
       "    </tr>\n",
       "  </thead>\n",
       "  <tbody>\n",
       "    <tr>\n",
       "      <th>0</th>\n",
       "      <td>government</td>\n",
       "      <td>Conceptually cream skimming has two basic dime...</td>\n",
       "    </tr>\n",
       "    <tr>\n",
       "      <th>4</th>\n",
       "      <td>telephone</td>\n",
       "      <td>yeah i tell you what though if you go price so...</td>\n",
       "    </tr>\n",
       "    <tr>\n",
       "      <th>6</th>\n",
       "      <td>travel</td>\n",
       "      <td>But a few Christian mosaics survive above the ...</td>\n",
       "    </tr>\n",
       "    <tr>\n",
       "      <th>12</th>\n",
       "      <td>slate</td>\n",
       "      <td>It's not that the questions they asked weren't...</td>\n",
       "    </tr>\n",
       "    <tr>\n",
       "      <th>13</th>\n",
       "      <td>travel</td>\n",
       "      <td>Thebes held onto power until the 12th Dynasty,...</td>\n",
       "    </tr>\n",
       "  </tbody>\n",
       "</table>\n",
       "</div>"
      ],
      "text/plain": [
       "         genre                                          sentence1\n",
       "0   government  Conceptually cream skimming has two basic dime...\n",
       "4    telephone  yeah i tell you what though if you go price so...\n",
       "6       travel  But a few Christian mosaics survive above the ...\n",
       "12       slate  It's not that the questions they asked weren't...\n",
       "13      travel  Thebes held onto power until the 12th Dynasty,..."
      ]
     },
     "execution_count": 5,
     "metadata": {},
     "output_type": "execute_result"
    }
   ],
   "source": [
    "df[[LABEL_COL, TEXT_COL]].head()"
   ]
  },
  {
   "cell_type": "markdown",
   "metadata": {},
   "source": [
    "We split the data for training and testing, sample a fraction for faster execution, and encode the class labels:"
   ]
  },
  {
   "cell_type": "code",
   "execution_count": 6,
   "metadata": {},
   "outputs": [
    {
     "name": "stderr",
     "output_type": "stream",
     "text": [
      "/media/bleik2/miniconda3/envs/nlp_gpu/lib/python3.6/site-packages/sklearn/model_selection/_split.py:2179: FutureWarning: From version 0.21, test_size will always complement train_size unless both are specified.\n",
      "  FutureWarning)\n"
     ]
    }
   ],
   "source": [
    "# split\n",
    "df_train, df_test = train_test_split(df, train_size = TRAIN_SIZE, random_state=0)"
   ]
  },
  {
   "cell_type": "code",
   "execution_count": 7,
   "metadata": {},
   "outputs": [],
   "source": [
    "# sample\n",
    "df_train = df_train.sample(frac=TRAIN_DATA_FRACTION).reset_index(drop=True)\n",
    "df_test = df_test.sample(frac=TEST_DATA_FRACTION).reset_index(drop=True)"
   ]
  },
  {
   "cell_type": "markdown",
   "metadata": {},
   "source": [
    "The examples in the dataset are grouped into 5 genres:"
   ]
  },
  {
   "cell_type": "code",
   "execution_count": 8,
   "metadata": {},
   "outputs": [
    {
     "data": {
      "text/plain": [
       "telephone     3146\n",
       "fiction       2960\n",
       "slate         2901\n",
       "government    2893\n",
       "travel        2826\n",
       "Name: genre, dtype: int64"
      ]
     },
     "execution_count": 8,
     "metadata": {},
     "output_type": "execute_result"
    }
   ],
   "source": [
    "df_train[LABEL_COL].value_counts()"
   ]
  },
  {
   "cell_type": "code",
   "execution_count": 9,
   "metadata": {},
   "outputs": [],
   "source": [
    "# encode labels\n",
    "label_encoder = LabelEncoder()\n",
    "labels_train = label_encoder.fit_transform(df_train[LABEL_COL])\n",
    "labels_test = label_encoder.transform(df_test[LABEL_COL])\n",
    "\n",
    "num_labels = len(np.unique(labels_train))"
   ]
  },
  {
   "cell_type": "code",
   "execution_count": 10,
   "metadata": {},
   "outputs": [
    {
     "name": "stdout",
     "output_type": "stream",
     "text": [
      "Number of unique labels: 5\n",
      "Number of training examples: 14726\n",
      "Number of testing examples: 4909\n"
     ]
    }
   ],
   "source": [
    "print(\"Number of unique labels: {}\".format(num_labels))\n",
    "print(\"Number of training examples: {}\".format(df_train.shape[0]))\n",
    "print(\"Number of testing examples: {}\".format(df_test.shape[0]))"
   ]
  },
  {
   "cell_type": "markdown",
   "metadata": {},
   "source": [
    "## Select Pretrained Models\n",
    "\n",
    "Several pretrained models have been made available by [Hugging Face](https://github.com/huggingface/transformers). For text classification, the following pretrained models are supported."
   ]
  },
  {
   "cell_type": "code",
   "execution_count": 11,
   "metadata": {},
   "outputs": [
    {
     "data": {
      "text/html": [
       "<div>\n",
       "<style scoped>\n",
       "    .dataframe tbody tr th:only-of-type {\n",
       "        vertical-align: middle;\n",
       "    }\n",
       "\n",
       "    .dataframe tbody tr th {\n",
       "        vertical-align: top;\n",
       "    }\n",
       "\n",
       "    .dataframe thead th {\n",
       "        text-align: right;\n",
       "    }\n",
       "</style>\n",
       "<table border=\"1\" class=\"dataframe\">\n",
       "  <thead>\n",
       "    <tr style=\"text-align: right;\">\n",
       "      <th></th>\n",
       "      <th>model_name</th>\n",
       "    </tr>\n",
       "  </thead>\n",
       "  <tbody>\n",
       "    <tr>\n",
       "      <th>0</th>\n",
       "      <td>bert-base-uncased</td>\n",
       "    </tr>\n",
       "    <tr>\n",
       "      <th>1</th>\n",
       "      <td>bert-large-uncased</td>\n",
       "    </tr>\n",
       "    <tr>\n",
       "      <th>2</th>\n",
       "      <td>bert-base-cased</td>\n",
       "    </tr>\n",
       "    <tr>\n",
       "      <th>3</th>\n",
       "      <td>bert-large-cased</td>\n",
       "    </tr>\n",
       "    <tr>\n",
       "      <th>4</th>\n",
       "      <td>bert-base-multilingual-uncased</td>\n",
       "    </tr>\n",
       "    <tr>\n",
       "      <th>5</th>\n",
       "      <td>bert-base-multilingual-cased</td>\n",
       "    </tr>\n",
       "    <tr>\n",
       "      <th>6</th>\n",
       "      <td>bert-base-chinese</td>\n",
       "    </tr>\n",
       "    <tr>\n",
       "      <th>7</th>\n",
       "      <td>bert-base-german-cased</td>\n",
       "    </tr>\n",
       "    <tr>\n",
       "      <th>8</th>\n",
       "      <td>bert-large-uncased-whole-word-masking</td>\n",
       "    </tr>\n",
       "    <tr>\n",
       "      <th>9</th>\n",
       "      <td>bert-large-cased-whole-word-masking</td>\n",
       "    </tr>\n",
       "    <tr>\n",
       "      <th>10</th>\n",
       "      <td>bert-large-uncased-whole-word-masking-finetune...</td>\n",
       "    </tr>\n",
       "    <tr>\n",
       "      <th>11</th>\n",
       "      <td>bert-large-cased-whole-word-masking-finetuned-...</td>\n",
       "    </tr>\n",
       "    <tr>\n",
       "      <th>12</th>\n",
       "      <td>bert-base-cased-finetuned-mrpc</td>\n",
       "    </tr>\n",
       "    <tr>\n",
       "      <th>13</th>\n",
       "      <td>roberta-base</td>\n",
       "    </tr>\n",
       "    <tr>\n",
       "      <th>14</th>\n",
       "      <td>roberta-large</td>\n",
       "    </tr>\n",
       "    <tr>\n",
       "      <th>15</th>\n",
       "      <td>roberta-large-mnli</td>\n",
       "    </tr>\n",
       "    <tr>\n",
       "      <th>16</th>\n",
       "      <td>xlnet-base-cased</td>\n",
       "    </tr>\n",
       "    <tr>\n",
       "      <th>17</th>\n",
       "      <td>xlnet-large-cased</td>\n",
       "    </tr>\n",
       "    <tr>\n",
       "      <th>18</th>\n",
       "      <td>distilbert-base-uncased</td>\n",
       "    </tr>\n",
       "    <tr>\n",
       "      <th>19</th>\n",
       "      <td>distilbert-base-uncased-distilled-squad</td>\n",
       "    </tr>\n",
       "  </tbody>\n",
       "</table>\n",
       "</div>"
      ],
      "text/plain": [
       "                                           model_name\n",
       "0                                   bert-base-uncased\n",
       "1                                  bert-large-uncased\n",
       "2                                     bert-base-cased\n",
       "3                                    bert-large-cased\n",
       "4                      bert-base-multilingual-uncased\n",
       "5                        bert-base-multilingual-cased\n",
       "6                                   bert-base-chinese\n",
       "7                              bert-base-german-cased\n",
       "8               bert-large-uncased-whole-word-masking\n",
       "9                 bert-large-cased-whole-word-masking\n",
       "10  bert-large-uncased-whole-word-masking-finetune...\n",
       "11  bert-large-cased-whole-word-masking-finetuned-...\n",
       "12                     bert-base-cased-finetuned-mrpc\n",
       "13                                       roberta-base\n",
       "14                                      roberta-large\n",
       "15                                 roberta-large-mnli\n",
       "16                                   xlnet-base-cased\n",
       "17                                  xlnet-large-cased\n",
       "18                            distilbert-base-uncased\n",
       "19            distilbert-base-uncased-distilled-squad"
      ]
     },
     "execution_count": 11,
     "metadata": {},
     "output_type": "execute_result"
    }
   ],
   "source": [
    "pd.DataFrame({\"model_name\": SequenceClassifier.list_supported_models()})"
   ]
  },
  {
   "cell_type": "markdown",
   "metadata": {},
   "source": [
    "## Fine-tune\n",
    "\n",
    "Our wrappers make it easy to fine-tune different models in a unified way, hiding the preprocessing details that are needed before training. In this example, we're going to select the following models and use the same piece of code to fine-tune them on our genre classification task. Note that some models were pretrained on multilingual datasets and can be used with non-English datasets."
   ]
  },
  {
   "cell_type": "code",
   "execution_count": 28,
   "metadata": {},
   "outputs": [],
   "source": [
    "model_names = [\"distilbert-base-uncased\", \"roberta-base\", \"xlnet-base-cased\"]"
   ]
  },
  {
   "cell_type": "markdown",
   "metadata": {},
   "source": [
    "For each pretrained model, we preprocess the data, fine-tune the classifier, score the test set, and store the evaluation results."
   ]
  },
  {
   "cell_type": "code",
   "execution_count": 33,
   "metadata": {},
   "outputs": [
    {
     "name": "stderr",
     "output_type": "stream",
     "text": [
      "\n",
      "  0%|          | 0/3 [00:00<?, ?it/s]\u001b[AI1002 17:19:07.367456 140305852307264 tokenization_utils.py:373] loading file https://s3.amazonaws.com/models.huggingface.co/bert/bert-base-uncased-vocab.txt from cache at ./temp/26bc1ad6c0ac742e9b52263248f6d0f00068293b33709fae12320c0e35ccfbbb.542ce4285a40d23a559526243235df47c5f75c197f04f37d1a0c124c32c9a084\n",
      "I1002 17:19:16.283660 140305852307264 configuration_utils.py:151] loading configuration file https://s3.amazonaws.com/models.huggingface.co/bert/distilbert-base-uncased-config.json from cache at ./temp/a41e817d5c0743e29e86ff85edc8c257e61bc8d88e4271bb1b243b6e7614c633.1ccd1a11c9ff276830e114ea477ea2407100f4a3be7bdc45d37be9e37fa71c7e\n",
      "I1002 17:19:16.285341 140305852307264 configuration_utils.py:168] Model config {\n",
      "  \"activation\": \"gelu\",\n",
      "  \"attention_dropout\": 0.1,\n",
      "  \"dim\": 768,\n",
      "  \"dropout\": 0.1,\n",
      "  \"finetuning_task\": null,\n",
      "  \"hidden_dim\": 3072,\n",
      "  \"initializer_range\": 0.02,\n",
      "  \"max_position_embeddings\": 512,\n",
      "  \"n_heads\": 12,\n",
      "  \"n_layers\": 6,\n",
      "  \"num_labels\": 5,\n",
      "  \"output_attentions\": false,\n",
      "  \"output_hidden_states\": false,\n",
      "  \"pruned_heads\": {},\n",
      "  \"qa_dropout\": 0.1,\n",
      "  \"seq_classif_dropout\": 0.2,\n",
      "  \"sinusoidal_pos_embds\": false,\n",
      "  \"tie_weights_\": true,\n",
      "  \"torchscript\": false,\n",
      "  \"use_bfloat16\": false,\n",
      "  \"vocab_size\": 30522\n",
      "}\n",
      "\n",
      "I1002 17:19:16.311881 140305852307264 modeling_utils.py:337] loading weights file https://s3.amazonaws.com/models.huggingface.co/bert/distilbert-base-uncased-pytorch_model.bin from cache at ./temp/7b8a8f0b21c4e7f6962451c9370a5d9af90372a5f64637a251f2de154d0fc72c.c2015533705b9dff680ae707e205a35e2860e8d148b45d35085419d74fe57ac5\n",
      "I1002 17:19:17.992355 140305852307264 modeling_utils.py:405] Weights of DistilBertForSequenceClassification not initialized from pretrained model: ['pre_classifier.weight', 'pre_classifier.bias', 'classifier.weight', 'classifier.bias']\n",
      "I1002 17:19:17.993372 140305852307264 modeling_utils.py:408] Weights from pretrained model not used in DistilBertForSequenceClassification: ['vocab_transform.weight', 'vocab_transform.bias', 'vocab_layer_norm.weight', 'vocab_layer_norm.bias', 'vocab_projector.weight', 'vocab_projector.bias']\n",
      "/media/bleik2/miniconda3/envs/nlp_gpu/lib/python3.6/site-packages/torch/nn/parallel/_functions.py:61: UserWarning: Was asked to gather along dimension 0, but all input tensors were scalars; will instead unsqueeze and return a vector.\n",
      "  warnings.warn('Was asked to gather along dimension 0, but all '\n",
      "                                     \n",
      "  0%|          | 0/3 [01:09<?, ?it/s]\n",
      "  0%|          | 0/3 [00:23<?, ?it/s]\u001b[A"
     ]
    },
    {
     "name": "stdout",
     "output_type": "stream",
     "text": [
      "Loss:1.613472\n"
     ]
    },
    {
     "name": "stderr",
     "output_type": "stream",
     "text": [
      "                                     \n",
      "  0%|          | 0/3 [01:14<?, ?it/s]\n",
      "  0%|          | 0/3 [00:28<?, ?it/s]\u001b[A"
     ]
    },
    {
     "name": "stdout",
     "output_type": "stream",
     "text": [
      "Loss:1.296651\n"
     ]
    },
    {
     "name": "stderr",
     "output_type": "stream",
     "text": [
      "                                     \n",
      "  0%|          | 0/3 [01:18<?, ?it/s]\n",
      "  0%|          | 0/3 [00:33<?, ?it/s]\u001b[A"
     ]
    },
    {
     "name": "stdout",
     "output_type": "stream",
     "text": [
      "Loss:0.851296\n"
     ]
    },
    {
     "name": "stderr",
     "output_type": "stream",
     "text": [
      "                                     \n",
      "  0%|          | 0/3 [01:23<?, ?it/s]\n",
      "  0%|          | 0/3 [00:37<?, ?it/s]\u001b[A"
     ]
    },
    {
     "name": "stdout",
     "output_type": "stream",
     "text": [
      "Loss:0.720305\n"
     ]
    },
    {
     "name": "stderr",
     "output_type": "stream",
     "text": [
      "                                     \n",
      "  0%|          | 0/3 [01:28<?, ?it/s]\n",
      "  0%|          | 0/3 [00:42<?, ?it/s]\u001b[A"
     ]
    },
    {
     "name": "stdout",
     "output_type": "stream",
     "text": [
      "Loss:0.880179\n"
     ]
    },
    {
     "name": "stderr",
     "output_type": "stream",
     "text": [
      "                                     \n",
      "  0%|          | 0/3 [01:33<?, ?it/s]\n",
      "  0%|          | 0/3 [00:47<?, ?it/s]\u001b[A"
     ]
    },
    {
     "name": "stdout",
     "output_type": "stream",
     "text": [
      "Loss:0.748330\n"
     ]
    },
    {
     "name": "stderr",
     "output_type": "stream",
     "text": [
      "                                     \n",
      "  0%|          | 0/3 [01:37<?, ?it/s]\n",
      "  0%|          | 0/3 [00:51<?, ?it/s]\u001b[A"
     ]
    },
    {
     "name": "stdout",
     "output_type": "stream",
     "text": [
      "Loss:0.402193\n"
     ]
    },
    {
     "name": "stderr",
     "output_type": "stream",
     "text": [
      "                                     \n",
      "  0%|          | 0/3 [01:42<?, ?it/s]\n",
      "  0%|          | 0/3 [00:56<?, ?it/s]\u001b[A"
     ]
    },
    {
     "name": "stdout",
     "output_type": "stream",
     "text": [
      "Loss:0.389777\n"
     ]
    },
    {
     "name": "stderr",
     "output_type": "stream",
     "text": [
      "                                     \n",
      "  0%|          | 0/3 [01:47<?, ?it/s]\n",
      "  0%|          | 0/3 [01:01<?, ?it/s]\u001b[A"
     ]
    },
    {
     "name": "stdout",
     "output_type": "stream",
     "text": [
      "Loss:0.482890\n"
     ]
    },
    {
     "name": "stderr",
     "output_type": "stream",
     "text": [
      "                                     \n",
      "  0%|          | 0/3 [01:52<?, ?it/s]\n",
      "  0%|          | 0/3 [01:06<?, ?it/s]\u001b[A"
     ]
    },
    {
     "name": "stdout",
     "output_type": "stream",
     "text": [
      "Loss:0.904992\n"
     ]
    },
    {
     "name": "stderr",
     "output_type": "stream",
     "text": [
      "                                     \n",
      "  0%|          | 0/3 [01:56<?, ?it/s]\n",
      "  0%|          | 0/3 [01:11<?, ?it/s]\u001b[A"
     ]
    },
    {
     "name": "stdout",
     "output_type": "stream",
     "text": [
      "Loss:0.446059\n"
     ]
    },
    {
     "name": "stderr",
     "output_type": "stream",
     "text": [
      "                                     \n",
      "  0%|          | 0/3 [02:01<?, ?it/s]\n",
      "  0%|          | 0/3 [01:15<?, ?it/s]\u001b[A"
     ]
    },
    {
     "name": "stdout",
     "output_type": "stream",
     "text": [
      "Loss:0.387229\n"
     ]
    },
    {
     "name": "stderr",
     "output_type": "stream",
     "text": [
      "                                     \n",
      "  0%|          | 0/3 [02:06<?, ?it/s]\n",
      "  0%|          | 0/3 [01:20<?, ?it/s]\u001b[A"
     ]
    },
    {
     "name": "stdout",
     "output_type": "stream",
     "text": [
      "Loss:0.532320\n"
     ]
    },
    {
     "name": "stderr",
     "output_type": "stream",
     "text": [
      "                                     \n",
      "  0%|          | 0/3 [02:11<?, ?it/s]\n",
      "  0%|          | 0/3 [01:25<?, ?it/s]\u001b[A"
     ]
    },
    {
     "name": "stdout",
     "output_type": "stream",
     "text": [
      "Loss:0.083408\n"
     ]
    },
    {
     "name": "stderr",
     "output_type": "stream",
     "text": [
      "                                     \n",
      "  0%|          | 0/3 [02:15<?, ?it/s]\n",
      "  0%|          | 0/3 [01:29<?, ?it/s]\u001b[A"
     ]
    },
    {
     "name": "stdout",
     "output_type": "stream",
     "text": [
      "Loss:0.549527\n"
     ]
    },
    {
     "name": "stderr",
     "output_type": "stream",
     "text": [
      "                                     \n",
      "  0%|          | 0/3 [02:20<?, ?it/s]\n",
      "  0%|          | 0/3 [01:34<?, ?it/s]\u001b[A"
     ]
    },
    {
     "name": "stdout",
     "output_type": "stream",
     "text": [
      "Loss:0.460988\n"
     ]
    },
    {
     "name": "stderr",
     "output_type": "stream",
     "text": [
      "                                     \n",
      "  0%|          | 0/3 [02:25<?, ?it/s]\n",
      "  0%|          | 0/3 [01:39<?, ?it/s]\u001b[A"
     ]
    },
    {
     "name": "stdout",
     "output_type": "stream",
     "text": [
      "Loss:0.446642\n"
     ]
    },
    {
     "name": "stderr",
     "output_type": "stream",
     "text": [
      "                                     \n",
      "  0%|          | 0/3 [02:30<?, ?it/s]\n",
      "  0%|          | 0/3 [01:44<?, ?it/s]\u001b[A"
     ]
    },
    {
     "name": "stdout",
     "output_type": "stream",
     "text": [
      "Loss:0.402221\n"
     ]
    },
    {
     "name": "stderr",
     "output_type": "stream",
     "text": [
      "                                     \n",
      "  0%|          | 0/3 [02:34<?, ?it/s]\n",
      "  0%|          | 0/3 [01:49<?, ?it/s]\u001b[A"
     ]
    },
    {
     "name": "stdout",
     "output_type": "stream",
     "text": [
      "Loss:0.483969\n"
     ]
    },
    {
     "name": "stderr",
     "output_type": "stream",
     "text": [
      "                                     \n",
      "  0%|          | 0/3 [02:39<?, ?it/s]\n",
      "  0%|          | 0/3 [01:53<?, ?it/s]\u001b[A"
     ]
    },
    {
     "name": "stdout",
     "output_type": "stream",
     "text": [
      "Loss:0.156701\n"
     ]
    },
    {
     "name": "stderr",
     "output_type": "stream",
     "text": [
      "                                     \n",
      "  0%|          | 0/3 [02:44<?, ?it/s]\n",
      "  0%|          | 0/3 [01:58<?, ?it/s]\u001b[A"
     ]
    },
    {
     "name": "stdout",
     "output_type": "stream",
     "text": [
      "Loss:0.200881\n"
     ]
    },
    {
     "name": "stderr",
     "output_type": "stream",
     "text": [
      "                                     \n",
      "  0%|          | 0/3 [02:49<?, ?it/s]\n",
      "  0%|          | 0/3 [02:03<?, ?it/s]\u001b[A"
     ]
    },
    {
     "name": "stdout",
     "output_type": "stream",
     "text": [
      "Loss:0.451065\n"
     ]
    },
    {
     "name": "stderr",
     "output_type": "stream",
     "text": [
      "                                     \n",
      "  0%|          | 0/3 [02:53<?, ?it/s]\n",
      "  0%|          | 0/3 [02:08<?, ?it/s]\u001b[A"
     ]
    },
    {
     "name": "stdout",
     "output_type": "stream",
     "text": [
      "Loss:0.536547\n"
     ]
    },
    {
     "name": "stderr",
     "output_type": "stream",
     "text": [
      "                                     \n",
      "  0%|          | 0/3 [02:58<?, ?it/s]\n",
      "  0%|          | 0/3 [02:12<?, ?it/s]\u001b[A"
     ]
    },
    {
     "name": "stdout",
     "output_type": "stream",
     "text": [
      "Loss:0.345483\n"
     ]
    },
    {
     "name": "stderr",
     "output_type": "stream",
     "text": [
      "                                     \n",
      "  0%|          | 0/3 [03:03<?, ?it/s]\n",
      "  0%|          | 0/3 [02:17<?, ?it/s]\u001b[A"
     ]
    },
    {
     "name": "stdout",
     "output_type": "stream",
     "text": [
      "Loss:0.219984\n"
     ]
    },
    {
     "name": "stderr",
     "output_type": "stream",
     "text": [
      "                                     \n",
      "  0%|          | 0/3 [03:07<?, ?it/s]\n",
      "  0%|          | 0/3 [02:22<?, ?it/s]\u001b[A"
     ]
    },
    {
     "name": "stdout",
     "output_type": "stream",
     "text": [
      "Loss:0.216656\n"
     ]
    },
    {
     "name": "stderr",
     "output_type": "stream",
     "text": [
      "                                     \n",
      "  0%|          | 0/3 [03:12<?, ?it/s]\n",
      "  0%|          | 0/3 [02:27<?, ?it/s]\u001b[A"
     ]
    },
    {
     "name": "stdout",
     "output_type": "stream",
     "text": [
      "Loss:0.457885\n"
     ]
    },
    {
     "name": "stderr",
     "output_type": "stream",
     "text": [
      "                                     \n",
      "  0%|          | 0/3 [03:17<?, ?it/s]\n",
      "  0%|          | 0/3 [02:31<?, ?it/s]\u001b[A"
     ]
    },
    {
     "name": "stdout",
     "output_type": "stream",
     "text": [
      "Loss:0.232123\n"
     ]
    },
    {
     "name": "stderr",
     "output_type": "stream",
     "text": [
      "                                     \n",
      "  0%|          | 0/3 [03:22<?, ?it/s]\n",
      "  0%|          | 0/3 [02:36<?, ?it/s]\u001b[A"
     ]
    },
    {
     "name": "stdout",
     "output_type": "stream",
     "text": [
      "Loss:0.282065\n"
     ]
    },
    {
     "name": "stderr",
     "output_type": "stream",
     "text": [
      "                                     \n",
      "  0%|          | 0/3 [03:27<?, ?it/s]\n",
      "  0%|          | 0/3 [02:41<?, ?it/s]\u001b[A"
     ]
    },
    {
     "name": "stdout",
     "output_type": "stream",
     "text": [
      "Loss:0.602874\n"
     ]
    },
    {
     "name": "stderr",
     "output_type": "stream",
     "text": [
      "                                     \n",
      "  0%|          | 0/3 [03:31<?, ?it/s]\n",
      "  0%|          | 0/3 [02:46<?, ?it/s]\u001b[A"
     ]
    },
    {
     "name": "stdout",
     "output_type": "stream",
     "text": [
      "Loss:0.287213\n"
     ]
    },
    {
     "name": "stderr",
     "output_type": "stream",
     "text": [
      "                                     \n",
      "  0%|          | 0/3 [03:36<?, ?it/s]\n",
      "  0%|          | 0/3 [02:50<?, ?it/s]\u001b[A"
     ]
    },
    {
     "name": "stdout",
     "output_type": "stream",
     "text": [
      "Loss:0.324319\n"
     ]
    },
    {
     "name": "stderr",
     "output_type": "stream",
     "text": [
      "                                     \n",
      "  0%|          | 0/3 [03:41<?, ?it/s]\n",
      "  0%|          | 0/3 [02:55<?, ?it/s]\u001b[A"
     ]
    },
    {
     "name": "stdout",
     "output_type": "stream",
     "text": [
      "Loss:0.110210\n"
     ]
    },
    {
     "name": "stderr",
     "output_type": "stream",
     "text": [
      "                                     \n",
      "  0%|          | 0/3 [03:45<?, ?it/s]\n",
      "  0%|          | 0/3 [03:00<?, ?it/s]\u001b[A"
     ]
    },
    {
     "name": "stdout",
     "output_type": "stream",
     "text": [
      "Loss:0.311971\n"
     ]
    },
    {
     "name": "stderr",
     "output_type": "stream",
     "text": [
      "                                     \n",
      "  0%|          | 0/3 [03:50<?, ?it/s]\n",
      "  0%|          | 0/3 [03:04<?, ?it/s]\u001b[A"
     ]
    },
    {
     "name": "stdout",
     "output_type": "stream",
     "text": [
      "Loss:0.109896\n"
     ]
    },
    {
     "name": "stderr",
     "output_type": "stream",
     "text": [
      "                                     \n",
      "  0%|          | 0/3 [03:55<?, ?it/s]\n",
      "  0%|          | 0/3 [03:09<?, ?it/s]\u001b[A"
     ]
    },
    {
     "name": "stdout",
     "output_type": "stream",
     "text": [
      "Loss:0.062447\n"
     ]
    },
    {
     "name": "stderr",
     "output_type": "stream",
     "text": [
      "                                     \n",
      "  0%|          | 0/3 [04:00<?, ?it/s]\n",
      "  0%|          | 0/3 [03:14<?, ?it/s]\u001b[A"
     ]
    },
    {
     "name": "stdout",
     "output_type": "stream",
     "text": [
      "Loss:0.260447\n"
     ]
    },
    {
     "name": "stderr",
     "output_type": "stream",
     "text": [
      "                                     \n",
      "  0%|          | 0/3 [04:04<?, ?it/s]\n",
      "  0%|          | 0/3 [03:19<?, ?it/s]\u001b[A"
     ]
    },
    {
     "name": "stdout",
     "output_type": "stream",
     "text": [
      "Loss:0.404324\n"
     ]
    },
    {
     "name": "stderr",
     "output_type": "stream",
     "text": [
      "                                     \n",
      "  0%|          | 0/3 [04:09<?, ?it/s]\n",
      "  0%|          | 0/3 [03:23<?, ?it/s]\u001b[A"
     ]
    },
    {
     "name": "stdout",
     "output_type": "stream",
     "text": [
      "Loss:0.487277\n"
     ]
    },
    {
     "name": "stderr",
     "output_type": "stream",
     "text": [
      "                                     \n",
      "  0%|          | 0/3 [04:14<?, ?it/s]\n",
      "  0%|          | 0/3 [03:28<?, ?it/s]\u001b[A"
     ]
    },
    {
     "name": "stdout",
     "output_type": "stream",
     "text": [
      "Loss:0.618984\n"
     ]
    },
    {
     "name": "stderr",
     "output_type": "stream",
     "text": [
      "                                     \n",
      "  0%|          | 0/3 [04:19<?, ?it/s]\n",
      "  0%|          | 0/3 [03:33<?, ?it/s]\u001b[A"
     ]
    },
    {
     "name": "stdout",
     "output_type": "stream",
     "text": [
      "Loss:0.208204\n"
     ]
    },
    {
     "name": "stderr",
     "output_type": "stream",
     "text": [
      "                                     \n",
      "  0%|          | 0/3 [04:23<?, ?it/s]\n",
      "  0%|          | 0/3 [03:38<?, ?it/s]\u001b[A"
     ]
    },
    {
     "name": "stdout",
     "output_type": "stream",
     "text": [
      "Loss:0.383544\n"
     ]
    },
    {
     "name": "stderr",
     "output_type": "stream",
     "text": [
      "                                     \n",
      "  0%|          | 0/3 [04:28<?, ?it/s]\n",
      "  0%|          | 0/3 [03:42<?, ?it/s]\u001b[A"
     ]
    },
    {
     "name": "stdout",
     "output_type": "stream",
     "text": [
      "Loss:0.490614\n"
     ]
    },
    {
     "name": "stderr",
     "output_type": "stream",
     "text": [
      "                                     \n",
      "  0%|          | 0/3 [04:32<?, ?it/s]\n",
      "  0%|          | 0/3 [03:46<?, ?it/s]\u001b[A"
     ]
    },
    {
     "name": "stdout",
     "output_type": "stream",
     "text": [
      "Loss:0.175832\n"
     ]
    },
    {
     "name": "stderr",
     "output_type": "stream",
     "text": [
      "                                     \n",
      "  0%|          | 0/3 [04:36<?, ?it/s]\n",
      "  0%|          | 0/3 [03:50<?, ?it/s]\u001b[A"
     ]
    },
    {
     "name": "stdout",
     "output_type": "stream",
     "text": [
      "Loss:0.306752\n"
     ]
    },
    {
     "name": "stderr",
     "output_type": "stream",
     "text": [
      "                                     \n",
      "  0%|          | 0/3 [04:40<?, ?it/s]\n",
      "  0%|          | 0/3 [03:54<?, ?it/s]\u001b[A"
     ]
    },
    {
     "name": "stdout",
     "output_type": "stream",
     "text": [
      "Loss:0.318104\n"
     ]
    },
    {
     "name": "stderr",
     "output_type": "stream",
     "text": [
      "                                     \n",
      "  0%|          | 0/3 [04:44<?, ?it/s]\n",
      "  0%|          | 0/3 [03:58<?, ?it/s]\u001b[A"
     ]
    },
    {
     "name": "stdout",
     "output_type": "stream",
     "text": [
      "Loss:0.534412\n"
     ]
    },
    {
     "name": "stderr",
     "output_type": "stream",
     "text": [
      "                                     \n",
      "  0%|          | 0/3 [04:47<?, ?it/s]\n",
      "  0%|          | 0/3 [04:02<?, ?it/s]\u001b[A"
     ]
    },
    {
     "name": "stdout",
     "output_type": "stream",
     "text": [
      "Loss:0.203843\n"
     ]
    },
    {
     "name": "stderr",
     "output_type": "stream",
     "text": [
      "                                     \n",
      "  0%|          | 0/3 [04:51<?, ?it/s]\n",
      "  0%|          | 0/3 [04:06<?, ?it/s]\u001b[A"
     ]
    },
    {
     "name": "stdout",
     "output_type": "stream",
     "text": [
      "Loss:0.061628\n"
     ]
    },
    {
     "name": "stderr",
     "output_type": "stream",
     "text": [
      "                                     \n",
      "  0%|          | 0/3 [04:55<?, ?it/s]\n",
      "  0%|          | 0/3 [04:09<?, ?it/s]\u001b[A"
     ]
    },
    {
     "name": "stdout",
     "output_type": "stream",
     "text": [
      "Loss:0.350042\n"
     ]
    },
    {
     "name": "stderr",
     "output_type": "stream",
     "text": [
      "                                     \n",
      "  0%|          | 0/3 [04:59<?, ?it/s]\n",
      "  0%|          | 0/3 [04:13<?, ?it/s]\u001b[A"
     ]
    },
    {
     "name": "stdout",
     "output_type": "stream",
     "text": [
      "Loss:0.429678\n"
     ]
    },
    {
     "name": "stderr",
     "output_type": "stream",
     "text": [
      "                                     \n",
      "  0%|          | 0/3 [05:03<?, ?it/s]\n",
      "  0%|          | 0/3 [04:17<?, ?it/s]\u001b[A"
     ]
    },
    {
     "name": "stdout",
     "output_type": "stream",
     "text": [
      "Loss:0.124946\n"
     ]
    },
    {
     "name": "stderr",
     "output_type": "stream",
     "text": [
      "                                     \n",
      "  0%|          | 0/3 [05:07<?, ?it/s]\n",
      "  0%|          | 0/3 [04:21<?, ?it/s]\u001b[A"
     ]
    },
    {
     "name": "stdout",
     "output_type": "stream",
     "text": [
      "Loss:0.420080\n"
     ]
    },
    {
     "name": "stderr",
     "output_type": "stream",
     "text": [
      "                                     \n",
      "  0%|          | 0/3 [05:10<?, ?it/s]\n",
      "  0%|          | 0/3 [04:25<?, ?it/s]\u001b[A"
     ]
    },
    {
     "name": "stdout",
     "output_type": "stream",
     "text": [
      "Loss:0.088511\n"
     ]
    },
    {
     "name": "stderr",
     "output_type": "stream",
     "text": [
      "                                     \n",
      "  0%|          | 0/3 [05:14<?, ?it/s]\n",
      "  0%|          | 0/3 [04:28<?, ?it/s]\u001b[A"
     ]
    },
    {
     "name": "stdout",
     "output_type": "stream",
     "text": [
      "Loss:0.703935\n"
     ]
    },
    {
     "name": "stderr",
     "output_type": "stream",
     "text": [
      "                                     \n",
      "  0%|          | 0/3 [05:18<?, ?it/s]\n",
      "  0%|          | 0/3 [04:32<?, ?it/s]\u001b[A"
     ]
    },
    {
     "name": "stdout",
     "output_type": "stream",
     "text": [
      "Loss:0.348099\n"
     ]
    },
    {
     "name": "stderr",
     "output_type": "stream",
     "text": [
      "                                     \n",
      "  0%|          | 0/3 [05:22<?, ?it/s]\n",
      "  0%|          | 0/3 [04:36<?, ?it/s]\u001b[A"
     ]
    },
    {
     "name": "stdout",
     "output_type": "stream",
     "text": [
      "Loss:0.640956\n"
     ]
    },
    {
     "name": "stderr",
     "output_type": "stream",
     "text": [
      "                                     \n",
      "  0%|          | 0/3 [05:26<?, ?it/s]\n",
      "  0%|          | 0/3 [04:40<?, ?it/s]\u001b[A"
     ]
    },
    {
     "name": "stdout",
     "output_type": "stream",
     "text": [
      "Loss:0.437338\n"
     ]
    },
    {
     "name": "stderr",
     "output_type": "stream",
     "text": [
      "                                     \n",
      "  0%|          | 0/3 [05:29<?, ?it/s]\n",
      "  0%|          | 0/3 [04:44<?, ?it/s]\u001b[A"
     ]
    },
    {
     "name": "stdout",
     "output_type": "stream",
     "text": [
      "Loss:0.216858\n"
     ]
    },
    {
     "name": "stderr",
     "output_type": "stream",
     "text": [
      "                                     \n",
      "  0%|          | 0/3 [05:33<?, ?it/s]\n",
      "  0%|          | 0/3 [04:47<?, ?it/s]\u001b[A"
     ]
    },
    {
     "name": "stdout",
     "output_type": "stream",
     "text": [
      "Loss:0.246830\n"
     ]
    },
    {
     "name": "stderr",
     "output_type": "stream",
     "text": [
      "                                     \n",
      "  0%|          | 0/3 [05:37<?, ?it/s]\n",
      "  0%|          | 0/3 [04:51<?, ?it/s]\u001b[A"
     ]
    },
    {
     "name": "stdout",
     "output_type": "stream",
     "text": [
      "Loss:0.060938\n"
     ]
    },
    {
     "name": "stderr",
     "output_type": "stream",
     "text": [
      "                                     \n",
      "  0%|          | 0/3 [05:41<?, ?it/s]\n",
      "  0%|          | 0/3 [04:55<?, ?it/s]\u001b[A"
     ]
    },
    {
     "name": "stdout",
     "output_type": "stream",
     "text": [
      "Loss:0.276095\n"
     ]
    },
    {
     "name": "stderr",
     "output_type": "stream",
     "text": [
      "                                     \n",
      "  0%|          | 0/3 [05:45<?, ?it/s]\n",
      "  0%|          | 0/3 [04:59<?, ?it/s]\u001b[A"
     ]
    },
    {
     "name": "stdout",
     "output_type": "stream",
     "text": [
      "Loss:0.278681\n"
     ]
    },
    {
     "name": "stderr",
     "output_type": "stream",
     "text": [
      "                                     \n",
      "  0%|          | 0/3 [05:48<?, ?it/s]\n",
      "  0%|          | 0/3 [05:03<?, ?it/s]\u001b[A"
     ]
    },
    {
     "name": "stdout",
     "output_type": "stream",
     "text": [
      "Loss:0.311547\n"
     ]
    },
    {
     "name": "stderr",
     "output_type": "stream",
     "text": [
      "                                     \n",
      "  0%|          | 0/3 [05:52<?, ?it/s]\n",
      "  0%|          | 0/3 [05:07<?, ?it/s]\u001b[A"
     ]
    },
    {
     "name": "stdout",
     "output_type": "stream",
     "text": [
      "Loss:0.332097\n"
     ]
    },
    {
     "name": "stderr",
     "output_type": "stream",
     "text": [
      "                                     \n",
      "  0%|          | 0/3 [05:56<?, ?it/s]\n",
      "  0%|          | 0/3 [05:10<?, ?it/s]\u001b[A"
     ]
    },
    {
     "name": "stdout",
     "output_type": "stream",
     "text": [
      "Loss:0.397385\n"
     ]
    },
    {
     "name": "stderr",
     "output_type": "stream",
     "text": [
      "                                     \n",
      "  0%|          | 0/3 [06:00<?, ?it/s]\n",
      "  0%|          | 0/3 [05:14<?, ?it/s]\u001b[A"
     ]
    },
    {
     "name": "stdout",
     "output_type": "stream",
     "text": [
      "Loss:0.307721\n"
     ]
    },
    {
     "name": "stderr",
     "output_type": "stream",
     "text": [
      "                                     \n",
      "  0%|          | 0/3 [06:04<?, ?it/s]\n",
      "  0%|          | 0/3 [05:18<?, ?it/s]\u001b[A"
     ]
    },
    {
     "name": "stdout",
     "output_type": "stream",
     "text": [
      "Loss:0.329896\n"
     ]
    },
    {
     "name": "stderr",
     "output_type": "stream",
     "text": [
      "                                     \n",
      "  0%|          | 0/3 [06:08<?, ?it/s]\n",
      "  0%|          | 0/3 [05:22<?, ?it/s]\u001b[A"
     ]
    },
    {
     "name": "stdout",
     "output_type": "stream",
     "text": [
      "Loss:0.607863\n"
     ]
    },
    {
     "name": "stderr",
     "output_type": "stream",
     "text": [
      "                                     \n",
      "  0%|          | 0/3 [06:11<?, ?it/s]\n",
      "  0%|          | 0/3 [05:26<?, ?it/s]\u001b[A"
     ]
    },
    {
     "name": "stdout",
     "output_type": "stream",
     "text": [
      "Loss:0.746738\n"
     ]
    },
    {
     "name": "stderr",
     "output_type": "stream",
     "text": [
      "                                     \n",
      "  0%|          | 0/3 [06:15<?, ?it/s]\n",
      "  0%|          | 0/3 [05:29<?, ?it/s]\u001b[A"
     ]
    },
    {
     "name": "stdout",
     "output_type": "stream",
     "text": [
      "Loss:0.063720\n"
     ]
    },
    {
     "name": "stderr",
     "output_type": "stream",
     "text": [
      "                                     \n",
      "  0%|          | 0/3 [06:19<?, ?it/s]\n",
      "  0%|          | 0/3 [05:33<?, ?it/s]\u001b[A"
     ]
    },
    {
     "name": "stdout",
     "output_type": "stream",
     "text": [
      "Loss:0.252187\n"
     ]
    },
    {
     "name": "stderr",
     "output_type": "stream",
     "text": [
      "                                     \n",
      "  0%|          | 0/3 [06:23<?, ?it/s]\n",
      "  0%|          | 0/3 [05:37<?, ?it/s]\u001b[A"
     ]
    },
    {
     "name": "stdout",
     "output_type": "stream",
     "text": [
      "Loss:0.297432\n"
     ]
    },
    {
     "name": "stderr",
     "output_type": "stream",
     "text": [
      "                                     \n",
      "  0%|          | 0/3 [06:27<?, ?it/s]\n",
      "  0%|          | 0/3 [05:41<?, ?it/s]\u001b[A"
     ]
    },
    {
     "name": "stdout",
     "output_type": "stream",
     "text": [
      "Loss:0.331586\n"
     ]
    },
    {
     "name": "stderr",
     "output_type": "stream",
     "text": [
      "                                     \n",
      "  0%|          | 0/3 [06:30<?, ?it/s]\n",
      "  0%|          | 0/3 [05:45<?, ?it/s]\u001b[A"
     ]
    },
    {
     "name": "stdout",
     "output_type": "stream",
     "text": [
      "Loss:0.202993\n"
     ]
    },
    {
     "name": "stderr",
     "output_type": "stream",
     "text": [
      "                                     \n",
      "  0%|          | 0/3 [06:34<?, ?it/s]\n",
      "  0%|          | 0/3 [05:48<?, ?it/s]\u001b[A"
     ]
    },
    {
     "name": "stdout",
     "output_type": "stream",
     "text": [
      "Loss:0.500522\n"
     ]
    },
    {
     "name": "stderr",
     "output_type": "stream",
     "text": [
      "                                     \n",
      "  0%|          | 0/3 [06:38<?, ?it/s]\n",
      "  0%|          | 0/3 [05:52<?, ?it/s]\u001b[A"
     ]
    },
    {
     "name": "stdout",
     "output_type": "stream",
     "text": [
      "Loss:0.276734\n"
     ]
    },
    {
     "name": "stderr",
     "output_type": "stream",
     "text": [
      "                                     \n",
      "  0%|          | 0/3 [06:42<?, ?it/s]\n",
      "  0%|          | 0/3 [05:56<?, ?it/s]\u001b[A"
     ]
    },
    {
     "name": "stdout",
     "output_type": "stream",
     "text": [
      "Loss:0.314735\n"
     ]
    },
    {
     "name": "stderr",
     "output_type": "stream",
     "text": [
      "                                     \n",
      "  0%|          | 0/3 [06:46<?, ?it/s]\n",
      "  0%|          | 0/3 [06:00<?, ?it/s]\u001b[A"
     ]
    },
    {
     "name": "stdout",
     "output_type": "stream",
     "text": [
      "Loss:0.197529\n"
     ]
    },
    {
     "name": "stderr",
     "output_type": "stream",
     "text": [
      "                                     \n",
      "  0%|          | 0/3 [06:49<?, ?it/s]\n",
      "  0%|          | 0/3 [06:04<?, ?it/s]\u001b[A"
     ]
    },
    {
     "name": "stdout",
     "output_type": "stream",
     "text": [
      "Loss:0.347036\n"
     ]
    },
    {
     "name": "stderr",
     "output_type": "stream",
     "text": [
      "                                     \n",
      "  0%|          | 0/3 [06:53<?, ?it/s]\n",
      "  0%|          | 0/3 [06:07<?, ?it/s]\u001b[A"
     ]
    },
    {
     "name": "stdout",
     "output_type": "stream",
     "text": [
      "Loss:0.189967\n"
     ]
    },
    {
     "name": "stderr",
     "output_type": "stream",
     "text": [
      "                                     \n",
      "  0%|          | 0/3 [06:57<?, ?it/s]\n",
      "  0%|          | 0/3 [06:11<?, ?it/s]\u001b[A"
     ]
    },
    {
     "name": "stdout",
     "output_type": "stream",
     "text": [
      "Loss:0.419700\n"
     ]
    },
    {
     "name": "stderr",
     "output_type": "stream",
     "text": [
      "                                     \n",
      "  0%|          | 0/3 [07:01<?, ?it/s]\n",
      "  0%|          | 0/3 [06:15<?, ?it/s]\u001b[A"
     ]
    },
    {
     "name": "stdout",
     "output_type": "stream",
     "text": [
      "Loss:0.278979\n"
     ]
    },
    {
     "name": "stderr",
     "output_type": "stream",
     "text": [
      "                                     \n",
      "  0%|          | 0/3 [07:05<?, ?it/s]\n",
      "  0%|          | 0/3 [06:19<?, ?it/s]\u001b[A"
     ]
    },
    {
     "name": "stdout",
     "output_type": "stream",
     "text": [
      "Loss:0.278433\n"
     ]
    },
    {
     "name": "stderr",
     "output_type": "stream",
     "text": [
      "                                     \n",
      "  0%|          | 0/3 [07:08<?, ?it/s]\n",
      "  0%|          | 0/3 [06:23<?, ?it/s]\u001b[A"
     ]
    },
    {
     "name": "stdout",
     "output_type": "stream",
     "text": [
      "Loss:0.190359\n"
     ]
    },
    {
     "name": "stderr",
     "output_type": "stream",
     "text": [
      "                                     \n",
      "  0%|          | 0/3 [07:12<?, ?it/s]\n",
      "  0%|          | 0/3 [06:26<?, ?it/s]\u001b[A"
     ]
    },
    {
     "name": "stdout",
     "output_type": "stream",
     "text": [
      "Loss:0.598480\n"
     ]
    },
    {
     "name": "stderr",
     "output_type": "stream",
     "text": [
      "                                     \n",
      "  0%|          | 0/3 [07:16<?, ?it/s]\n",
      "  0%|          | 0/3 [06:30<?, ?it/s]\u001b[A"
     ]
    },
    {
     "name": "stdout",
     "output_type": "stream",
     "text": [
      "Loss:0.140968\n"
     ]
    },
    {
     "name": "stderr",
     "output_type": "stream",
     "text": [
      "                                     \n",
      "  0%|          | 0/3 [07:20<?, ?it/s]\n",
      "  0%|          | 0/3 [06:34<?, ?it/s]\u001b[A"
     ]
    },
    {
     "name": "stdout",
     "output_type": "stream",
     "text": [
      "Loss:0.255686\n"
     ]
    },
    {
     "name": "stderr",
     "output_type": "stream",
     "text": [
      "                                     \n",
      "  0%|          | 0/3 [07:23<?, ?it/s]\n",
      "  0%|          | 0/3 [06:38<?, ?it/s]\u001b[A"
     ]
    },
    {
     "name": "stdout",
     "output_type": "stream",
     "text": [
      "Loss:0.373986\n"
     ]
    },
    {
     "name": "stderr",
     "output_type": "stream",
     "text": [
      "                                     \n",
      "  0%|          | 0/3 [07:27<?, ?it/s]\n",
      "  0%|          | 0/3 [06:41<?, ?it/s]\u001b[A"
     ]
    },
    {
     "name": "stdout",
     "output_type": "stream",
     "text": [
      "Loss:0.196667\n"
     ]
    },
    {
     "name": "stderr",
     "output_type": "stream",
     "text": [
      "                                     \n",
      "  0%|          | 0/3 [07:31<?, ?it/s]\n",
      "  0%|          | 0/3 [06:45<?, ?it/s]\u001b[A"
     ]
    },
    {
     "name": "stdout",
     "output_type": "stream",
     "text": [
      "Loss:0.074657\n"
     ]
    },
    {
     "name": "stderr",
     "output_type": "stream",
     "text": [
      "                                     \n",
      "  0%|          | 0/3 [07:35<?, ?it/s]\n",
      "  0%|          | 0/3 [06:49<?, ?it/s]\u001b[A"
     ]
    },
    {
     "name": "stdout",
     "output_type": "stream",
     "text": [
      "Loss:0.316425\n"
     ]
    },
    {
     "name": "stderr",
     "output_type": "stream",
     "text": [
      "                                     \n",
      "  0%|          | 0/3 [07:39<?, ?it/s]\n",
      "  0%|          | 0/3 [06:53<?, ?it/s]\u001b[A"
     ]
    },
    {
     "name": "stdout",
     "output_type": "stream",
     "text": [
      "Loss:1.059075\n"
     ]
    },
    {
     "name": "stderr",
     "output_type": "stream",
     "text": [
      "\n",
      "\n",
      "Evaluating:   0%|          | 0/154 [00:00<?, ?it/s]\u001b[A\u001b[A\n",
      "\n",
      "Evaluating:   1%|          | 1/154 [00:00<00:42,  3.56it/s]\u001b[A\u001b[A\n",
      "\n",
      "Evaluating:   1%|▏         | 2/154 [00:00<00:39,  3.90it/s]\u001b[A\u001b[A\n",
      "\n",
      "Evaluating:   2%|▏         | 3/154 [00:00<00:36,  4.15it/s]\u001b[A\u001b[A\n",
      "\n",
      "Evaluating:   3%|▎         | 4/154 [00:00<00:34,  4.35it/s]\u001b[A\u001b[A\n",
      "\n",
      "Evaluating:   3%|▎         | 5/154 [00:01<00:33,  4.49it/s]\u001b[A\u001b[A\n",
      "\n",
      "Evaluating:   4%|▍         | 6/154 [00:01<00:32,  4.60it/s]\u001b[A\u001b[A\n",
      "\n",
      "Evaluating:   5%|▍         | 7/154 [00:01<00:31,  4.67it/s]\u001b[A\u001b[A\n",
      "\n",
      "Evaluating:   5%|▌         | 8/154 [00:01<00:30,  4.74it/s]\u001b[A\u001b[A\n",
      "\n",
      "Evaluating:   6%|▌         | 9/154 [00:01<00:30,  4.78it/s]\u001b[A\u001b[A\n",
      "\n",
      "Evaluating:   6%|▋         | 10/154 [00:02<00:30,  4.79it/s]\u001b[A\u001b[A\n",
      "\n",
      "Evaluating:   7%|▋         | 11/154 [00:02<00:29,  4.82it/s]\u001b[A\u001b[A\n",
      "\n",
      "Evaluating:   8%|▊         | 12/154 [00:02<00:29,  4.84it/s]\u001b[A\u001b[A\n",
      "\n",
      "Evaluating:   8%|▊         | 13/154 [00:02<00:29,  4.86it/s]\u001b[A\u001b[A\n",
      "\n",
      "Evaluating:   9%|▉         | 14/154 [00:02<00:28,  4.86it/s]\u001b[A\u001b[A\n",
      "\n",
      "Evaluating:  10%|▉         | 15/154 [00:03<00:28,  4.85it/s]\u001b[A\u001b[A\n",
      "\n",
      "Evaluating:  10%|█         | 16/154 [00:03<00:28,  4.82it/s]\u001b[A\u001b[A\n",
      "\n",
      "Evaluating:  11%|█         | 17/154 [00:03<00:28,  4.84it/s]\u001b[A\u001b[A\n",
      "\n",
      "Evaluating:  12%|█▏        | 18/154 [00:03<00:28,  4.86it/s]\u001b[A\u001b[A\n",
      "\n",
      "Evaluating:  12%|█▏        | 19/154 [00:03<00:27,  4.87it/s]\u001b[A\u001b[A\n",
      "\n",
      "Evaluating:  13%|█▎        | 20/154 [00:04<00:27,  4.86it/s]\u001b[A\u001b[A\n",
      "\n",
      "Evaluating:  14%|█▎        | 21/154 [00:04<00:27,  4.86it/s]\u001b[A\u001b[A\n",
      "\n",
      "Evaluating:  14%|█▍        | 22/154 [00:04<00:27,  4.86it/s]\u001b[A\u001b[A\n",
      "\n",
      "Evaluating:  15%|█▍        | 23/154 [00:04<00:27,  4.85it/s]\u001b[A\u001b[A\n",
      "\n",
      "Evaluating:  16%|█▌        | 24/154 [00:05<00:26,  4.83it/s]\u001b[A\u001b[A\n",
      "\n",
      "Evaluating:  16%|█▌        | 25/154 [00:05<00:26,  4.83it/s]\u001b[A\u001b[A\n",
      "\n",
      "Evaluating:  17%|█▋        | 26/154 [00:05<00:26,  4.84it/s]\u001b[A\u001b[A\n",
      "\n",
      "Evaluating:  18%|█▊        | 27/154 [00:05<00:26,  4.85it/s]\u001b[A\u001b[A\n",
      "\n",
      "Evaluating:  18%|█▊        | 28/154 [00:05<00:26,  4.84it/s]\u001b[A\u001b[A\n",
      "\n",
      "Evaluating:  19%|█▉        | 29/154 [00:06<00:25,  4.85it/s]\u001b[A\u001b[A\n",
      "\n",
      "Evaluating:  19%|█▉        | 30/154 [00:06<00:25,  4.83it/s]\u001b[A\u001b[A\n",
      "\n",
      "Evaluating:  20%|██        | 31/154 [00:06<00:25,  4.84it/s]\u001b[A\u001b[A\n",
      "\n",
      "Evaluating:  21%|██        | 32/154 [00:06<00:25,  4.85it/s]\u001b[A\u001b[A\n",
      "\n",
      "Evaluating:  21%|██▏       | 33/154 [00:06<00:24,  4.84it/s]\u001b[A\u001b[A\n",
      "\n",
      "Evaluating:  22%|██▏       | 34/154 [00:07<00:24,  4.83it/s]\u001b[A\u001b[A\n",
      "\n",
      "Evaluating:  23%|██▎       | 35/154 [00:07<00:24,  4.84it/s]\u001b[A\u001b[A\n",
      "\n",
      "Evaluating:  23%|██▎       | 36/154 [00:07<00:24,  4.85it/s]\u001b[A\u001b[A\n",
      "\n",
      "Evaluating:  24%|██▍       | 37/154 [00:07<00:24,  4.84it/s]\u001b[A\u001b[A\n",
      "\n",
      "Evaluating:  25%|██▍       | 38/154 [00:07<00:23,  4.85it/s]\u001b[A\u001b[A\n",
      "\n",
      "Evaluating:  25%|██▌       | 39/154 [00:08<00:23,  4.84it/s]\u001b[A\u001b[A\n",
      "\n",
      "Evaluating:  26%|██▌       | 40/154 [00:08<00:23,  4.83it/s]\u001b[A\u001b[A\n",
      "\n",
      "Evaluating:  27%|██▋       | 41/154 [00:08<00:23,  4.85it/s]\u001b[A\u001b[A\n",
      "\n",
      "Evaluating:  27%|██▋       | 42/154 [00:08<00:23,  4.86it/s]\u001b[A\u001b[A\n",
      "\n",
      "Evaluating:  28%|██▊       | 43/154 [00:08<00:22,  4.87it/s]\u001b[A\u001b[A\n",
      "\n",
      "Evaluating:  29%|██▊       | 44/154 [00:09<00:22,  4.84it/s]\u001b[A\u001b[A\n",
      "\n",
      "Evaluating:  29%|██▉       | 45/154 [00:09<00:22,  4.84it/s]\u001b[A\u001b[A\n",
      "\n",
      "Evaluating:  30%|██▉       | 46/154 [00:09<00:22,  4.83it/s]\u001b[A\u001b[A\n",
      "\n",
      "Evaluating:  31%|███       | 47/154 [00:09<00:22,  4.84it/s]\u001b[A\u001b[A\n",
      "\n",
      "Evaluating:  31%|███       | 48/154 [00:09<00:21,  4.85it/s]\u001b[A\u001b[A\n",
      "\n",
      "Evaluating:  32%|███▏      | 49/154 [00:10<00:21,  4.84it/s]\u001b[A\u001b[A\n",
      "\n",
      "Evaluating:  32%|███▏      | 50/154 [00:10<00:21,  4.85it/s]\u001b[A\u001b[A\n",
      "\n",
      "Evaluating:  33%|███▎      | 51/154 [00:10<00:21,  4.86it/s]\u001b[A\u001b[A\n",
      "\n",
      "Evaluating:  34%|███▍      | 52/154 [00:10<00:20,  4.87it/s]\u001b[A\u001b[A\n",
      "\n",
      "Evaluating:  34%|███▍      | 53/154 [00:10<00:20,  4.87it/s]\u001b[A\u001b[A\n",
      "\n",
      "Evaluating:  35%|███▌      | 54/154 [00:11<00:20,  4.87it/s]\u001b[A\u001b[A\n",
      "\n",
      "Evaluating:  36%|███▌      | 55/154 [00:11<00:20,  4.88it/s]\u001b[A\u001b[A\n",
      "\n",
      "Evaluating:  36%|███▋      | 56/154 [00:11<00:20,  4.88it/s]\u001b[A\u001b[A\n",
      "\n",
      "Evaluating:  37%|███▋      | 57/154 [00:11<00:19,  4.88it/s]\u001b[A\u001b[A\n",
      "\n",
      "Evaluating:  38%|███▊      | 58/154 [00:12<00:19,  4.86it/s]\u001b[A\u001b[A\n",
      "\n",
      "Evaluating:  38%|███▊      | 59/154 [00:12<00:19,  4.85it/s]\u001b[A\u001b[A\n",
      "\n",
      "Evaluating:  39%|███▉      | 60/154 [00:12<00:19,  4.85it/s]\u001b[A\u001b[A\n",
      "\n",
      "Evaluating:  40%|███▉      | 61/154 [00:12<00:19,  4.85it/s]\u001b[A\u001b[A\n",
      "\n",
      "Evaluating:  40%|████      | 62/154 [00:12<00:19,  4.83it/s]\u001b[A\u001b[A\n",
      "\n",
      "Evaluating:  41%|████      | 63/154 [00:13<00:18,  4.83it/s]\u001b[A\u001b[A\n",
      "\n",
      "Evaluating:  42%|████▏     | 64/154 [00:13<00:18,  4.83it/s]\u001b[A\u001b[A\n",
      "\n",
      "Evaluating:  42%|████▏     | 65/154 [00:13<00:18,  4.85it/s]\u001b[A\u001b[A\n",
      "\n",
      "Evaluating:  43%|████▎     | 66/154 [00:13<00:18,  4.86it/s]\u001b[A\u001b[A\n",
      "\n",
      "Evaluating:  44%|████▎     | 67/154 [00:13<00:17,  4.86it/s]\u001b[A\u001b[A\n",
      "\n",
      "Evaluating:  44%|████▍     | 68/154 [00:14<00:17,  4.84it/s]\u001b[A\u001b[A\n",
      "\n",
      "Evaluating:  45%|████▍     | 69/154 [00:14<00:17,  4.84it/s]\u001b[A\u001b[A\n",
      "\n",
      "Evaluating:  45%|████▌     | 70/154 [00:14<00:17,  4.85it/s]\u001b[A\u001b[A\n",
      "\n",
      "Evaluating:  46%|████▌     | 71/154 [00:14<00:17,  4.84it/s]\u001b[A\u001b[A\n",
      "\n",
      "Evaluating:  47%|████▋     | 72/154 [00:14<00:16,  4.83it/s]\u001b[A\u001b[A\n",
      "\n",
      "Evaluating:  47%|████▋     | 73/154 [00:15<00:16,  4.84it/s]\u001b[A\u001b[A\n",
      "\n",
      "Evaluating:  48%|████▊     | 74/154 [00:15<00:16,  4.85it/s]\u001b[A\u001b[A\n",
      "\n",
      "Evaluating:  49%|████▊     | 75/154 [00:15<00:16,  4.87it/s]\u001b[A\u001b[A\n",
      "\n",
      "Evaluating:  49%|████▉     | 76/154 [00:15<00:16,  4.86it/s]\u001b[A\u001b[A\n",
      "\n",
      "Evaluating:  50%|█████     | 77/154 [00:15<00:15,  4.87it/s]\u001b[A\u001b[A\n",
      "\n",
      "Evaluating:  51%|█████     | 78/154 [00:16<00:15,  4.87it/s]\u001b[A\u001b[A\n",
      "\n",
      "Evaluating:  51%|█████▏    | 79/154 [00:16<00:15,  4.87it/s]\u001b[A\u001b[A\n",
      "\n",
      "Evaluating:  52%|█████▏    | 80/154 [00:16<00:15,  4.87it/s]\u001b[A\u001b[A\n",
      "\n",
      "Evaluating:  53%|█████▎    | 81/154 [00:16<00:14,  4.88it/s]\u001b[A\u001b[A\n",
      "\n",
      "Evaluating:  53%|█████▎    | 82/154 [00:16<00:14,  4.86it/s]\u001b[A\u001b[A\n",
      "\n",
      "Evaluating:  54%|█████▍    | 83/154 [00:17<00:14,  4.84it/s]\u001b[A\u001b[A\n",
      "\n",
      "Evaluating:  55%|█████▍    | 84/154 [00:17<00:14,  4.85it/s]\u001b[A\u001b[A\n",
      "\n",
      "Evaluating:  55%|█████▌    | 85/154 [00:17<00:14,  4.86it/s]\u001b[A\u001b[A\n",
      "\n",
      "Evaluating:  56%|█████▌    | 86/154 [00:17<00:14,  4.85it/s]\u001b[A\u001b[A\n",
      "\n",
      "Evaluating:  56%|█████▋    | 87/154 [00:17<00:13,  4.85it/s]\u001b[A\u001b[A\n",
      "\n",
      "Evaluating:  57%|█████▋    | 88/154 [00:18<00:13,  4.84it/s]\u001b[A\u001b[A\n",
      "\n",
      "Evaluating:  58%|█████▊    | 89/154 [00:18<00:13,  4.84it/s]\u001b[A\u001b[A\n",
      "\n",
      "Evaluating:  58%|█████▊    | 90/154 [00:18<00:13,  4.84it/s]\u001b[A\u001b[A\n",
      "\n",
      "Evaluating:  59%|█████▉    | 91/154 [00:18<00:13,  4.82it/s]\u001b[A\u001b[A\n",
      "\n",
      "Evaluating:  60%|█████▉    | 92/154 [00:19<00:12,  4.82it/s]\u001b[A\u001b[A\n",
      "\n",
      "Evaluating:  60%|██████    | 93/154 [00:19<00:12,  4.82it/s]\u001b[A\u001b[A\n",
      "\n",
      "Evaluating:  61%|██████    | 94/154 [00:19<00:12,  4.83it/s]\u001b[A\u001b[A\n",
      "\n",
      "Evaluating:  62%|██████▏   | 95/154 [00:19<00:12,  4.83it/s]\u001b[A\u001b[A\n",
      "\n",
      "Evaluating:  62%|██████▏   | 96/154 [00:19<00:11,  4.84it/s]\u001b[A\u001b[A\n",
      "\n",
      "Evaluating:  63%|██████▎   | 97/154 [00:20<00:11,  4.84it/s]\u001b[A\u001b[A\n",
      "\n",
      "Evaluating:  64%|██████▎   | 98/154 [00:20<00:11,  4.84it/s]\u001b[A\u001b[A\n",
      "\n",
      "Evaluating:  64%|██████▍   | 99/154 [00:20<00:11,  4.86it/s]\u001b[A\u001b[A\n",
      "\n",
      "Evaluating:  65%|██████▍   | 100/154 [00:20<00:11,  4.83it/s]\u001b[A\u001b[A\n",
      "\n",
      "Evaluating:  66%|██████▌   | 101/154 [00:20<00:11,  4.80it/s]\u001b[A\u001b[A\n",
      "\n",
      "Evaluating:  66%|██████▌   | 102/154 [00:21<00:10,  4.80it/s]\u001b[A\u001b[A\n",
      "\n",
      "Evaluating:  67%|██████▋   | 103/154 [00:21<00:10,  4.81it/s]\u001b[A\u001b[A\n",
      "\n",
      "Evaluating:  68%|██████▊   | 104/154 [00:21<00:10,  4.84it/s]\u001b[A\u001b[A\n",
      "\n",
      "Evaluating:  68%|██████▊   | 105/154 [00:21<00:10,  4.84it/s]\u001b[A\u001b[A\n",
      "\n",
      "Evaluating:  69%|██████▉   | 106/154 [00:21<00:09,  4.83it/s]\u001b[A\u001b[A\n",
      "\n",
      "Evaluating:  69%|██████▉   | 107/154 [00:22<00:09,  4.84it/s]\u001b[A\u001b[A\n",
      "\n",
      "Evaluating:  70%|███████   | 108/154 [00:22<00:09,  4.85it/s]\u001b[A\u001b[A\n",
      "\n",
      "Evaluating:  71%|███████   | 109/154 [00:22<00:09,  4.86it/s]\u001b[A\u001b[A\n",
      "\n",
      "Evaluating:  71%|███████▏  | 110/154 [00:22<00:09,  4.84it/s]\u001b[A\u001b[A\n",
      "\n",
      "Evaluating:  72%|███████▏  | 111/154 [00:22<00:08,  4.86it/s]\u001b[A\u001b[A\n",
      "\n",
      "Evaluating:  73%|███████▎  | 112/154 [00:23<00:08,  4.85it/s]\u001b[A\u001b[A\n",
      "\n",
      "Evaluating:  73%|███████▎  | 113/154 [00:23<00:08,  4.85it/s]\u001b[A\u001b[A\n",
      "\n",
      "Evaluating:  74%|███████▍  | 114/154 [00:23<00:08,  4.88it/s]\u001b[A\u001b[A\n",
      "\n",
      "Evaluating:  75%|███████▍  | 115/154 [00:23<00:08,  4.86it/s]\u001b[A\u001b[A\n",
      "\n",
      "Evaluating:  75%|███████▌  | 116/154 [00:23<00:07,  4.87it/s]\u001b[A\u001b[A\n",
      "\n",
      "Evaluating:  76%|███████▌  | 117/154 [00:24<00:07,  4.86it/s]\u001b[A\u001b[A\n",
      "\n",
      "Evaluating:  77%|███████▋  | 118/154 [00:24<00:07,  4.86it/s]\u001b[A\u001b[A\n",
      "\n",
      "Evaluating:  77%|███████▋  | 119/154 [00:24<00:07,  4.85it/s]\u001b[A\u001b[A\n",
      "\n"
     ]
    },
    {
     "name": "stderr",
     "output_type": "stream",
     "text": [
      "Evaluating:  78%|███████▊  | 120/154 [00:24<00:06,  4.86it/s]\u001b[A\u001b[A\n",
      "\n",
      "Evaluating:  79%|███████▊  | 121/154 [00:25<00:06,  4.84it/s]\u001b[A\u001b[A\n",
      "\n",
      "Evaluating:  79%|███████▉  | 122/154 [00:25<00:06,  4.83it/s]\u001b[A\u001b[A\n",
      "\n",
      "Evaluating:  80%|███████▉  | 123/154 [00:25<00:06,  4.83it/s]\u001b[A\u001b[A\n",
      "\n",
      "Evaluating:  81%|████████  | 124/154 [00:25<00:06,  4.84it/s]\u001b[A\u001b[A\n",
      "\n",
      "Evaluating:  81%|████████  | 125/154 [00:25<00:06,  4.82it/s]\u001b[A\u001b[A\n",
      "\n",
      "Evaluating:  82%|████████▏ | 126/154 [00:26<00:05,  4.81it/s]\u001b[A\u001b[A\n",
      "\n",
      "Evaluating:  82%|████████▏ | 127/154 [00:26<00:05,  4.81it/s]\u001b[A\u001b[A\n",
      "\n",
      "Evaluating:  83%|████████▎ | 128/154 [00:26<00:05,  4.82it/s]\u001b[A\u001b[A\n",
      "\n",
      "Evaluating:  84%|████████▍ | 129/154 [00:26<00:05,  4.84it/s]\u001b[A\u001b[A\n",
      "\n",
      "Evaluating:  84%|████████▍ | 130/154 [00:26<00:04,  4.83it/s]\u001b[A\u001b[A\n",
      "\n",
      "Evaluating:  85%|████████▌ | 131/154 [00:27<00:04,  4.84it/s]\u001b[A\u001b[A\n",
      "\n",
      "Evaluating:  86%|████████▌ | 132/154 [00:27<00:04,  4.84it/s]\u001b[A\u001b[A\n",
      "\n",
      "Evaluating:  86%|████████▋ | 133/154 [00:27<00:04,  4.84it/s]\u001b[A\u001b[A\n",
      "\n",
      "Evaluating:  87%|████████▋ | 134/154 [00:27<00:04,  4.84it/s]\u001b[A\u001b[A\n",
      "\n",
      "Evaluating:  88%|████████▊ | 135/154 [00:27<00:03,  4.84it/s]\u001b[A\u001b[A\n",
      "\n",
      "Evaluating:  88%|████████▊ | 136/154 [00:28<00:03,  4.84it/s]\u001b[A\u001b[A\n",
      "\n",
      "Evaluating:  89%|████████▉ | 137/154 [00:28<00:03,  4.86it/s]\u001b[A\u001b[A\n",
      "\n",
      "Evaluating:  90%|████████▉ | 138/154 [00:28<00:03,  4.85it/s]\u001b[A\u001b[A\n",
      "\n",
      "Evaluating:  90%|█████████ | 139/154 [00:28<00:03,  4.87it/s]\u001b[A\u001b[A\n",
      "\n",
      "Evaluating:  91%|█████████ | 140/154 [00:28<00:02,  4.87it/s]\u001b[A\u001b[A\n",
      "\n",
      "Evaluating:  92%|█████████▏| 141/154 [00:29<00:02,  4.86it/s]\u001b[A\u001b[A\n",
      "\n",
      "Evaluating:  92%|█████████▏| 142/154 [00:29<00:02,  4.85it/s]\u001b[A\u001b[A\n",
      "\n",
      "Evaluating:  93%|█████████▎| 143/154 [00:29<00:02,  4.83it/s]\u001b[A\u001b[A\n",
      "\n",
      "Evaluating:  94%|█████████▎| 144/154 [00:29<00:02,  4.82it/s]\u001b[A\u001b[A\n",
      "\n",
      "Evaluating:  94%|█████████▍| 145/154 [00:29<00:01,  4.81it/s]\u001b[A\u001b[A\n",
      "\n",
      "Evaluating:  95%|█████████▍| 146/154 [00:30<00:01,  4.82it/s]\u001b[A\u001b[A\n",
      "\n",
      "Evaluating:  95%|█████████▌| 147/154 [00:30<00:01,  4.84it/s]\u001b[A\u001b[A\n",
      "\n",
      "Evaluating:  96%|█████████▌| 148/154 [00:30<00:01,  4.85it/s]\u001b[A\u001b[A\n",
      "\n",
      "Evaluating:  97%|█████████▋| 149/154 [00:30<00:01,  4.85it/s]\u001b[A\u001b[A\n",
      "\n",
      "Evaluating:  97%|█████████▋| 150/154 [00:31<00:00,  4.85it/s]\u001b[A\u001b[A\n",
      "\n",
      "Evaluating:  98%|█████████▊| 151/154 [00:31<00:00,  4.85it/s]\u001b[A\u001b[A\n",
      "\n",
      "Evaluating:  99%|█████████▊| 152/154 [00:31<00:00,  4.85it/s]\u001b[A\u001b[A\n",
      "\n",
      "Evaluating:  99%|█████████▉| 153/154 [00:31<00:00,  4.85it/s]\u001b[A\u001b[A\n",
      "\n",
      "Evaluating: 100%|██████████| 154/154 [00:31<00:00,  4.85it/s]\u001b[A\u001b[A\n",
      "\n",
      " 33%|███▎      | 1/3 [07:25<14:50, 445.45s/it]\u001b[AI1002 17:26:32.851838 140305852307264 tokenization_utils.py:373] loading file https://s3.amazonaws.com/models.huggingface.co/bert/roberta-base-vocab.json from cache at ./temp/d0c5776499adc1ded22493fae699da0971c1ee4c2587111707a4d177d20257a2.ef00af9e673c7160b4d41cfda1f48c5f4cba57d5142754525572a846a1ab1b9b\n",
      "I1002 17:26:32.852628 140305852307264 tokenization_utils.py:373] loading file https://s3.amazonaws.com/models.huggingface.co/bert/roberta-base-merges.txt from cache at ./temp/b35e7cd126cd4229a746b5d5c29a749e8e84438b14bcdb575950584fe33207e8.70bec105b4158ed9a1747fea67a43f5dee97855c64d62b6ec3742f4cfdb5feda\n",
      "I1002 17:26:39.075830 140305852307264 configuration_utils.py:151] loading configuration file https://s3.amazonaws.com/models.huggingface.co/bert/roberta-base-config.json from cache at ./temp/e1a2a406b5a05063c31f4dfdee7608986ba7c6393f7f79db5e69dcd197208534.9dad9043216064080cf9dd3711c53c0f11fe2b09313eaa66931057b4bdcaf068\n",
      "I1002 17:26:39.077136 140305852307264 configuration_utils.py:168] Model config {\n",
      "  \"attention_probs_dropout_prob\": 0.1,\n",
      "  \"finetuning_task\": null,\n",
      "  \"hidden_act\": \"gelu\",\n",
      "  \"hidden_dropout_prob\": 0.1,\n",
      "  \"hidden_size\": 768,\n",
      "  \"initializer_range\": 0.02,\n",
      "  \"intermediate_size\": 3072,\n",
      "  \"layer_norm_eps\": 1e-05,\n",
      "  \"max_position_embeddings\": 514,\n",
      "  \"num_attention_heads\": 12,\n",
      "  \"num_hidden_layers\": 12,\n",
      "  \"num_labels\": 5,\n",
      "  \"output_attentions\": false,\n",
      "  \"output_hidden_states\": false,\n",
      "  \"pruned_heads\": {},\n",
      "  \"torchscript\": false,\n",
      "  \"type_vocab_size\": 1,\n",
      "  \"use_bfloat16\": false,\n",
      "  \"vocab_size\": 50265\n",
      "}\n",
      "\n",
      "I1002 17:26:39.110901 140305852307264 modeling_utils.py:337] loading weights file https://s3.amazonaws.com/models.huggingface.co/bert/roberta-base-pytorch_model.bin from cache at ./temp/228756ed15b6d200d7cb45aaef08c087e2706f54cb912863d2efe07c89584eb7.49b88ba7ec2c26a7558dda98ca3884c3b80fa31cf43a1b1f23aef3ff81ba344e\n",
      "I1002 17:26:43.032809 140305852307264 modeling_utils.py:405] Weights of RobertaForSequenceClassification not initialized from pretrained model: ['classifier.dense.weight', 'classifier.dense.bias', 'classifier.out_proj.weight', 'classifier.out_proj.bias']\n",
      "I1002 17:26:43.033986 140305852307264 modeling_utils.py:408] Weights from pretrained model not used in RobertaForSequenceClassification: ['lm_head.bias', 'lm_head.dense.weight', 'lm_head.dense.bias', 'lm_head.layer_norm.weight', 'lm_head.layer_norm.bias', 'lm_head.decoder.weight']\n",
      "                                     \n",
      "  0%|          | 0/3 [08:21<?, ?it/s]         \n",
      " 33%|███▎      | 1/3 [07:36<14:50, 445.45s/it]\u001b[A"
     ]
    },
    {
     "name": "stdout",
     "output_type": "stream",
     "text": [
      "Loss:1.559738\n"
     ]
    },
    {
     "name": "stderr",
     "output_type": "stream",
     "text": [
      "                                     \n",
      "  0%|          | 0/3 [08:29<?, ?it/s]         \n",
      " 33%|███▎      | 1/3 [07:43<14:50, 445.45s/it]\u001b[A"
     ]
    },
    {
     "name": "stdout",
     "output_type": "stream",
     "text": [
      "Loss:1.471496\n"
     ]
    },
    {
     "name": "stderr",
     "output_type": "stream",
     "text": [
      "                                     \n",
      "  0%|          | 0/3 [08:36<?, ?it/s]         \n",
      " 33%|███▎      | 1/3 [07:50<14:50, 445.45s/it]\u001b[A"
     ]
    },
    {
     "name": "stdout",
     "output_type": "stream",
     "text": [
      "Loss:1.184053\n"
     ]
    },
    {
     "name": "stderr",
     "output_type": "stream",
     "text": [
      "                                     \n",
      "  0%|          | 0/3 [08:43<?, ?it/s]         \n",
      " 33%|███▎      | 1/3 [07:58<14:50, 445.45s/it]\u001b[A"
     ]
    },
    {
     "name": "stdout",
     "output_type": "stream",
     "text": [
      "Loss:1.148488\n"
     ]
    },
    {
     "name": "stderr",
     "output_type": "stream",
     "text": [
      "                                     \n",
      "  0%|          | 0/3 [08:51<?, ?it/s]         \n",
      " 33%|███▎      | 1/3 [08:05<14:50, 445.45s/it]\u001b[A"
     ]
    },
    {
     "name": "stdout",
     "output_type": "stream",
     "text": [
      "Loss:0.857149\n"
     ]
    },
    {
     "name": "stderr",
     "output_type": "stream",
     "text": [
      "                                     \n",
      "  0%|          | 0/3 [08:58<?, ?it/s]         \n",
      " 33%|███▎      | 1/3 [08:12<14:50, 445.45s/it]\u001b[A"
     ]
    },
    {
     "name": "stdout",
     "output_type": "stream",
     "text": [
      "Loss:0.837435\n"
     ]
    },
    {
     "name": "stderr",
     "output_type": "stream",
     "text": [
      "                                     \n",
      "  0%|          | 0/3 [09:05<?, ?it/s]         \n",
      " 33%|███▎      | 1/3 [08:19<14:50, 445.45s/it]\u001b[A"
     ]
    },
    {
     "name": "stdout",
     "output_type": "stream",
     "text": [
      "Loss:0.819125\n"
     ]
    },
    {
     "name": "stderr",
     "output_type": "stream",
     "text": [
      "                                     \n",
      "  0%|          | 0/3 [09:12<?, ?it/s]         \n",
      " 33%|███▎      | 1/3 [08:27<14:50, 445.45s/it]\u001b[A"
     ]
    },
    {
     "name": "stdout",
     "output_type": "stream",
     "text": [
      "Loss:0.380328\n"
     ]
    },
    {
     "name": "stderr",
     "output_type": "stream",
     "text": [
      "                                     \n",
      "  0%|          | 0/3 [09:20<?, ?it/s]         \n",
      " 33%|███▎      | 1/3 [08:34<14:50, 445.45s/it]\u001b[A"
     ]
    },
    {
     "name": "stdout",
     "output_type": "stream",
     "text": [
      "Loss:0.433528\n"
     ]
    },
    {
     "name": "stderr",
     "output_type": "stream",
     "text": [
      "                                     \n",
      "  0%|          | 0/3 [09:27<?, ?it/s]         \n",
      " 33%|███▎      | 1/3 [08:41<14:50, 445.45s/it]\u001b[A"
     ]
    },
    {
     "name": "stdout",
     "output_type": "stream",
     "text": [
      "Loss:0.638522\n"
     ]
    },
    {
     "name": "stderr",
     "output_type": "stream",
     "text": [
      "                                     \n",
      "  0%|          | 0/3 [09:34<?, ?it/s]         \n",
      " 33%|███▎      | 1/3 [08:49<14:50, 445.45s/it]\u001b[A"
     ]
    },
    {
     "name": "stdout",
     "output_type": "stream",
     "text": [
      "Loss:0.553224\n"
     ]
    },
    {
     "name": "stderr",
     "output_type": "stream",
     "text": [
      "                                     \n",
      "  0%|          | 0/3 [09:42<?, ?it/s]         \n",
      " 33%|███▎      | 1/3 [08:56<14:50, 445.45s/it]\u001b[A"
     ]
    },
    {
     "name": "stdout",
     "output_type": "stream",
     "text": [
      "Loss:0.496607\n"
     ]
    },
    {
     "name": "stderr",
     "output_type": "stream",
     "text": [
      "                                     \n",
      "  0%|          | 0/3 [09:49<?, ?it/s]         \n",
      " 33%|███▎      | 1/3 [09:03<14:50, 445.45s/it]\u001b[A"
     ]
    },
    {
     "name": "stdout",
     "output_type": "stream",
     "text": [
      "Loss:0.599746\n"
     ]
    },
    {
     "name": "stderr",
     "output_type": "stream",
     "text": [
      "                                     \n",
      "  0%|          | 0/3 [09:56<?, ?it/s]         \n",
      " 33%|███▎      | 1/3 [09:10<14:50, 445.45s/it]\u001b[A"
     ]
    },
    {
     "name": "stdout",
     "output_type": "stream",
     "text": [
      "Loss:1.237169\n"
     ]
    },
    {
     "name": "stderr",
     "output_type": "stream",
     "text": [
      "                                     \n",
      "  0%|          | 0/3 [10:04<?, ?it/s]         \n",
      " 33%|███▎      | 1/3 [09:18<14:50, 445.45s/it]\u001b[A"
     ]
    },
    {
     "name": "stdout",
     "output_type": "stream",
     "text": [
      "Loss:0.637425\n"
     ]
    },
    {
     "name": "stderr",
     "output_type": "stream",
     "text": [
      "                                     \n",
      "  0%|          | 0/3 [10:11<?, ?it/s]         \n",
      " 33%|███▎      | 1/3 [09:25<14:50, 445.45s/it]\u001b[A"
     ]
    },
    {
     "name": "stdout",
     "output_type": "stream",
     "text": [
      "Loss:0.194495\n"
     ]
    },
    {
     "name": "stderr",
     "output_type": "stream",
     "text": [
      "                                     \n",
      "  0%|          | 0/3 [10:18<?, ?it/s]         \n",
      " 33%|███▎      | 1/3 [09:32<14:50, 445.45s/it]\u001b[A"
     ]
    },
    {
     "name": "stdout",
     "output_type": "stream",
     "text": [
      "Loss:0.805220\n"
     ]
    },
    {
     "name": "stderr",
     "output_type": "stream",
     "text": [
      "                                     \n",
      "  0%|          | 0/3 [10:25<?, ?it/s]         \n",
      " 33%|███▎      | 1/3 [09:40<14:50, 445.45s/it]\u001b[A"
     ]
    },
    {
     "name": "stdout",
     "output_type": "stream",
     "text": [
      "Loss:0.253925\n"
     ]
    },
    {
     "name": "stderr",
     "output_type": "stream",
     "text": [
      "                                     \n",
      "  0%|          | 0/3 [10:33<?, ?it/s]         \n",
      " 33%|███▎      | 1/3 [09:47<14:50, 445.45s/it]\u001b[A"
     ]
    },
    {
     "name": "stdout",
     "output_type": "stream",
     "text": [
      "Loss:0.689832\n"
     ]
    },
    {
     "name": "stderr",
     "output_type": "stream",
     "text": [
      "                                     \n",
      "  0%|          | 0/3 [10:40<?, ?it/s]         \n",
      " 33%|███▎      | 1/3 [09:54<14:50, 445.45s/it]\u001b[A"
     ]
    },
    {
     "name": "stdout",
     "output_type": "stream",
     "text": [
      "Loss:0.641453\n"
     ]
    },
    {
     "name": "stderr",
     "output_type": "stream",
     "text": [
      "                                     \n",
      "  0%|          | 0/3 [10:47<?, ?it/s]         \n",
      " 33%|███▎      | 1/3 [10:02<14:50, 445.45s/it]\u001b[A"
     ]
    },
    {
     "name": "stdout",
     "output_type": "stream",
     "text": [
      "Loss:0.147626\n"
     ]
    },
    {
     "name": "stderr",
     "output_type": "stream",
     "text": [
      "                                     \n",
      "  0%|          | 0/3 [10:55<?, ?it/s]         \n",
      " 33%|███▎      | 1/3 [10:09<14:50, 445.45s/it]\u001b[A"
     ]
    },
    {
     "name": "stdout",
     "output_type": "stream",
     "text": [
      "Loss:0.484902\n"
     ]
    },
    {
     "name": "stderr",
     "output_type": "stream",
     "text": [
      "                                     \n",
      "  0%|          | 0/3 [11:02<?, ?it/s]         \n",
      " 33%|███▎      | 1/3 [10:16<14:50, 445.45s/it]\u001b[A"
     ]
    },
    {
     "name": "stdout",
     "output_type": "stream",
     "text": [
      "Loss:0.276827\n"
     ]
    },
    {
     "name": "stderr",
     "output_type": "stream",
     "text": [
      "                                     \n",
      "  0%|          | 0/3 [11:09<?, ?it/s]         \n",
      " 33%|███▎      | 1/3 [10:24<14:50, 445.45s/it]\u001b[A"
     ]
    },
    {
     "name": "stdout",
     "output_type": "stream",
     "text": [
      "Loss:0.534456\n"
     ]
    },
    {
     "name": "stderr",
     "output_type": "stream",
     "text": [
      "                                     \n",
      "  0%|          | 0/3 [11:17<?, ?it/s]         \n",
      " 33%|███▎      | 1/3 [10:31<14:50, 445.45s/it]\u001b[A"
     ]
    },
    {
     "name": "stdout",
     "output_type": "stream",
     "text": [
      "Loss:0.223130\n"
     ]
    },
    {
     "name": "stderr",
     "output_type": "stream",
     "text": [
      "                                     \n",
      "  0%|          | 0/3 [11:24<?, ?it/s]         \n",
      " 33%|███▎      | 1/3 [10:38<14:50, 445.45s/it]\u001b[A"
     ]
    },
    {
     "name": "stdout",
     "output_type": "stream",
     "text": [
      "Loss:0.450985\n"
     ]
    },
    {
     "name": "stderr",
     "output_type": "stream",
     "text": [
      "                                     \n",
      "  0%|          | 0/3 [11:31<?, ?it/s]         \n",
      " 33%|███▎      | 1/3 [10:45<14:50, 445.45s/it]\u001b[A"
     ]
    },
    {
     "name": "stdout",
     "output_type": "stream",
     "text": [
      "Loss:0.533025\n"
     ]
    },
    {
     "name": "stderr",
     "output_type": "stream",
     "text": [
      "                                     \n",
      "  0%|          | 0/3 [11:39<?, ?it/s]         \n",
      " 33%|███▎      | 1/3 [10:53<14:50, 445.45s/it]\u001b[A"
     ]
    },
    {
     "name": "stdout",
     "output_type": "stream",
     "text": [
      "Loss:0.724428\n"
     ]
    },
    {
     "name": "stderr",
     "output_type": "stream",
     "text": [
      "                                     \n",
      "  0%|          | 0/3 [11:46<?, ?it/s]         \n",
      " 33%|███▎      | 1/3 [11:00<14:50, 445.45s/it]\u001b[A"
     ]
    },
    {
     "name": "stdout",
     "output_type": "stream",
     "text": [
      "Loss:0.477905\n"
     ]
    },
    {
     "name": "stderr",
     "output_type": "stream",
     "text": [
      "                                     \n",
      "  0%|          | 0/3 [11:53<?, ?it/s]         \n",
      " 33%|███▎      | 1/3 [11:07<14:50, 445.45s/it]\u001b[A"
     ]
    },
    {
     "name": "stdout",
     "output_type": "stream",
     "text": [
      "Loss:0.363852\n"
     ]
    },
    {
     "name": "stderr",
     "output_type": "stream",
     "text": [
      "                                     \n",
      "  0%|          | 0/3 [12:01<?, ?it/s]         \n",
      " 33%|███▎      | 1/3 [11:15<14:50, 445.45s/it]\u001b[A"
     ]
    },
    {
     "name": "stdout",
     "output_type": "stream",
     "text": [
      "Loss:1.228255\n"
     ]
    },
    {
     "name": "stderr",
     "output_type": "stream",
     "text": [
      "                                     \n",
      "  0%|          | 0/3 [12:08<?, ?it/s]         \n",
      " 33%|███▎      | 1/3 [11:22<14:50, 445.45s/it]\u001b[A"
     ]
    },
    {
     "name": "stdout",
     "output_type": "stream",
     "text": [
      "Loss:0.269107\n"
     ]
    },
    {
     "name": "stderr",
     "output_type": "stream",
     "text": [
      "                                     \n",
      "  0%|          | 0/3 [12:15<?, ?it/s]         \n",
      " 33%|███▎      | 1/3 [11:30<14:50, 445.45s/it]\u001b[A"
     ]
    },
    {
     "name": "stdout",
     "output_type": "stream",
     "text": [
      "Loss:0.163860\n"
     ]
    },
    {
     "name": "stderr",
     "output_type": "stream",
     "text": [
      "                                     \n",
      "  0%|          | 0/3 [12:23<?, ?it/s]         \n",
      " 33%|███▎      | 1/3 [11:37<14:50, 445.45s/it]\u001b[A"
     ]
    },
    {
     "name": "stdout",
     "output_type": "stream",
     "text": [
      "Loss:0.105093\n"
     ]
    },
    {
     "name": "stderr",
     "output_type": "stream",
     "text": [
      "                                     \n",
      "  0%|          | 0/3 [12:30<?, ?it/s]         \n",
      " 33%|███▎      | 1/3 [11:44<14:50, 445.45s/it]\u001b[A"
     ]
    },
    {
     "name": "stdout",
     "output_type": "stream",
     "text": [
      "Loss:0.288066\n"
     ]
    },
    {
     "name": "stderr",
     "output_type": "stream",
     "text": [
      "                                     \n",
      "  0%|          | 0/3 [12:37<?, ?it/s]         \n",
      " 33%|███▎      | 1/3 [11:52<14:50, 445.45s/it]\u001b[A"
     ]
    },
    {
     "name": "stdout",
     "output_type": "stream",
     "text": [
      "Loss:0.157583\n"
     ]
    },
    {
     "name": "stderr",
     "output_type": "stream",
     "text": [
      "                                     \n",
      "  0%|          | 0/3 [12:45<?, ?it/s]         \n",
      " 33%|███▎      | 1/3 [11:59<14:50, 445.45s/it]\u001b[A"
     ]
    },
    {
     "name": "stdout",
     "output_type": "stream",
     "text": [
      "Loss:0.537946\n"
     ]
    },
    {
     "name": "stderr",
     "output_type": "stream",
     "text": [
      "                                     \n",
      "  0%|          | 0/3 [12:52<?, ?it/s]         \n",
      " 33%|███▎      | 1/3 [12:06<14:50, 445.45s/it]\u001b[A"
     ]
    },
    {
     "name": "stdout",
     "output_type": "stream",
     "text": [
      "Loss:0.677483\n"
     ]
    },
    {
     "name": "stderr",
     "output_type": "stream",
     "text": [
      "                                     \n",
      "  0%|          | 0/3 [12:59<?, ?it/s]         \n",
      " 33%|███▎      | 1/3 [12:14<14:50, 445.45s/it]\u001b[A"
     ]
    },
    {
     "name": "stdout",
     "output_type": "stream",
     "text": [
      "Loss:1.022764\n"
     ]
    },
    {
     "name": "stderr",
     "output_type": "stream",
     "text": [
      "                                     \n",
      "  0%|          | 0/3 [13:07<?, ?it/s]         \n",
      " 33%|███▎      | 1/3 [12:21<14:50, 445.45s/it]\u001b[A"
     ]
    },
    {
     "name": "stdout",
     "output_type": "stream",
     "text": [
      "Loss:0.311463\n"
     ]
    },
    {
     "name": "stderr",
     "output_type": "stream",
     "text": [
      "                                     \n",
      "  0%|          | 0/3 [13:14<?, ?it/s]         \n",
      " 33%|███▎      | 1/3 [12:28<14:50, 445.45s/it]\u001b[A"
     ]
    },
    {
     "name": "stdout",
     "output_type": "stream",
     "text": [
      "Loss:0.695526\n"
     ]
    },
    {
     "name": "stderr",
     "output_type": "stream",
     "text": [
      "                                     \n",
      "  0%|          | 0/3 [13:21<?, ?it/s]         \n",
      " 33%|███▎      | 1/3 [12:36<14:50, 445.45s/it]\u001b[A"
     ]
    },
    {
     "name": "stdout",
     "output_type": "stream",
     "text": [
      "Loss:0.289729\n"
     ]
    },
    {
     "name": "stderr",
     "output_type": "stream",
     "text": [
      "                                     \n",
      "  0%|          | 0/3 [13:29<?, ?it/s]         \n",
      " 33%|███▎      | 1/3 [12:43<14:50, 445.45s/it]\u001b[A"
     ]
    },
    {
     "name": "stdout",
     "output_type": "stream",
     "text": [
      "Loss:0.240375\n"
     ]
    },
    {
     "name": "stderr",
     "output_type": "stream",
     "text": [
      "                                     \n",
      "  0%|          | 0/3 [13:36<?, ?it/s]         \n",
      " 33%|███▎      | 1/3 [12:50<14:50, 445.45s/it]\u001b[A"
     ]
    },
    {
     "name": "stdout",
     "output_type": "stream",
     "text": [
      "Loss:0.375174\n"
     ]
    },
    {
     "name": "stderr",
     "output_type": "stream",
     "text": [
      "                                     \n",
      "  0%|          | 0/3 [13:44<?, ?it/s]         \n",
      " 33%|███▎      | 1/3 [12:58<14:50, 445.45s/it]\u001b[A"
     ]
    },
    {
     "name": "stdout",
     "output_type": "stream",
     "text": [
      "Loss:0.186912\n"
     ]
    },
    {
     "name": "stderr",
     "output_type": "stream",
     "text": [
      "                                     \n",
      "  0%|          | 0/3 [13:51<?, ?it/s]         \n",
      " 33%|███▎      | 1/3 [13:05<14:50, 445.45s/it]\u001b[A"
     ]
    },
    {
     "name": "stdout",
     "output_type": "stream",
     "text": [
      "Loss:0.096166\n"
     ]
    },
    {
     "name": "stderr",
     "output_type": "stream",
     "text": [
      "                                     \n",
      "  0%|          | 0/3 [13:58<?, ?it/s]         \n",
      " 33%|███▎      | 1/3 [13:12<14:50, 445.45s/it]\u001b[A"
     ]
    },
    {
     "name": "stdout",
     "output_type": "stream",
     "text": [
      "Loss:0.535375\n"
     ]
    },
    {
     "name": "stderr",
     "output_type": "stream",
     "text": [
      "                                     \n",
      "  0%|          | 0/3 [14:05<?, ?it/s]         \n",
      " 33%|███▎      | 1/3 [13:20<14:50, 445.45s/it]\u001b[A"
     ]
    },
    {
     "name": "stdout",
     "output_type": "stream",
     "text": [
      "Loss:0.372227\n"
     ]
    },
    {
     "name": "stderr",
     "output_type": "stream",
     "text": [
      "                                     \n",
      "  0%|          | 0/3 [14:13<?, ?it/s]         \n",
      " 33%|███▎      | 1/3 [13:27<14:50, 445.45s/it]\u001b[A"
     ]
    },
    {
     "name": "stdout",
     "output_type": "stream",
     "text": [
      "Loss:0.930988\n"
     ]
    },
    {
     "name": "stderr",
     "output_type": "stream",
     "text": [
      "                                     \n",
      "  0%|          | 0/3 [14:20<?, ?it/s]         \n",
      " 33%|███▎      | 1/3 [13:34<14:50, 445.45s/it]\u001b[A"
     ]
    },
    {
     "name": "stdout",
     "output_type": "stream",
     "text": [
      "Loss:0.142896\n"
     ]
    },
    {
     "name": "stderr",
     "output_type": "stream",
     "text": [
      "                                     \n",
      "  0%|          | 0/3 [14:27<?, ?it/s]         \n",
      " 33%|███▎      | 1/3 [13:42<14:50, 445.45s/it]\u001b[A"
     ]
    },
    {
     "name": "stdout",
     "output_type": "stream",
     "text": [
      "Loss:0.651106\n"
     ]
    },
    {
     "name": "stderr",
     "output_type": "stream",
     "text": [
      "                                     \n",
      "  0%|          | 0/3 [14:35<?, ?it/s]         \n",
      " 33%|███▎      | 1/3 [13:49<14:50, 445.45s/it]\u001b[A"
     ]
    },
    {
     "name": "stdout",
     "output_type": "stream",
     "text": [
      "Loss:0.048819\n"
     ]
    },
    {
     "name": "stderr",
     "output_type": "stream",
     "text": [
      "                                     \n",
      "  0%|          | 0/3 [14:42<?, ?it/s]         \n",
      " 33%|███▎      | 1/3 [13:56<14:50, 445.45s/it]\u001b[A"
     ]
    },
    {
     "name": "stdout",
     "output_type": "stream",
     "text": [
      "Loss:0.576708\n"
     ]
    },
    {
     "name": "stderr",
     "output_type": "stream",
     "text": [
      "                                     \n",
      "  0%|          | 0/3 [14:50<?, ?it/s]         \n",
      " 33%|███▎      | 1/3 [14:04<14:50, 445.45s/it]\u001b[A"
     ]
    },
    {
     "name": "stdout",
     "output_type": "stream",
     "text": [
      "Loss:0.265014\n"
     ]
    },
    {
     "name": "stderr",
     "output_type": "stream",
     "text": [
      "                                     \n",
      "  0%|          | 0/3 [14:57<?, ?it/s]         \n",
      " 33%|███▎      | 1/3 [14:11<14:50, 445.45s/it]\u001b[A"
     ]
    },
    {
     "name": "stdout",
     "output_type": "stream",
     "text": [
      "Loss:0.765183\n"
     ]
    },
    {
     "name": "stderr",
     "output_type": "stream",
     "text": [
      "                                     \n",
      "  0%|          | 0/3 [15:04<?, ?it/s]         \n",
      " 33%|███▎      | 1/3 [14:19<14:50, 445.45s/it]\u001b[A"
     ]
    },
    {
     "name": "stdout",
     "output_type": "stream",
     "text": [
      "Loss:0.264336\n"
     ]
    },
    {
     "name": "stderr",
     "output_type": "stream",
     "text": [
      "                                     \n",
      "  0%|          | 0/3 [15:12<?, ?it/s]         \n",
      " 33%|███▎      | 1/3 [14:26<14:50, 445.45s/it]\u001b[A"
     ]
    },
    {
     "name": "stdout",
     "output_type": "stream",
     "text": [
      "Loss:0.360902\n"
     ]
    },
    {
     "name": "stderr",
     "output_type": "stream",
     "text": [
      "                                     \n",
      "  0%|          | 0/3 [15:19<?, ?it/s]         \n",
      " 33%|███▎      | 1/3 [14:34<14:50, 445.45s/it]\u001b[A"
     ]
    },
    {
     "name": "stdout",
     "output_type": "stream",
     "text": [
      "Loss:0.332452\n"
     ]
    },
    {
     "name": "stderr",
     "output_type": "stream",
     "text": [
      "                                     \n",
      "  0%|          | 0/3 [15:27<?, ?it/s]         \n",
      " 33%|███▎      | 1/3 [14:41<14:50, 445.45s/it]\u001b[A"
     ]
    },
    {
     "name": "stdout",
     "output_type": "stream",
     "text": [
      "Loss:0.356505\n"
     ]
    },
    {
     "name": "stderr",
     "output_type": "stream",
     "text": [
      "                                     \n",
      "  0%|          | 0/3 [15:34<?, ?it/s]         \n",
      " 33%|███▎      | 1/3 [14:48<14:50, 445.45s/it]\u001b[A"
     ]
    },
    {
     "name": "stdout",
     "output_type": "stream",
     "text": [
      "Loss:0.498224\n"
     ]
    },
    {
     "name": "stderr",
     "output_type": "stream",
     "text": [
      "                                     \n",
      "  0%|          | 0/3 [15:42<?, ?it/s]         \n",
      " 33%|███▎      | 1/3 [14:56<14:50, 445.45s/it]\u001b[A"
     ]
    },
    {
     "name": "stdout",
     "output_type": "stream",
     "text": [
      "Loss:0.320431\n"
     ]
    },
    {
     "name": "stderr",
     "output_type": "stream",
     "text": [
      "                                     \n",
      "  0%|          | 0/3 [15:50<?, ?it/s]         \n",
      " 33%|███▎      | 1/3 [15:04<14:50, 445.45s/it]\u001b[A"
     ]
    },
    {
     "name": "stdout",
     "output_type": "stream",
     "text": [
      "Loss:0.077777\n"
     ]
    },
    {
     "name": "stderr",
     "output_type": "stream",
     "text": [
      "                                     \n",
      "  0%|          | 0/3 [15:57<?, ?it/s]         \n",
      " 33%|███▎      | 1/3 [15:11<14:50, 445.45s/it]\u001b[A"
     ]
    },
    {
     "name": "stdout",
     "output_type": "stream",
     "text": [
      "Loss:0.281813\n"
     ]
    },
    {
     "name": "stderr",
     "output_type": "stream",
     "text": [
      "                                     \n",
      "  0%|          | 0/3 [16:04<?, ?it/s]         \n",
      " 33%|███▎      | 1/3 [15:19<14:50, 445.45s/it]\u001b[A"
     ]
    },
    {
     "name": "stdout",
     "output_type": "stream",
     "text": [
      "Loss:0.240123\n"
     ]
    },
    {
     "name": "stderr",
     "output_type": "stream",
     "text": [
      "                                     \n",
      "  0%|          | 0/3 [16:12<?, ?it/s]         \n",
      " 33%|███▎      | 1/3 [15:26<14:50, 445.45s/it]\u001b[A"
     ]
    },
    {
     "name": "stdout",
     "output_type": "stream",
     "text": [
      "Loss:0.078818\n"
     ]
    },
    {
     "name": "stderr",
     "output_type": "stream",
     "text": [
      "                                     \n",
      "  0%|          | 0/3 [16:19<?, ?it/s]         \n",
      " 33%|███▎      | 1/3 [15:34<14:50, 445.45s/it]\u001b[A"
     ]
    },
    {
     "name": "stdout",
     "output_type": "stream",
     "text": [
      "Loss:0.386153\n"
     ]
    },
    {
     "name": "stderr",
     "output_type": "stream",
     "text": [
      "                                     \n",
      "  0%|          | 0/3 [16:27<?, ?it/s]         \n",
      " 33%|███▎      | 1/3 [15:41<14:50, 445.45s/it]\u001b[A"
     ]
    },
    {
     "name": "stdout",
     "output_type": "stream",
     "text": [
      "Loss:0.044126\n"
     ]
    },
    {
     "name": "stderr",
     "output_type": "stream",
     "text": [
      "                                     \n",
      "  0%|          | 0/3 [16:35<?, ?it/s]         \n",
      " 33%|███▎      | 1/3 [15:49<14:50, 445.45s/it]\u001b[A"
     ]
    },
    {
     "name": "stdout",
     "output_type": "stream",
     "text": [
      "Loss:0.070761\n"
     ]
    },
    {
     "name": "stderr",
     "output_type": "stream",
     "text": [
      "                                     \n",
      "  0%|          | 0/3 [16:42<?, ?it/s]         \n",
      " 33%|███▎      | 1/3 [15:56<14:50, 445.45s/it]\u001b[A"
     ]
    },
    {
     "name": "stdout",
     "output_type": "stream",
     "text": [
      "Loss:0.445788\n"
     ]
    },
    {
     "name": "stderr",
     "output_type": "stream",
     "text": [
      "                                     \n",
      "  0%|          | 0/3 [16:50<?, ?it/s]         \n",
      " 33%|███▎      | 1/3 [16:04<14:50, 445.45s/it]\u001b[A"
     ]
    },
    {
     "name": "stdout",
     "output_type": "stream",
     "text": [
      "Loss:0.318622\n"
     ]
    },
    {
     "name": "stderr",
     "output_type": "stream",
     "text": [
      "                                     \n",
      "  0%|          | 0/3 [16:57<?, ?it/s]         \n",
      " 33%|███▎      | 1/3 [16:12<14:50, 445.45s/it]\u001b[A"
     ]
    },
    {
     "name": "stdout",
     "output_type": "stream",
     "text": [
      "Loss:0.582086\n"
     ]
    },
    {
     "name": "stderr",
     "output_type": "stream",
     "text": [
      "                                     \n",
      "  0%|          | 0/3 [17:05<?, ?it/s]         \n",
      " 33%|███▎      | 1/3 [16:19<14:50, 445.45s/it]\u001b[A"
     ]
    },
    {
     "name": "stdout",
     "output_type": "stream",
     "text": [
      "Loss:0.263850\n"
     ]
    },
    {
     "name": "stderr",
     "output_type": "stream",
     "text": [
      "                                     \n",
      "  0%|          | 0/3 [17:12<?, ?it/s]         \n",
      " 33%|███▎      | 1/3 [16:27<14:50, 445.45s/it]\u001b[A"
     ]
    },
    {
     "name": "stdout",
     "output_type": "stream",
     "text": [
      "Loss:0.122566\n"
     ]
    },
    {
     "name": "stderr",
     "output_type": "stream",
     "text": [
      "                                     \n",
      "  0%|          | 0/3 [17:20<?, ?it/s]         \n",
      " 33%|███▎      | 1/3 [16:34<14:50, 445.45s/it]\u001b[A"
     ]
    },
    {
     "name": "stdout",
     "output_type": "stream",
     "text": [
      "Loss:0.594169\n"
     ]
    },
    {
     "name": "stderr",
     "output_type": "stream",
     "text": [
      "                                     \n",
      "  0%|          | 0/3 [17:27<?, ?it/s]         \n",
      " 33%|███▎      | 1/3 [16:41<14:50, 445.45s/it]\u001b[A"
     ]
    },
    {
     "name": "stdout",
     "output_type": "stream",
     "text": [
      "Loss:0.586406\n"
     ]
    },
    {
     "name": "stderr",
     "output_type": "stream",
     "text": [
      "                                     \n",
      "  0%|          | 0/3 [17:35<?, ?it/s]         \n",
      " 33%|███▎      | 1/3 [16:49<14:50, 445.45s/it]\u001b[A"
     ]
    },
    {
     "name": "stdout",
     "output_type": "stream",
     "text": [
      "Loss:0.270444\n"
     ]
    },
    {
     "name": "stderr",
     "output_type": "stream",
     "text": [
      "                                     \n",
      "  0%|          | 0/3 [17:42<?, ?it/s]         \n",
      " 33%|███▎      | 1/3 [16:57<14:50, 445.45s/it]\u001b[A"
     ]
    },
    {
     "name": "stdout",
     "output_type": "stream",
     "text": [
      "Loss:0.403090\n"
     ]
    },
    {
     "name": "stderr",
     "output_type": "stream",
     "text": [
      "                                     \n",
      "  0%|          | 0/3 [17:50<?, ?it/s]         \n",
      " 33%|███▎      | 1/3 [17:04<14:50, 445.45s/it]\u001b[A"
     ]
    },
    {
     "name": "stdout",
     "output_type": "stream",
     "text": [
      "Loss:0.080049\n"
     ]
    },
    {
     "name": "stderr",
     "output_type": "stream",
     "text": [
      "                                     \n",
      "  0%|          | 0/3 [17:57<?, ?it/s]         \n",
      " 33%|███▎      | 1/3 [17:12<14:50, 445.45s/it]\u001b[A"
     ]
    },
    {
     "name": "stdout",
     "output_type": "stream",
     "text": [
      "Loss:0.108087\n"
     ]
    },
    {
     "name": "stderr",
     "output_type": "stream",
     "text": [
      "                                     \n",
      "  0%|          | 0/3 [18:05<?, ?it/s]         \n",
      " 33%|███▎      | 1/3 [17:19<14:50, 445.45s/it]\u001b[A"
     ]
    },
    {
     "name": "stdout",
     "output_type": "stream",
     "text": [
      "Loss:0.437748\n"
     ]
    },
    {
     "name": "stderr",
     "output_type": "stream",
     "text": [
      "                                     \n",
      "  0%|          | 0/3 [18:12<?, ?it/s]         \n",
      " 33%|███▎      | 1/3 [17:27<14:50, 445.45s/it]\u001b[A"
     ]
    },
    {
     "name": "stdout",
     "output_type": "stream",
     "text": [
      "Loss:0.036126\n"
     ]
    },
    {
     "name": "stderr",
     "output_type": "stream",
     "text": [
      "                                     \n",
      "  0%|          | 0/3 [18:20<?, ?it/s]         \n",
      " 33%|███▎      | 1/3 [17:34<14:50, 445.45s/it]\u001b[A"
     ]
    },
    {
     "name": "stdout",
     "output_type": "stream",
     "text": [
      "Loss:0.066607\n"
     ]
    },
    {
     "name": "stderr",
     "output_type": "stream",
     "text": [
      "                                     \n",
      "  0%|          | 0/3 [18:27<?, ?it/s]         \n",
      " 33%|███▎      | 1/3 [17:41<14:50, 445.45s/it]\u001b[A"
     ]
    },
    {
     "name": "stdout",
     "output_type": "stream",
     "text": [
      "Loss:0.705766\n"
     ]
    },
    {
     "name": "stderr",
     "output_type": "stream",
     "text": [
      "                                     \n",
      "  0%|          | 0/3 [18:35<?, ?it/s]         \n",
      " 33%|███▎      | 1/3 [17:49<14:50, 445.45s/it]\u001b[A"
     ]
    },
    {
     "name": "stdout",
     "output_type": "stream",
     "text": [
      "Loss:0.025862\n"
     ]
    },
    {
     "name": "stderr",
     "output_type": "stream",
     "text": [
      "                                     \n",
      "  0%|          | 0/3 [18:42<?, ?it/s]         \n",
      " 33%|███▎      | 1/3 [17:57<14:50, 445.45s/it]\u001b[A"
     ]
    },
    {
     "name": "stdout",
     "output_type": "stream",
     "text": [
      "Loss:0.535521\n"
     ]
    },
    {
     "name": "stderr",
     "output_type": "stream",
     "text": [
      "                                     \n",
      "  0%|          | 0/3 [18:50<?, ?it/s]         \n",
      " 33%|███▎      | 1/3 [18:04<14:50, 445.45s/it]\u001b[A"
     ]
    },
    {
     "name": "stdout",
     "output_type": "stream",
     "text": [
      "Loss:0.281819\n"
     ]
    },
    {
     "name": "stderr",
     "output_type": "stream",
     "text": [
      "                                     \n",
      "  0%|          | 0/3 [18:57<?, ?it/s]         \n",
      " 33%|███▎      | 1/3 [18:12<14:50, 445.45s/it]\u001b[A"
     ]
    },
    {
     "name": "stdout",
     "output_type": "stream",
     "text": [
      "Loss:0.186776\n"
     ]
    },
    {
     "name": "stderr",
     "output_type": "stream",
     "text": [
      "                                     \n",
      "  0%|          | 0/3 [19:05<?, ?it/s]         \n",
      " 33%|███▎      | 1/3 [18:19<14:50, 445.45s/it]\u001b[A"
     ]
    },
    {
     "name": "stdout",
     "output_type": "stream",
     "text": [
      "Loss:0.256166\n"
     ]
    },
    {
     "name": "stderr",
     "output_type": "stream",
     "text": [
      "                                     \n",
      "  0%|          | 0/3 [19:13<?, ?it/s]         \n",
      " 33%|███▎      | 1/3 [18:27<14:50, 445.45s/it]\u001b[A"
     ]
    },
    {
     "name": "stdout",
     "output_type": "stream",
     "text": [
      "Loss:0.078913\n"
     ]
    },
    {
     "name": "stderr",
     "output_type": "stream",
     "text": [
      "                                     \n",
      "  0%|          | 0/3 [19:20<?, ?it/s]         \n",
      " 33%|███▎      | 1/3 [18:34<14:50, 445.45s/it]\u001b[A"
     ]
    },
    {
     "name": "stdout",
     "output_type": "stream",
     "text": [
      "Loss:0.206851\n"
     ]
    },
    {
     "name": "stderr",
     "output_type": "stream",
     "text": [
      "                                     \n",
      "  0%|          | 0/3 [19:27<?, ?it/s]         \n",
      " 33%|███▎      | 1/3 [18:42<14:50, 445.45s/it]\u001b[A"
     ]
    },
    {
     "name": "stdout",
     "output_type": "stream",
     "text": [
      "Loss:0.165107\n"
     ]
    },
    {
     "name": "stderr",
     "output_type": "stream",
     "text": [
      "                                     \n",
      "  0%|          | 0/3 [19:35<?, ?it/s]         \n",
      " 33%|███▎      | 1/3 [18:50<14:50, 445.45s/it]\u001b[A"
     ]
    },
    {
     "name": "stdout",
     "output_type": "stream",
     "text": [
      "Loss:0.362343\n"
     ]
    },
    {
     "name": "stderr",
     "output_type": "stream",
     "text": [
      "                                     \n",
      "  0%|          | 0/3 [19:43<?, ?it/s]         \n",
      " 33%|███▎      | 1/3 [18:57<14:50, 445.45s/it]\u001b[A"
     ]
    },
    {
     "name": "stdout",
     "output_type": "stream",
     "text": [
      "Loss:0.030030\n"
     ]
    },
    {
     "name": "stderr",
     "output_type": "stream",
     "text": [
      "\n",
      "\n",
      "Evaluating:   0%|          | 0/154 [00:00<?, ?it/s]\u001b[A\u001b[A\n",
      "\n",
      "Evaluating:   1%|          | 1/154 [00:00<01:00,  2.51it/s]\u001b[A\u001b[A\n",
      "\n",
      "Evaluating:   1%|▏         | 2/154 [00:00<01:00,  2.49it/s]\u001b[A\u001b[A\n",
      "\n",
      "Evaluating:   2%|▏         | 3/154 [00:01<01:00,  2.49it/s]\u001b[A\u001b[A\n",
      "\n",
      "Evaluating:   3%|▎         | 4/154 [00:01<01:00,  2.48it/s]\u001b[A\u001b[A\n",
      "\n",
      "Evaluating:   3%|▎         | 5/154 [00:02<01:00,  2.48it/s]\u001b[A\u001b[A\n",
      "\n",
      "Evaluating:   4%|▍         | 6/154 [00:02<00:59,  2.48it/s]\u001b[A\u001b[A\n",
      "\n",
      "Evaluating:   5%|▍         | 7/154 [00:02<00:59,  2.48it/s]\u001b[A\u001b[A\n",
      "\n",
      "Evaluating:   5%|▌         | 8/154 [00:03<00:58,  2.48it/s]\u001b[A\u001b[A\n",
      "\n",
      "Evaluating:   6%|▌         | 9/154 [00:03<00:58,  2.49it/s]\u001b[A\u001b[A\n",
      "\n",
      "Evaluating:   6%|▋         | 10/154 [00:04<00:58,  2.48it/s]\u001b[A\u001b[A\n",
      "\n",
      "Evaluating:   7%|▋         | 11/154 [00:04<00:57,  2.48it/s]\u001b[A\u001b[A\n",
      "\n",
      "Evaluating:   8%|▊         | 12/154 [00:04<00:57,  2.48it/s]\u001b[A\u001b[A\n",
      "\n",
      "Evaluating:   8%|▊         | 13/154 [00:05<00:56,  2.48it/s]\u001b[A\u001b[A\n",
      "\n",
      "Evaluating:   9%|▉         | 14/154 [00:05<00:56,  2.48it/s]\u001b[A\u001b[A\n",
      "\n",
      "Evaluating:  10%|▉         | 15/154 [00:06<00:55,  2.49it/s]\u001b[A\u001b[A\n",
      "\n",
      "Evaluating:  10%|█         | 16/154 [00:06<00:55,  2.48it/s]\u001b[A\u001b[A\n",
      "\n",
      "Evaluating:  11%|█         | 17/154 [00:06<00:55,  2.48it/s]\u001b[A\u001b[A\n",
      "\n",
      "Evaluating:  12%|█▏        | 18/154 [00:07<00:54,  2.47it/s]\u001b[A\u001b[A\n",
      "\n",
      "Evaluating:  12%|█▏        | 19/154 [00:07<00:54,  2.48it/s]\u001b[A\u001b[A\n",
      "\n",
      "Evaluating:  13%|█▎        | 20/154 [00:08<00:53,  2.48it/s]\u001b[A\u001b[A\n",
      "\n",
      "Evaluating:  14%|█▎        | 21/154 [00:08<00:53,  2.48it/s]\u001b[A\u001b[A\n",
      "\n",
      "Evaluating:  14%|█▍        | 22/154 [00:08<00:53,  2.49it/s]\u001b[A\u001b[A\n",
      "\n",
      "Evaluating:  15%|█▍        | 23/154 [00:09<00:52,  2.49it/s]\u001b[A\u001b[A\n",
      "\n",
      "Evaluating:  16%|█▌        | 24/154 [00:09<00:52,  2.48it/s]\u001b[A\u001b[A\n",
      "\n",
      "Evaluating:  16%|█▌        | 25/154 [00:10<00:51,  2.49it/s]\u001b[A\u001b[A\n",
      "\n",
      "Evaluating:  17%|█▋        | 26/154 [00:10<00:51,  2.48it/s]\u001b[A\u001b[A\n",
      "\n",
      "Evaluating:  18%|█▊        | 27/154 [00:10<00:51,  2.47it/s]\u001b[A\u001b[A\n",
      "\n",
      "Evaluating:  18%|█▊        | 28/154 [00:11<00:50,  2.47it/s]\u001b[A\u001b[A\n",
      "\n",
      "Evaluating:  19%|█▉        | 29/154 [00:11<00:50,  2.47it/s]\u001b[A\u001b[A\n",
      "\n",
      "Evaluating:  19%|█▉        | 30/154 [00:12<00:50,  2.48it/s]\u001b[A\u001b[A\n",
      "\n",
      "Evaluating:  20%|██        | 31/154 [00:12<00:49,  2.48it/s]\u001b[A\u001b[A\n",
      "\n",
      "Evaluating:  21%|██        | 32/154 [00:12<00:49,  2.47it/s]\u001b[A\u001b[A\n",
      "\n",
      "Evaluating:  21%|██▏       | 33/154 [00:13<00:48,  2.48it/s]\u001b[A\u001b[A\n",
      "\n",
      "Evaluating:  22%|██▏       | 34/154 [00:13<00:48,  2.48it/s]\u001b[A\u001b[A\n",
      "\n",
      "Evaluating:  23%|██▎       | 35/154 [00:14<00:48,  2.48it/s]\u001b[A\u001b[A\n",
      "\n",
      "Evaluating:  23%|██▎       | 36/154 [00:14<00:47,  2.47it/s]\u001b[A\u001b[A\n",
      "\n",
      "Evaluating:  24%|██▍       | 37/154 [00:14<00:47,  2.47it/s]\u001b[A\u001b[A\n",
      "\n",
      "Evaluating:  25%|██▍       | 38/154 [00:15<00:46,  2.47it/s]\u001b[A\u001b[A\n",
      "\n",
      "Evaluating:  25%|██▌       | 39/154 [00:15<00:46,  2.47it/s]\u001b[A\u001b[A\n",
      "\n",
      "Evaluating:  26%|██▌       | 40/154 [00:16<00:46,  2.47it/s]\u001b[A\u001b[A\n",
      "\n",
      "Evaluating:  27%|██▋       | 41/154 [00:16<00:45,  2.47it/s]\u001b[A\u001b[A\n",
      "\n",
      "Evaluating:  27%|██▋       | 42/154 [00:16<00:45,  2.48it/s]\u001b[A\u001b[A\n",
      "\n",
      "Evaluating:  28%|██▊       | 43/154 [00:17<00:44,  2.47it/s]\u001b[A\u001b[A\n",
      "\n",
      "Evaluating:  29%|██▊       | 44/154 [00:17<00:44,  2.48it/s]\u001b[A\u001b[A\n",
      "\n",
      "Evaluating:  29%|██▉       | 45/154 [00:18<00:43,  2.48it/s]\u001b[A\u001b[A\n",
      "\n",
      "Evaluating:  30%|██▉       | 46/154 [00:18<00:43,  2.48it/s]\u001b[A\u001b[A\n",
      "\n",
      "Evaluating:  31%|███       | 47/154 [00:18<00:43,  2.48it/s]\u001b[A\u001b[A\n",
      "\n",
      "Evaluating:  31%|███       | 48/154 [00:19<00:42,  2.48it/s]\u001b[A\u001b[A\n",
      "\n",
      "Evaluating:  32%|███▏      | 49/154 [00:19<00:42,  2.47it/s]\u001b[A\u001b[A\n",
      "\n",
      "Evaluating:  32%|███▏      | 50/154 [00:20<00:42,  2.47it/s]\u001b[A\u001b[A\n",
      "\n",
      "Evaluating:  33%|███▎      | 51/154 [00:20<00:41,  2.48it/s]\u001b[A\u001b[A\n",
      "\n",
      "Evaluating:  34%|███▍      | 52/154 [00:20<00:41,  2.47it/s]\u001b[A\u001b[A\n",
      "\n",
      "Evaluating:  34%|███▍      | 53/154 [00:21<00:40,  2.48it/s]\u001b[A\u001b[A\n",
      "\n",
      "Evaluating:  35%|███▌      | 54/154 [00:21<00:40,  2.47it/s]\u001b[A\u001b[A\n",
      "\n",
      "Evaluating:  36%|███▌      | 55/154 [00:22<00:40,  2.47it/s]\u001b[A\u001b[A\n",
      "\n",
      "Evaluating:  36%|███▋      | 56/154 [00:22<00:39,  2.47it/s]\u001b[A\u001b[A\n",
      "\n",
      "Evaluating:  37%|███▋      | 57/154 [00:23<00:39,  2.47it/s]\u001b[A\u001b[A\n",
      "\n",
      "Evaluating:  38%|███▊      | 58/154 [00:23<00:38,  2.47it/s]\u001b[A\u001b[A\n",
      "\n",
      "Evaluating:  38%|███▊      | 59/154 [00:23<00:38,  2.48it/s]\u001b[A\u001b[A\n",
      "\n",
      "Evaluating:  39%|███▉      | 60/154 [00:24<00:37,  2.47it/s]\u001b[A\u001b[A\n",
      "\n",
      "Evaluating:  40%|███▉      | 61/154 [00:24<00:37,  2.48it/s]\u001b[A\u001b[A\n",
      "\n",
      "Evaluating:  40%|████      | 62/154 [00:25<00:37,  2.47it/s]\u001b[A\u001b[A\n",
      "\n",
      "Evaluating:  41%|████      | 63/154 [00:25<00:36,  2.48it/s]\u001b[A\u001b[A\n",
      "\n",
      "Evaluating:  42%|████▏     | 64/154 [00:25<00:36,  2.48it/s]\u001b[A\u001b[A\n",
      "\n",
      "Evaluating:  42%|████▏     | 65/154 [00:26<00:35,  2.48it/s]\u001b[A\u001b[A\n",
      "\n",
      "Evaluating:  43%|████▎     | 66/154 [00:26<00:35,  2.49it/s]\u001b[A\u001b[A\n",
      "\n",
      "Evaluating:  44%|████▎     | 67/154 [00:27<00:35,  2.48it/s]\u001b[A\u001b[A\n",
      "\n",
      "Evaluating:  44%|████▍     | 68/154 [00:27<00:34,  2.48it/s]\u001b[A\u001b[A\n",
      "\n",
      "Evaluating:  45%|████▍     | 69/154 [00:27<00:34,  2.48it/s]\u001b[A\u001b[A\n",
      "\n",
      "Evaluating:  45%|████▌     | 70/154 [00:28<00:33,  2.48it/s]\u001b[A\u001b[A\n",
      "\n",
      "Evaluating:  46%|████▌     | 71/154 [00:28<00:33,  2.46it/s]\u001b[A\u001b[A\n",
      "\n",
      "Evaluating:  47%|████▋     | 72/154 [00:29<00:33,  2.47it/s]\u001b[A\u001b[A\n",
      "\n",
      "Evaluating:  47%|████▋     | 73/154 [00:29<00:32,  2.46it/s]\u001b[A\u001b[A\n",
      "\n",
      "Evaluating:  48%|████▊     | 74/154 [00:29<00:32,  2.47it/s]\u001b[A\u001b[A\n",
      "\n",
      "Evaluating:  49%|████▊     | 75/154 [00:30<00:32,  2.47it/s]\u001b[A\u001b[A\n",
      "\n",
      "Evaluating:  49%|████▉     | 76/154 [00:30<00:31,  2.47it/s]\u001b[A\u001b[A\n",
      "\n",
      "Evaluating:  50%|█████     | 77/154 [00:31<00:31,  2.48it/s]\u001b[A\u001b[A\n",
      "\n",
      "Evaluating:  51%|█████     | 78/154 [00:31<00:30,  2.48it/s]\u001b[A\u001b[A\n",
      "\n",
      "Evaluating:  51%|█████▏    | 79/154 [00:31<00:30,  2.48it/s]\u001b[A\u001b[A\n",
      "\n",
      "Evaluating:  52%|█████▏    | 80/154 [00:32<00:29,  2.48it/s]\u001b[A\u001b[A\n",
      "\n",
      "Evaluating:  53%|█████▎    | 81/154 [00:32<00:29,  2.48it/s]\u001b[A\u001b[A\n",
      "\n",
      "Evaluating:  53%|█████▎    | 82/154 [00:33<00:29,  2.45it/s]\u001b[A\u001b[A\n",
      "\n",
      "Evaluating:  54%|█████▍    | 83/154 [00:33<00:28,  2.45it/s]\u001b[A\u001b[A\n",
      "\n",
      "Evaluating:  55%|█████▍    | 84/154 [00:33<00:28,  2.46it/s]\u001b[A\u001b[A\n",
      "\n",
      "Evaluating:  55%|█████▌    | 85/154 [00:34<00:27,  2.47it/s]\u001b[A\u001b[A\n",
      "\n",
      "Evaluating:  56%|█████▌    | 86/154 [00:34<00:27,  2.47it/s]\u001b[A\u001b[A\n",
      "\n",
      "Evaluating:  56%|█████▋    | 87/154 [00:35<00:27,  2.47it/s]\u001b[A\u001b[A\n",
      "\n",
      "Evaluating:  57%|█████▋    | 88/154 [00:35<00:26,  2.47it/s]\u001b[A\u001b[A\n",
      "\n",
      "Evaluating:  58%|█████▊    | 89/154 [00:35<00:26,  2.47it/s]\u001b[A\u001b[A\n",
      "\n",
      "Evaluating:  58%|█████▊    | 90/154 [00:36<00:25,  2.47it/s]\u001b[A\u001b[A\n",
      "\n",
      "Evaluating:  59%|█████▉    | 91/154 [00:36<00:25,  2.47it/s]\u001b[A\u001b[A\n",
      "\n",
      "Evaluating:  60%|█████▉    | 92/154 [00:37<00:25,  2.48it/s]\u001b[A\u001b[A\n",
      "\n",
      "Evaluating:  60%|██████    | 93/154 [00:37<00:24,  2.48it/s]\u001b[A\u001b[A\n",
      "\n",
      "Evaluating:  61%|██████    | 94/154 [00:37<00:24,  2.48it/s]\u001b[A\u001b[A\n",
      "\n",
      "Evaluating:  62%|██████▏   | 95/154 [00:38<00:23,  2.47it/s]\u001b[A\u001b[A\n",
      "\n",
      "Evaluating:  62%|██████▏   | 96/154 [00:38<00:23,  2.48it/s]\u001b[A\u001b[A\n",
      "\n",
      "Evaluating:  63%|██████▎   | 97/154 [00:39<00:23,  2.47it/s]\u001b[A\u001b[A\n",
      "\n",
      "Evaluating:  64%|██████▎   | 98/154 [00:39<00:22,  2.46it/s]\u001b[A\u001b[A\n",
      "\n",
      "Evaluating:  64%|██████▍   | 99/154 [00:40<00:22,  2.47it/s]\u001b[A\u001b[A\n",
      "\n",
      "Evaluating:  65%|██████▍   | 100/154 [00:40<00:21,  2.47it/s]\u001b[A\u001b[A\n",
      "\n",
      "Evaluating:  66%|██████▌   | 101/154 [00:40<00:21,  2.45it/s]\u001b[A\u001b[A\n",
      "\n",
      "Evaluating:  66%|██████▌   | 102/154 [00:41<00:21,  2.46it/s]\u001b[A\u001b[A\n",
      "\n",
      "Evaluating:  67%|██████▋   | 103/154 [00:41<00:20,  2.47it/s]\u001b[A\u001b[A\n",
      "\n",
      "Evaluating:  68%|██████▊   | 104/154 [00:42<00:20,  2.47it/s]\u001b[A\u001b[A\n",
      "\n",
      "Evaluating:  68%|██████▊   | 105/154 [00:42<00:19,  2.47it/s]\u001b[A\u001b[A\n",
      "\n",
      "Evaluating:  69%|██████▉   | 106/154 [00:42<00:19,  2.47it/s]\u001b[A\u001b[A\n",
      "\n",
      "Evaluating:  69%|██████▉   | 107/154 [00:43<00:18,  2.48it/s]\u001b[A\u001b[A\n",
      "\n",
      "Evaluating:  70%|███████   | 108/154 [00:43<00:18,  2.48it/s]\u001b[A\u001b[A\n",
      "\n",
      "Evaluating:  71%|███████   | 109/154 [00:44<00:18,  2.48it/s]\u001b[A\u001b[A\n",
      "\n",
      "Evaluating:  71%|███████▏  | 110/154 [00:44<00:17,  2.48it/s]\u001b[A\u001b[A\n",
      "\n",
      "Evaluating:  72%|███████▏  | 111/154 [00:44<00:17,  2.47it/s]\u001b[A\u001b[A\n",
      "\n",
      "Evaluating:  73%|███████▎  | 112/154 [00:45<00:17,  2.47it/s]\u001b[A\u001b[A\n",
      "\n",
      "Evaluating:  73%|███████▎  | 113/154 [00:45<00:16,  2.47it/s]\u001b[A\u001b[A\n",
      "\n",
      "Evaluating:  74%|███████▍  | 114/154 [00:46<00:16,  2.47it/s]\u001b[A\u001b[A\n",
      "\n",
      "Evaluating:  75%|███████▍  | 115/154 [00:46<00:15,  2.47it/s]\u001b[A\u001b[A\n",
      "\n",
      "Evaluating:  75%|███████▌  | 116/154 [00:46<00:15,  2.47it/s]\u001b[A\u001b[A\n",
      "\n",
      "Evaluating:  76%|███████▌  | 117/154 [00:47<00:14,  2.47it/s]\u001b[A\u001b[A\n",
      "\n",
      "Evaluating:  77%|███████▋  | 118/154 [00:47<00:14,  2.48it/s]\u001b[A\u001b[A\n",
      "\n",
      "Evaluating:  77%|███████▋  | 119/154 [00:48<00:14,  2.47it/s]\u001b[A\u001b[A\n",
      "\n"
     ]
    },
    {
     "name": "stderr",
     "output_type": "stream",
     "text": [
      "Evaluating:  78%|███████▊  | 120/154 [00:48<00:13,  2.48it/s]\u001b[A\u001b[A\n",
      "\n",
      "Evaluating:  79%|███████▊  | 121/154 [00:48<00:13,  2.47it/s]\u001b[A\u001b[A\n",
      "\n",
      "Evaluating:  79%|███████▉  | 122/154 [00:49<00:12,  2.47it/s]\u001b[A\u001b[A\n",
      "\n",
      "Evaluating:  80%|███████▉  | 123/154 [00:49<00:12,  2.47it/s]\u001b[A\u001b[A\n",
      "\n",
      "Evaluating:  81%|████████  | 124/154 [00:50<00:12,  2.47it/s]\u001b[A\u001b[A\n",
      "\n",
      "Evaluating:  81%|████████  | 125/154 [00:50<00:11,  2.48it/s]\u001b[A\u001b[A\n",
      "\n",
      "Evaluating:  82%|████████▏ | 126/154 [00:50<00:11,  2.48it/s]\u001b[A\u001b[A\n",
      "\n",
      "Evaluating:  82%|████████▏ | 127/154 [00:51<00:10,  2.48it/s]\u001b[A\u001b[A\n",
      "\n",
      "Evaluating:  83%|████████▎ | 128/154 [00:51<00:10,  2.48it/s]\u001b[A\u001b[A\n",
      "\n",
      "Evaluating:  84%|████████▍ | 129/154 [00:52<00:10,  2.48it/s]\u001b[A\u001b[A\n",
      "\n",
      "Evaluating:  84%|████████▍ | 130/154 [00:52<00:09,  2.47it/s]\u001b[A\u001b[A\n",
      "\n",
      "Evaluating:  85%|████████▌ | 131/154 [00:52<00:09,  2.47it/s]\u001b[A\u001b[A\n",
      "\n",
      "Evaluating:  86%|████████▌ | 132/154 [00:53<00:08,  2.47it/s]\u001b[A\u001b[A\n",
      "\n",
      "Evaluating:  86%|████████▋ | 133/154 [00:53<00:08,  2.47it/s]\u001b[A\u001b[A\n",
      "\n",
      "Evaluating:  87%|████████▋ | 134/154 [00:54<00:08,  2.47it/s]\u001b[A\u001b[A\n",
      "\n",
      "Evaluating:  88%|████████▊ | 135/154 [00:54<00:07,  2.46it/s]\u001b[A\u001b[A\n",
      "\n",
      "Evaluating:  88%|████████▊ | 136/154 [00:54<00:07,  2.47it/s]\u001b[A\u001b[A\n",
      "\n",
      "Evaluating:  89%|████████▉ | 137/154 [00:55<00:06,  2.47it/s]\u001b[A\u001b[A\n",
      "\n",
      "Evaluating:  90%|████████▉ | 138/154 [00:55<00:06,  2.47it/s]\u001b[A\u001b[A\n",
      "\n",
      "Evaluating:  90%|█████████ | 139/154 [00:56<00:06,  2.48it/s]\u001b[A\u001b[A\n",
      "\n",
      "Evaluating:  91%|█████████ | 140/154 [00:56<00:05,  2.48it/s]\u001b[A\u001b[A\n",
      "\n",
      "Evaluating:  92%|█████████▏| 141/154 [00:56<00:05,  2.48it/s]\u001b[A\u001b[A\n",
      "\n",
      "Evaluating:  92%|█████████▏| 142/154 [00:57<00:04,  2.48it/s]\u001b[A\u001b[A\n",
      "\n",
      "Evaluating:  93%|█████████▎| 143/154 [00:57<00:04,  2.47it/s]\u001b[A\u001b[A\n",
      "\n",
      "Evaluating:  94%|█████████▎| 144/154 [00:58<00:04,  2.47it/s]\u001b[A\u001b[A\n",
      "\n",
      "Evaluating:  94%|█████████▍| 145/154 [00:58<00:03,  2.48it/s]\u001b[A\u001b[A\n",
      "\n",
      "Evaluating:  95%|█████████▍| 146/154 [00:59<00:03,  2.48it/s]\u001b[A\u001b[A\n",
      "\n",
      "Evaluating:  95%|█████████▌| 147/154 [00:59<00:02,  2.47it/s]\u001b[A\u001b[A\n",
      "\n",
      "Evaluating:  96%|█████████▌| 148/154 [00:59<00:02,  2.47it/s]\u001b[A\u001b[A\n",
      "\n",
      "Evaluating:  97%|█████████▋| 149/154 [01:00<00:02,  2.48it/s]\u001b[A\u001b[A\n",
      "\n",
      "Evaluating:  97%|█████████▋| 150/154 [01:00<00:01,  2.48it/s]\u001b[A\u001b[A\n",
      "\n",
      "Evaluating:  98%|█████████▊| 151/154 [01:01<00:01,  2.48it/s]\u001b[A\u001b[A\n",
      "\n",
      "Evaluating:  99%|█████████▊| 152/154 [01:01<00:00,  2.48it/s]\u001b[A\u001b[A\n",
      "\n",
      "Evaluating:  99%|█████████▉| 153/154 [01:01<00:00,  2.48it/s]\u001b[A\u001b[A\n",
      "\n",
      "Evaluating: 100%|██████████| 154/154 [01:02<00:00,  2.48it/s]\u001b[A\u001b[A\n",
      "\n",
      " 67%|██████▋   | 2/3 [20:00<08:58, 538.28s/it]\u001b[AI1002 17:39:07.674497 140305852307264 file_utils.py:296] https://s3.amazonaws.com/models.huggingface.co/bert/xlnet-base-cased-spiece.model not found in cache or force_download set to True, downloading to /tmp/tmpb352wzvg\n",
      "\n",
      "\n",
      "100%|██████████| 798011/798011 [00:00<00:00, 32344450.10B/s]\n",
      "I1002 17:39:07.763530 140305852307264 file_utils.py:309] copying /tmp/tmpb352wzvg to cache at ./temp/dad589d582573df0293448af5109cb6981ca77239ed314e15ca63b7b8a318ddd.8b10bd978b5d01c21303cc761fc9ecd464419b3bf921864a355ba807cfbfafa8\n",
      "I1002 17:39:07.765353 140305852307264 file_utils.py:313] creating metadata file for ./temp/dad589d582573df0293448af5109cb6981ca77239ed314e15ca63b7b8a318ddd.8b10bd978b5d01c21303cc761fc9ecd464419b3bf921864a355ba807cfbfafa8\n",
      "I1002 17:39:07.766156 140305852307264 file_utils.py:322] removing temp file /tmp/tmpb352wzvg\n",
      "I1002 17:39:07.766944 140305852307264 tokenization_utils.py:373] loading file https://s3.amazonaws.com/models.huggingface.co/bert/xlnet-base-cased-spiece.model from cache at ./temp/dad589d582573df0293448af5109cb6981ca77239ed314e15ca63b7b8a318ddd.8b10bd978b5d01c21303cc761fc9ecd464419b3bf921864a355ba807cfbfafa8\n",
      "I1002 17:39:13.274621 140305852307264 file_utils.py:296] https://s3.amazonaws.com/models.huggingface.co/bert/xlnet-base-cased-config.json not found in cache or force_download set to True, downloading to /tmp/tmpp8xzpnn5\n",
      "\n",
      "\n",
      "100%|██████████| 641/641 [00:00<00:00, 633195.68B/s]\n",
      "I1002 17:39:13.326435 140305852307264 file_utils.py:309] copying /tmp/tmpp8xzpnn5 to cache at ./temp/c9cc6e53904f7f3679a31ec4af244f4419e25ebc8e71ebf8c558a31cbcf07fc8.ef1824921bc0786e97dc88d55eb17aabf18aac90f24bd34c0650529e7ba27d6f\n",
      "I1002 17:39:13.327156 140305852307264 file_utils.py:313] creating metadata file for ./temp/c9cc6e53904f7f3679a31ec4af244f4419e25ebc8e71ebf8c558a31cbcf07fc8.ef1824921bc0786e97dc88d55eb17aabf18aac90f24bd34c0650529e7ba27d6f\n",
      "I1002 17:39:13.327944 140305852307264 file_utils.py:322] removing temp file /tmp/tmpp8xzpnn5\n",
      "I1002 17:39:13.328718 140305852307264 configuration_utils.py:151] loading configuration file https://s3.amazonaws.com/models.huggingface.co/bert/xlnet-base-cased-config.json from cache at ./temp/c9cc6e53904f7f3679a31ec4af244f4419e25ebc8e71ebf8c558a31cbcf07fc8.ef1824921bc0786e97dc88d55eb17aabf18aac90f24bd34c0650529e7ba27d6f\n",
      "I1002 17:39:13.329597 140305852307264 configuration_utils.py:168] Model config {\n",
      "  \"attn_type\": \"bi\",\n",
      "  \"bi_data\": false,\n",
      "  \"clamp_len\": -1,\n",
      "  \"d_head\": 64,\n",
      "  \"d_inner\": 3072,\n",
      "  \"d_model\": 768,\n",
      "  \"dropout\": 0.1,\n",
      "  \"end_n_top\": 5,\n",
      "  \"ff_activation\": \"gelu\",\n",
      "  \"finetuning_task\": null,\n",
      "  \"initializer_range\": 0.02,\n",
      "  \"layer_norm_eps\": 1e-12,\n",
      "  \"mem_len\": null,\n",
      "  \"n_head\": 12,\n",
      "  \"n_layer\": 12,\n",
      "  \"n_token\": 32000,\n",
      "  \"num_labels\": 5,\n",
      "  \"output_attentions\": false,\n",
      "  \"output_hidden_states\": false,\n",
      "  \"pruned_heads\": {},\n",
      "  \"reuse_len\": null,\n",
      "  \"same_length\": false,\n",
      "  \"start_n_top\": 5,\n",
      "  \"summary_activation\": \"tanh\",\n",
      "  \"summary_last_dropout\": 0.1,\n",
      "  \"summary_type\": \"last\",\n",
      "  \"summary_use_proj\": true,\n",
      "  \"torchscript\": false,\n",
      "  \"untie_r\": true,\n",
      "  \"use_bfloat16\": false\n",
      "}\n",
      "\n",
      "I1002 17:39:13.363325 140305852307264 file_utils.py:296] https://s3.amazonaws.com/models.huggingface.co/bert/xlnet-base-cased-pytorch_model.bin not found in cache or force_download set to True, downloading to /tmp/tmp9p3qlkni\n",
      "\n",
      "\n",
      "  0%|          | 0/467042463 [00:00<?, ?B/s]\u001b[A\u001b[A\n",
      "\n",
      "  1%|▏         | 6108160/467042463 [00:00<00:07, 61080930.11B/s]\u001b[A\u001b[A\n",
      "\n",
      "  3%|▎         | 11719680/467042463 [00:00<00:07, 59499531.10B/s]\u001b[A\u001b[A\n",
      "\n",
      "  4%|▍         | 18286592/467042463 [00:00<00:07, 61225008.14B/s]\u001b[A\u001b[A\n",
      "\n",
      "  5%|▌         | 25005056/467042463 [00:00<00:07, 62898610.07B/s]\u001b[A\u001b[A\n",
      "\n",
      "  7%|▋         | 31676416/467042463 [00:00<00:06, 63995194.38B/s]\u001b[A\u001b[A\n",
      "\n",
      "  8%|▊         | 38431744/467042463 [00:00<00:06, 65022202.95B/s]\u001b[A\u001b[A\n",
      "\n",
      " 10%|▉         | 45115392/467042463 [00:00<00:06, 65554973.58B/s]\u001b[A\u001b[A\n",
      "\n",
      " 11%|█         | 51746816/467042463 [00:00<00:06, 65776133.46B/s]\u001b[A\u001b[A\n",
      "\n",
      " 13%|█▎        | 58499072/467042463 [00:00<00:06, 66289961.54B/s]\u001b[A\u001b[A\n",
      "\n",
      " 14%|█▍        | 65259520/467042463 [00:01<00:06, 66677572.71B/s]\u001b[A\u001b[A\n",
      "\n",
      " 15%|█▌        | 72017920/467042463 [00:01<00:05, 66944869.63B/s]\u001b[A\u001b[A\n",
      "\n",
      " 17%|█▋        | 78795776/467042463 [00:01<00:05, 67191881.49B/s]\u001b[A\u001b[A\n",
      "\n",
      " 18%|█▊        | 85434368/467042463 [00:01<00:05, 66817741.76B/s]\u001b[A\u001b[A\n",
      "\n",
      " 20%|█▉        | 92127232/467042463 [00:01<00:05, 66850609.65B/s]\u001b[A\u001b[A\n",
      "\n",
      " 21%|██        | 98847744/467042463 [00:01<00:05, 66956254.51B/s]\u001b[A\u001b[A\n",
      "\n",
      " 23%|██▎       | 105695232/467042463 [00:01<00:05, 67404313.88B/s]\u001b[A\u001b[A\n",
      "\n",
      " 24%|██▍       | 112539648/467042463 [00:01<00:05, 67711420.88B/s]\u001b[A\u001b[A\n",
      "\n",
      " 26%|██▌       | 119299072/467042463 [00:01<00:05, 67021676.71B/s]\u001b[A\u001b[A\n",
      "\n",
      " 27%|██▋       | 126150656/467042463 [00:01<00:05, 67461156.56B/s]\u001b[A\u001b[A\n",
      "\n",
      " 28%|██▊       | 132977664/467042463 [00:02<00:04, 67701544.68B/s]\u001b[A\u001b[A\n",
      "\n",
      " 30%|██▉       | 139745280/467042463 [00:02<00:04, 67658513.56B/s]\u001b[A\u001b[A\n",
      "\n",
      " 31%|███▏      | 146509824/467042463 [00:02<00:04, 67181999.84B/s]\u001b[A\u001b[A\n",
      "\n",
      " 33%|███▎      | 153228288/467042463 [00:02<00:04, 66751974.35B/s]\u001b[A\u001b[A\n",
      "\n",
      " 34%|███▍      | 159973376/467042463 [00:02<00:04, 66955718.12B/s]\u001b[A\u001b[A\n",
      "\n",
      " 36%|███▌      | 166794240/467042463 [00:02<00:04, 67326658.73B/s]\u001b[A\u001b[A\n",
      "\n",
      " 37%|███▋      | 173569024/467042463 [00:02<00:04, 67445805.16B/s]\u001b[A\u001b[A\n",
      "\n",
      " 39%|███▊      | 180418560/467042463 [00:02<00:04, 67752360.28B/s]\u001b[A\u001b[A\n",
      "\n",
      " 40%|████      | 187195392/467042463 [00:02<00:04, 67133948.47B/s]\u001b[A\u001b[A\n",
      "\n",
      " 42%|████▏     | 193975296/467042463 [00:02<00:04, 67331546.96B/s]\u001b[A\u001b[A\n",
      "\n",
      " 43%|████▎     | 200794112/467042463 [00:03<00:03, 67585706.67B/s]\u001b[A\u001b[A\n",
      "\n",
      " 44%|████▍     | 207618048/467042463 [00:03<00:03, 67777132.64B/s]\u001b[A\u001b[A\n",
      "\n",
      " 46%|████▌     | 214456320/467042463 [00:03<00:03, 67957312.50B/s]\u001b[A\u001b[A\n",
      "\n"
     ]
    },
    {
     "name": "stderr",
     "output_type": "stream",
     "text": [
      " 47%|████▋     | 221253632/467042463 [00:03<00:03, 67609840.27B/s]\u001b[A\u001b[A\n",
      "\n",
      " 49%|████▉     | 228016128/467042463 [00:03<00:03, 67575830.31B/s]\u001b[A\u001b[A\n",
      "\n",
      " 50%|█████     | 234821632/467042463 [00:03<00:03, 67718613.20B/s]\u001b[A\u001b[A\n",
      "\n",
      " 52%|█████▏    | 241704960/467042463 [00:03<00:03, 68048309.12B/s]\u001b[A\u001b[A\n",
      "\n",
      " 53%|█████▎    | 248511488/467042463 [00:03<00:03, 67755089.10B/s]\u001b[A\u001b[A\n",
      "\n",
      " 55%|█████▍    | 255288320/467042463 [00:03<00:03, 67445026.53B/s]\u001b[A\u001b[A\n",
      "\n",
      " 56%|█████▌    | 262109184/467042463 [00:03<00:03, 67670119.51B/s]\u001b[A\u001b[A\n",
      "\n",
      " 58%|█████▊    | 268877824/467042463 [00:04<00:03, 65621534.12B/s]\u001b[A\u001b[A\n",
      "\n",
      " 59%|█████▉    | 275616768/467042463 [00:04<00:02, 66141225.28B/s]\u001b[A\u001b[A\n",
      "\n",
      " 60%|██████    | 282419200/467042463 [00:04<00:02, 66694338.51B/s]\u001b[A\u001b[A\n",
      "\n",
      " 62%|██████▏   | 289139712/467042463 [00:04<00:02, 66846537.09B/s]\u001b[A\u001b[A\n",
      "\n",
      " 63%|██████▎   | 295904256/467042463 [00:04<00:02, 67083857.89B/s]\u001b[A\u001b[A\n",
      "\n",
      " 65%|██████▍   | 302617600/467042463 [00:04<00:02, 66051839.59B/s]\u001b[A\u001b[A\n",
      "\n",
      " 66%|██████▌   | 309370880/467042463 [00:04<00:02, 66488625.66B/s]\u001b[A\u001b[A\n",
      "\n",
      " 68%|██████▊   | 316243968/467042463 [00:04<00:02, 67144915.83B/s]\u001b[A\u001b[A\n",
      "\n",
      " 69%|██████▉   | 322988032/467042463 [00:04<00:02, 67230119.73B/s]\u001b[A\u001b[A\n",
      "\n",
      " 71%|███████   | 329772032/467042463 [00:04<00:02, 67409888.30B/s]\u001b[A\u001b[A\n",
      "\n",
      " 72%|███████▏  | 336516096/467042463 [00:05<00:01, 67070862.65B/s]\u001b[A\u001b[A\n",
      "\n",
      " 73%|███████▎  | 343226368/467042463 [00:05<00:01, 67058571.53B/s]\u001b[A\u001b[A\n",
      "\n",
      " 75%|███████▍  | 350028800/467042463 [00:05<00:01, 67344851.30B/s]\u001b[A\u001b[A\n",
      "\n",
      " 76%|███████▋  | 356783104/467042463 [00:05<00:01, 67402521.04B/s]\u001b[A\u001b[A\n",
      "\n",
      " 78%|███████▊  | 363606016/467042463 [00:05<00:01, 67647257.89B/s]\u001b[A\u001b[A\n",
      "\n",
      " 79%|███████▉  | 370372608/467042463 [00:05<00:01, 67201475.63B/s]\u001b[A\u001b[A\n",
      "\n",
      " 81%|████████  | 377210880/467042463 [00:05<00:01, 67550940.22B/s]\u001b[A\u001b[A\n",
      "\n",
      " 82%|████████▏ | 383968256/467042463 [00:05<00:01, 65218002.24B/s]\u001b[A\u001b[A\n",
      "\n",
      " 84%|████████▎ | 390651904/467042463 [00:05<00:01, 65693934.06B/s]\u001b[A\u001b[A\n",
      "\n",
      " 85%|████████▌ | 397539328/467042463 [00:05<00:01, 66610735.32B/s]\u001b[A\u001b[A\n",
      "\n",
      " 87%|████████▋ | 404311040/467042463 [00:06<00:00, 66933081.36B/s]\u001b[A\u001b[A\n",
      "\n",
      " 88%|████████▊ | 411158528/467042463 [00:06<00:00, 67385928.42B/s]\u001b[A\u001b[A\n",
      "\n",
      " 89%|████████▉ | 417927168/467042463 [00:06<00:00, 67475086.98B/s]\u001b[A\u001b[A\n",
      "\n",
      " 91%|█████████ | 424688640/467042463 [00:06<00:00, 67511197.65B/s]\u001b[A\u001b[A\n",
      "\n",
      " 92%|█████████▏| 431537152/467042463 [00:06<00:00, 67799224.34B/s]\u001b[A\u001b[A\n",
      "\n",
      " 94%|█████████▍| 438320128/467042463 [00:06<00:00, 62589113.01B/s]\u001b[A\u001b[A\n",
      "\n",
      " 95%|█████████▌| 444660736/467042463 [00:06<00:00, 62510472.00B/s]\u001b[A\u001b[A\n",
      "\n",
      " 97%|█████████▋| 451505152/467042463 [00:06<00:00, 64178435.74B/s]\u001b[A\u001b[A\n",
      "\n",
      " 98%|█████████▊| 458164224/467042463 [00:06<00:00, 64879878.65B/s]\u001b[A\u001b[A\n",
      "\n",
      "100%|██████████| 467042463/467042463 [00:07<00:00, 66613804.27B/s]\u001b[A\u001b[A\n",
      "I1002 17:39:20.478424 140305852307264 file_utils.py:309] copying /tmp/tmp9p3qlkni to cache at ./temp/24197ba0ce5dbfe23924431610704c88e2c0371afa49149360e4c823219ab474.7eac4fe898a021204e63c88c00ea68c60443c57f94b4bc3c02adbde6465745ac\n",
      "I1002 17:39:21.012291 140305852307264 file_utils.py:313] creating metadata file for ./temp/24197ba0ce5dbfe23924431610704c88e2c0371afa49149360e4c823219ab474.7eac4fe898a021204e63c88c00ea68c60443c57f94b4bc3c02adbde6465745ac\n",
      "I1002 17:39:21.013607 140305852307264 file_utils.py:322] removing temp file /tmp/tmp9p3qlkni\n",
      "I1002 17:39:21.087461 140305852307264 modeling_utils.py:337] loading weights file https://s3.amazonaws.com/models.huggingface.co/bert/xlnet-base-cased-pytorch_model.bin from cache at ./temp/24197ba0ce5dbfe23924431610704c88e2c0371afa49149360e4c823219ab474.7eac4fe898a021204e63c88c00ea68c60443c57f94b4bc3c02adbde6465745ac\n",
      "I1002 17:39:24.382914 140305852307264 modeling_utils.py:405] Weights of XLNetForSequenceClassification not initialized from pretrained model: ['sequence_summary.summary.weight', 'sequence_summary.summary.bias', 'logits_proj.weight', 'logits_proj.bias']\n",
      "I1002 17:39:24.384073 140305852307264 modeling_utils.py:408] Weights from pretrained model not used in XLNetForSequenceClassification: ['lm_loss.weight', 'lm_loss.bias']\n",
      "                                     \n",
      "  0%|          | 0/3 [21:03<?, ?it/s]         \n",
      " 67%|██████▋   | 2/3 [20:17<08:58, 538.28s/it]\u001b[A"
     ]
    },
    {
     "name": "stdout",
     "output_type": "stream",
     "text": [
      "Loss:1.819770\n"
     ]
    },
    {
     "name": "stderr",
     "output_type": "stream",
     "text": [
      "                                     \n",
      "  0%|          | 0/3 [21:13<?, ?it/s]         \n",
      " 67%|██████▋   | 2/3 [20:27<08:58, 538.28s/it]\u001b[A"
     ]
    },
    {
     "name": "stdout",
     "output_type": "stream",
     "text": [
      "Loss:1.304597\n"
     ]
    },
    {
     "name": "stderr",
     "output_type": "stream",
     "text": [
      "                                     \n",
      "  0%|          | 0/3 [21:23<?, ?it/s]         \n",
      " 67%|██████▋   | 2/3 [20:37<08:58, 538.28s/it]\u001b[A"
     ]
    },
    {
     "name": "stdout",
     "output_type": "stream",
     "text": [
      "Loss:0.942012\n"
     ]
    },
    {
     "name": "stderr",
     "output_type": "stream",
     "text": [
      "                                     \n",
      "  0%|          | 0/3 [21:33<?, ?it/s]         \n",
      " 67%|██████▋   | 2/3 [20:47<08:58, 538.28s/it]\u001b[A"
     ]
    },
    {
     "name": "stdout",
     "output_type": "stream",
     "text": [
      "Loss:0.797735\n"
     ]
    },
    {
     "name": "stderr",
     "output_type": "stream",
     "text": [
      "                                     \n",
      "  0%|          | 0/3 [21:43<?, ?it/s]         \n",
      " 67%|██████▋   | 2/3 [20:57<08:58, 538.28s/it]\u001b[A"
     ]
    },
    {
     "name": "stdout",
     "output_type": "stream",
     "text": [
      "Loss:0.515332\n"
     ]
    },
    {
     "name": "stderr",
     "output_type": "stream",
     "text": [
      "                                     \n",
      "  0%|          | 0/3 [21:52<?, ?it/s]         \n",
      " 67%|██████▋   | 2/3 [21:07<08:58, 538.28s/it]\u001b[A"
     ]
    },
    {
     "name": "stdout",
     "output_type": "stream",
     "text": [
      "Loss:0.404242\n"
     ]
    },
    {
     "name": "stderr",
     "output_type": "stream",
     "text": [
      "                                     \n",
      "  0%|          | 0/3 [22:02<?, ?it/s]         \n",
      " 67%|██████▋   | 2/3 [21:16<08:58, 538.28s/it]\u001b[A"
     ]
    },
    {
     "name": "stdout",
     "output_type": "stream",
     "text": [
      "Loss:0.763274\n"
     ]
    },
    {
     "name": "stderr",
     "output_type": "stream",
     "text": [
      "                                     \n",
      "  0%|          | 0/3 [22:12<?, ?it/s]         \n",
      " 67%|██████▋   | 2/3 [21:26<08:58, 538.28s/it]\u001b[A"
     ]
    },
    {
     "name": "stdout",
     "output_type": "stream",
     "text": [
      "Loss:0.802602\n"
     ]
    },
    {
     "name": "stderr",
     "output_type": "stream",
     "text": [
      "                                     \n",
      "  0%|          | 0/3 [22:22<?, ?it/s]         \n",
      " 67%|██████▋   | 2/3 [21:36<08:58, 538.28s/it]\u001b[A"
     ]
    },
    {
     "name": "stdout",
     "output_type": "stream",
     "text": [
      "Loss:0.425111\n"
     ]
    },
    {
     "name": "stderr",
     "output_type": "stream",
     "text": [
      "                                     \n",
      "  0%|          | 0/3 [22:33<?, ?it/s]         \n",
      " 67%|██████▋   | 2/3 [21:47<08:58, 538.28s/it]\u001b[A"
     ]
    },
    {
     "name": "stdout",
     "output_type": "stream",
     "text": [
      "Loss:0.593007\n"
     ]
    },
    {
     "name": "stderr",
     "output_type": "stream",
     "text": [
      "                                     \n",
      "  0%|          | 0/3 [22:43<?, ?it/s]         \n",
      " 67%|██████▋   | 2/3 [21:57<08:58, 538.28s/it]\u001b[A"
     ]
    },
    {
     "name": "stdout",
     "output_type": "stream",
     "text": [
      "Loss:0.205651\n"
     ]
    },
    {
     "name": "stderr",
     "output_type": "stream",
     "text": [
      "                                     \n",
      "  0%|          | 0/3 [22:53<?, ?it/s]         \n",
      " 67%|██████▋   | 2/3 [22:07<08:58, 538.28s/it]\u001b[A"
     ]
    },
    {
     "name": "stdout",
     "output_type": "stream",
     "text": [
      "Loss:0.052174\n"
     ]
    },
    {
     "name": "stderr",
     "output_type": "stream",
     "text": [
      "                                     \n",
      "  0%|          | 0/3 [23:03<?, ?it/s]         \n",
      " 67%|██████▋   | 2/3 [22:17<08:58, 538.28s/it]\u001b[A"
     ]
    },
    {
     "name": "stdout",
     "output_type": "stream",
     "text": [
      "Loss:0.191218\n"
     ]
    },
    {
     "name": "stderr",
     "output_type": "stream",
     "text": [
      "                                     \n",
      "  0%|          | 0/3 [23:13<?, ?it/s]         \n",
      " 67%|██████▋   | 2/3 [22:27<08:58, 538.28s/it]\u001b[A"
     ]
    },
    {
     "name": "stdout",
     "output_type": "stream",
     "text": [
      "Loss:0.248251\n"
     ]
    },
    {
     "name": "stderr",
     "output_type": "stream",
     "text": [
      "                                     \n",
      "  0%|          | 0/3 [23:23<?, ?it/s]         \n",
      " 67%|██████▋   | 2/3 [22:37<08:58, 538.28s/it]\u001b[A"
     ]
    },
    {
     "name": "stdout",
     "output_type": "stream",
     "text": [
      "Loss:0.664998\n"
     ]
    },
    {
     "name": "stderr",
     "output_type": "stream",
     "text": [
      "                                     \n",
      "  0%|          | 0/3 [23:33<?, ?it/s]         \n",
      " 67%|██████▋   | 2/3 [22:47<08:58, 538.28s/it]\u001b[A"
     ]
    },
    {
     "name": "stdout",
     "output_type": "stream",
     "text": [
      "Loss:0.791746\n"
     ]
    },
    {
     "name": "stderr",
     "output_type": "stream",
     "text": [
      "                                     \n",
      "  0%|          | 0/3 [23:43<?, ?it/s]         \n",
      " 67%|██████▋   | 2/3 [22:57<08:58, 538.28s/it]\u001b[A"
     ]
    },
    {
     "name": "stdout",
     "output_type": "stream",
     "text": [
      "Loss:0.187446\n"
     ]
    },
    {
     "name": "stderr",
     "output_type": "stream",
     "text": [
      "                                     \n",
      "  0%|          | 0/3 [23:53<?, ?it/s]         \n",
      " 67%|██████▋   | 2/3 [23:07<08:58, 538.28s/it]\u001b[A"
     ]
    },
    {
     "name": "stdout",
     "output_type": "stream",
     "text": [
      "Loss:0.260010\n"
     ]
    },
    {
     "name": "stderr",
     "output_type": "stream",
     "text": [
      "                                     \n",
      "  0%|          | 0/3 [24:03<?, ?it/s]         \n",
      " 67%|██████▋   | 2/3 [23:17<08:58, 538.28s/it]\u001b[A"
     ]
    },
    {
     "name": "stdout",
     "output_type": "stream",
     "text": [
      "Loss:0.162322\n"
     ]
    },
    {
     "name": "stderr",
     "output_type": "stream",
     "text": [
      "                                     \n",
      "  0%|          | 0/3 [24:13<?, ?it/s]         \n",
      " 67%|██████▋   | 2/3 [23:27<08:58, 538.28s/it]\u001b[A"
     ]
    },
    {
     "name": "stdout",
     "output_type": "stream",
     "text": [
      "Loss:0.341495\n"
     ]
    },
    {
     "name": "stderr",
     "output_type": "stream",
     "text": [
      "                                     \n",
      "  0%|          | 0/3 [24:23<?, ?it/s]         \n",
      " 67%|██████▋   | 2/3 [23:37<08:58, 538.28s/it]\u001b[A"
     ]
    },
    {
     "name": "stdout",
     "output_type": "stream",
     "text": [
      "Loss:0.298152\n"
     ]
    },
    {
     "name": "stderr",
     "output_type": "stream",
     "text": [
      "                                     \n",
      "  0%|          | 0/3 [24:33<?, ?it/s]         \n",
      " 67%|██████▋   | 2/3 [23:47<08:58, 538.28s/it]\u001b[A"
     ]
    },
    {
     "name": "stdout",
     "output_type": "stream",
     "text": [
      "Loss:0.233707\n"
     ]
    },
    {
     "name": "stderr",
     "output_type": "stream",
     "text": [
      "                                     \n",
      "  0%|          | 0/3 [24:43<?, ?it/s]         \n",
      " 67%|██████▋   | 2/3 [23:58<08:58, 538.28s/it]\u001b[A"
     ]
    },
    {
     "name": "stdout",
     "output_type": "stream",
     "text": [
      "Loss:0.475194\n"
     ]
    },
    {
     "name": "stderr",
     "output_type": "stream",
     "text": [
      "                                     \n",
      "  0%|          | 0/3 [24:53<?, ?it/s]         \n",
      " 67%|██████▋   | 2/3 [24:08<08:58, 538.28s/it]\u001b[A"
     ]
    },
    {
     "name": "stdout",
     "output_type": "stream",
     "text": [
      "Loss:0.208173\n"
     ]
    },
    {
     "name": "stderr",
     "output_type": "stream",
     "text": [
      "                                     \n",
      "  0%|          | 0/3 [25:03<?, ?it/s]         \n",
      " 67%|██████▋   | 2/3 [24:18<08:58, 538.28s/it]\u001b[A"
     ]
    },
    {
     "name": "stdout",
     "output_type": "stream",
     "text": [
      "Loss:0.039098\n"
     ]
    },
    {
     "name": "stderr",
     "output_type": "stream",
     "text": [
      "                                     \n",
      "  0%|          | 0/3 [25:13<?, ?it/s]         \n",
      " 67%|██████▋   | 2/3 [24:27<08:58, 538.28s/it]\u001b[A"
     ]
    },
    {
     "name": "stdout",
     "output_type": "stream",
     "text": [
      "Loss:0.052284\n"
     ]
    },
    {
     "name": "stderr",
     "output_type": "stream",
     "text": [
      "                                     \n",
      "  0%|          | 0/3 [25:23<?, ?it/s]         \n",
      " 67%|██████▋   | 2/3 [24:37<08:58, 538.28s/it]\u001b[A"
     ]
    },
    {
     "name": "stdout",
     "output_type": "stream",
     "text": [
      "Loss:0.290496\n"
     ]
    },
    {
     "name": "stderr",
     "output_type": "stream",
     "text": [
      "                                     \n",
      "  0%|          | 0/3 [25:33<?, ?it/s]         \n",
      " 67%|██████▋   | 2/3 [24:48<08:58, 538.28s/it]\u001b[A"
     ]
    },
    {
     "name": "stdout",
     "output_type": "stream",
     "text": [
      "Loss:0.234923\n"
     ]
    },
    {
     "name": "stderr",
     "output_type": "stream",
     "text": [
      "                                     \n",
      "  0%|          | 0/3 [25:43<?, ?it/s]         \n",
      " 67%|██████▋   | 2/3 [24:58<08:58, 538.28s/it]\u001b[A"
     ]
    },
    {
     "name": "stdout",
     "output_type": "stream",
     "text": [
      "Loss:0.346255\n"
     ]
    },
    {
     "name": "stderr",
     "output_type": "stream",
     "text": [
      "                                     \n",
      "  0%|          | 0/3 [25:53<?, ?it/s]         \n",
      " 67%|██████▋   | 2/3 [25:08<08:58, 538.28s/it]\u001b[A"
     ]
    },
    {
     "name": "stdout",
     "output_type": "stream",
     "text": [
      "Loss:0.188442\n"
     ]
    },
    {
     "name": "stderr",
     "output_type": "stream",
     "text": [
      "                                     \n",
      "  0%|          | 0/3 [26:03<?, ?it/s]         \n",
      " 67%|██████▋   | 2/3 [25:17<08:58, 538.28s/it]\u001b[A"
     ]
    },
    {
     "name": "stdout",
     "output_type": "stream",
     "text": [
      "Loss:0.455602\n"
     ]
    },
    {
     "name": "stderr",
     "output_type": "stream",
     "text": [
      "                                     \n",
      "  0%|          | 0/3 [26:13<?, ?it/s]         \n",
      " 67%|██████▋   | 2/3 [25:27<08:58, 538.28s/it]\u001b[A"
     ]
    },
    {
     "name": "stdout",
     "output_type": "stream",
     "text": [
      "Loss:0.609619\n"
     ]
    },
    {
     "name": "stderr",
     "output_type": "stream",
     "text": [
      "                                     \n",
      "  0%|          | 0/3 [26:23<?, ?it/s]         \n",
      " 67%|██████▋   | 2/3 [25:37<08:58, 538.28s/it]\u001b[A"
     ]
    },
    {
     "name": "stdout",
     "output_type": "stream",
     "text": [
      "Loss:0.024805\n"
     ]
    },
    {
     "name": "stderr",
     "output_type": "stream",
     "text": [
      "                                     \n",
      "  0%|          | 0/3 [26:33<?, ?it/s]         \n",
      " 67%|██████▋   | 2/3 [25:47<08:58, 538.28s/it]\u001b[A"
     ]
    },
    {
     "name": "stdout",
     "output_type": "stream",
     "text": [
      "Loss:0.795632\n"
     ]
    },
    {
     "name": "stderr",
     "output_type": "stream",
     "text": [
      "                                     \n",
      "  0%|          | 0/3 [26:43<?, ?it/s]         \n",
      " 67%|██████▋   | 2/3 [25:57<08:58, 538.28s/it]\u001b[A"
     ]
    },
    {
     "name": "stdout",
     "output_type": "stream",
     "text": [
      "Loss:0.525080\n"
     ]
    },
    {
     "name": "stderr",
     "output_type": "stream",
     "text": [
      "                                     \n",
      "  0%|          | 0/3 [26:53<?, ?it/s]         \n",
      " 67%|██████▋   | 2/3 [26:07<08:58, 538.28s/it]\u001b[A"
     ]
    },
    {
     "name": "stdout",
     "output_type": "stream",
     "text": [
      "Loss:0.258776\n"
     ]
    },
    {
     "name": "stderr",
     "output_type": "stream",
     "text": [
      "                                     \n",
      "  0%|          | 0/3 [27:04<?, ?it/s]         \n",
      " 67%|██████▋   | 2/3 [26:18<08:58, 538.28s/it]\u001b[A"
     ]
    },
    {
     "name": "stdout",
     "output_type": "stream",
     "text": [
      "Loss:0.321544\n"
     ]
    },
    {
     "name": "stderr",
     "output_type": "stream",
     "text": [
      "                                     \n",
      "  0%|          | 0/3 [27:15<?, ?it/s]         \n",
      " 67%|██████▋   | 2/3 [26:29<08:58, 538.28s/it]\u001b[A"
     ]
    },
    {
     "name": "stdout",
     "output_type": "stream",
     "text": [
      "Loss:0.084718\n"
     ]
    },
    {
     "name": "stderr",
     "output_type": "stream",
     "text": [
      "                                     \n",
      "  0%|          | 0/3 [27:26<?, ?it/s]         \n",
      " 67%|██████▋   | 2/3 [26:40<08:58, 538.28s/it]\u001b[A"
     ]
    },
    {
     "name": "stdout",
     "output_type": "stream",
     "text": [
      "Loss:0.383003\n"
     ]
    },
    {
     "name": "stderr",
     "output_type": "stream",
     "text": [
      "                                     \n",
      "  0%|          | 0/3 [27:37<?, ?it/s]         \n",
      " 67%|██████▋   | 2/3 [26:51<08:58, 538.28s/it]\u001b[A"
     ]
    },
    {
     "name": "stdout",
     "output_type": "stream",
     "text": [
      "Loss:0.203176\n"
     ]
    },
    {
     "name": "stderr",
     "output_type": "stream",
     "text": [
      "                                     \n",
      "  0%|          | 0/3 [27:49<?, ?it/s]         \n",
      " 67%|██████▋   | 2/3 [27:03<08:58, 538.28s/it]\u001b[A"
     ]
    },
    {
     "name": "stdout",
     "output_type": "stream",
     "text": [
      "Loss:0.356263\n"
     ]
    },
    {
     "name": "stderr",
     "output_type": "stream",
     "text": [
      "                                     \n",
      "  0%|          | 0/3 [28:00<?, ?it/s]         \n",
      " 67%|██████▋   | 2/3 [27:14<08:58, 538.28s/it]\u001b[A"
     ]
    },
    {
     "name": "stdout",
     "output_type": "stream",
     "text": [
      "Loss:0.088029\n"
     ]
    },
    {
     "name": "stderr",
     "output_type": "stream",
     "text": [
      "                                     \n",
      "  0%|          | 0/3 [28:11<?, ?it/s]         \n",
      " 67%|██████▋   | 2/3 [27:25<08:58, 538.28s/it]\u001b[A"
     ]
    },
    {
     "name": "stdout",
     "output_type": "stream",
     "text": [
      "Loss:0.609321\n"
     ]
    },
    {
     "name": "stderr",
     "output_type": "stream",
     "text": [
      "                                     \n",
      "  0%|          | 0/3 [28:22<?, ?it/s]         \n",
      " 67%|██████▋   | 2/3 [27:37<08:58, 538.28s/it]\u001b[A"
     ]
    },
    {
     "name": "stdout",
     "output_type": "stream",
     "text": [
      "Loss:0.233717\n"
     ]
    },
    {
     "name": "stderr",
     "output_type": "stream",
     "text": [
      "                                     \n",
      "  0%|          | 0/3 [28:34<?, ?it/s]         \n",
      " 67%|██████▋   | 2/3 [27:48<08:58, 538.28s/it]\u001b[A"
     ]
    },
    {
     "name": "stdout",
     "output_type": "stream",
     "text": [
      "Loss:0.392966\n"
     ]
    },
    {
     "name": "stderr",
     "output_type": "stream",
     "text": [
      "                                     \n",
      "  0%|          | 0/3 [28:45<?, ?it/s]         \n",
      " 67%|██████▋   | 2/3 [27:59<08:58, 538.28s/it]\u001b[A"
     ]
    },
    {
     "name": "stdout",
     "output_type": "stream",
     "text": [
      "Loss:0.239043\n"
     ]
    },
    {
     "name": "stderr",
     "output_type": "stream",
     "text": [
      "                                     \n",
      "  0%|          | 0/3 [28:56<?, ?it/s]         \n",
      " 67%|██████▋   | 2/3 [28:10<08:58, 538.28s/it]\u001b[A"
     ]
    },
    {
     "name": "stdout",
     "output_type": "stream",
     "text": [
      "Loss:0.309102\n"
     ]
    },
    {
     "name": "stderr",
     "output_type": "stream",
     "text": [
      "                                     \n",
      "  0%|          | 0/3 [29:07<?, ?it/s]         \n",
      " 67%|██████▋   | 2/3 [28:22<08:58, 538.28s/it]\u001b[A"
     ]
    },
    {
     "name": "stdout",
     "output_type": "stream",
     "text": [
      "Loss:0.033599\n"
     ]
    },
    {
     "name": "stderr",
     "output_type": "stream",
     "text": [
      "                                     \n",
      "  0%|          | 0/3 [29:19<?, ?it/s]         \n",
      " 67%|██████▋   | 2/3 [28:33<08:58, 538.28s/it]\u001b[A"
     ]
    },
    {
     "name": "stdout",
     "output_type": "stream",
     "text": [
      "Loss:0.207570\n"
     ]
    },
    {
     "name": "stderr",
     "output_type": "stream",
     "text": [
      "                                     \n",
      "  0%|          | 0/3 [29:30<?, ?it/s]         \n",
      " 67%|██████▋   | 2/3 [28:44<08:58, 538.28s/it]\u001b[A"
     ]
    },
    {
     "name": "stdout",
     "output_type": "stream",
     "text": [
      "Loss:0.566612\n"
     ]
    },
    {
     "name": "stderr",
     "output_type": "stream",
     "text": [
      "                                     \n",
      "  0%|          | 0/3 [29:41<?, ?it/s]         \n",
      " 67%|██████▋   | 2/3 [28:55<08:58, 538.28s/it]\u001b[A"
     ]
    },
    {
     "name": "stdout",
     "output_type": "stream",
     "text": [
      "Loss:0.155714\n"
     ]
    },
    {
     "name": "stderr",
     "output_type": "stream",
     "text": [
      "                                     \n",
      "  0%|          | 0/3 [29:52<?, ?it/s]         \n",
      " 67%|██████▋   | 2/3 [29:07<08:58, 538.28s/it]\u001b[A"
     ]
    },
    {
     "name": "stdout",
     "output_type": "stream",
     "text": [
      "Loss:0.355020\n"
     ]
    },
    {
     "name": "stderr",
     "output_type": "stream",
     "text": [
      "                                     \n",
      "  0%|          | 0/3 [30:03<?, ?it/s]         \n",
      " 67%|██████▋   | 2/3 [29:18<08:58, 538.28s/it]\u001b[A"
     ]
    },
    {
     "name": "stdout",
     "output_type": "stream",
     "text": [
      "Loss:0.153492\n"
     ]
    },
    {
     "name": "stderr",
     "output_type": "stream",
     "text": [
      "                                     \n",
      "  0%|          | 0/3 [30:14<?, ?it/s]         \n",
      " 67%|██████▋   | 2/3 [29:29<08:58, 538.28s/it]\u001b[A"
     ]
    },
    {
     "name": "stdout",
     "output_type": "stream",
     "text": [
      "Loss:0.195237\n"
     ]
    },
    {
     "name": "stderr",
     "output_type": "stream",
     "text": [
      "                                     \n",
      "  0%|          | 0/3 [30:25<?, ?it/s]         \n",
      " 67%|██████▋   | 2/3 [29:40<08:58, 538.28s/it]\u001b[A"
     ]
    },
    {
     "name": "stdout",
     "output_type": "stream",
     "text": [
      "Loss:0.147319\n"
     ]
    },
    {
     "name": "stderr",
     "output_type": "stream",
     "text": [
      "                                     \n",
      "  0%|          | 0/3 [30:36<?, ?it/s]         \n",
      " 67%|██████▋   | 2/3 [29:50<08:58, 538.28s/it]\u001b[A"
     ]
    },
    {
     "name": "stdout",
     "output_type": "stream",
     "text": [
      "Loss:0.551497\n"
     ]
    },
    {
     "name": "stderr",
     "output_type": "stream",
     "text": [
      "                                     \n",
      "  0%|          | 0/3 [30:47<?, ?it/s]         \n",
      " 67%|██████▋   | 2/3 [30:01<08:58, 538.28s/it]\u001b[A"
     ]
    },
    {
     "name": "stdout",
     "output_type": "stream",
     "text": [
      "Loss:0.446988\n"
     ]
    },
    {
     "name": "stderr",
     "output_type": "stream",
     "text": [
      "                                     \n",
      "  0%|          | 0/3 [30:58<?, ?it/s]         \n",
      " 67%|██████▋   | 2/3 [30:12<08:58, 538.28s/it]\u001b[A"
     ]
    },
    {
     "name": "stdout",
     "output_type": "stream",
     "text": [
      "Loss:0.392400\n"
     ]
    },
    {
     "name": "stderr",
     "output_type": "stream",
     "text": [
      "                                     \n",
      "  0%|          | 0/3 [31:08<?, ?it/s]         \n",
      " 67%|██████▋   | 2/3 [30:22<08:58, 538.28s/it]\u001b[A"
     ]
    },
    {
     "name": "stdout",
     "output_type": "stream",
     "text": [
      "Loss:0.676942\n"
     ]
    },
    {
     "name": "stderr",
     "output_type": "stream",
     "text": [
      "                                     \n",
      "  0%|          | 0/3 [31:18<?, ?it/s]         \n",
      " 67%|██████▋   | 2/3 [30:33<08:58, 538.28s/it]\u001b[A"
     ]
    },
    {
     "name": "stdout",
     "output_type": "stream",
     "text": [
      "Loss:0.447995\n"
     ]
    },
    {
     "name": "stderr",
     "output_type": "stream",
     "text": [
      "                                     \n",
      "  0%|          | 0/3 [31:29<?, ?it/s]         \n",
      " 67%|██████▋   | 2/3 [30:43<08:58, 538.28s/it]\u001b[A"
     ]
    },
    {
     "name": "stdout",
     "output_type": "stream",
     "text": [
      "Loss:0.124699\n"
     ]
    },
    {
     "name": "stderr",
     "output_type": "stream",
     "text": [
      "                                     \n",
      "  0%|          | 0/3 [31:39<?, ?it/s]         \n",
      " 67%|██████▋   | 2/3 [30:53<08:58, 538.28s/it]\u001b[A"
     ]
    },
    {
     "name": "stdout",
     "output_type": "stream",
     "text": [
      "Loss:0.044253\n"
     ]
    },
    {
     "name": "stderr",
     "output_type": "stream",
     "text": [
      "                                     \n",
      "  0%|          | 0/3 [31:49<?, ?it/s]         \n",
      " 67%|██████▋   | 2/3 [31:03<08:58, 538.28s/it]\u001b[A"
     ]
    },
    {
     "name": "stdout",
     "output_type": "stream",
     "text": [
      "Loss:0.137005\n"
     ]
    },
    {
     "name": "stderr",
     "output_type": "stream",
     "text": [
      "                                     \n",
      "  0%|          | 0/3 [31:59<?, ?it/s]         \n",
      " 67%|██████▋   | 2/3 [31:13<08:58, 538.28s/it]\u001b[A"
     ]
    },
    {
     "name": "stdout",
     "output_type": "stream",
     "text": [
      "Loss:0.384042\n"
     ]
    },
    {
     "name": "stderr",
     "output_type": "stream",
     "text": [
      "                                     \n",
      "  0%|          | 0/3 [32:09<?, ?it/s]         \n",
      " 67%|██████▋   | 2/3 [31:24<08:58, 538.28s/it]\u001b[A"
     ]
    },
    {
     "name": "stdout",
     "output_type": "stream",
     "text": [
      "Loss:0.318679\n"
     ]
    },
    {
     "name": "stderr",
     "output_type": "stream",
     "text": [
      "                                     \n",
      "  0%|          | 0/3 [32:19<?, ?it/s]         \n",
      " 67%|██████▋   | 2/3 [31:34<08:58, 538.28s/it]\u001b[A"
     ]
    },
    {
     "name": "stdout",
     "output_type": "stream",
     "text": [
      "Loss:0.152525\n"
     ]
    },
    {
     "name": "stderr",
     "output_type": "stream",
     "text": [
      "                                     \n",
      "  0%|          | 0/3 [32:30<?, ?it/s]         \n",
      " 67%|██████▋   | 2/3 [31:44<08:58, 538.28s/it]\u001b[A"
     ]
    },
    {
     "name": "stdout",
     "output_type": "stream",
     "text": [
      "Loss:0.244761\n"
     ]
    },
    {
     "name": "stderr",
     "output_type": "stream",
     "text": [
      "                                     \n",
      "  0%|          | 0/3 [32:39<?, ?it/s]         \n",
      " 67%|██████▋   | 2/3 [31:54<08:58, 538.28s/it]\u001b[A"
     ]
    },
    {
     "name": "stdout",
     "output_type": "stream",
     "text": [
      "Loss:0.476746\n"
     ]
    },
    {
     "name": "stderr",
     "output_type": "stream",
     "text": [
      "                                     \n",
      "  0%|          | 0/3 [32:49<?, ?it/s]         \n",
      " 67%|██████▋   | 2/3 [32:04<08:58, 538.28s/it]\u001b[A"
     ]
    },
    {
     "name": "stdout",
     "output_type": "stream",
     "text": [
      "Loss:0.074933\n"
     ]
    },
    {
     "name": "stderr",
     "output_type": "stream",
     "text": [
      "                                     \n",
      "  0%|          | 0/3 [32:59<?, ?it/s]         \n",
      " 67%|██████▋   | 2/3 [32:14<08:58, 538.28s/it]\u001b[A"
     ]
    },
    {
     "name": "stdout",
     "output_type": "stream",
     "text": [
      "Loss:0.304292\n"
     ]
    },
    {
     "name": "stderr",
     "output_type": "stream",
     "text": [
      "                                     \n",
      "  0%|          | 0/3 [33:09<?, ?it/s]         \n",
      " 67%|██████▋   | 2/3 [32:24<08:58, 538.28s/it]\u001b[A"
     ]
    },
    {
     "name": "stdout",
     "output_type": "stream",
     "text": [
      "Loss:0.016483\n"
     ]
    },
    {
     "name": "stderr",
     "output_type": "stream",
     "text": [
      "                                     \n",
      "  0%|          | 0/3 [33:20<?, ?it/s]         \n",
      " 67%|██████▋   | 2/3 [32:34<08:58, 538.28s/it]\u001b[A"
     ]
    },
    {
     "name": "stdout",
     "output_type": "stream",
     "text": [
      "Loss:0.385908\n"
     ]
    },
    {
     "name": "stderr",
     "output_type": "stream",
     "text": [
      "                                     \n",
      "  0%|          | 0/3 [33:31<?, ?it/s]         \n",
      " 67%|██████▋   | 2/3 [32:45<08:58, 538.28s/it]\u001b[A"
     ]
    },
    {
     "name": "stdout",
     "output_type": "stream",
     "text": [
      "Loss:0.385652\n"
     ]
    },
    {
     "name": "stderr",
     "output_type": "stream",
     "text": [
      "                                     \n",
      "  0%|          | 0/3 [33:42<?, ?it/s]         \n",
      " 67%|██████▋   | 2/3 [32:57<08:58, 538.28s/it]\u001b[A"
     ]
    },
    {
     "name": "stdout",
     "output_type": "stream",
     "text": [
      "Loss:0.106855\n"
     ]
    },
    {
     "name": "stderr",
     "output_type": "stream",
     "text": [
      "                                     \n",
      "  0%|          | 0/3 [33:53<?, ?it/s]         \n",
      " 67%|██████▋   | 2/3 [33:08<08:58, 538.28s/it]\u001b[A"
     ]
    },
    {
     "name": "stdout",
     "output_type": "stream",
     "text": [
      "Loss:0.165334\n"
     ]
    },
    {
     "name": "stderr",
     "output_type": "stream",
     "text": [
      "                                     \n",
      "  0%|          | 0/3 [34:05<?, ?it/s]         \n",
      " 67%|██████▋   | 2/3 [33:19<08:58, 538.28s/it]\u001b[A"
     ]
    },
    {
     "name": "stdout",
     "output_type": "stream",
     "text": [
      "Loss:0.280620\n"
     ]
    },
    {
     "name": "stderr",
     "output_type": "stream",
     "text": [
      "                                     \n",
      "  0%|          | 0/3 [34:16<?, ?it/s]         \n",
      " 67%|██████▋   | 2/3 [33:30<08:58, 538.28s/it]\u001b[A"
     ]
    },
    {
     "name": "stdout",
     "output_type": "stream",
     "text": [
      "Loss:0.546574\n"
     ]
    },
    {
     "name": "stderr",
     "output_type": "stream",
     "text": [
      "                                     \n",
      "  0%|          | 0/3 [34:27<?, ?it/s]         \n",
      " 67%|██████▋   | 2/3 [33:42<08:58, 538.28s/it]\u001b[A"
     ]
    },
    {
     "name": "stdout",
     "output_type": "stream",
     "text": [
      "Loss:0.524420\n"
     ]
    },
    {
     "name": "stderr",
     "output_type": "stream",
     "text": [
      "                                     \n",
      "  0%|          | 0/3 [34:39<?, ?it/s]         \n",
      " 67%|██████▋   | 2/3 [33:53<08:58, 538.28s/it]\u001b[A"
     ]
    },
    {
     "name": "stdout",
     "output_type": "stream",
     "text": [
      "Loss:0.130612\n"
     ]
    },
    {
     "name": "stderr",
     "output_type": "stream",
     "text": [
      "                                     \n",
      "  0%|          | 0/3 [34:50<?, ?it/s]         \n",
      " 67%|██████▋   | 2/3 [34:04<08:58, 538.28s/it]\u001b[A"
     ]
    },
    {
     "name": "stdout",
     "output_type": "stream",
     "text": [
      "Loss:0.045096\n"
     ]
    },
    {
     "name": "stderr",
     "output_type": "stream",
     "text": [
      "                                     \n",
      "  0%|          | 0/3 [35:01<?, ?it/s]         \n",
      " 67%|██████▋   | 2/3 [34:15<08:58, 538.28s/it]\u001b[A"
     ]
    },
    {
     "name": "stdout",
     "output_type": "stream",
     "text": [
      "Loss:0.080000\n"
     ]
    },
    {
     "name": "stderr",
     "output_type": "stream",
     "text": [
      "                                     \n",
      "  0%|          | 0/3 [35:12<?, ?it/s]         \n",
      " 67%|██████▋   | 2/3 [34:27<08:58, 538.28s/it]\u001b[A"
     ]
    },
    {
     "name": "stdout",
     "output_type": "stream",
     "text": [
      "Loss:0.660747\n"
     ]
    },
    {
     "name": "stderr",
     "output_type": "stream",
     "text": [
      "                                     \n",
      "  0%|          | 0/3 [35:24<?, ?it/s]         \n",
      " 67%|██████▋   | 2/3 [34:38<08:58, 538.28s/it]\u001b[A"
     ]
    },
    {
     "name": "stdout",
     "output_type": "stream",
     "text": [
      "Loss:0.104844\n"
     ]
    },
    {
     "name": "stderr",
     "output_type": "stream",
     "text": [
      "                                     \n",
      "  0%|          | 0/3 [35:35<?, ?it/s]         \n",
      " 67%|██████▋   | 2/3 [34:49<08:58, 538.28s/it]\u001b[A"
     ]
    },
    {
     "name": "stdout",
     "output_type": "stream",
     "text": [
      "Loss:0.044222\n"
     ]
    },
    {
     "name": "stderr",
     "output_type": "stream",
     "text": [
      "                                     \n",
      "  0%|          | 0/3 [35:46<?, ?it/s]         \n",
      " 67%|██████▋   | 2/3 [35:01<08:58, 538.28s/it]\u001b[A"
     ]
    },
    {
     "name": "stdout",
     "output_type": "stream",
     "text": [
      "Loss:0.029447\n"
     ]
    },
    {
     "name": "stderr",
     "output_type": "stream",
     "text": [
      "                                     \n",
      "  0%|          | 0/3 [35:58<?, ?it/s]         \n",
      " 67%|██████▋   | 2/3 [35:12<08:58, 538.28s/it]\u001b[A"
     ]
    },
    {
     "name": "stdout",
     "output_type": "stream",
     "text": [
      "Loss:0.209993\n"
     ]
    },
    {
     "name": "stderr",
     "output_type": "stream",
     "text": [
      "                                     \n",
      "  0%|          | 0/3 [36:09<?, ?it/s]         \n",
      " 67%|██████▋   | 2/3 [35:23<08:58, 538.28s/it]\u001b[A"
     ]
    },
    {
     "name": "stdout",
     "output_type": "stream",
     "text": [
      "Loss:0.317221\n"
     ]
    },
    {
     "name": "stderr",
     "output_type": "stream",
     "text": [
      "                                     \n",
      "  0%|          | 0/3 [36:20<?, ?it/s]         \n",
      " 67%|██████▋   | 2/3 [35:35<08:58, 538.28s/it]\u001b[A"
     ]
    },
    {
     "name": "stdout",
     "output_type": "stream",
     "text": [
      "Loss:0.413533\n"
     ]
    },
    {
     "name": "stderr",
     "output_type": "stream",
     "text": [
      "                                     \n",
      "  0%|          | 0/3 [36:32<?, ?it/s]         \n",
      " 67%|██████▋   | 2/3 [35:46<08:58, 538.28s/it]\u001b[A"
     ]
    },
    {
     "name": "stdout",
     "output_type": "stream",
     "text": [
      "Loss:0.068395\n"
     ]
    },
    {
     "name": "stderr",
     "output_type": "stream",
     "text": [
      "                                     \n",
      "  0%|          | 0/3 [36:43<?, ?it/s]         \n",
      " 67%|██████▋   | 2/3 [35:58<08:58, 538.28s/it]\u001b[A"
     ]
    },
    {
     "name": "stdout",
     "output_type": "stream",
     "text": [
      "Loss:0.511159\n"
     ]
    },
    {
     "name": "stderr",
     "output_type": "stream",
     "text": [
      "                                     \n",
      "  0%|          | 0/3 [36:55<?, ?it/s]         \n",
      " 67%|██████▋   | 2/3 [36:09<08:58, 538.28s/it]\u001b[A"
     ]
    },
    {
     "name": "stdout",
     "output_type": "stream",
     "text": [
      "Loss:0.197926\n"
     ]
    },
    {
     "name": "stderr",
     "output_type": "stream",
     "text": [
      "                                     \n",
      "  0%|          | 0/3 [37:06<?, ?it/s]         \n",
      " 67%|██████▋   | 2/3 [36:20<08:58, 538.28s/it]\u001b[A"
     ]
    },
    {
     "name": "stdout",
     "output_type": "stream",
     "text": [
      "Loss:0.332851\n"
     ]
    },
    {
     "name": "stderr",
     "output_type": "stream",
     "text": [
      "                                     \n",
      "  0%|          | 0/3 [37:17<?, ?it/s]         \n",
      " 67%|██████▋   | 2/3 [36:31<08:58, 538.28s/it]\u001b[A"
     ]
    },
    {
     "name": "stdout",
     "output_type": "stream",
     "text": [
      "Loss:0.042949\n"
     ]
    },
    {
     "name": "stderr",
     "output_type": "stream",
     "text": [
      "\n",
      "\n",
      "Evaluating:   0%|          | 0/154 [00:00<?, ?it/s]\u001b[A\u001b[A\n",
      "\n",
      "Evaluating:   1%|          | 1/154 [00:00<01:53,  1.35it/s]\u001b[A\u001b[A\n",
      "\n",
      "Evaluating:   1%|▏         | 2/154 [00:01<01:43,  1.47it/s]\u001b[A\u001b[A\n",
      "\n",
      "Evaluating:   2%|▏         | 3/154 [00:01<01:37,  1.56it/s]\u001b[A\u001b[A\n",
      "\n",
      "Evaluating:   3%|▎         | 4/154 [00:02<01:31,  1.64it/s]\u001b[A\u001b[A\n",
      "\n",
      "Evaluating:   3%|▎         | 5/154 [00:02<01:28,  1.69it/s]\u001b[A\u001b[A\n",
      "\n",
      "Evaluating:   4%|▍         | 6/154 [00:03<01:25,  1.74it/s]\u001b[A\u001b[A\n",
      "\n",
      "Evaluating:   5%|▍         | 7/154 [00:04<01:24,  1.74it/s]\u001b[A\u001b[A\n",
      "\n",
      "Evaluating:   5%|▌         | 8/154 [00:04<01:22,  1.76it/s]\u001b[A\u001b[A\n",
      "\n",
      "Evaluating:   6%|▌         | 9/154 [00:05<01:20,  1.79it/s]\u001b[A\u001b[A\n",
      "\n",
      "Evaluating:   6%|▋         | 10/154 [00:05<01:19,  1.81it/s]\u001b[A\u001b[A\n",
      "\n",
      "Evaluating:   7%|▋         | 11/154 [00:06<01:19,  1.79it/s]\u001b[A\u001b[A\n",
      "\n",
      "Evaluating:   8%|▊         | 12/154 [00:06<01:27,  1.62it/s]\u001b[A\u001b[A\n",
      "\n",
      "Evaluating:   8%|▊         | 13/154 [00:07<01:24,  1.67it/s]\u001b[A\u001b[A\n",
      "\n",
      "Evaluating:   9%|▉         | 14/154 [00:08<01:23,  1.68it/s]\u001b[A\u001b[A\n",
      "\n",
      "Evaluating:  10%|▉         | 15/154 [00:08<01:21,  1.71it/s]\u001b[A\u001b[A\n",
      "\n",
      "Evaluating:  10%|█         | 16/154 [00:09<01:18,  1.75it/s]\u001b[A\u001b[A\n",
      "\n",
      "Evaluating:  11%|█         | 17/154 [00:09<01:16,  1.78it/s]\u001b[A\u001b[A\n",
      "\n",
      "Evaluating:  12%|█▏        | 18/154 [00:10<01:16,  1.77it/s]\u001b[A\u001b[A\n",
      "\n",
      "Evaluating:  12%|█▏        | 19/154 [00:10<01:15,  1.78it/s]\u001b[A\u001b[A\n",
      "\n",
      "Evaluating:  13%|█▎        | 20/154 [00:11<01:14,  1.79it/s]\u001b[A\u001b[A\n",
      "\n",
      "Evaluating:  14%|█▎        | 21/154 [00:11<01:13,  1.81it/s]\u001b[A\u001b[A\n",
      "\n",
      "Evaluating:  14%|█▍        | 22/154 [00:12<01:12,  1.83it/s]\u001b[A\u001b[A\n",
      "\n",
      "Evaluating:  15%|█▍        | 23/154 [00:13<01:11,  1.82it/s]\u001b[A\u001b[A\n",
      "\n",
      "Evaluating:  16%|█▌        | 24/154 [00:13<01:11,  1.83it/s]\u001b[A\u001b[A\n",
      "\n",
      "Evaluating:  16%|█▌        | 25/154 [00:14<01:10,  1.84it/s]\u001b[A\u001b[A\n",
      "\n",
      "Evaluating:  17%|█▋        | 26/154 [00:14<01:09,  1.85it/s]\u001b[A\u001b[A\n",
      "\n",
      "Evaluating:  18%|█▊        | 27/154 [00:15<01:09,  1.83it/s]\u001b[A\u001b[A\n",
      "\n",
      "Evaluating:  18%|█▊        | 28/154 [00:15<01:08,  1.83it/s]\u001b[A\u001b[A\n",
      "\n",
      "Evaluating:  19%|█▉        | 29/154 [00:16<01:08,  1.83it/s]\u001b[A\u001b[A\n",
      "\n",
      "Evaluating:  19%|█▉        | 30/154 [00:16<01:08,  1.82it/s]\u001b[A\u001b[A\n",
      "\n",
      "Evaluating:  20%|██        | 31/154 [00:17<01:14,  1.64it/s]\u001b[A\u001b[A\n",
      "\n",
      "Evaluating:  21%|██        | 32/154 [00:18<01:12,  1.69it/s]\u001b[A\u001b[A\n",
      "\n",
      "Evaluating:  21%|██▏       | 33/154 [00:18<01:09,  1.74it/s]\u001b[A\u001b[A\n",
      "\n",
      "Evaluating:  22%|██▏       | 34/154 [00:19<01:07,  1.78it/s]\u001b[A\u001b[A\n",
      "\n",
      "Evaluating:  23%|██▎       | 35/154 [00:19<01:07,  1.78it/s]\u001b[A\u001b[A\n",
      "\n",
      "Evaluating:  23%|██▎       | 36/154 [00:20<01:06,  1.79it/s]\u001b[A\u001b[A\n",
      "\n",
      "Evaluating:  24%|██▍       | 37/154 [00:20<01:04,  1.81it/s]\u001b[A\u001b[A\n",
      "\n",
      "Evaluating:  25%|██▍       | 38/154 [00:21<01:04,  1.81it/s]\u001b[A\u001b[A\n",
      "\n",
      "Evaluating:  25%|██▌       | 39/154 [00:22<01:03,  1.80it/s]\u001b[A\u001b[A\n",
      "\n",
      "Evaluating:  26%|██▌       | 40/154 [00:22<01:02,  1.83it/s]\u001b[A\u001b[A\n",
      "\n",
      "Evaluating:  27%|██▋       | 41/154 [00:23<01:01,  1.83it/s]\u001b[A\u001b[A\n",
      "\n",
      "Evaluating:  27%|██▋       | 42/154 [00:23<01:00,  1.84it/s]\u001b[A\u001b[A\n",
      "\n",
      "Evaluating:  28%|██▊       | 43/154 [00:24<01:00,  1.83it/s]\u001b[A\u001b[A\n",
      "\n",
      "Evaluating:  29%|██▊       | 44/154 [00:24<01:03,  1.74it/s]\u001b[A\u001b[A\n",
      "\n",
      "Evaluating:  29%|██▉       | 45/154 [00:25<01:02,  1.74it/s]\u001b[A\u001b[A\n",
      "\n",
      "Evaluating:  30%|██▉       | 46/154 [00:25<01:01,  1.76it/s]\u001b[A\u001b[A\n",
      "\n",
      "Evaluating:  31%|███       | 47/154 [00:26<01:00,  1.78it/s]\u001b[A\u001b[A\n",
      "\n",
      "Evaluating:  31%|███       | 48/154 [00:27<00:59,  1.77it/s]\u001b[A\u001b[A\n",
      "\n",
      "Evaluating:  32%|███▏      | 49/154 [00:27<00:59,  1.77it/s]\u001b[A\u001b[A\n",
      "\n",
      "Evaluating:  32%|███▏      | 50/154 [00:28<00:58,  1.77it/s]\u001b[A\u001b[A\n",
      "\n",
      "Evaluating:  33%|███▎      | 51/154 [00:28<00:57,  1.78it/s]\u001b[A\u001b[A\n",
      "\n",
      "Evaluating:  34%|███▍      | 52/154 [00:29<00:56,  1.81it/s]\u001b[A\u001b[A\n",
      "\n",
      "Evaluating:  34%|███▍      | 53/154 [00:29<00:55,  1.82it/s]\u001b[A\u001b[A\n",
      "\n",
      "Evaluating:  35%|███▌      | 54/154 [00:30<00:54,  1.84it/s]\u001b[A\u001b[A\n",
      "\n",
      "Evaluating:  36%|███▌      | 55/154 [00:30<00:53,  1.85it/s]\u001b[A\u001b[A\n",
      "\n",
      "Evaluating:  36%|███▋      | 56/154 [00:31<00:52,  1.86it/s]\u001b[A\u001b[A\n",
      "\n",
      "Evaluating:  37%|███▋      | 57/154 [00:31<00:52,  1.85it/s]\u001b[A\u001b[A\n",
      "\n",
      "Evaluating:  38%|███▊      | 58/154 [00:32<00:52,  1.84it/s]\u001b[A\u001b[A\n",
      "\n",
      "Evaluating:  38%|███▊      | 59/154 [00:33<00:52,  1.82it/s]\u001b[A\u001b[A\n",
      "\n",
      "Evaluating:  39%|███▉      | 60/154 [00:33<00:52,  1.80it/s]\u001b[A\u001b[A\n",
      "\n",
      "Evaluating:  40%|███▉      | 61/154 [00:34<00:50,  1.82it/s]\u001b[A\u001b[A\n",
      "\n",
      "Evaluating:  40%|████      | 62/154 [00:34<00:50,  1.81it/s]\u001b[A\u001b[A\n",
      "\n",
      "Evaluating:  41%|████      | 63/154 [00:35<00:50,  1.81it/s]\u001b[A\u001b[A\n",
      "\n",
      "Evaluating:  42%|████▏     | 64/154 [00:35<00:49,  1.81it/s]\u001b[A\u001b[A\n",
      "\n",
      "Evaluating:  42%|████▏     | 65/154 [00:36<00:48,  1.83it/s]\u001b[A\u001b[A\n",
      "\n",
      "Evaluating:  43%|████▎     | 66/154 [00:36<00:47,  1.84it/s]\u001b[A\u001b[A\n",
      "\n",
      "Evaluating:  44%|████▎     | 67/154 [00:37<00:47,  1.83it/s]\u001b[A\u001b[A\n",
      "\n",
      "Evaluating:  44%|████▍     | 68/154 [00:38<00:47,  1.83it/s]\u001b[A\u001b[A\n",
      "\n",
      "Evaluating:  45%|████▍     | 69/154 [00:38<00:46,  1.82it/s]\u001b[A\u001b[A\n",
      "\n",
      "Evaluating:  45%|████▌     | 70/154 [00:39<00:45,  1.83it/s]\u001b[A\u001b[A\n",
      "\n",
      "Evaluating:  46%|████▌     | 71/154 [00:39<00:45,  1.84it/s]\u001b[A\u001b[A\n",
      "\n",
      "Evaluating:  47%|████▋     | 72/154 [00:40<00:44,  1.85it/s]\u001b[A\u001b[A\n",
      "\n",
      "Evaluating:  47%|████▋     | 73/154 [00:40<00:44,  1.83it/s]\u001b[A\u001b[A\n",
      "\n",
      "Evaluating:  48%|████▊     | 74/154 [00:41<00:43,  1.84it/s]\u001b[A\u001b[A\n",
      "\n",
      "Evaluating:  49%|████▊     | 75/154 [00:41<00:43,  1.83it/s]\u001b[A\u001b[A\n",
      "\n",
      "Evaluating:  49%|████▉     | 76/154 [00:42<00:42,  1.82it/s]\u001b[A\u001b[A\n",
      "\n",
      "Evaluating:  50%|█████     | 77/154 [00:42<00:42,  1.79it/s]\u001b[A\u001b[A\n",
      "\n",
      "Evaluating:  51%|█████     | 78/154 [00:43<00:42,  1.78it/s]\u001b[A\u001b[A\n",
      "\n",
      "Evaluating:  51%|█████▏    | 79/154 [00:44<00:41,  1.80it/s]\u001b[A\u001b[A\n",
      "\n",
      "Evaluating:  52%|█████▏    | 80/154 [00:44<00:40,  1.82it/s]\u001b[A\u001b[A\n",
      "\n",
      "Evaluating:  53%|█████▎    | 81/154 [00:45<00:39,  1.84it/s]\u001b[A\u001b[A\n",
      "\n",
      "Evaluating:  53%|█████▎    | 82/154 [00:45<00:39,  1.84it/s]\u001b[A\u001b[A\n",
      "\n",
      "Evaluating:  54%|█████▍    | 83/154 [00:46<00:39,  1.79it/s]\u001b[A\u001b[A\n",
      "\n",
      "Evaluating:  55%|█████▍    | 84/154 [00:46<00:38,  1.80it/s]\u001b[A\u001b[A\n",
      "\n",
      "Evaluating:  55%|█████▌    | 85/154 [00:47<00:38,  1.81it/s]\u001b[A\u001b[A\n",
      "\n",
      "Evaluating:  56%|█████▌    | 86/154 [00:47<00:37,  1.82it/s]\u001b[A\u001b[A\n",
      "\n",
      "Evaluating:  56%|█████▋    | 87/154 [00:48<00:36,  1.83it/s]\u001b[A\u001b[A\n",
      "\n",
      "Evaluating:  57%|█████▋    | 88/154 [00:49<00:36,  1.83it/s]\u001b[A\u001b[A\n",
      "\n",
      "Evaluating:  58%|█████▊    | 89/154 [00:49<00:35,  1.83it/s]\u001b[A\u001b[A\n",
      "\n",
      "Evaluating:  58%|█████▊    | 90/154 [00:50<00:37,  1.72it/s]\u001b[A\u001b[A\n",
      "\n",
      "Evaluating:  59%|█████▉    | 91/154 [00:50<00:35,  1.76it/s]\u001b[A\u001b[A\n",
      "\n",
      "Evaluating:  60%|█████▉    | 92/154 [00:51<00:34,  1.78it/s]\u001b[A\u001b[A\n",
      "\n",
      "Evaluating:  60%|██████    | 93/154 [00:51<00:34,  1.78it/s]\u001b[A\u001b[A\n",
      "\n",
      "Evaluating:  61%|██████    | 94/154 [00:52<00:33,  1.79it/s]\u001b[A\u001b[A\n",
      "\n",
      "Evaluating:  62%|██████▏   | 95/154 [00:52<00:32,  1.79it/s]\u001b[A\u001b[A\n",
      "\n",
      "Evaluating:  62%|██████▏   | 96/154 [00:53<00:32,  1.80it/s]\u001b[A\u001b[A\n",
      "\n",
      "Evaluating:  63%|██████▎   | 97/154 [00:54<00:31,  1.79it/s]\u001b[A\u001b[A\n",
      "\n",
      "Evaluating:  64%|██████▎   | 98/154 [00:54<00:31,  1.81it/s]\u001b[A\u001b[A\n",
      "\n",
      "Evaluating:  64%|██████▍   | 99/154 [00:55<00:30,  1.82it/s]\u001b[A\u001b[A\n",
      "\n",
      "Evaluating:  65%|██████▍   | 100/154 [00:55<00:29,  1.84it/s]\u001b[A\u001b[A\n",
      "\n",
      "Evaluating:  66%|██████▌   | 101/154 [00:56<00:28,  1.83it/s]\u001b[A\u001b[A\n",
      "\n",
      "Evaluating:  66%|██████▌   | 102/154 [00:56<00:28,  1.83it/s]\u001b[A\u001b[A\n",
      "\n",
      "Evaluating:  67%|██████▋   | 103/154 [00:57<00:27,  1.84it/s]\u001b[A\u001b[A\n",
      "\n",
      "Evaluating:  68%|██████▊   | 104/154 [00:57<00:27,  1.85it/s]\u001b[A\u001b[A\n",
      "\n",
      "Evaluating:  68%|██████▊   | 105/154 [00:58<00:26,  1.85it/s]\u001b[A\u001b[A\n",
      "\n",
      "Evaluating:  69%|██████▉   | 106/154 [00:58<00:26,  1.84it/s]\u001b[A\u001b[A\n",
      "\n",
      "Evaluating:  69%|██████▉   | 107/154 [00:59<00:25,  1.84it/s]\u001b[A\u001b[A\n",
      "\n",
      "Evaluating:  70%|███████   | 108/154 [01:00<00:24,  1.85it/s]\u001b[A\u001b[A\n",
      "\n",
      "Evaluating:  71%|███████   | 109/154 [01:00<00:24,  1.84it/s]\u001b[A\u001b[A\n",
      "\n",
      "Evaluating:  71%|███████▏  | 110/154 [01:01<00:23,  1.85it/s]\u001b[A\u001b[A\n",
      "\n",
      "Evaluating:  72%|███████▏  | 111/154 [01:01<00:23,  1.83it/s]\u001b[A\u001b[A\n",
      "\n",
      "Evaluating:  73%|███████▎  | 112/154 [01:02<00:23,  1.81it/s]\u001b[A\u001b[A\n",
      "\n",
      "Evaluating:  73%|███████▎  | 113/154 [01:02<00:22,  1.81it/s]\u001b[A\u001b[A\n",
      "\n",
      "Evaluating:  74%|███████▍  | 114/154 [01:03<00:21,  1.83it/s]\u001b[A\u001b[A\n",
      "\n",
      "Evaluating:  75%|███████▍  | 115/154 [01:03<00:21,  1.79it/s]\u001b[A\u001b[A\n",
      "\n",
      "Evaluating:  75%|███████▌  | 116/154 [01:04<00:21,  1.80it/s]\u001b[A\u001b[A\n",
      "\n",
      "Evaluating:  76%|███████▌  | 117/154 [01:05<00:20,  1.81it/s]\u001b[A\u001b[A\n",
      "\n",
      "Evaluating:  77%|███████▋  | 118/154 [01:05<00:19,  1.83it/s]\u001b[A\u001b[A\n",
      "\n",
      "Evaluating:  77%|███████▋  | 119/154 [01:06<00:18,  1.85it/s]\u001b[A\u001b[A\n",
      "\n"
     ]
    },
    {
     "name": "stderr",
     "output_type": "stream",
     "text": [
      "Evaluating:  78%|███████▊  | 120/154 [01:06<00:18,  1.84it/s]\u001b[A\u001b[A\n",
      "\n",
      "Evaluating:  79%|███████▊  | 121/154 [01:07<00:17,  1.84it/s]\u001b[A\u001b[A\n",
      "\n",
      "Evaluating:  79%|███████▉  | 122/154 [01:07<00:17,  1.83it/s]\u001b[A\u001b[A\n",
      "\n",
      "Evaluating:  80%|███████▉  | 123/154 [01:08<00:17,  1.80it/s]\u001b[A\u001b[A\n",
      "\n",
      "Evaluating:  81%|████████  | 124/154 [01:08<00:16,  1.82it/s]\u001b[A\u001b[A\n",
      "\n",
      "Evaluating:  81%|████████  | 125/154 [01:09<00:15,  1.83it/s]\u001b[A\u001b[A\n",
      "\n",
      "Evaluating:  82%|████████▏ | 126/154 [01:09<00:15,  1.79it/s]\u001b[A\u001b[A\n",
      "\n",
      "Evaluating:  82%|████████▏ | 127/154 [01:10<00:14,  1.81it/s]\u001b[A\u001b[A\n",
      "\n",
      "Evaluating:  83%|████████▎ | 128/154 [01:11<00:14,  1.81it/s]\u001b[A\u001b[A\n",
      "\n",
      "Evaluating:  84%|████████▍ | 129/154 [01:11<00:13,  1.81it/s]\u001b[A\u001b[A\n",
      "\n",
      "Evaluating:  84%|████████▍ | 130/154 [01:12<00:13,  1.82it/s]\u001b[A\u001b[A\n",
      "\n",
      "Evaluating:  85%|████████▌ | 131/154 [01:12<00:12,  1.79it/s]\u001b[A\u001b[A\n",
      "\n",
      "Evaluating:  86%|████████▌ | 132/154 [01:13<00:12,  1.79it/s]\u001b[A\u001b[A\n",
      "\n",
      "Evaluating:  86%|████████▋ | 133/154 [01:13<00:11,  1.81it/s]\u001b[A\u001b[A\n",
      "\n",
      "Evaluating:  87%|████████▋ | 134/154 [01:14<00:11,  1.81it/s]\u001b[A\u001b[A\n",
      "\n",
      "Evaluating:  88%|████████▊ | 135/154 [01:14<00:10,  1.82it/s]\u001b[A\u001b[A\n",
      "\n",
      "Evaluating:  88%|████████▊ | 136/154 [01:15<00:09,  1.80it/s]\u001b[A\u001b[A\n",
      "\n",
      "Evaluating:  89%|████████▉ | 137/154 [01:16<00:09,  1.82it/s]\u001b[A\u001b[A\n",
      "\n",
      "Evaluating:  90%|████████▉ | 138/154 [01:16<00:08,  1.82it/s]\u001b[A\u001b[A\n",
      "\n",
      "Evaluating:  90%|█████████ | 139/154 [01:17<00:08,  1.83it/s]\u001b[A\u001b[A\n",
      "\n",
      "Evaluating:  91%|█████████ | 140/154 [01:17<00:07,  1.84it/s]\u001b[A\u001b[A\n",
      "\n",
      "Evaluating:  92%|█████████▏| 141/154 [01:18<00:07,  1.83it/s]\u001b[A\u001b[A\n",
      "\n",
      "Evaluating:  92%|█████████▏| 142/154 [01:18<00:06,  1.83it/s]\u001b[A\u001b[A\n",
      "\n",
      "Evaluating:  93%|█████████▎| 143/154 [01:19<00:05,  1.84it/s]\u001b[A\u001b[A\n",
      "\n",
      "Evaluating:  94%|█████████▎| 144/154 [01:19<00:05,  1.74it/s]\u001b[A\u001b[A\n",
      "\n",
      "Evaluating:  94%|█████████▍| 145/154 [01:20<00:05,  1.77it/s]\u001b[A\u001b[A\n",
      "\n",
      "Evaluating:  95%|█████████▍| 146/154 [01:21<00:04,  1.78it/s]\u001b[A\u001b[A\n",
      "\n",
      "Evaluating:  95%|█████████▌| 147/154 [01:21<00:03,  1.80it/s]\u001b[A\u001b[A\n",
      "\n",
      "Evaluating:  96%|█████████▌| 148/154 [01:22<00:03,  1.78it/s]\u001b[A\u001b[A\n",
      "\n",
      "Evaluating:  97%|█████████▋| 149/154 [01:22<00:02,  1.79it/s]\u001b[A\u001b[A\n",
      "\n",
      "Evaluating:  97%|█████████▋| 150/154 [01:23<00:02,  1.79it/s]\u001b[A\u001b[A\n",
      "\n",
      "Evaluating:  98%|█████████▊| 151/154 [01:23<00:01,  1.80it/s]\u001b[A\u001b[A\n",
      "\n",
      "Evaluating:  99%|█████████▊| 152/154 [01:24<00:01,  1.81it/s]\u001b[A\u001b[A\n",
      "\n",
      "Evaluating:  99%|█████████▉| 153/154 [01:24<00:00,  1.82it/s]\u001b[A\u001b[A\n",
      "\n",
      "Evaluating: 100%|██████████| 154/154 [01:25<00:00,  1.81it/s]\u001b[A\u001b[A\n",
      "\n",
      "100%|██████████| 3/3 [37:57<00:00, 759.27s/it]\u001b[A\n"
     ]
    }
   ],
   "source": [
    "results = {}\n",
    "\n",
    "for model_name in tqdm(model_names):\n",
    "    \n",
    "    # preprocess\n",
    "    processor = Processor(model_name=model_name, cache_dir=CACHE_DIR)\n",
    "    ds_train = processor.preprocess(\n",
    "        df_train[TEXT_COL], labels_train, max_len=MAX_LEN\n",
    "    )\n",
    "    ds_test = processor.preprocess(df_test[TEXT_COL], None, max_len=MAX_LEN)\n",
    "\n",
    "    # fine-tune\n",
    "    classifier = SequenceClassifier(\n",
    "        model_name=model_name, num_labels=num_labels, cache_dir=CACHE_DIR\n",
    "    )\n",
    "    with Timer() as t:\n",
    "        classifier.fit(\n",
    "            ds_train,\n",
    "            device=DEVICE,\n",
    "            num_epochs=NUM_EPOCHS,\n",
    "            batch_size=BATCH_SIZE,\n",
    "            num_gpus=NUM_GPUS,\n",
    "            verbose=False,\n",
    "        )\n",
    "    train_time = t.interval / 3600\n",
    "\n",
    "    # predict\n",
    "    preds = classifier.predict(\n",
    "        ds_test, device=\"cuda\", batch_size=BATCH_SIZE, num_gpus=NUM_GPUS\n",
    "    )\n",
    "\n",
    "    # eval\n",
    "    accuracy = accuracy_score(labels_test, preds)\n",
    "    class_report = classification_report(\n",
    "        labels_test, preds, target_names=label_encoder.classes_, output_dict=True\n",
    "    )\n",
    "\n",
    "    # save results\n",
    "    results[model_name] = {\n",
    "        \"accuracy\": accuracy,\n",
    "        \"f1-score\": class_report[\"macro avg\"][\"f1-score\"],\n",
    "        \"time(hrs)\": train_time,\n",
    "    }"
   ]
  },
  {
   "cell_type": "markdown",
   "metadata": {},
   "source": [
    "## Evaluate\n",
    "\n",
    "Finally, we report the accuracy and F1-score metrics for each model, as well as the fine-tuning time in hours."
   ]
  },
  {
   "cell_type": "code",
   "execution_count": 35,
   "metadata": {},
   "outputs": [
    {
     "data": {
      "text/html": [
       "<div>\n",
       "<style scoped>\n",
       "    .dataframe tbody tr th:only-of-type {\n",
       "        vertical-align: middle;\n",
       "    }\n",
       "\n",
       "    .dataframe tbody tr th {\n",
       "        vertical-align: top;\n",
       "    }\n",
       "\n",
       "    .dataframe thead th {\n",
       "        text-align: right;\n",
       "    }\n",
       "</style>\n",
       "<table border=\"1\" class=\"dataframe\">\n",
       "  <thead>\n",
       "    <tr style=\"text-align: right;\">\n",
       "      <th></th>\n",
       "      <th>distilbert-base-uncased</th>\n",
       "      <th>roberta-base</th>\n",
       "      <th>xlnet-base-cased</th>\n",
       "    </tr>\n",
       "  </thead>\n",
       "  <tbody>\n",
       "    <tr>\n",
       "      <th>accuracy</th>\n",
       "      <td>0.901406</td>\n",
       "      <td>0.919536</td>\n",
       "      <td>0.925647</td>\n",
       "    </tr>\n",
       "    <tr>\n",
       "      <th>f1-score</th>\n",
       "      <td>0.897829</td>\n",
       "      <td>0.916793</td>\n",
       "      <td>0.923171</td>\n",
       "    </tr>\n",
       "    <tr>\n",
       "      <th>time</th>\n",
       "      <td>0.111936</td>\n",
       "      <td>0.189581</td>\n",
       "      <td>0.270957</td>\n",
       "    </tr>\n",
       "  </tbody>\n",
       "</table>\n",
       "</div>"
      ],
      "text/plain": [
       "          distilbert-base-uncased  roberta-base  xlnet-base-cased\n",
       "accuracy                 0.901406      0.919536          0.925647\n",
       "f1-score                 0.897829      0.916793          0.923171\n",
       "time                     0.111936      0.189581          0.270957"
      ]
     },
     "execution_count": 35,
     "metadata": {},
     "output_type": "execute_result"
    }
   ],
   "source": [
    "pd.DataFrame(results)"
   ]
  }
 ],
 "metadata": {
  "kernelspec": {
   "display_name": "nlp_gpu",
   "language": "python",
   "name": "nlp_gpu"
  },
  "language_info": {
   "codemirror_mode": {
    "name": "ipython",
    "version": 3
   },
   "file_extension": ".py",
   "mimetype": "text/x-python",
   "name": "python",
   "nbconvert_exporter": "python",
   "pygments_lexer": "ipython3",
   "version": "3.6.8"
  }
 },
 "nbformat": 4,
 "nbformat_minor": 2
}
