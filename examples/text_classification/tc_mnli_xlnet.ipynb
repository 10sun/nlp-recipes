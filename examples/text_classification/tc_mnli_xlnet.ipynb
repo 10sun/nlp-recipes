{
 "cells": [
  {
   "cell_type": "markdown",
   "metadata": {},
   "source": [
    "*Copyright (c) Microsoft Corporation. All rights reserved.*\n",
    "\n",
    "*Licensed under the MIT License.*\n",
    "\n",
    "# Text Classification of MultiNLI Sentences using XLNet\n",
    "**XLNet: Generalized Autoregressive Pretraining for Language Understanding** [\\[1\\]](#References)"
   ]
  },
  {
   "cell_type": "markdown",
   "metadata": {},
   "source": [
    "# Table of Contents\n",
    "1. [Introduction](#1.-Introduction)\n",
    "    * 1.1. What is XLNet?\n",
    "    * 1.2. How to use XLNet for Text Classification?\n",
    "2. [Getting Started](#2.-Getting-Started)  \n",
    "    * 2.1. Import Modules\n",
    "    * 2.2. Define Variables and Hyperparameters\n",
    "    * 2.3. Load Dataset\n",
    "3. [Preprocessing Data](#3.-Preprocessing-Data)\n",
    "    * 3.1 Splitting Data\n",
    "    * 3.2. Tokenizing and Preprocess\n",
    "4. [Model Training](#4.-Model-Training)\n",
    "    * 4.1 Create Model\n",
    "    * 4.2 Train Model\n",
    "    * 4.3 MLflow for train-validation loss plot\n",
    "5. [Evaluation](#5.-Evaluation)\n",
    "    * 5.1 Predict\n",
    "    * 5.2 Report Classification Metrics\n",
    "    * 5.3 Confusion Matrix\n",
    "6. [References](#References)"
   ]
  },
  {
   "cell_type": "markdown",
   "metadata": {},
   "source": [
    "## 1. Introduction\n",
    "------------------\n",
    "In this notebook, we fine-tune and evaluate a pretrained [XLNet](https://arxiv.org/abs/1906.08237) model on a subset of the [MultiNLI](https://www.nyu.edu/projects/bowman/multinli/) dataset.\n",
    "\n",
    "We use a [sequence classifier](../../utils_nlp/xlnet/sequence_classification.py) that wraps [Hugging Face's PyTorch implementation](https://github.com/huggingface/pytorch-transformers) of CMU and Google's [XLNet](https://github.com/zihangdai/xlnet)."
   ]
  },
  {
   "cell_type": "markdown",
   "metadata": {},
   "source": [
    "### 1.1. What is XLNet?\n",
    "\n",
    "[XLNet](https://arxiv.org/pdf/1906.08237.pdf) is a generalized autoregressive pretraining method incorporating 3 ideas:\n",
    "1. maximum expected likelihood over all permutations of the factorization order that enables learning bidirectional context  \n",
    "<img src=\"https://i.imgur.com/1xeOp4Y.png\" width=\"1000\">\n",
    "2. autoregressive formulation that overcomes the limitations of BERT [\\[2\\]](#References)  \n",
    "<img src=\"https://i.imgur.com/eQrAvVj.png\" width=\"1000\">\n",
    "3. relative positional embeddings and recurrence mechanism from Transformer XL [\\[3\\]](#References)"
   ]
  },
  {
   "cell_type": "markdown",
   "metadata": {},
   "source": [
    "### 1.2. How to use XLNet for Text Classification?\n",
    "\n",
    "Using a pre-trained XLNet model, we can fine-tune the model for text classification by training it on the MNLI dataset [\\[4\\]](#References). The Multi-Genre Natural Language Inference (MultiNLI) corpus is a crowd-sourced collection of 433k sentence pairs annotated with textual entailment information. \n",
    "\n",
    "This notebook contains an end-to-end walkthrough of a pipeline to run PyTorch-Transformer's reimplementation [\\[5\\]](#References) of the XLNet model."
   ]
  },
  {
   "cell_type": "markdown",
   "metadata": {},
   "source": [
    "## 2. Getting Started\n",
    "--------------\n",
    "In this section, we will:\n",
    "\n",
    "1. Import the modules required to run XLNet and this notebook\n",
    "2. Define and discuss variables and hyperparameters in the XLNet model\n",
    "3. Load the MNLI dataset using Pandas"
   ]
  },
  {
   "cell_type": "markdown",
   "metadata": {},
   "source": [
    "### 2.1. Import Modules\n",
    "\n",
    "Some key modules we will use include:\n",
    "\n",
    "1. utils_nlp: contains the xlnet model from Hugging Face\n",
    "2. mlflow: track, log and visualize key metrics in the machine learning process"
   ]
  },
  {
   "cell_type": "code",
   "execution_count": 1,
   "metadata": {},
   "outputs": [],
   "source": [
    "%load_ext autoreload\n",
    "%autoreload 2"
   ]
  },
  {
   "cell_type": "code",
   "execution_count": 2,
   "metadata": {},
   "outputs": [],
   "source": [
    "import sys\n",
    "sys.path.append(\"../../\")\n",
    "import os\n",
    "import numpy as np\n",
    "import pandas as pd\n",
    "import random\n",
    "import torch\n",
    "import torch.nn as nn\n",
    "from sklearn.metrics import classification_report\n",
    "from sklearn.preprocessing import LabelEncoder\n",
    "from sklearn.model_selection import train_test_split\n",
    "\n",
    "from utils_nlp.dataset.multinli import load_pandas_df\n",
    "from utils_nlp.eval.classification import eval_classification\n",
    "from utils_nlp.common.timer import Timer\n",
    "from utils_nlp.models.xlnet.common import Language, Tokenizer\n",
    "from utils_nlp.models.xlnet.sequence_classification import XLNetSequenceClassifier\n",
    "from utils_nlp.models.xlnet.utils import generate_confusion_matrix\n",
    "from utils_nlp.models.xlnet.common import log_xlnet_params\n",
    "import mlflow\n",
    "import datetime"
   ]
  },
  {
   "cell_type": "markdown",
   "metadata": {},
   "source": [
    "### 2.2. Define Variables and Hyperparameters\n",
    "\n",
    "**Global Variables:**\n",
    "- DATA_FOLDER : data downloaded to this folder \n",
    "- XLNET_CACHE_DIR : model caches information to this folder \n",
    "- LANGUAGE : which pretrained model to use \n",
    "- LABEL_COL : column of data containing label \n",
    "- TEXT_COL : column of data containing sentence \n",
    "\n",
    "**Hyperparmeters:**\n",
    "- MAX_SEQ_LENGTH : maximum sentence length to pad or truncate examples to \n",
    "- WEIGHT_DECAY : regularization on model weights \n",
    "- WARMUP_STEPS : number of steps to increase learning rate over at start of training (then decrease learning rate for duration of training) \n",
    "\n",
    "**Debug Switch:**\n",
    "- DEBUG : If True, will train and evaluate model only on a small portion of data "
   ]
  },
  {
   "cell_type": "code",
   "execution_count": 3,
   "metadata": {},
   "outputs": [],
   "source": [
    "DATA_FOLDER = \"../../../temp\"\n",
    "XLNET_CACHE_DIR=\"../../../temp\"\n",
    "LANGUAGE = Language.ENGLISHCASED\n",
    "MAX_SEQ_LENGTH = 128\n",
    "BATCH_SIZE = 32\n",
    "NUM_GPUS = 2\n",
    "NUM_EPOCHS = 1\n",
    "TRAIN_SIZE = 0.6\n",
    "VAL_SIZE = 0.1\n",
    "LABEL_COL = \"genre\"\n",
    "TEXT_COL = \"sentence1\"\n",
    "WEIGHT_DECAY = 0.0\n",
    "WARMUP_STEPS = 1000\n",
    "\n",
    "### Hyperparamters to tune\n",
    "MAX_SEQ_LENGTH = 128\n",
    "LEARNING_RATE = 5e-5\n",
    "ADAM_EPSILON = 1e-8\n",
    "\n",
    "DEBUG = False\n",
    "LOGGING_STEPS = 10\n",
    "SAVE_STEPS = 100\n",
    "VAL_STEPS = 100\n",
    "mlflow.start_run(run_name = datetime.datetime.now())\n",
    "log_xlnet_params(locals())"
   ]
  },
  {
   "cell_type": "markdown",
   "metadata": {},
   "source": [
    "### 2.3. Load Dataset\n",
    "We start by loading a subset of the data. The following function also downloads and extracts the files, if they don't exist in the data folder.\n",
    "\n",
    "The MultiNLI dataset is mainly used for natural language inference (NLI) tasks, where the inputs are sentence pairs and the labels are entailment indicators. The sentence pairs are also classified into *genres* that allow for more coverage and better evaluation of NLI models.\n",
    "\n",
    "For our classification task, we use the first sentence only as the text input, and the corresponding genre as the label. We select the examples corresponding to one of the entailment labels (*neutral* in this case) to avoid duplicate rows, as the sentences are not unique, whereas the sentence pairs are."
   ]
  },
  {
   "cell_type": "code",
   "execution_count": 4,
   "metadata": {},
   "outputs": [],
   "source": [
    "df = load_pandas_df(DATA_FOLDER, \"train\")\n",
    "df = df[df[\"gold_label\"]==\"neutral\"]  # get unique sentences\n",
    "\n",
    "if DEBUG:\n",
    "    inds = random.sample(range(len(df.index)), 1000)\n",
    "    df = df.iloc[inds]"
   ]
  },
  {
   "cell_type": "code",
   "execution_count": 5,
   "metadata": {},
   "outputs": [
    {
     "data": {
      "text/html": [
       "<div>\n",
       "<style scoped>\n",
       "    .dataframe tbody tr th:only-of-type {\n",
       "        vertical-align: middle;\n",
       "    }\n",
       "\n",
       "    .dataframe tbody tr th {\n",
       "        vertical-align: top;\n",
       "    }\n",
       "\n",
       "    .dataframe thead th {\n",
       "        text-align: right;\n",
       "    }\n",
       "</style>\n",
       "<table border=\"1\" class=\"dataframe\">\n",
       "  <thead>\n",
       "    <tr style=\"text-align: right;\">\n",
       "      <th></th>\n",
       "      <th>annotator_labels</th>\n",
       "      <th>genre</th>\n",
       "      <th>gold_label</th>\n",
       "      <th>pairID</th>\n",
       "      <th>promptID</th>\n",
       "      <th>sentence1</th>\n",
       "      <th>sentence1_binary_parse</th>\n",
       "      <th>sentence1_parse</th>\n",
       "      <th>sentence2</th>\n",
       "      <th>sentence2_binary_parse</th>\n",
       "      <th>sentence2_parse</th>\n",
       "    </tr>\n",
       "  </thead>\n",
       "  <tbody>\n",
       "    <tr>\n",
       "      <th>0</th>\n",
       "      <td>[neutral]</td>\n",
       "      <td>government</td>\n",
       "      <td>neutral</td>\n",
       "      <td>31193n</td>\n",
       "      <td>31193</td>\n",
       "      <td>Conceptually cream skimming has two basic dime...</td>\n",
       "      <td>( ( Conceptually ( cream skimming ) ) ( ( has ...</td>\n",
       "      <td>(ROOT (S (NP (JJ Conceptually) (NN cream) (NN ...</td>\n",
       "      <td>Product and geography are what make cream skim...</td>\n",
       "      <td>( ( ( Product and ) geography ) ( ( are ( what...</td>\n",
       "      <td>(ROOT (S (NP (NN Product) (CC and) (NN geograp...</td>\n",
       "    </tr>\n",
       "    <tr>\n",
       "      <th>4</th>\n",
       "      <td>[neutral]</td>\n",
       "      <td>telephone</td>\n",
       "      <td>neutral</td>\n",
       "      <td>50563n</td>\n",
       "      <td>50563</td>\n",
       "      <td>yeah i tell you what though if you go price so...</td>\n",
       "      <td>( yeah ( i ( ( tell you ) ( what ( ( though ( ...</td>\n",
       "      <td>(ROOT (S (VP (VB yeah) (S (NP (FW i)) (VP (VB ...</td>\n",
       "      <td>The tennis shoes have a range of prices.</td>\n",
       "      <td>( ( The ( tennis shoes ) ) ( ( have ( ( a rang...</td>\n",
       "      <td>(ROOT (S (NP (DT The) (NN tennis) (NNS shoes))...</td>\n",
       "    </tr>\n",
       "    <tr>\n",
       "      <th>6</th>\n",
       "      <td>[neutral]</td>\n",
       "      <td>travel</td>\n",
       "      <td>neutral</td>\n",
       "      <td>42487n</td>\n",
       "      <td>42487</td>\n",
       "      <td>But a few Christian mosaics survive above the ...</td>\n",
       "      <td>( But ( ( a ( few ( Christian mosaics ) ) ) ( ...</td>\n",
       "      <td>(ROOT (S (CC But) (NP (DT a) (JJ few) (JJ Chri...</td>\n",
       "      <td>Most of the Christian mosaics were destroyed b...</td>\n",
       "      <td>( ( Most ( of ( the ( Christian mosaics ) ) ) ...</td>\n",
       "      <td>(ROOT (S (NP (NP (JJS Most)) (PP (IN of) (NP (...</td>\n",
       "    </tr>\n",
       "    <tr>\n",
       "      <th>12</th>\n",
       "      <td>[neutral]</td>\n",
       "      <td>slate</td>\n",
       "      <td>neutral</td>\n",
       "      <td>32819n</td>\n",
       "      <td>32819</td>\n",
       "      <td>It's not that the questions they asked weren't...</td>\n",
       "      <td>( It ( ( ( ( 's not ) ( that ( ( ( the questio...</td>\n",
       "      <td>(ROOT (S (NP (PRP It)) (VP (VBZ 's) (RB not) (...</td>\n",
       "      <td>All of the questions were interesting accordin...</td>\n",
       "      <td>( ( All ( of ( the questions ) ) ) ( ( ( were ...</td>\n",
       "      <td>(ROOT (S (NP (NP (DT All)) (PP (IN of) (NP (DT...</td>\n",
       "    </tr>\n",
       "    <tr>\n",
       "      <th>13</th>\n",
       "      <td>[neutral]</td>\n",
       "      <td>travel</td>\n",
       "      <td>neutral</td>\n",
       "      <td>52772n</td>\n",
       "      <td>52772</td>\n",
       "      <td>Thebes held onto power until the 12th Dynasty,...</td>\n",
       "      <td>( Thebes ( ( ( ( ( held ( onto power ) ) ( unt...</td>\n",
       "      <td>(ROOT (S (NP (NNS Thebes)) (VP (VBD held) (PP ...</td>\n",
       "      <td>The capital near Memphis lasted only half a ce...</td>\n",
       "      <td>( ( ( The capital ) ( near Memphis ) ) ( ( ( (...</td>\n",
       "      <td>(ROOT (S (NP (NP (DT The) (NN capital)) (PP (I...</td>\n",
       "    </tr>\n",
       "  </tbody>\n",
       "</table>\n",
       "</div>"
      ],
      "text/plain": [
       "   annotator_labels       genre gold_label  pairID  promptID  \\\n",
       "0         [neutral]  government    neutral  31193n     31193   \n",
       "4         [neutral]   telephone    neutral  50563n     50563   \n",
       "6         [neutral]      travel    neutral  42487n     42487   \n",
       "12        [neutral]       slate    neutral  32819n     32819   \n",
       "13        [neutral]      travel    neutral  52772n     52772   \n",
       "\n",
       "                                            sentence1  \\\n",
       "0   Conceptually cream skimming has two basic dime...   \n",
       "4   yeah i tell you what though if you go price so...   \n",
       "6   But a few Christian mosaics survive above the ...   \n",
       "12  It's not that the questions they asked weren't...   \n",
       "13  Thebes held onto power until the 12th Dynasty,...   \n",
       "\n",
       "                               sentence1_binary_parse  \\\n",
       "0   ( ( Conceptually ( cream skimming ) ) ( ( has ...   \n",
       "4   ( yeah ( i ( ( tell you ) ( what ( ( though ( ...   \n",
       "6   ( But ( ( a ( few ( Christian mosaics ) ) ) ( ...   \n",
       "12  ( It ( ( ( ( 's not ) ( that ( ( ( the questio...   \n",
       "13  ( Thebes ( ( ( ( ( held ( onto power ) ) ( unt...   \n",
       "\n",
       "                                      sentence1_parse  \\\n",
       "0   (ROOT (S (NP (JJ Conceptually) (NN cream) (NN ...   \n",
       "4   (ROOT (S (VP (VB yeah) (S (NP (FW i)) (VP (VB ...   \n",
       "6   (ROOT (S (CC But) (NP (DT a) (JJ few) (JJ Chri...   \n",
       "12  (ROOT (S (NP (PRP It)) (VP (VBZ 's) (RB not) (...   \n",
       "13  (ROOT (S (NP (NNS Thebes)) (VP (VBD held) (PP ...   \n",
       "\n",
       "                                            sentence2  \\\n",
       "0   Product and geography are what make cream skim...   \n",
       "4            The tennis shoes have a range of prices.   \n",
       "6   Most of the Christian mosaics were destroyed b...   \n",
       "12  All of the questions were interesting accordin...   \n",
       "13  The capital near Memphis lasted only half a ce...   \n",
       "\n",
       "                               sentence2_binary_parse  \\\n",
       "0   ( ( ( Product and ) geography ) ( ( are ( what...   \n",
       "4   ( ( The ( tennis shoes ) ) ( ( have ( ( a rang...   \n",
       "6   ( ( Most ( of ( the ( Christian mosaics ) ) ) ...   \n",
       "12  ( ( All ( of ( the questions ) ) ) ( ( ( were ...   \n",
       "13  ( ( ( The capital ) ( near Memphis ) ) ( ( ( (...   \n",
       "\n",
       "                                      sentence2_parse  \n",
       "0   (ROOT (S (NP (NN Product) (CC and) (NN geograp...  \n",
       "4   (ROOT (S (NP (DT The) (NN tennis) (NNS shoes))...  \n",
       "6   (ROOT (S (NP (NP (JJS Most)) (PP (IN of) (NP (...  \n",
       "12  (ROOT (S (NP (NP (DT All)) (PP (IN of) (NP (DT...  \n",
       "13  (ROOT (S (NP (NP (DT The) (NN capital)) (PP (I...  "
      ]
     },
     "execution_count": 5,
     "metadata": {},
     "output_type": "execute_result"
    }
   ],
   "source": [
    "df.head()"
   ]
  },
  {
   "cell_type": "markdown",
   "metadata": {},
   "source": [
    "The examples in the dataset are grouped into 5 genres:"
   ]
  },
  {
   "cell_type": "code",
   "execution_count": 6,
   "metadata": {},
   "outputs": [
    {
     "data": {
      "text/plain": [
       "telephone     27783\n",
       "government    25784\n",
       "travel        25783\n",
       "fiction       25782\n",
       "slate         25768\n",
       "Name: genre, dtype: int64"
      ]
     },
     "execution_count": 6,
     "metadata": {},
     "output_type": "execute_result"
    }
   ],
   "source": [
    "df[LABEL_COL].value_counts()"
   ]
  },
  {
   "cell_type": "markdown",
   "metadata": {},
   "source": [
    "## 3. Preprocessing Data\n",
    "-------------"
   ]
  },
  {
   "cell_type": "markdown",
   "metadata": {},
   "source": [
    "### 3.1. Splitting Data\n",
    "We split the data into 3 parts with the following proportions:\n",
    "- Train Set 60%\n",
    "- Validation Set 10%\n",
    "- Test Set 30%\n",
    "\n",
    "Then we encode the class labels from categories into integers."
   ]
  },
  {
   "cell_type": "code",
   "execution_count": 7,
   "metadata": {},
   "outputs": [],
   "source": [
    "# split\n",
    "df_trainval, df_test = train_test_split(df, train_size = TRAIN_SIZE + VAL_SIZE, random_state=0)\n",
    "df_train, df_val = train_test_split(df_trainval, train_size = TRAIN_SIZE / (TRAIN_SIZE + VAL_SIZE), random_state=0)\n",
    "\n",
    "# encode labels\n",
    "label_encoder = LabelEncoder()\n",
    "labels_train = label_encoder.fit_transform(df_train[LABEL_COL])\n",
    "labels_val = label_encoder.transform(df_val[LABEL_COL])\n",
    "labels_test = label_encoder.transform(df_test[LABEL_COL])\n",
    "label_list = label_encoder.classes_\n",
    "\n",
    "num_labels = len(np.unique(labels_train))"
   ]
  },
  {
   "cell_type": "markdown",
   "metadata": {},
   "source": [
    "We check to ensure the label classes are balanced in the train and validation set."
   ]
  },
  {
   "cell_type": "code",
   "execution_count": 19,
   "metadata": {},
   "outputs": [
    {
     "data": {
      "text/plain": [
       "telephone     16586\n",
       "travel        15507\n",
       "slate         15497\n",
       "fiction       15478\n",
       "government    15472\n",
       "Name: genre, dtype: int64"
      ]
     },
     "execution_count": 19,
     "metadata": {},
     "output_type": "execute_result"
    }
   ],
   "source": [
    "df_train[LABEL_COL].value_counts()"
   ]
  },
  {
   "cell_type": "code",
   "execution_count": 20,
   "metadata": {},
   "outputs": [
    {
     "data": {
      "text/plain": [
       "telephone     8434\n",
       "travel        7734\n",
       "government    7715\n",
       "fiction       7705\n",
       "slate         7682\n",
       "Name: genre, dtype: int64"
      ]
     },
     "execution_count": 20,
     "metadata": {},
     "output_type": "execute_result"
    }
   ],
   "source": [
    "df_test[LABEL_COL].value_counts()"
   ]
  },
  {
   "cell_type": "code",
   "execution_count": 8,
   "metadata": {},
   "outputs": [
    {
     "name": "stdout",
     "output_type": "stream",
     "text": [
      "Number of unique labels: 5\n",
      "Number of training examples: 78540\n",
      "Number of testing examples: 13090\n",
      "Number of testing examples: 39270\n"
     ]
    }
   ],
   "source": [
    "print(\"Number of unique labels: {}\".format(num_labels))\n",
    "print(\"Number of training examples: {}\".format(df_train.shape[0]))\n",
    "print(\"Number of testing examples: {}\".format(df_val.shape[0]))\n",
    "print(\"Number of testing examples: {}\".format(df_test.shape[0]))"
   ]
  },
  {
   "cell_type": "markdown",
   "metadata": {},
   "source": [
    "### 3.2. Tokenize and Preprocess\n",
    "Before training, we tokenize the text documents and convert them to lists of tokens. The following steps instantiate a XLNet tokenizer given the language, and tokenize the text of the training and testing sets.\n",
    "\n",
    "We perform the following preprocessing steps in the cell below:\n",
    "- Convert the tokens into token indices corresponding to the XLNet-base tokenizer's vocabulary\n",
    "- Add the special tokens [CLS] and [SEP] to mark the end of a sentence\n",
    "- Pad or truncate the token lists to the specified max length\n",
    "- Return id lists that indicate which word the tokens map to\n",
    "- Return mask lists that indicate paddings' positions\n",
    "- Return segment type id lists that indicates which segment each the tokens belongs to\n",
    "\n",
    "**See figure below for the step-by-step tokenization process**  \n",
    "<img src=\"https://i.imgur.com/o6ewGgd.jpg\" width=\"1000\">\n",
    "\n",
    "*For more information on XLNet's input format, see pytorch-transformer [implementation](https://github.com/huggingface/pytorch-transformers/blob/master/examples/utils_glue.py)*"
   ]
  },
  {
   "cell_type": "code",
   "execution_count": 9,
   "metadata": {},
   "outputs": [],
   "source": [
    "tokenizer = Tokenizer(LANGUAGE, cache_dir=XLNET_CACHE_DIR)\n",
    "\n",
    "train_input_ids, train_input_mask, train_segment_ids = tokenizer.preprocess_classification_tokens(list(df_train[TEXT_COL]), MAX_SEQ_LENGTH)\n",
    "val_input_ids, val_input_mask, val_segment_ids = tokenizer.preprocess_classification_tokens(list(df_val[TEXT_COL]), MAX_SEQ_LENGTH)\n",
    "test_input_ids, test_input_mask, test_segment_ids = tokenizer.preprocess_classification_tokens(list(df_test[TEXT_COL]), MAX_SEQ_LENGTH)"
   ]
  },
  {
   "cell_type": "markdown",
   "metadata": {},
   "source": [
    "## 4. Model Training\n",
    "----------------------------\n",
    "### 4.1. Create model\n",
    "First, we create a sequence classifier that loads a pre-trained XLNet model, given the language and number of labels."
   ]
  },
  {
   "cell_type": "code",
   "execution_count": 10,
   "metadata": {},
   "outputs": [],
   "source": [
    "classifier = XLNetSequenceClassifier(\n",
    "    language=LANGUAGE,\n",
    "    num_labels=num_labels,\n",
    "    cache_dir=XLNET_CACHE_DIR,\n",
    "    num_gpus=NUM_GPUS,        \n",
    "    num_epochs=NUM_EPOCHS,\n",
    "    batch_size=BATCH_SIZE\n",
    ")"
   ]
  },
  {
   "cell_type": "markdown",
   "metadata": {},
   "source": [
    "### 4.2. Train Model\n",
    "\n",
    "We train the classifier using the training examples. This involves fine-tuning the XLNet Transformer and learning a linear classification layer on top of that\n",
    "\n",
    "#### 4.2.1. Machine Specifications\n",
    "\n",
    "We're using two P4000 GPUs - each with 8GB of memory - to train this model. \n",
    "\n",
    "For a combined GPU memory of 16GB and sequence length of 128 tokens, the maximum batch size we could use for training is 32. Without validation, the maximum batch size for training is 56. \n",
    "\n",
    "#### 4.2.2. Shuffling of the training set before each epoch \n",
    "\n",
    "We shuffle data in the mini-batch training before each epoch to prevent overfitting that occurs when the order of data within every epoch is the same. "
   ]
  },
  {
   "cell_type": "code",
   "execution_count": 11,
   "metadata": {},
   "outputs": [
    {
     "name": "stderr",
     "output_type": "stream",
     "text": [
      "Iteration:   0%|          | 0/2455 [00:00<?, ?it/s]/home/amgupte/.local/lib/python3.6/site-packages/torch/nn/parallel/_functions.py:61: UserWarning: Was asked to gather along dimension 0, but all input tensors were scalars; will instead unsqueeze and return a vector.\n",
      "  warnings.warn('Was asked to gather along dimension 0, but all '\n",
      "Iteration:   0%|          | 1/2455 [00:05<4:01:55,  5.91s/it]"
     ]
    },
    {
     "name": "stdout",
     "output_type": "stream",
     "text": [
      "epoch:1/1; batch:1->246/2455; average training loss:3.629739\n"
     ]
    },
    {
     "name": "stderr",
     "output_type": "stream",
     "text": [
      "Iteration:  10%|█         | 247/2455 [09:13<36:30,  1.01it/s]"
     ]
    },
    {
     "name": "stdout",
     "output_type": "stream",
     "text": [
      "epoch:1/1; batch:247->492/2455; average training loss:1.947682; average val loss:1.632548\n"
     ]
    },
    {
     "name": "stderr",
     "output_type": "stream",
     "text": [
      "Iteration:  20%|██        | 493/2455 [18:21<32:36,  1.00it/s]"
     ]
    },
    {
     "name": "stdout",
     "output_type": "stream",
     "text": [
      "epoch:1/1; batch:493->738/2455; average training loss:1.595326; average val loss:1.144689\n"
     ]
    },
    {
     "name": "stderr",
     "output_type": "stream",
     "text": [
      "Iteration:  30%|███       | 739/2455 [30:01<28:28,  1.00it/s]"
     ]
    },
    {
     "name": "stdout",
     "output_type": "stream",
     "text": [
      "epoch:1/1; batch:739->984/2455; average training loss:1.414065; average val loss:0.935260\n"
     ]
    },
    {
     "name": "stderr",
     "output_type": "stream",
     "text": [
      "Iteration:  40%|████      | 985/2455 [39:11<24:23,  1.00it/s]"
     ]
    },
    {
     "name": "stdout",
     "output_type": "stream",
     "text": [
      "epoch:1/1; batch:985->1230/2455; average training loss:1.292320; average val loss:0.818902\n"
     ]
    },
    {
     "name": "stderr",
     "output_type": "stream",
     "text": [
      "Iteration:  50%|█████     | 1231/2455 [50:53<20:20,  1.00it/s]"
     ]
    },
    {
     "name": "stdout",
     "output_type": "stream",
     "text": [
      "epoch:1/1; batch:1231->1476/2455; average training loss:1.208491; average val loss:0.732445\n"
     ]
    },
    {
     "name": "stderr",
     "output_type": "stream",
     "text": [
      "Iteration:  60%|██████    | 1477/2455 [1:00:02<16:13,  1.00it/s]"
     ]
    },
    {
     "name": "stdout",
     "output_type": "stream",
     "text": [
      "epoch:1/1; batch:1477->1722/2455; average training loss:1.138474; average val loss:0.749231\n"
     ]
    },
    {
     "name": "stderr",
     "output_type": "stream",
     "text": [
      "Iteration:  70%|███████   | 1723/2455 [1:11:43<12:15,  1.01s/it]"
     ]
    },
    {
     "name": "stdout",
     "output_type": "stream",
     "text": [
      "epoch:1/1; batch:1723->1968/2455; average training loss:1.081573; average val loss:0.722915\n"
     ]
    },
    {
     "name": "stderr",
     "output_type": "stream",
     "text": [
      "Iteration:  80%|████████  | 1969/2455 [1:20:50<08:05,  1.00it/s]"
     ]
    },
    {
     "name": "stdout",
     "output_type": "stream",
     "text": [
      "epoch:1/1; batch:1969->2214/2455; average training loss:1.035429; average val loss:0.705741\n"
     ]
    },
    {
     "name": "stderr",
     "output_type": "stream",
     "text": [
      "Iteration:  90%|█████████ | 2215/2455 [1:32:30<04:50,  1.21s/it]"
     ]
    },
    {
     "name": "stdout",
     "output_type": "stream",
     "text": [
      "epoch:1/1; batch:2215->2455/2455; average training loss:0.995111; average val loss:0.630261\n"
     ]
    },
    {
     "name": "stderr",
     "output_type": "stream",
     "text": [
      "Iteration: 100%|██████████| 2455/2455 [1:41:33<00:00,  1.11it/s]\n"
     ]
    },
    {
     "name": "stdout",
     "output_type": "stream",
     "text": [
      "[Training time: 1.695 hrs]\n"
     ]
    }
   ],
   "source": [
    "with Timer() as t:\n",
    "    classifier.fit(\n",
    "        token_ids=train_input_ids,\n",
    "        input_mask=train_input_mask,\n",
    "        token_type_ids=train_segment_ids,\n",
    "        labels=labels_train,  \n",
    "        val_token_ids=val_input_ids,\n",
    "        val_input_mask=val_input_mask,\n",
    "        val_token_type_ids=val_segment_ids,\n",
    "        val_labels=labels_val,\n",
    "        verbose=True,\n",
    "        logging_steps = LOGGING_STEPS,\n",
    "        save_steps = SAVE_STEPS,\n",
    "        val_steps = VAL_STEPS,\n",
    "    )    \n",
    "print(\"[Training time: {:.3f} hrs]\".format(t.interval / 3600))"
   ]
  },
  {
   "cell_type": "markdown",
   "metadata": {},
   "source": [
    "### 4.3. MLFlow Train-Validation Loss Plot \n",
    "\n",
    "During training, MLflow logs the loss of the training and validation batches and can automatically generate figures of the losses over time. The figure below enables us to visualize the model performance against the number of training iterations.  \n",
    "<img src=\"https://i.imgur.com/cyn7XVM.png\" width=\"1000\">"
   ]
  },
  {
   "cell_type": "markdown",
   "metadata": {},
   "source": [
    "## 5. Evaluation\n",
    "-------------------------\n",
    "### 5.1. Predict\n",
    "We score the test set using the trained classifier:"
   ]
  },
  {
   "cell_type": "code",
   "execution_count": 12,
   "metadata": {},
   "outputs": [
    {
     "name": "stderr",
     "output_type": "stream",
     "text": [
      "39296it [07:33, 98.17it/s]                           \n"
     ]
    }
   ],
   "source": [
    "preds = classifier.predict(\n",
    "    token_ids=test_input_ids,\n",
    "    input_mask=test_input_mask,\n",
    "    token_type_ids=test_segment_ids,\n",
    "    num_gpus=NUM_GPUS,\n",
    "    batch_size=BATCH_SIZE,\n",
    "    probabilities=False\n",
    ")"
   ]
  },
  {
   "cell_type": "markdown",
   "metadata": {},
   "source": [
    "### 5.2. Report Classification Metrics\n",
    "Finally, we compute the accuracy, precision, recall, and F1 metrics of the evaluation on the test set."
   ]
  },
  {
   "cell_type": "code",
   "execution_count": 13,
   "metadata": {},
   "outputs": [
    {
     "name": "stdout",
     "output_type": "stream",
     "text": [
      "              precision    recall  f1-score   support\n",
      "\n",
      "     fiction       0.82      0.90      0.86      7705\n",
      "  government       0.91      0.89      0.90      7715\n",
      "       slate       0.78      0.72      0.75      7682\n",
      "   telephone       0.99      1.00      0.99      8434\n",
      "      travel       0.90      0.90      0.90      7734\n",
      "\n",
      "    accuracy                           0.88     39270\n",
      "   macro avg       0.88      0.88      0.88     39270\n",
      "weighted avg       0.88      0.88      0.88     39270\n",
      "\n"
     ]
    }
   ],
   "source": [
    "cls_report = classification_report(labels_test, preds, target_names=label_encoder.classes_,output_dict=True)\n",
    "print(classification_report(labels_test, preds, target_names=label_encoder.classes_))\n",
    "\n",
    "cls_report_df = pd.DataFrame(cls_report)\n",
    "cls_report_df.to_csv(path_or_buf=os.path.join(os.getcwd(),\"checkpoints\",\"cls_report.csv\"))\n",
    "mlflow.log_artifact(os.path.join(os.getcwd(),\"checkpoints\",\"cls_report.csv\"))\n",
    "mlflow.end_run()"
   ]
  },
  {
   "cell_type": "markdown",
   "metadata": {},
   "source": [
    "### 5.3. Confusion Matrix\n",
    "The following confusion matrix - created using the data visualization library 'Seaborn' - allows us to easily identify which classes the model performed better or worse in. "
   ]
  },
  {
   "cell_type": "code",
   "execution_count": 14,
   "metadata": {},
   "outputs": [
    {
     "data": {
      "image/png": "[encoded data removed]",
      "text/plain": [
       "<Figure size 576x360 with 2 Axes>"
      ]
     },
     "metadata": {
      "needs_background": "light"
     },
     "output_type": "display_data"
    }
   ],
   "source": [
    "generate_confusion_matrix(labels_test,preds,label_encoder.classes_)"
   ]
  },
  {
   "cell_type": "code",
   "execution_count": 15,
   "metadata": {},
   "outputs": [],
   "source": [
    "mlflow.end_run()"
   ]
  },
  {
   "cell_type": "markdown",
   "metadata": {},
   "source": [
    "## References\n",
    "---------------\n",
    "\n",
    "1. Yang, Zhilin, Zihang Dai, Yiming Yang, Jaime Carbonell, Ruslan Salakhutdinov, and Quoc V. Le. [*XLNet: Generalized Autoregressive Pretraining for Language Understanding.*](https://arxiv.org/abs/1906.08237), 2019.\n",
    "2. Devlin, Jacob and Chang, Ming-Wei and Lee, Kenton and Toutanova, Kristina, [*BERT: Pre-training of Deep Bidirectional Transformers for Language Understanding*](https://arxiv.org/abs/1810.04805), ACL, 2018.\n",
    "3. Dai, Zihang, Zhilin Yang, Yiming Yang, William W. Cohen, Jaime Carbonell, Quoc V. Le, and Ruslan Salakhutdinov. [*Transformer-xl: Attentive language models beyond a fixed-length context.*](https://arxiv.org/pdf/1901.02860), 2019.\n",
    "4. Adina Williams, Nikita Nangia, Samuel R. Bowman. [*A Broad-Coverage Challenge Corpus for Sentence Understanding through Inference*](https://www.nyu.edu/projects/bowman/multinli/paper.pdf), 2016. Dataset available at (https://www.nyu.edu/projects/bowman/multinli/).\n",
    "5. PyTorch-Transformers: a library of state-of-the-art pre-trained models for Natural Language Processing (NLP). Repository available at (https://github.com/huggingface/pytorch-transformers)."
   ]
  }
 ],
 "metadata": {
  "kernelspec": {
   "display_name": "Python (nlp_gpu)",
   "language": "python",
   "name": "nlp_gpu"
  },
  "language_info": {
   "codemirror_mode": {
    "name": "ipython",
    "version": 3
   },
   "file_extension": ".py",
   "mimetype": "text/x-python",
   "name": "python",
   "nbconvert_exporter": "python",
   "pygments_lexer": "ipython3",
   "version": "3.6.8"
  }
 },
 "nbformat": 4,
 "nbformat_minor": 2
}
