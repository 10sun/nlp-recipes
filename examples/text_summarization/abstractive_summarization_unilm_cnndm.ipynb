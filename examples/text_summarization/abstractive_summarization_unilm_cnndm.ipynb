{
 "cells": [
  {
   "cell_type": "markdown",
   "metadata": {},
   "source": [
    "Copyright (c) Microsoft Corporation.  \n",
    "Licensed under the MIT License."
   ]
  },
  {
   "cell_type": "markdown",
   "metadata": {},
   "source": [
    "# Abstractive Summarization using UniLM on CNN/DailyMails"
   ]
  },
  {
   "cell_type": "code",
   "execution_count": null,
   "metadata": {},
   "outputs": [],
   "source": [
    "%load_ext autoreload\n",
    "%autoreload 2\n",
    "import time\n",
    "from utils_nlp.dataset.cnndm import CNNDMSummarizationDatasetOrg\n",
    "from utils_nlp.models import S2SAbsSumProcessor, S2SAbstractiveSummarizer"
   ]
  },
  {
   "cell_type": "code",
   "execution_count": null,
   "metadata": {},
   "outputs": [],
   "source": [
    "QUICK_RUN = False"
   ]
  },
  {
   "cell_type": "code",
   "execution_count": null,
   "metadata": {},
   "outputs": [],
   "source": [
    "OUTPUT_FILE = './nlp_cnndm_finetuning_results_test.txt'\n",
    "\n",
    "# model parameters\n",
    "MODEL_NAME = \"unilm-large-cased\"\n",
    "MAX_SEQ_LEN = 768\n",
    "MAX_SOURCE_SEQ_LENGTH = 640\n",
    "MAX_TARGET_SEQ_LENGTH = 128\n",
    "\n",
    "# fine-tuning parameters\n",
    "TRAIN_PER_GPU_BATCH_SIZE = 1\n",
    "GRADIENT_ACCUMULATION_STEPS = 2\n",
    "LEARNING_RATE = 3e-5\n",
    "if QUICK_RUN:\n",
    "    WARMUP_STEPS = 5\n",
    "    MAX_STEPS = 50\n",
    "else:\n",
    "    WARMUP_STEPS = 500\n",
    "    MAX_STEPS = 5000\n",
    "\n",
    "# inference parameters\n",
    "TEST_PER_GPU_BATCH_SIZE = 12\n",
    "BEAM_SIZE = 5\n",
    "FORBID_IGNORE_WORD = \".\"\n",
    "\n",
    "# mixed precision setting\n",
    "FP16 = False"
   ]
  },
  {
   "cell_type": "markdown",
   "metadata": {},
   "source": [
    "## Load the CNN/DailyMail dataset"
   ]
  },
  {
   "cell_type": "code",
   "execution_count": null,
   "metadata": {
    "scrolled": false
   },
   "outputs": [],
   "source": [
    "start = time.time()\n",
    "train_ds, test_ds = CNNDMSummarizationDatasetOrg(top_n=100)\n",
    "print(time.time() - start)"
   ]
  },
  {
   "cell_type": "code",
   "execution_count": null,
   "metadata": {},
   "outputs": [],
   "source": [
    "print(len(train_ds))\n",
    "print(len(test_ds))"
   ]
  },
  {
   "cell_type": "markdown",
   "metadata": {},
   "source": [
    "## Preprocessing"
   ]
  },
  {
   "cell_type": "code",
   "execution_count": null,
   "metadata": {},
   "outputs": [],
   "source": [
    "processor = S2SAbsSumProcessor(model_name=MODEL_NAME)"
   ]
  },
  {
   "cell_type": "code",
   "execution_count": null,
   "metadata": {},
   "outputs": [],
   "source": [
    "train_dataset = processor.train_dataset_from_sum_ds(train_ds, load_cached_features=True)\n",
    "test_dataset = processor.test_dataset_from_sum_ds(test_ds)"
   ]
  },
  {
   "cell_type": "markdown",
   "metadata": {},
   "source": [
    "## Fine tune model"
   ]
  },
  {
   "cell_type": "code",
   "execution_count": null,
   "metadata": {
    "scrolled": true
   },
   "outputs": [],
   "source": [
    "abs_summarizer = S2SAbstractiveSummarizer(\n",
    "    model_name=MODEL_NAME,\n",
    "    max_seq_len=MAX_SEQ_LEN,\n",
    "    max_source_seq_length=MAX_SOURCE_SEQ_LENGTH,\n",
    "    max_target_seq_length=MAX_TARGET_SEQ_LENGTH,\n",
    ")\n",
    "\n",
    "## To load a fine-tuned model for inference only\n",
    "# abs_summarizer = S2SAbstractiveSummarizer(\n",
    "#     model_name=MODEL_NAME,\n",
    "#     max_seq_len=MAX_SEQ_LEN,\n",
    "#     max_source_seq_length=MAX_SOURCE_SEQ_LENGTH,\n",
    "#     max_target_seq_length=MAX_TARGET_SEQ_LENGTH,\n",
    "#     load_model_from_dir=\"./\",\n",
    "#     model_file_name=\"model.5000.bin\",\n",
    "# )\n"
   ]
  },
  {
   "cell_type": "code",
   "execution_count": null,
   "metadata": {},
   "outputs": [],
   "source": [
    "abs_summarizer.fit(\n",
    "    train_dataset=train_dataset,\n",
    "    per_gpu_batch_size=TRAIN_PER_GPU_BATCH_SIZE,\n",
    "    gradient_accumulation_steps=GRADIENT_ACCUMULATION_STEPS,\n",
    "    learning_rate=LEARNING_RATE,\n",
    "    warmup_steps=WARMUP_STEPS,\n",
    "    max_steps=MAX_STEPS,\n",
    "    fp16=FP16\n",
    ")"
   ]
  },
  {
   "cell_type": "markdown",
   "metadata": {},
   "source": [
    "## Generate summaries on testing dataset"
   ]
  },
  {
   "cell_type": "code",
   "execution_count": null,
   "metadata": {},
   "outputs": [],
   "source": [
    "start = time.time()\n",
    "res = abs_summarizer.predict(\n",
    "    test_dataset=test_dataset,\n",
    "    per_gpu_batch_size=TEST_PER_GPU_BATCH_SIZE,\n",
    "    beam_size=BEAM_SIZE,\n",
    "    forbid_ignore_word=FORBID_IGNORE_WORD,\n",
    "    fp16=FP16\n",
    ")\n",
    "print(time.time() - start)"
   ]
  },
  {
   "cell_type": "code",
   "execution_count": null,
   "metadata": {},
   "outputs": [],
   "source": [
    "for r in res[:5]:\n",
    "    print(r)"
   ]
  },
  {
   "cell_type": "code",
   "execution_count": null,
   "metadata": {},
   "outputs": [],
   "source": [
    "with open(OUTPUT_FILE, 'w') as f:\n",
    "    for line in res:\n",
    "        f.write(line + '\\n')"
   ]
  }
 ],
 "metadata": {
  "kernelspec": {
   "display_name": "nlp_gpu",
   "language": "python",
   "name": "nlp_gpu"
  },
  "language_info": {
   "codemirror_mode": {
    "name": "ipython",
    "version": 3
   },
   "file_extension": ".py",
   "mimetype": "text/x-python",
   "name": "python",
   "nbconvert_exporter": "python",
   "pygments_lexer": "ipython3",
   "version": "3.6.8"
  }
 },
 "nbformat": 4,
 "nbformat_minor": 2
}
