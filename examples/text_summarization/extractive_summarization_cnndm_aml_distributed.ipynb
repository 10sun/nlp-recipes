{
 "cells": [
  {
   "cell_type": "markdown",
   "metadata": {},
   "source": [
    "Copyright (c) Microsoft Corporation. All rights reserved.\n",
    "\n",
    "Licensed under the MIT License"
   ]
  },
  {
   "cell_type": "markdown",
   "metadata": {},
   "source": [
    "# Distributed Training For Extractive Summarization on CNN/DM Dataset\n",
    "\n",
    "## Summary\n",
    "This notebook demonstrates how to use Azure Machine Learning to run distributed training using Distributed Data Parallel in Pytorch for extractive summarization. For more detailed model related information, please see [extractive_summarization_cnndm_transformer.ipynb](extractive_summarization_cnndm_transformer.ipynb)\n",
    "\n",
    "## Prerequisites\n",
    "If you are using an Azure Machine Learning Notebook VM, you are all set. Otherwise, refer to the [Configuration Notebook](https://github.com/Azure/MachineLearningNotebooks/blob/master/configuration.ipynb) first if you haven't already to establish your connection to the AzureML Workspace. Prerequisites are:\n",
    "\n",
    "- Azure subscription\n",
    "- Azure Machine Learning Workspace\n",
    "- Azure Machine Learning SDK\n",
    "\n",
    "To run rouge evaluation, please refer to the section of compute_rouge_perl in [summarization_evaluation.ipynb](summarization_evaluation.ipynb). "
   ]
  },
  {
   "cell_type": "markdown",
   "metadata": {},
   "source": [
    "## Import Libraries"
   ]
  },
  {
   "cell_type": "code",
   "execution_count": 2,
   "metadata": {},
   "outputs": [],
   "source": [
    "%load_ext autoreload"
   ]
  },
  {
   "cell_type": "code",
   "execution_count": 3,
   "metadata": {},
   "outputs": [],
   "source": [
    "%autoreload 2"
   ]
  },
  {
   "cell_type": "code",
   "execution_count": null,
   "metadata": {},
   "outputs": [],
   "source": [
    "import os\n",
    "import sys\n",
    "from tempfile import TemporaryDirectory\n",
    "import torch\n",
    "\n",
    "import azureml.core\n",
    "from azureml.core import Experiment, Workspace, Run\n",
    "from azureml.core.compute import ComputeTarget, AmlCompute\n",
    "from azureml.core.compute_target import ComputeTargetException\n",
    "from azureml.train.dnn import PyTorch\n",
    "from azureml.train.dnn import Nccl\n",
    "from azureml.widgets import RunDetails\n",
    "\n",
    "nlp_path = os.path.abspath(\"../../\")\n",
    "if nlp_path not in sys.path:\n",
    "    sys.path.insert(0, nlp_path)\n",
    "from utils_nlp.azureml.azureml_utils import get_or_create_workspace\n",
    "from utils_nlp.dataset.cnndm import CNNDMBertSumProcessedData, CNNDMSummarizationDataset\n",
    "\n",
    "# Check core SDK version number\n",
    "print(\"SDK version:\", azureml.core.VERSION)"
   ]
  },
  {
   "cell_type": "markdown",
   "metadata": {},
   "source": [
    "## Configuration "
   ]
  },
  {
   "cell_type": "code",
   "execution_count": 6,
   "metadata": {},
   "outputs": [],
   "source": [
    "# for Azure ML Workspacen\n",
    "SUBSRIPTION_ID = \"YOUR_SUBSCRIPTION_ID\"\n",
    "LOCATION = \"YOUR_RESOURCE_GROUP_NAME\"  # example \"eastus2\"\n",
    "RESOURCE_GROUP = \"YOUR_WORKSPACE_NAME\"  # modifiy to use your own\n",
    "WORKSPACE_NAME = \"YOUR_WORKSPACE_REGION\"  # modifiy to use your own\n",
    "\n",
    "\n",
    "# for Azure ML Workspacen\n",
    "SUBSRIPTION_ID = \"9086b59a-02d7-4687-b3fd-e39fa5e0fd9b\"\n",
    "LOCATION = \"eastus2\"\n",
    "RESOURCE_GROUP = \"daden1aml\"  # modifiy to use your own\n",
    "WORKSPACE_NAME = \"daden1amlws\"  # modifiy to use your own\n",
    "\n",
    "\n",
    "# for creating Azure ML Compute Cluster\n",
    "AMLCOMPUTE_CLUSTER_NAME = \"extsum5\"  # modifiy to use your own\n",
    "NODE_COUNT = 4\n",
    "VM_SIZE = \"STANDARD_NC6\"  # this should be the VM that's supported by Azure and Azure ML\n",
    "\n",
    "\n",
    "# for creating Azure ML Experiment\n",
    "EXPERIMENT_NAME = \"NLP-ExtSum\"  # modifiy to use your own\n",
    "\n",
    "\n",
    "# local folder to save the downloaded data\n",
    "LOCAL_DATA_FOLDER = (\n",
    "    \"./bertsumdata/\"\n",
    ")  # modify to use your own, the penultimate level folder should exist\n",
    "\n",
    "# Training related parameter\n",
    "MODEL_NAME = \"distilbert-base-uncased\"  # limited choice\n",
    "ENCODER = \"transformer\"\n",
    "# folder in the workspace where the data is uploaded to\n",
    "TARGET_DATA_FOLDER = \"/bertsum_processed_data\"  # modify to use your own\n",
    "TARGET_OUTPUT_DIR = f\"output/{EXPERIMENT_NAME}/\"\n",
    "# cache dir in the workspace\n",
    "TARGET_CACHE_DIR = f\"cache/{EXPERIMENT_NAME}/\"\n",
    "# file name for saving the prediction\n",
    "SUMMARY_FILENAME = \"generated_summaries.txt\"\n",
    "# file name for saving the trained model\n",
    "MODEL_FILENAME = \"dist_extsum.pt\"\n",
    "\n",
    "\n",
    "# local path to download the output from the cluster\n",
    "LOCAL_OUTPUT_DIR = \"./output\"  # modifiy to use your own, the penultimate level folder\n",
    "\n",
    "\n",
    "# local folder to store all the related files to be copied to the workspace\n",
    "PROJECT_FOLDER = \"./azureml_exp\"\n",
    "# conda environment name, the yaml file will be copied to the workspace\n",
    "CONDA_ENV_NAME = \"nlp_gpu\""
   ]
  },
  {
   "cell_type": "markdown",
   "metadata": {},
   "source": [
    "## Create an AML Workspace"
   ]
  },
  {
   "cell_type": "code",
   "execution_count": 7,
   "metadata": {},
   "outputs": [],
   "source": [
    "# Create the workspace using the specified parameters\n",
    "ws = get_or_create_workspace(\n",
    "    workspace_name=WORKSPACE_NAME,\n",
    "    subscription_id=SUBSRIPTION_ID,\n",
    "    resource_group=RESOURCE_GROUP,\n",
    "    workspace_region=LOCATION,\n",
    ")"
   ]
  },
  {
   "cell_type": "code",
   "execution_count": null,
   "metadata": {},
   "outputs": [],
   "source": [
    "print(\n",
    "    \"Workspace name: \" + ws.name,\n",
    "    \"Azure region: \" + ws.location,\n",
    "    \"Subscription id: \" + ws.subscription_id,\n",
    "    \"Resource group: \" + ws.resource_group,\n",
    "    sep=\"\\n\",\n",
    ")"
   ]
  },
  {
   "cell_type": "markdown",
   "metadata": {},
   "source": [
    "## Create an AML GPU Compute Cluster"
   ]
  },
  {
   "cell_type": "code",
   "execution_count": 8,
   "metadata": {},
   "outputs": [
    {
     "name": "stdout",
     "output_type": "stream",
     "text": [
      "Found existing compute target.\n",
      "{'currentNodeCount': 0, 'targetNodeCount': 0, 'nodeStateCounts': {'preparingNodeCount': 0, 'runningNodeCount': 0, 'idleNodeCount': 0, 'unusableNodeCount': 0, 'leavingNodeCount': 0, 'preemptedNodeCount': 0}, 'allocationState': 'Steady', 'allocationStateTransitionTime': '2020-01-30T22:43:39.856000+00:00', 'errors': None, 'creationTime': '2020-01-23T04:50:26.160743+00:00', 'modifiedTime': '2020-01-23T20:31:35.349184+00:00', 'provisioningState': 'Succeeded', 'provisioningStateTransitionTime': None, 'scaleSettings': {'minNodeCount': 0, 'maxNodeCount': 4, 'nodeIdleTimeBeforeScaleDown': 'PT1200S'}, 'vmPriority': 'Dedicated', 'vmSize': 'STANDARD_NC6'}\n"
     ]
    }
   ],
   "source": [
    "try:\n",
    "    gpu_compute_target = ComputeTarget(workspace=ws, name=AMLCOMPUTE_CLUSTER_NAME)\n",
    "    print(\"Found existing compute target.\")\n",
    "except ComputeTargetException:\n",
    "    print(\"Creating a new compute target...\")\n",
    "    compute_config = AmlCompute.provisioning_configuration(\n",
    "        vm_size=VM_SIZE, max_nodes=NODE_COUNT, NodeIdleTimeBeforeScaleDown=\"PT1200S\"\n",
    "    )\n",
    "\n",
    "    # create the cluster\n",
    "    gpu_compute_target = ComputeTarget.create(\n",
    "        ws, AMLCOMPUTE_CLUSTER_NAME, compute_config\n",
    "    )\n",
    "\n",
    "    gpu_compute_target.wait_for_completion(show_output=True)\n",
    "\n",
    "# use get_status() to get a detailed status for the current AmlCompute.\n",
    "print(gpu_compute_target.get_status().serialize())"
   ]
  },
  {
   "cell_type": "markdown",
   "metadata": {},
   "source": [
    "## Create an Experiment"
   ]
  },
  {
   "cell_type": "code",
   "execution_count": 11,
   "metadata": {},
   "outputs": [],
   "source": [
    "experiment = Experiment(ws, name=EXPERIMENT_NAME)"
   ]
  },
  {
   "cell_type": "markdown",
   "metadata": {},
   "source": [
    "## Download Dataset to Local File System"
   ]
  },
  {
   "cell_type": "code",
   "execution_count": 12,
   "metadata": {},
   "outputs": [],
   "source": [
    "!mkdir -p {LOCAL_DATA_FOLDER}"
   ]
  },
  {
   "cell_type": "code",
   "execution_count": 13,
   "metadata": {},
   "outputs": [
    {
     "name": "stderr",
     "output_type": "stream",
     "text": [
      "bertsum_data.zip: 869MB [00:29, 29.7MB/s] \n"
     ]
    },
    {
     "data": {
      "text/plain": [
       "'./bertsumdata/'"
      ]
     },
     "execution_count": 13,
     "metadata": {},
     "output_type": "execute_result"
    }
   ],
   "source": [
    "CNNDMBertSumProcessedData.download(local_path=LOCAL_DATA_FOLDER)"
   ]
  },
  {
   "cell_type": "markdown",
   "metadata": {},
   "source": [
    "## Upload the Downloaded Dataset to AML Workspace"
   ]
  },
  {
   "cell_type": "code",
   "execution_count": 14,
   "metadata": {},
   "outputs": [],
   "source": [
    "ds = ws.get_default_datastore()"
   ]
  },
  {
   "cell_type": "code",
   "execution_count": 16,
   "metadata": {},
   "outputs": [],
   "source": [
    "ds.upload(src_dir=LOCAL_DATA_FOLDER, target_path=TARGET_DATA_FOLDER)"
   ]
  },
  {
   "cell_type": "markdown",
   "metadata": {},
   "source": [
    "## Prepare for the Experiment Run\n",
    "Prepare the local project folder which is mirror to the workspace for the experiment"
   ]
  },
  {
   "cell_type": "code",
   "execution_count": 16,
   "metadata": {},
   "outputs": [
    {
     "name": "stdout",
     "output_type": "stream",
     "text": [
      "Generated conda file: nlp_gpu.yaml\r\n",
      "\r\n",
      "To create the conda environment:\r\n",
      "$ conda env create -f nlp_gpu.yaml\r\n",
      "\r\n",
      "To update the conda environment:\r\n",
      "$ conda env update -f nlp_gpu.yaml\r\n",
      "\r\n",
      "To register the conda environment in Jupyter:\r\n",
      "$ conda activate nlp_gpu\r\n",
      "$ python -m ipykernel install --user --name nlp_gpu --display-name \"Python (nlp_gpu)\"\r\n",
      "\r\n"
     ]
    }
   ],
   "source": [
    "ENTRY_SCRIPT = \"extractive_summarization_cnndm_distributed_train.py\"\n",
    "!mkdir -p {PROJECT_FOLDER}\n",
    "!python ../../tools/generate_conda_file.py --gpu --name {CONDA_ENV_NAME}\n",
    "!cp ./nlp_gpu.yaml {PROJECT_FOLDER}\n",
    "!cp {ENTRY_SCRIPT} {PROJECT_FOLDER}\n",
    "!cp -r ../../utils_nlp {PROJECT_FOLDER}"
   ]
  },
  {
   "cell_type": "markdown",
   "metadata": {},
   "source": [
    "## Submit Run"
   ]
  },
  {
   "cell_type": "code",
   "execution_count": 17,
   "metadata": {},
   "outputs": [],
   "source": [
    "os.makedirs(LOCAL_OUTPUT_DIR, exist_ok=True)\n",
    "os.makedirs(os.path.join(LOCAL_OUTPUT_DIR, EXPERIMENT_NAME), exist_ok=True)"
   ]
  },
  {
   "cell_type": "code",
   "execution_count": 22,
   "metadata": {},
   "outputs": [
    {
     "name": "stderr",
     "output_type": "stream",
     "text": [
      "WARNING:azureml.train.estimator._framework_base_estimator:If environment_definition or conda_dependencies_file is specified, Azure ML will not install any framework related packages on behalf of the user.\n",
      "WARNING:azureml.train.estimator._framework_base_estimator:framework_version is not specified, defaulting to version 1.3.\n"
     ]
    }
   ],
   "source": [
    "NcclConfig=Nccl()\n",
    "estimator = PyTorch(source_directory=PROJECT_FOLDER,\n",
    "                    compute_target=gpu_compute_target,\n",
    "                    script_params={\n",
    "                        \"--dist_url\": \"$AZ_BATCHAI_PYTORCH_INIT_METHOD\",\n",
    "                        \"--rank\": \"$AZ_BATCHAI_TASK_INDEX\",\n",
    "                        \"--node_count\": NODE_COUNT,\n",
    "                        \"--data_dir\":ds.path(f'{TARGET_DATA_FOLDER}').as_mount(),\n",
    "                        \"--cache_dir\": ds.path(f'{TARGET_CACHE_DIR}').as_mount(),\n",
    "                        '--output_dir':ds.path(f'{TARGET_OUTPUT_DIR}').as_mount(),\n",
    "                        \"--quick_run\": 'true',\n",
    "                        \"--summary_filename\": f'{SUMMARY_FILENAME}',\n",
    "                        \"--model_filename\": f'{MODEL_FILENAME}',\n",
    "                        \"--model_name\": MODEL_NAME,\n",
    "                        \"--encoder\": ENCODER\n",
    "                    },\n",
    "                    entry_script= ENTRY_SCRIPT,\n",
    "                    node_count=NODE_COUNT,\n",
    "                    distributed_training=NcclConfig,\n",
    "                    conda_dependencies_file=f'{CONDA_ENV_NAME}.yaml',\n",
    "                    use_gpu=True)"
   ]
  },
  {
   "cell_type": "code",
   "execution_count": 23,
   "metadata": {},
   "outputs": [],
   "source": [
    "run = experiment.submit(estimator)"
   ]
  },
  {
   "cell_type": "code",
   "execution_count": 24,
   "metadata": {
    "scrolled": true
   },
   "outputs": [
    {
     "data": {
      "application/vnd.jupyter.widget-view+json": {
       "model_id": "97f3678284a44f7aab5c27fa3e19bb11",
       "version_major": 2,
       "version_minor": 0
      },
      "text/plain": [
       "_UserRunWidget(widget_settings={'childWidgetDisplay': 'popup', 'send_telemetry': False, 'log_level': 'INFO', '…"
      ]
     },
     "metadata": {},
     "output_type": "display_data"
    }
   ],
   "source": [
    "RunDetails(run).show()"
   ]
  },
  {
   "cell_type": "code",
   "execution_count": null,
   "metadata": {},
   "outputs": [],
   "source": [
    "\"\"\"\n",
    "If you stop the notebook and come back, \n",
    "you'll need to use the run_id in the output of the previous cell \n",
    "to get run details.\n",
    "\"\"\"\n",
    "# fetched_run = Run(experiment, \"NLP-ExtSum_1579816237_ea238f69\")\n",
    "# RunDetails(fetched_run).show()"
   ]
  },
  {
   "cell_type": "markdown",
   "metadata": {},
   "source": [
    "## Download Generated Summaries "
   ]
  },
  {
   "cell_type": "code",
   "execution_count": 25,
   "metadata": {},
   "outputs": [],
   "source": [
    "# need to clear the local output dir as the ds.download won't download if the path exists\n",
    "!rm -rf {LOCAL_OUTPUT_DIR}/* "
   ]
  },
  {
   "cell_type": "code",
   "execution_count": 26,
   "metadata": {},
   "outputs": [
    {
     "name": "stdout",
     "output_type": "stream",
     "text": [
      "Downloading output/NLP-ExtSum/generated_summaries.txt\n",
      "Downloaded output/NLP-ExtSum/generated_summaries.txt, 1 files out of an estimated total of 1\n"
     ]
    },
    {
     "data": {
      "text/plain": [
       "1"
      ]
     },
     "execution_count": 26,
     "metadata": {},
     "output_type": "execute_result"
    }
   ],
   "source": [
    "ds.download(target_path=LOCAL_OUTPUT_DIR,\n",
    "                   prefix=f'{TARGET_OUTPUT_DIR}{SUMMARY_FILENAME}',\n",
    "                   show_progress=True)"
   ]
  },
  {
   "cell_type": "markdown",
   "metadata": {},
   "source": [
    "## Evaluation"
   ]
  },
  {
   "cell_type": "code",
   "execution_count": 27,
   "metadata": {},
   "outputs": [],
   "source": [
    "from utils_nlp.eval.evaluate_summarization import get_rouge\n",
    "from utils_nlp.models.transformers.extractive_summarization import ExtSumProcessedData\n",
    "import pickle\n",
    "from utils_nlp.models.transformers.extractive_summarization import ExtractiveSummarizer"
   ]
  },
  {
   "cell_type": "code",
   "execution_count": 28,
   "metadata": {},
   "outputs": [],
   "source": [
    "train_dataset, test_dataset = ExtSumProcessedData().splits(root=LOCAL_DATA_FOLDER)"
   ]
  },
  {
   "cell_type": "code",
   "execution_count": 29,
   "metadata": {},
   "outputs": [],
   "source": [
    "target = [i['tgt_txt'] for i in test_dataset]"
   ]
  },
  {
   "cell_type": "code",
   "execution_count": 30,
   "metadata": {},
   "outputs": [],
   "source": [
    "prediction = []\n",
    "with open(os.path.join(LOCAL_OUTPUT_DIR, f'{TARGET_OUTPUT_DIR}{SUMMARY_FILENAME}'), \"r\") as filehandle:\n",
    "    for cnt, line in enumerate(filehandle):\n",
    "        prediction.append(line[0:-1]) # remove the ending \"\\n\""
   ]
  },
  {
   "cell_type": "code",
   "execution_count": 36,
   "metadata": {},
   "outputs": [
    {
     "name": "stdout",
     "output_type": "stream",
     "text": [
      "Downloading output/NLP-ExtSum/dist_extsum.pt\n",
      "Downloaded output/NLP-ExtSum/dist_extsum.pt, 1 files out of an estimated total of 1\n"
     ]
    },
    {
     "name": "stderr",
     "output_type": "stream",
     "text": [
      "100%|██████████| 546/546 [00:00<00:00, 306489.56B/s]\n",
      "100%|██████████| 267967963/267967963 [00:04<00:00, 63548158.24B/s]\n",
      "Scoring: 100%|██████████| 90/90 [00:41<00:00,  3.68it/s]\n"
     ]
    }
   ],
   "source": [
    "## you can also download the saved model and run prediction if you are running the notebook on a gpu machine\n",
    "#\"\"\"\n",
    "ds.download(target_path=LOCAL_OUTPUT_DIR,\n",
    "               prefix=f'{TARGET_OUTPUT_DIR}{MODEL_FILENAME}',\n",
    "               show_progress=True)\n",
    "summarizer = ExtractiveSummarizer(MODEL_NAME, ENCODER, LOCAL_OUTPUT_DIR)\n",
    "summarizer.model.load_state_dict(\n",
    "    torch.load(os.path.join(LOCAL_OUTPUT_DIR, f'{TARGET_OUTPUT_DIR}{MODEL_FILENAME}'))\n",
    ")\n",
    "prediction = summarizer.predict(test_dataset, num_gpus=torch.cuda.device_count(), batch_size=128)\n",
    "#\"\"\""
   ]
  },
  {
   "cell_type": "code",
   "execution_count": 31,
   "metadata": {},
   "outputs": [
    {
     "data": {
      "text/plain": [
       "['a university of iowa student has died nearly three months after a fall in rome in a suspected robbery attack in rome .',\n",
       " 'andrew mogni , 20 , from glen ellyn , illinois , had only just arrived for a semester program in italy when the incident happened in january .',\n",
       " 'he was flown back to chicago via air ambulance on march 20 , but he died on sunday .',\n",
       " 'andrew mogni , 20 , from glen ellyn , illinois , a university of iowa student has died nearly three months after a fall in rome in a suspected robbery',\n",
       " 'he was taken to a medical facility in the chicago area , close to his family home in glen ellyn .',\n",
       " \"he died on sunday at northwestern memorial hospital - medical examiner 's office spokesman frank shuftan says a cause of death wo n't be released until monday at the earliest .\",\n",
       " 'initial police reports indicated the fall was an accident but authorities are investigating the possibility that mogni was robbed .',\n",
       " \"on sunday , his cousin abby wrote online : ` this morning my cousin andrew 's soul was lifted up to heaven .\",\n",
       " 'initial police reports indicated the fall was an accident but authorities are investigating the possibility that mogni was robbed',\n",
       " '` at the beginning of january he went to rome to study aboard and on the way home from a party he was brutally attacked and thrown off a 40ft bridge and hit the concrete below .',\n",
       " \"` he was in a coma and in critical condition for months . '\",\n",
       " 'paula barnett , who said she is a close family friend , told my suburban life , that mogni had only been in the country for six hours when the incident happened .',\n",
       " 'she said he was was alone at the time of the alleged assault and personal items were stolen .',\n",
       " 'she added that he was in a non-medically induced coma , having suffered serious infection and internal bleeding .',\n",
       " 'mogni was a third-year finance major from glen ellyn , ill. , who was participating in a semester-long program at john cabot university .',\n",
       " \"mogni belonged to the school 's chapter of the sigma nu fraternity , reports the chicago tribune who posted a sign outside a building reading ` pray for mogni . '\",\n",
       " \"the fraternity 's iowa chapter announced sunday afternoon via twitter that a memorial service will be held on campus to remember mogni .\"]"
      ]
     },
     "execution_count": 31,
     "metadata": {},
     "output_type": "execute_result"
    }
   ],
   "source": [
    "test_dataset[0]['src_txt']"
   ]
  },
  {
   "cell_type": "code",
   "execution_count": 32,
   "metadata": {},
   "outputs": [
    {
     "data": {
      "text/plain": [
       "'he was flown back to chicago via air ambulance on march 20 , but he died on sunday .<q>andrew mogni , 20 , from glen ellyn , illinois , had only just arrived for a semester program in italy when the incident happened in january .<q>a university of iowa student has died nearly three months after a fall in rome in a suspected robbery attack in rome .'"
      ]
     },
     "execution_count": 32,
     "metadata": {},
     "output_type": "execute_result"
    }
   ],
   "source": [
    "prediction[0]"
   ]
  },
  {
   "cell_type": "code",
   "execution_count": 33,
   "metadata": {},
   "outputs": [
    {
     "data": {
      "text/plain": [
       "'andrew mogni , 20 , from glen ellyn , illinois , had only just arrived for a semester program when the incident happened in january<q>he was flown back to chicago via air on march 20 but he died on sunday<q>initial police reports indicated the fall was an accident but authorities are investigating the possibility that mogni was robbed<q>his cousin claims he was attacked and thrown 40ft from a bridge'"
      ]
     },
     "execution_count": 33,
     "metadata": {},
     "output_type": "execute_result"
    }
   ],
   "source": [
    "target[0]"
   ]
  },
  {
   "cell_type": "code",
   "execution_count": 34,
   "metadata": {},
   "outputs": [],
   "source": [
    "RESULT_DIR = TemporaryDirectory().name"
   ]
  },
  {
   "cell_type": "code",
   "execution_count": 40,
   "metadata": {},
   "outputs": [
    {
     "name": "stdout",
     "output_type": "stream",
     "text": [
      "11489\n",
      "11489\n"
     ]
    },
    {
     "name": "stderr",
     "output_type": "stream",
     "text": [
      "2020-01-31 03:38:44,480 [MainThread  ] [INFO ]  Writing summaries.\n",
      "2020-01-31 03:38:44,481 [MainThread  ] [INFO ]  Processing summaries. Saving system files to /tmp/tmpz9fasy6o/tmpnhtvedhc/system and model files to /tmp/tmpz9fasy6o/tmpnhtvedhc/model.\n",
      "2020-01-31 03:38:44,481 [MainThread  ] [INFO ]  Processing files in /tmp/tmpz9fasy6o/rouge-tmp-2020-01-31-03-38-43/candidate/.\n",
      "2020-01-31 03:38:45,679 [MainThread  ] [INFO ]  Saved processed files to /tmp/tmpz9fasy6o/tmpnhtvedhc/system.\n",
      "2020-01-31 03:38:45,681 [MainThread  ] [INFO ]  Processing files in /tmp/tmpz9fasy6o/rouge-tmp-2020-01-31-03-38-43/reference/.\n",
      "2020-01-31 03:38:46,904 [MainThread  ] [INFO ]  Saved processed files to /tmp/tmpz9fasy6o/tmpnhtvedhc/model.\n",
      "2020-01-31 03:38:46,989 [MainThread  ] [INFO ]  Written ROUGE configuration to /tmp/tmpz9fasy6o/tmpicwmu3se/rouge_conf.xml\n",
      "2020-01-31 03:38:46,989 [MainThread  ] [INFO ]  Running ROUGE with command /dadendev/pyrouge/tools/ROUGE-1.5.5/ROUGE-1.5.5.pl -e /dadendev/pyrouge/tools/ROUGE-1.5.5/data -c 95 -m -r 1000 -n 2 -a /tmp/tmpz9fasy6o/tmpicwmu3se/rouge_conf.xml\n"
     ]
    },
    {
     "name": "stdout",
     "output_type": "stream",
     "text": [
      "---------------------------------------------\n",
      "1 ROUGE-1 Average_R: 0.52322 (95%-conf.int. 0.52036 - 0.52598)\n",
      "1 ROUGE-1 Average_P: 0.35403 (95%-conf.int. 0.35171 - 0.35628)\n",
      "1 ROUGE-1 Average_F: 0.40840 (95%-conf.int. 0.40623 - 0.41040)\n",
      "---------------------------------------------\n",
      "1 ROUGE-2 Average_R: 0.23066 (95%-conf.int. 0.22789 - 0.23341)\n",
      "1 ROUGE-2 Average_P: 0.15558 (95%-conf.int. 0.15365 - 0.15744)\n",
      "1 ROUGE-2 Average_F: 0.17947 (95%-conf.int. 0.17740 - 0.18147)\n",
      "---------------------------------------------\n",
      "1 ROUGE-L Average_R: 0.47554 (95%-conf.int. 0.47274 - 0.47834)\n",
      "1 ROUGE-L Average_P: 0.32224 (95%-conf.int. 0.32001 - 0.32440)\n",
      "1 ROUGE-L Average_F: 0.37150 (95%-conf.int. 0.36935 - 0.37361)\n",
      "\n"
     ]
    }
   ],
   "source": [
    "rouge_score = get_rouge(prediction, target, RESULT_DIR)"
   ]
  },
  {
   "cell_type": "markdown",
   "metadata": {},
   "source": [
    "## Clean up temporary folders"
   ]
  },
  {
   "cell_type": "code",
   "execution_count": 45,
   "metadata": {},
   "outputs": [],
   "source": [
    "import shutil\n",
    "if os.path.exists(LOCAL_DATA_FOLDER):\n",
    "    shutil.rmtree(LOCAL_DATA_FOLDER, ignore_errors=True)\n",
    "if os.path.exists(LOCAL_OUTPUT_DIR):\n",
    "    shutil.rmtree(LOCAL_OUTPUT_DIR, ignore_errors=True)\n",
    "if os.path.exists(PROJECT_FOLDER):\n",
    "    shutil.rmtree(PROJECT_FOLDER, ignore_errors=True)\n",
    "if os.path.exists(RESULT_DIR):\n",
    "    shutil.rmtree(RESULT_DIR, ignore_errors=True)"
   ]
  }
 ],
 "metadata": {
  "kernelspec": {
   "display_name": "Python (nlp_gpu)",
   "language": "python",
   "name": "nlp_gpu"
  },
  "language_info": {
   "codemirror_mode": {
    "name": "ipython",
    "version": 3
   },
   "file_extension": ".py",
   "mimetype": "text/x-python",
   "name": "python",
   "nbconvert_exporter": "python",
   "pygments_lexer": "ipython3",
   "version": "3.6.8"
  }
 },
 "nbformat": 4,
 "nbformat_minor": 2
}
