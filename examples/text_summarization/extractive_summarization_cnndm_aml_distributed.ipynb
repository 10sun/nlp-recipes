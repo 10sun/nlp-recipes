{
 "cells": [
  {
   "cell_type": "code",
   "execution_count": 2,
   "metadata": {},
   "outputs": [
    {
     "name": "stderr",
     "output_type": "stream",
     "text": [
      "Failure while loading azureml_run_type_providers. Failed to load entrypoint azureml.PipelineRun = azureml.pipeline.core:PipelineRun._from_dto with exception (azureml-core 1.0.83 (/dadendev/anaconda3/envs/cm3/lib/python3.6/site-packages), Requirement.parse('azureml-core==1.0.57.*')).\n",
      "Failure while loading azureml_run_type_providers. Failed to load entrypoint azureml.ReusedStepRun = azureml.pipeline.core:StepRun._from_reused_dto with exception (azureml-core 1.0.83 (/dadendev/anaconda3/envs/cm3/lib/python3.6/site-packages), Requirement.parse('azureml-core==1.0.57.*')).\n",
      "Failure while loading azureml_run_type_providers. Failed to load entrypoint azureml.StepRun = azureml.pipeline.core:StepRun._from_dto with exception (azureml-core 1.0.83 (/dadendev/anaconda3/envs/cm3/lib/python3.6/site-packages), Requirement.parse('azureml-core==1.0.57.*')).\n"
     ]
    },
    {
     "name": "stdout",
     "output_type": "stream",
     "text": [
      "SDK version: 1.0.83\n"
     ]
    }
   ],
   "source": [
    "# Check core SDK version number\n",
    "import azureml.core\n",
    "\n",
    "print(\"SDK version:\", azureml.core.VERSION)"
   ]
  },
  {
   "cell_type": "code",
   "execution_count": 3,
   "metadata": {},
   "outputs": [],
   "source": [
    "import os\n",
    "import sys\n",
    "\n",
    "nlp_path = os.path.abspath('../../')\n",
    "if nlp_path not in sys.path:\n",
    "    sys.path.insert(0, nlp_path)\n",
    "    \n",
    "from utils_nlp.azureml import azureml_utils\n",
    "\n",
    "from azureml.core import Experiment, Workspace, Run\n",
    "from azureml.core.compute import ComputeTarget, AmlCompute\n",
    "from azureml.core.compute_target import ComputeTargetException\n",
    "from azureml.train.dnn import PyTorch\n",
    "from azureml.widgets import RunDetails\n",
    "from azureml.train.dnn import Nccl"
   ]
  },
  {
   "cell_type": "code",
   "execution_count": 4,
   "metadata": {},
   "outputs": [],
   "source": [
    "# Create the workspace using the specified parameters\n",
    "ws = Workspace.create(name = \"daden1amlws\",\n",
    "                      subscription_id = \"9086b59a-02d7-4687-b3fd-e39fa5e0fd9b\",\n",
    "                      resource_group = \"daden1aml\", \n",
    "                      location = \"eastus2\",\n",
    "                      create_resource_group = False,\n",
    "                      exist_ok = True)\n",
    "ws.get_details()\n",
    "\n",
    "# write the details of the workspace to a configuration file to the notebook library\n",
    "ws.write_config()"
   ]
  },
  {
   "cell_type": "code",
   "execution_count": 5,
   "metadata": {},
   "outputs": [
    {
     "name": "stderr",
     "output_type": "stream",
     "text": [
      "setup() is now deprecated. Instead, please use create() to create a new workspace, or get()/from_config() to retrieve an existing one\n"
     ]
    },
    {
     "name": "stdout",
     "output_type": "stream",
     "text": [
      "Workspace name: daden1amlws\n",
      "Workspace region: eastus2\n",
      "Subscription id: 9086b59a-02d7-4687-b3fd-e39fa5e0fd9b\n",
      "Resource group: daden1aml\n"
     ]
    }
   ],
   "source": [
    "# Retrieve the workspace\n",
    "ws = Workspace.setup()\n",
    "\n",
    "# Print the workspace attributes\n",
    "print('Workspace name: ' + ws.name, \n",
    "      'Workspace region: ' + ws.location, \n",
    "      'Subscription id: ' + ws.subscription_id, \n",
    "      'Resource group: ' + ws.resource_group, sep = '\\n')"
   ]
  },
  {
   "cell_type": "code",
   "execution_count": 6,
   "metadata": {},
   "outputs": [],
   "source": [
    "AMLCOMPUTE_CLUSTER_NAME = \"extsum5\"\n",
    "NODE_COUNT = 4\n",
    "VM_SIZE = 'STANDARD_NC6'\n",
    "\n",
    "AZUREML_CONFIG_PATH = \"./.azureml\"\n",
    "EXPERIMENT_NAME = 'NLP-ExtSum'\n",
    "PROJECT_FOLDER = './azureml_exp'\n",
    "\n",
    "TARGET_DATA_FOLDER = 'temp_data5'\n",
    "SOURCE_DATA_FOLDER = './temp_data5'\n",
    "OUTPUT_DIR = './output'\n",
    "\n",
    "os.makedirs(PROJECT_FOLDER, exist_ok=True)\n",
    "os.makedirs(OUTPUT_DIR, exist_ok=True)\n",
    "os.makedirs(os.path.join(OUTPUT_DIR, EXPERIMENT_NAME), exist_ok=True)"
   ]
  },
  {
   "cell_type": "code",
   "execution_count": 7,
   "metadata": {},
   "outputs": [],
   "source": [
    "\n",
    "#!cp sum_dis_train_aml.py './azureml_exp'\n",
    "#!cp -r ../../utils_nlp './azureml_exp'\n",
    "#!cp ../../tools/nlp_gpu.yaml './azureml_exp'"
   ]
  },
  {
   "cell_type": "code",
   "execution_count": 8,
   "metadata": {},
   "outputs": [],
   "source": [
    "ds = ws.get_default_datastore()"
   ]
  },
  {
   "cell_type": "code",
   "execution_count": 78,
   "metadata": {},
   "outputs": [
    {
     "name": "stdout",
     "output_type": "stream",
     "text": [
      "Uploading an estimated of 0 files\n",
      "Uploaded 0 files\n"
     ]
    },
    {
     "data": {
      "text/plain": [
       "$AZUREML_DATAREFERENCE_bedd0fff47914f1497274545bea289d6"
      ]
     },
     "execution_count": 78,
     "metadata": {},
     "output_type": "execute_result"
    }
   ],
   "source": [
    "# if there is no file, this output directory is not created\n",
    "#ds.upload(src_dir=OUTPUT_DIR, target_path=OUTPUT_DIR)"
   ]
  },
  {
   "cell_type": "code",
   "execution_count": 8,
   "metadata": {},
   "outputs": [],
   "source": [
    "#ds.upload(src_dir=SOURCE_DATA_FOLDER, target_path=TARGET_DATA_FOLDER)"
   ]
  },
  {
   "cell_type": "code",
   "execution_count": 69,
   "metadata": {},
   "outputs": [
    {
     "name": "stdout",
     "output_type": "stream",
     "text": [
      "Found existing compute target.\n",
      "{'currentNodeCount': 0, 'targetNodeCount': 0, 'nodeStateCounts': {'preparingNodeCount': 0, 'runningNodeCount': 0, 'idleNodeCount': 0, 'unusableNodeCount': 0, 'leavingNodeCount': 0, 'preemptedNodeCount': 0}, 'allocationState': 'Steady', 'allocationStateTransitionTime': '2020-01-23T20:30:29.308000+00:00', 'errors': None, 'creationTime': '2020-01-23T04:50:26.160743+00:00', 'modifiedTime': '2020-01-23T04:50:42.036095+00:00', 'provisioningState': 'Succeeded', 'provisioningStateTransitionTime': None, 'scaleSettings': {'minNodeCount': 0, 'maxNodeCount': 4, 'nodeIdleTimeBeforeScaleDown': 'PT120S'}, 'vmPriority': 'Dedicated', 'vmSize': 'STANDARD_NC6'}\n"
     ]
    }
   ],
   "source": [
    "try:\n",
    "    gpu_compute_target = ComputeTarget(workspace=ws, name=AMLCOMPUTE_CLUSTER_NAME)\n",
    "    print('Found existing compute target.')\n",
    "except ComputeTargetException:\n",
    "    print('Creating a new compute target...')\n",
    "    compute_config = AmlCompute.provisioning_configuration(vm_size=VM_SIZE,\n",
    "                                                           max_nodes=NODE_COUNT,\n",
    "                                                           NodeIdleTimeBeforeScaleDown='PT1200S')\n",
    "\n",
    "    # create the cluster\n",
    "    gpu_compute_target = ComputeTarget.create(ws, AMLCOMPUTE_CLUSTER_NAME, compute_config)\n",
    "\n",
    "    gpu_compute_target.wait_for_completion(show_output=True)\n",
    "\n",
    "# use get_status() to get a detailed status for the current AmlCompute. \n",
    "print(gpu_compute_target.get_status().serialize())"
   ]
  },
  {
   "cell_type": "code",
   "execution_count": 9,
   "metadata": {},
   "outputs": [],
   "source": [
    "experiment = Experiment(ws, name=EXPERIMENT_NAME)"
   ]
  },
  {
   "cell_type": "code",
   "execution_count": 84,
   "metadata": {},
   "outputs": [
    {
     "name": "stderr",
     "output_type": "stream",
     "text": [
      "W0123 21:44:25.443469 140305059092288 _framework_base_estimator.py:87] If environment_definition or conda_dependencies_file is specified, Azure ML will not install any framework related packages on behalf of the user.\n",
      "W0123 21:44:25.463464 140305059092288 _framework_base_estimator.py:121] framework_version is not specified, defaulting to version 1.3.\n"
     ]
    }
   ],
   "source": [
    "NcclConfig=Nccl()\n",
    "ENTRY_SCRIPT = \"sum_dis_train_aml.py\"\n",
    "estimator = PyTorch(source_directory=PROJECT_FOLDER,\n",
    "                    compute_target=gpu_compute_target,\n",
    "                    script_params={\n",
    "                        \"--dist_url\": \"$AZ_BATCHAI_PYTORCH_INIT_METHOD\",\n",
    "#                         \"--dist_url\": \"$AZ_BATCH_MASTER_NODE\",\n",
    "                        \"--rank\": \"$AZ_BATCHAI_TASK_INDEX\",\n",
    "                        \"--node_count\": 4,\n",
    "                        \"--data_dir\":ds.path(f'temp_data5/').as_mount(),\n",
    "                        \"--cache_dir\": ds.path(f'temp_data5/cache/{EXPERIMENT_NAME}/').as_mount(),\n",
    "                        '--output_dir':ds.path(f'temp_data5/').as_mount(),\n",
    "                        #\"--quick_run\": True\n",
    "                        \"--quick_run\": False\n",
    "                    },\n",
    "                    entry_script= ENTRY_SCRIPT,\n",
    "                    node_count=NODE_COUNT,\n",
    "                    distributed_training=NcclConfig,\n",
    "                    conda_dependencies_file=\"nlp_gpu.yaml\",\n",
    "                    use_gpu=True)"
   ]
  },
  {
   "cell_type": "code",
   "execution_count": 85,
   "metadata": {},
   "outputs": [
    {
     "name": "stderr",
     "output_type": "stream",
     "text": [
      "I0123 21:44:26.264394 140305059092288 datastore_client.py:732] <azureml.core.authentication.InteractiveLoginAuthentication object at 0x7f9af72045f8>\n",
      "Submitting /dadendev/nlp/examples/text_summarization/azureml_exp directory for run. The size of the directory >= 25 MB, so it can take a few minutes.\n"
     ]
    }
   ],
   "source": [
    "run = experiment.submit(estimator)"
   ]
  },
  {
   "cell_type": "code",
   "execution_count": 86,
   "metadata": {
    "scrolled": true
   },
   "outputs": [
    {
     "data": {
      "application/vnd.jupyter.widget-view+json": {
       "model_id": "91cb73c8a82a4aaeb84d7e2ee77b700f",
       "version_major": 2,
       "version_minor": 0
      },
      "text/plain": [
       "_UserRunWidget(widget_settings={'childWidgetDisplay': 'popup', 'send_telemetry': False, 'log_level': 'INFO', '…"
      ]
     },
     "metadata": {},
     "output_type": "display_data"
    }
   ],
   "source": [
    "\n",
    "RunDetails(run).show()"
   ]
  },
  {
   "cell_type": "code",
   "execution_count": 10,
   "metadata": {},
   "outputs": [],
   "source": [
    "# Downloading log file to run the perf benchmarking script\n",
    "fetched_run = Run(experiment, \"NLP-ExtSum_1579816237_ea238f69\")"
   ]
  },
  {
   "cell_type": "code",
   "execution_count": 14,
   "metadata": {},
   "outputs": [
    {
     "name": "stdout",
     "output_type": "stream",
     "text": [
      "Downloading temp_data5/generated_summaries.txt\n",
      "Downloaded temp_data5/generated_summaries.txt, 1 files out of an estimated total of 1\n"
     ]
    },
    {
     "data": {
      "text/plain": [
       "1"
      ]
     },
     "execution_count": 14,
     "metadata": {},
     "output_type": "execute_result"
    }
   ],
   "source": [
    "ds.download(target_path=OUTPUT_DIR,\n",
    "                   prefix=f'temp_data5/generated_summaries.txt',\n",
    "                   show_progress=True)"
   ]
  },
  {
   "cell_type": "code",
   "execution_count": 11,
   "metadata": {},
   "outputs": [
    {
     "name": "stderr",
     "output_type": "stream",
     "text": [
      "[nltk_data] Downloading package punkt to /home/daden/nltk_data...\n",
      "[nltk_data]   Package punkt is already up-to-date!\n",
      "I0124 04:05:49.220191 140175900309312 file_utils.py:39] PyTorch version 1.3.0 available.\n"
     ]
    }
   ],
   "source": [
    "from utils_nlp.dataset.cnndm import CNNDMBertSumProcessedData, CNNDMSummarizationDataset"
   ]
  },
  {
   "cell_type": "code",
   "execution_count": 12,
   "metadata": {},
   "outputs": [],
   "source": [
    "from utils_nlp.eval.evaluate_summarization import get_rouge\n",
    "from utils_nlp.models.transformers.extractive_summarization import ExtSumProcessedData"
   ]
  },
  {
   "cell_type": "code",
   "execution_count": 13,
   "metadata": {},
   "outputs": [],
   "source": [
    "#CNNDMBertSumProcessedData.download(local_path=\"/dadendev/temp_data5\")\n",
    "train_dataset, test_dataset = ExtSumProcessedData().splits(root=\"/dadendev/temp_data5\")"
   ]
  },
  {
   "cell_type": "code",
   "execution_count": 14,
   "metadata": {},
   "outputs": [],
   "source": [
    "target = [i['tgt_txt'] for i in test_dataset]"
   ]
  },
  {
   "cell_type": "code",
   "execution_count": 29,
   "metadata": {},
   "outputs": [
    {
     "data": {
      "text/plain": [
       "11489"
      ]
     },
     "execution_count": 29,
     "metadata": {},
     "output_type": "execute_result"
    }
   ],
   "source": [
    "len(test_dataset)"
   ]
  },
  {
   "cell_type": "code",
   "execution_count": 16,
   "metadata": {},
   "outputs": [],
   "source": [
    "prediction = []\n",
    "with open(os.path.join(OUTPUT_DIR, \"temp_data5/generated_summaries.txt\"), \"r\") as filehandle:\n",
    "    for cnt, line in enumerate(filehandle):\n",
    "        #print(line)\n",
    "        prediction.append(line[0:-1]) # remove the ending \"\\n\"\n",
    "        #break"
   ]
  },
  {
   "cell_type": "code",
   "execution_count": 17,
   "metadata": {},
   "outputs": [],
   "source": [
    "assert len(prediction)==len(target)"
   ]
  },
  {
   "cell_type": "code",
   "execution_count": 25,
   "metadata": {},
   "outputs": [
    {
     "data": {
      "text/plain": [
       "'andrew mogni , 20 , from glen ellyn , illinois , had only just arrived for a semester program in italy when the incident happened in january .<q>he was flown back to chicago via air ambulance on march 20 , but he died on sunday .<q>a university of iowa student has died nearly three months after a fall in rome in a suspected robbery attack in rome .'"
      ]
     },
     "execution_count": 25,
     "metadata": {},
     "output_type": "execute_result"
    }
   ],
   "source": [
    "prediction[0]"
   ]
  },
  {
   "cell_type": "code",
   "execution_count": 15,
   "metadata": {},
   "outputs": [
    {
     "data": {
      "text/plain": [
       "'andrew mogni , 20 , from glen ellyn , illinois , had only just arrived for a semester program when the incident happened in january<q>he was flown back to chicago via air on march 20 but he died on sunday<q>initial police reports indicated the fall was an accident but authorities are investigating the possibility that mogni was robbed<q>his cousin claims he was attacked and thrown 40ft from a bridge'"
      ]
     },
     "execution_count": 15,
     "metadata": {},
     "output_type": "execute_result"
    }
   ],
   "source": [
    "target[0]"
   ]
  },
  {
   "cell_type": "code",
   "execution_count": 18,
   "metadata": {},
   "outputs": [],
   "source": [
    "RESULT_DIR = './testrouge'"
   ]
  },
  {
   "cell_type": "code",
   "execution_count": 19,
   "metadata": {},
   "outputs": [
    {
     "name": "stdout",
     "output_type": "stream",
     "text": [
      "11489\n",
      "11489\n"
     ]
    },
    {
     "name": "stderr",
     "output_type": "stream",
     "text": [
      "2020-01-24 04:06:04,512 [MainThread  ] [INFO ]  Writing summaries.\n",
      "I0124 04:06:04.512003 140175900309312 pyrouge.py:525] Writing summaries.\n",
      "2020-01-24 04:06:04,522 [MainThread  ] [INFO ]  Processing summaries. Saving system files to ./testrouge/tmpjnl9bobx/system and model files to ./testrouge/tmpjnl9bobx/model.\n",
      "I0124 04:06:04.522701 140175900309312 pyrouge.py:518] Processing summaries. Saving system files to ./testrouge/tmpjnl9bobx/system and model files to ./testrouge/tmpjnl9bobx/model.\n",
      "2020-01-24 04:06:04,523 [MainThread  ] [INFO ]  Processing files in ./testrouge/rouge-tmp-2020-01-24-04-06-03/candidate/.\n",
      "I0124 04:06:04.523659 140175900309312 pyrouge.py:43] Processing files in ./testrouge/rouge-tmp-2020-01-24-04-06-03/candidate/.\n",
      "2020-01-24 04:06:05,646 [MainThread  ] [INFO ]  Saved processed files to ./testrouge/tmpjnl9bobx/system.\n",
      "I0124 04:06:05.646162 140175900309312 pyrouge.py:53] Saved processed files to ./testrouge/tmpjnl9bobx/system.\n",
      "2020-01-24 04:06:05,647 [MainThread  ] [INFO ]  Processing files in ./testrouge/rouge-tmp-2020-01-24-04-06-03/reference/.\n",
      "I0124 04:06:05.647714 140175900309312 pyrouge.py:43] Processing files in ./testrouge/rouge-tmp-2020-01-24-04-06-03/reference/.\n",
      "2020-01-24 04:06:06,785 [MainThread  ] [INFO ]  Saved processed files to ./testrouge/tmpjnl9bobx/model.\n",
      "I0124 04:06:06.785268 140175900309312 pyrouge.py:53] Saved processed files to ./testrouge/tmpjnl9bobx/model.\n",
      "2020-01-24 04:06:06,887 [MainThread  ] [INFO ]  Written ROUGE configuration to ./testrouge/tmpb8ipr6r_/rouge_conf.xml\n",
      "I0124 04:06:06.887120 140175900309312 pyrouge.py:354] Written ROUGE configuration to ./testrouge/tmpb8ipr6r_/rouge_conf.xml\n",
      "2020-01-24 04:06:06,888 [MainThread  ] [INFO ]  Running ROUGE with command /dadendev/pyrouge/tools/ROUGE-1.5.5/ROUGE-1.5.5.pl -e /dadendev/pyrouge/tools/ROUGE-1.5.5/data -c 95 -m -r 1000 -n 2 -a ./testrouge/tmpb8ipr6r_/rouge_conf.xml\n",
      "I0124 04:06:06.888437 140175900309312 pyrouge.py:372] Running ROUGE with command /dadendev/pyrouge/tools/ROUGE-1.5.5/ROUGE-1.5.5.pl -e /dadendev/pyrouge/tools/ROUGE-1.5.5/data -c 95 -m -r 1000 -n 2 -a ./testrouge/tmpb8ipr6r_/rouge_conf.xml\n"
     ]
    },
    {
     "name": "stdout",
     "output_type": "stream",
     "text": [
      "---------------------------------------------\n",
      "1 ROUGE-1 Average_R: 0.52854 (95%-conf.int. 0.52570 - 0.53134)\n",
      "1 ROUGE-1 Average_P: 0.35629 (95%-conf.int. 0.35395 - 0.35848)\n",
      "1 ROUGE-1 Average_F: 0.41146 (95%-conf.int. 0.40933 - 0.41352)\n",
      "---------------------------------------------\n",
      "1 ROUGE-2 Average_R: 0.23487 (95%-conf.int. 0.23217 - 0.23771)\n",
      "1 ROUGE-2 Average_P: 0.15804 (95%-conf.int. 0.15608 - 0.16005)\n",
      "1 ROUGE-2 Average_F: 0.18238 (95%-conf.int. 0.18024 - 0.18455)\n",
      "---------------------------------------------\n",
      "1 ROUGE-L Average_R: 0.48060 (95%-conf.int. 0.47787 - 0.48335)\n",
      "1 ROUGE-L Average_P: 0.32453 (95%-conf.int. 0.32228 - 0.32658)\n",
      "1 ROUGE-L Average_F: 0.37451 (95%-conf.int. 0.37243 - 0.37657)\n",
      "\n"
     ]
    }
   ],
   "source": [
    "rouge_score = get_rouge(prediction, target, RESULT_DIR)"
   ]
  },
  {
   "cell_type": "code",
   "execution_count": null,
   "metadata": {},
   "outputs": [],
   "source": []
  }
 ],
 "metadata": {
  "kernelspec": {
   "display_name": "Python (nlp_gpu)",
   "language": "python",
   "name": "nlp_gpu"
  },
  "language_info": {
   "codemirror_mode": {
    "name": "ipython",
    "version": 3
   },
   "file_extension": ".py",
   "mimetype": "text/x-python",
   "name": "python",
   "nbconvert_exporter": "python",
   "pygments_lexer": "ipython3",
   "version": "3.6.8"
  }
 },
 "nbformat": 4,
 "nbformat_minor": 2
}
