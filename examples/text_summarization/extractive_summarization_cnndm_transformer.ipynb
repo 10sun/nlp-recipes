{
 "cells": [
  {
   "cell_type": "markdown",
   "metadata": {},
   "source": [
    "Copyright (c) Microsoft Corporation. All rights reserved.\n",
    "\n",
    "Licensed under the MIT License."
   ]
  },
  {
   "cell_type": "markdown",
   "metadata": {},
   "source": [
    "## Extractive Summarization on CNN/DM Dataset using Transformer Version of BertSum\n",
    "\n",
    "\n",
    "### Summary\n",
    "\n",
    "This notebook demonstrates how to fine tune Transformers for extractive text summarization. Utility functions and classes in the NLP Best Practices repo are used to facilitate data preprocessing, model training, model scoring, result postprocessing, and model evaluation.\n",
    "\n",
    "BertSum refers to  [Fine-tune BERT for Extractive Summarization](https://arxiv.org/pdf/1903.10318.pdf) with [published example](https://github.com/nlpyang/BertSum/). And the Transformer version of Bertsum refers to our modification of BertSum and the source code can be accessed at (https://github.com/daden-ms/BertSum/). \n",
    "\n",
    "Extractive summarization are usually used in document summarization where each input document consists of mutiple sentences. The preprocessing of the input training data involves assigning label 0 or 1 to the document sentences based on the give summary. The summarization problem is also simplfied to classifying whether a document sentence should be included in the summary. \n",
    "\n",
    "The figure below illustrates how BERTSum can be fine tuned for extractive summarization task. [CLS] token is inserted at the beginning of each sentence, so is [SEP] token at the end. Interval segment embedding and positional embedding are added upon the token embedding as the input of the BERT model. The [CLS] token representation is used as sentence embedding and only the [CLS] tokens are used as the input for the summarization model. The summarization layer predicts the probability for each  sentence being included in the summary. Techniques like trigram blocking can be used to improve model accuarcy.   \n",
    "\n",
    "<img src=\"https://nlpbp.blob.core.windows.net/images/BertSum.PNG\">\n",
    "\n",
    "\n",
    "### Before You Start\n",
    "\n",
    "The running time shown in this notebook is on a Standard_NC24s_v3 Azure Ubuntu Virtual Machine with 4 NVIDIA Tesla V100 GPUs. \n",
    "> **Tip**: If you want to run through the notebook quickly, you can set the **`QUICK_RUN`** flag in the cell below to **`True`** to run the notebook on a small subset of the data and a smaller number of epochs. \n",
    "\n",
    "Using only 1 NVIDIA Tesla V100 GPUs, 16GB GPU memory configuration,\n",
    "- for data preprocessing, it takes around 10 minutes to preprocess the data for quick run. Otherwise it takes ~2 hours to finish the data preprocessing. This time estimation assumes that the chosen transformer model is \"distilbert-base-uncased\" and the sentence selection method is \"greedy\", which is the default. The preprocessing time can be significantly longer if the sentence selection method is \"combination\", which can achieve better model performance.\n",
    "\n",
    "- for model fine tuning, it takes around 30 minutes for quick run. Otherwise, it takes around ~3 hours to finish. This estimation assumes the chosen encoder method is \"transformer\". The model fine tuning time can be shorter if other encoder method is chosen, which may result in worse model performance. \n"
   ]
  },
  {
   "cell_type": "code",
   "execution_count": 1,
   "metadata": {},
   "outputs": [],
   "source": [
    "## Set QUICK_RUN = True to run the notebook on a small subset of data and a smaller number of epochs.\n",
    "QUICK_RUN = True\n",
    "## Set USE_PREPROCSSED_DATA = True to skip the data preprocessing\n",
    "USE_PREPROCSSED_DATA = False"
   ]
  },
  {
   "cell_type": "markdown",
   "metadata": {},
   "source": [
    "### Configuration\n"
   ]
  },
  {
   "cell_type": "code",
   "execution_count": 2,
   "metadata": {},
   "outputs": [],
   "source": [
    "%load_ext autoreload"
   ]
  },
  {
   "cell_type": "code",
   "execution_count": 3,
   "metadata": {},
   "outputs": [],
   "source": [
    "%autoreload 2"
   ]
  },
  {
   "cell_type": "code",
   "execution_count": 4,
   "metadata": {},
   "outputs": [
    {
     "name": "stderr",
     "output_type": "stream",
     "text": [
      "[nltk_data] Downloading package punkt to /home/daden/nltk_data...\n",
      "[nltk_data]   Package punkt is already up-to-date!\n",
      "I1224 02:52:40.350996 139807676634944 file_utils.py:40] PyTorch version 1.2.0 available.\n"
     ]
    }
   ],
   "source": [
    "import os\n",
    "import sys\n",
    "from tempfile import TemporaryDirectory\n",
    "import torch\n",
    "\n",
    "nlp_path = os.path.abspath(\"../../\")\n",
    "if nlp_path not in sys.path:\n",
    "    sys.path.insert(0, nlp_path)\n",
    "\n",
    "from utils_nlp.common.pytorch_utils import get_device\n",
    "from utils_nlp.dataset.cnndm import CNNDMBertSumProcessedData, CNNDMSummarizationDataset\n",
    "from utils_nlp.eval.evaluate_summarization import get_rouge\n",
    "from utils_nlp.models.transformers.extractive_summarization import (\n",
    "    get_dataloader,\n",
    "    ExtractiveSummarizer,\n",
    "    ExtSumProcessedData,\n",
    "    ExtSumProcessor,\n",
    ")"
   ]
  },
  {
   "cell_type": "markdown",
   "metadata": {},
   "source": [
    "\n",
    "### Configuration: choose the transformer model to be used"
   ]
  },
  {
   "cell_type": "code",
   "execution_count": 5,
   "metadata": {},
   "outputs": [],
   "source": [
    "# Transformer model being used\n",
    "MODEL_NAME = \"distilbert-base-uncased\""
   ]
  },
  {
   "cell_type": "markdown",
   "metadata": {},
   "source": [
    "Also, we need to install the dependencies for pyrouge."
   ]
  },
  {
   "cell_type": "markdown",
   "metadata": {},
   "source": [
    "# dependencies for ROUGE-1.5.5.pl\n",
    "Run the following commands in your terminal to install XML parsing C library.\n",
    "\n",
    "1. sudo apt-get update\n",
    "1. sudo apt-get install expat\n",
    "1. sudo apt-get install libexpat-dev -y"
   ]
  },
  {
   "cell_type": "markdown",
   "metadata": {},
   "source": [
    "Run the following commands in your terminal to install other pre-requistes for using pyrouge.\n",
    "1. sudo cpan install XML::Parser\n",
    "1. sudo cpan install XML::Parser::PerlSAX\n",
    "1. sudo cpan install XML::DOM\n",
    "\n",
    "Download ROUGE-1.5.5 from https://github.com/andersjo/pyrouge/tree/master/tools/ROUGE-1.5.5.\n",
    "Run the following command in your terminal.\n",
    "* pyrouge_set_rouge_path $ABSOLUTE_DIRECTORY_TO_ROUGE-1.5.5.pl"
   ]
  },
  {
   "cell_type": "markdown",
   "metadata": {},
   "source": [
    "### Data Preprossing\n",
    "\n",
    "The dataset we used for this notebook is CNN/DM dataset which contains the documents and accompanying questions from the news articles of CNN and Daily mail. The highlights in each article are used as summary. The dataset consits of ~289K training examples, ~11K valiation examples and ~11K test examples.  You can choose the [Option 1] below preprocess the data or [Option 2] to use the preprocessed version at [BERTSum published example](https://github.com/nlpyang/BertSum/). You don't need to manually download any of these two data sets as the code below will handle downloading. Functions defined specific in [cnndm.py](../../utils_nlp/dataset/cnndm.py) are unique to CNN/DM dataset that's preprocessed by harvardnlp. However, it provides a skeleton of how to preprocessing text into the format that model preprocessor takes: sentence tokenization and work tokenization. \n",
    "\n",
    "##### Details of Data Preprocessing\n",
    "\n",
    "The purpose of preprocessing is to process the input articles to the format that model finetuning needed. Assuming you have (1) all articles and (2) target summaries, each in a file and line-breaker seperated, the steps to preprocess the data are:\n",
    "1. sentence tokenization\n",
    "2. word tokenization\n",
    "3. **label** the sentences in the article with 1 meaning the sentence is selected and 0 meaning the sentence is not selected. The algorithms for the sentence selection are \"greedy\" and \"combination\" and can be found in [sentence_selection.py](../../utils_nlp/dataset/sentence_selection.py)\n",
    "3. convert each example to  the desired format for extractive summarization\n",
    "    - filter the sentences in the example based on the min_src_ntokens argument. If the lefted total sentence number is less than min_nsents, the example is discarded.\n",
    "    - truncate the sentences in the example if the length is greater than max_src_ntokens\n",
    "    - truncate the sentences in the example and the labels if the total number of sentences is greater than max_nsents\n",
    "    - [CLS] and [SEP] are inserted before and after each sentence\n",
    "    - wordPiece tokenization or Byte Pair Encoding (BPE) subword tokenization\n",
    "    - truncate the example to 512 tokens\n",
    "    - convert the tokens into token indices corresponding to the transformer tokenizer's vocabulary.\n",
    "    - segment ids are generated and added\n",
    "    - [CLS] token positions are logged\n",
    "    - [CLS] token labels are truncated if it's greater than 512, which is the maximum input length that can be taken by the transformer model.\n",
    "    \n",
    "    \n",
    "Note that the original BERTSum paper use Stanford CoreNLP for data preprocessing, here we use NLTK for data preprocessing. "
   ]
  },
  {
   "cell_type": "markdown",
   "metadata": {},
   "source": [
    "##### [Option 1] Preprocess  data (Please skil this part if you choose to use preprocessed data)\n",
    "The code in following cell will download the CNN/DM dataset listed at https://github.com/harvardnlp/sent-summary/."
   ]
  },
  {
   "cell_type": "code",
   "execution_count": 6,
   "metadata": {},
   "outputs": [],
   "source": [
    "# the data path used to save the downloaded data file\n",
    "DATA_PATH =  \"/tmp/tmpm2eh8iau\" #TemporaryDirectory().name\n",
    "# The number of lines at the head of data file used for preprocessing. -1 means all the lines.\n",
    "TOP_N = -1\n",
    "if QUICK_RUN:\n",
    "    TOP_N = 10000"
   ]
  },
  {
   "cell_type": "code",
   "execution_count": 7,
   "metadata": {
    "scrolled": true
   },
   "outputs": [
    {
     "name": "stderr",
     "output_type": "stream",
     "text": [
      "100%|██████████| 489k/489k [00:07<00:00, 69.5kKB/s] \n",
      "I1224 02:52:47.868990 139807676634944 utils.py:173] Opening tar file /tmp/tmpm2eh8iau/cnndm.tar.gz.\n"
     ]
    }
   ],
   "source": [
    "train_dataset, test_dataset = CNNDMSummarizationDataset(top_n=TOP_N, local_cache_path=DATA_PATH)"
   ]
  },
  {
   "cell_type": "markdown",
   "metadata": {},
   "source": [
    "Preprocess the data and save the data to disk."
   ]
  },
  {
   "cell_type": "code",
   "execution_count": 8,
   "metadata": {},
   "outputs": [
    {
     "name": "stderr",
     "output_type": "stream",
     "text": [
      "I1224 02:52:59.080935 139807676634944 tokenization_utils.py:379] loading file https://s3.amazonaws.com/models.huggingface.co/bert/bert-base-uncased-vocab.txt from cache at ./26bc1ad6c0ac742e9b52263248f6d0f00068293b33709fae12320c0e35ccfbbb.542ce4285a40d23a559526243235df47c5f75c197f04f37d1a0c124c32c9a084\n"
     ]
    },
    {
     "name": "stdout",
     "output_type": "stream",
     "text": [
      "{'max_nsents': 200, 'max_src_ntokens': 2000, 'min_nsents': 3, 'min_src_ntokens': 5, 'use_interval': True}\n"
     ]
    }
   ],
   "source": [
    "processor = ExtSumProcessor(model_name=MODEL_NAME)\n",
    "ext_sum_train = processor.preprocess(train_dataset, train_dataset.get_target(), oracle_mode=\"greedy\")\n",
    "ext_sum_test = processor.preprocess(test_dataset, test_dataset.get_target(),oracle_mode=\"greedy\")"
   ]
  },
  {
   "cell_type": "code",
   "execution_count": 9,
   "metadata": {},
   "outputs": [],
   "source": [
    "save_path = os.path.join(DATA_PATH, \"processed\")\n",
    "train_files = ExtSumProcessedData.save_data(\n",
    "    ext_sum_train, is_test=False, save_path=save_path, chunk_size=2000\n",
    ")\n",
    "test_files = ExtSumProcessedData.save_data(\n",
    "    ext_sum_test, is_test=True, save_path=save_path, chunk_size=2000\n",
    ")"
   ]
  },
  {
   "cell_type": "code",
   "execution_count": 10,
   "metadata": {},
   "outputs": [
    {
     "data": {
      "text/plain": [
       "['/tmp/tmpm2eh8iau/processed/0_train',\n",
       " '/tmp/tmpm2eh8iau/processed/1_train',\n",
       " '/tmp/tmpm2eh8iau/processed/2_train',\n",
       " '/tmp/tmpm2eh8iau/processed/3_train',\n",
       " '/tmp/tmpm2eh8iau/processed/4_train']"
      ]
     },
     "execution_count": 10,
     "metadata": {},
     "output_type": "execute_result"
    }
   ],
   "source": [
    "train_files"
   ]
  },
  {
   "cell_type": "code",
   "execution_count": 11,
   "metadata": {},
   "outputs": [
    {
     "data": {
      "text/plain": [
       "['/tmp/tmpm2eh8iau/processed/0_test',\n",
       " '/tmp/tmpm2eh8iau/processed/1_test',\n",
       " '/tmp/tmpm2eh8iau/processed/2_test',\n",
       " '/tmp/tmpm2eh8iau/processed/3_test',\n",
       " '/tmp/tmpm2eh8iau/processed/4_test']"
      ]
     },
     "execution_count": 11,
     "metadata": {},
     "output_type": "execute_result"
    }
   ],
   "source": [
    "test_files"
   ]
  },
  {
   "cell_type": "code",
   "execution_count": 12,
   "metadata": {
    "scrolled": true
   },
   "outputs": [],
   "source": [
    "train_dataset, test_dataset = ExtSumProcessedData().splits(root=save_path)"
   ]
  },
  {
   "cell_type": "markdown",
   "metadata": {},
   "source": [
    "#### Inspect Data"
   ]
  },
  {
   "cell_type": "code",
   "execution_count": 13,
   "metadata": {},
   "outputs": [
    {
     "name": "stdout",
     "output_type": "stream",
     "text": [
      "2000\n"
     ]
    },
    {
     "data": {
      "text/plain": [
       "dict_keys(['src', 'labels', 'segs', 'clss', 'src_txt', 'tgt_txt'])"
      ]
     },
     "execution_count": 13,
     "metadata": {},
     "output_type": "execute_result"
    }
   ],
   "source": [
    "import torch\n",
    "bert_format_data = torch.load(train_files[0])\n",
    "print(len(bert_format_data))\n",
    "bert_format_data[0].keys()"
   ]
  },
  {
   "cell_type": "code",
   "execution_count": 14,
   "metadata": {},
   "outputs": [
    {
     "data": {
      "text/plain": [
       "[0, 0, 1, 0, 0, 0, 0, 0, 0, 0, 0, 0, 0, 0, 0, 0, 0, 0, 0, 0]"
      ]
     },
     "execution_count": 14,
     "metadata": {},
     "output_type": "execute_result"
    }
   ],
   "source": [
    "bert_format_data[0]['labels']"
   ]
  },
  {
   "cell_type": "markdown",
   "metadata": {},
   "source": [
    "##### [Option 2] Reuse Preprocessed  data from [BERTSUM Repo](https://github.com/nlpyang/BertSum)"
   ]
  },
  {
   "cell_type": "code",
   "execution_count": 15,
   "metadata": {},
   "outputs": [],
   "source": [
    "# the data path used to downloaded the preprocessed data from BERTSUM Repo.\n",
    "# if you have downloaded the dataset, change the code to use that path where the dataset is.\n",
    "#PROCESSED_DATA_PATH = TemporaryDirectory().name\n",
    "data_path = \"./temp_data5/\"\n",
    "PROCESSED_DATA_PATH = data_path"
   ]
  },
  {
   "cell_type": "code",
   "execution_count": 16,
   "metadata": {},
   "outputs": [],
   "source": [
    "if USE_PREPROCSSED_DATA:\n",
    "    CNNDMBertSumProcessedData.download(local_path=PROCESSED_DATA_PATH)\n",
    "    train_dataset, test_dataset = ExtSumProcessedData().splits(root=PROCESSED_DATA_PATH)\n",
    "    "
   ]
  },
  {
   "cell_type": "markdown",
   "metadata": {},
   "source": [
    "### Model training\n",
    "To start model training, we need to create a instance of ExtractiveSummarizer.\n",
    "#### Choose the transformer model.\n",
    "Currently ExtractiveSummarizer support two models:\n",
    "- distilbert-base-uncase, \n",
    "- bert-base-uncase\n",
    "\n",
    "Potentionally, roberta-based model and xlnet can be supported but needs to be tested.\n",
    "#### Choose the encoder algorithm.\n",
    "There are four options:\n",
    "- baseline: it used a smaller transformer model to replace the bert model and with transformer summarization layer\n",
    "- classifier: it uses pretrained BERT and fine-tune BERT with **simple logistic classification** summarization layer\n",
    "- transformer: it uses pretrained BERT and fine-tune BERT with **transformer** summarization layer\n",
    "- RNN: it uses pretrained BERT and fine-tune BERT with **LSTM** summarization layer"
   ]
  },
  {
   "cell_type": "code",
   "execution_count": 17,
   "metadata": {},
   "outputs": [],
   "source": [
    "# notebook parameters\n",
    "# the cache data path during find tuning\n",
    "CACHE_DIR = TemporaryDirectory().name\n",
    "\n",
    "# batch size, unit is the number of tokens\n",
    "BATCH_SIZE = 3000\n",
    "\n",
    "# GPU used for training\n",
    "NUM_GPUS = 2\n",
    "\n",
    "# Encoder name. Options are: 1. baseline, classifier, transformer, rnn.\n",
    "ENCODER = \"transformer\"\n",
    "\n",
    "# Learning rate\n",
    "LEARNING_RATE=2e-3\n",
    "\n",
    "# How often the statistics reports show up in training, unit is step.\n",
    "REPORT_EVERY=100\n",
    "    \n",
    "if QUICK_RUN:\n",
    "    # total number of steps for training\n",
    "    MAX_STEPS=1e4\n",
    "    # number of steps for warm up\n",
    "    WARMUP_STEPS=5e3\n",
    "    \n",
    "else:\n",
    "    MAX_STEPS=5e4\n",
    "    WARMUP_STEPS=5e3\n",
    " "
   ]
  },
  {
   "cell_type": "code",
   "execution_count": 18,
   "metadata": {
    "scrolled": true
   },
   "outputs": [
    {
     "name": "stderr",
     "output_type": "stream",
     "text": [
      "I1224 03:01:19.243283 139807676634944 file_utils.py:319] https://s3.amazonaws.com/models.huggingface.co/bert/distilbert-base-uncased-config.json not found in cache or force_download set to True, downloading to /tmp/tmp7bncjhvm\n",
      "100%|██████████| 492/492 [00:00<00:00, 531307.30B/s]\n",
      "I1224 03:01:19.403964 139807676634944 file_utils.py:334] copying /tmp/tmp7bncjhvm to cache at /tmp/tmp0ru6f_af/a41e817d5c0743e29e86ff85edc8c257e61bc8d88e4271bb1b243b6e7614c633.1ccd1a11c9ff276830e114ea477ea2407100f4a3be7bdc45d37be9e37fa71c7e\n",
      "I1224 03:01:19.404998 139807676634944 file_utils.py:338] creating metadata file for /tmp/tmp0ru6f_af/a41e817d5c0743e29e86ff85edc8c257e61bc8d88e4271bb1b243b6e7614c633.1ccd1a11c9ff276830e114ea477ea2407100f4a3be7bdc45d37be9e37fa71c7e\n",
      "I1224 03:01:19.406319 139807676634944 file_utils.py:347] removing temp file /tmp/tmp7bncjhvm\n",
      "I1224 03:01:19.407042 139807676634944 configuration_utils.py:157] loading configuration file https://s3.amazonaws.com/models.huggingface.co/bert/distilbert-base-uncased-config.json from cache at /tmp/tmp0ru6f_af/a41e817d5c0743e29e86ff85edc8c257e61bc8d88e4271bb1b243b6e7614c633.1ccd1a11c9ff276830e114ea477ea2407100f4a3be7bdc45d37be9e37fa71c7e\n",
      "I1224 03:01:19.407970 139807676634944 configuration_utils.py:174] Model config {\n",
      "  \"activation\": \"gelu\",\n",
      "  \"attention_dropout\": 0.1,\n",
      "  \"dim\": 768,\n",
      "  \"dropout\": 0.1,\n",
      "  \"finetuning_task\": null,\n",
      "  \"hidden_dim\": 3072,\n",
      "  \"initializer_range\": 0.02,\n",
      "  \"is_decoder\": false,\n",
      "  \"max_position_embeddings\": 512,\n",
      "  \"n_heads\": 12,\n",
      "  \"n_layers\": 6,\n",
      "  \"num_labels\": 0,\n",
      "  \"output_attentions\": false,\n",
      "  \"output_hidden_states\": false,\n",
      "  \"output_past\": true,\n",
      "  \"pruned_heads\": {},\n",
      "  \"qa_dropout\": 0.1,\n",
      "  \"seq_classif_dropout\": 0.2,\n",
      "  \"sinusoidal_pos_embds\": false,\n",
      "  \"tie_weights_\": true,\n",
      "  \"torchscript\": false,\n",
      "  \"use_bfloat16\": false,\n",
      "  \"vocab_size\": 30522\n",
      "}\n",
      "\n",
      "I1224 03:01:19.547294 139807676634944 file_utils.py:319] https://s3.amazonaws.com/models.huggingface.co/bert/distilbert-base-uncased-pytorch_model.bin not found in cache or force_download set to True, downloading to /tmp/tmp_3hdcg7f\n",
      "100%|██████████| 267967963/267967963 [00:04<00:00, 65856939.79B/s]\n",
      "I1224 03:01:23.860859 139807676634944 file_utils.py:334] copying /tmp/tmp_3hdcg7f to cache at /tmp/tmp0ru6f_af/7b8a8f0b21c4e7f6962451c9370a5d9af90372a5f64637a251f2de154d0fc72c.c2015533705b9dff680ae707e205a35e2860e8d148b45d35085419d74fe57ac5\n",
      "I1224 03:01:24.139341 139807676634944 file_utils.py:338] creating metadata file for /tmp/tmp0ru6f_af/7b8a8f0b21c4e7f6962451c9370a5d9af90372a5f64637a251f2de154d0fc72c.c2015533705b9dff680ae707e205a35e2860e8d148b45d35085419d74fe57ac5\n",
      "I1224 03:01:24.140595 139807676634944 file_utils.py:347] removing temp file /tmp/tmp_3hdcg7f\n",
      "I1224 03:01:24.175863 139807676634944 modeling_utils.py:393] loading weights file https://s3.amazonaws.com/models.huggingface.co/bert/distilbert-base-uncased-pytorch_model.bin from cache at /tmp/tmp0ru6f_af/7b8a8f0b21c4e7f6962451c9370a5d9af90372a5f64637a251f2de154d0fc72c.c2015533705b9dff680ae707e205a35e2860e8d148b45d35085419d74fe57ac5\n",
      "I1224 03:01:25.453496 139807676634944 configuration_utils.py:157] loading configuration file https://s3.amazonaws.com/models.huggingface.co/bert/distilbert-base-uncased-config.json from cache at /tmp/tmp0ru6f_af/a41e817d5c0743e29e86ff85edc8c257e61bc8d88e4271bb1b243b6e7614c633.1ccd1a11c9ff276830e114ea477ea2407100f4a3be7bdc45d37be9e37fa71c7e\n",
      "I1224 03:01:25.456668 139807676634944 configuration_utils.py:174] Model config {\n",
      "  \"activation\": \"gelu\",\n",
      "  \"attention_dropout\": 0.1,\n",
      "  \"dim\": 768,\n",
      "  \"dropout\": 0.1,\n",
      "  \"finetuning_task\": null,\n",
      "  \"hidden_dim\": 3072,\n",
      "  \"initializer_range\": 0.02,\n",
      "  \"is_decoder\": false,\n",
      "  \"max_position_embeddings\": 512,\n",
      "  \"n_heads\": 12,\n",
      "  \"n_layers\": 6,\n",
      "  \"num_labels\": 2,\n",
      "  \"output_attentions\": false,\n",
      "  \"output_hidden_states\": false,\n",
      "  \"output_past\": true,\n",
      "  \"pruned_heads\": {},\n",
      "  \"qa_dropout\": 0.1,\n",
      "  \"seq_classif_dropout\": 0.2,\n",
      "  \"sinusoidal_pos_embds\": false,\n",
      "  \"tie_weights_\": true,\n",
      "  \"torchscript\": false,\n",
      "  \"use_bfloat16\": false,\n",
      "  \"vocab_size\": 30522\n",
      "}\n",
      "\n",
      "I1224 03:01:25.601239 139807676634944 modeling_utils.py:393] loading weights file https://s3.amazonaws.com/models.huggingface.co/bert/distilbert-base-uncased-pytorch_model.bin from cache at /tmp/tmp0ru6f_af/7b8a8f0b21c4e7f6962451c9370a5d9af90372a5f64637a251f2de154d0fc72c.c2015533705b9dff680ae707e205a35e2860e8d148b45d35085419d74fe57ac5\n"
     ]
    }
   ],
   "source": [
    "summarizer = ExtractiveSummarizer(MODEL_NAME, ENCODER, CACHE_DIR)"
   ]
  },
  {
   "cell_type": "code",
   "execution_count": 19,
   "metadata": {},
   "outputs": [],
   "source": [
    "# batch_size is the number of tokens in a batch\n",
    "train_dataloader = get_dataloader(train_dataset.get_stream(), is_labeled=True, batch_size=3000)"
   ]
  },
  {
   "cell_type": "code",
   "execution_count": null,
   "metadata": {
    "scrolled": true
   },
   "outputs": [
    {
     "name": "stderr",
     "output_type": "stream",
     "text": [
      "/dadendev/anaconda3/envs/cm3/lib/python3.6/site-packages/torch/nn/parallel/_functions.py:61: UserWarning: Was asked to gather along dimension 0, but all input tensors were scalars; will instead unsqueeze and return a vector.\n",
      "  warnings.warn('Was asked to gather along dimension 0, but all '\n"
     ]
    },
    {
     "name": "stdout",
     "output_type": "stream",
     "text": [
      "loss: 11.160705, time: 42.738963, number of examples in current step: 5, step 100 out of total 10000\n",
      "loss: 10.624718, time: 33.611201, number of examples in current step: 5, step 200 out of total 10000\n",
      "loss: 10.389675, time: 32.889951, number of examples in current step: 5, step 300 out of total 10000\n",
      "loss: 10.167939, time: 33.669455, number of examples in current step: 5, step 400 out of total 10000\n",
      "loss: 10.233984, time: 32.727784, number of examples in current step: 5, step 500 out of total 10000\n",
      "loss: 10.185300, time: 33.506980, number of examples in current step: 5, step 600 out of total 10000\n",
      "loss: 10.074746, time: 33.141054, number of examples in current step: 5, step 700 out of total 10000\n",
      "loss: 9.924833, time: 33.621255, number of examples in current step: 5, step 800 out of total 10000\n",
      "loss: 9.977459, time: 32.910738, number of examples in current step: 5, step 900 out of total 10000\n",
      "loss: 10.138617, time: 33.722555, number of examples in current step: 5, step 1000 out of total 10000\n",
      "loss: 10.019123, time: 33.110982, number of examples in current step: 5, step 1100 out of total 10000\n",
      "loss: 9.932224, time: 33.539944, number of examples in current step: 5, step 1200 out of total 10000\n",
      "loss: 9.874413, time: 33.243643, number of examples in current step: 5, step 1300 out of total 10000\n",
      "loss: 10.019798, time: 33.554604, number of examples in current step: 5, step 1400 out of total 10000\n",
      "loss: 9.941930, time: 32.659071, number of examples in current step: 5, step 1500 out of total 10000\n",
      "loss: 9.965581, time: 33.646271, number of examples in current step: 5, step 1600 out of total 10000\n",
      "loss: 9.906829, time: 32.895457, number of examples in current step: 5, step 1700 out of total 10000\n",
      "loss: 9.761838, time: 33.346933, number of examples in current step: 5, step 1800 out of total 10000\n",
      "loss: 9.653565, time: 32.784759, number of examples in current step: 5, step 1900 out of total 10000\n",
      "loss: 9.968359, time: 33.301999, number of examples in current step: 5, step 2000 out of total 10000\n",
      "loss: 9.669802, time: 32.933510, number of examples in current step: 5, step 2100 out of total 10000\n",
      "loss: 9.795998, time: 33.465689, number of examples in current step: 5, step 2200 out of total 10000\n",
      "loss: 9.457577, time: 33.026487, number of examples in current step: 5, step 2300 out of total 10000\n",
      "loss: 9.442477, time: 33.532822, number of examples in current step: 5, step 2400 out of total 10000\n",
      "loss: 9.423114, time: 32.843011, number of examples in current step: 9, step 2500 out of total 10000\n",
      "loss: 9.483082, time: 33.595565, number of examples in current step: 5, step 2600 out of total 10000\n",
      "loss: 9.364571, time: 33.318575, number of examples in current step: 5, step 2700 out of total 10000\n",
      "loss: 9.271109, time: 33.604982, number of examples in current step: 5, step 2800 out of total 10000\n",
      "loss: 9.397103, time: 33.258650, number of examples in current step: 5, step 2900 out of total 10000\n",
      "loss: 9.216123, time: 33.650533, number of examples in current step: 5, step 3000 out of total 10000\n",
      "loss: 9.075683, time: 33.350430, number of examples in current step: 5, step 3100 out of total 10000\n",
      "loss: 9.130850, time: 33.198705, number of examples in current step: 5, step 3200 out of total 10000\n",
      "loss: 8.824206, time: 33.224638, number of examples in current step: 5, step 3300 out of total 10000\n",
      "loss: 8.868568, time: 33.060924, number of examples in current step: 5, step 3400 out of total 10000\n",
      "loss: 8.722790, time: 32.755505, number of examples in current step: 5, step 3500 out of total 10000\n",
      "loss: 8.659580, time: 33.451256, number of examples in current step: 5, step 3600 out of total 10000\n",
      "loss: 8.672709, time: 32.872691, number of examples in current step: 5, step 3700 out of total 10000\n",
      "loss: 8.816822, time: 33.150174, number of examples in current step: 5, step 3800 out of total 10000\n",
      "loss: 8.577710, time: 33.122264, number of examples in current step: 5, step 3900 out of total 10000\n",
      "loss: 8.298463, time: 33.289581, number of examples in current step: 5, step 4000 out of total 10000\n",
      "loss: 7.973340, time: 33.288708, number of examples in current step: 5, step 4100 out of total 10000\n",
      "loss: 8.057464, time: 33.510597, number of examples in current step: 5, step 4200 out of total 10000\n",
      "loss: 7.755475, time: 33.627128, number of examples in current step: 5, step 4300 out of total 10000\n",
      "loss: 7.589542, time: 32.941917, number of examples in current step: 5, step 4400 out of total 10000\n",
      "loss: 7.465863, time: 33.687425, number of examples in current step: 5, step 4500 out of total 10000\n",
      "loss: 7.355834, time: 33.047327, number of examples in current step: 9, step 4600 out of total 10000\n",
      "loss: 7.510208, time: 33.150999, number of examples in current step: 5, step 4700 out of total 10000\n",
      "loss: 7.576485, time: 32.575946, number of examples in current step: 5, step 4800 out of total 10000\n",
      "loss: 7.407544, time: 33.408200, number of examples in current step: 8, step 4900 out of total 10000\n",
      "loss: 6.404705, time: 33.094769, number of examples in current step: 5, step 5000 out of total 10000\n",
      "loss: 6.388583, time: 33.636447, number of examples in current step: 5, step 5100 out of total 10000\n",
      "loss: 6.387465, time: 33.023443, number of examples in current step: 7, step 5200 out of total 10000\n",
      "loss: 6.172295, time: 33.682934, number of examples in current step: 5, step 5300 out of total 10000\n",
      "loss: 5.910387, time: 32.927547, number of examples in current step: 5, step 5400 out of total 10000\n",
      "loss: 5.610732, time: 33.525970, number of examples in current step: 5, step 5500 out of total 10000\n",
      "loss: 5.480320, time: 32.890641, number of examples in current step: 8, step 5600 out of total 10000\n",
      "loss: 5.666756, time: 33.671984, number of examples in current step: 5, step 5700 out of total 10000\n",
      "loss: 5.624298, time: 33.269477, number of examples in current step: 5, step 5800 out of total 10000\n",
      "loss: 5.485603, time: 33.338527, number of examples in current step: 5, step 5900 out of total 10000\n",
      "loss: 4.310713, time: 33.264881, number of examples in current step: 8, step 6000 out of total 10000\n",
      "loss: 4.388899, time: 33.266150, number of examples in current step: 5, step 6100 out of total 10000\n",
      "loss: 4.531266, time: 33.386269, number of examples in current step: 5, step 6200 out of total 10000\n",
      "loss: 4.106246, time: 33.592953, number of examples in current step: 5, step 6300 out of total 10000\n",
      "loss: 3.865821, time: 33.039088, number of examples in current step: 5, step 6400 out of total 10000\n",
      "loss: 3.733040, time: 33.357782, number of examples in current step: 5, step 6500 out of total 10000\n",
      "loss: 3.614104, time: 32.774119, number of examples in current step: 5, step 6600 out of total 10000\n",
      "loss: 3.891334, time: 33.554248, number of examples in current step: 4, step 6700 out of total 10000\n",
      "loss: 3.956822, time: 32.964930, number of examples in current step: 5, step 6800 out of total 10000\n",
      "loss: 3.269616, time: 33.111120, number of examples in current step: 5, step 6900 out of total 10000\n",
      "loss: 2.918509, time: 33.147460, number of examples in current step: 5, step 7000 out of total 10000\n",
      "loss: 3.056451, time: 33.467347, number of examples in current step: 5, step 7100 out of total 10000\n",
      "loss: 2.952458, time: 33.477996, number of examples in current step: 5, step 7200 out of total 10000\n",
      "loss: 2.720741, time: 33.587339, number of examples in current step: 9, step 7300 out of total 10000\n",
      "loss: 2.433647, time: 33.104418, number of examples in current step: 5, step 7400 out of total 10000\n",
      "loss: 2.596394, time: 33.499696, number of examples in current step: 5, step 7500 out of total 10000\n",
      "loss: 2.241538, time: 32.668587, number of examples in current step: 5, step 7600 out of total 10000\n",
      "loss: 2.916792, time: 33.352173, number of examples in current step: 5, step 7700 out of total 10000\n",
      "loss: 2.863580, time: 33.017576, number of examples in current step: 5, step 7800 out of total 10000\n",
      "loss: 2.355133, time: 33.476678, number of examples in current step: 5, step 7900 out of total 10000\n",
      "loss: 1.947071, time: 33.222678, number of examples in current step: 5, step 8000 out of total 10000\n",
      "loss: 2.197302, time: 33.679664, number of examples in current step: 5, step 8100 out of total 10000\n",
      "loss: 2.075956, time: 33.209228, number of examples in current step: 5, step 8200 out of total 10000\n"
     ]
    },
    {
     "name": "stdout",
     "output_type": "stream",
     "text": [
      "loss: 1.903633, time: 33.575222, number of examples in current step: 5, step 8300 out of total 10000\n",
      "loss: 1.782045, time: 33.406267, number of examples in current step: 5, step 8400 out of total 10000\n",
      "loss: 1.894894, time: 32.923071, number of examples in current step: 5, step 8500 out of total 10000\n",
      "loss: 1.757045, time: 33.201561, number of examples in current step: 5, step 8600 out of total 10000\n",
      "loss: 1.868286, time: 32.830063, number of examples in current step: 5, step 8700 out of total 10000\n",
      "loss: 1.843515, time: 33.185594, number of examples in current step: 5, step 8800 out of total 10000\n",
      "loss: 1.560396, time: 32.747909, number of examples in current step: 5, step 8900 out of total 10000\n"
     ]
    }
   ],
   "source": [
    "summarizer.fit(\n",
    "            train_dataloader,\n",
    "            num_gpus=NUM_GPUS,\n",
    "            gradient_accumulation_steps=2,\n",
    "            max_steps=MAX_STEPS,\n",
    "            lr=LEARNING_RATE,\n",
    "            warmup_steps=WARMUP_STEPS,\n",
    "            verbose=True,\n",
    "            report_every=REPORT_EVERY,\n",
    "            clip_grad_norm=False,\n",
    "        )"
   ]
  },
  {
   "cell_type": "code",
   "execution_count": null,
   "metadata": {},
   "outputs": [],
   "source": [
    "summarizer.save_model(\"extsum_modelname_{0}_usepreprocess{1}_steps_{2}.pt\".format(MODEL_NAME, USE_PREPROCSSED_DATA, MAX_STEPS))"
   ]
  },
  {
   "cell_type": "code",
   "execution_count": null,
   "metadata": {},
   "outputs": [],
   "source": [
    "# for loading a previous saved model\n",
    "#import torch\n",
    "#summarizer.model = torch.load(\"cnndm_transformersum_distilbert-base-uncased_bertsum_processed_data.pt\")"
   ]
  },
  {
   "cell_type": "markdown",
   "metadata": {},
   "source": [
    "### Model Evaluation\n",
    "\n",
    "[ROUGE](https://en.wikipedia.org/wiki/ROUGE_(metric)), or Recall-Oriented Understudy for Gisting Evaluation has been commonly used for evaluation text summarization."
   ]
  },
  {
   "cell_type": "code",
   "execution_count": null,
   "metadata": {},
   "outputs": [],
   "source": [
    "target = [i['tgt_txt'] for i in test_dataset]"
   ]
  },
  {
   "cell_type": "code",
   "execution_count": null,
   "metadata": {},
   "outputs": [],
   "source": [
    "len(target)"
   ]
  },
  {
   "cell_type": "code",
   "execution_count": null,
   "metadata": {},
   "outputs": [],
   "source": [
    "test_dataset[0].keys()"
   ]
  },
  {
   "cell_type": "code",
   "execution_count": null,
   "metadata": {},
   "outputs": [],
   "source": [
    "%%time\n",
    "prediction = summarizer.predict(test_dataset, num_gpus=NUM_GPUS, batch_size=128)"
   ]
  },
  {
   "cell_type": "code",
   "execution_count": null,
   "metadata": {},
   "outputs": [],
   "source": [
    "len(prediction)"
   ]
  },
  {
   "cell_type": "code",
   "execution_count": null,
   "metadata": {
    "scrolled": true
   },
   "outputs": [],
   "source": [
    "rouge_transformer = get_rouge(prediction, target, \"./results/\")"
   ]
  },
  {
   "cell_type": "code",
   "execution_count": null,
   "metadata": {},
   "outputs": [],
   "source": [
    "test_dataset[0]['tgt_txt']"
   ]
  },
  {
   "cell_type": "code",
   "execution_count": null,
   "metadata": {},
   "outputs": [],
   "source": [
    "prediction[0]"
   ]
  },
  {
   "cell_type": "code",
   "execution_count": null,
   "metadata": {},
   "outputs": [],
   "source": [
    "test_dataset[0]['src_txt']"
   ]
  }
 ],
 "metadata": {
  "kernelspec": {
   "display_name": "python3.6 cm3",
   "language": "python",
   "name": "cm3"
  },
  "language_info": {
   "codemirror_mode": {
    "name": "ipython",
    "version": 3
   },
   "file_extension": ".py",
   "mimetype": "text/x-python",
   "name": "python",
   "nbconvert_exporter": "python",
   "pygments_lexer": "ipython3",
   "version": "3.6.8"
  }
 },
 "nbformat": 4,
 "nbformat_minor": 2
}
