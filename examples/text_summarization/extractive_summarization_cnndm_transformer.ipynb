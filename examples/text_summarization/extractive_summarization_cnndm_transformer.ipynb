{
 "cells": [
  {
   "cell_type": "markdown",
   "metadata": {},
   "source": [
    "Copyright (c) Microsoft Corporation. All rights reserved.\n",
    "\n",
    "Licensed under the MIT License."
   ]
  },
  {
   "cell_type": "markdown",
   "metadata": {},
   "source": [
    "## Extractive Summarization on CNN/DM Dataset using Transformer Version of BertSum\n",
    "\n",
    "\n",
    "### Summary\n",
    "\n",
    "This notebook demonstrates how to fine tune Transformers for extractive text summarization. Utility functions and classes in the NLP Best Practices repo are used to facilitate data preprocessing, model training, model scoring, result postprocessing, and model evaluation.\n",
    "\n",
    "BertSum refers to  [Fine-tune BERT for Extractive Summarization](https://arxiv.org/pdf/1903.10318.pdf) with [published example](https://github.com/nlpyang/BertSum/). And the Transformer version of Bertsum refers to our modification of BertSum and the source code can be accessed at (https://github.com/daden-ms/BertSum/). \n",
    "\n",
    "Extractive summarization are usually used in document summarization where each input document consists of mutiple sentences. The preprocessing of the input training data involves assigning label 0 or 1 to the document sentences based on the give summary. The summarization problem is also simplfied to classifying whether a document sentence should be included in the summary. \n",
    "\n",
    "The figure below illustrates how BERTSum can be fine tuned for extractive summarization task. [CLS] token is inserted at the beginning of each sentence, so is [SEP] token at the end. Interval segment embedding and positional embedding are added upon the token embedding as the input of the BERT model. The [CLS] token representation is used as sentence embedding and only the [CLS] tokens are used as the input for the summarization model. The summarization layer predicts the probability for each  sentence being included in the summary. Techniques like trigram blocking can be used to improve model accuarcy.   \n",
    "\n",
    "<img src=\"https://nlpbp.blob.core.windows.net/images/BertSum.PNG\">\n",
    "\n",
    "\n",
    "### Before You Start\n",
    "\n",
    "The running time shown in this notebook is on a Standard_NC24s_v3 Azure Ubuntu Virtual Machine with 4 NVIDIA Tesla V100 GPUs. \n",
    "> **Tip**: If you want to run through the notebook quickly, you can set the **`QUICK_RUN`** flag in the cell below to **`True`** to run the notebook on a small subset of the data and a smaller number of epochs. \n",
    "\n",
    "Using only 1 NVIDIA Tesla V100 GPUs, 16GB GPU memory configuration,\n",
    "- for data preprocessing, it takes around 1 minutes to preprocess the data for quick run. Otherwise it takes ~2 hours to finish the data preprocessing. This time estimation assumes that the chosen transformer model is \"distilbert-base-uncased\" and the sentence selection method is \"greedy\", which is the default. The preprocessing time can be significantly longer if the sentence selection method is \"combination\", which can achieve better model performance.\n",
    "\n",
    "- for model fine tuning, it takes around 10 minutes for quick run. Otherwise, it takes around ~3 hours to finish. This estimation assumes the chosen encoder method is \"transformer\". The model fine tuning time can be shorter if other encoder method is chosen, which may result in worse model performance. \n"
   ]
  },
  {
   "cell_type": "code",
   "execution_count": 1,
   "metadata": {},
   "outputs": [],
   "source": [
    "## Set QUICK_RUN = True to run the notebook on a small subset of data and a smaller number of epochs.\n",
    "QUICK_RUN = True\n",
    "## Set USE_PREPROCSSED_DATA = True to skip the data preprocessing\n",
    "USE_PREPROCSSED_DATA = True"
   ]
  },
  {
   "cell_type": "markdown",
   "metadata": {},
   "source": [
    "### Configuration\n"
   ]
  },
  {
   "cell_type": "code",
   "execution_count": 2,
   "metadata": {},
   "outputs": [],
   "source": [
    "%load_ext autoreload"
   ]
  },
  {
   "cell_type": "code",
   "execution_count": 3,
   "metadata": {},
   "outputs": [],
   "source": [
    "%autoreload 2"
   ]
  },
  {
   "cell_type": "code",
   "execution_count": 4,
   "metadata": {},
   "outputs": [
    {
     "name": "stderr",
     "output_type": "stream",
     "text": [
      "[nltk_data] Downloading package punkt to /home/daden/nltk_data...\n",
      "[nltk_data]   Package punkt is already up-to-date!\n",
      "I0116 02:46:45.948552 140512908457792 file_utils.py:35] PyTorch version 1.3.0 available.\n"
     ]
    }
   ],
   "source": [
    "import os\n",
    "import shutil\n",
    "import sys\n",
    "from tempfile import TemporaryDirectory\n",
    "import torch\n",
    "\n",
    "nlp_path = os.path.abspath(\"../../\")\n",
    "if nlp_path not in sys.path:\n",
    "    sys.path.insert(0, nlp_path)\n",
    "\n",
    "from utils_nlp.dataset.cnndm import CNNDMBertSumProcessedData, CNNDMSummarizationDataset\n",
    "from utils_nlp.eval.evaluate_summarization import get_rouge\n",
    "from utils_nlp.models.transformers.extractive_summarization import (\n",
    "    ExtractiveSummarizer,\n",
    "    ExtSumProcessedData,\n",
    "    ExtSumProcessor,\n",
    ")\n",
    "\n",
    "import pandas as pd\n",
    "import scrapbook as sb"
   ]
  },
  {
   "cell_type": "markdown",
   "metadata": {},
   "source": [
    "\n",
    "### Configuration: choose the transformer model to be used"
   ]
  },
  {
   "cell_type": "markdown",
   "metadata": {},
   "source": [
    "Several pretrained models have been made available by [Hugging Face](https://github.com/huggingface/transformers). For extractive summarization, the following pretrained models are supported. "
   ]
  },
  {
   "cell_type": "code",
   "execution_count": 5,
   "metadata": {},
   "outputs": [
    {
     "data": {
      "text/html": [
       "<div>\n",
       "<style scoped>\n",
       "    .dataframe tbody tr th:only-of-type {\n",
       "        vertical-align: middle;\n",
       "    }\n",
       "\n",
       "    .dataframe tbody tr th {\n",
       "        vertical-align: top;\n",
       "    }\n",
       "\n",
       "    .dataframe thead th {\n",
       "        text-align: right;\n",
       "    }\n",
       "</style>\n",
       "<table border=\"1\" class=\"dataframe\">\n",
       "  <thead>\n",
       "    <tr style=\"text-align: right;\">\n",
       "      <th></th>\n",
       "      <th>model_name</th>\n",
       "    </tr>\n",
       "  </thead>\n",
       "  <tbody>\n",
       "    <tr>\n",
       "      <th>0</th>\n",
       "      <td>bert-base-uncased</td>\n",
       "    </tr>\n",
       "    <tr>\n",
       "      <th>1</th>\n",
       "      <td>distilbert-base-uncased</td>\n",
       "    </tr>\n",
       "  </tbody>\n",
       "</table>\n",
       "</div>"
      ],
      "text/plain": [
       "                model_name\n",
       "0        bert-base-uncased\n",
       "1  distilbert-base-uncased"
      ]
     },
     "execution_count": 5,
     "metadata": {},
     "output_type": "execute_result"
    }
   ],
   "source": [
    "pd.DataFrame({\"model_name\": ExtractiveSummarizer.list_supported_models()})"
   ]
  },
  {
   "cell_type": "code",
   "execution_count": 6,
   "metadata": {},
   "outputs": [],
   "source": [
    "# Transformer model being used\n",
    "MODEL_NAME = \"distilbert-base-uncased\""
   ]
  },
  {
   "cell_type": "markdown",
   "metadata": {},
   "source": [
    "Also, we need to install the dependencies for pyrouge."
   ]
  },
  {
   "cell_type": "markdown",
   "metadata": {},
   "source": [
    "# dependencies for ROUGE-1.5.5.pl\n",
    "Run the following commands in your terminal to install XML parsing C library.\n",
    "\n",
    "1. sudo apt-get update\n",
    "1. sudo apt-get install expat\n",
    "1. sudo apt-get install libexpat-dev -y"
   ]
  },
  {
   "cell_type": "markdown",
   "metadata": {},
   "source": [
    "Run the following commands in your terminal to install other pre-requistes for using pyrouge.\n",
    "1. sudo cpan install XML::Parser\n",
    "1. sudo cpan install XML::Parser::PerlSAX\n",
    "1. sudo cpan install XML::DOM\n",
    "\n",
    "Download ROUGE-1.5.5 from https://github.com/andersjo/pyrouge/tree/master/tools/ROUGE-1.5.5.\n",
    "Run the following command in your terminal.\n",
    "* pyrouge_set_rouge_path $ABSOLUTE_DIRECTORY_TO_ROUGE-1.5.5.pl"
   ]
  },
  {
   "cell_type": "markdown",
   "metadata": {},
   "source": [
    "### Data Preprocessing\n",
    "\n",
    "The dataset we used for this notebook is CNN/DM dataset which contains the documents and accompanying questions from the news articles of CNN and Daily mail. The highlights in each article are used as summary. The dataset consits of ~289K training examples, ~11K valiation examples and ~11K test examples.  You can choose the [Option 1] below preprocess the data or [Option 2] to use the preprocessed version at [BERTSum published example](https://github.com/nlpyang/BertSum/). You don't need to manually download any of these two data sets as the code below will handle downloading. Functions defined specific in [cnndm.py](../../utils_nlp/dataset/cnndm.py) are unique to CNN/DM dataset that's preprocessed by harvardnlp. However, it provides a skeleton of how to preprocessing text into the format that model preprocessor takes: sentence tokenization and work tokenization. \n",
    "\n",
    "##### Details of Data Preprocessing\n",
    "\n",
    "The purpose of preprocessing is to process the input articles to the format that model finetuning needed. Assuming you have (1) all articles and (2) target summaries, each in a file and line-breaker separated, the steps to preprocess the data are:\n",
    "1. sentence tokenization\n",
    "2. word tokenization\n",
    "3. **label** the sentences in the article with 1 meaning the sentence is selected and 0 meaning the sentence is not selected. The algorithms for the sentence selection are \"greedy\" and \"combination\" and can be found in [sentence_selection.py](../../utils_nlp/dataset/sentence_selection.py)\n",
    "3. convert each example to  the desired format for extractive summarization\n",
    "    - filter the sentences in the example based on the min_src_ntokens argument. If the lefted total sentence number is less than min_nsents, the example is discarded.\n",
    "    - truncate the sentences in the example if the length is greater than max_src_ntokens\n",
    "    - truncate the sentences in the example and the labels if the total number of sentences is greater than max_nsents\n",
    "    - [CLS] and [SEP] are inserted before and after each sentence\n",
    "    - wordPiece tokenization or Byte Pair Encoding (BPE) subword tokenization\n",
    "    - truncate the example to 512 tokens\n",
    "    - convert the tokens into token indices corresponding to the transformer tokenizer's vocabulary.\n",
    "    - segment ids are generated and added\n",
    "    - [CLS] token positions are logged\n",
    "    - [CLS] token labels are truncated if it's greater than 512, which is the maximum input length that can be taken by the transformer model.\n",
    "    \n",
    "    \n",
    "Note that the original BERTSum paper use Stanford CoreNLP for data preprocessing, here we use NLTK for data preprocessing. "
   ]
  },
  {
   "cell_type": "markdown",
   "metadata": {},
   "source": [
    "##### [Option 1] Preprocess  data (Please skil this part if you choose to use preprocessed data)\n",
    "The code in following cell will download the CNN/DM dataset listed at https://github.com/harvardnlp/sent-summary/."
   ]
  },
  {
   "cell_type": "code",
   "execution_count": 11,
   "metadata": {},
   "outputs": [],
   "source": [
    "# the data path used to save the downloaded data file\n",
    "DATA_PATH = TemporaryDirectory().name\n",
    "# The number of lines at the head of data file used for preprocessing. -1 means all the lines.\n",
    "TOP_N = 1000\n",
    "CHUNK_SIZE=200\n",
    "if not QUICK_RUN:\n",
    "    TOP_N = -1\n",
    "    CHUNK_SIZE = 2000"
   ]
  },
  {
   "cell_type": "code",
   "execution_count": 19,
   "metadata": {
    "scrolled": true
   },
   "outputs": [
    {
     "name": "stderr",
     "output_type": "stream",
     "text": [
      "I0103 05:29:37.485339 140060135520064 utils.py:173] Opening tar file /tmp/tmpjd6tv6g9/cnndm.tar.gz.\n",
      "I0103 05:29:37.487093 140060135520064 utils.py:181] /tmp/tmpjd6tv6g9/test.txt.src already extracted.\n",
      "I0103 05:29:37.777695 140060135520064 utils.py:181] /tmp/tmpjd6tv6g9/test.txt.tgt.tagged already extracted.\n",
      "I0103 05:29:37.804513 140060135520064 utils.py:181] /tmp/tmpjd6tv6g9/train.txt.src already extracted.\n",
      "I0103 05:29:45.345131 140060135520064 utils.py:181] /tmp/tmpjd6tv6g9/train.txt.tgt.tagged already extracted.\n",
      "I0103 05:29:45.963999 140060135520064 utils.py:181] /tmp/tmpjd6tv6g9/val.txt.src already extracted.\n",
      "I0103 05:29:46.300785 140060135520064 utils.py:181] /tmp/tmpjd6tv6g9/val.txt.tgt.tagged already extracted.\n"
     ]
    }
   ],
   "source": [
    "train_dataset, test_dataset = CNNDMSummarizationDataset(top_n=TOP_N, local_cache_path=DATA_PATH)"
   ]
  },
  {
   "cell_type": "markdown",
   "metadata": {},
   "source": [
    "Preprocess the data and save the data to disk."
   ]
  },
  {
   "cell_type": "code",
   "execution_count": 20,
   "metadata": {},
   "outputs": [
    {
     "name": "stderr",
     "output_type": "stream",
     "text": [
      "I0103 05:29:49.643863 140060135520064 tokenization_utils.py:379] loading file https://s3.amazonaws.com/models.huggingface.co/bert/bert-base-uncased-vocab.txt from cache at ./26bc1ad6c0ac742e9b52263248f6d0f00068293b33709fae12320c0e35ccfbbb.542ce4285a40d23a559526243235df47c5f75c197f04f37d1a0c124c32c9a084\n"
     ]
    }
   ],
   "source": [
    "processor = ExtSumProcessor(model_name=MODEL_NAME)\n",
    "ext_sum_train = processor.preprocess(train_dataset, train_dataset.get_target(), oracle_mode=\"greedy\")\n",
    "ext_sum_test = processor.preprocess(test_dataset, test_dataset.get_target(),oracle_mode=\"greedy\")"
   ]
  },
  {
   "cell_type": "code",
   "execution_count": 21,
   "metadata": {
    "scrolled": true
   },
   "outputs": [],
   "source": [
    "save_path = os.path.join(DATA_PATH, \"processed\")\n",
    "train_files = ExtSumProcessedData.save_data(\n",
    "    ext_sum_train, is_test=False, save_path=save_path, chunk_size=CHUNK_SIZE\n",
    ")\n",
    "test_files = ExtSumProcessedData.save_data(\n",
    "    ext_sum_test, is_test=True, save_path=save_path, chunk_size=CHUNK_SIZE\n",
    ")"
   ]
  },
  {
   "cell_type": "code",
   "execution_count": 22,
   "metadata": {},
   "outputs": [
    {
     "data": {
      "text/plain": [
       "['/tmp/tmpjd6tv6g9/processed/0_train',\n",
       " '/tmp/tmpjd6tv6g9/processed/1_train',\n",
       " '/tmp/tmpjd6tv6g9/processed/2_train',\n",
       " '/tmp/tmpjd6tv6g9/processed/3_train',\n",
       " '/tmp/tmpjd6tv6g9/processed/4_train']"
      ]
     },
     "execution_count": 22,
     "metadata": {},
     "output_type": "execute_result"
    }
   ],
   "source": [
    "train_files"
   ]
  },
  {
   "cell_type": "code",
   "execution_count": 23,
   "metadata": {},
   "outputs": [
    {
     "data": {
      "text/plain": [
       "['/tmp/tmpjd6tv6g9/processed/0_test',\n",
       " '/tmp/tmpjd6tv6g9/processed/1_test',\n",
       " '/tmp/tmpjd6tv6g9/processed/2_test',\n",
       " '/tmp/tmpjd6tv6g9/processed/3_test',\n",
       " '/tmp/tmpjd6tv6g9/processed/4_test']"
      ]
     },
     "execution_count": 23,
     "metadata": {},
     "output_type": "execute_result"
    }
   ],
   "source": [
    "test_files"
   ]
  },
  {
   "cell_type": "code",
   "execution_count": 24,
   "metadata": {
    "scrolled": true
   },
   "outputs": [],
   "source": [
    "train_dataset, test_dataset = ExtSumProcessedData().splits(root=save_path)"
   ]
  },
  {
   "cell_type": "markdown",
   "metadata": {},
   "source": [
    "#### Inspect Data"
   ]
  },
  {
   "cell_type": "code",
   "execution_count": 25,
   "metadata": {},
   "outputs": [
    {
     "name": "stdout",
     "output_type": "stream",
     "text": [
      "200\n"
     ]
    },
    {
     "data": {
      "text/plain": [
       "dict_keys(['src', 'labels', 'segs', 'clss', 'src_txt', 'tgt_txt'])"
      ]
     },
     "execution_count": 25,
     "metadata": {},
     "output_type": "execute_result"
    }
   ],
   "source": [
    "import torch\n",
    "bert_format_data = torch.load(train_files[0])\n",
    "print(len(bert_format_data))\n",
    "bert_format_data[0].keys()"
   ]
  },
  {
   "cell_type": "code",
   "execution_count": 26,
   "metadata": {},
   "outputs": [
    {
     "data": {
      "text/plain": [
       "[0, 0, 1, 0, 0, 0, 0, 0, 0, 0, 0, 0, 0, 0, 0, 0, 0, 0, 0, 0]"
      ]
     },
     "execution_count": 26,
     "metadata": {},
     "output_type": "execute_result"
    }
   ],
   "source": [
    "bert_format_data[0]['labels']"
   ]
  },
  {
   "cell_type": "markdown",
   "metadata": {},
   "source": [
    "##### [Option 2] Reuse Preprocessed  data from [BERTSUM Repo](https://github.com/nlpyang/BertSum)"
   ]
  },
  {
   "cell_type": "code",
   "execution_count": 8,
   "metadata": {},
   "outputs": [],
   "source": [
    "# the data path used to downloaded the preprocessed data from BERTSUM Repo.\n",
    "# if you have downloaded the dataset, change the code to use that path where the dataset is.\n",
    "PROCESSED_DATA_PATH = TemporaryDirectory().name\n",
    "data_path = \"./temp_data5/\"\n",
    "PROCESSED_DATA_PATH = data_path"
   ]
  },
  {
   "cell_type": "code",
   "execution_count": 9,
   "metadata": {},
   "outputs": [],
   "source": [
    "if USE_PREPROCSSED_DATA:\n",
    "    CNNDMBertSumProcessedData.download(local_path=PROCESSED_DATA_PATH)\n",
    "    train_dataset, test_dataset = ExtSumProcessedData().splits(root=PROCESSED_DATA_PATH)\n",
    "    "
   ]
  },
  {
   "cell_type": "markdown",
   "metadata": {},
   "source": [
    "### Model training\n",
    "To start model training, we need to create a instance of ExtractiveSummarizer.\n",
    "#### Choose the transformer model.\n",
    "Currently ExtractiveSummarizer support two models:\n",
    "- distilbert-base-uncase, \n",
    "- bert-base-uncase\n",
    "\n",
    "Potentionally, roberta-based model and xlnet can be supported but needs to be tested.\n",
    "#### Choose the encoder algorithm.\n",
    "There are four options:\n",
    "- baseline: it used a smaller transformer model to replace the bert model and with transformer summarization layer\n",
    "- classifier: it uses pretrained BERT and fine-tune BERT with **simple logistic classification** summarization layer\n",
    "- transformer: it uses pretrained BERT and fine-tune BERT with **transformer** summarization layer\n",
    "- RNN: it uses pretrained BERT and fine-tune BERT with **LSTM** summarization layer"
   ]
  },
  {
   "cell_type": "code",
   "execution_count": 10,
   "metadata": {},
   "outputs": [],
   "source": [
    "# notebook parameters\n",
    "# the cache data path during find tuning\n",
    "CACHE_DIR = TemporaryDirectory().name\n",
    "\n",
    "# batch size, unit is the number of tokens\n",
    "BATCH_SIZE = 3000\n",
    "\n",
    "# GPU used for training\n",
    "NUM_GPUS = 2\n",
    "\n",
    "# Encoder name. Options are: 1. baseline, classifier, transformer, rnn.\n",
    "ENCODER = \"transformer\"\n",
    "\n",
    "# Learning rate\n",
    "LEARNING_RATE=2e-3\n",
    "\n",
    "# How often the statistics reports show up in training, unit is step.\n",
    "REPORT_EVERY=100\n",
    "\n",
    "# total number of steps for training\n",
    "MAX_STEPS=1e3\n",
    "# number of steps for warm up\n",
    "WARMUP_STEPS=5e2\n",
    "    \n",
    "if not QUICK_RUN:\n",
    "    MAX_STEPS=5e4\n",
    "    WARMUP_STEPS=5e3\n",
    " "
   ]
  },
  {
   "cell_type": "code",
   "execution_count": 11,
   "metadata": {
    "scrolled": true
   },
   "outputs": [
    {
     "name": "stderr",
     "output_type": "stream",
     "text": [
      "I0116 02:49:16.893831 140512908457792 file_utils.py:362] https://s3.amazonaws.com/models.huggingface.co/bert/distilbert-base-uncased-config.json not found in cache or force_download set to True, downloading to /tmp/tmpellptok2\n",
      "I0116 02:49:17.050156 140512908457792 file_utils.py:377] copying /tmp/tmpellptok2 to cache at /tmp/tmpuzp1saxl/a41e817d5c0743e29e86ff85edc8c257e61bc8d88e4271bb1b243b6e7614c633.1ccd1a11c9ff276830e114ea477ea2407100f4a3be7bdc45d37be9e37fa71c7e\n",
      "I0116 02:49:17.051342 140512908457792 file_utils.py:381] creating metadata file for /tmp/tmpuzp1saxl/a41e817d5c0743e29e86ff85edc8c257e61bc8d88e4271bb1b243b6e7614c633.1ccd1a11c9ff276830e114ea477ea2407100f4a3be7bdc45d37be9e37fa71c7e\n",
      "I0116 02:49:17.052677 140512908457792 file_utils.py:390] removing temp file /tmp/tmpellptok2\n",
      "I0116 02:49:17.053515 140512908457792 configuration_utils.py:185] loading configuration file https://s3.amazonaws.com/models.huggingface.co/bert/distilbert-base-uncased-config.json from cache at /tmp/tmpuzp1saxl/a41e817d5c0743e29e86ff85edc8c257e61bc8d88e4271bb1b243b6e7614c633.1ccd1a11c9ff276830e114ea477ea2407100f4a3be7bdc45d37be9e37fa71c7e\n",
      "I0116 02:49:17.054235 140512908457792 configuration_utils.py:199] Model config {\n",
      "  \"activation\": \"gelu\",\n",
      "  \"attention_dropout\": 0.1,\n",
      "  \"dim\": 768,\n",
      "  \"dropout\": 0.1,\n",
      "  \"finetuning_task\": null,\n",
      "  \"hidden_dim\": 3072,\n",
      "  \"id2label\": {\n",
      "    \"0\": \"LABEL_0\",\n",
      "    \"1\": \"LABEL_1\"\n",
      "  },\n",
      "  \"initializer_range\": 0.02,\n",
      "  \"is_decoder\": false,\n",
      "  \"label2id\": {\n",
      "    \"LABEL_0\": 0,\n",
      "    \"LABEL_1\": 1\n",
      "  },\n",
      "  \"max_position_embeddings\": 512,\n",
      "  \"n_heads\": 12,\n",
      "  \"n_layers\": 6,\n",
      "  \"num_labels\": 0,\n",
      "  \"output_attentions\": false,\n",
      "  \"output_hidden_states\": false,\n",
      "  \"output_past\": true,\n",
      "  \"pruned_heads\": {},\n",
      "  \"qa_dropout\": 0.1,\n",
      "  \"seq_classif_dropout\": 0.2,\n",
      "  \"sinusoidal_pos_embds\": false,\n",
      "  \"tie_weights_\": true,\n",
      "  \"torchscript\": false,\n",
      "  \"use_bfloat16\": false,\n",
      "  \"vocab_size\": 30522\n",
      "}\n",
      "\n",
      "I0116 02:49:17.198397 140512908457792 file_utils.py:362] https://s3.amazonaws.com/models.huggingface.co/bert/distilbert-base-uncased-pytorch_model.bin not found in cache or force_download set to True, downloading to /tmp/tmpkep1nw1m\n",
      "I0116 02:49:21.920167 140512908457792 file_utils.py:377] copying /tmp/tmpkep1nw1m to cache at /tmp/tmpuzp1saxl/7b8a8f0b21c4e7f6962451c9370a5d9af90372a5f64637a251f2de154d0fc72c.c2015533705b9dff680ae707e205a35e2860e8d148b45d35085419d74fe57ac5\n",
      "I0116 02:49:22.206808 140512908457792 file_utils.py:381] creating metadata file for /tmp/tmpuzp1saxl/7b8a8f0b21c4e7f6962451c9370a5d9af90372a5f64637a251f2de154d0fc72c.c2015533705b9dff680ae707e205a35e2860e8d148b45d35085419d74fe57ac5\n",
      "I0116 02:49:22.207926 140512908457792 file_utils.py:390] removing temp file /tmp/tmpkep1nw1m\n",
      "I0116 02:49:22.241757 140512908457792 modeling_utils.py:406] loading weights file https://s3.amazonaws.com/models.huggingface.co/bert/distilbert-base-uncased-pytorch_model.bin from cache at /tmp/tmpuzp1saxl/7b8a8f0b21c4e7f6962451c9370a5d9af90372a5f64637a251f2de154d0fc72c.c2015533705b9dff680ae707e205a35e2860e8d148b45d35085419d74fe57ac5\n",
      "I0116 02:49:23.441951 140512908457792 configuration_utils.py:185] loading configuration file https://s3.amazonaws.com/models.huggingface.co/bert/distilbert-base-uncased-config.json from cache at /tmp/tmpuzp1saxl/a41e817d5c0743e29e86ff85edc8c257e61bc8d88e4271bb1b243b6e7614c633.1ccd1a11c9ff276830e114ea477ea2407100f4a3be7bdc45d37be9e37fa71c7e\n",
      "I0116 02:49:23.442846 140512908457792 configuration_utils.py:199] Model config {\n",
      "  \"activation\": \"gelu\",\n",
      "  \"attention_dropout\": 0.1,\n",
      "  \"dim\": 768,\n",
      "  \"dropout\": 0.1,\n",
      "  \"finetuning_task\": null,\n",
      "  \"hidden_dim\": 3072,\n",
      "  \"id2label\": {\n",
      "    \"0\": \"LABEL_0\",\n",
      "    \"1\": \"LABEL_1\"\n",
      "  },\n",
      "  \"initializer_range\": 0.02,\n",
      "  \"is_decoder\": false,\n",
      "  \"label2id\": {\n",
      "    \"LABEL_0\": 0,\n",
      "    \"LABEL_1\": 1\n",
      "  },\n",
      "  \"max_position_embeddings\": 512,\n",
      "  \"n_heads\": 12,\n",
      "  \"n_layers\": 6,\n",
      "  \"num_labels\": 2,\n",
      "  \"output_attentions\": false,\n",
      "  \"output_hidden_states\": false,\n",
      "  \"output_past\": true,\n",
      "  \"pruned_heads\": {},\n",
      "  \"qa_dropout\": 0.1,\n",
      "  \"seq_classif_dropout\": 0.2,\n",
      "  \"sinusoidal_pos_embds\": false,\n",
      "  \"tie_weights_\": true,\n",
      "  \"torchscript\": false,\n",
      "  \"use_bfloat16\": false,\n",
      "  \"vocab_size\": 30522\n",
      "}\n",
      "\n",
      "I0116 02:49:23.581018 140512908457792 modeling_utils.py:406] loading weights file https://s3.amazonaws.com/models.huggingface.co/bert/distilbert-base-uncased-pytorch_model.bin from cache at /tmp/tmpuzp1saxl/7b8a8f0b21c4e7f6962451c9370a5d9af90372a5f64637a251f2de154d0fc72c.c2015533705b9dff680ae707e205a35e2860e8d148b45d35085419d74fe57ac5\n"
     ]
    }
   ],
   "source": [
    "summarizer = ExtractiveSummarizer(MODEL_NAME, ENCODER, CACHE_DIR)"
   ]
  },
  {
   "cell_type": "code",
   "execution_count": 32,
   "metadata": {
    "scrolled": false
   },
   "outputs": [
    {
     "name": "stderr",
     "output_type": "stream",
     "text": [
      "/dadendev/anaconda3/envs/cm3/lib/python3.6/site-packages/torch/nn/parallel/_functions.py:61: UserWarning: Was asked to gather along dimension 0, but all input tensors were scalars; will instead unsqueeze and return a vector.\n",
      "  warnings.warn('Was asked to gather along dimension 0, but all '\n"
     ]
    },
    {
     "name": "stdout",
     "output_type": "stream",
     "text": [
      "loss: 10.797444, time: 48.076998, number of examples in current step: 5, step 100 out of total 1000\n",
      "loss: 10.033221, time: 36.946141, number of examples in current step: 5, step 200 out of total 1000\n",
      "loss: 9.813506, time: 37.003569, number of examples in current step: 5, step 300 out of total 1000\n",
      "loss: 9.743949, time: 36.684293, number of examples in current step: 5, step 400 out of total 1000\n",
      "loss: 9.624907, time: 36.727618, number of examples in current step: 5, step 500 out of total 1000\n",
      "loss: 9.359334, time: 36.721974, number of examples in current step: 5, step 600 out of total 1000\n",
      "loss: 8.998051, time: 36.738466, number of examples in current step: 6, step 700 out of total 1000\n",
      "loss: 8.392073, time: 36.622983, number of examples in current step: 5, step 800 out of total 1000\n",
      "loss: 7.814545, time: 36.219987, number of examples in current step: 5, step 900 out of total 1000\n",
      "loss: 6.793788, time: 36.647171, number of examples in current step: 5, step 1000 out of total 1000\n"
     ]
    }
   ],
   "source": [
    "summarizer.fit(\n",
    "            train_dataset,\n",
    "            num_gpus=NUM_GPUS,\n",
    "            batch_size=BATCH_SIZE,\n",
    "            gradient_accumulation_steps=2,\n",
    "            max_steps=MAX_STEPS,\n",
    "            learning_rate=LEARNING_RATE,\n",
    "            warmup_steps=WARMUP_STEPS,\n",
    "            verbose=True,\n",
    "            report_every=REPORT_EVERY,\n",
    "            clip_grad_norm=False,\n",
    "        )"
   ]
  },
  {
   "cell_type": "code",
   "execution_count": 33,
   "metadata": {},
   "outputs": [
    {
     "name": "stderr",
     "output_type": "stream",
     "text": [
      "I0103 05:38:19.590131 140060135520064 extractive_summarization.py:729] Saving model checkpoint to /tmp/tmp_b2wqaou/fine_tuned/extsum_modelname_distilbert-base-uncased_usepreprocessFalse_steps_1000.0.pt\n"
     ]
    }
   ],
   "source": [
    "summarizer.save_model(\"extsum_modelname_{0}_usepreprocess{1}_steps_{2}.pt\".format(MODEL_NAME, USE_PREPROCSSED_DATA, MAX_STEPS))"
   ]
  },
  {
   "cell_type": "code",
   "execution_count": 12,
   "metadata": {},
   "outputs": [],
   "source": [
    "# for loading a previous saved model\n",
    "import torch\n",
    "#summarizer.model = torch.load(\"/tmp/tmp2wg41gb5/fine_tuned/dis_sum_model.pt\") #\"cnndm_transformersum_distilbert-base-uncased_bertsum_processed_data.pt\")\n",
    "summarizer.model = torch.load(\"./tmp2wg41gb5/fine_tuned/dis_sum_model.pt\")"
   ]
  },
  {
   "cell_type": "markdown",
   "metadata": {},
   "source": [
    "### Model Evaluation\n",
    "\n",
    "[ROUGE](https://en.wikipedia.org/wiki/ROUGE_(metric)), or Recall-Oriented Understudy for Gisting Evaluation has been commonly used for evaluating text summarization."
   ]
  },
  {
   "cell_type": "code",
   "execution_count": 13,
   "metadata": {},
   "outputs": [],
   "source": [
    "target = [i['tgt_txt'] for i in test_dataset]"
   ]
  },
  {
   "cell_type": "code",
   "execution_count": 14,
   "metadata": {},
   "outputs": [
    {
     "data": {
      "text/plain": [
       "11489"
      ]
     },
     "execution_count": 14,
     "metadata": {},
     "output_type": "execute_result"
    }
   ],
   "source": [
    "len(target)"
   ]
  },
  {
   "cell_type": "code",
   "execution_count": 15,
   "metadata": {},
   "outputs": [
    {
     "data": {
      "text/plain": [
       "dict_keys(['src', 'labels', 'segs', 'clss', 'src_txt', 'tgt_txt'])"
      ]
     },
     "execution_count": 15,
     "metadata": {},
     "output_type": "execute_result"
    }
   ],
   "source": [
    "test_dataset[0].keys()"
   ]
  },
  {
   "cell_type": "code",
   "execution_count": 16,
   "metadata": {},
   "outputs": [
    {
     "name": "stderr",
     "output_type": "stream",
     "text": [
      "Evaluating: 100%|██████████| 90/90 [00:41<00:00,  2.66it/s]\n"
     ]
    },
    {
     "name": "stdout",
     "output_type": "stream",
     "text": [
      "CPU times: user 4min 42s, sys: 3min 2s, total: 7min 45s\n",
      "Wall time: 1min 8s\n"
     ]
    }
   ],
   "source": [
    "%%time\n",
    "prediction = summarizer.predict(test_dataset, num_gpus=NUM_GPUS, batch_size=128)"
   ]
  },
  {
   "cell_type": "code",
   "execution_count": 17,
   "metadata": {},
   "outputs": [
    {
     "data": {
      "text/plain": [
       "11489"
      ]
     },
     "execution_count": 17,
     "metadata": {},
     "output_type": "execute_result"
    }
   ],
   "source": [
    "len(prediction)"
   ]
  },
  {
   "cell_type": "code",
   "execution_count": 18,
   "metadata": {},
   "outputs": [],
   "source": [
    "RESULT_DIR = TemporaryDirectory().name"
   ]
  },
  {
   "cell_type": "code",
   "execution_count": 19,
   "metadata": {},
   "outputs": [
    {
     "name": "stdout",
     "output_type": "stream",
     "text": [
      "11489\n",
      "11489\n"
     ]
    },
    {
     "name": "stderr",
     "output_type": "stream",
     "text": [
      "2020-01-16 02:52:07,209 [MainThread  ] [INFO ]  Writing summaries.\n",
      "I0116 02:52:07.209927 140512908457792 pyrouge.py:525] Writing summaries.\n",
      "2020-01-16 02:52:07,211 [MainThread  ] [INFO ]  Processing summaries. Saving system files to /tmp/tmp6omxc5sj/tmpv6bdr_c8/system and model files to /tmp/tmp6omxc5sj/tmpv6bdr_c8/model.\n",
      "I0116 02:52:07.211637 140512908457792 pyrouge.py:518] Processing summaries. Saving system files to /tmp/tmp6omxc5sj/tmpv6bdr_c8/system and model files to /tmp/tmp6omxc5sj/tmpv6bdr_c8/model.\n",
      "2020-01-16 02:52:07,212 [MainThread  ] [INFO ]  Processing files in /tmp/tmp6omxc5sj/rouge-tmp-2020-01-16-02-52-06/candidate/.\n",
      "I0116 02:52:07.212683 140512908457792 pyrouge.py:43] Processing files in /tmp/tmp6omxc5sj/rouge-tmp-2020-01-16-02-52-06/candidate/.\n",
      "2020-01-16 02:52:08,401 [MainThread  ] [INFO ]  Saved processed files to /tmp/tmp6omxc5sj/tmpv6bdr_c8/system.\n",
      "I0116 02:52:08.401605 140512908457792 pyrouge.py:53] Saved processed files to /tmp/tmp6omxc5sj/tmpv6bdr_c8/system.\n",
      "2020-01-16 02:52:08,403 [MainThread  ] [INFO ]  Processing files in /tmp/tmp6omxc5sj/rouge-tmp-2020-01-16-02-52-06/reference/.\n",
      "I0116 02:52:08.403331 140512908457792 pyrouge.py:43] Processing files in /tmp/tmp6omxc5sj/rouge-tmp-2020-01-16-02-52-06/reference/.\n",
      "2020-01-16 02:52:09,531 [MainThread  ] [INFO ]  Saved processed files to /tmp/tmp6omxc5sj/tmpv6bdr_c8/model.\n",
      "I0116 02:52:09.531387 140512908457792 pyrouge.py:53] Saved processed files to /tmp/tmp6omxc5sj/tmpv6bdr_c8/model.\n",
      "2020-01-16 02:52:09,615 [MainThread  ] [INFO ]  Written ROUGE configuration to /tmp/tmp6omxc5sj/tmpww4evgit/rouge_conf.xml\n",
      "I0116 02:52:09.615920 140512908457792 pyrouge.py:354] Written ROUGE configuration to /tmp/tmp6omxc5sj/tmpww4evgit/rouge_conf.xml\n",
      "2020-01-16 02:52:09,617 [MainThread  ] [INFO ]  Running ROUGE with command /dadendev/pyrouge/tools/ROUGE-1.5.5/ROUGE-1.5.5.pl -e /dadendev/pyrouge/tools/ROUGE-1.5.5/data -c 95 -m -r 1000 -n 2 -a /tmp/tmp6omxc5sj/tmpww4evgit/rouge_conf.xml\n",
      "I0116 02:52:09.617135 140512908457792 pyrouge.py:372] Running ROUGE with command /dadendev/pyrouge/tools/ROUGE-1.5.5/ROUGE-1.5.5.pl -e /dadendev/pyrouge/tools/ROUGE-1.5.5/data -c 95 -m -r 1000 -n 2 -a /tmp/tmp6omxc5sj/tmpww4evgit/rouge_conf.xml\n"
     ]
    },
    {
     "name": "stdout",
     "output_type": "stream",
     "text": [
      "---------------------------------------------\n",
      "1 ROUGE-1 Average_R: 0.43005 (95%-conf.int. 0.42776 - 0.43242)\n",
      "1 ROUGE-1 Average_P: 0.32518 (95%-conf.int. 0.32306 - 0.32755)\n",
      "1 ROUGE-1 Average_F: 0.35676 (95%-conf.int. 0.35493 - 0.35871)\n",
      "---------------------------------------------\n",
      "1 ROUGE-2 Average_R: 0.15683 (95%-conf.int. 0.15477 - 0.15889)\n",
      "1 ROUGE-2 Average_P: 0.11916 (95%-conf.int. 0.11742 - 0.12089)\n",
      "1 ROUGE-2 Average_F: 0.13038 (95%-conf.int. 0.12864 - 0.13213)\n",
      "---------------------------------------------\n",
      "1 ROUGE-L Average_R: 0.38632 (95%-conf.int. 0.38403 - 0.38857)\n",
      "1 ROUGE-L Average_P: 0.29290 (95%-conf.int. 0.29087 - 0.29508)\n",
      "1 ROUGE-L Average_F: 0.32097 (95%-conf.int. 0.31919 - 0.32291)\n",
      "\n"
     ]
    }
   ],
   "source": [
    "rouge_score = get_rouge(prediction, target, RESULT_DIR)"
   ]
  },
  {
   "cell_type": "code",
   "execution_count": 34,
   "metadata": {},
   "outputs": [
    {
     "name": "stdout",
     "output_type": "stream",
     "text": [
      "11489\n",
      "11489\n"
     ]
    },
    {
     "name": "stderr",
     "output_type": "stream",
     "text": [
      "2020-01-14 21:54:32,107 [MainThread  ] [INFO ]  Writing summaries.\n",
      "I0114 21:54:32.107936 140559393421120 pyrouge.py:525] Writing summaries.\n",
      "2020-01-14 21:54:32,109 [MainThread  ] [INFO ]  Processing summaries. Saving system files to /tmp/tmp606wcgbu/tmp47v2f3j3/system and model files to /tmp/tmp606wcgbu/tmp47v2f3j3/model.\n",
      "I0114 21:54:32.109679 140559393421120 pyrouge.py:518] Processing summaries. Saving system files to /tmp/tmp606wcgbu/tmp47v2f3j3/system and model files to /tmp/tmp606wcgbu/tmp47v2f3j3/model.\n",
      "2020-01-14 21:54:32,110 [MainThread  ] [INFO ]  Processing files in /tmp/tmp606wcgbu/rouge-tmp-2020-01-14-21-54-29/candidate/.\n",
      "I0114 21:54:32.110743 140559393421120 pyrouge.py:43] Processing files in /tmp/tmp606wcgbu/rouge-tmp-2020-01-14-21-54-29/candidate/.\n",
      "2020-01-14 21:54:33,255 [MainThread  ] [INFO ]  Saved processed files to /tmp/tmp606wcgbu/tmp47v2f3j3/system.\n",
      "I0114 21:54:33.255218 140559393421120 pyrouge.py:53] Saved processed files to /tmp/tmp606wcgbu/tmp47v2f3j3/system.\n",
      "2020-01-14 21:54:33,256 [MainThread  ] [INFO ]  Processing files in /tmp/tmp606wcgbu/rouge-tmp-2020-01-14-21-54-29/reference/.\n",
      "I0114 21:54:33.256805 140559393421120 pyrouge.py:43] Processing files in /tmp/tmp606wcgbu/rouge-tmp-2020-01-14-21-54-29/reference/.\n",
      "2020-01-14 21:54:35,002 [MainThread  ] [INFO ]  Saved processed files to /tmp/tmp606wcgbu/tmp47v2f3j3/model.\n",
      "I0114 21:54:35.002835 140559393421120 pyrouge.py:53] Saved processed files to /tmp/tmp606wcgbu/tmp47v2f3j3/model.\n",
      "2020-01-14 21:54:35,081 [MainThread  ] [INFO ]  Written ROUGE configuration to /tmp/tmp606wcgbu/tmpip_8248y/rouge_conf.xml\n",
      "I0114 21:54:35.081315 140559393421120 pyrouge.py:354] Written ROUGE configuration to /tmp/tmp606wcgbu/tmpip_8248y/rouge_conf.xml\n",
      "2020-01-14 21:54:35,082 [MainThread  ] [INFO ]  Running ROUGE with command /dadendev/pyrouge/tools/ROUGE-1.5.5/ROUGE-1.5.5.pl -e /dadendev/pyrouge/tools/ROUGE-1.5.5/data -c 95 -m -r 1000 -n 2 -a /tmp/tmp606wcgbu/tmpip_8248y/rouge_conf.xml\n",
      "I0114 21:54:35.082428 140559393421120 pyrouge.py:372] Running ROUGE with command /dadendev/pyrouge/tools/ROUGE-1.5.5/ROUGE-1.5.5.pl -e /dadendev/pyrouge/tools/ROUGE-1.5.5/data -c 95 -m -r 1000 -n 2 -a /tmp/tmp606wcgbu/tmpip_8248y/rouge_conf.xml\n"
     ]
    },
    {
     "name": "stdout",
     "output_type": "stream",
     "text": [
      "---------------------------------------------\n",
      "1 ROUGE-1 Average_R: 0.52314 (95%-conf.int. 0.52026 - 0.52623)\n",
      "1 ROUGE-1 Average_P: 0.34694 (95%-conf.int. 0.34464 - 0.34935)\n",
      "1 ROUGE-1 Average_F: 0.40336 (95%-conf.int. 0.40121 - 0.40552)\n",
      "---------------------------------------------\n",
      "1 ROUGE-2 Average_R: 0.22709 (95%-conf.int. 0.22443 - 0.22983)\n",
      "1 ROUGE-2 Average_P: 0.14956 (95%-conf.int. 0.14784 - 0.15153)\n",
      "1 ROUGE-2 Average_F: 0.17423 (95%-conf.int. 0.17230 - 0.17631)\n",
      "---------------------------------------------\n",
      "1 ROUGE-L Average_R: 0.47414 (95%-conf.int. 0.47143 - 0.47701)\n",
      "1 ROUGE-L Average_P: 0.31482 (95%-conf.int. 0.31261 - 0.31694)\n",
      "1 ROUGE-L Average_F: 0.36584 (95%-conf.int. 0.36375 - 0.36793)\n",
      "\n"
     ]
    }
   ],
   "source": [
    "rouge_score = get_rouge(prediction, target, RESULT_DIR)"
   ]
  },
  {
   "cell_type": "code",
   "execution_count": 31,
   "metadata": {},
   "outputs": [
    {
     "name": "stdout",
     "output_type": "stream",
     "text": [
      "11489\n",
      "11489\n"
     ]
    },
    {
     "name": "stderr",
     "output_type": "stream",
     "text": [
      "2020-01-14 21:31:38,192 [MainThread  ] [INFO ]  Writing summaries.\n",
      "I0114 21:31:38.192723 140559393421120 pyrouge.py:525] Writing summaries.\n",
      "2020-01-14 21:31:38,194 [MainThread  ] [INFO ]  Processing summaries. Saving system files to /tmp/tmp606wcgbu/tmpt8hpdt2b/system and model files to /tmp/tmp606wcgbu/tmpt8hpdt2b/model.\n",
      "I0114 21:31:38.194494 140559393421120 pyrouge.py:518] Processing summaries. Saving system files to /tmp/tmp606wcgbu/tmpt8hpdt2b/system and model files to /tmp/tmp606wcgbu/tmpt8hpdt2b/model.\n",
      "2020-01-14 21:31:38,195 [MainThread  ] [INFO ]  Processing files in /tmp/tmp606wcgbu/rouge-tmp-2020-01-14-21-31-37/candidate/.\n",
      "I0114 21:31:38.195538 140559393421120 pyrouge.py:43] Processing files in /tmp/tmp606wcgbu/rouge-tmp-2020-01-14-21-31-37/candidate/.\n",
      "2020-01-14 21:31:39,295 [MainThread  ] [INFO ]  Saved processed files to /tmp/tmp606wcgbu/tmpt8hpdt2b/system.\n",
      "I0114 21:31:39.295857 140559393421120 pyrouge.py:53] Saved processed files to /tmp/tmp606wcgbu/tmpt8hpdt2b/system.\n",
      "2020-01-14 21:31:39,297 [MainThread  ] [INFO ]  Processing files in /tmp/tmp606wcgbu/rouge-tmp-2020-01-14-21-31-37/reference/.\n",
      "I0114 21:31:39.297373 140559393421120 pyrouge.py:43] Processing files in /tmp/tmp606wcgbu/rouge-tmp-2020-01-14-21-31-37/reference/.\n",
      "2020-01-14 21:31:40,400 [MainThread  ] [INFO ]  Saved processed files to /tmp/tmp606wcgbu/tmpt8hpdt2b/model.\n",
      "I0114 21:31:40.400936 140559393421120 pyrouge.py:53] Saved processed files to /tmp/tmp606wcgbu/tmpt8hpdt2b/model.\n",
      "2020-01-14 21:31:40,497 [MainThread  ] [INFO ]  Written ROUGE configuration to /tmp/tmp606wcgbu/tmp85jj9xas/rouge_conf.xml\n",
      "I0114 21:31:40.497675 140559393421120 pyrouge.py:354] Written ROUGE configuration to /tmp/tmp606wcgbu/tmp85jj9xas/rouge_conf.xml\n",
      "2020-01-14 21:31:40,498 [MainThread  ] [INFO ]  Running ROUGE with command /dadendev/pyrouge/tools/ROUGE-1.5.5/ROUGE-1.5.5.pl -e /dadendev/pyrouge/tools/ROUGE-1.5.5/data -c 95 -m -r 1000 -n 2 -a /tmp/tmp606wcgbu/tmp85jj9xas/rouge_conf.xml\n",
      "I0114 21:31:40.498777 140559393421120 pyrouge.py:372] Running ROUGE with command /dadendev/pyrouge/tools/ROUGE-1.5.5/ROUGE-1.5.5.pl -e /dadendev/pyrouge/tools/ROUGE-1.5.5/data -c 95 -m -r 1000 -n 2 -a /tmp/tmp606wcgbu/tmp85jj9xas/rouge_conf.xml\n"
     ]
    },
    {
     "name": "stdout",
     "output_type": "stream",
     "text": [
      "---------------------------------------------\n",
      "1 ROUGE-1 Average_R: 0.41913 (95%-conf.int. 0.41589 - 0.42222)\n",
      "1 ROUGE-1 Average_P: 0.29780 (95%-conf.int. 0.29547 - 0.30013)\n",
      "1 ROUGE-1 Average_F: 0.33357 (95%-conf.int. 0.33129 - 0.33590)\n",
      "---------------------------------------------\n",
      "1 ROUGE-2 Average_R: 0.15268 (95%-conf.int. 0.15024 - 0.15515)\n",
      "1 ROUGE-2 Average_P: 0.10379 (95%-conf.int. 0.10201 - 0.10557)\n",
      "1 ROUGE-2 Average_F: 0.11848 (95%-conf.int. 0.11663 - 0.12035)\n",
      "---------------------------------------------\n",
      "1 ROUGE-L Average_R: 0.37687 (95%-conf.int. 0.37383 - 0.37983)\n",
      "1 ROUGE-L Average_P: 0.26805 (95%-conf.int. 0.26590 - 0.27017)\n",
      "1 ROUGE-L Average_F: 0.30009 (95%-conf.int. 0.29799 - 0.30222)\n",
      "\n"
     ]
    }
   ],
   "source": [
    "rouge_score = get_rouge(prediction, target, RESULT_DIR)"
   ]
  },
  {
   "cell_type": "code",
   "execution_count": 24,
   "metadata": {},
   "outputs": [
    {
     "name": "stdout",
     "output_type": "stream",
     "text": [
      "11489\n",
      "11489\n"
     ]
    },
    {
     "name": "stderr",
     "output_type": "stream",
     "text": [
      "2020-01-14 20:32:33,669 [MainThread  ] [INFO ]  Writing summaries.\n",
      "I0114 20:32:33.669380 140559393421120 pyrouge.py:525] Writing summaries.\n",
      "2020-01-14 20:32:33,671 [MainThread  ] [INFO ]  Processing summaries. Saving system files to /tmp/tmp606wcgbu/tmp47u21nov/system and model files to /tmp/tmp606wcgbu/tmp47u21nov/model.\n",
      "I0114 20:32:33.671078 140559393421120 pyrouge.py:518] Processing summaries. Saving system files to /tmp/tmp606wcgbu/tmp47u21nov/system and model files to /tmp/tmp606wcgbu/tmp47u21nov/model.\n",
      "2020-01-14 20:32:33,672 [MainThread  ] [INFO ]  Processing files in /tmp/tmp606wcgbu/rouge-tmp-2020-01-14-20-32-32/candidate/.\n",
      "I0114 20:32:33.672239 140559393421120 pyrouge.py:43] Processing files in /tmp/tmp606wcgbu/rouge-tmp-2020-01-14-20-32-32/candidate/.\n",
      "2020-01-14 20:32:34,765 [MainThread  ] [INFO ]  Saved processed files to /tmp/tmp606wcgbu/tmp47u21nov/system.\n",
      "I0114 20:32:34.765755 140559393421120 pyrouge.py:53] Saved processed files to /tmp/tmp606wcgbu/tmp47u21nov/system.\n",
      "2020-01-14 20:32:34,767 [MainThread  ] [INFO ]  Processing files in /tmp/tmp606wcgbu/rouge-tmp-2020-01-14-20-32-32/reference/.\n",
      "I0114 20:32:34.767416 140559393421120 pyrouge.py:43] Processing files in /tmp/tmp606wcgbu/rouge-tmp-2020-01-14-20-32-32/reference/.\n",
      "2020-01-14 20:32:36,802 [MainThread  ] [INFO ]  Saved processed files to /tmp/tmp606wcgbu/tmp47u21nov/model.\n",
      "I0114 20:32:36.802762 140559393421120 pyrouge.py:53] Saved processed files to /tmp/tmp606wcgbu/tmp47u21nov/model.\n",
      "2020-01-14 20:32:36,883 [MainThread  ] [INFO ]  Written ROUGE configuration to /tmp/tmp606wcgbu/tmppve7gf0y/rouge_conf.xml\n",
      "I0114 20:32:36.883153 140559393421120 pyrouge.py:354] Written ROUGE configuration to /tmp/tmp606wcgbu/tmppve7gf0y/rouge_conf.xml\n",
      "2020-01-14 20:32:36,884 [MainThread  ] [INFO ]  Running ROUGE with command /dadendev/pyrouge/tools/ROUGE-1.5.5/ROUGE-1.5.5.pl -e /dadendev/pyrouge/tools/ROUGE-1.5.5/data -c 95 -m -r 1000 -n 2 -a /tmp/tmp606wcgbu/tmppve7gf0y/rouge_conf.xml\n",
      "I0114 20:32:36.884121 140559393421120 pyrouge.py:372] Running ROUGE with command /dadendev/pyrouge/tools/ROUGE-1.5.5/ROUGE-1.5.5.pl -e /dadendev/pyrouge/tools/ROUGE-1.5.5/data -c 95 -m -r 1000 -n 2 -a /tmp/tmp606wcgbu/tmppve7gf0y/rouge_conf.xml\n"
     ]
    },
    {
     "name": "stdout",
     "output_type": "stream",
     "text": [
      "---------------------------------------------\n",
      "1 ROUGE-1 Average_R: 0.52314 (95%-conf.int. 0.52026 - 0.52623)\n",
      "1 ROUGE-1 Average_P: 0.34694 (95%-conf.int. 0.34464 - 0.34935)\n",
      "1 ROUGE-1 Average_F: 0.40336 (95%-conf.int. 0.40121 - 0.40552)\n",
      "---------------------------------------------\n",
      "1 ROUGE-2 Average_R: 0.22709 (95%-conf.int. 0.22443 - 0.22983)\n",
      "1 ROUGE-2 Average_P: 0.14956 (95%-conf.int. 0.14784 - 0.15153)\n",
      "1 ROUGE-2 Average_F: 0.17423 (95%-conf.int. 0.17230 - 0.17631)\n",
      "---------------------------------------------\n",
      "1 ROUGE-L Average_R: 0.47414 (95%-conf.int. 0.47143 - 0.47701)\n",
      "1 ROUGE-L Average_P: 0.31482 (95%-conf.int. 0.31261 - 0.31694)\n",
      "1 ROUGE-L Average_F: 0.36584 (95%-conf.int. 0.36375 - 0.36793)\n",
      "\n"
     ]
    }
   ],
   "source": [
    "rouge_score = get_rouge(prediction, target, RESULT_DIR)"
   ]
  },
  {
   "cell_type": "code",
   "execution_count": 25,
   "metadata": {},
   "outputs": [
    {
     "data": {
      "text/plain": [
       "\"turkish court imposed blocks as images of siege shared on social media<q>images ` deeply upset ' wife and children of hostage mehmet selim kiraz<q>prosecutor , 46 , died in hospital after hostages stormed a courthouse<q>two of his captors were killed when security forces took back the building\""
      ]
     },
     "execution_count": 25,
     "metadata": {},
     "output_type": "execute_result"
    }
   ],
   "source": [
    "test_dataset[0]['tgt_txt']"
   ]
  },
  {
   "cell_type": "code",
   "execution_count": 26,
   "metadata": {},
   "outputs": [
    {
     "data": {
      "text/plain": [
       "\"turkey has blocked access to twitter and youtube after they refused a request to remove pictures of a prosecutor held during an armed siege last week .<q>a turkish court imposed the blocks because images of the deadly siege were being shared on social media and ` deeply upset ' the wife and children of mehmet selim kiraz , the hostage who was killed .<q>the 46-year-old turkish prosecutor died in hospital when members of the revolutionary people 's liberation party-front ( dhkp-c ) stormed a courthouse and took him hostage .\""
      ]
     },
     "execution_count": 26,
     "metadata": {},
     "output_type": "execute_result"
    }
   ],
   "source": [
    "prediction[0]"
   ]
  },
  {
   "cell_type": "code",
   "execution_count": 27,
   "metadata": {
    "scrolled": true
   },
   "outputs": [
    {
     "data": {
      "text/plain": [
       "['turkey has blocked access to twitter and youtube after they refused a request to remove pictures of a prosecutor held during an armed siege last week .',\n",
       " \"a turkish court imposed the blocks because images of the deadly siege were being shared on social media and ` deeply upset ' the wife and children of mehmet selim kiraz , the hostage who was killed .\",\n",
       " \"the 46-year-old turkish prosecutor died in hospital when members of the revolutionary people 's liberation party-front ( dhkp-c ) stormed a courthouse and took him hostage .\",\n",
       " 'the dhkp-c is considered a terrorist group by turkey , the european union and us .',\n",
       " 'a turkish court has blocked access to twitter and youtube after they refused a request to remove pictures of prosecutor mehmet selim kiraz held during an armed siege last week',\n",
       " 'grief : the family of mehmet selim kiraz grieve over his coffin during his funeral at eyup sultan mosque in istanbul , turkey .',\n",
       " 'he died in hospital after he was taken hostage by the far-left organisation',\n",
       " 'two of his captors were killed when security forces took back the building where the far-left group was holding him .',\n",
       " 'gunshots were heard and smoke could be seen rising from the scene at the end of the six-hour stand-off .',\n",
       " 'mr kiraz , a father-of-two married to a judge who also worked at the courthouse , was targeted for his part in an investigation into the death of berkin elvan .',\n",
       " 'the 15-year-old was severely wounded after being hit on the head by a tear-gas canister fired by a police officer during anti-government protests in istanbul in june 2013 .',\n",
       " 'after spending 269 days in a coma , elvan eventually died on march 11 last year .',\n",
       " \"his death , and the subsequent investigation , have since become a rallying point for the country 's far-left .\",\n",
       " 'gathering : prosecutors , lawyers and judges stand near a statue of lady justice during the funeral ceremony',\n",
       " \"a british national , of polish origin but who has not been named , was arrested on saturday as part of an operation against the revolutionary people 's liberation party-front , according to reports .\",\n",
       " \"a foreign office spokeswoman said this morning : ' i can confirm that a british national has been arrested in turkey and that we are offering consular assistance . '\",\n",
       " 'before imposing the blocks on the websites , turkish authorities had tried to prevent newspapers printing images taken during the siege last week .',\n",
       " \"the newspapers were accused by the government of ` spreading terrorist propaganda ' in sharing the images of the hostage-taking .\",\n",
       " \"presidential spokesman ibrahim kalin said : ` this has to do with the publishing of the prosecutor 's\",\n",
       " \"what happened in the aftermath ( of the prosecutor 's\",\n",
       " 'killing ) is as grim as the incident itself .',\n",
       " \"` the demand from the prosecutor 's office is that this image\",\n",
       " 'not be used anywhere in electronic platforms .',\n",
       " '` the wife and children of prosecutor kiraz have been deeply',\n",
       " \"the images are everywhere . '\",\n",
       " \"he added : ' a request has been made to both twitter and youtube for the\",\n",
       " 'removal of the images and posts but they have not accepted it',\n",
       " 'and no response has been given .',\n",
       " \"this decision has been taken through a court in istanbul . '\",\n",
       " 'critical : prosecutor mehmet selim kiraz was taken to hospital with gunshot wounds but died of his injuries',\n",
       " 'strength of feeling : elvan has since become an icon for the turkish far-left and his supporters accuse the authorities of covering up the circumstances and perpetrators of his death',\n",
       " 'google said it was working to restore service to the youtube',\n",
       " 'video-sharing site , which it owns .',\n",
       " 'working to restore access for its users .',\n",
       " 'facebook said it had complied with a turkish court order requiring it to restrict access to some content or face a block on its service .',\n",
       " 'a company spokesman said it would appeal the order .',\n",
       " \"turkey 's telecoms regulator could not immediately be reached\",\n",
       " 'and there was no statement on its website .',\n",
       " 'this is not the first time that turkish authorities have imposed blocks on social media sites and networks .',\n",
       " 'in the run-up to local elections in march 2014 blocks were imposed after recordings circulated allegedly revealing corruption among senior officials .',\n",
       " 'figures provided by twitter revealed that turkey filed more requests to remove content from the social network than any other nation between july and december 2014 .']"
      ]
     },
     "execution_count": 27,
     "metadata": {},
     "output_type": "execute_result"
    }
   ],
   "source": [
    "test_dataset[0]['src_txt']"
   ]
  },
  {
   "cell_type": "code",
   "execution_count": 44,
   "metadata": {},
   "outputs": [
    {
     "data": {
      "application/scrapbook.scrap.json+json": {
       "data": 0.09525,
       "encoder": "json",
       "name": "rouge_2_f_score",
       "version": 1
      }
     },
     "metadata": {
      "scrapbook": {
       "data": true,
       "display": false,
       "name": "rouge_2_f_score"
      }
     },
     "output_type": "display_data"
    }
   ],
   "source": [
    "# for testing\n",
    "sb.glue(\"rouge_2_f_score\", rouge_score['rouge_2_f_score'])"
   ]
  },
  {
   "cell_type": "markdown",
   "metadata": {},
   "source": [
    "## Clean up temporary folders"
   ]
  },
  {
   "cell_type": "code",
   "execution_count": null,
   "metadata": {},
   "outputs": [],
   "source": [
    "if os.path.exists(DATA_PATH):\n",
    "    shutil.rmtree(DATA_PATH, ignore_errors=True)\n",
    "if os.path.exists(PROCESSED_DATA_PATH):\n",
    "    shutil.rmtree(PROCESSED_DATA_PATH, ignore_errors=True)\n",
    "if os.path.exists(CACHE_DIR):\n",
    "    shutil.rmtree(CACHE_DIR, ignore_errors=True)\n",
    "if os.path.exists(RESULT_DIR):\n",
    "    shutil.rmtree(RESULT_DIR, ignore_errors=True)"
   ]
  }
 ],
 "metadata": {
  "kernelspec": {
   "display_name": "python3.6 cm3",
   "language": "python",
   "name": "cm3"
  },
  "language_info": {
   "codemirror_mode": {
    "name": "ipython",
    "version": 3
   },
   "file_extension": ".py",
   "mimetype": "text/x-python",
   "name": "python",
   "nbconvert_exporter": "python",
   "pygments_lexer": "ipython3",
   "version": "3.6.8"
  }
 },
 "nbformat": 4,
 "nbformat_minor": 2
}
