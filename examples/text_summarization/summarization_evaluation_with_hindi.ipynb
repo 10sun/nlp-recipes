{
 "cells": [
  {
   "cell_type": "code",
   "execution_count": 2,
   "metadata": {},
   "outputs": [
    {
     "name": "stdout",
     "output_type": "stream",
     "text": [
      "1\n",
      "1\n"
     ]
    }
   ],
   "source": [
    "import os\n",
    "import sys\n",
    "\n",
    "nlp_path = os.path.abspath('../../')\n",
    "if nlp_path not in sys.path:\n",
    "    sys.path.insert(0, nlp_path)\n",
    "    \n",
    "from utils_nlp.eval.compute_rouge import compute_rouge_perl, compute_rouge_python"
   ]
  },
  {
   "cell_type": "code",
   "execution_count": 7,
   "metadata": {},
   "outputs": [],
   "source": [
    "summary_candidates = [\"The stock market is doing well this year.\", \"The movie is very popular.\"]\n",
    "summary_references = [\"The stock market is doing really well in 2019.\", \"The movie is very popular among millennials.\"]"
   ]
  },
  {
   "cell_type": "code",
   "execution_count": 3,
   "metadata": {},
   "outputs": [
    {
     "name": "stderr",
     "output_type": "stream",
     "text": [
      "2019-12-02 23:36:32,480 [MainThread  ] [INFO ]  Writing summaries.\n",
      "2019-12-02 23:36:32,481 [MainThread  ] [INFO ]  Processing summaries. Saving system files to /tmp/tmp46vemjwg/system and model files to /tmp/tmp46vemjwg/model.\n",
      "2019-12-02 23:36:32,481 [MainThread  ] [INFO ]  Processing files in /tmp/tmp35k52u07/rouge-tmp-2019-12-02-23-36-32/candidate/.\n",
      "2019-12-02 23:36:32,482 [MainThread  ] [INFO ]  Processing cand.1.txt.\n",
      "2019-12-02 23:36:32,483 [MainThread  ] [INFO ]  Processing cand.0.txt.\n",
      "2019-12-02 23:36:32,484 [MainThread  ] [INFO ]  Saved processed files to /tmp/tmp46vemjwg/system.\n",
      "2019-12-02 23:36:32,485 [MainThread  ] [INFO ]  Processing files in /tmp/tmp35k52u07/rouge-tmp-2019-12-02-23-36-32/reference/.\n",
      "2019-12-02 23:36:32,486 [MainThread  ] [INFO ]  Processing ref.0.txt.\n",
      "2019-12-02 23:36:32,486 [MainThread  ] [INFO ]  Processing ref.1.txt.\n",
      "2019-12-02 23:36:32,487 [MainThread  ] [INFO ]  Saved processed files to /tmp/tmp46vemjwg/model.\n",
      "2019-12-02 23:36:32,488 [MainThread  ] [INFO ]  Written ROUGE configuration to /tmp/tmptlx9xmxp/rouge_conf.xml\n",
      "2019-12-02 23:36:32,489 [MainThread  ] [INFO ]  Running ROUGE with command /home/hlu/notebooks/summarization/pyrouge/tools/ROUGE-1.5.5/ROUGE-1.5.5.pl -e /home/hlu/notebooks/summarization/pyrouge/tools/ROUGE-1.5.5/data -c 95 -2 -1 -U -r 1000 -n 4 -w 1.2 -a -m /tmp/tmptlx9xmxp/rouge_conf.xml\n"
     ]
    },
    {
     "name": "stdout",
     "output_type": "stream",
     "text": [
      "2\n",
      "2\n",
      "---------------------------------------------\n",
      "1 ROUGE-1 Average_R: 0.69048 (95%-conf.int. 0.66667 - 0.71429)\n",
      "1 ROUGE-1 Average_P: 0.87500 (95%-conf.int. 0.75000 - 1.00000)\n",
      "1 ROUGE-1 Average_F: 0.76961 (95%-conf.int. 0.70588 - 0.83334)\n",
      "---------------------------------------------\n",
      "1 ROUGE-2 Average_R: 0.58333 (95%-conf.int. 0.50000 - 0.66667)\n",
      "1 ROUGE-2 Average_P: 0.78571 (95%-conf.int. 0.57143 - 1.00000)\n",
      "1 ROUGE-2 Average_F: 0.66666 (95%-conf.int. 0.53333 - 0.80000)\n",
      "---------------------------------------------\n",
      "1 ROUGE-3 Average_R: 0.51428 (95%-conf.int. 0.42857 - 0.60000)\n",
      "1 ROUGE-3 Average_P: 0.75000 (95%-conf.int. 0.50000 - 1.00000)\n",
      "1 ROUGE-3 Average_F: 0.60577 (95%-conf.int. 0.46154 - 0.75000)\n",
      "---------------------------------------------\n",
      "1 ROUGE-4 Average_R: 0.41666 (95%-conf.int. 0.33333 - 0.50000)\n",
      "1 ROUGE-4 Average_P: 0.70000 (95%-conf.int. 0.40000 - 1.00000)\n",
      "1 ROUGE-4 Average_F: 0.51515 (95%-conf.int. 0.36363 - 0.66667)\n",
      "---------------------------------------------\n",
      "1 ROUGE-L Average_R: 0.69048 (95%-conf.int. 0.66667 - 0.71429)\n",
      "1 ROUGE-L Average_P: 0.87500 (95%-conf.int. 0.75000 - 1.00000)\n",
      "1 ROUGE-L Average_F: 0.76961 (95%-conf.int. 0.70588 - 0.83334)\n",
      "---------------------------------------------\n",
      "1 ROUGE-W-1.2 Average_R: 0.44238 (95%-conf.int. 0.40075 - 0.48401)\n",
      "1 ROUGE-W-1.2 Average_P: 0.84981 (95%-conf.int. 0.69963 - 1.00000)\n",
      "1 ROUGE-W-1.2 Average_F: 0.58095 (95%-conf.int. 0.50960 - 0.65230)\n",
      "---------------------------------------------\n",
      "1 ROUGE-S* Average_R: 0.44643 (95%-conf.int. 0.41667 - 0.47619)\n",
      "1 ROUGE-S* Average_P: 0.76785 (95%-conf.int. 0.53571 - 1.00000)\n",
      "1 ROUGE-S* Average_F: 0.55695 (95%-conf.int. 0.46875 - 0.64516)\n",
      "---------------------------------------------\n",
      "1 ROUGE-SU* Average_R: 0.49790 (95%-conf.int. 0.47727 - 0.51852)\n",
      "1 ROUGE-SU* Average_P: 0.80000 (95%-conf.int. 0.60000 - 1.00000)\n",
      "1 ROUGE-SU* Average_F: 0.60729 (95%-conf.int. 0.53164 - 0.68293)\n",
      "\n"
     ]
    },
    {
     "data": {
      "text/plain": [
       "{'rouge_1_recall': 0.69048,\n",
       " 'rouge_1_recall_cb': 0.66667,\n",
       " 'rouge_1_recall_ce': 0.71429,\n",
       " 'rouge_1_precision': 0.875,\n",
       " 'rouge_1_precision_cb': 0.75,\n",
       " 'rouge_1_precision_ce': 1.0,\n",
       " 'rouge_1_f_score': 0.76961,\n",
       " 'rouge_1_f_score_cb': 0.70588,\n",
       " 'rouge_1_f_score_ce': 0.83334,\n",
       " 'rouge_2_recall': 0.58333,\n",
       " 'rouge_2_recall_cb': 0.5,\n",
       " 'rouge_2_recall_ce': 0.66667,\n",
       " 'rouge_2_precision': 0.78571,\n",
       " 'rouge_2_precision_cb': 0.57143,\n",
       " 'rouge_2_precision_ce': 1.0,\n",
       " 'rouge_2_f_score': 0.66666,\n",
       " 'rouge_2_f_score_cb': 0.53333,\n",
       " 'rouge_2_f_score_ce': 0.8,\n",
       " 'rouge_3_recall': 0.51428,\n",
       " 'rouge_3_recall_cb': 0.42857,\n",
       " 'rouge_3_recall_ce': 0.6,\n",
       " 'rouge_3_precision': 0.75,\n",
       " 'rouge_3_precision_cb': 0.5,\n",
       " 'rouge_3_precision_ce': 1.0,\n",
       " 'rouge_3_f_score': 0.60577,\n",
       " 'rouge_3_f_score_cb': 0.46154,\n",
       " 'rouge_3_f_score_ce': 0.75,\n",
       " 'rouge_4_recall': 0.41666,\n",
       " 'rouge_4_recall_cb': 0.33333,\n",
       " 'rouge_4_recall_ce': 0.5,\n",
       " 'rouge_4_precision': 0.7,\n",
       " 'rouge_4_precision_cb': 0.4,\n",
       " 'rouge_4_precision_ce': 1.0,\n",
       " 'rouge_4_f_score': 0.51515,\n",
       " 'rouge_4_f_score_cb': 0.36363,\n",
       " 'rouge_4_f_score_ce': 0.66667,\n",
       " 'rouge_l_recall': 0.69048,\n",
       " 'rouge_l_recall_cb': 0.66667,\n",
       " 'rouge_l_recall_ce': 0.71429,\n",
       " 'rouge_l_precision': 0.875,\n",
       " 'rouge_l_precision_cb': 0.75,\n",
       " 'rouge_l_precision_ce': 1.0,\n",
       " 'rouge_l_f_score': 0.76961,\n",
       " 'rouge_l_f_score_cb': 0.70588,\n",
       " 'rouge_l_f_score_ce': 0.83334,\n",
       " 'rouge_w_1.2_recall': 0.44238,\n",
       " 'rouge_w_1.2_recall_cb': 0.40075,\n",
       " 'rouge_w_1.2_recall_ce': 0.48401,\n",
       " 'rouge_w_1.2_precision': 0.84981,\n",
       " 'rouge_w_1.2_precision_cb': 0.69963,\n",
       " 'rouge_w_1.2_precision_ce': 1.0,\n",
       " 'rouge_w_1.2_f_score': 0.58095,\n",
       " 'rouge_w_1.2_f_score_cb': 0.5096,\n",
       " 'rouge_w_1.2_f_score_ce': 0.6523,\n",
       " 'rouge_s*_recall': 0.44643,\n",
       " 'rouge_s*_recall_cb': 0.41667,\n",
       " 'rouge_s*_recall_ce': 0.47619,\n",
       " 'rouge_s*_precision': 0.76785,\n",
       " 'rouge_s*_precision_cb': 0.53571,\n",
       " 'rouge_s*_precision_ce': 1.0,\n",
       " 'rouge_s*_f_score': 0.55695,\n",
       " 'rouge_s*_f_score_cb': 0.46875,\n",
       " 'rouge_s*_f_score_ce': 0.64516,\n",
       " 'rouge_su*_recall': 0.4979,\n",
       " 'rouge_su*_recall_cb': 0.47727,\n",
       " 'rouge_su*_recall_ce': 0.51852,\n",
       " 'rouge_su*_precision': 0.8,\n",
       " 'rouge_su*_precision_cb': 0.6,\n",
       " 'rouge_su*_precision_ce': 1.0,\n",
       " 'rouge_su*_f_score': 0.60729,\n",
       " 'rouge_su*_f_score_cb': 0.53164,\n",
       " 'rouge_su*_f_score_ce': 0.68293}"
      ]
     },
     "execution_count": 3,
     "metadata": {},
     "output_type": "execute_result"
    }
   ],
   "source": [
    "compute_rouge_perl(summary_candidates, summary_references)"
   ]
  },
  {
   "cell_type": "code",
   "execution_count": 9,
   "metadata": {},
   "outputs": [
    {
     "name": "stdout",
     "output_type": "stream",
     "text": [
      "2\n",
      "2\n"
     ]
    },
    {
     "data": {
      "text/plain": [
       "{'rouge-2': {'f': 0.6666666666666667,\n",
       "  'p': 0.7857142857142857,\n",
       "  'r': 0.5833333333333333},\n",
       " 'rouge-1': {'f': 0.7696078431372548, 'p': 0.875, 'r': 0.6904761904761905},\n",
       " 'rouge-l': {'f': 0.8044834406175039,\n",
       "  'p': 0.8934181487831181,\n",
       "  'r': 0.7343809193130839}}"
      ]
     },
     "execution_count": 9,
     "metadata": {},
     "output_type": "execute_result"
    }
   ],
   "source": [
    "compute_rouge_python(summary_candidates, summary_references)"
   ]
  },
  {
   "cell_type": "code",
   "execution_count": 7,
   "metadata": {},
   "outputs": [
    {
     "name": "stderr",
     "output_type": "stream",
     "text": [
      "2019-12-03 00:15:58,651 [MainThread  ] [INFO ]  Writing summaries.\n",
      "2019-12-03 00:15:58,652 [MainThread  ] [INFO ]  Processing summaries. Saving system files to /tmp/tmp36zi_gnq/system and model files to /tmp/tmp36zi_gnq/model.\n",
      "2019-12-03 00:15:58,653 [MainThread  ] [INFO ]  Processing files in /tmp/tmpon5iyoo4/rouge-tmp-2019-12-03-00-15-58/candidate/.\n",
      "2019-12-03 00:15:58,654 [MainThread  ] [INFO ]  Processing cand.0.txt.\n",
      "2019-12-03 00:15:58,655 [MainThread  ] [INFO ]  Saved processed files to /tmp/tmp36zi_gnq/system.\n",
      "2019-12-03 00:15:58,655 [MainThread  ] [INFO ]  Processing files in /tmp/tmpon5iyoo4/rouge-tmp-2019-12-03-00-15-58/reference/.\n",
      "2019-12-03 00:15:58,656 [MainThread  ] [INFO ]  Processing ref.0.txt.\n",
      "2019-12-03 00:15:58,657 [MainThread  ] [INFO ]  Saved processed files to /tmp/tmp36zi_gnq/model.\n",
      "2019-12-03 00:15:58,658 [MainThread  ] [INFO ]  Written ROUGE configuration to /tmp/tmpe25agc31/rouge_conf.xml\n",
      "2019-12-03 00:15:58,658 [MainThread  ] [INFO ]  Running ROUGE with command /home/hlu/notebooks/summarization/pyrouge/tools/ROUGE-1.5.5/ROUGE-1.5.5.pl -e /home/hlu/notebooks/summarization/pyrouge/tools/ROUGE-1.5.5/data -c 95 -2 -1 -U -r 1000 -n 4 -w 1.2 -a -m /tmp/tmpe25agc31/rouge_conf.xml\n"
     ]
    },
    {
     "name": "stdout",
     "output_type": "stream",
     "text": [
      "1\n",
      "1\n",
      "---------------------------------------------\n",
      "1 ROUGE-1 Average_R: 1.00000 (95%-conf.int. 1.00000 - 1.00000)\n",
      "1 ROUGE-1 Average_P: 1.00000 (95%-conf.int. 1.00000 - 1.00000)\n",
      "1 ROUGE-1 Average_F: 1.00000 (95%-conf.int. 1.00000 - 1.00000)\n",
      "---------------------------------------------\n",
      "1 ROUGE-2 Average_R: 0.00000 (95%-conf.int. 0.00000 - 0.00000)\n",
      "1 ROUGE-2 Average_P: 0.00000 (95%-conf.int. 0.00000 - 0.00000)\n",
      "1 ROUGE-2 Average_F: 0.00000 (95%-conf.int. 0.00000 - 0.00000)\n",
      "---------------------------------------------\n",
      "1 ROUGE-3 Average_R: 0.00000 (95%-conf.int. 0.00000 - 0.00000)\n",
      "1 ROUGE-3 Average_P: 0.00000 (95%-conf.int. 0.00000 - 0.00000)\n",
      "1 ROUGE-3 Average_F: 0.00000 (95%-conf.int. 0.00000 - 0.00000)\n",
      "---------------------------------------------\n",
      "1 ROUGE-4 Average_R: 0.00000 (95%-conf.int. 0.00000 - 0.00000)\n",
      "1 ROUGE-4 Average_P: 0.00000 (95%-conf.int. 0.00000 - 0.00000)\n",
      "1 ROUGE-4 Average_F: 0.00000 (95%-conf.int. 0.00000 - 0.00000)\n",
      "---------------------------------------------\n",
      "1 ROUGE-L Average_R: 1.00000 (95%-conf.int. 1.00000 - 1.00000)\n",
      "1 ROUGE-L Average_P: 1.00000 (95%-conf.int. 1.00000 - 1.00000)\n",
      "1 ROUGE-L Average_F: 1.00000 (95%-conf.int. 1.00000 - 1.00000)\n",
      "---------------------------------------------\n",
      "1 ROUGE-W-1.2 Average_R: 1.00000 (95%-conf.int. 1.00000 - 1.00000)\n",
      "1 ROUGE-W-1.2 Average_P: 1.00000 (95%-conf.int. 1.00000 - 1.00000)\n",
      "1 ROUGE-W-1.2 Average_F: 1.00000 (95%-conf.int. 1.00000 - 1.00000)\n",
      "---------------------------------------------\n",
      "1 ROUGE-S* Average_R: 0.00000 (95%-conf.int. 0.00000 - 0.00000)\n",
      "1 ROUGE-S* Average_P: 0.00000 (95%-conf.int. 0.00000 - 0.00000)\n",
      "1 ROUGE-S* Average_F: 0.00000 (95%-conf.int. 0.00000 - 0.00000)\n",
      "---------------------------------------------\n",
      "1 ROUGE-SU* Average_R: 0.00000 (95%-conf.int. 0.00000 - 0.00000)\n",
      "1 ROUGE-SU* Average_P: 0.00000 (95%-conf.int. 0.00000 - 0.00000)\n",
      "1 ROUGE-SU* Average_F: 0.00000 (95%-conf.int. 0.00000 - 0.00000)\n",
      "\n"
     ]
    },
    {
     "data": {
      "text/plain": [
       "{'rouge_1_recall': 1.0,\n",
       " 'rouge_1_recall_cb': 1.0,\n",
       " 'rouge_1_recall_ce': 1.0,\n",
       " 'rouge_1_precision': 1.0,\n",
       " 'rouge_1_precision_cb': 1.0,\n",
       " 'rouge_1_precision_ce': 1.0,\n",
       " 'rouge_1_f_score': 1.0,\n",
       " 'rouge_1_f_score_cb': 1.0,\n",
       " 'rouge_1_f_score_ce': 1.0,\n",
       " 'rouge_2_recall': 0.0,\n",
       " 'rouge_2_recall_cb': 0.0,\n",
       " 'rouge_2_recall_ce': 0.0,\n",
       " 'rouge_2_precision': 0.0,\n",
       " 'rouge_2_precision_cb': 0.0,\n",
       " 'rouge_2_precision_ce': 0.0,\n",
       " 'rouge_2_f_score': 0.0,\n",
       " 'rouge_2_f_score_cb': 0.0,\n",
       " 'rouge_2_f_score_ce': 0.0,\n",
       " 'rouge_3_recall': 0.0,\n",
       " 'rouge_3_recall_cb': 0.0,\n",
       " 'rouge_3_recall_ce': 0.0,\n",
       " 'rouge_3_precision': 0.0,\n",
       " 'rouge_3_precision_cb': 0.0,\n",
       " 'rouge_3_precision_ce': 0.0,\n",
       " 'rouge_3_f_score': 0.0,\n",
       " 'rouge_3_f_score_cb': 0.0,\n",
       " 'rouge_3_f_score_ce': 0.0,\n",
       " 'rouge_4_recall': 0.0,\n",
       " 'rouge_4_recall_cb': 0.0,\n",
       " 'rouge_4_recall_ce': 0.0,\n",
       " 'rouge_4_precision': 0.0,\n",
       " 'rouge_4_precision_cb': 0.0,\n",
       " 'rouge_4_precision_ce': 0.0,\n",
       " 'rouge_4_f_score': 0.0,\n",
       " 'rouge_4_f_score_cb': 0.0,\n",
       " 'rouge_4_f_score_ce': 0.0,\n",
       " 'rouge_l_recall': 1.0,\n",
       " 'rouge_l_recall_cb': 1.0,\n",
       " 'rouge_l_recall_ce': 1.0,\n",
       " 'rouge_l_precision': 1.0,\n",
       " 'rouge_l_precision_cb': 1.0,\n",
       " 'rouge_l_precision_ce': 1.0,\n",
       " 'rouge_l_f_score': 1.0,\n",
       " 'rouge_l_f_score_cb': 1.0,\n",
       " 'rouge_l_f_score_ce': 1.0,\n",
       " 'rouge_w_1.2_recall': 1.0,\n",
       " 'rouge_w_1.2_recall_cb': 1.0,\n",
       " 'rouge_w_1.2_recall_ce': 1.0,\n",
       " 'rouge_w_1.2_precision': 1.0,\n",
       " 'rouge_w_1.2_precision_cb': 1.0,\n",
       " 'rouge_w_1.2_precision_ce': 1.0,\n",
       " 'rouge_w_1.2_f_score': 1.0,\n",
       " 'rouge_w_1.2_f_score_cb': 1.0,\n",
       " 'rouge_w_1.2_f_score_ce': 1.0,\n",
       " 'rouge_s*_recall': 0.0,\n",
       " 'rouge_s*_recall_cb': 0.0,\n",
       " 'rouge_s*_recall_ce': 0.0,\n",
       " 'rouge_s*_precision': 0.0,\n",
       " 'rouge_s*_precision_cb': 0.0,\n",
       " 'rouge_s*_precision_ce': 0.0,\n",
       " 'rouge_s*_f_score': 0.0,\n",
       " 'rouge_s*_f_score_cb': 0.0,\n",
       " 'rouge_s*_f_score_ce': 0.0,\n",
       " 'rouge_su*_recall': 0.0,\n",
       " 'rouge_su*_recall_cb': 0.0,\n",
       " 'rouge_su*_recall_ce': 0.0,\n",
       " 'rouge_su*_precision': 0.0,\n",
       " 'rouge_su*_precision_cb': 0.0,\n",
       " 'rouge_su*_precision_ce': 0.0,\n",
       " 'rouge_su*_f_score': 0.0,\n",
       " 'rouge_su*_f_score_cb': 0.0,\n",
       " 'rouge_su*_f_score_ce': 0.0}"
      ]
     },
     "execution_count": 7,
     "metadata": {},
     "output_type": "execute_result"
    }
   ],
   "source": [
    "summary_candidates = [\"जी टी-20 म अफरीदी न खली शानदार\"]\n",
    "summary_references = [\"जी टी-20 म अफरीदी न खली शानदार पारी\"]\n",
    "compute_rouge_perl(summary_candidates, summary_references)"
   ]
  },
  {
   "cell_type": "code",
   "execution_count": 8,
   "metadata": {},
   "outputs": [
    {
     "name": "stdout",
     "output_type": "stream",
     "text": [
      "1\n",
      "1\n"
     ]
    },
    {
     "data": {
      "text/plain": [
       "{'rouge-1': {'f': 0.9333333333333333, 'p': 1.0, 'r': 0.875},\n",
       " 'rouge-2': {'f': 0.923076923076923, 'p': 1.0, 'r': 0.8571428571428571},\n",
       " 'rouge-l': {'f': 0.9444192597460026, 'p': 1.0, 'r': 0.8946916363013153}}"
      ]
     },
     "execution_count": 8,
     "metadata": {},
     "output_type": "execute_result"
    }
   ],
   "source": [
    "compute_rouge_python(summary_candidates, summary_references)"
   ]
  },
  {
   "cell_type": "code",
   "execution_count": 3,
   "metadata": {},
   "outputs": [
    {
     "data": {
      "text/plain": [
       "['abc', ',', 'def']"
      ]
     },
     "execution_count": 3,
     "metadata": {},
     "output_type": "execute_result"
    }
   ],
   "source": [
    "import nltk\n",
    "nltk.word_tokenize(\"abc, def\")"
   ]
  },
  {
   "cell_type": "code",
   "execution_count": 5,
   "metadata": {},
   "outputs": [
    {
     "data": {
      "text/plain": [
       "'abc  def'"
      ]
     },
     "execution_count": 5,
     "metadata": {},
     "output_type": "execute_result"
    }
   ],
   "source": [
    "import re\n",
    "REMOVE_CHAR_PATTERN = re.compile('[^A-Za-z0-9]')\n",
    "REMOVE_CHAR_PATTERN.sub(' ', \"abc, def\")"
   ]
  },
  {
   "cell_type": "code",
   "execution_count": 6,
   "metadata": {},
   "outputs": [
    {
     "ename": "SyntaxError",
     "evalue": "invalid syntax (<ipython-input-6-efe35652c103>, line 1)",
     "output_type": "error",
     "traceback": [
      "\u001b[0;36m  File \u001b[0;32m\"<ipython-input-6-efe35652c103>\"\u001b[0;36m, line \u001b[0;32m1\u001b[0m\n\u001b[0;31m    re.sub(ur\"\\p{P}+\", \"\", \"abc, def\")\u001b[0m\n\u001b[0m                    ^\u001b[0m\n\u001b[0;31mSyntaxError\u001b[0m\u001b[0;31m:\u001b[0m invalid syntax\n"
     ]
    }
   ],
   "source": [
    "re.sub(ur\"\\p{P}+\", \"\", \"abc, def\")"
   ]
  }
 ],
 "metadata": {
  "kernelspec": {
   "display_name": "nlp_gpu",
   "language": "python",
   "name": "nlp_gpu"
  },
  "language_info": {
   "codemirror_mode": {
    "name": "ipython",
    "version": 3
   },
   "file_extension": ".py",
   "mimetype": "text/x-python",
   "name": "python",
   "nbconvert_exporter": "python",
   "pygments_lexer": "ipython3",
   "version": "3.6.8"
  }
 },
 "nbformat": 4,
 "nbformat_minor": 2
}
