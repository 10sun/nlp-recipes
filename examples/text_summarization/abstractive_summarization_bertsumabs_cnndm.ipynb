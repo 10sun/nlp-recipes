{
 "cells": [
  {
   "cell_type": "markdown",
   "metadata": {},
   "source": [
    "Copyright (c) Microsoft Corporation.\n",
    "Licensed under the MIT License."
   ]
  },
  {
   "cell_type": "markdown",
   "metadata": {},
   "source": [
    "# Abstractive Summarization using BertSumAbs on CNN/DailyMails Dataset"
   ]
  },
  {
   "cell_type": "markdown",
   "metadata": {},
   "source": [
    "## Summary"
   ]
  },
  {
   "cell_type": "markdown",
   "metadata": {},
   "source": [
    "This notebook demonstrates how to fine tune BERT for abstractive text summarization. Utility functions and classes in the NLP Best Practices repo are used to facilitate data preprocessing, model training, model scoring, result postprocessing, and model evaluation.\n",
    "\n",
    "### Abstractive Summarization\n",
    "Abstractive summarization is the task of taking an input text and summarizing its content in a shorter output text. In contrast to extractive summarization, abstractive summarization doesn't take sentences directly from the input text, instead, rephrases the input text.\n",
    "\n",
    "### BertSumAbs\n",
    "\n",
    "BertSumAbs refers to an BERT-based abstractive summarization algorithm  in [Text Summarization with Pretrained Encoders](https://arxiv.org/abs/1908.08345) with [published examples](https://github.com/nlpyang/PreSumm). It uses the pretrained BERT model as encoder and finetune both encoder and decoder on a specific labeled summarization dataset like [CNN/DM dataset](https://github.com/harvardnlp/sent-summary). \n",
    "\n",
    "The figure below shows the comparison of architecture of the original BERT model (left) and BERTSUM (right), which BertSumAbs is built upon. For BERTSUM, a input document is split into sentences, and [CLS] and [SEP] tokens are inserted before and after each sentence. This resulting sequence is followed by the summation of three kinds of embeddings for each token before feeding into the transformer layers. The positional embedding used in BertSumAbs enables input length of more than 512, which is the  maximum input length for BERT model. \n",
    "\n",
    "It should be noted that the architecture only shows the encoder part. For decoder, BertSumAbs also uses a transformer with multiple layers and random initialization. As pretrained weights are used in the encoder, there is a mismatch in encoder and decoder which may result in unstable finetuning. Therefore, in fine tuning, BertSumAbs uses seperate optimizers for encoder and decoder, each uses its own scheduling. In text generation, techniques like trigram blocking and beam search can be used to improve model accuracy.\n",
    "<img src=\"https://nlpbp.blob.core.windows.net/images/BertForSummarization.PNG\">\n"
   ]
  },
  {
   "cell_type": "markdown",
   "metadata": {},
   "source": [
    "## Before you start\n",
    "Set QUICK_RUN = True to run the notebook on a small subset of data and a smaller number of steps. If QUICK_RUN = False, the notebook takes about 5 hours to run on a VM with 4 16GB NVIDIA V100 GPUs. Finetuning costs around 1.5 hours and inferecing costs around 3.5 hour.  Better performance can be achieved by increasing the MAX_STEPS.\n",
    "\n",
    "* **ROUGE Evalation**: To run rouge evaluation, please refer to the section of compute_rouge_perl in [summarization_evaluation.ipynb](./summarization_evaluation.ipynb) for setup.\n",
    "\n",
    "* **Distributed Training**:\n",
    "Please note that the jupyter notebook only allows to use pytorch [DataParallel](https://pytorch.org/docs/master/nn.html#dataparallel). Faster speed and larger batch size can be achieved with pytorch [DistributedDataParallel](https://pytorch.org/docs/master/notes/ddp.html)(DDP). Script [abstractive_summarization_bertsum_cnndm_distributed_train.py](./abstractive_summarization_bertsum_cnndm_distributed_train.py) shows an example of how to use DDP.\n",
    "\n",
    "* **Mixed Precision Training**:\n",
    "Please note that by default this notebook doesn't use mixed precision training. Faster speed and larger batch size can be achieved when you set FP16 to True. Refer to  https://nvidia.github.io/apex and https://github.com/nvidia/apex) for details to use mixed precision training. Check the GPU model on your machine to see if it allows mixed precision training. Please also note that mixed precision inferencing is also enabled in the prediciton utility function. When you use mixed precision training and/or inferencing, the model performance can be slightly worse than the full precision mode."
   ]
  },
  {
   "cell_type": "code",
   "execution_count": 1,
   "metadata": {},
   "outputs": [],
   "source": [
    "%load_ext autoreload\n",
    "%autoreload 2"
   ]
  },
  {
   "cell_type": "code",
   "execution_count": 2,
   "metadata": {},
   "outputs": [],
   "source": [
    "QUICK_RUN = False"
   ]
  },
  {
   "cell_type": "code",
   "execution_count": 39,
   "metadata": {},
   "outputs": [],
   "source": [
    "import os\n",
    "import shutil\n",
    "import sys\n",
    "from tempfile import TemporaryDirectory\n",
    "import torch\n",
    "\n",
    "nlp_path = os.path.abspath(\"../../\")\n",
    "if nlp_path not in sys.path:\n",
    "    sys.path.insert(0, nlp_path)\n",
    "\n",
    "from utils_nlp.models.transformers.abstractive_summarization_bertsum import BertSumAbs, BertSumAbsProcessor\n",
    "\n",
    "from utils_nlp.dataset.cnndm import CNNDMSummarizationDataset\n",
    "from utils_nlp.eval import compute_rouge_python\n",
    "\n",
    "import pandas as pd\n",
    "import pprint\n",
    "import scrapbook as sb"
   ]
  },
  {
   "cell_type": "markdown",
   "metadata": {},
   "source": [
    "## Data Preprocessing"
   ]
  },
  {
   "cell_type": "markdown",
   "metadata": {},
   "source": [
    "The dataset we used for this notebook is CNN/DM dataset which contains the documents and accompanying questions from the news articles of CNN and Daily mail. The highlights in each article are used as summary. The dataset consits of ~289K training examples, ~11K valiation examples and ~11K test examples. The length of the news articles is 781 tokens on average and the summaries are of 3.75 sentences and 56 tokens on average.\n",
    "\n",
    "The significant part of data preprocessing only involve splitting the input document into sentences."
   ]
  },
  {
   "cell_type": "code",
   "execution_count": 31,
   "metadata": {},
   "outputs": [],
   "source": [
    "# the data path used to save the downloaded data file\n",
    "DATA_PATH = TemporaryDirectory().name\n",
    "# The number of lines at the head of data file used for preprocessing. -1 means all the lines.\n",
    "TOP_N = 100\n",
    "if not QUICK_RUN:\n",
    "    TOP_N = -1"
   ]
  },
  {
   "cell_type": "code",
   "execution_count": 32,
   "metadata": {},
   "outputs": [],
   "source": [
    "train_dataset, test_dataset = CNNDMSummarizationDataset(\n",
    "            top_n=TOP_N, local_cache_path=DATA_PATH, prepare_extractive=False\n",
    "        )"
   ]
  },
  {
   "cell_type": "code",
   "execution_count": 33,
   "metadata": {},
   "outputs": [
    {
     "data": {
      "text/plain": [
       "287227"
      ]
     },
     "execution_count": 33,
     "metadata": {},
     "output_type": "execute_result"
    }
   ],
   "source": [
    "len(train_dataset)"
   ]
  },
  {
   "cell_type": "code",
   "execution_count": 34,
   "metadata": {
    "scrolled": true
   },
   "outputs": [
    {
     "data": {
      "text/plain": [
       "11490"
      ]
     },
     "execution_count": 34,
     "metadata": {},
     "output_type": "execute_result"
    }
   ],
   "source": [
    "len(test_dataset)"
   ]
  },
  {
   "cell_type": "markdown",
   "metadata": {},
   "source": [
    "## Model Finetuning"
   ]
  },
  {
   "cell_type": "code",
   "execution_count": 8,
   "metadata": {
    "tags": [
     "parameters"
    ]
   },
   "outputs": [],
   "source": [
    "# notebook parameters\n",
    "# the cache path\n",
    "CACHE_PATH = TemporaryDirectory().name\n",
    "\n",
    "# model parameters\n",
    "MODEL_NAME = \"bert-base-uncased\"\n",
    "MAX_POS = 768\n",
    "MAX_SOURCE_SEQ_LENGTH = 640\n",
    "MAX_TARGET_SEQ_LENGTH = 140\n",
    "\n",
    "# mixed precision setting. To enable mixed precision training, follow instructions in SETUP.md. \n",
    "FP16 = False\n",
    "if FP16:\n",
    "    FP16_OPT_LEVEL=\"O2\"\n",
    "    \n",
    "# fine-tuning parameters\n",
    "# batch size, unit is the number of tokens\n",
    "BATCH_SIZE_PER_GPU = 3\n",
    "\n",
    "\n",
    "# GPU used for training\n",
    "NUM_GPUS = torch.cuda.device_count()\n",
    "\n",
    "# Learning rate\n",
    "LEARNING_RATE_BERT=5e-4/2.0\n",
    "LEARNING_RATE_DEC=0.05/2.0\n",
    "\n",
    "\n",
    "# How often the statistics reports show up in training, unit is step.\n",
    "REPORT_EVERY=10\n",
    "SAVE_EVERY=500\n",
    "\n",
    "# total number of steps for training\n",
    "MAX_STEPS=1e2\n",
    "   \n",
    "if not QUICK_RUN:\n",
    "    MAX_STEPS=5e3\n",
    "\n",
    "WARMUP_STEPS_BERT=2000\n",
    "WARMUP_STEPS_DEC=1000   \n"
   ]
  },
  {
   "cell_type": "code",
   "execution_count": 9,
   "metadata": {},
   "outputs": [],
   "source": [
    "# processor which contains the colloate function to load the preprocessed data\n",
    "processor = BertSumAbsProcessor(cache_dir=CACHE_PATH, max_src_len=MAX_SOURCE_SEQ_LENGTH, max_tgt_len=MAX_TARGET_SEQ_LENGTH)\n",
    "# summarizer\n",
    "summarizer = BertSumAbs(\n",
    "    processor, cache_dir=CACHE_PATH, max_pos_length=MAX_POS\n",
    ")"
   ]
  },
  {
   "cell_type": "code",
   "execution_count": 10,
   "metadata": {},
   "outputs": [
    {
     "data": {
      "text/plain": [
       "12"
      ]
     },
     "execution_count": 10,
     "metadata": {},
     "output_type": "execute_result"
    }
   ],
   "source": [
    "BATCH_SIZE_PER_GPU*NUM_GPUS"
   ]
  },
  {
   "cell_type": "code",
   "execution_count": 11,
   "metadata": {
    "scrolled": true
   },
   "outputs": [
    {
     "name": "stdout",
     "output_type": "stream",
     "text": [
      "device is cuda\n"
     ]
    },
    {
     "name": "stderr",
     "output_type": "stream",
     "text": [
      "Iteration:   0%|          | 0/23936 [00:00<?, ?it/s]/dadendev/anaconda3/envs/cm3/lib/python3.6/site-packages/torch/nn/parallel/_functions.py:61: UserWarning: Was asked to gather along dimension 0, but all input tensors were scalars; will instead unsqueeze and return a vector.\n",
      "  warnings.warn('Was asked to gather along dimension 0, but all '\n",
      "Iteration:   0%|          | 50/23936 [01:07<6:57:14,  1.05s/it] "
     ]
    },
    {
     "name": "stdout",
     "output_type": "stream",
     "text": [
      "timestamp: 12/03/2020 19:42:23, average loss: 10.372837, time duration: 67.029438,\n",
      "                            number of examples in current reporting: 600, step 50\n",
      "                            out of total 5000\n"
     ]
    },
    {
     "name": "stderr",
     "output_type": "stream",
     "text": [
      "Iteration:   0%|          | 100/23936 [02:00<6:51:39,  1.04s/it]"
     ]
    },
    {
     "name": "stdout",
     "output_type": "stream",
     "text": [
      "timestamp: 12/03/2020 19:43:16, average loss: 6.238095, time duration: 53.688107,\n",
      "                            number of examples in current reporting: 600, step 100\n",
      "                            out of total 5000\n"
     ]
    },
    {
     "name": "stderr",
     "output_type": "stream",
     "text": [
      "Iteration:   1%|          | 150/23936 [02:54<6:53:34,  1.04s/it]"
     ]
    },
    {
     "name": "stdout",
     "output_type": "stream",
     "text": [
      "timestamp: 12/03/2020 19:44:10, average loss: 5.669545, time duration: 53.790859,\n",
      "                            number of examples in current reporting: 599, step 150\n",
      "                            out of total 5000\n"
     ]
    },
    {
     "name": "stderr",
     "output_type": "stream",
     "text": [
      "Iteration:   1%|          | 200/23936 [03:49<9:05:31,  1.38s/it]"
     ]
    },
    {
     "name": "stdout",
     "output_type": "stream",
     "text": [
      "timestamp: 12/03/2020 19:45:05, average loss: 5.348148, time duration: 55.037045,\n",
      "                            number of examples in current reporting: 600, step 200\n",
      "                            out of total 5000\n"
     ]
    },
    {
     "name": "stderr",
     "output_type": "stream",
     "text": [
      "Iteration:   1%|          | 250/23936 [04:43<7:05:14,  1.08s/it]"
     ]
    },
    {
     "name": "stdout",
     "output_type": "stream",
     "text": [
      "timestamp: 12/03/2020 19:45:59, average loss: 5.119667, time duration: 54.222955,\n",
      "                            number of examples in current reporting: 600, step 250\n",
      "                            out of total 5000\n"
     ]
    },
    {
     "name": "stderr",
     "output_type": "stream",
     "text": [
      "Iteration:   1%|▏         | 300/23936 [05:37<6:55:54,  1.06s/it]"
     ]
    },
    {
     "name": "stdout",
     "output_type": "stream",
     "text": [
      "timestamp: 12/03/2020 19:46:53, average loss: 4.949734, time duration: 53.657023,\n",
      "                            number of examples in current reporting: 600, step 300\n",
      "                            out of total 5000\n"
     ]
    },
    {
     "name": "stderr",
     "output_type": "stream",
     "text": [
      "Iteration:   1%|▏         | 350/23936 [06:31<6:56:55,  1.06s/it]"
     ]
    },
    {
     "name": "stdout",
     "output_type": "stream",
     "text": [
      "timestamp: 12/03/2020 19:47:47, average loss: 4.780042, time duration: 53.672302,\n",
      "                            number of examples in current reporting: 600, step 350\n",
      "                            out of total 5000\n"
     ]
    },
    {
     "name": "stderr",
     "output_type": "stream",
     "text": [
      "Iteration:   2%|▏         | 400/23936 [07:25<7:04:04,  1.08s/it]"
     ]
    },
    {
     "name": "stdout",
     "output_type": "stream",
     "text": [
      "timestamp: 12/03/2020 19:48:41, average loss: 4.712837, time duration: 54.140079,\n",
      "                            number of examples in current reporting: 600, step 400\n",
      "                            out of total 5000\n"
     ]
    },
    {
     "name": "stderr",
     "output_type": "stream",
     "text": [
      "Iteration:   2%|▏         | 450/23936 [08:17<6:51:25,  1.05s/it]"
     ]
    },
    {
     "name": "stdout",
     "output_type": "stream",
     "text": [
      "timestamp: 12/03/2020 19:49:34, average loss: 4.612352, time duration: 52.689976,\n",
      "                            number of examples in current reporting: 600, step 450\n",
      "                            out of total 5000\n"
     ]
    },
    {
     "name": "stderr",
     "output_type": "stream",
     "text": [
      "Iteration:   2%|▏         | 499/23936 [09:11<9:15:24,  1.42s/it]"
     ]
    },
    {
     "name": "stdout",
     "output_type": "stream",
     "text": [
      "timestamp: 12/03/2020 19:50:28, average loss: 4.564076, time duration: 54.513465,\n",
      "                            number of examples in current reporting: 600, step 500\n",
      "                            out of total 5000\n",
      "saving through pytorch to ./abstemp/bert-base-uncased_step_500.pt\n"
     ]
    },
    {
     "name": "stderr",
     "output_type": "stream",
     "text": [
      "Iteration:   2%|▏         | 550/23936 [10:19<7:39:54,  1.18s/it] "
     ]
    },
    {
     "name": "stdout",
     "output_type": "stream",
     "text": [
      "timestamp: 12/03/2020 19:51:35, average loss: 4.486558, time duration: 67.296946,\n",
      "                            number of examples in current reporting: 600, step 550\n",
      "                            out of total 5000\n"
     ]
    },
    {
     "name": "stderr",
     "output_type": "stream",
     "text": [
      "Iteration:   3%|▎         | 600/23936 [11:13<6:47:33,  1.05s/it]"
     ]
    },
    {
     "name": "stdout",
     "output_type": "stream",
     "text": [
      "timestamp: 12/03/2020 19:52:29, average loss: 4.435066, time duration: 53.801369,\n",
      "                            number of examples in current reporting: 600, step 600\n",
      "                            out of total 5000\n"
     ]
    },
    {
     "name": "stderr",
     "output_type": "stream",
     "text": [
      "Iteration:   3%|▎         | 650/23936 [12:06<6:48:01,  1.05s/it]"
     ]
    },
    {
     "name": "stdout",
     "output_type": "stream",
     "text": [
      "timestamp: 12/03/2020 19:53:22, average loss: 4.424270, time duration: 53.131144,\n",
      "                            number of examples in current reporting: 598, step 650\n",
      "                            out of total 5000\n"
     ]
    },
    {
     "name": "stderr",
     "output_type": "stream",
     "text": [
      "Iteration:   3%|▎         | 700/23936 [13:00<6:53:23,  1.07s/it]"
     ]
    },
    {
     "name": "stdout",
     "output_type": "stream",
     "text": [
      "timestamp: 12/03/2020 19:54:16, average loss: 4.416547, time duration: 53.616453,\n",
      "                            number of examples in current reporting: 600, step 700\n",
      "                            out of total 5000\n"
     ]
    },
    {
     "name": "stderr",
     "output_type": "stream",
     "text": [
      "Iteration:   3%|▎         | 750/23936 [13:54<6:46:13,  1.05s/it]"
     ]
    },
    {
     "name": "stdout",
     "output_type": "stream",
     "text": [
      "timestamp: 12/03/2020 19:55:10, average loss: 4.384736, time duration: 54.156298,\n",
      "                            number of examples in current reporting: 600, step 750\n",
      "                            out of total 5000\n"
     ]
    },
    {
     "name": "stderr",
     "output_type": "stream",
     "text": [
      "Iteration:   3%|▎         | 800/23936 [14:47<6:44:11,  1.05s/it]"
     ]
    },
    {
     "name": "stdout",
     "output_type": "stream",
     "text": [
      "timestamp: 12/03/2020 19:56:03, average loss: 4.305494, time duration: 53.149219,\n",
      "                            number of examples in current reporting: 600, step 800\n",
      "                            out of total 5000\n"
     ]
    },
    {
     "name": "stderr",
     "output_type": "stream",
     "text": [
      "Iteration:   4%|▎         | 850/23936 [15:42<7:16:02,  1.13s/it]"
     ]
    },
    {
     "name": "stdout",
     "output_type": "stream",
     "text": [
      "timestamp: 12/03/2020 19:56:58, average loss: 4.276876, time duration: 54.933155,\n",
      "                            number of examples in current reporting: 600, step 850\n",
      "                            out of total 5000\n"
     ]
    },
    {
     "name": "stderr",
     "output_type": "stream",
     "text": [
      "Iteration:   4%|▍         | 900/23936 [16:35<6:44:33,  1.05s/it]"
     ]
    },
    {
     "name": "stdout",
     "output_type": "stream",
     "text": [
      "timestamp: 12/03/2020 19:57:51, average loss: 4.301424, time duration: 53.365603,\n",
      "                            number of examples in current reporting: 600, step 900\n",
      "                            out of total 5000\n"
     ]
    },
    {
     "name": "stderr",
     "output_type": "stream",
     "text": [
      "Iteration:   4%|▍         | 950/23936 [17:29<6:38:17,  1.04s/it]"
     ]
    },
    {
     "name": "stdout",
     "output_type": "stream",
     "text": [
      "timestamp: 12/03/2020 19:58:45, average loss: 4.289361, time duration: 53.449913,\n",
      "                            number of examples in current reporting: 600, step 950\n",
      "                            out of total 5000\n"
     ]
    },
    {
     "name": "stderr",
     "output_type": "stream",
     "text": [
      "Iteration:   4%|▍         | 999/23936 [18:21<6:35:20,  1.03s/it]"
     ]
    },
    {
     "name": "stdout",
     "output_type": "stream",
     "text": [
      "timestamp: 12/03/2020 19:59:38, average loss: 4.243631, time duration: 53.010966,\n",
      "                            number of examples in current reporting: 600, step 1000\n",
      "                            out of total 5000\n",
      "saving through pytorch to ./abstemp/bert-base-uncased_step_1000.pt\n"
     ]
    },
    {
     "name": "stderr",
     "output_type": "stream",
     "text": [
      "Iteration:   4%|▍         | 1050/23936 [19:29<6:38:49,  1.05s/it] "
     ]
    },
    {
     "name": "stdout",
     "output_type": "stream",
     "text": [
      "timestamp: 12/03/2020 20:00:45, average loss: 4.211871, time duration: 67.357176,\n",
      "                            number of examples in current reporting: 600, step 1050\n",
      "                            out of total 5000\n"
     ]
    },
    {
     "name": "stderr",
     "output_type": "stream",
     "text": [
      "Iteration:   5%|▍         | 1100/23936 [20:24<7:22:23,  1.16s/it]"
     ]
    },
    {
     "name": "stdout",
     "output_type": "stream",
     "text": [
      "timestamp: 12/03/2020 20:01:40, average loss: 4.201430, time duration: 54.340546,\n",
      "                            number of examples in current reporting: 600, step 1100\n",
      "                            out of total 5000\n"
     ]
    },
    {
     "name": "stderr",
     "output_type": "stream",
     "text": [
      "Iteration:   5%|▍         | 1150/23936 [21:17<7:04:02,  1.12s/it]"
     ]
    },
    {
     "name": "stdout",
     "output_type": "stream",
     "text": [
      "timestamp: 12/03/2020 20:02:33, average loss: 4.177537, time duration: 53.533902,\n",
      "                            number of examples in current reporting: 600, step 1150\n",
      "                            out of total 5000\n"
     ]
    },
    {
     "name": "stderr",
     "output_type": "stream",
     "text": [
      "Iteration:   5%|▌         | 1200/23936 [22:11<6:38:52,  1.05s/it]"
     ]
    },
    {
     "name": "stdout",
     "output_type": "stream",
     "text": [
      "timestamp: 12/03/2020 20:03:27, average loss: 4.146584, time duration: 53.418810,\n",
      "                            number of examples in current reporting: 600, step 1200\n",
      "                            out of total 5000\n"
     ]
    },
    {
     "name": "stderr",
     "output_type": "stream",
     "text": [
      "Iteration:   5%|▌         | 1250/23936 [23:04<6:44:45,  1.07s/it]"
     ]
    },
    {
     "name": "stdout",
     "output_type": "stream",
     "text": [
      "timestamp: 12/03/2020 20:04:20, average loss: 4.095358, time duration: 53.731934,\n",
      "                            number of examples in current reporting: 599, step 1250\n",
      "                            out of total 5000\n"
     ]
    },
    {
     "name": "stderr",
     "output_type": "stream",
     "text": [
      "Iteration:   5%|▌         | 1300/23936 [23:58<6:36:43,  1.05s/it]"
     ]
    },
    {
     "name": "stdout",
     "output_type": "stream",
     "text": [
      "timestamp: 12/03/2020 20:05:14, average loss: 4.071987, time duration: 53.952441,\n",
      "                            number of examples in current reporting: 600, step 1300\n",
      "                            out of total 5000\n"
     ]
    },
    {
     "name": "stderr",
     "output_type": "stream",
     "text": [
      "Iteration:   6%|▌         | 1350/23936 [24:52<6:34:50,  1.05s/it]"
     ]
    },
    {
     "name": "stdout",
     "output_type": "stream",
     "text": [
      "timestamp: 12/03/2020 20:06:08, average loss: 4.030592, time duration: 53.411778,\n",
      "                            number of examples in current reporting: 600, step 1350\n",
      "                            out of total 5000\n"
     ]
    },
    {
     "name": "stderr",
     "output_type": "stream",
     "text": [
      "Iteration:   6%|▌         | 1400/23936 [25:45<6:29:20,  1.04s/it]"
     ]
    },
    {
     "name": "stdout",
     "output_type": "stream",
     "text": [
      "timestamp: 12/03/2020 20:07:01, average loss: 3.993827, time duration: 53.573513,\n",
      "                            number of examples in current reporting: 600, step 1400\n",
      "                            out of total 5000\n"
     ]
    },
    {
     "name": "stderr",
     "output_type": "stream",
     "text": [
      "Iteration:   6%|▌         | 1450/23936 [26:40<6:44:49,  1.08s/it]"
     ]
    },
    {
     "name": "stdout",
     "output_type": "stream",
     "text": [
      "timestamp: 12/03/2020 20:07:56, average loss: 3.953534, time duration: 54.412248,\n",
      "                            number of examples in current reporting: 599, step 1450\n",
      "                            out of total 5000\n"
     ]
    },
    {
     "name": "stderr",
     "output_type": "stream",
     "text": [
      "Iteration:   6%|▋         | 1499/23936 [27:32<6:32:06,  1.05s/it]"
     ]
    },
    {
     "name": "stdout",
     "output_type": "stream",
     "text": [
      "timestamp: 12/03/2020 20:08:49, average loss: 3.937318, time duration: 53.012146,\n",
      "                            number of examples in current reporting: 599, step 1500\n",
      "                            out of total 5000\n",
      "saving through pytorch to ./abstemp/bert-base-uncased_step_1500.pt\n"
     ]
    },
    {
     "name": "stderr",
     "output_type": "stream",
     "text": [
      "Iteration:   6%|▋         | 1550/23936 [28:28<6:33:42,  1.06s/it] "
     ]
    },
    {
     "name": "stdout",
     "output_type": "stream",
     "text": [
      "timestamp: 12/03/2020 20:09:44, average loss: 3.927354, time duration: 55.748131,\n",
      "                            number of examples in current reporting: 600, step 1550\n",
      "                            out of total 5000\n"
     ]
    },
    {
     "name": "stderr",
     "output_type": "stream",
     "text": [
      "Iteration:   7%|▋         | 1600/23936 [29:22<6:31:16,  1.05s/it]"
     ]
    },
    {
     "name": "stdout",
     "output_type": "stream",
     "text": [
      "timestamp: 12/03/2020 20:10:38, average loss: 3.881955, time duration: 53.677091,\n",
      "                            number of examples in current reporting: 600, step 1600\n",
      "                            out of total 5000\n"
     ]
    },
    {
     "name": "stderr",
     "output_type": "stream",
     "text": [
      "Iteration:   7%|▋         | 1650/23936 [30:16<6:35:27,  1.06s/it]"
     ]
    },
    {
     "name": "stdout",
     "output_type": "stream",
     "text": [
      "timestamp: 12/03/2020 20:11:32, average loss: 3.864133, time duration: 53.513038,\n",
      "                            number of examples in current reporting: 600, step 1650\n",
      "                            out of total 5000\n"
     ]
    },
    {
     "name": "stderr",
     "output_type": "stream",
     "text": [
      "Iteration:   7%|▋         | 1700/23936 [31:11<6:46:26,  1.10s/it]"
     ]
    },
    {
     "name": "stdout",
     "output_type": "stream",
     "text": [
      "timestamp: 12/03/2020 20:12:27, average loss: 3.845761, time duration: 54.973100,\n",
      "                            number of examples in current reporting: 598, step 1700\n",
      "                            out of total 5000\n"
     ]
    },
    {
     "name": "stderr",
     "output_type": "stream",
     "text": [
      "Iteration:   7%|▋         | 1750/23936 [32:04<6:42:18,  1.09s/it]"
     ]
    },
    {
     "name": "stdout",
     "output_type": "stream",
     "text": [
      "timestamp: 12/03/2020 20:13:20, average loss: 3.833323, time duration: 53.872088,\n",
      "                            number of examples in current reporting: 600, step 1750\n",
      "                            out of total 5000\n"
     ]
    },
    {
     "name": "stderr",
     "output_type": "stream",
     "text": [
      "Iteration:   8%|▊         | 1800/23936 [32:58<6:24:41,  1.04s/it]"
     ]
    },
    {
     "name": "stdout",
     "output_type": "stream",
     "text": [
      "timestamp: 12/03/2020 20:14:14, average loss: 3.785084, time duration: 53.159890,\n",
      "                            number of examples in current reporting: 599, step 1800\n",
      "                            out of total 5000\n"
     ]
    },
    {
     "name": "stderr",
     "output_type": "stream",
     "text": [
      "Iteration:   8%|▊         | 1850/23936 [33:51<6:21:29,  1.04s/it]"
     ]
    },
    {
     "name": "stdout",
     "output_type": "stream",
     "text": [
      "timestamp: 12/03/2020 20:15:07, average loss: 3.707007, time duration: 53.459718,\n",
      "                            number of examples in current reporting: 600, step 1850\n",
      "                            out of total 5000\n"
     ]
    },
    {
     "name": "stderr",
     "output_type": "stream",
     "text": [
      "Iteration:   8%|▊         | 1900/23936 [34:44<6:22:15,  1.04s/it]"
     ]
    },
    {
     "name": "stdout",
     "output_type": "stream",
     "text": [
      "timestamp: 12/03/2020 20:16:00, average loss: 3.676872, time duration: 52.927864,\n",
      "                            number of examples in current reporting: 600, step 1900\n",
      "                            out of total 5000\n"
     ]
    },
    {
     "name": "stderr",
     "output_type": "stream",
     "text": [
      "Iteration:   8%|▊         | 1950/23936 [35:38<6:27:35,  1.06s/it]"
     ]
    },
    {
     "name": "stdout",
     "output_type": "stream",
     "text": [
      "timestamp: 12/03/2020 20:16:54, average loss: 3.687167, time duration: 53.611518,\n",
      "                            number of examples in current reporting: 600, step 1950\n",
      "                            out of total 5000\n"
     ]
    },
    {
     "name": "stderr",
     "output_type": "stream",
     "text": [
      "Iteration:   8%|▊         | 1999/23936 [36:30<6:31:53,  1.07s/it]"
     ]
    },
    {
     "name": "stdout",
     "output_type": "stream",
     "text": [
      "timestamp: 12/03/2020 20:17:48, average loss: 3.615395, time duration: 54.457510,\n",
      "                            number of examples in current reporting: 600, step 2000\n",
      "                            out of total 5000\n",
      "saving through pytorch to ./abstemp/bert-base-uncased_step_2000.pt\n"
     ]
    },
    {
     "name": "stderr",
     "output_type": "stream",
     "text": [
      "Iteration:   9%|▊         | 2050/23936 [37:28<6:15:42,  1.03s/it] "
     ]
    },
    {
     "name": "stdout",
     "output_type": "stream",
     "text": [
      "timestamp: 12/03/2020 20:18:44, average loss: 3.625652, time duration: 55.642923,\n",
      "                            number of examples in current reporting: 600, step 2050\n",
      "                            out of total 5000\n"
     ]
    },
    {
     "name": "stderr",
     "output_type": "stream",
     "text": [
      "Iteration:   9%|▉         | 2100/23936 [38:22<6:27:51,  1.07s/it]"
     ]
    },
    {
     "name": "stdout",
     "output_type": "stream",
     "text": [
      "timestamp: 12/03/2020 20:19:38, average loss: 3.567565, time duration: 53.814359,\n",
      "                            number of examples in current reporting: 600, step 2100\n",
      "                            out of total 5000\n"
     ]
    },
    {
     "name": "stderr",
     "output_type": "stream",
     "text": [
      "Iteration:   9%|▉         | 2150/23936 [39:15<6:20:39,  1.05s/it]"
     ]
    },
    {
     "name": "stdout",
     "output_type": "stream",
     "text": [
      "timestamp: 12/03/2020 20:20:31, average loss: 3.549629, time duration: 53.671999,\n",
      "                            number of examples in current reporting: 600, step 2150\n",
      "                            out of total 5000\n"
     ]
    },
    {
     "name": "stderr",
     "output_type": "stream",
     "text": [
      "Iteration:   9%|▉         | 2200/23936 [40:09<6:18:07,  1.04s/it]"
     ]
    },
    {
     "name": "stdout",
     "output_type": "stream",
     "text": [
      "timestamp: 12/03/2020 20:21:25, average loss: 3.477838, time duration: 53.802528,\n",
      "                            number of examples in current reporting: 600, step 2200\n",
      "                            out of total 5000\n"
     ]
    },
    {
     "name": "stderr",
     "output_type": "stream",
     "text": [
      "Iteration:   9%|▉         | 2250/23936 [41:02<6:23:33,  1.06s/it]"
     ]
    },
    {
     "name": "stdout",
     "output_type": "stream",
     "text": [
      "timestamp: 12/03/2020 20:22:18, average loss: 3.465800, time duration: 53.339881,\n",
      "                            number of examples in current reporting: 600, step 2250\n",
      "                            out of total 5000\n"
     ]
    },
    {
     "name": "stderr",
     "output_type": "stream",
     "text": [
      "Iteration:  10%|▉         | 2300/23936 [41:59<6:55:11,  1.15s/it]"
     ]
    },
    {
     "name": "stdout",
     "output_type": "stream",
     "text": [
      "timestamp: 12/03/2020 20:23:15, average loss: 3.448973, time duration: 56.716613,\n",
      "                            number of examples in current reporting: 600, step 2300\n",
      "                            out of total 5000\n"
     ]
    },
    {
     "name": "stderr",
     "output_type": "stream",
     "text": [
      "Iteration:  10%|▉         | 2350/23936 [42:53<6:55:53,  1.16s/it]"
     ]
    },
    {
     "name": "stdout",
     "output_type": "stream",
     "text": [
      "timestamp: 12/03/2020 20:24:09, average loss: 3.456282, time duration: 53.852615,\n",
      "                            number of examples in current reporting: 599, step 2350\n",
      "                            out of total 5000\n"
     ]
    },
    {
     "name": "stderr",
     "output_type": "stream",
     "text": [
      "Iteration:  10%|█         | 2400/23936 [43:47<6:27:31,  1.08s/it]"
     ]
    },
    {
     "name": "stdout",
     "output_type": "stream",
     "text": [
      "timestamp: 12/03/2020 20:25:03, average loss: 3.358254, time duration: 53.795152,\n",
      "                            number of examples in current reporting: 600, step 2400\n",
      "                            out of total 5000\n"
     ]
    },
    {
     "name": "stderr",
     "output_type": "stream",
     "text": [
      "Iteration:  10%|█         | 2450/23936 [44:40<6:22:10,  1.07s/it]"
     ]
    },
    {
     "name": "stdout",
     "output_type": "stream",
     "text": [
      "timestamp: 12/03/2020 20:25:56, average loss: 3.377144, time duration: 53.388796,\n",
      "                            number of examples in current reporting: 600, step 2450\n",
      "                            out of total 5000\n"
     ]
    },
    {
     "name": "stderr",
     "output_type": "stream",
     "text": [
      "Iteration:  10%|█         | 2499/23936 [45:33<6:19:52,  1.06s/it]"
     ]
    },
    {
     "name": "stdout",
     "output_type": "stream",
     "text": [
      "timestamp: 12/03/2020 20:26:50, average loss: 3.328608, time duration: 53.657009,\n",
      "                            number of examples in current reporting: 600, step 2500\n",
      "                            out of total 5000\n",
      "saving through pytorch to ./abstemp/bert-base-uncased_step_2500.pt\n"
     ]
    },
    {
     "name": "stderr",
     "output_type": "stream",
     "text": [
      "Iteration:  11%|█         | 2550/23936 [46:29<6:16:20,  1.06s/it]"
     ]
    },
    {
     "name": "stdout",
     "output_type": "stream",
     "text": [
      "timestamp: 12/03/2020 20:27:45, average loss: 3.336079, time duration: 55.542649,\n",
      "                            number of examples in current reporting: 600, step 2550\n",
      "                            out of total 5000\n"
     ]
    },
    {
     "name": "stderr",
     "output_type": "stream",
     "text": [
      "Iteration:  11%|█         | 2600/23936 [47:23<6:15:09,  1.06s/it]"
     ]
    },
    {
     "name": "stdout",
     "output_type": "stream",
     "text": [
      "timestamp: 12/03/2020 20:28:39, average loss: 3.312251, time duration: 53.392276,\n",
      "                            number of examples in current reporting: 600, step 2600\n",
      "                            out of total 5000\n"
     ]
    },
    {
     "name": "stderr",
     "output_type": "stream",
     "text": [
      "Iteration:  11%|█         | 2650/23936 [48:17<6:37:09,  1.12s/it]"
     ]
    },
    {
     "name": "stdout",
     "output_type": "stream",
     "text": [
      "timestamp: 12/03/2020 20:29:34, average loss: 3.287620, time duration: 54.833326,\n",
      "                            number of examples in current reporting: 599, step 2650\n",
      "                            out of total 5000\n"
     ]
    },
    {
     "name": "stderr",
     "output_type": "stream",
     "text": [
      "Iteration:  11%|█▏        | 2700/23936 [49:11<6:14:52,  1.06s/it]"
     ]
    },
    {
     "name": "stdout",
     "output_type": "stream",
     "text": [
      "timestamp: 12/03/2020 20:30:27, average loss: 3.227116, time duration: 53.014668,\n",
      "                            number of examples in current reporting: 599, step 2700\n",
      "                            out of total 5000\n"
     ]
    },
    {
     "name": "stderr",
     "output_type": "stream",
     "text": [
      "Iteration:  11%|█▏        | 2750/23936 [50:04<6:12:22,  1.05s/it]"
     ]
    },
    {
     "name": "stdout",
     "output_type": "stream",
     "text": [
      "timestamp: 12/03/2020 20:31:20, average loss: 3.258723, time duration: 53.831981,\n",
      "                            number of examples in current reporting: 600, step 2750\n",
      "                            out of total 5000\n"
     ]
    },
    {
     "name": "stderr",
     "output_type": "stream",
     "text": [
      "Iteration:  12%|█▏        | 2800/23936 [50:58<6:12:23,  1.06s/it]"
     ]
    },
    {
     "name": "stdout",
     "output_type": "stream",
     "text": [
      "timestamp: 12/03/2020 20:32:14, average loss: 3.229686, time duration: 53.754699,\n",
      "                            number of examples in current reporting: 600, step 2800\n",
      "                            out of total 5000\n"
     ]
    },
    {
     "name": "stderr",
     "output_type": "stream",
     "text": [
      "Iteration:  12%|█▏        | 2850/23936 [51:52<6:12:07,  1.06s/it]"
     ]
    },
    {
     "name": "stdout",
     "output_type": "stream",
     "text": [
      "timestamp: 12/03/2020 20:33:08, average loss: 3.233732, time duration: 53.703091,\n",
      "                            number of examples in current reporting: 600, step 2850\n",
      "                            out of total 5000\n"
     ]
    },
    {
     "name": "stderr",
     "output_type": "stream",
     "text": [
      "Iteration:  12%|█▏        | 2900/23936 [52:45<6:04:37,  1.04s/it]"
     ]
    },
    {
     "name": "stdout",
     "output_type": "stream",
     "text": [
      "timestamp: 12/03/2020 20:34:01, average loss: 3.188855, time duration: 53.216950,\n",
      "                            number of examples in current reporting: 600, step 2900\n",
      "                            out of total 5000\n"
     ]
    },
    {
     "name": "stderr",
     "output_type": "stream",
     "text": [
      "Iteration:  12%|█▏        | 2950/23936 [53:39<6:13:50,  1.07s/it]"
     ]
    },
    {
     "name": "stdout",
     "output_type": "stream",
     "text": [
      "timestamp: 12/03/2020 20:34:55, average loss: 3.184502, time duration: 53.708161,\n",
      "                            number of examples in current reporting: 600, step 2950\n",
      "                            out of total 5000\n"
     ]
    },
    {
     "name": "stderr",
     "output_type": "stream",
     "text": [
      "Iteration:  13%|█▎        | 2999/23936 [54:33<6:26:09,  1.11s/it]"
     ]
    },
    {
     "name": "stdout",
     "output_type": "stream",
     "text": [
      "timestamp: 12/03/2020 20:35:50, average loss: 3.197579, time duration: 54.896690,\n",
      "                            number of examples in current reporting: 600, step 3000\n",
      "                            out of total 5000\n",
      "saving through pytorch to ./abstemp/bert-base-uncased_step_3000.pt\n"
     ]
    },
    {
     "name": "stderr",
     "output_type": "stream",
     "text": [
      "Iteration:  13%|█▎        | 3050/23936 [55:30<6:06:13,  1.05s/it]"
     ]
    },
    {
     "name": "stdout",
     "output_type": "stream",
     "text": [
      "timestamp: 12/03/2020 20:36:46, average loss: 3.121317, time duration: 56.019515,\n",
      "                            number of examples in current reporting: 599, step 3050\n",
      "                            out of total 5000\n"
     ]
    },
    {
     "name": "stderr",
     "output_type": "stream",
     "text": [
      "Iteration:  13%|█▎        | 3100/23936 [56:23<6:00:29,  1.04s/it]"
     ]
    },
    {
     "name": "stdout",
     "output_type": "stream",
     "text": [
      "timestamp: 12/03/2020 20:37:39, average loss: 3.132497, time duration: 53.469911,\n",
      "                            number of examples in current reporting: 600, step 3100\n",
      "                            out of total 5000\n"
     ]
    },
    {
     "name": "stderr",
     "output_type": "stream",
     "text": [
      "Iteration:  13%|█▎        | 3150/23936 [57:17<6:02:27,  1.05s/it]"
     ]
    },
    {
     "name": "stdout",
     "output_type": "stream",
     "text": [
      "timestamp: 12/03/2020 20:38:33, average loss: 3.139356, time duration: 53.778406,\n",
      "                            number of examples in current reporting: 600, step 3150\n",
      "                            out of total 5000\n"
     ]
    },
    {
     "name": "stderr",
     "output_type": "stream",
     "text": [
      "Iteration:  13%|█▎        | 3200/23936 [58:10<6:07:40,  1.06s/it]"
     ]
    },
    {
     "name": "stdout",
     "output_type": "stream",
     "text": [
      "timestamp: 12/03/2020 20:39:26, average loss: 3.107268, time duration: 53.458483,\n",
      "                            number of examples in current reporting: 599, step 3200\n",
      "                            out of total 5000\n"
     ]
    },
    {
     "name": "stderr",
     "output_type": "stream",
     "text": [
      "Iteration:  14%|█▎        | 3250/23936 [59:05<6:37:17,  1.15s/it]"
     ]
    },
    {
     "name": "stdout",
     "output_type": "stream",
     "text": [
      "timestamp: 12/03/2020 20:40:21, average loss: 3.120350, time duration: 54.387663,\n",
      "                            number of examples in current reporting: 599, step 3250\n",
      "                            out of total 5000\n"
     ]
    },
    {
     "name": "stderr",
     "output_type": "stream",
     "text": [
      "Iteration:  14%|█▍        | 3300/23936 [59:58<6:10:54,  1.08s/it]"
     ]
    },
    {
     "name": "stdout",
     "output_type": "stream",
     "text": [
      "timestamp: 12/03/2020 20:41:14, average loss: 3.073890, time duration: 53.387729,\n",
      "                            number of examples in current reporting: 600, step 3300\n",
      "                            out of total 5000\n"
     ]
    },
    {
     "name": "stderr",
     "output_type": "stream",
     "text": [
      "Iteration:  14%|█▍        | 3350/23936 [1:00:51<5:59:38,  1.05s/it]"
     ]
    },
    {
     "name": "stdout",
     "output_type": "stream",
     "text": [
      "timestamp: 12/03/2020 20:42:07, average loss: 3.058117, time duration: 53.333031,\n",
      "                            number of examples in current reporting: 600, step 3350\n",
      "                            out of total 5000\n"
     ]
    },
    {
     "name": "stderr",
     "output_type": "stream",
     "text": [
      "Iteration:  14%|█▍        | 3400/23936 [1:01:45<5:58:15,  1.05s/it]"
     ]
    },
    {
     "name": "stdout",
     "output_type": "stream",
     "text": [
      "timestamp: 12/03/2020 20:43:01, average loss: 3.083077, time duration: 53.279642,\n",
      "                            number of examples in current reporting: 600, step 3400\n",
      "                            out of total 5000\n"
     ]
    },
    {
     "name": "stderr",
     "output_type": "stream",
     "text": [
      "Iteration:  14%|█▍        | 3450/23936 [1:02:39<6:05:38,  1.07s/it]"
     ]
    },
    {
     "name": "stdout",
     "output_type": "stream",
     "text": [
      "timestamp: 12/03/2020 20:43:55, average loss: 3.101894, time duration: 53.897809,\n",
      "                            number of examples in current reporting: 600, step 3450\n",
      "                            out of total 5000\n"
     ]
    },
    {
     "name": "stderr",
     "output_type": "stream",
     "text": [
      "Iteration:  15%|█▍        | 3499/23936 [1:03:31<5:56:32,  1.05s/it]"
     ]
    },
    {
     "name": "stdout",
     "output_type": "stream",
     "text": [
      "timestamp: 12/03/2020 20:44:48, average loss: 3.004254, time duration: 53.171986,\n",
      "                            number of examples in current reporting: 599, step 3500\n",
      "                            out of total 5000\n",
      "saving through pytorch to ./abstemp/bert-base-uncased_step_3500.pt\n"
     ]
    },
    {
     "name": "stderr",
     "output_type": "stream",
     "text": [
      "Iteration:  15%|█▍        | 3550/23936 [1:04:28<6:14:45,  1.10s/it]"
     ]
    },
    {
     "name": "stdout",
     "output_type": "stream",
     "text": [
      "timestamp: 12/03/2020 20:45:44, average loss: 3.007772, time duration: 56.192442,\n",
      "                            number of examples in current reporting: 600, step 3550\n",
      "                            out of total 5000\n"
     ]
    },
    {
     "name": "stderr",
     "output_type": "stream",
     "text": [
      "Iteration:  15%|█▌        | 3600/23936 [1:05:22<5:54:56,  1.05s/it]"
     ]
    },
    {
     "name": "stdout",
     "output_type": "stream",
     "text": [
      "timestamp: 12/03/2020 20:46:38, average loss: 3.061955, time duration: 53.783488,\n",
      "                            number of examples in current reporting: 599, step 3600\n",
      "                            out of total 5000\n"
     ]
    },
    {
     "name": "stderr",
     "output_type": "stream",
     "text": [
      "Iteration:  15%|█▌        | 3650/23936 [1:06:15<5:56:18,  1.05s/it]"
     ]
    },
    {
     "name": "stdout",
     "output_type": "stream",
     "text": [
      "timestamp: 12/03/2020 20:47:31, average loss: 2.992658, time duration: 53.215498,\n",
      "                            number of examples in current reporting: 599, step 3650\n",
      "                            out of total 5000\n"
     ]
    },
    {
     "name": "stderr",
     "output_type": "stream",
     "text": [
      "Iteration:  15%|█▌        | 3700/23936 [1:07:09<5:54:31,  1.05s/it]"
     ]
    },
    {
     "name": "stdout",
     "output_type": "stream",
     "text": [
      "timestamp: 12/03/2020 20:48:25, average loss: 3.018115, time duration: 53.860734,\n",
      "                            number of examples in current reporting: 600, step 3700\n",
      "                            out of total 5000\n"
     ]
    },
    {
     "name": "stderr",
     "output_type": "stream",
     "text": [
      "Iteration:  16%|█▌        | 3750/23936 [1:08:02<5:58:46,  1.07s/it]"
     ]
    },
    {
     "name": "stdout",
     "output_type": "stream",
     "text": [
      "timestamp: 12/03/2020 20:49:18, average loss: 2.979420, time duration: 53.037118,\n",
      "                            number of examples in current reporting: 600, step 3750\n",
      "                            out of total 5000\n"
     ]
    },
    {
     "name": "stderr",
     "output_type": "stream",
     "text": [
      "Iteration:  16%|█▌        | 3800/23936 [1:08:55<5:48:58,  1.04s/it]"
     ]
    },
    {
     "name": "stdout",
     "output_type": "stream",
     "text": [
      "timestamp: 12/03/2020 20:50:11, average loss: 2.970507, time duration: 53.401205,\n",
      "                            number of examples in current reporting: 599, step 3800\n",
      "                            out of total 5000\n"
     ]
    },
    {
     "name": "stderr",
     "output_type": "stream",
     "text": [
      "Iteration:  16%|█▌        | 3850/23936 [1:09:50<5:59:32,  1.07s/it]"
     ]
    },
    {
     "name": "stdout",
     "output_type": "stream",
     "text": [
      "timestamp: 12/03/2020 20:51:06, average loss: 2.953462, time duration: 55.066902,\n",
      "                            number of examples in current reporting: 600, step 3850\n",
      "                            out of total 5000\n"
     ]
    },
    {
     "name": "stderr",
     "output_type": "stream",
     "text": [
      "Iteration:  16%|█▋        | 3900/23936 [1:10:44<5:53:00,  1.06s/it]"
     ]
    },
    {
     "name": "stdout",
     "output_type": "stream",
     "text": [
      "timestamp: 12/03/2020 20:52:00, average loss: 2.945157, time duration: 53.504895,\n",
      "                            number of examples in current reporting: 600, step 3900\n",
      "                            out of total 5000\n"
     ]
    },
    {
     "name": "stderr",
     "output_type": "stream",
     "text": [
      "Iteration:  17%|█▋        | 3950/23936 [1:11:37<5:55:05,  1.07s/it]"
     ]
    },
    {
     "name": "stdout",
     "output_type": "stream",
     "text": [
      "timestamp: 12/03/2020 20:52:53, average loss: 2.961220, time duration: 52.973685,\n",
      "                            number of examples in current reporting: 599, step 3950\n",
      "                            out of total 5000\n"
     ]
    },
    {
     "name": "stderr",
     "output_type": "stream",
     "text": [
      "Iteration:  17%|█▋        | 3999/23936 [1:12:30<5:45:03,  1.04s/it]"
     ]
    },
    {
     "name": "stdout",
     "output_type": "stream",
     "text": [
      "timestamp: 12/03/2020 20:53:47, average loss: 2.963094, time duration: 53.753345,\n",
      "                            number of examples in current reporting: 599, step 4000\n",
      "                            out of total 5000\n",
      "saving through pytorch to ./abstemp/bert-base-uncased_step_4000.pt\n"
     ]
    },
    {
     "name": "stderr",
     "output_type": "stream",
     "text": [
      "Iteration:  17%|█▋        | 4050/23936 [1:13:26<5:41:32,  1.03s/it]"
     ]
    },
    {
     "name": "stdout",
     "output_type": "stream",
     "text": [
      "timestamp: 12/03/2020 20:54:42, average loss: 2.928608, time duration: 55.215695,\n",
      "                            number of examples in current reporting: 599, step 4050\n",
      "                            out of total 5000\n"
     ]
    },
    {
     "name": "stderr",
     "output_type": "stream",
     "text": [
      "Iteration:  17%|█▋        | 4100/23936 [1:14:19<5:38:56,  1.03s/it]"
     ]
    },
    {
     "name": "stdout",
     "output_type": "stream",
     "text": [
      "timestamp: 12/03/2020 20:55:35, average loss: 2.897866, time duration: 52.701019,\n",
      "                            number of examples in current reporting: 600, step 4100\n",
      "                            out of total 5000\n"
     ]
    },
    {
     "name": "stderr",
     "output_type": "stream",
     "text": [
      "Iteration:  17%|█▋        | 4150/23936 [1:15:13<6:02:51,  1.10s/it]"
     ]
    },
    {
     "name": "stdout",
     "output_type": "stream",
     "text": [
      "timestamp: 12/03/2020 20:56:29, average loss: 2.911174, time duration: 54.544709,\n",
      "                            number of examples in current reporting: 599, step 4150\n",
      "                            out of total 5000\n"
     ]
    },
    {
     "name": "stderr",
     "output_type": "stream",
     "text": [
      "Iteration:  18%|█▊        | 4200/23936 [1:16:06<5:48:39,  1.06s/it]"
     ]
    },
    {
     "name": "stdout",
     "output_type": "stream",
     "text": [
      "timestamp: 12/03/2020 20:57:22, average loss: 2.895758, time duration: 53.279250,\n",
      "                            number of examples in current reporting: 600, step 4200\n",
      "                            out of total 5000\n"
     ]
    },
    {
     "name": "stderr",
     "output_type": "stream",
     "text": [
      "Iteration:  18%|█▊        | 4250/23936 [1:17:00<5:36:37,  1.03s/it]"
     ]
    },
    {
     "name": "stdout",
     "output_type": "stream",
     "text": [
      "timestamp: 12/03/2020 20:58:16, average loss: 2.899472, time duration: 53.213565,\n",
      "                            number of examples in current reporting: 600, step 4250\n",
      "                            out of total 5000\n"
     ]
    },
    {
     "name": "stderr",
     "output_type": "stream",
     "text": [
      "Iteration:  18%|█▊        | 4300/23936 [1:17:53<5:45:51,  1.06s/it]"
     ]
    },
    {
     "name": "stdout",
     "output_type": "stream",
     "text": [
      "timestamp: 12/03/2020 20:59:09, average loss: 2.934093, time duration: 53.601735,\n",
      "                            number of examples in current reporting: 599, step 4300\n",
      "                            out of total 5000\n"
     ]
    },
    {
     "name": "stderr",
     "output_type": "stream",
     "text": [
      "Iteration:  18%|█▊        | 4350/23936 [1:18:46<5:43:48,  1.05s/it]"
     ]
    },
    {
     "name": "stdout",
     "output_type": "stream",
     "text": [
      "timestamp: 12/03/2020 21:00:02, average loss: 2.908369, time duration: 53.016642,\n",
      "                            number of examples in current reporting: 599, step 4350\n",
      "                            out of total 5000\n"
     ]
    },
    {
     "name": "stderr",
     "output_type": "stream",
     "text": [
      "Iteration:  18%|█▊        | 4400/23936 [1:19:40<5:41:22,  1.05s/it]"
     ]
    },
    {
     "name": "stdout",
     "output_type": "stream",
     "text": [
      "timestamp: 12/03/2020 21:00:56, average loss: 2.879586, time duration: 53.547388,\n",
      "                            number of examples in current reporting: 600, step 4400\n",
      "                            out of total 5000\n"
     ]
    },
    {
     "name": "stderr",
     "output_type": "stream",
     "text": [
      "Iteration:  19%|█▊        | 4450/23936 [1:20:34<5:38:56,  1.04s/it]"
     ]
    },
    {
     "name": "stdout",
     "output_type": "stream",
     "text": [
      "timestamp: 12/03/2020 21:01:50, average loss: 2.873984, time duration: 54.737275,\n",
      "                            number of examples in current reporting: 600, step 4450\n",
      "                            out of total 5000\n"
     ]
    },
    {
     "name": "stderr",
     "output_type": "stream",
     "text": [
      "Iteration:  19%|█▉        | 4499/23936 [1:21:27<5:46:48,  1.07s/it]"
     ]
    },
    {
     "name": "stdout",
     "output_type": "stream",
     "text": [
      "timestamp: 12/03/2020 21:02:44, average loss: 2.849939, time duration: 53.788721,\n",
      "                            number of examples in current reporting: 600, step 4500\n",
      "                            out of total 5000\n",
      "saving through pytorch to ./abstemp/bert-base-uncased_step_4500.pt\n"
     ]
    },
    {
     "name": "stderr",
     "output_type": "stream",
     "text": [
      "Iteration:  19%|█▉        | 4550/23936 [1:22:24<5:43:32,  1.06s/it]"
     ]
    },
    {
     "name": "stdout",
     "output_type": "stream",
     "text": [
      "timestamp: 12/03/2020 21:03:40, average loss: 2.852282, time duration: 55.699511,\n",
      "                            number of examples in current reporting: 600, step 4550\n",
      "                            out of total 5000\n"
     ]
    },
    {
     "name": "stderr",
     "output_type": "stream",
     "text": [
      "Iteration:  19%|█▉        | 4600/23936 [1:23:17<5:37:00,  1.05s/it]"
     ]
    },
    {
     "name": "stdout",
     "output_type": "stream",
     "text": [
      "timestamp: 12/03/2020 21:04:33, average loss: 2.839527, time duration: 53.459990,\n",
      "                            number of examples in current reporting: 600, step 4600\n",
      "                            out of total 5000\n"
     ]
    },
    {
     "name": "stderr",
     "output_type": "stream",
     "text": [
      "Iteration:  19%|█▉        | 4650/23936 [1:24:11<5:34:58,  1.04s/it]"
     ]
    },
    {
     "name": "stdout",
     "output_type": "stream",
     "text": [
      "timestamp: 12/03/2020 21:05:27, average loss: 2.836208, time duration: 53.331228,\n",
      "                            number of examples in current reporting: 599, step 4650\n",
      "                            out of total 5000\n"
     ]
    },
    {
     "name": "stderr",
     "output_type": "stream",
     "text": [
      "Iteration:  20%|█▉        | 4700/23936 [1:25:05<5:37:45,  1.05s/it]"
     ]
    },
    {
     "name": "stdout",
     "output_type": "stream",
     "text": [
      "timestamp: 12/03/2020 21:06:21, average loss: 2.860971, time duration: 54.089519,\n",
      "                            number of examples in current reporting: 600, step 4700\n",
      "                            out of total 5000\n"
     ]
    },
    {
     "name": "stderr",
     "output_type": "stream",
     "text": [
      "Iteration:  20%|█▉        | 4750/23936 [1:25:59<6:29:01,  1.22s/it]"
     ]
    },
    {
     "name": "stdout",
     "output_type": "stream",
     "text": [
      "timestamp: 12/03/2020 21:07:15, average loss: 2.848305, time duration: 54.271892,\n",
      "                            number of examples in current reporting: 599, step 4750\n",
      "                            out of total 5000\n"
     ]
    },
    {
     "name": "stderr",
     "output_type": "stream",
     "text": [
      "Iteration:  20%|██        | 4800/23936 [1:26:53<5:39:29,  1.06s/it]"
     ]
    },
    {
     "name": "stdout",
     "output_type": "stream",
     "text": [
      "timestamp: 12/03/2020 21:08:09, average loss: 2.874445, time duration: 53.740144,\n",
      "                            number of examples in current reporting: 600, step 4800\n",
      "                            out of total 5000\n"
     ]
    },
    {
     "name": "stderr",
     "output_type": "stream",
     "text": [
      "Iteration:  20%|██        | 4850/23936 [1:27:46<5:37:59,  1.06s/it]"
     ]
    },
    {
     "name": "stdout",
     "output_type": "stream",
     "text": [
      "timestamp: 12/03/2020 21:09:02, average loss: 2.837490, time duration: 53.097977,\n",
      "                            number of examples in current reporting: 600, step 4850\n",
      "                            out of total 5000\n"
     ]
    },
    {
     "name": "stderr",
     "output_type": "stream",
     "text": [
      "Iteration:  20%|██        | 4900/23936 [1:28:39<5:32:21,  1.05s/it]"
     ]
    },
    {
     "name": "stdout",
     "output_type": "stream",
     "text": [
      "timestamp: 12/03/2020 21:09:55, average loss: 2.835973, time duration: 53.445394,\n",
      "                            number of examples in current reporting: 600, step 4900\n",
      "                            out of total 5000\n"
     ]
    },
    {
     "name": "stderr",
     "output_type": "stream",
     "text": [
      "Iteration:  21%|██        | 4950/23936 [1:29:32<5:27:38,  1.04s/it]"
     ]
    },
    {
     "name": "stdout",
     "output_type": "stream",
     "text": [
      "timestamp: 12/03/2020 21:10:49, average loss: 2.801602, time duration: 53.101142,\n",
      "                            number of examples in current reporting: 600, step 4950\n",
      "                            out of total 5000\n"
     ]
    },
    {
     "name": "stderr",
     "output_type": "stream",
     "text": [
      "Iteration:  21%|██        | 4999/23936 [1:30:25<5:29:50,  1.05s/it]"
     ]
    },
    {
     "name": "stdout",
     "output_type": "stream",
     "text": [
      "timestamp: 12/03/2020 21:11:42, average loss: 2.808340, time duration: 53.435037,\n",
      "                            number of examples in current reporting: 600, step 5000\n",
      "                            out of total 5000\n",
      "saving through pytorch to ./abstemp/bert-base-uncased_step_5000.pt\n"
     ]
    },
    {
     "name": "stderr",
     "output_type": "stream",
     "text": [
      "Iteration:  21%|██        | 5000/23936 [1:30:28<8:28:23,  1.61s/it]\n"
     ]
    },
    {
     "name": "stdout",
     "output_type": "stream",
     "text": [
      "saving through pytorch to ./abstemp/fine_tuned/bertsumabs.pt\n"
     ]
    }
   ],
   "source": [
    "\n",
    "summarizer.fit(\n",
    "        train_dataset,\n",
    "        num_gpus=NUM_GPUS,\n",
    "        batch_size=BATCH_SIZE_PER_GPU*NUM_GPUS,\n",
    "        max_steps=MAX_STEPS,\n",
    "        learning_rate_bert=LEARNING_RATE_BERT,\n",
    "        learning_rate_dec=LEARNING_RATE_DEC,\n",
    "        warmup_steps_bert=WARMUP_STEPS_BERT,\n",
    "        warmup_steps_dec=WARMUP_STEPS_DEC,\n",
    "        save_every=SAVE_EVERY,\n",
    "        report_every=REPORT_EVERY*5,\n",
    "        fp16=FP16,\n",
    "        # checkpoint=\"saved checkpoint path\"\n",
    ")\n"
   ]
  },
  {
   "cell_type": "code",
   "execution_count": 12,
   "metadata": {},
   "outputs": [
    {
     "name": "stdout",
     "output_type": "stream",
     "text": [
      "saving through pytorch to ./abstemp/./bertsumabs.pt\n"
     ]
    }
   ],
   "source": [
    "summarizer.save_model(MAX_STEPS, os.path.join(CACHE_PATH, \"./bertsumabs.pt\"))"
   ]
  },
  {
   "cell_type": "markdown",
   "metadata": {},
   "source": [
    "## Model Evaluation\n",
    "\n",
    "To run rouge evaluation, please refer to the section of compute_rouge_perl in [summarization_evaluation.ipynb](summarization_evaluation.ipynb) for setup.\n",
    "For the settings in this notebook with QUICK_RUN=False, you should get ROUGE scores close to the following numbers: <br />\n",
    "``\n",
    "{'rouge-1': {'f': 0.34819639878321873,\n",
    "             'p': 0.39977932634737307,\n",
    "             'r': 0.34429079596863604},\n",
    " 'rouge-2': {'f': 0.13919271352557894,\n",
    "             'p': 0.16129965067780644,\n",
    "             'r': 0.1372938054050938},\n",
    " 'rouge-l': {'f': 0.2313282318854973,\n",
    "             'p': 0.26664667422849747,\n",
    "             'r': 0.22850294283399628}}\n",
    " ``\n",
    " \n",
    " Better performance can be achieved by increasing the MAX_STEPS."
   ]
  },
  {
   "cell_type": "code",
   "execution_count": 19,
   "metadata": {
    "scrolled": true
   },
   "outputs": [],
   "source": [
    "# del summarizer\n",
    "checkpoint = torch.load(\"./abstemp/./bertsumabs.pt\")\n",
    "summarizer = BertSumAbs(\n",
    "    processor, cache_dir=CACHE_PATH, max_pos_length=MAX_POS\n",
    ")\n",
    "summarizer.model.load_checkpoint(checkpoint['model'])"
   ]
  },
  {
   "cell_type": "code",
   "execution_count": 16,
   "metadata": {},
   "outputs": [],
   "source": [
    "# clear cache\n",
    "import gc; gc.collect()\n",
    "torch.cuda.empty_cache()"
   ]
  },
  {
   "cell_type": "code",
   "execution_count": 27,
   "metadata": {},
   "outputs": [
    {
     "data": {
      "text/plain": [
       "287227"
      ]
     },
     "execution_count": 27,
     "metadata": {},
     "output_type": "execute_result"
    }
   ],
   "source": [
    "len(train_dataset)"
   ]
  },
  {
   "cell_type": "code",
   "execution_count": 25,
   "metadata": {},
   "outputs": [
    {
     "name": "stdout",
     "output_type": "stream",
     "text": [
      "32\n"
     ]
    }
   ],
   "source": [
    "QUICK_RUN\n",
    "# TOP_N = 32\n",
    "if not QUICK_RUN:\n",
    "    TOP_N = len(test_dataset)\n",
    "print(TOP_N)"
   ]
  },
  {
   "cell_type": "code",
   "execution_count": 35,
   "metadata": {},
   "outputs": [
    {
     "name": "stderr",
     "output_type": "stream",
     "text": [
      "\r",
      "Generating summary:   0%|          | 0/90 [00:00<?, ?it/s]"
     ]
    },
    {
     "name": "stdout",
     "output_type": "stream",
     "text": [
      "dataset length is 11490\n"
     ]
    },
    {
     "name": "stderr",
     "output_type": "stream",
     "text": [
      "Generating summary: 100%|██████████| 90/90 [3:26:35<00:00, 128.17s/it]  \n"
     ]
    }
   ],
   "source": [
    "TEST_TOP_N = 32\n",
    "if not QUICK_RUN:\n",
    "    TEST_TOP_N = len(test_dataset)\n",
    "    \n",
    "shortened_dataset= test_dataset.shorten(top_n=TEST_TOP_N)\n",
    "src = shortened_dataset.get_source()\n",
    "reference_summaries = [\" \".join(t).rstrip(\"\\n\") for t in shortened_dataset.get_target()]\n",
    "generated_summaries = summarizer.predict(\n",
    "    shortened_dataset, batch_size=32*4, num_gpus=NUM_GPUS\n",
    ")\n",
    "assert len(generated_summaries) == len(reference_summaries)\n"
   ]
  },
  {
   "cell_type": "code",
   "execution_count": 37,
   "metadata": {},
   "outputs": [
    {
     "data": {
      "text/plain": [
       "['marseille , france ( cnn ) the french prosecutor leading an investigation into the crash of germanwings flight 9525 insisted wednesday that he was not aware of any video footage from on board the plane .',\n",
       " 'marseille prosecutor brice robin told cnn that \" so far no videos were used in the crash investigation . \"',\n",
       " 'he added , \" a person who has such a video needs to immediately give it to the investigators . \"',\n",
       " \"robin 's comments follow claims by two magazines , german daily bild and french paris match , of a cell phone video showing the harrowing final seconds from on board germanwings flight 9525 as it crashed into the french alps .\",\n",
       " 'all 150 on board were killed .',\n",
       " 'paris match and bild reported that the video was recovered from a phone at the wreckage site .',\n",
       " 'the two publications described the supposed video , but did not post it on their websites .',\n",
       " 'the publications said that they watched the video , which was found by a source close to the investigation . \"',\n",
       " 'one can hear cries of ` my god \\' in several languages , \" paris match reported . \"',\n",
       " 'metallic banging can also be heard more than three times , perhaps of the pilot trying to open the cockpit door with a heavy object .',\n",
       " 'towards the end , after a heavy shake , stronger than the others , the screaming intensifies .',\n",
       " 'then nothing . \"',\n",
       " '\" it is a very disturbing scene , \" said julian reichelt , editor-in-chief of bild online .',\n",
       " \"an official with france 's accident investigation agency , the bea , said the agency is not aware of any such video .\",\n",
       " 'lt. col. jean-marc menichini , a french gendarmerie spokesman in charge of communications on rescue efforts around the germanwings crash site , told cnn that the reports were \" completely wrong \" and \" unwarranted . \"',\n",
       " 'cell phones have been collected at the site , he said , but that they \" had n\\'t been exploited yet . \"',\n",
       " 'menichini said he believed the cell phones would need to be sent to the criminal research institute in rosny sous-bois , near paris , in order to be analyzed by specialized technicians working hand-in-hand with investigators .',\n",
       " 'but none of the cell phones found so far have been sent to the institute , menichini said .',\n",
       " 'asked whether staff involved in the search could have leaked a memory card to the media , menichini answered with a categorical \" no . \"',\n",
       " 'reichelt told \" erin burnett : outfront \" that he had watched the video and stood by the report , saying bild and paris match are \" very confident \" that the clip is real .',\n",
       " 'he noted that investigators only revealed they \\'d recovered cell phones from the crash site after bild and paris match published their reports . \"',\n",
       " 'that is something we did not know before .',\n",
       " '... overall we can say many things of the investigation were n\\'t revealed by the investigation at the beginning , \" he said .',\n",
       " 'what was mental state of germanwings co-pilot ?',\n",
       " \"german airline lufthansa confirmed tuesday that co-pilot andreas lubitz had battled depression years before he took the controls of germanwings flight 9525 , which he 's accused of deliberately crashing last week in the french alps .\",\n",
       " 'lubitz told his lufthansa flight training school in 2009 that he had a \" previous episode of severe depression , \" the airline said tuesday .',\n",
       " 'email correspondence between lubitz and the school discovered in an internal investigation , lufthansa said , included medical documents he submitted in connection with resuming his flight training .',\n",
       " \"the announcement indicates that lufthansa , the parent company of germanwings , knew of lubitz 's battle with depression , allowed him to continue training and ultimately put him in the cockpit .\",\n",
       " 'lufthansa , whose ceo carsten spohr previously said lubitz was 100 % fit to fly , described its statement tuesday as a \" swift and seamless clarification \" and said it was sharing the information and documents -- including training and medical records -- with public prosecutors .',\n",
       " 'spohr traveled to the crash site wednesday , where recovery teams have been working for the past week to recover human remains and plane debris scattered across a steep mountainside .',\n",
       " 'he saw the crisis center set up in seyne-les-alpes , laid a wreath in the village of le vernet , closer to the crash site , where grieving families have left flowers at a simple stone memorial .',\n",
       " 'menichini told cnn late tuesday that no visible human remains were left at the site but recovery teams would keep searching .',\n",
       " 'french president francois hollande , speaking tuesday , said that it should be possible to identify all the victims using dna analysis by the end of the week , sooner than authorities had previously suggested .',\n",
       " \"in the meantime , the recovery of the victims ' personal belongings will start wednesday , menichini said .\",\n",
       " 'among those personal belongings could be more cell phones belonging to the 144 passengers and six crew on board .',\n",
       " 'check out the latest from our correspondents .',\n",
       " \"the details about lubitz 's correspondence with the flight school during his training were among several developments as investigators continued to delve into what caused the crash and lubitz 's possible motive for downing the jet .\",\n",
       " 'a lufthansa spokesperson told cnn on tuesday that lubitz had a valid medical certificate , had passed all his examinations and \" held all the licenses required . \"',\n",
       " \"earlier , a spokesman for the prosecutor 's office in dusseldorf , christoph kumpa , said medical records reveal lubitz suffered from suicidal tendencies at some point before his aviation career and underwent psychotherapy before he got his pilot 's license .\",\n",
       " \"kumpa emphasized there 's no evidence suggesting lubitz was suicidal or acting aggressively before the crash .\",\n",
       " \"investigators are looking into whether lubitz feared his medical condition would cause him to lose his pilot 's license , a european government official briefed on the investigation told cnn on tuesday .\",\n",
       " 'while flying was \" a big part of his life , \" the source said , it \\'s only one theory being considered .',\n",
       " 'another source , a law enforcement official briefed on the investigation , also told cnn that authorities believe the primary motive for lubitz to bring down the plane was that he feared he would not be allowed to fly because of his medical problems .',\n",
       " \"lubitz 's girlfriend told investigators he had seen an eye doctor and a neuropsychologist , both of whom deemed him unfit to work recently and concluded he had psychological issues , the european government official said .\",\n",
       " 'but no matter what details emerge about his previous mental health struggles , there \\'s more to the story , said brian russell , a forensic psychologist . \"',\n",
       " 'psychology can explain why somebody would turn rage inward on themselves about the fact that maybe they were n\\'t going to keep doing their job and they \\'re upset about that and so they \\'re suicidal , \" he said . \"',\n",
       " 'but there is no mental illness that explains why somebody then feels entitled to also take that rage and turn it outward on 149 other people who had nothing to do with the person \\'s problems . \"',\n",
       " 'germanwings crash compensation : what we know .',\n",
       " 'who was the captain of germanwings flight 9525 ?',\n",
       " \"cnn 's margot haddad reported from marseille and pamela brown from dusseldorf , while laura smith-spark wrote from london .\",\n",
       " \"cnn 's frederik pleitgen , pamela boykoff , antonia mortensen , sandrine amiel and anna-maja rappard contributed to this report .\"]"
      ]
     },
     "execution_count": 37,
     "metadata": {},
     "output_type": "execute_result"
    }
   ],
   "source": [
    "src[0]"
   ]
  },
  {
   "cell_type": "code",
   "execution_count": 21,
   "metadata": {},
   "outputs": [
    {
     "data": {
      "text/plain": [
       "'french prosecutor : \" so far no videos were used in the crash of germanwings flight 95fk .   new : \" we can hear cries of my god \\' in several languages , \"   french lawyer says he was not aware of any video footage from the crash , \" the report says .'"
      ]
     },
     "execution_count": 21,
     "metadata": {},
     "output_type": "execute_result"
    }
   ],
   "source": [
    "generated_summaries[0]"
   ]
  },
  {
   "cell_type": "code",
   "execution_count": 38,
   "metadata": {},
   "outputs": [
    {
     "data": {
      "text/plain": [
       "' marseille prosecutor says \" so far no videos were used in the crash investigation \" despite media reports .    journalists at bild and paris match are \" very confident \" the video clip is real , an editor says .    andreas lubitz had informed his lufthansa training school of an episode of severe depression , airline says .  '"
      ]
     },
     "execution_count": 38,
     "metadata": {},
     "output_type": "execute_result"
    }
   ],
   "source": [
    "reference_summaries[0]"
   ]
  },
  {
   "cell_type": "code",
   "execution_count": null,
   "metadata": {},
   "outputs": [],
   "source": [
    "rouge_scores = compute_rouge_python(cand=generated_summaries, ref=reference_summaries)\n"
   ]
  },
  {
   "cell_type": "code",
   "execution_count": 42,
   "metadata": {},
   "outputs": [
    {
     "name": "stdout",
     "output_type": "stream",
     "text": [
      "{'rouge-1': {'f': 0.34819639878321873,\n",
      "             'p': 0.39977932634737307,\n",
      "             'r': 0.34429079596863604},\n",
      " 'rouge-2': {'f': 0.13919271352557894,\n",
      "             'p': 0.16129965067780644,\n",
      "             'r': 0.1372938054050938},\n",
      " 'rouge-l': {'f': 0.2313282318854973,\n",
      "             'p': 0.26664667422849747,\n",
      "             'r': 0.22850294283399628}}\n"
     ]
    }
   ],
   "source": [
    "pprint.pprint(rouge_scores)"
   ]
  },
  {
   "cell_type": "code",
   "execution_count": 43,
   "metadata": {},
   "outputs": [
    {
     "data": {
      "application/scrapbook.scrap.json+json": {
       "data": 0.13919271352557894,
       "encoder": "json",
       "name": "rouge_2_f_score",
       "version": 1
      }
     },
     "metadata": {
      "scrapbook": {
       "data": true,
       "display": false,
       "name": "rouge_2_f_score"
      }
     },
     "output_type": "display_data"
    }
   ],
   "source": [
    "# for testing\n",
    "sb.glue(\"rouge_2_f_score\", rouge_scores['rouge-2']['f'])"
   ]
  },
  {
   "cell_type": "markdown",
   "metadata": {},
   "source": [
    "## Clean up temporary folders"
   ]
  },
  {
   "cell_type": "code",
   "execution_count": null,
   "metadata": {},
   "outputs": [],
   "source": [
    "if os.path.exists(DATA_PATH):\n",
    "    shutil.rmtree(DATA_PATH, ignore_errors=True)\n",
    "if os.path.exists(CACHE_PATH):\n",
    "    shutil.rmtree(CACHE_PATH, ignore_errors=True)"
   ]
  }
 ],
 "metadata": {
  "celltoolbar": "Tags",
  "kernelspec": {
   "display_name": "python3.6 cm3",
   "language": "python",
   "name": "cm3"
  },
  "language_info": {
   "codemirror_mode": {
    "name": "ipython",
    "version": 3
   },
   "file_extension": ".py",
   "mimetype": "text/x-python",
   "name": "python",
   "nbconvert_exporter": "python",
   "pygments_lexer": "ipython3",
   "version": "3.6.8"
  }
 },
 "nbformat": 4,
 "nbformat_minor": 2
}
