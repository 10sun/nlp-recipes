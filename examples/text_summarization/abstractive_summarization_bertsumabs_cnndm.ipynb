{
 "cells": [
  {
   "cell_type": "markdown",
   "metadata": {},
   "source": [
    "Copyright (c) Microsoft Corporation.\n",
    "Licensed under the MIT License."
   ]
  },
  {
   "cell_type": "markdown",
   "metadata": {},
   "source": [
    "# Abstractive Summarization using BertSumAbs on CNN/DailyMails Dataset"
   ]
  },
  {
   "cell_type": "markdown",
   "metadata": {},
   "source": [
    "## Summary"
   ]
  },
  {
   "cell_type": "markdown",
   "metadata": {},
   "source": [
    "This notebook demonstrates how to fine tune BERT for abstractive text summarization. Utility functions and classes in the NLP Best Practices repo are used to facilitate data preprocessing, model training, model scoring, result postprocessing, and model evaluation.\n",
    "\n",
    "### Abstractive Summarization\n",
    "Abstractive summarization is the task of taking an input text and summarizing its content in a shorter output text. In contrast to extractive summarization, abstractive summarization doesn't take sentences directly from the input text, instead, rephrases the input text.\n",
    "\n",
    "### BertSumAbs\n",
    "\n",
    "BertSumAbs refers to an BERT-based abstractive summarization algorithm  in [Text Summarization with Pretrained Encoders](https://arxiv.org/abs/1908.08345) with [published examples](https://github.com/nlpyang/PreSumm). It uses the pretrained BERT model as encoder and finetune both encoder and decoder on a specific labeled summarization dataset like [CNN/DM dataset](https://github.com/harvardnlp/sent-summary). \n",
    "\n",
    "The figure below shows the comparison of architecture of the original BERT model (left) and BERTSUM (right), which BertSumAbs is built upon. For BERTSUM, a input document is split into sentences, and [CLS] and [SEP] tokens are inserted before and after each sentence. This resulting sequence is followed by the summation of three kinds of embeddings for each token before feeding into the transformer layers. The positional embedding used in BertSumAbs enables input length of more than 512, which is the  maximum input length for BERT model. \n",
    "\n",
    "It should be noted that the architecture only shows the encoder part. For decoder, BertSumAbs also uses a transformer with multiple layers and random initialization. As pretrained weights are used in the encoder, there is a mismatch in encoder and decoder which may result in unstable finetuning. Therefore, in fine tuning, BertSumAbs uses seperate optimizers for encoder and decoder, each uses its own scheduling. In text generation, techniques like trigram blocking and beam search can be used to improve model accuarcy.\n",
    "<img src=\"https://nlpbp.blob.core.windows.net/images/BertForSummarization.PNG\">\n"
   ]
  },
  {
   "cell_type": "markdown",
   "metadata": {},
   "source": [
    "## Before you start\n",
    "Set QUICK_RUN = True to run the notebook on a small subset of data and a smaller number of steps. If QUICK_RUN = False, the notebook takes about 5 hours to run on a VM with 4 16GB NVIDIA V100 GPUs.\n",
    "\n",
    "To run rouge evaluation, please refer to the section of compute_rouge_perl in [summarization_evaluation.ipynb](./summarization_evaluation.ipynb)."
   ]
  },
  {
   "cell_type": "code",
   "execution_count": 1,
   "metadata": {},
   "outputs": [],
   "source": [
    "%load_ext autoreload\n",
    "%autoreload 2"
   ]
  },
  {
   "cell_type": "code",
   "execution_count": 2,
   "metadata": {},
   "outputs": [],
   "source": [
    "QUICK_RUN = True"
   ]
  },
  {
   "cell_type": "code",
   "execution_count": 3,
   "metadata": {},
   "outputs": [],
   "source": [
    "import os\n",
    "import shutil\n",
    "import sys\n",
    "from tempfile import TemporaryDirectory\n",
    "import torch\n",
    "\n",
    "nlp_path = os.path.abspath(\"../../\")\n",
    "if nlp_path not in sys.path:\n",
    "    sys.path.insert(0, nlp_path)\n",
    "\n",
    "from utils_nlp.models.transformers.abstractive_summarization_bertsum import BertSumAbs, BertSumAbsProcessor, shorten_dataset\n",
    "\n",
    "from utils_nlp.dataset.cnndm import CNNDMSummarizationDataset\n",
    "from utils_nlp.models.transformers.datasets import SummarizationNonIterableDataset\n",
    "from utils_nlp.eval.evaluate_summarization import get_rouge\n",
    "\n",
    "import pandas as pd\n",
    "import scrapbook as sb"
   ]
  },
  {
   "cell_type": "markdown",
   "metadata": {},
   "source": [
    "## Data Preprocessing"
   ]
  },
  {
   "cell_type": "markdown",
   "metadata": {},
   "source": [
    "The dataset we used for this notebook is CNN/DM dataset which contains the documents and accompanying questions from the news articles of CNN and Daily mail. The highlights in each article are used as summary. The dataset consits of ~289K training examples, ~11K valiation examples and ~11K test examples. The length of the news articles is 781 tokens on average and the summaries are of 3.75 sentences and 56 tokens on average.\n",
    "\n",
    "The significant part of data preprocessing only involve splitting the input document into sentences."
   ]
  },
  {
   "cell_type": "code",
   "execution_count": 4,
   "metadata": {},
   "outputs": [],
   "source": [
    "#DATA_PATH"
   ]
  },
  {
   "cell_type": "code",
   "execution_count": 5,
   "metadata": {},
   "outputs": [],
   "source": [
    "# the data path used to save the downloaded data file\n",
    "DATA_PATH =  '/tmp/tmpf17u9ovc' #TemporaryDirectory().name\n",
    "# The number of lines at the head of data file used for preprocessing. -1 means all the lines.\n",
    "TOP_N = 1000\n",
    "if not QUICK_RUN:\n",
    "    TOP_N = -1"
   ]
  },
  {
   "cell_type": "code",
   "execution_count": 6,
   "metadata": {},
   "outputs": [],
   "source": [
    "train_dataset, test_dataset = CNNDMSummarizationDataset(\n",
    "            top_n=TOP_N, local_cache_path=DATA_PATH, prepare_extractive=False\n",
    "        )\n",
    "source = [x[0] for x in list(test_dataset.get_source())]\n",
    "target = [x[0] for x in list(test_dataset.get_target())]\n",
    "test_sum_dataset = SummarizationNonIterableDataset(source, target)\n",
    "\n",
    "source = [x[0] for x in list(train_dataset.get_source())]\n",
    "target = [x[0] for x in list(train_dataset.get_target())]\n",
    "train_sum_dataset = SummarizationNonIterableDataset(source, target)"
   ]
  },
  {
   "cell_type": "code",
   "execution_count": 7,
   "metadata": {},
   "outputs": [
    {
     "data": {
      "text/plain": [
       "[\"editor 's note : in our behind the scenes series , cnn correspondents share their experiences in covering news and analyze the stories behind the events .\",\n",
       " \"here , soledad o'brien takes users inside a jail where many of the inmates are mentally ill .\",\n",
       " 'an inmate housed on the \" forgotten floor , \" where many mentally ill inmates are housed in miami before trial .',\n",
       " 'miami , florida ( cnn ) -- the ninth floor of the miami-dade pretrial detention facility is dubbed the \" forgotten floor . \"',\n",
       " \"here , inmates with the most severe mental illnesses are incarcerated until they 're ready to appear in court .\",\n",
       " 'most often , they face drug charges or charges of assaulting an officer -- charges that judge steven leifman says are usually \" avoidable felonies . \"',\n",
       " 'he says the arrests often result from confrontations with police .',\n",
       " \"mentally ill people often wo n't do what they 're told when police arrive on the scene -- confrontation seems to exacerbate their illness and they become more paranoid , delusional , and less likely to follow directions , according to leifman .\",\n",
       " \"so , they end up on the ninth floor severely mentally disturbed , but not getting any real help because they 're in jail .\",\n",
       " 'we toured the jail with leifman .',\n",
       " 'he is well known in miami as an advocate for justice and the mentally ill .',\n",
       " 'even though we were not exactly welcomed with open arms by the guards , we were given permission to shoot videotape and tour the floor .',\n",
       " 'go inside the ` forgotten floor \\' \" at first , it \\'s hard to determine where the people are .',\n",
       " 'the prisoners are wearing sleeveless robes .',\n",
       " \"imagine cutting holes for arms and feet in a heavy wool sleeping bag -- that 's kind of what they look like .\",\n",
       " \"they 're designed to keep the mentally ill patients from injuring themselves .\",\n",
       " \"that 's also why they have no shoes , laces or mattresses .\",\n",
       " 'leifman says about one-third of all people in miami-dade county jails are mentally ill .',\n",
       " 'so , he says , the sheer volume is overwhelming the system , and the result is what we see on the ninth floor .',\n",
       " \"of course , it is a jail , so it 's not supposed to be warm and comforting , but the lights glare , the cells are tiny and it 's loud .\",\n",
       " 'we see two , sometimes three men -- sometimes in the robes , sometimes naked , lying or sitting in their cells . \"',\n",
       " 'i am the son of the president .',\n",
       " 'you need to get me out of here ! \"',\n",
       " 'one man shouts at me .',\n",
       " 'he is absolutely serious , convinced that help is on the way -- if only he could reach the white house .',\n",
       " 'leifman tells me that these prisoner-patients will often circulate through the system , occasionally stabilizing in a mental hospital , only to return to jail to face their charges .',\n",
       " \"it 's brutally unjust , in his mind , and he has become a strong advocate for changing things in miami .\",\n",
       " 'over a meal later , we talk about how things got this way for mental patients .',\n",
       " 'leifman says 200 years ago people were considered \" lunatics \" and they were locked up in jails even if they had no charges against them .',\n",
       " 'they were just considered unfit to be in society .',\n",
       " 'over the years , he says , there was some public outcry , and the mentally ill were moved out of jails and into hospitals .',\n",
       " 'but leifman says many of these mental hospitals were so horrible they were shut down .',\n",
       " 'where did the patients go ?',\n",
       " 'nowhere .',\n",
       " 'the streets .',\n",
       " 'they became , in many cases , the homeless , he says .',\n",
       " 'they never got treatment .',\n",
       " 'leifman says in 1955 there were more than half a million people in state mental hospitals , and today that number has been reduced 90 percent , and 40,000 to 50,000 people are in mental hospitals .',\n",
       " \"the judge says he 's working to change this .\",\n",
       " 'starting in 2008 , many inmates who would otherwise have been brought to the \" forgotten floor \" will instead be sent to a new mental health facility -- the first step on a journey toward long-term treatment , not just punishment .',\n",
       " \"leifman says it 's not the complete answer , but it 's a start .\",\n",
       " \"leifman says the best part is that it 's a win-win solution .\",\n",
       " 'the patients win , the families are relieved , and the state saves money by simply not cycling these prisoners through again and again .',\n",
       " 'and , for leifman , justice is served .',\n",
       " 'e-mail to a friend .']"
      ]
     },
     "execution_count": 7,
     "metadata": {},
     "output_type": "execute_result"
    }
   ],
   "source": [
    "train_sum_dataset.source[0]"
   ]
  },
  {
   "cell_type": "code",
   "execution_count": 8,
   "metadata": {
    "scrolled": true
   },
   "outputs": [
    {
     "data": {
      "text/plain": [
       "[' mentally ill inmates in miami are housed on the \" forgotten floor \" ',\n",
       " '  judge steven leifman says most are there as a result of \" avoidable felonies \" ',\n",
       " '  while cnn tours facility , patient shouts : \" i am the son of the president \" ',\n",
       " \"  leifman says the system is unjust and he 's fighting for change . \",\n",
       " '\\n']"
      ]
     },
     "execution_count": 8,
     "metadata": {},
     "output_type": "execute_result"
    }
   ],
   "source": [
    "train_sum_dataset.target[0]"
   ]
  },
  {
   "cell_type": "markdown",
   "metadata": {},
   "source": [
    "## Model Finetuning"
   ]
  },
  {
   "cell_type": "code",
   "execution_count": 9,
   "metadata": {},
   "outputs": [],
   "source": [
    "# notebook parameters\n",
    "# the cache path\n",
    "CACHE_PATH = TemporaryDirectory().name\n",
    "\n",
    "# model parameters\n",
    "MODEL_NAME = \"bert-base-uncased\"\n",
    "MAX_POS = 768\n",
    "MAX_SOURCE_SEQ_LENGTH = 640\n",
    "MAX_TARGET_SEQ_LENGTH = 140\n",
    "\n",
    "# mixed precision setting. To enable mixed precision training, follow instructions in SETUP.md. \n",
    "FP16 = False\n",
    "if FP16:\n",
    "    FP16_OPT_LEVEL=\"O2\"\n",
    "    \n",
    "# fine-tuning parameters\n",
    "# batch size, unit is the number of tokens\n",
    "BATCH_SIZE_PER_GPU = 3\n",
    "\n",
    "\n",
    "# GPU used for training\n",
    "NUM_GPUS = 2\n",
    "\n",
    "# Learning rate\n",
    "LEARNING_RATE_BERT=2e-3\n",
    "LEARNING_RATE_DEC=0.2\n",
    "\n",
    "\n",
    "# How often the statistics reports show up in training, unit is step.\n",
    "REPORT_EVERY=10\n",
    "SAVE_EVERY=500\n",
    "\n",
    "# total number of steps for training\n",
    "MAX_STEPS=5e4\n",
    "WARMUP_STEPS_BERT=20000\n",
    "WARMUP_STEPS_DEC=10000\n",
    "    \n",
    "if QUICK_RUN:\n",
    "    MAX_STEPS=1e2\n",
    "\n",
    "   \n"
   ]
  },
  {
   "cell_type": "code",
   "execution_count": 10,
   "metadata": {},
   "outputs": [],
   "source": [
    "# processor which contains the colloate function to load the preprocessed data\n",
    "processor = BertSumAbsProcessor(cache_dir=CACHE_PATH, max_src_len=MAX_SOURCE_SEQ_LENGTH, max_target_len=MAX_TARGET_SEQ_LENGTH)\n",
    "# summarizer\n",
    "summarizer = BertSumAbs(\n",
    "    processor, cache_dir=CACHE_PATH, max_pos_length=MAX_POS\n",
    ")"
   ]
  },
  {
   "cell_type": "code",
   "execution_count": 11,
   "metadata": {},
   "outputs": [
    {
     "data": {
      "text/plain": [
       "6"
      ]
     },
     "execution_count": 11,
     "metadata": {},
     "output_type": "execute_result"
    }
   ],
   "source": [
    "BATCH_SIZE_PER_GPU*NUM_GPUS"
   ]
  },
  {
   "cell_type": "code",
   "execution_count": 12,
   "metadata": {
    "scrolled": true
   },
   "outputs": [
    {
     "data": {
      "text/plain": [
       "'\\nsummarizer.fit(\\n        train_sum_dataset,\\n        num_gpus=NUM_GPUS,\\n        batch_size=BATCH_SIZE_PER_GPU*NUM_GPUS,\\n        max_steps=MAX_STEPS,\\n        learning_rate_bert=LEARNING_RATE_BERT,\\n        learning_rate_dec=LEARNING_RATE_DEC,\\n        warmup_steps_bert=WARMUP_STEPS_BERT,\\n        warmup_steps_dec=WARMUP_STEPS_DEC,\\n        save_every=SAVE_EVERY,\\n        report_every=REPORT_EVERY,\\n        fp16=FP16,\\n)\\n'"
      ]
     },
     "execution_count": 12,
     "metadata": {},
     "output_type": "execute_result"
    }
   ],
   "source": [
    "\n",
    "summarizer.fit(\n",
    "        train_sum_dataset,\n",
    "        num_gpus=NUM_GPUS,\n",
    "        batch_size=BATCH_SIZE_PER_GPU*NUM_GPUS,\n",
    "        max_steps=MAX_STEPS,\n",
    "        learning_rate_bert=LEARNING_RATE_BERT,\n",
    "        learning_rate_dec=LEARNING_RATE_DEC,\n",
    "        warmup_steps_bert=WARMUP_STEPS_BERT,\n",
    "        warmup_steps_dec=WARMUP_STEPS_DEC,\n",
    "        save_every=SAVE_EVERY,\n",
    "        report_every=REPORT_EVERY,\n",
    "        fp16=FP16,\n",
    ")\n"
   ]
  },
  {
   "cell_type": "code",
   "execution_count": 13,
   "metadata": {},
   "outputs": [],
   "source": [
    "summarizer.save_model(MAX_STEPS, os.path.join(CACHE_PATH, \"./bertsumabs.pt\"))"
   ]
  },
  {
   "cell_type": "markdown",
   "metadata": {},
   "source": [
    "## Model Evaluation"
   ]
  },
  {
   "cell_type": "code",
   "execution_count": 14,
   "metadata": {
    "scrolled": true
   },
   "outputs": [],
   "source": [
    "# del summarizer\n",
    "# checkpoint = torch.load(\"./abstemp/bert-base-uncased_step_1000.pt\")\n",
    "# summarizer.model.load_checkpoint(checkpoint['model'])"
   ]
  },
  {
   "cell_type": "code",
   "execution_count": 15,
   "metadata": {},
   "outputs": [],
   "source": [
    "# clear cache\n",
    "import gc; gc.collect()\n",
    "torch.cuda.empty_cache()"
   ]
  },
  {
   "cell_type": "code",
   "execution_count": 16,
   "metadata": {},
   "outputs": [
    {
     "name": "stderr",
     "output_type": "stream",
     "text": [
      "\r",
      "Generating summary:   0%|          | 0/4 [00:00<?, ?it/s]"
     ]
    },
    {
     "name": "stdout",
     "output_type": "stream",
     "text": [
      "dataset length is 128\n",
      "device is cuda:0\n"
     ]
    },
    {
     "name": "stderr",
     "output_type": "stream",
     "text": [
      "\r",
      "Generating summary:  25%|██▌       | 1/4 [00:44<02:13, 44.34s/it]"
     ]
    },
    {
     "name": "stdout",
     "output_type": "stream",
     "text": [
      "device is cuda:0\n"
     ]
    },
    {
     "name": "stderr",
     "output_type": "stream",
     "text": [
      "\r",
      "Generating summary:  50%|█████     | 2/4 [01:27<01:27, 43.97s/it]"
     ]
    },
    {
     "name": "stdout",
     "output_type": "stream",
     "text": [
      "device is cuda:0\n"
     ]
    },
    {
     "name": "stderr",
     "output_type": "stream",
     "text": [
      "\r",
      "Generating summary:  75%|███████▌  | 3/4 [02:09<00:43, 43.50s/it]"
     ]
    },
    {
     "name": "stdout",
     "output_type": "stream",
     "text": [
      "device is cuda:0\n"
     ]
    },
    {
     "name": "stderr",
     "output_type": "stream",
     "text": [
      "Generating summary: 100%|██████████| 4/4 [02:52<00:00, 43.20s/it]\n"
     ]
    }
   ],
   "source": [
    "TOP_N=128\n",
    "src = test_sum_dataset.source[0:TOP_N]\n",
    "reference_summaries = [\" \".join(t).rstrip(\"\\n\") for t in test_sum_dataset.target[0:TOP_N]]\n",
    "generated_summaries = summarizer.predict(\n",
    "    shorten_dataset(test_sum_dataset, top_n=TOP_N), batch_size=32, num_gpus=NUM_GPUS, max_seq_length=MAX_POS\n",
    ")\n",
    "assert len(generated_summaries) == len(reference_summaries)\n"
   ]
  },
  {
   "cell_type": "code",
   "execution_count": 17,
   "metadata": {},
   "outputs": [
    {
     "data": {
      "text/plain": [
       "['marseille , france ( cnn ) the french prosecutor leading an investigation into the crash of germanwings flight 9525 insisted wednesday that he was not aware of any video footage from on board the plane .',\n",
       " 'marseille prosecutor brice robin told cnn that \" so far no videos were used in the crash investigation . \"',\n",
       " 'he added , \" a person who has such a video needs to immediately give it to the investigators . \"',\n",
       " \"robin 's comments follow claims by two magazines , german daily bild and french paris match , of a cell phone video showing the harrowing final seconds from on board germanwings flight 9525 as it crashed into the french alps .\",\n",
       " 'all 150 on board were killed .',\n",
       " 'paris match and bild reported that the video was recovered from a phone at the wreckage site .',\n",
       " 'the two publications described the supposed video , but did not post it on their websites .',\n",
       " 'the publications said that they watched the video , which was found by a source close to the investigation . \"',\n",
       " 'one can hear cries of ` my god \\' in several languages , \" paris match reported . \"',\n",
       " 'metallic banging can also be heard more than three times , perhaps of the pilot trying to open the cockpit door with a heavy object .',\n",
       " 'towards the end , after a heavy shake , stronger than the others , the screaming intensifies .',\n",
       " 'then nothing . \"',\n",
       " '\" it is a very disturbing scene , \" said julian reichelt , editor-in-chief of bild online .',\n",
       " \"an official with france 's accident investigation agency , the bea , said the agency is not aware of any such video .\",\n",
       " 'lt. col. jean-marc menichini , a french gendarmerie spokesman in charge of communications on rescue efforts around the germanwings crash site , told cnn that the reports were \" completely wrong \" and \" unwarranted . \"',\n",
       " 'cell phones have been collected at the site , he said , but that they \" had n\\'t been exploited yet . \"',\n",
       " 'menichini said he believed the cell phones would need to be sent to the criminal research institute in rosny sous-bois , near paris , in order to be analyzed by specialized technicians working hand-in-hand with investigators .',\n",
       " 'but none of the cell phones found so far have been sent to the institute , menichini said .',\n",
       " 'asked whether staff involved in the search could have leaked a memory card to the media , menichini answered with a categorical \" no . \"',\n",
       " 'reichelt told \" erin burnett : outfront \" that he had watched the video and stood by the report , saying bild and paris match are \" very confident \" that the clip is real .',\n",
       " 'he noted that investigators only revealed they \\'d recovered cell phones from the crash site after bild and paris match published their reports . \"',\n",
       " 'that is something we did not know before .',\n",
       " '... overall we can say many things of the investigation were n\\'t revealed by the investigation at the beginning , \" he said .',\n",
       " 'what was mental state of germanwings co-pilot ?',\n",
       " \"german airline lufthansa confirmed tuesday that co-pilot andreas lubitz had battled depression years before he took the controls of germanwings flight 9525 , which he 's accused of deliberately crashing last week in the french alps .\",\n",
       " 'lubitz told his lufthansa flight training school in 2009 that he had a \" previous episode of severe depression , \" the airline said tuesday .',\n",
       " 'email correspondence between lubitz and the school discovered in an internal investigation , lufthansa said , included medical documents he submitted in connection with resuming his flight training .',\n",
       " \"the announcement indicates that lufthansa , the parent company of germanwings , knew of lubitz 's battle with depression , allowed him to continue training and ultimately put him in the cockpit .\",\n",
       " 'lufthansa , whose ceo carsten spohr previously said lubitz was 100 % fit to fly , described its statement tuesday as a \" swift and seamless clarification \" and said it was sharing the information and documents -- including training and medical records -- with public prosecutors .',\n",
       " 'spohr traveled to the crash site wednesday , where recovery teams have been working for the past week to recover human remains and plane debris scattered across a steep mountainside .',\n",
       " 'he saw the crisis center set up in seyne-les-alpes , laid a wreath in the village of le vernet , closer to the crash site , where grieving families have left flowers at a simple stone memorial .',\n",
       " 'menichini told cnn late tuesday that no visible human remains were left at the site but recovery teams would keep searching .',\n",
       " 'french president francois hollande , speaking tuesday , said that it should be possible to identify all the victims using dna analysis by the end of the week , sooner than authorities had previously suggested .',\n",
       " \"in the meantime , the recovery of the victims ' personal belongings will start wednesday , menichini said .\",\n",
       " 'among those personal belongings could be more cell phones belonging to the 144 passengers and six crew on board .',\n",
       " 'check out the latest from our correspondents .',\n",
       " \"the details about lubitz 's correspondence with the flight school during his training were among several developments as investigators continued to delve into what caused the crash and lubitz 's possible motive for downing the jet .\",\n",
       " 'a lufthansa spokesperson told cnn on tuesday that lubitz had a valid medical certificate , had passed all his examinations and \" held all the licenses required . \"',\n",
       " \"earlier , a spokesman for the prosecutor 's office in dusseldorf , christoph kumpa , said medical records reveal lubitz suffered from suicidal tendencies at some point before his aviation career and underwent psychotherapy before he got his pilot 's license .\",\n",
       " \"kumpa emphasized there 's no evidence suggesting lubitz was suicidal or acting aggressively before the crash .\",\n",
       " \"investigators are looking into whether lubitz feared his medical condition would cause him to lose his pilot 's license , a european government official briefed on the investigation told cnn on tuesday .\",\n",
       " 'while flying was \" a big part of his life , \" the source said , it \\'s only one theory being considered .',\n",
       " 'another source , a law enforcement official briefed on the investigation , also told cnn that authorities believe the primary motive for lubitz to bring down the plane was that he feared he would not be allowed to fly because of his medical problems .',\n",
       " \"lubitz 's girlfriend told investigators he had seen an eye doctor and a neuropsychologist , both of whom deemed him unfit to work recently and concluded he had psychological issues , the european government official said .\",\n",
       " 'but no matter what details emerge about his previous mental health struggles , there \\'s more to the story , said brian russell , a forensic psychologist . \"',\n",
       " 'psychology can explain why somebody would turn rage inward on themselves about the fact that maybe they were n\\'t going to keep doing their job and they \\'re upset about that and so they \\'re suicidal , \" he said . \"',\n",
       " 'but there is no mental illness that explains why somebody then feels entitled to also take that rage and turn it outward on 149 other people who had nothing to do with the person \\'s problems . \"',\n",
       " 'germanwings crash compensation : what we know .',\n",
       " 'who was the captain of germanwings flight 9525 ?',\n",
       " \"cnn 's margot haddad reported from marseille and pamela brown from dusseldorf , while laura smith-spark wrote from london .\",\n",
       " \"cnn 's frederik pleitgen , pamela boykoff , antonia mortensen , sandrine amiel and anna-maja rappard contributed to this report .\"]"
      ]
     },
     "execution_count": 17,
     "metadata": {},
     "output_type": "execute_result"
    }
   ],
   "source": [
    "src[0]"
   ]
  },
  {
   "cell_type": "code",
   "execution_count": 18,
   "metadata": {},
   "outputs": [
    {
     "data": {
      "text/plain": [
       "\"new : u . s . justice minister says lebanon ' s .   u . n ' t have been used to be used to step down the country ' t want to step step down .\""
      ]
     },
     "execution_count": 18,
     "metadata": {},
     "output_type": "execute_result"
    }
   ],
   "source": [
    "generated_summaries[1]"
   ]
  },
  {
   "cell_type": "code",
   "execution_count": 19,
   "metadata": {},
   "outputs": [
    {
     "data": {
      "text/plain": [
       "' membership gives the icc jurisdiction over alleged crimes committed in palestinian territories since last june .    israel and the united states opposed the move , which could open the door to war crimes investigations against israelis .  '"
      ]
     },
     "execution_count": 19,
     "metadata": {},
     "output_type": "execute_result"
    }
   ],
   "source": [
    "reference_summaries[1]"
   ]
  },
  {
   "cell_type": "code",
   "execution_count": 20,
   "metadata": {},
   "outputs": [
    {
     "name": "stderr",
     "output_type": "stream",
     "text": [
      "2020-03-04 21:54:28,482 [MainThread  ] [INFO ]  Writing summaries.\n",
      "INFO:global:Writing summaries.\n",
      "2020-03-04 21:54:28,484 [MainThread  ] [INFO ]  Processing summaries. Saving system files to /tmp/tmpmgnbbu7h/tmp54vpunvl/system and model files to /tmp/tmpmgnbbu7h/tmp54vpunvl/model.\n",
      "INFO:global:Processing summaries. Saving system files to /tmp/tmpmgnbbu7h/tmp54vpunvl/system and model files to /tmp/tmpmgnbbu7h/tmp54vpunvl/model.\n",
      "2020-03-04 21:54:28,485 [MainThread  ] [INFO ]  Processing files in /tmp/tmpmgnbbu7h/rouge-tmp-2020-03-04-21-54-28/candidate/.\n",
      "INFO:global:Processing files in /tmp/tmpmgnbbu7h/rouge-tmp-2020-03-04-21-54-28/candidate/.\n",
      "2020-03-04 21:54:28,498 [MainThread  ] [INFO ]  Saved processed files to /tmp/tmpmgnbbu7h/tmp54vpunvl/system.\n",
      "INFO:global:Saved processed files to /tmp/tmpmgnbbu7h/tmp54vpunvl/system.\n",
      "2020-03-04 21:54:28,499 [MainThread  ] [INFO ]  Processing files in /tmp/tmpmgnbbu7h/rouge-tmp-2020-03-04-21-54-28/reference/.\n",
      "INFO:global:Processing files in /tmp/tmpmgnbbu7h/rouge-tmp-2020-03-04-21-54-28/reference/.\n",
      "2020-03-04 21:54:28,512 [MainThread  ] [INFO ]  Saved processed files to /tmp/tmpmgnbbu7h/tmp54vpunvl/model.\n",
      "INFO:global:Saved processed files to /tmp/tmpmgnbbu7h/tmp54vpunvl/model.\n",
      "2020-03-04 21:54:28,514 [MainThread  ] [INFO ]  Written ROUGE configuration to /tmp/tmpmgnbbu7h/tmp6ak3upuu/rouge_conf.xml\n",
      "INFO:global:Written ROUGE configuration to /tmp/tmpmgnbbu7h/tmp6ak3upuu/rouge_conf.xml\n",
      "2020-03-04 21:54:28,515 [MainThread  ] [INFO ]  Running ROUGE with command /dadendev/azure_sum/sum_eval/ROUGE-RELEASE-1.5.5/ROUGE-1.5.5.pl -e /dadendev/azure_sum/sum_eval/ROUGE-RELEASE-1.5.5/data -c 95 -m -r 1000 -n 2 -a /tmp/tmpmgnbbu7h/tmp6ak3upuu/rouge_conf.xml\n",
      "INFO:global:Running ROUGE with command /dadendev/azure_sum/sum_eval/ROUGE-RELEASE-1.5.5/ROUGE-1.5.5.pl -e /dadendev/azure_sum/sum_eval/ROUGE-RELEASE-1.5.5/data -c 95 -m -r 1000 -n 2 -a /tmp/tmpmgnbbu7h/tmp6ak3upuu/rouge_conf.xml\n"
     ]
    },
    {
     "name": "stdout",
     "output_type": "stream",
     "text": [
      "128\n",
      "128\n",
      "---------------------------------------------\n",
      "1 ROUGE-1 Average_R: 0.14106 (95%-conf.int. 0.12835 - 0.15425)\n",
      "1 ROUGE-1 Average_P: 0.16039 (95%-conf.int. 0.14419 - 0.17604)\n",
      "1 ROUGE-1 Average_F: 0.14274 (95%-conf.int. 0.13074 - 0.15444)\n",
      "---------------------------------------------\n",
      "1 ROUGE-2 Average_R: 0.01723 (95%-conf.int. 0.01253 - 0.02174)\n",
      "1 ROUGE-2 Average_P: 0.02043 (95%-conf.int. 0.01519 - 0.02617)\n",
      "1 ROUGE-2 Average_F: 0.01780 (95%-conf.int. 0.01340 - 0.02242)\n",
      "---------------------------------------------\n",
      "1 ROUGE-L Average_R: 0.10427 (95%-conf.int. 0.09507 - 0.11371)\n",
      "1 ROUGE-L Average_P: 0.11909 (95%-conf.int. 0.10773 - 0.12984)\n",
      "1 ROUGE-L Average_F: 0.10584 (95%-conf.int. 0.09711 - 0.11484)\n",
      "\n",
      "{'rouge_1_recall': 0.14106, 'rouge_1_recall_cb': 0.12835, 'rouge_1_recall_ce': 0.15425, 'rouge_1_precision': 0.16039, 'rouge_1_precision_cb': 0.14419, 'rouge_1_precision_ce': 0.17604, 'rouge_1_f_score': 0.14274, 'rouge_1_f_score_cb': 0.13074, 'rouge_1_f_score_ce': 0.15444, 'rouge_2_recall': 0.01723, 'rouge_2_recall_cb': 0.01253, 'rouge_2_recall_ce': 0.02174, 'rouge_2_precision': 0.02043, 'rouge_2_precision_cb': 0.01519, 'rouge_2_precision_ce': 0.02617, 'rouge_2_f_score': 0.0178, 'rouge_2_f_score_cb': 0.0134, 'rouge_2_f_score_ce': 0.02242, 'rouge_l_recall': 0.10427, 'rouge_l_recall_cb': 0.09507, 'rouge_l_recall_ce': 0.11371, 'rouge_l_precision': 0.11909, 'rouge_l_precision_cb': 0.10773, 'rouge_l_precision_ce': 0.12984, 'rouge_l_f_score': 0.10584, 'rouge_l_f_score_cb': 0.09711, 'rouge_l_f_score_ce': 0.11484}\n"
     ]
    }
   ],
   "source": [
    "RESULT_DIR = TemporaryDirectory().name\n",
    "rouge_score = get_rouge(generated_summaries, reference_summaries, RESULT_DIR)\n",
    "print(rouge_score)"
   ]
  },
  {
   "cell_type": "code",
   "execution_count": null,
   "metadata": {},
   "outputs": [],
   "source": []
  }
 ],
 "metadata": {
  "kernelspec": {
   "display_name": "Python (nlp_gpu)",
   "language": "python",
   "name": "nlp_gpu"
  },
  "language_info": {
   "codemirror_mode": {
    "name": "ipython",
    "version": 3
   },
   "file_extension": ".py",
   "mimetype": "text/x-python",
   "name": "python",
   "nbconvert_exporter": "python",
   "pygments_lexer": "ipython3",
   "version": "3.6.8"
  }
 },
 "nbformat": 4,
 "nbformat_minor": 2
}
