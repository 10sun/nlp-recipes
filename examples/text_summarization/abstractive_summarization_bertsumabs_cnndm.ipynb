{
 "cells": [
  {
   "cell_type": "markdown",
   "metadata": {},
   "source": [
    "Copyright (c) Microsoft Corporation.\n",
    "Licensed under the MIT License."
   ]
  },
  {
   "cell_type": "markdown",
   "metadata": {},
   "source": [
    "# Abstractive Summarization using BertSumAbs on CNN/DailyMails Dataset"
   ]
  },
  {
   "cell_type": "markdown",
   "metadata": {},
   "source": [
    "## Summary"
   ]
  },
  {
   "cell_type": "markdown",
   "metadata": {},
   "source": [
    "This notebook demonstrates how to fine tune BERT for abstractive text summarization. Utility functions and classes in the NLP Best Practices repo are used to facilitate data preprocessing, model training, model scoring, result postprocessing, and model evaluation.\n",
    "\n",
    "### Abstractive Summarization\n",
    "Abstractive summarization is the task of taking an input text and summarizing its content in a shorter output text. In contrast to extractive summarization, abstractive summarization doesn't take sentences directly from the input text, instead, rephrases the input text.\n",
    "\n",
    "### BertSumAbs\n",
    "\n",
    "BertSumAbs refers to an BERT-based abstractive summarization algorithm  in [Text Summarization with Pretrained Encoders](https://arxiv.org/abs/1908.08345) with [published examples](https://github.com/nlpyang/PreSumm). It uses the pretrained BERT model as encoder and finetune both encoder and decoder on a specific labeled summarization dataset like [CNN/DM dataset](https://github.com/harvardnlp/sent-summary). \n",
    "\n",
    "The figure below shows the comparison of architecture of the original BERT model (left) and BERTSUM (right), which BertSumAbs is built upon. For BERTSUM, a input document is split into sentences, and [CLS] and [SEP] tokens are inserted before and after each sentence. This resulting sequence is followed by the summation of three kinds of embeddings for each token before feeding into the transformer layers. The positional embedding used in BertSumAbs enables input length of more than 512, which is the  maximum input length for BERT model. \n",
    "\n",
    "It should be noted that the architecture only shows the encoder part. For decoder, BertSumAbs also uses a transformer with multiple layers and random initialization. As pretrained weights are used in the encoder, there is a mismatch in encoder and decoder which may result in unstable finetuning. Therefore, in fine tuning, BertSumAbs uses seperate optimizers for encoder and decoder, each uses its own scheduling. In text generation, techniques like trigram blocking and beam search can be used to improve model accuracy.\n",
    "<img src=\"https://nlpbp.blob.core.windows.net/images/BertForSummarization.PNG\">\n"
   ]
  },
  {
   "cell_type": "markdown",
   "metadata": {},
   "source": [
    "## Before you start\n",
    "Set QUICK_RUN = True to run the notebook on a small subset of data and a smaller number of steps. If QUICK_RUN = False, the notebook takes about 5 hours to run on a VM with 4 16GB NVIDIA V100 GPUs. Finetuning costs around 1.5 hours and inferecing costs around 3.5 hour.  Better performance can be achieved by increasing the MAX_STEPS.\n",
    "\n",
    "* **ROUGE Evalation**: To run rouge evaluation, please refer to the section of compute_rouge_perl in [summarization_evaluation.ipynb](./summarization_evaluation.ipynb) for setup.\n",
    "\n",
    "* **Distributed Training**:\n",
    "Please note that the jupyter notebook only allows to use pytorch [DataParallel](https://pytorch.org/docs/master/nn.html#dataparallel). Faster speed and larger batch size can be achieved with pytorch [DistributedDataParallel](https://pytorch.org/docs/master/notes/ddp.html)(DDP). Script [abstractive_summarization_bertsum_cnndm_distributed_train.py](./abstractive_summarization_bertsum_cnndm_distributed_train.py) shows an example of how to use DDP.\n",
    "\n",
    "* **Mixed Precision Training**:\n",
    "Please note that by default this notebook doesn't use mixed precision training. Faster speed and larger batch size can be achieved when you set FP16 to True. Refer to  https://nvidia.github.io/apex and https://github.com/nvidia/apex) for details to use mixed precision training. Check the GPU model on your machine to see if it allows mixed precision training. Please also note that mixed precision inferencing is also enabled in the prediciton utility function. When you use mixed precision training and/or inferencing, the model performance can be slightly worse than the full precision mode."
   ]
  },
  {
   "cell_type": "code",
   "execution_count": 1,
   "metadata": {},
   "outputs": [],
   "source": [
    "%load_ext autoreload\n",
    "%autoreload 2"
   ]
  },
  {
   "cell_type": "code",
   "execution_count": 2,
   "metadata": {},
   "outputs": [],
   "source": [
    "QUICK_RUN = True"
   ]
  },
  {
   "cell_type": "code",
   "execution_count": 3,
   "metadata": {},
   "outputs": [
    {
     "name": "stderr",
     "output_type": "stream",
     "text": [
      "/home/daden/.local/lib/python3.6/site-packages/tensorflow/python/framework/dtypes.py:516: FutureWarning: Passing (type, 1) or '1type' as a synonym of type is deprecated; in a future version of numpy, it will be understood as (type, (1,)) / '(1,)type'.\n",
      "  _np_qint8 = np.dtype([(\"qint8\", np.int8, 1)])\n",
      "/home/daden/.local/lib/python3.6/site-packages/tensorflow/python/framework/dtypes.py:517: FutureWarning: Passing (type, 1) or '1type' as a synonym of type is deprecated; in a future version of numpy, it will be understood as (type, (1,)) / '(1,)type'.\n",
      "  _np_quint8 = np.dtype([(\"quint8\", np.uint8, 1)])\n",
      "/home/daden/.local/lib/python3.6/site-packages/tensorflow/python/framework/dtypes.py:518: FutureWarning: Passing (type, 1) or '1type' as a synonym of type is deprecated; in a future version of numpy, it will be understood as (type, (1,)) / '(1,)type'.\n",
      "  _np_qint16 = np.dtype([(\"qint16\", np.int16, 1)])\n",
      "/home/daden/.local/lib/python3.6/site-packages/tensorflow/python/framework/dtypes.py:519: FutureWarning: Passing (type, 1) or '1type' as a synonym of type is deprecated; in a future version of numpy, it will be understood as (type, (1,)) / '(1,)type'.\n",
      "  _np_quint16 = np.dtype([(\"quint16\", np.uint16, 1)])\n",
      "/home/daden/.local/lib/python3.6/site-packages/tensorflow/python/framework/dtypes.py:520: FutureWarning: Passing (type, 1) or '1type' as a synonym of type is deprecated; in a future version of numpy, it will be understood as (type, (1,)) / '(1,)type'.\n",
      "  _np_qint32 = np.dtype([(\"qint32\", np.int32, 1)])\n",
      "/home/daden/.local/lib/python3.6/site-packages/tensorflow/python/framework/dtypes.py:525: FutureWarning: Passing (type, 1) or '1type' as a synonym of type is deprecated; in a future version of numpy, it will be understood as (type, (1,)) / '(1,)type'.\n",
      "  np_resource = np.dtype([(\"resource\", np.ubyte, 1)])\n",
      "/home/daden/.local/lib/python3.6/site-packages/tensorboard/compat/tensorflow_stub/dtypes.py:541: FutureWarning: Passing (type, 1) or '1type' as a synonym of type is deprecated; in a future version of numpy, it will be understood as (type, (1,)) / '(1,)type'.\n",
      "  _np_qint8 = np.dtype([(\"qint8\", np.int8, 1)])\n",
      "/home/daden/.local/lib/python3.6/site-packages/tensorboard/compat/tensorflow_stub/dtypes.py:542: FutureWarning: Passing (type, 1) or '1type' as a synonym of type is deprecated; in a future version of numpy, it will be understood as (type, (1,)) / '(1,)type'.\n",
      "  _np_quint8 = np.dtype([(\"quint8\", np.uint8, 1)])\n",
      "/home/daden/.local/lib/python3.6/site-packages/tensorboard/compat/tensorflow_stub/dtypes.py:543: FutureWarning: Passing (type, 1) or '1type' as a synonym of type is deprecated; in a future version of numpy, it will be understood as (type, (1,)) / '(1,)type'.\n",
      "  _np_qint16 = np.dtype([(\"qint16\", np.int16, 1)])\n",
      "/home/daden/.local/lib/python3.6/site-packages/tensorboard/compat/tensorflow_stub/dtypes.py:544: FutureWarning: Passing (type, 1) or '1type' as a synonym of type is deprecated; in a future version of numpy, it will be understood as (type, (1,)) / '(1,)type'.\n",
      "  _np_quint16 = np.dtype([(\"quint16\", np.uint16, 1)])\n",
      "/home/daden/.local/lib/python3.6/site-packages/tensorboard/compat/tensorflow_stub/dtypes.py:545: FutureWarning: Passing (type, 1) or '1type' as a synonym of type is deprecated; in a future version of numpy, it will be understood as (type, (1,)) / '(1,)type'.\n",
      "  _np_qint32 = np.dtype([(\"qint32\", np.int32, 1)])\n",
      "/home/daden/.local/lib/python3.6/site-packages/tensorboard/compat/tensorflow_stub/dtypes.py:550: FutureWarning: Passing (type, 1) or '1type' as a synonym of type is deprecated; in a future version of numpy, it will be understood as (type, (1,)) / '(1,)type'.\n",
      "  np_resource = np.dtype([(\"resource\", np.ubyte, 1)])\n"
     ]
    }
   ],
   "source": [
    "import os\n",
    "import shutil\n",
    "import sys\n",
    "from tempfile import TemporaryDirectory\n",
    "import torch\n",
    "\n",
    "nlp_path = os.path.abspath(\"../../\")\n",
    "if nlp_path not in sys.path:\n",
    "    sys.path.insert(0, nlp_path)\n",
    "\n",
    "from utils_nlp.models.transformers.abstractive_summarization_bertsum import BertSumAbs, BertSumAbsProcessor\n",
    "\n",
    "from utils_nlp.dataset.cnndm import CNNDMSummarizationDataset\n",
    "from utils_nlp.eval import compute_rouge_python\n",
    "\n",
    "import pandas as pd\n",
    "import pprint\n",
    "import scrapbook as sb"
   ]
  },
  {
   "cell_type": "markdown",
   "metadata": {},
   "source": [
    "## Data Preprocessing"
   ]
  },
  {
   "cell_type": "markdown",
   "metadata": {},
   "source": [
    "The dataset we used for this notebook is CNN/DM dataset which contains the documents and accompanying questions from the news articles of CNN and Daily mail. The highlights in each article are used as summary. The dataset consits of ~289K training examples, ~11K valiation examples and ~11K test examples. The length of the news articles is 781 tokens on average and the summaries are of 3.75 sentences and 56 tokens on average.\n",
    "\n",
    "The significant part of data preprocessing only involve splitting the input document into sentences."
   ]
  },
  {
   "cell_type": "code",
   "execution_count": 4,
   "metadata": {},
   "outputs": [],
   "source": [
    "# the data path used to save the downloaded data file\n",
    "DATA_PATH = TemporaryDirectory().name\n",
    "# The number of lines at the head of data file used for preprocessing. -1 means all the lines.\n",
    "TOP_N = 100\n",
    "if not QUICK_RUN:\n",
    "    TOP_N = -1"
   ]
  },
  {
   "cell_type": "code",
   "execution_count": 5,
   "metadata": {},
   "outputs": [
    {
     "name": "stderr",
     "output_type": "stream",
     "text": [
      "100%|██████████| 489k/489k [00:07<00:00, 67.5kKB/s] \n"
     ]
    }
   ],
   "source": [
    "train_dataset, test_dataset = CNNDMSummarizationDataset(\n",
    "            top_n=TOP_N, local_cache_path=DATA_PATH, prepare_extractive=False\n",
    "        )"
   ]
  },
  {
   "cell_type": "code",
   "execution_count": 6,
   "metadata": {},
   "outputs": [
    {
     "data": {
      "text/plain": [
       "100"
      ]
     },
     "execution_count": 6,
     "metadata": {},
     "output_type": "execute_result"
    }
   ],
   "source": [
    "len(train_dataset)"
   ]
  },
  {
   "cell_type": "code",
   "execution_count": 7,
   "metadata": {
    "scrolled": true
   },
   "outputs": [
    {
     "data": {
      "text/plain": [
       "100"
      ]
     },
     "execution_count": 7,
     "metadata": {},
     "output_type": "execute_result"
    }
   ],
   "source": [
    "len(test_dataset)"
   ]
  },
  {
   "cell_type": "markdown",
   "metadata": {},
   "source": [
    "## Model Finetuning"
   ]
  },
  {
   "cell_type": "code",
   "execution_count": 8,
   "metadata": {
    "tags": [
     "parameters"
    ]
   },
   "outputs": [],
   "source": [
    "# notebook parameters\n",
    "# the cache path\n",
    "CACHE_PATH = TemporaryDirectory().name\n",
    "\n",
    "# model parameters\n",
    "MODEL_NAME = \"bert-base-uncased\"\n",
    "MAX_POS = 768\n",
    "MAX_SOURCE_SEQ_LENGTH = 640\n",
    "MAX_TARGET_SEQ_LENGTH = 140\n",
    "\n",
    "# mixed precision setting. To enable mixed precision training, follow instructions in SETUP.md. \n",
    "FP16 = False\n",
    "if FP16:\n",
    "    FP16_OPT_LEVEL=\"O2\"\n",
    "    \n",
    "# fine-tuning parameters\n",
    "# batch size, unit is the number of tokens\n",
    "BATCH_SIZE_PER_GPU = 3\n",
    "\n",
    "\n",
    "# GPU used for training\n",
    "NUM_GPUS = torch.cuda.device_count()\n",
    "\n",
    "# Learning rate\n",
    "LEARNING_RATE_BERT=5e-4/2.0\n",
    "LEARNING_RATE_DEC=0.05/2.0\n",
    "\n",
    "\n",
    "# How often the statistics reports show up in training, unit is step.\n",
    "REPORT_EVERY=10\n",
    "SAVE_EVERY=500\n",
    "\n",
    "# total number of steps for training\n",
    "MAX_STEPS=1e3\n",
    "   \n",
    "if not QUICK_RUN:\n",
    "    MAX_STEPS=5e3\n",
    "\n",
    "WARMUP_STEPS_BERT=2000\n",
    "WARMUP_STEPS_DEC=1000   \n"
   ]
  },
  {
   "cell_type": "code",
   "execution_count": 9,
   "metadata": {},
   "outputs": [
    {
     "data": {
      "application/vnd.jupyter.widget-view+json": {
       "model_id": "e4e75703094b4360a69921a81da430a5",
       "version_major": 2,
       "version_minor": 0
      },
      "text/plain": [
       "HBox(children=(IntProgress(value=0, description='Downloading', max=231508, style=ProgressStyle(description_wid…"
      ]
     },
     "metadata": {},
     "output_type": "display_data"
    },
    {
     "name": "stdout",
     "output_type": "stream",
     "text": [
      "\n"
     ]
    },
    {
     "data": {
      "application/vnd.jupyter.widget-view+json": {
       "model_id": "fd48e301bc684e86863805d04d74f479",
       "version_major": 2,
       "version_minor": 0
      },
      "text/plain": [
       "HBox(children=(IntProgress(value=0, description='Downloading', max=361, style=ProgressStyle(description_width=…"
      ]
     },
     "metadata": {},
     "output_type": "display_data"
    },
    {
     "name": "stdout",
     "output_type": "stream",
     "text": [
      "\n"
     ]
    },
    {
     "data": {
      "application/vnd.jupyter.widget-view+json": {
       "model_id": "280594db51184862b66a3b1a902c1d52",
       "version_major": 2,
       "version_minor": 0
      },
      "text/plain": [
       "HBox(children=(IntProgress(value=0, description='Downloading', max=440473133, style=ProgressStyle(description_…"
      ]
     },
     "metadata": {},
     "output_type": "display_data"
    },
    {
     "name": "stdout",
     "output_type": "stream",
     "text": [
      "\n"
     ]
    }
   ],
   "source": [
    "# processor which contains the colloate function to load the preprocessed data\n",
    "processor = BertSumAbsProcessor(cache_dir=CACHE_PATH, max_src_len=MAX_SOURCE_SEQ_LENGTH, max_tgt_len=MAX_TARGET_SEQ_LENGTH)\n",
    "# summarizer\n",
    "summarizer = BertSumAbs(\n",
    "    processor, cache_dir=CACHE_PATH, max_pos_length=MAX_POS\n",
    ")"
   ]
  },
  {
   "cell_type": "code",
   "execution_count": 10,
   "metadata": {},
   "outputs": [
    {
     "data": {
      "text/plain": [
       "12"
      ]
     },
     "execution_count": 10,
     "metadata": {},
     "output_type": "execute_result"
    }
   ],
   "source": [
    "BATCH_SIZE_PER_GPU*NUM_GPUS"
   ]
  },
  {
   "cell_type": "code",
   "execution_count": 11,
   "metadata": {
    "scrolled": true
   },
   "outputs": [
    {
     "name": "stdout",
     "output_type": "stream",
     "text": [
      "device is cuda\n"
     ]
    },
    {
     "name": "stderr",
     "output_type": "stream",
     "text": [
      "Iteration:   0%|          | 0/9 [00:00<?, ?it/s]/dadendev/anaconda3/envs/cm3/lib/python3.6/site-packages/torch/nn/parallel/_functions.py:61: UserWarning: Was asked to gather along dimension 0, but all input tensors were scalars; will instead unsqueeze and return a vector.\n",
      "  warnings.warn('Was asked to gather along dimension 0, but all '\n",
      "Iteration: 100%|██████████| 9/9 [00:24<00:00,  1.85s/it]\n",
      "Iteration: 100%|██████████| 9/9 [00:09<00:00,  1.05it/s]\n",
      "Iteration: 100%|██████████| 9/9 [00:08<00:00,  1.09it/s]\n",
      "Iteration: 100%|██████████| 9/9 [00:08<00:00,  1.09it/s]\n",
      "Iteration: 100%|██████████| 9/9 [00:08<00:00,  1.10it/s]\n",
      "Iteration:  56%|█████▌    | 5/9 [00:05<00:04,  1.03s/it]"
     ]
    },
    {
     "name": "stdout",
     "output_type": "stream",
     "text": [
      "timestamp: 20/03/2020 20:29:52, average loss: 10.312904, time duration: 65.547353,\n",
      "                            number of examples in current reporting: 560, step 50\n",
      "                            out of total 1000\n"
     ]
    },
    {
     "name": "stderr",
     "output_type": "stream",
     "text": [
      "Iteration: 100%|██████████| 9/9 [00:08<00:00,  1.06it/s]\n",
      "Iteration: 100%|██████████| 9/9 [00:09<00:00,  1.03it/s]\n",
      "Iteration: 100%|██████████| 9/9 [00:08<00:00,  1.09it/s]\n",
      "Iteration: 100%|██████████| 9/9 [00:08<00:00,  1.10it/s]\n",
      "Iteration: 100%|██████████| 9/9 [00:08<00:00,  1.09it/s]\n",
      "Iteration: 100%|██████████| 9/9 [00:08<00:00,  1.07it/s]\n",
      "Iteration:  11%|█         | 1/9 [00:01<00:08,  1.02s/it]"
     ]
    },
    {
     "name": "stdout",
     "output_type": "stream",
     "text": [
      "timestamp: 20/03/2020 20:30:42, average loss: 5.763307, time duration: 49.568299,\n",
      "                            number of examples in current reporting: 552, step 100\n",
      "                            out of total 1000\n"
     ]
    },
    {
     "name": "stderr",
     "output_type": "stream",
     "text": [
      "Iteration: 100%|██████████| 9/9 [00:09<00:00,  1.05it/s]\n",
      "Iteration: 100%|██████████| 9/9 [00:08<00:00,  1.09it/s]\n",
      "Iteration: 100%|██████████| 9/9 [00:08<00:00,  1.09it/s]\n",
      "Iteration: 100%|██████████| 9/9 [00:08<00:00,  1.09it/s]\n",
      "Iteration: 100%|██████████| 9/9 [00:08<00:00,  1.09it/s]\n",
      "Iteration:  67%|██████▋   | 6/9 [00:06<00:03,  1.02s/it]"
     ]
    },
    {
     "name": "stdout",
     "output_type": "stream",
     "text": [
      "timestamp: 20/03/2020 20:31:32, average loss: 4.925056, time duration: 49.639664,\n",
      "                            number of examples in current reporting: 560, step 150\n",
      "                            out of total 1000\n"
     ]
    },
    {
     "name": "stderr",
     "output_type": "stream",
     "text": [
      "Iteration: 100%|██████████| 9/9 [00:08<00:00,  1.06it/s]\n",
      "Iteration: 100%|██████████| 9/9 [00:08<00:00,  1.10it/s]\n",
      "Iteration: 100%|██████████| 9/9 [00:08<00:00,  1.08it/s]\n",
      "Iteration: 100%|██████████| 9/9 [00:08<00:00,  1.09it/s]\n",
      "Iteration: 100%|██████████| 9/9 [00:08<00:00,  1.07it/s]\n",
      "Iteration: 100%|██████████| 9/9 [00:08<00:00,  1.04it/s]\n",
      "Iteration:  22%|██▏       | 2/9 [00:02<00:07,  1.02s/it]"
     ]
    },
    {
     "name": "stdout",
     "output_type": "stream",
     "text": [
      "timestamp: 20/03/2020 20:32:21, average loss: 4.411089, time duration: 49.315518,\n",
      "                            number of examples in current reporting: 552, step 200\n",
      "                            out of total 1000\n"
     ]
    },
    {
     "name": "stderr",
     "output_type": "stream",
     "text": [
      "Iteration: 100%|██████████| 9/9 [00:08<00:00,  1.08it/s]\n",
      "Iteration: 100%|██████████| 9/9 [00:08<00:00,  1.08it/s]\n",
      "Iteration: 100%|██████████| 9/9 [00:08<00:00,  1.09it/s]\n",
      "Iteration: 100%|██████████| 9/9 [00:08<00:00,  1.09it/s]\n",
      "Iteration: 100%|██████████| 9/9 [00:08<00:00,  1.06it/s]\n",
      "Iteration:  78%|███████▊  | 7/9 [00:07<00:02,  1.01s/it]"
     ]
    },
    {
     "name": "stdout",
     "output_type": "stream",
     "text": [
      "timestamp: 20/03/2020 20:33:10, average loss: 3.484669, time duration: 49.564607,\n",
      "                            number of examples in current reporting: 560, step 250\n",
      "                            out of total 1000\n"
     ]
    },
    {
     "name": "stderr",
     "output_type": "stream",
     "text": [
      "Iteration: 100%|██████████| 9/9 [00:08<00:00,  1.10it/s]\n",
      "Iteration: 100%|██████████| 9/9 [00:08<00:00,  1.08it/s]\n",
      "Iteration: 100%|██████████| 9/9 [00:08<00:00,  1.09it/s]\n",
      "Iteration: 100%|██████████| 9/9 [00:08<00:00,  1.10it/s]\n",
      "Iteration: 100%|██████████| 9/9 [00:08<00:00,  1.07it/s]\n",
      "Iteration: 100%|██████████| 9/9 [00:08<00:00,  1.09it/s]\n",
      "Iteration:  33%|███▎      | 3/9 [00:03<00:06,  1.05s/it]"
     ]
    },
    {
     "name": "stdout",
     "output_type": "stream",
     "text": [
      "timestamp: 20/03/2020 20:34:00, average loss: 2.280917, time duration: 49.222439,\n",
      "                            number of examples in current reporting: 552, step 300\n",
      "                            out of total 1000\n"
     ]
    },
    {
     "name": "stderr",
     "output_type": "stream",
     "text": [
      "Iteration: 100%|██████████| 9/9 [00:08<00:00,  1.10it/s]\n",
      "Iteration: 100%|██████████| 9/9 [00:08<00:00,  1.07it/s]\n",
      "Iteration: 100%|██████████| 9/9 [00:08<00:00,  1.09it/s]\n",
      "Iteration: 100%|██████████| 9/9 [00:08<00:00,  1.06it/s]\n",
      "Iteration: 100%|██████████| 9/9 [00:08<00:00,  1.10it/s]\n",
      "Iteration:  89%|████████▉ | 8/9 [00:08<00:01,  1.03s/it]"
     ]
    },
    {
     "name": "stdout",
     "output_type": "stream",
     "text": [
      "timestamp: 20/03/2020 20:34:49, average loss: 1.222707, time duration: 49.466394,\n",
      "                            number of examples in current reporting: 560, step 350\n",
      "                            out of total 1000\n"
     ]
    },
    {
     "name": "stderr",
     "output_type": "stream",
     "text": [
      "Iteration: 100%|██████████| 9/9 [00:08<00:00,  1.09it/s]\n",
      "Iteration: 100%|██████████| 9/9 [00:08<00:00,  1.09it/s]\n",
      "Iteration: 100%|██████████| 9/9 [00:08<00:00,  1.09it/s]\n",
      "Iteration: 100%|██████████| 9/9 [00:09<00:00,  1.05it/s]\n",
      "Iteration: 100%|██████████| 9/9 [00:09<00:00,  1.04it/s]\n",
      "Iteration: 100%|██████████| 9/9 [00:09<00:00,  1.06it/s]\n",
      "Iteration:  44%|████▍     | 4/9 [00:04<00:05,  1.05s/it]"
     ]
    },
    {
     "name": "stdout",
     "output_type": "stream",
     "text": [
      "timestamp: 20/03/2020 20:35:39, average loss: 0.549186, time duration: 50.212394,\n",
      "                            number of examples in current reporting: 552, step 400\n",
      "                            out of total 1000\n"
     ]
    },
    {
     "name": "stderr",
     "output_type": "stream",
     "text": [
      "Iteration: 100%|██████████| 9/9 [00:09<00:00,  1.04it/s]\n",
      "Iteration: 100%|██████████| 9/9 [00:09<00:00,  1.05it/s]\n",
      "Iteration: 100%|██████████| 9/9 [00:09<00:00,  1.02it/s]\n",
      "Iteration: 100%|██████████| 9/9 [00:09<00:00,  1.05it/s]\n",
      "Iteration: 100%|██████████| 9/9 [00:09<00:00,  1.05it/s]\n",
      "Iteration: 100%|██████████| 9/9 [00:08<00:00,  1.08it/s]\n",
      "Iteration:   0%|          | 0/9 [00:00<?, ?it/s]"
     ]
    },
    {
     "name": "stdout",
     "output_type": "stream",
     "text": [
      "timestamp: 20/03/2020 20:36:30, average loss: 0.283355, time duration: 51.115386,\n",
      "                            number of examples in current reporting: 552, step 450\n",
      "                            out of total 1000\n"
     ]
    },
    {
     "name": "stderr",
     "output_type": "stream",
     "text": [
      "Iteration: 100%|██████████| 9/9 [00:08<00:00,  1.08it/s]\n",
      "Iteration: 100%|██████████| 9/9 [00:08<00:00,  1.07it/s]\n",
      "Iteration: 100%|██████████| 9/9 [00:08<00:00,  1.10it/s]\n",
      "Iteration: 100%|██████████| 9/9 [00:08<00:00,  1.09it/s]\n",
      "Iteration: 100%|██████████| 9/9 [00:08<00:00,  1.08it/s]\n",
      "Iteration:  44%|████▍     | 4/9 [00:04<00:05,  1.02s/it]"
     ]
    },
    {
     "name": "stdout",
     "output_type": "stream",
     "text": [
      "timestamp: 20/03/2020 20:37:20, average loss: 0.172298, time duration: 49.565146,\n",
      "                            number of examples in current reporting: 560, step 500\n",
      "                            out of total 1000\n",
      "/tmp/tmp1fdik33x\n",
      "saving through pytorch to /tmp/tmp1fdik33x/bert-base-uncased_step_500.pt\n"
     ]
    },
    {
     "name": "stderr",
     "output_type": "stream",
     "text": [
      "Iteration: 100%|██████████| 9/9 [00:54<00:00,  4.22s/it]\n",
      "Iteration: 100%|██████████| 9/9 [00:08<00:00,  1.09it/s]\n",
      "Iteration: 100%|██████████| 9/9 [00:08<00:00,  1.09it/s]\n",
      "Iteration: 100%|██████████| 9/9 [00:08<00:00,  1.07it/s]\n",
      "Iteration: 100%|██████████| 9/9 [00:08<00:00,  1.09it/s]\n",
      "Iteration: 100%|██████████| 9/9 [00:08<00:00,  1.09it/s]\n",
      "Iteration:  11%|█         | 1/9 [00:00<00:07,  1.01it/s]"
     ]
    },
    {
     "name": "stdout",
     "output_type": "stream",
     "text": [
      "timestamp: 20/03/2020 20:38:55, average loss: 0.126022, time duration: 94.889871,\n",
      "                            number of examples in current reporting: 552, step 550\n",
      "                            out of total 1000\n"
     ]
    },
    {
     "name": "stderr",
     "output_type": "stream",
     "text": [
      "Iteration: 100%|██████████| 9/9 [00:08<00:00,  1.08it/s]\n",
      "Iteration: 100%|██████████| 9/9 [00:08<00:00,  1.09it/s]\n",
      "Iteration: 100%|██████████| 9/9 [00:08<00:00,  1.10it/s]\n",
      "Iteration: 100%|██████████| 9/9 [00:08<00:00,  1.09it/s]\n",
      "Iteration: 100%|██████████| 9/9 [00:08<00:00,  1.09it/s]\n",
      "Iteration:  67%|██████▋   | 6/9 [00:06<00:03,  1.03s/it]"
     ]
    },
    {
     "name": "stdout",
     "output_type": "stream",
     "text": [
      "timestamp: 20/03/2020 20:39:45, average loss: 0.098700, time duration: 49.642224,\n",
      "                            number of examples in current reporting: 560, step 600\n",
      "                            out of total 1000\n"
     ]
    },
    {
     "name": "stderr",
     "output_type": "stream",
     "text": [
      "Iteration: 100%|██████████| 9/9 [00:08<00:00,  1.09it/s]\n",
      "Iteration: 100%|██████████| 9/9 [00:08<00:00,  1.09it/s]\n",
      "Iteration: 100%|██████████| 9/9 [00:08<00:00,  1.08it/s]\n",
      "Iteration: 100%|██████████| 9/9 [00:08<00:00,  1.09it/s]\n",
      "Iteration: 100%|██████████| 9/9 [00:08<00:00,  1.10it/s]\n",
      "Iteration: 100%|██████████| 9/9 [00:08<00:00,  1.09it/s]\n",
      "Iteration:  22%|██▏       | 2/9 [00:02<00:07,  1.03s/it]"
     ]
    },
    {
     "name": "stdout",
     "output_type": "stream",
     "text": [
      "timestamp: 20/03/2020 20:40:34, average loss: 0.093596, time duration: 49.044026,\n",
      "                            number of examples in current reporting: 552, step 650\n",
      "                            out of total 1000\n"
     ]
    },
    {
     "name": "stderr",
     "output_type": "stream",
     "text": [
      "Iteration: 100%|██████████| 9/9 [00:08<00:00,  1.10it/s]\n",
      "Iteration: 100%|██████████| 9/9 [00:08<00:00,  1.09it/s]\n",
      "Iteration: 100%|██████████| 9/9 [00:08<00:00,  1.09it/s]\n",
      "Iteration: 100%|██████████| 9/9 [00:08<00:00,  1.06it/s]\n",
      "Iteration: 100%|██████████| 9/9 [00:08<00:00,  1.09it/s]\n",
      "Iteration:  78%|███████▊  | 7/9 [00:07<00:02,  1.01s/it]"
     ]
    },
    {
     "name": "stdout",
     "output_type": "stream",
     "text": [
      "timestamp: 20/03/2020 20:41:23, average loss: 0.082028, time duration: 49.356353,\n",
      "                            number of examples in current reporting: 560, step 700\n",
      "                            out of total 1000\n"
     ]
    },
    {
     "name": "stderr",
     "output_type": "stream",
     "text": [
      "Iteration: 100%|██████████| 9/9 [00:08<00:00,  1.10it/s]\n",
      "Iteration: 100%|██████████| 9/9 [00:08<00:00,  1.09it/s]\n",
      "Iteration: 100%|██████████| 9/9 [00:08<00:00,  1.08it/s]\n",
      "Iteration: 100%|██████████| 9/9 [00:08<00:00,  1.09it/s]\n",
      "Iteration: 100%|██████████| 9/9 [00:08<00:00,  1.08it/s]\n",
      "Iteration: 100%|██████████| 9/9 [00:08<00:00,  1.09it/s]\n",
      "Iteration:  33%|███▎      | 3/9 [00:03<00:06,  1.06s/it]"
     ]
    },
    {
     "name": "stdout",
     "output_type": "stream",
     "text": [
      "timestamp: 20/03/2020 20:42:12, average loss: 0.072762, time duration: 49.251150,\n",
      "                            number of examples in current reporting: 552, step 750\n",
      "                            out of total 1000\n"
     ]
    },
    {
     "name": "stderr",
     "output_type": "stream",
     "text": [
      "Iteration: 100%|██████████| 9/9 [00:08<00:00,  1.09it/s]\n",
      "Iteration: 100%|██████████| 9/9 [00:08<00:00,  1.08it/s]\n",
      "Iteration: 100%|██████████| 9/9 [00:08<00:00,  1.07it/s]\n",
      "Iteration: 100%|██████████| 9/9 [00:08<00:00,  1.08it/s]\n",
      "Iteration: 100%|██████████| 9/9 [00:08<00:00,  1.10it/s]\n",
      "Iteration:  89%|████████▉ | 8/9 [00:08<00:01,  1.02s/it]"
     ]
    },
    {
     "name": "stdout",
     "output_type": "stream",
     "text": [
      "timestamp: 20/03/2020 20:43:02, average loss: 0.070685, time duration: 49.503284,\n",
      "                            number of examples in current reporting: 560, step 800\n",
      "                            out of total 1000\n"
     ]
    },
    {
     "name": "stderr",
     "output_type": "stream",
     "text": [
      "Iteration: 100%|██████████| 9/9 [00:08<00:00,  1.09it/s]\n",
      "Iteration: 100%|██████████| 9/9 [00:09<00:00,  1.07it/s]\n",
      "Iteration: 100%|██████████| 9/9 [00:08<00:00,  1.08it/s]\n",
      "Iteration: 100%|██████████| 9/9 [00:08<00:00,  1.11it/s]\n",
      "Iteration: 100%|██████████| 9/9 [00:08<00:00,  1.08it/s]\n",
      "Iteration: 100%|██████████| 9/9 [00:08<00:00,  1.08it/s]\n",
      "Iteration:  44%|████▍     | 4/9 [00:04<00:05,  1.01s/it]"
     ]
    },
    {
     "name": "stdout",
     "output_type": "stream",
     "text": [
      "timestamp: 20/03/2020 20:43:51, average loss: 0.070745, time duration: 49.327417,\n",
      "                            number of examples in current reporting: 552, step 850\n",
      "                            out of total 1000\n"
     ]
    },
    {
     "name": "stderr",
     "output_type": "stream",
     "text": [
      "Iteration: 100%|██████████| 9/9 [00:08<00:00,  1.10it/s]\n",
      "Iteration: 100%|██████████| 9/9 [00:08<00:00,  1.09it/s]\n",
      "Iteration: 100%|██████████| 9/9 [00:08<00:00,  1.06it/s]\n",
      "Iteration: 100%|██████████| 9/9 [00:08<00:00,  1.10it/s]\n",
      "Iteration: 100%|██████████| 9/9 [00:08<00:00,  1.09it/s]\n",
      "Iteration: 100%|██████████| 9/9 [00:08<00:00,  1.10it/s]\n",
      "Iteration:   0%|          | 0/9 [00:00<?, ?it/s]"
     ]
    },
    {
     "name": "stdout",
     "output_type": "stream",
     "text": [
      "timestamp: 20/03/2020 20:44:40, average loss: 0.069920, time duration: 49.006891,\n",
      "                            number of examples in current reporting: 552, step 900\n",
      "                            out of total 1000\n"
     ]
    },
    {
     "name": "stderr",
     "output_type": "stream",
     "text": [
      "Iteration: 100%|██████████| 9/9 [00:08<00:00,  1.09it/s]\n",
      "Iteration: 100%|██████████| 9/9 [00:08<00:00,  1.08it/s]\n",
      "Iteration: 100%|██████████| 9/9 [00:08<00:00,  1.09it/s]\n",
      "Iteration: 100%|██████████| 9/9 [00:08<00:00,  1.10it/s]\n",
      "Iteration: 100%|██████████| 9/9 [00:09<00:00,  1.08it/s]\n",
      "Iteration:  56%|█████▌    | 5/9 [00:05<00:04,  1.01s/it]"
     ]
    },
    {
     "name": "stdout",
     "output_type": "stream",
     "text": [
      "timestamp: 20/03/2020 20:45:30, average loss: 0.065281, time duration: 49.553174,\n",
      "                            number of examples in current reporting: 560, step 950\n",
      "                            out of total 1000\n"
     ]
    },
    {
     "name": "stderr",
     "output_type": "stream",
     "text": [
      "Iteration: 100%|██████████| 9/9 [00:08<00:00,  1.09it/s]\n",
      "Iteration: 100%|██████████| 9/9 [00:08<00:00,  1.10it/s]\n",
      "Iteration: 100%|██████████| 9/9 [00:09<00:00,  1.06it/s]\n",
      "Iteration: 100%|██████████| 9/9 [00:08<00:00,  1.08it/s]\n",
      "Iteration: 100%|██████████| 9/9 [00:08<00:00,  1.08it/s]\n",
      "Iteration: 100%|██████████| 9/9 [00:08<00:00,  1.04it/s]\n",
      "Iteration:   0%|          | 0/9 [00:00<?, ?it/s]"
     ]
    },
    {
     "name": "stdout",
     "output_type": "stream",
     "text": [
      "timestamp: 20/03/2020 20:46:19, average loss: 0.070487, time duration: 49.306798,\n",
      "                            number of examples in current reporting: 552, step 1000\n",
      "                            out of total 1000\n",
      "/tmp/tmp1fdik33x\n",
      "saving through pytorch to /tmp/tmp1fdik33x/bert-base-uncased_step_1000.pt\n"
     ]
    },
    {
     "ename": "RuntimeError",
     "evalue": "write(): fd 127 failed with No space left on device",
     "output_type": "error",
     "traceback": [
      "\u001b[0;31m---------------------------------------------------------------------------\u001b[0m",
      "\u001b[0;31mRuntimeError\u001b[0m                              Traceback (most recent call last)",
      "\u001b[0;32m<ipython-input-11-d485e0cd31bd>\u001b[0m in \u001b[0;36m<module>\u001b[0;34m\u001b[0m\n\u001b[1;32m     10\u001b[0m         \u001b[0msave_every\u001b[0m\u001b[0;34m=\u001b[0m\u001b[0mSAVE_EVERY\u001b[0m\u001b[0;34m,\u001b[0m\u001b[0;34m\u001b[0m\u001b[0;34m\u001b[0m\u001b[0m\n\u001b[1;32m     11\u001b[0m         \u001b[0mreport_every\u001b[0m\u001b[0;34m=\u001b[0m\u001b[0mREPORT_EVERY\u001b[0m\u001b[0;34m*\u001b[0m\u001b[0;36m5\u001b[0m\u001b[0;34m,\u001b[0m\u001b[0;34m\u001b[0m\u001b[0;34m\u001b[0m\u001b[0m\n\u001b[0;32m---> 12\u001b[0;31m         \u001b[0mfp16\u001b[0m\u001b[0;34m=\u001b[0m\u001b[0mFP16\u001b[0m\u001b[0;34m,\u001b[0m\u001b[0;34m\u001b[0m\u001b[0;34m\u001b[0m\u001b[0m\n\u001b[0m\u001b[1;32m     13\u001b[0m         \u001b[0;31m# checkpoint=\"saved checkpoint path\"\u001b[0m\u001b[0;34m\u001b[0m\u001b[0;34m\u001b[0m\u001b[0;34m\u001b[0m\u001b[0m\n\u001b[1;32m     14\u001b[0m )\n",
      "\u001b[0;32m/dadendev/nlp-recipes/utils_nlp/models/transformers/abstractive_summarization_bertsum.py\u001b[0m in \u001b[0;36mfit\u001b[0;34m(self, train_dataset, num_gpus, gpu_ids, batch_size, local_rank, max_steps, warmup_steps_bert, warmup_steps_dec, learning_rate_bert, learning_rate_dec, optimization_method, max_grad_norm, beta1, beta2, decay_method, gradient_accumulation_steps, report_every, save_every, verbose, seed, fp16, fp16_opt_level, world_size, rank, validation_function, checkpoint, **kwargs)\u001b[0m\n\u001b[1;32m    648\u001b[0m             \u001b[0mfp16\u001b[0m\u001b[0;34m=\u001b[0m\u001b[0mfp16\u001b[0m\u001b[0;34m,\u001b[0m\u001b[0;34m\u001b[0m\u001b[0;34m\u001b[0m\u001b[0m\n\u001b[1;32m    649\u001b[0m             \u001b[0mamp\u001b[0m\u001b[0;34m=\u001b[0m\u001b[0mself\u001b[0m\u001b[0;34m.\u001b[0m\u001b[0mamp\u001b[0m\u001b[0;34m,\u001b[0m\u001b[0;34m\u001b[0m\u001b[0;34m\u001b[0m\u001b[0m\n\u001b[0;32m--> 650\u001b[0;31m             \u001b[0mvalidation_function\u001b[0m\u001b[0;34m=\u001b[0m\u001b[0mvalidation_function\u001b[0m\u001b[0;34m,\u001b[0m\u001b[0;34m\u001b[0m\u001b[0;34m\u001b[0m\u001b[0m\n\u001b[0m\u001b[1;32m    651\u001b[0m         )\n\u001b[1;32m    652\u001b[0m \u001b[0;34m\u001b[0m\u001b[0m\n",
      "\u001b[0;32m/dadendev/nlp-recipes/utils_nlp/models/transformers/common.py\u001b[0m in \u001b[0;36mfine_tune\u001b[0;34m(self, train_dataloader, get_inputs, device, num_gpus, max_steps, global_step, max_grad_norm, gradient_accumulation_steps, optimizer, scheduler, fp16, amp, local_rank, verbose, seed, report_every, save_every, clip_grad_norm, validation_function)\u001b[0m\n\u001b[1;32m    318\u001b[0m                             \u001b[0mself\u001b[0m\u001b[0;34m.\u001b[0m\u001b[0mcache_dir\u001b[0m\u001b[0;34m,\u001b[0m \u001b[0;34mf\"{self.model_name}_step_{global_step}.pt\"\u001b[0m\u001b[0;34m\u001b[0m\u001b[0;34m\u001b[0m\u001b[0m\n\u001b[1;32m    319\u001b[0m                         )\n\u001b[0;32m--> 320\u001b[0;31m                         \u001b[0mself\u001b[0m\u001b[0;34m.\u001b[0m\u001b[0msave_model\u001b[0m\u001b[0;34m(\u001b[0m\u001b[0mglobal_step\u001b[0m\u001b[0;34m,\u001b[0m \u001b[0msaved_model_path\u001b[0m\u001b[0;34m)\u001b[0m\u001b[0;34m\u001b[0m\u001b[0;34m\u001b[0m\u001b[0m\n\u001b[0m\u001b[1;32m    321\u001b[0m                         \u001b[0;32mif\u001b[0m \u001b[0mvalidation_function\u001b[0m\u001b[0;34m:\u001b[0m\u001b[0;34m\u001b[0m\u001b[0;34m\u001b[0m\u001b[0m\n\u001b[1;32m    322\u001b[0m                             \u001b[0mvalidation_log\u001b[0m \u001b[0;34m=\u001b[0m \u001b[0mvalidation_function\u001b[0m\u001b[0;34m(\u001b[0m\u001b[0mself\u001b[0m\u001b[0;34m)\u001b[0m\u001b[0;34m\u001b[0m\u001b[0;34m\u001b[0m\u001b[0m\n",
      "\u001b[0;32m/dadendev/nlp-recipes/utils_nlp/models/transformers/abstractive_summarization_bertsum.py\u001b[0m in \u001b[0;36msave_model\u001b[0;34m(self, global_step, full_name)\u001b[0m\n\u001b[1;32m    839\u001b[0m         \u001b[0;32mtry\u001b[0m\u001b[0;34m:\u001b[0m\u001b[0;34m\u001b[0m\u001b[0;34m\u001b[0m\u001b[0m\n\u001b[1;32m    840\u001b[0m             \u001b[0mprint\u001b[0m\u001b[0;34m(\u001b[0m\u001b[0;34m\"saving through pytorch to {}\"\u001b[0m\u001b[0;34m.\u001b[0m\u001b[0mformat\u001b[0m\u001b[0;34m(\u001b[0m\u001b[0mfull_name\u001b[0m\u001b[0;34m)\u001b[0m\u001b[0;34m)\u001b[0m\u001b[0;34m\u001b[0m\u001b[0;34m\u001b[0m\u001b[0m\n\u001b[0;32m--> 841\u001b[0;31m             \u001b[0mtorch\u001b[0m\u001b[0;34m.\u001b[0m\u001b[0msave\u001b[0m\u001b[0;34m(\u001b[0m\u001b[0mcheckpoint\u001b[0m\u001b[0;34m,\u001b[0m \u001b[0mfull_name\u001b[0m\u001b[0;34m)\u001b[0m\u001b[0;34m\u001b[0m\u001b[0;34m\u001b[0m\u001b[0m\n\u001b[0m\u001b[1;32m    842\u001b[0m         \u001b[0;32mexcept\u001b[0m \u001b[0mOSError\u001b[0m\u001b[0;34m:\u001b[0m\u001b[0;34m\u001b[0m\u001b[0;34m\u001b[0m\u001b[0m\n\u001b[1;32m    843\u001b[0m             \u001b[0;32mtry\u001b[0m\u001b[0;34m:\u001b[0m\u001b[0;34m\u001b[0m\u001b[0;34m\u001b[0m\u001b[0m\n",
      "\u001b[0;32m/dadendev/anaconda3/envs/cm3/lib/python3.6/site-packages/torch/serialization.py\u001b[0m in \u001b[0;36msave\u001b[0;34m(obj, f, pickle_module, pickle_protocol, _use_new_zipfile_serialization)\u001b[0m\n\u001b[1;32m    326\u001b[0m \u001b[0;34m\u001b[0m\u001b[0m\n\u001b[1;32m    327\u001b[0m     \u001b[0;32mwith\u001b[0m \u001b[0m_open_file_like\u001b[0m\u001b[0;34m(\u001b[0m\u001b[0mf\u001b[0m\u001b[0;34m,\u001b[0m \u001b[0;34m'wb'\u001b[0m\u001b[0;34m)\u001b[0m \u001b[0;32mas\u001b[0m \u001b[0mopened_file\u001b[0m\u001b[0;34m:\u001b[0m\u001b[0;34m\u001b[0m\u001b[0;34m\u001b[0m\u001b[0m\n\u001b[0;32m--> 328\u001b[0;31m         \u001b[0m_legacy_save\u001b[0m\u001b[0;34m(\u001b[0m\u001b[0mobj\u001b[0m\u001b[0;34m,\u001b[0m \u001b[0mopened_file\u001b[0m\u001b[0;34m,\u001b[0m \u001b[0mpickle_module\u001b[0m\u001b[0;34m,\u001b[0m \u001b[0mpickle_protocol\u001b[0m\u001b[0;34m)\u001b[0m\u001b[0;34m\u001b[0m\u001b[0;34m\u001b[0m\u001b[0m\n\u001b[0m\u001b[1;32m    329\u001b[0m \u001b[0;34m\u001b[0m\u001b[0m\n\u001b[1;32m    330\u001b[0m \u001b[0;34m\u001b[0m\u001b[0m\n",
      "\u001b[0;32m/dadendev/anaconda3/envs/cm3/lib/python3.6/site-packages/torch/serialization.py\u001b[0m in \u001b[0;36m_legacy_save\u001b[0;34m(obj, f, pickle_module, pickle_protocol)\u001b[0m\n\u001b[1;32m    405\u001b[0m     \u001b[0mf\u001b[0m\u001b[0;34m.\u001b[0m\u001b[0mflush\u001b[0m\u001b[0;34m(\u001b[0m\u001b[0;34m)\u001b[0m\u001b[0;34m\u001b[0m\u001b[0;34m\u001b[0m\u001b[0m\n\u001b[1;32m    406\u001b[0m     \u001b[0;32mfor\u001b[0m \u001b[0mkey\u001b[0m \u001b[0;32min\u001b[0m \u001b[0mserialized_storage_keys\u001b[0m\u001b[0;34m:\u001b[0m\u001b[0;34m\u001b[0m\u001b[0;34m\u001b[0m\u001b[0m\n\u001b[0;32m--> 407\u001b[0;31m         \u001b[0mserialized_storages\u001b[0m\u001b[0;34m[\u001b[0m\u001b[0mkey\u001b[0m\u001b[0;34m]\u001b[0m\u001b[0;34m.\u001b[0m\u001b[0m_write_file\u001b[0m\u001b[0;34m(\u001b[0m\u001b[0mf\u001b[0m\u001b[0;34m,\u001b[0m \u001b[0m_should_read_directly\u001b[0m\u001b[0;34m(\u001b[0m\u001b[0mf\u001b[0m\u001b[0;34m)\u001b[0m\u001b[0;34m)\u001b[0m\u001b[0;34m\u001b[0m\u001b[0;34m\u001b[0m\u001b[0m\n\u001b[0m\u001b[1;32m    408\u001b[0m \u001b[0;34m\u001b[0m\u001b[0m\n\u001b[1;32m    409\u001b[0m \u001b[0;34m\u001b[0m\u001b[0m\n",
      "\u001b[0;31mRuntimeError\u001b[0m: write(): fd 127 failed with No space left on device"
     ]
    }
   ],
   "source": [
    "\n",
    "summarizer.fit(\n",
    "        train_dataset,\n",
    "        num_gpus=NUM_GPUS,\n",
    "        batch_size=BATCH_SIZE_PER_GPU*NUM_GPUS,\n",
    "        max_steps=MAX_STEPS,\n",
    "        learning_rate_bert=LEARNING_RATE_BERT,\n",
    "        learning_rate_dec=LEARNING_RATE_DEC,\n",
    "        warmup_steps_bert=WARMUP_STEPS_BERT,\n",
    "        warmup_steps_dec=WARMUP_STEPS_DEC,\n",
    "        save_every=SAVE_EVERY,\n",
    "        report_every=REPORT_EVERY*5,\n",
    "        fp16=FP16,\n",
    "        # checkpoint=\"saved checkpoint path\"\n",
    ")\n"
   ]
  },
  {
   "cell_type": "code",
   "execution_count": null,
   "metadata": {},
   "outputs": [],
   "source": [
    "summarizer.save_model(MAX_STEPS, os.path.join(CACHE_PATH, \"bertsumabs.pt\"))"
   ]
  },
  {
   "cell_type": "markdown",
   "metadata": {},
   "source": [
    "## Model Evaluation\n",
    "\n",
    "To run rouge evaluation, please refer to the section of compute_rouge_perl in [summarization_evaluation.ipynb](summarization_evaluation.ipynb) for setup.\n",
    "For the settings in this notebook with QUICK_RUN=False, you should get ROUGE scores close to the following numbers: <br />\n",
    "``\n",
    "{'rouge-1': {'f': 0.34819639878321873,\n",
    "             'p': 0.39977932634737307,\n",
    "             'r': 0.34429079596863604},\n",
    " 'rouge-2': {'f': 0.13919271352557894,\n",
    "             'p': 0.16129965067780644,\n",
    "             'r': 0.1372938054050938},\n",
    " 'rouge-l': {'f': 0.2313282318854973,\n",
    "             'p': 0.26664667422849747,\n",
    "             'r': 0.22850294283399628}}\n",
    " ``\n",
    " \n",
    " Better performance can be achieved by increasing the MAX_STEPS."
   ]
  },
  {
   "cell_type": "code",
   "execution_count": null,
   "metadata": {
    "scrolled": true
   },
   "outputs": [],
   "source": [
    "\n",
    "# checkpoint = torch.load(os.path.join(CACHE_PATH, \"bertsumabs.pt\"), map_location=\"cpu\")\n",
    "# summarizer = BertSumAbs(\n",
    "#     processor, cache_dir=CACHE_PATH, max_pos_length=MAX_POS, test=True\n",
    "# )\n",
    "# summarizer.model.load_checkpoint(checkpoint['model'])"
   ]
  },
  {
   "cell_type": "code",
   "execution_count": 13,
   "metadata": {},
   "outputs": [
    {
     "name": "stderr",
     "output_type": "stream",
     "text": [
      "\n",
      "Generating summary:   0%|          | 0/1 [00:00<?, ?it/s]\u001b[A"
     ]
    },
    {
     "name": "stdout",
     "output_type": "stream",
     "text": [
      "dataset length is 32\n"
     ]
    },
    {
     "name": "stderr",
     "output_type": "stream",
     "text": [
      "\n",
      "Generating summary: 100%|██████████| 1/1 [00:40<00:00, 40.73s/it]\u001b[A"
     ]
    }
   ],
   "source": [
    "TEST_TOP_N = 32\n",
    "if not QUICK_RUN:\n",
    "    TEST_TOP_N = len(test_dataset)\n",
    "    \n",
    "shortened_dataset= test_dataset.shorten(top_n=TEST_TOP_N)\n",
    "src = shortened_dataset.get_source()\n",
    "reference_summaries = [\" \".join(t).rstrip(\"\\n\") for t in shortened_dataset.get_target()]\n",
    "generated_summaries = summarizer.predict(\n",
    "    shortened_dataset, batch_size=32*4, num_gpus=NUM_GPUS\n",
    ")\n",
    "assert len(generated_summaries) == len(reference_summaries)\n"
   ]
  },
  {
   "cell_type": "code",
   "execution_count": 14,
   "metadata": {},
   "outputs": [
    {
     "data": {
      "text/plain": [
       "['marseille , france ( cnn ) the french prosecutor leading an investigation into the crash of germanwings flight 9525 insisted wednesday that he was not aware of any video footage from on board the plane .',\n",
       " 'marseille prosecutor brice robin told cnn that \" so far no videos were used in the crash investigation . \"',\n",
       " 'he added , \" a person who has such a video needs to immediately give it to the investigators . \"',\n",
       " \"robin 's comments follow claims by two magazines , german daily bild and french paris match , of a cell phone video showing the harrowing final seconds from on board germanwings flight 9525 as it crashed into the french alps .\",\n",
       " 'all 150 on board were killed .',\n",
       " 'paris match and bild reported that the video was recovered from a phone at the wreckage site .',\n",
       " 'the two publications described the supposed video , but did not post it on their websites .',\n",
       " 'the publications said that they watched the video , which was found by a source close to the investigation . \"',\n",
       " 'one can hear cries of ` my god \\' in several languages , \" paris match reported . \"',\n",
       " 'metallic banging can also be heard more than three times , perhaps of the pilot trying to open the cockpit door with a heavy object .',\n",
       " 'towards the end , after a heavy shake , stronger than the others , the screaming intensifies .',\n",
       " 'then nothing . \"',\n",
       " '\" it is a very disturbing scene , \" said julian reichelt , editor-in-chief of bild online .',\n",
       " \"an official with france 's accident investigation agency , the bea , said the agency is not aware of any such video .\",\n",
       " 'lt. col. jean-marc menichini , a french gendarmerie spokesman in charge of communications on rescue efforts around the germanwings crash site , told cnn that the reports were \" completely wrong \" and \" unwarranted . \"',\n",
       " 'cell phones have been collected at the site , he said , but that they \" had n\\'t been exploited yet . \"',\n",
       " 'menichini said he believed the cell phones would need to be sent to the criminal research institute in rosny sous-bois , near paris , in order to be analyzed by specialized technicians working hand-in-hand with investigators .',\n",
       " 'but none of the cell phones found so far have been sent to the institute , menichini said .',\n",
       " 'asked whether staff involved in the search could have leaked a memory card to the media , menichini answered with a categorical \" no . \"',\n",
       " 'reichelt told \" erin burnett : outfront \" that he had watched the video and stood by the report , saying bild and paris match are \" very confident \" that the clip is real .',\n",
       " 'he noted that investigators only revealed they \\'d recovered cell phones from the crash site after bild and paris match published their reports . \"',\n",
       " 'that is something we did not know before .',\n",
       " '... overall we can say many things of the investigation were n\\'t revealed by the investigation at the beginning , \" he said .',\n",
       " 'what was mental state of germanwings co-pilot ?',\n",
       " \"german airline lufthansa confirmed tuesday that co-pilot andreas lubitz had battled depression years before he took the controls of germanwings flight 9525 , which he 's accused of deliberately crashing last week in the french alps .\",\n",
       " 'lubitz told his lufthansa flight training school in 2009 that he had a \" previous episode of severe depression , \" the airline said tuesday .',\n",
       " 'email correspondence between lubitz and the school discovered in an internal investigation , lufthansa said , included medical documents he submitted in connection with resuming his flight training .',\n",
       " \"the announcement indicates that lufthansa , the parent company of germanwings , knew of lubitz 's battle with depression , allowed him to continue training and ultimately put him in the cockpit .\",\n",
       " 'lufthansa , whose ceo carsten spohr previously said lubitz was 100 % fit to fly , described its statement tuesday as a \" swift and seamless clarification \" and said it was sharing the information and documents -- including training and medical records -- with public prosecutors .',\n",
       " 'spohr traveled to the crash site wednesday , where recovery teams have been working for the past week to recover human remains and plane debris scattered across a steep mountainside .',\n",
       " 'he saw the crisis center set up in seyne-les-alpes , laid a wreath in the village of le vernet , closer to the crash site , where grieving families have left flowers at a simple stone memorial .',\n",
       " 'menichini told cnn late tuesday that no visible human remains were left at the site but recovery teams would keep searching .',\n",
       " 'french president francois hollande , speaking tuesday , said that it should be possible to identify all the victims using dna analysis by the end of the week , sooner than authorities had previously suggested .',\n",
       " \"in the meantime , the recovery of the victims ' personal belongings will start wednesday , menichini said .\",\n",
       " 'among those personal belongings could be more cell phones belonging to the 144 passengers and six crew on board .',\n",
       " 'check out the latest from our correspondents .',\n",
       " \"the details about lubitz 's correspondence with the flight school during his training were among several developments as investigators continued to delve into what caused the crash and lubitz 's possible motive for downing the jet .\",\n",
       " 'a lufthansa spokesperson told cnn on tuesday that lubitz had a valid medical certificate , had passed all his examinations and \" held all the licenses required . \"',\n",
       " \"earlier , a spokesman for the prosecutor 's office in dusseldorf , christoph kumpa , said medical records reveal lubitz suffered from suicidal tendencies at some point before his aviation career and underwent psychotherapy before he got his pilot 's license .\",\n",
       " \"kumpa emphasized there 's no evidence suggesting lubitz was suicidal or acting aggressively before the crash .\",\n",
       " \"investigators are looking into whether lubitz feared his medical condition would cause him to lose his pilot 's license , a european government official briefed on the investigation told cnn on tuesday .\",\n",
       " 'while flying was \" a big part of his life , \" the source said , it \\'s only one theory being considered .',\n",
       " 'another source , a law enforcement official briefed on the investigation , also told cnn that authorities believe the primary motive for lubitz to bring down the plane was that he feared he would not be allowed to fly because of his medical problems .',\n",
       " \"lubitz 's girlfriend told investigators he had seen an eye doctor and a neuropsychologist , both of whom deemed him unfit to work recently and concluded he had psychological issues , the european government official said .\",\n",
       " 'but no matter what details emerge about his previous mental health struggles , there \\'s more to the story , said brian russell , a forensic psychologist . \"',\n",
       " 'psychology can explain why somebody would turn rage inward on themselves about the fact that maybe they were n\\'t going to keep doing their job and they \\'re upset about that and so they \\'re suicidal , \" he said . \"',\n",
       " 'but there is no mental illness that explains why somebody then feels entitled to also take that rage and turn it outward on 149 other people who had nothing to do with the person \\'s problems . \"',\n",
       " 'germanwings crash compensation : what we know .',\n",
       " 'who was the captain of germanwings flight 9525 ?',\n",
       " \"cnn 's margot haddad reported from marseille and pamela brown from dusseldorf , while laura smith-spark wrote from london .\",\n",
       " \"cnn 's frederik pleitgen , pamela boykoff , antonia mortensen , sandrine amiel and anna-maja rappard contributed to this report .\"]"
      ]
     },
     "execution_count": 14,
     "metadata": {},
     "output_type": "execute_result"
    }
   ],
   "source": [
    "src[0]"
   ]
  },
  {
   "cell_type": "code",
   "execution_count": 15,
   "metadata": {},
   "outputs": [
    {
     "data": {
      "text/plain": [
       "'relatives of the 89 people killed in thai air crash are still arriving in phuket .   about 36 of the bodies have yet to be identified , according to thai authorities .    u . s . embassy in bangkok confirms that five americans were among the dead .'"
      ]
     },
     "execution_count": 15,
     "metadata": {},
     "output_type": "execute_result"
    }
   ],
   "source": [
    "generated_summaries[0]"
   ]
  },
  {
   "cell_type": "code",
   "execution_count": 16,
   "metadata": {},
   "outputs": [
    {
     "data": {
      "text/plain": [
       "' marseille prosecutor says \" so far no videos were used in the crash investigation \" despite media reports .    journalists at bild and paris match are \" very confident \" the video clip is real , an editor says .    andreas lubitz had informed his lufthansa training school of an episode of severe depression , airline says .  '"
      ]
     },
     "execution_count": 16,
     "metadata": {},
     "output_type": "execute_result"
    }
   ],
   "source": [
    "reference_summaries[0]"
   ]
  },
  {
   "cell_type": "code",
   "execution_count": 17,
   "metadata": {},
   "outputs": [
    {
     "name": "stdout",
     "output_type": "stream",
     "text": [
      "Number of candidates: 32\n",
      "Number of references: 32\n"
     ]
    }
   ],
   "source": [
    "rouge_scores = compute_rouge_python(cand=generated_summaries, ref=reference_summaries)\n",
    "pprint.pprint(rouge_scores)"
   ]
  },
  {
   "cell_type": "code",
   "execution_count": 18,
   "metadata": {},
   "outputs": [
    {
     "name": "stdout",
     "output_type": "stream",
     "text": [
      "{'rouge-1': {'f': 0.11148856317290692,\n",
      "             'p': 0.11441679398751518,\n",
      "             'r': 0.11952807645412394},\n",
      " 'rouge-2': {'f': 0.003738257968345568,\n",
      "             'p': 0.0031282263425120565,\n",
      "             'r': 0.004906486742424243},\n",
      " 'rouge-l': {'f': 0.07556960335481806,\n",
      "             'p': 0.07636565678014874,\n",
      "             'r': 0.08176742837788872}}\n"
     ]
    }
   ],
   "source": []
  },
  {
   "cell_type": "code",
   "execution_count": 19,
   "metadata": {},
   "outputs": [
    {
     "data": {
      "application/scrapbook.scrap.json+json": {
       "data": 0.003738257968345568,
       "encoder": "json",
       "name": "rouge_2_f_score",
       "version": 1
      }
     },
     "metadata": {
      "scrapbook": {
       "data": true,
       "display": false,
       "name": "rouge_2_f_score"
      }
     },
     "output_type": "display_data"
    }
   ],
   "source": [
    "# for testing\n",
    "sb.glue(\"rouge_2_f_score\", rouge_scores['rouge-2']['f'])"
   ]
  },
  {
   "cell_type": "markdown",
   "metadata": {},
   "source": [
    "## Prediction on a single input sample"
   ]
  },
  {
   "cell_type": "code",
   "execution_count": 20,
   "metadata": {},
   "outputs": [],
   "source": [
    "source = \"\"\"\n",
    "But under the new rule, set to be announced in the next 48 hours, Border Patrol agents would immediately return anyone to Mexico — without any detainment and without any due process — who attempts to cross the southwestern border between the legal ports of entry. The person would not be held for any length of time in an American facility.\n",
    "\n",
    "Although they advised that details could change before the announcement, administration officials said the measure was needed to avert what they fear could be a systemwide outbreak of the coronavirus inside detention facilities along the border. Such an outbreak could spread quickly through the immigrant population and could infect large numbers of Border Patrol agents, leaving the southwestern border defenses weakened, the officials argued.\n",
    "The Trump administration plans to immediately turn back all asylum seekers and other foreigners attempting to enter the United States from Mexico illegally, saying the nation cannot risk allowing the coronavirus to spread through detention facilities and Border Patrol agents, four administration officials said.\n",
    "The administration officials said the ports of entry would remain open to American citizens, green-card holders and foreigners with proper documentation. Some foreigners would be blocked, including Europeans currently subject to earlier travel restrictions imposed by the administration. The points of entry will also be open to commercial traffic.\"\"\""
   ]
  },
  {
   "cell_type": "code",
   "execution_count": 24,
   "metadata": {},
   "outputs": [
    {
     "name": "stderr",
     "output_type": "stream",
     "text": [
      "\n",
      "\n",
      "\n",
      "\n",
      "Generating summary:   0%|          | 0/1 [00:00<?, ?it/s]\u001b[A\u001b[A\u001b[A\u001b[A"
     ]
    },
    {
     "name": "stdout",
     "output_type": "stream",
     "text": [
      "dataset length is 1\n"
     ]
    },
    {
     "name": "stderr",
     "output_type": "stream",
     "text": [
      "\n",
      "\n",
      "\n",
      "\n",
      "Generating summary: 100%|██████████| 1/1 [00:03<00:00,  3.06s/it]\u001b[A\u001b[A\u001b[A\u001b[A"
     ]
    }
   ],
   "source": [
    "from utils_nlp.models.transformers.datasets import SummarizationDataset\n",
    "import nltk\n",
    "from nltk import tokenize\n",
    "\n",
    "test_dataset = SummarizationDataset(\n",
    "    None,\n",
    "    source=[source],\n",
    "    source_preprocessing=[tokenize.sent_tokenize],\n",
    ")\n",
    "generated_summaries = summarizer.predict(\n",
    "    test_dataset, batch_size=1, num_gpus=1\n",
    ")\n"
   ]
  },
  {
   "cell_type": "code",
   "execution_count": null,
   "metadata": {},
   "outputs": [],
   "source": [
    "generated_summaries[0]"
   ]
  },
  {
   "cell_type": "markdown",
   "metadata": {},
   "source": [
    "## Clean up temporary folders"
   ]
  },
  {
   "cell_type": "code",
   "execution_count": null,
   "metadata": {},
   "outputs": [],
   "source": [
    "if os.path.exists(DATA_PATH):\n",
    "    shutil.rmtree(DATA_PATH, ignore_errors=True)\n",
    "if os.path.exists(CACHE_PATH):\n",
    "    shutil.rmtree(CACHE_PATH, ignore_errors=True)"
   ]
  }
 ],
 "metadata": {
  "celltoolbar": "Tags",
  "kernelspec": {
   "display_name": "python3.6 cm3",
   "language": "python",
   "name": "cm3"
  },
  "language_info": {
   "codemirror_mode": {
    "name": "ipython",
    "version": 3
   },
   "file_extension": ".py",
   "mimetype": "text/x-python",
   "name": "python",
   "nbconvert_exporter": "python",
   "pygments_lexer": "ipython3",
   "version": "3.6.8"
  }
 },
 "nbformat": 4,
 "nbformat_minor": 2
}
