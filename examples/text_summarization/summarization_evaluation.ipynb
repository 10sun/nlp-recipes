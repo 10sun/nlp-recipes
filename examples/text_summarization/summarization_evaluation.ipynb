{
 "cells": [
  {
   "cell_type": "markdown",
   "metadata": {},
   "source": [
    "# Summarization Evaluation\n",
    "This notebook explains the metrics commonly used to evaluate text summarization results and how to use the evaluation utilities provided in the repo. "
   ]
  },
  {
   "cell_type": "markdown",
   "metadata": {},
   "source": [
    "## ROUGE\n",
    "Recall-Oriented Understudy for Gisting Evaluation(ROUGE) is a set of metrics for evaluating automatic text summarization and machine translation results. The metrics compare machine-generated summaries or translations against one or multiple reference summaries or translations created by human.  \n",
    "Commonly used ROUGE metrics are ROUGE-1, ROUGE-2, and ROUGE-L\n",
    "* ROUGE-1: Overlap of unigrams (single words) between machine-generated and reference summaries. \n",
    "* ROUGE-2: Overlap of bigrams (two adjcent words) between machine-generated and reference summaries.\n",
    "* ROUGE-L: Longest Common Subsequence (LCS), which doesn't require consecutive matches but in-sequence matches that refect sentence level structure similarity.  \n",
    "\n",
    "For each metric, recall, precision, and F1 score are computed. \n",
    "\n",
    "**Utilities for computing ROUGE**\n",
    "* `compute_rouge_perl`: The [pyrouge](https://github.com/bheinzerling/pyrouge/tree/master/pyrouge) package based on the ROUGE package written in perl is the most popular package for computing ROUGE scores. We provide the `compute_rouge_perl` function based on pyrouge. \n",
    "* `compute_rouge_python`: The [py-rouge](https://pypi.org/project/py-rouge/) package is a Python implementation of the ROUGE metric which produces almost the same results as the perl implemenation. Since it's easier to install than pyrouge and can be extended to other languages, we provide the `compute_rouge_python` function based on py-rouge. Currently, only English is supported. Supports for other languages will be provided on an as-needed basis. "
   ]
  },
  {
   "cell_type": "code",
   "execution_count": 1,
   "metadata": {},
   "outputs": [],
   "source": [
    "import os\n",
    "import sys\n",
    "\n",
    "nlp_path = os.path.abspath('../../')\n",
    "if nlp_path not in sys.path:\n",
    "    sys.path.insert(0, nlp_path)\n",
    "    \n",
    "from utils_nlp.eval.compute_rouge import compute_rouge_perl, compute_rouge_python"
   ]
  },
  {
   "cell_type": "markdown",
   "metadata": {},
   "source": [
    "### Sample inputs\n",
    "Both `compute_rouge_perl` and `compute_rouge_python` takes lists of candidate summaries and reference summaries as inputs. Alternatively, you can also provide paths to files containing the candidates and references and set the `input_files` argument to `True`. "
   ]
  },
  {
   "cell_type": "code",
   "execution_count": 2,
   "metadata": {},
   "outputs": [],
   "source": [
    "summary_candidates = [\"The stock market is doing well this year.\", \"The movie is very popular.\"]\n",
    "summary_references = [\"The stock market is doing really well in 2019.\", \"The movie is very popular among millennials.\"]"
   ]
  },
  {
   "cell_type": "markdown",
   "metadata": {},
   "source": [
    "### compute_rouge_python\n",
    "To use `compute_rouge_python`, you only need to install the Python package `py-rouge` and `nltk`."
   ]
  },
  {
   "cell_type": "code",
   "execution_count": 3,
   "metadata": {},
   "outputs": [
    {
     "name": "stdout",
     "output_type": "stream",
     "text": [
      "Number of candidates: 2\n",
      "Number of references: 2\n"
     ]
    }
   ],
   "source": [
    "python_rouge_scores = compute_rouge_python(cand=summary_candidates, ref=summary_references)"
   ]
  },
  {
   "cell_type": "code",
   "execution_count": 4,
   "metadata": {},
   "outputs": [
    {
     "name": "stdout",
     "output_type": "stream",
     "text": [
      "ROUGE-1: {'f': 0.7696078431372548, 'p': 0.875, 'r': 0.6904761904761905}\n",
      "ROUGE-2: {'f': 0.6666666666666667, 'p': 0.7857142857142857, 'r': 0.5833333333333333}\n",
      "ROUGE-L: {'f': 0.8044834406175039, 'p': 0.8934181487831181, 'r': 0.7343809193130839}\n"
     ]
    }
   ],
   "source": [
    "print(\"ROUGE-1: {}\".format(python_rouge_scores[\"rouge-1\"]))\n",
    "print(\"ROUGE-2: {}\".format(python_rouge_scores[\"rouge-2\"]))\n",
    "print(\"ROUGE-L: {}\".format(python_rouge_scores[\"rouge-l\"]))"
   ]
  },
  {
   "cell_type": "markdown",
   "metadata": {},
   "source": [
    "### compute_rouge_perl\n",
    "To use `compute_rouge_perl`, in addition to installing the Python package `pyrouge`, you also need to go through the following setup steps on a Linux machine.  \n",
    "**NOTE**: Set `PYROUGE_PATH` to the root directory of the cloned `pyrouge` repo and `PYTHON_PATH` to the root directory of the conda environment where you installed `pyrouge` first."
   ]
  },
  {
   "cell_type": "code",
   "execution_count": null,
   "metadata": {
    "scrolled": false
   },
   "outputs": [],
   "source": [
    "%%bash\n",
    "git clone https://github.com/andersjo/pyrouge.git\n",
    "# PYROUGE_PATH=<root directory of cloned pyrouge repo> #e.g./home/hlu/notebooks/summarization/pyrouge\n",
    "# PYTHON_PATH=<root directory of conda environment> #e.g./data/anaconda/envs/nlp_gpu\n",
    "PYROUGE_PATH=/home/hlu/notebooks/summarization/pyrouge\n",
    "PYTHON_PATH=/data/anaconda/envs/nlp_gpu\n",
    "$PYTHON_PATH/bin/pyrouge_set_rouge_path $PYROUGE_PATH/tools/ROUGE-1.5.5\n",
    "\n",
    "# install XML::DOM plugin, instructions https://web.archive.org/web/20171107220839/www.summarizerman.com/post/42675198985/figuring-out-rouge\n",
    "sudo cpan App::cpanminus\n",
    "sudo cpanm XML::DOM\n",
    "\n",
    "# install XLM::Parser and its dependencies\n",
    "sudo apt-get update\n",
    "sudo apt-get install libexpat1-dev -y\n",
    "sudo cpanm  XML::Parser\n",
    "\n",
    "# Fix WordNet issue\n",
    "# Instructions https://web.archive.org/web/20180812011301/http://kavita-ganesan.com/rouge-howto/#IamHavingWordNetExceptions\n",
    "cd  $PYROUGE_PATH/tools/ROUGE-1.5.5/data/\n",
    "rm WordNet-2.0.exc.db\n",
    "\n",
    "cd WordNet-2.0-Exceptions/\n",
    "./buildExeptionDB.pl . exc WordNet-2.0.exc.db\n",
    "cd ..\n",
    "ln -s WordNet-2.0-Exceptions/WordNet-2.0.exc.db WordNet-2.0.exc.db"
   ]
  },
  {
   "cell_type": "code",
   "execution_count": 5,
   "metadata": {},
   "outputs": [
    {
     "name": "stderr",
     "output_type": "stream",
     "text": [
      "2019-12-03 19:43:25,977 [MainThread  ] [INFO ]  Writing summaries.\n",
      "2019-12-03 19:43:25,978 [MainThread  ] [INFO ]  Processing summaries. Saving system files to /tmp/tmpm29_bwie/system and model files to /tmp/tmpm29_bwie/model.\n",
      "2019-12-03 19:43:25,979 [MainThread  ] [INFO ]  Processing files in /tmp/tmpf5p8odh5/rouge-tmp-2019-12-03-19-43-25/candidate/.\n",
      "2019-12-03 19:43:25,980 [MainThread  ] [INFO ]  Processing cand.1.txt.\n",
      "2019-12-03 19:43:25,981 [MainThread  ] [INFO ]  Processing cand.0.txt.\n",
      "2019-12-03 19:43:25,982 [MainThread  ] [INFO ]  Saved processed files to /tmp/tmpm29_bwie/system.\n",
      "2019-12-03 19:43:25,982 [MainThread  ] [INFO ]  Processing files in /tmp/tmpf5p8odh5/rouge-tmp-2019-12-03-19-43-25/reference/.\n",
      "2019-12-03 19:43:25,983 [MainThread  ] [INFO ]  Processing ref.0.txt.\n",
      "2019-12-03 19:43:25,984 [MainThread  ] [INFO ]  Processing ref.1.txt.\n",
      "2019-12-03 19:43:25,985 [MainThread  ] [INFO ]  Saved processed files to /tmp/tmpm29_bwie/model.\n",
      "2019-12-03 19:43:25,986 [MainThread  ] [INFO ]  Written ROUGE configuration to /tmp/tmps00p9hvz/rouge_conf.xml\n",
      "2019-12-03 19:43:25,987 [MainThread  ] [INFO ]  Running ROUGE with command /home/hlu/notebooks/summarization/pyrouge/tools/ROUGE-1.5.5/ROUGE-1.5.5.pl -e /home/hlu/notebooks/summarization/pyrouge/tools/ROUGE-1.5.5/data -c 95 -2 -1 -U -r 1000 -n 4 -w 1.2 -a -m /tmp/tmps00p9hvz/rouge_conf.xml\n"
     ]
    },
    {
     "name": "stdout",
     "output_type": "stream",
     "text": [
      "Number of candidates: 2\n",
      "Number of references: 2\n",
      "---------------------------------------------\n",
      "1 ROUGE-1 Average_R: 0.69048 (95%-conf.int. 0.66667 - 0.71429)\n",
      "1 ROUGE-1 Average_P: 0.87500 (95%-conf.int. 0.75000 - 1.00000)\n",
      "1 ROUGE-1 Average_F: 0.76961 (95%-conf.int. 0.70588 - 0.83334)\n",
      "---------------------------------------------\n",
      "1 ROUGE-2 Average_R: 0.58333 (95%-conf.int. 0.50000 - 0.66667)\n",
      "1 ROUGE-2 Average_P: 0.78571 (95%-conf.int. 0.57143 - 1.00000)\n",
      "1 ROUGE-2 Average_F: 0.66666 (95%-conf.int. 0.53333 - 0.80000)\n",
      "---------------------------------------------\n",
      "1 ROUGE-3 Average_R: 0.51428 (95%-conf.int. 0.42857 - 0.60000)\n",
      "1 ROUGE-3 Average_P: 0.75000 (95%-conf.int. 0.50000 - 1.00000)\n",
      "1 ROUGE-3 Average_F: 0.60577 (95%-conf.int. 0.46154 - 0.75000)\n",
      "---------------------------------------------\n",
      "1 ROUGE-4 Average_R: 0.41666 (95%-conf.int. 0.33333 - 0.50000)\n",
      "1 ROUGE-4 Average_P: 0.70000 (95%-conf.int. 0.40000 - 1.00000)\n",
      "1 ROUGE-4 Average_F: 0.51515 (95%-conf.int. 0.36363 - 0.66667)\n",
      "---------------------------------------------\n",
      "1 ROUGE-L Average_R: 0.69048 (95%-conf.int. 0.66667 - 0.71429)\n",
      "1 ROUGE-L Average_P: 0.87500 (95%-conf.int. 0.75000 - 1.00000)\n",
      "1 ROUGE-L Average_F: 0.76961 (95%-conf.int. 0.70588 - 0.83334)\n",
      "---------------------------------------------\n",
      "1 ROUGE-W-1.2 Average_R: 0.44238 (95%-conf.int. 0.40075 - 0.48401)\n",
      "1 ROUGE-W-1.2 Average_P: 0.84981 (95%-conf.int. 0.69963 - 1.00000)\n",
      "1 ROUGE-W-1.2 Average_F: 0.58095 (95%-conf.int. 0.50960 - 0.65230)\n",
      "---------------------------------------------\n",
      "1 ROUGE-S* Average_R: 0.44643 (95%-conf.int. 0.41667 - 0.47619)\n",
      "1 ROUGE-S* Average_P: 0.76785 (95%-conf.int. 0.53571 - 1.00000)\n",
      "1 ROUGE-S* Average_F: 0.55695 (95%-conf.int. 0.46875 - 0.64516)\n",
      "---------------------------------------------\n",
      "1 ROUGE-SU* Average_R: 0.49790 (95%-conf.int. 0.47727 - 0.51852)\n",
      "1 ROUGE-SU* Average_P: 0.80000 (95%-conf.int. 0.60000 - 1.00000)\n",
      "1 ROUGE-SU* Average_F: 0.60729 (95%-conf.int. 0.53164 - 0.68293)\n",
      "\n"
     ]
    }
   ],
   "source": [
    "perl_rouge_scores = compute_rouge_perl(cand=summary_candidates, ref=summary_references)"
   ]
  },
  {
   "cell_type": "code",
   "execution_count": 44,
   "metadata": {},
   "outputs": [
    {
     "data": {
      "text/plain": [
       "{'rouge_1_recall': 0.69048,\n",
       " 'rouge_1_recall_cb': 0.66667,\n",
       " 'rouge_1_recall_ce': 0.71429,\n",
       " 'rouge_1_precision': 0.875,\n",
       " 'rouge_1_precision_cb': 0.75,\n",
       " 'rouge_1_precision_ce': 1.0,\n",
       " 'rouge_1_f_score': 0.76961,\n",
       " 'rouge_1_f_score_cb': 0.70588,\n",
       " 'rouge_1_f_score_ce': 0.83334,\n",
       " 'rouge_2_recall': 0.58333,\n",
       " 'rouge_2_recall_cb': 0.5,\n",
       " 'rouge_2_recall_ce': 0.66667,\n",
       " 'rouge_2_precision': 0.78571,\n",
       " 'rouge_2_precision_cb': 0.57143,\n",
       " 'rouge_2_precision_ce': 1.0,\n",
       " 'rouge_2_f_score': 0.66666,\n",
       " 'rouge_2_f_score_cb': 0.53333,\n",
       " 'rouge_2_f_score_ce': 0.8,\n",
       " 'rouge_3_recall': 0.51428,\n",
       " 'rouge_3_recall_cb': 0.42857,\n",
       " 'rouge_3_recall_ce': 0.6,\n",
       " 'rouge_3_precision': 0.75,\n",
       " 'rouge_3_precision_cb': 0.5,\n",
       " 'rouge_3_precision_ce': 1.0,\n",
       " 'rouge_3_f_score': 0.60577,\n",
       " 'rouge_3_f_score_cb': 0.46154,\n",
       " 'rouge_3_f_score_ce': 0.75,\n",
       " 'rouge_4_recall': 0.41666,\n",
       " 'rouge_4_recall_cb': 0.33333,\n",
       " 'rouge_4_recall_ce': 0.5,\n",
       " 'rouge_4_precision': 0.7,\n",
       " 'rouge_4_precision_cb': 0.4,\n",
       " 'rouge_4_precision_ce': 1.0,\n",
       " 'rouge_4_f_score': 0.51515,\n",
       " 'rouge_4_f_score_cb': 0.36363,\n",
       " 'rouge_4_f_score_ce': 0.66667,\n",
       " 'rouge_l_recall': 0.69048,\n",
       " 'rouge_l_recall_cb': 0.66667,\n",
       " 'rouge_l_recall_ce': 0.71429,\n",
       " 'rouge_l_precision': 0.875,\n",
       " 'rouge_l_precision_cb': 0.75,\n",
       " 'rouge_l_precision_ce': 1.0,\n",
       " 'rouge_l_f_score': 0.76961,\n",
       " 'rouge_l_f_score_cb': 0.70588,\n",
       " 'rouge_l_f_score_ce': 0.83334,\n",
       " 'rouge_w_1.2_recall': 0.44238,\n",
       " 'rouge_w_1.2_recall_cb': 0.40075,\n",
       " 'rouge_w_1.2_recall_ce': 0.48401,\n",
       " 'rouge_w_1.2_precision': 0.84981,\n",
       " 'rouge_w_1.2_precision_cb': 0.69963,\n",
       " 'rouge_w_1.2_precision_ce': 1.0,\n",
       " 'rouge_w_1.2_f_score': 0.58095,\n",
       " 'rouge_w_1.2_f_score_cb': 0.5096,\n",
       " 'rouge_w_1.2_f_score_ce': 0.6523,\n",
       " 'rouge_s*_recall': 0.44643,\n",
       " 'rouge_s*_recall_cb': 0.41667,\n",
       " 'rouge_s*_recall_ce': 0.47619,\n",
       " 'rouge_s*_precision': 0.76785,\n",
       " 'rouge_s*_precision_cb': 0.53571,\n",
       " 'rouge_s*_precision_ce': 1.0,\n",
       " 'rouge_s*_f_score': 0.55695,\n",
       " 'rouge_s*_f_score_cb': 0.46875,\n",
       " 'rouge_s*_f_score_ce': 0.64516,\n",
       " 'rouge_su*_recall': 0.4979,\n",
       " 'rouge_su*_recall_cb': 0.47727,\n",
       " 'rouge_su*_recall_ce': 0.51852,\n",
       " 'rouge_su*_precision': 0.8,\n",
       " 'rouge_su*_precision_cb': 0.6,\n",
       " 'rouge_su*_precision_ce': 1.0,\n",
       " 'rouge_su*_f_score': 0.60729,\n",
       " 'rouge_su*_f_score_cb': 0.53164,\n",
       " 'rouge_su*_f_score_ce': 0.68293}"
      ]
     },
     "execution_count": 44,
     "metadata": {},
     "output_type": "execute_result"
    }
   ],
   "source": [
    "perl_rouge_scores"
   ]
  },
  {
   "cell_type": "markdown",
   "metadata": {},
   "source": [
    "For each score, the 95% confidence interval is also computed, i.e. \"\\_cb\" and \"\\_ce\" stand for the beginning  and end of the confidence interval, respectively.  \n",
    "In addition to ROUGE-1, ROUGE-2, ROUGE-L, the perl script computes a few other ROUGE scores. See details of all scores [here](https://en.wikipedia.org/wiki/ROUGE_%28metric%29).  "
   ]
  },
  {
   "cell_type": "code",
   "execution_count": 3,
   "metadata": {},
   "outputs": [
    {
     "name": "stderr",
     "output_type": "stream",
     "text": [
      "2019-12-03 20:56:06,551 [MainThread  ] [INFO ]  Writing summaries.\n",
      "2019-12-03 20:56:06,552 [MainThread  ] [INFO ]  Processing summaries. Saving system files to /tmp/tmpp4q5yfq5/system and model files to /tmp/tmpp4q5yfq5/model.\n",
      "2019-12-03 20:56:06,552 [MainThread  ] [INFO ]  Processing files in /tmp/tmpdztrmed9/rouge-tmp-2019-12-03-20-56-06/candidate/.\n",
      "2019-12-03 20:56:06,553 [MainThread  ] [INFO ]  Processing cand.0.txt.\n",
      "2019-12-03 20:56:06,554 [MainThread  ] [INFO ]  Saved processed files to /tmp/tmpp4q5yfq5/system.\n",
      "2019-12-03 20:56:06,555 [MainThread  ] [INFO ]  Processing files in /tmp/tmpdztrmed9/rouge-tmp-2019-12-03-20-56-06/reference/.\n",
      "2019-12-03 20:56:06,556 [MainThread  ] [INFO ]  Processing ref.0.txt.\n",
      "2019-12-03 20:56:06,558 [MainThread  ] [INFO ]  Saved processed files to /tmp/tmpp4q5yfq5/model.\n",
      "2019-12-03 20:56:06,559 [MainThread  ] [INFO ]  Written ROUGE configuration to /tmp/tmpldfqkkda/rouge_conf.xml\n",
      "2019-12-03 20:56:06,560 [MainThread  ] [INFO ]  Running ROUGE with command /home/hlu/notebooks/summarization/pyrouge/tools/ROUGE-1.5.5/ROUGE-1.5.5.pl -e /home/hlu/notebooks/summarization/pyrouge/tools/ROUGE-1.5.5/data -c 95 -2 -1 -U -r 1000 -n 4 -w 1.2 -a -m /tmp/tmpldfqkkda/rouge_conf.xml\n"
     ]
    },
    {
     "name": "stdout",
     "output_type": "stream",
     "text": [
      "Number of candidates: 1\n",
      "Number of references: 1\n",
      "---------------------------------------------\n",
      "1 ROUGE-1 Average_R: 0.75000 (95%-conf.int. 0.75000 - 0.75000)\n",
      "1 ROUGE-1 Average_P: 0.75000 (95%-conf.int. 0.75000 - 0.75000)\n",
      "1 ROUGE-1 Average_F: 0.75000 (95%-conf.int. 0.75000 - 0.75000)\n",
      "---------------------------------------------\n",
      "1 ROUGE-2 Average_R: 0.66667 (95%-conf.int. 0.66667 - 0.66667)\n",
      "1 ROUGE-2 Average_P: 0.66667 (95%-conf.int. 0.66667 - 0.66667)\n",
      "1 ROUGE-2 Average_F: 0.66667 (95%-conf.int. 0.66667 - 0.66667)\n",
      "---------------------------------------------\n",
      "1 ROUGE-3 Average_R: 0.50000 (95%-conf.int. 0.50000 - 0.50000)\n",
      "1 ROUGE-3 Average_P: 0.50000 (95%-conf.int. 0.50000 - 0.50000)\n",
      "1 ROUGE-3 Average_F: 0.50000 (95%-conf.int. 0.50000 - 0.50000)\n",
      "---------------------------------------------\n",
      "1 ROUGE-4 Average_R: 0.00000 (95%-conf.int. 0.00000 - 0.00000)\n",
      "1 ROUGE-4 Average_P: 0.00000 (95%-conf.int. 0.00000 - 0.00000)\n",
      "1 ROUGE-4 Average_F: 0.00000 (95%-conf.int. 0.00000 - 0.00000)\n",
      "---------------------------------------------\n",
      "1 ROUGE-L Average_R: 0.75000 (95%-conf.int. 0.75000 - 0.75000)\n",
      "1 ROUGE-L Average_P: 0.75000 (95%-conf.int. 0.75000 - 0.75000)\n",
      "1 ROUGE-L Average_F: 0.75000 (95%-conf.int. 0.75000 - 0.75000)\n",
      "---------------------------------------------\n",
      "1 ROUGE-W-1.2 Average_R: 0.56839 (95%-conf.int. 0.56839 - 0.56839)\n",
      "1 ROUGE-W-1.2 Average_P: 0.75000 (95%-conf.int. 0.75000 - 0.75000)\n",
      "1 ROUGE-W-1.2 Average_F: 0.64669 (95%-conf.int. 0.64669 - 0.64669)\n",
      "---------------------------------------------\n",
      "1 ROUGE-S* Average_R: 0.50000 (95%-conf.int. 0.50000 - 0.50000)\n",
      "1 ROUGE-S* Average_P: 0.50000 (95%-conf.int. 0.50000 - 0.50000)\n",
      "1 ROUGE-S* Average_F: 0.50000 (95%-conf.int. 0.50000 - 0.50000)\n",
      "---------------------------------------------\n",
      "1 ROUGE-SU* Average_R: 0.66667 (95%-conf.int. 0.66667 - 0.66667)\n",
      "1 ROUGE-SU* Average_P: 0.66667 (95%-conf.int. 0.66667 - 0.66667)\n",
      "1 ROUGE-SU* Average_F: 0.66667 (95%-conf.int. 0.66667 - 0.66667)\n",
      "\n",
      "Number of candidates: 1\n",
      "Number of references: 1\n",
      "    rouge-2  rouge-1  rouge-l\n",
      "f  0.666667     0.75     0.75\n",
      "p  0.666667     0.75     0.75\n",
      "r  0.666667     0.75     0.75\n"
     ]
    }
   ],
   "source": [
    "# Some test cases (temporary)\n",
    "import pandas as pd\n",
    "c = [\"this is really good\"]\n",
    "r = [\"this is really great\"]\n",
    "rouge_perl = compute_rouge_perl(c, r)\n",
    "rouge_python = compute_rouge_python(c, r)\n",
    "\n",
    "print(pd.DataFrame(rouge_python))"
   ]
  },
  {
   "cell_type": "code",
   "execution_count": 4,
   "metadata": {},
   "outputs": [
    {
     "name": "stderr",
     "output_type": "stream",
     "text": [
      "2019-12-03 20:56:09,105 [MainThread  ] [INFO ]  Writing summaries.\n",
      "2019-12-03 20:56:09,106 [MainThread  ] [INFO ]  Processing summaries. Saving system files to /tmp/tmpdx08vejw/system and model files to /tmp/tmpdx08vejw/model.\n",
      "2019-12-03 20:56:09,106 [MainThread  ] [INFO ]  Processing files in /tmp/tmpgee0mb66/rouge-tmp-2019-12-03-20-56-09/candidate/.\n",
      "2019-12-03 20:56:09,107 [MainThread  ] [INFO ]  Processing cand.0.txt.\n",
      "2019-12-03 20:56:09,108 [MainThread  ] [INFO ]  Saved processed files to /tmp/tmpdx08vejw/system.\n",
      "2019-12-03 20:56:09,108 [MainThread  ] [INFO ]  Processing files in /tmp/tmpgee0mb66/rouge-tmp-2019-12-03-20-56-09/reference/.\n",
      "2019-12-03 20:56:09,109 [MainThread  ] [INFO ]  Processing ref.0.txt.\n",
      "2019-12-03 20:56:09,110 [MainThread  ] [INFO ]  Saved processed files to /tmp/tmpdx08vejw/model.\n",
      "2019-12-03 20:56:09,111 [MainThread  ] [INFO ]  Written ROUGE configuration to /tmp/tmp2nhy7o3v/rouge_conf.xml\n",
      "2019-12-03 20:56:09,112 [MainThread  ] [INFO ]  Running ROUGE with command /home/hlu/notebooks/summarization/pyrouge/tools/ROUGE-1.5.5/ROUGE-1.5.5.pl -e /home/hlu/notebooks/summarization/pyrouge/tools/ROUGE-1.5.5/data -c 95 -2 -1 -U -r 1000 -n 4 -w 1.2 -a -m /tmp/tmp2nhy7o3v/rouge_conf.xml\n"
     ]
    },
    {
     "name": "stdout",
     "output_type": "stream",
     "text": [
      "Number of candidates: 1\n",
      "Number of references: 1\n",
      "---------------------------------------------\n",
      "1 ROUGE-1 Average_R: 0.50000 (95%-conf.int. 0.50000 - 0.50000)\n",
      "1 ROUGE-1 Average_P: 0.50000 (95%-conf.int. 0.50000 - 0.50000)\n",
      "1 ROUGE-1 Average_F: 0.50000 (95%-conf.int. 0.50000 - 0.50000)\n",
      "---------------------------------------------\n",
      "1 ROUGE-2 Average_R: 0.33333 (95%-conf.int. 0.33333 - 0.33333)\n",
      "1 ROUGE-2 Average_P: 0.33333 (95%-conf.int. 0.33333 - 0.33333)\n",
      "1 ROUGE-2 Average_F: 0.33333 (95%-conf.int. 0.33333 - 0.33333)\n",
      "---------------------------------------------\n",
      "1 ROUGE-3 Average_R: 0.00000 (95%-conf.int. 0.00000 - 0.00000)\n",
      "1 ROUGE-3 Average_P: 0.00000 (95%-conf.int. 0.00000 - 0.00000)\n",
      "1 ROUGE-3 Average_F: 0.00000 (95%-conf.int. 0.00000 - 0.00000)\n",
      "---------------------------------------------\n",
      "1 ROUGE-4 Average_R: 0.00000 (95%-conf.int. 0.00000 - 0.00000)\n",
      "1 ROUGE-4 Average_P: 0.00000 (95%-conf.int. 0.00000 - 0.00000)\n",
      "1 ROUGE-4 Average_F: 0.00000 (95%-conf.int. 0.00000 - 0.00000)\n",
      "---------------------------------------------\n",
      "1 ROUGE-L Average_R: 0.50000 (95%-conf.int. 0.50000 - 0.50000)\n",
      "1 ROUGE-L Average_P: 0.50000 (95%-conf.int. 0.50000 - 0.50000)\n",
      "1 ROUGE-L Average_F: 0.50000 (95%-conf.int. 0.50000 - 0.50000)\n",
      "---------------------------------------------\n",
      "1 ROUGE-W-1.2 Average_R: 0.37893 (95%-conf.int. 0.37893 - 0.37893)\n",
      "1 ROUGE-W-1.2 Average_P: 0.50000 (95%-conf.int. 0.50000 - 0.50000)\n",
      "1 ROUGE-W-1.2 Average_F: 0.43113 (95%-conf.int. 0.43113 - 0.43113)\n",
      "---------------------------------------------\n",
      "1 ROUGE-S* Average_R: 0.16667 (95%-conf.int. 0.16667 - 0.16667)\n",
      "1 ROUGE-S* Average_P: 0.16667 (95%-conf.int. 0.16667 - 0.16667)\n",
      "1 ROUGE-S* Average_F: 0.16667 (95%-conf.int. 0.16667 - 0.16667)\n",
      "---------------------------------------------\n",
      "1 ROUGE-SU* Average_R: 0.33333 (95%-conf.int. 0.33333 - 0.33333)\n",
      "1 ROUGE-SU* Average_P: 0.33333 (95%-conf.int. 0.33333 - 0.33333)\n",
      "1 ROUGE-SU* Average_F: 0.33333 (95%-conf.int. 0.33333 - 0.33333)\n",
      "\n",
      "Number of candidates: 1\n",
      "Number of references: 1\n",
      "    rouge-2  rouge-1  rouge-l\n",
      "f  0.333333      0.5      0.5\n",
      "p  0.333333      0.5      0.5\n",
      "r  0.333333      0.5      0.5\n"
     ]
    }
   ],
   "source": [
    "c = [\"this is very good\"]\n",
    "r = [\"this is really great\"]\n",
    "rouge_perl = compute_rouge_perl(c, r)\n",
    "rouge_python = compute_rouge_python(c, r)\n",
    "print(pd.DataFrame(rouge_python))"
   ]
  }
 ],
 "metadata": {
  "kernelspec": {
   "display_name": "nlp_gpu",
   "language": "python",
   "name": "nlp_gpu"
  },
  "language_info": {
   "codemirror_mode": {
    "name": "ipython",
    "version": 3
   },
   "file_extension": ".py",
   "mimetype": "text/x-python",
   "name": "python",
   "nbconvert_exporter": "python",
   "pygments_lexer": "ipython3",
   "version": "3.6.8"
  }
 },
 "nbformat": 4,
 "nbformat_minor": 2
}
