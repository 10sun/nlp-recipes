{
 "cells": [
  {
   "cell_type": "markdown",
   "metadata": {},
   "source": [
    "Copyright (c) Microsoft Corporation. All rights reserved.\n",
    "\n",
    "Licensed under the MIT License."
   ]
  },
  {
   "cell_type": "markdown",
   "metadata": {},
   "source": [
    "## Extractive Summarization on CNN/DM Dataset using Transformer Version of BertSum\n",
    "\n",
    "\n",
    "### Summary\n",
    "\n",
    "This notebook demonstrates how to fine tune Transformers for extractive text summarization. Utility functions and classes in the NLP Best Practices repo are used to facilitate data preprocessing, model training, model scoring, result postprocessing, and model evaluation.\n",
    "\n",
    "BertSum refers to  [Fine-tune BERT for Extractive Summarization (https://arxiv.org/pdf/1903.10318.pdf) with [published example](https://github.com/nlpyang/BertSum/). And the Transformer version of Bertsum refers to our modification of BertSum and the source code can be accessed at (https://github.com/daden-ms/BertSum/). \n",
    "\n",
    "Extractive summarization are usually used in document summarization where each input document consists of mutiple sentences. The preprocessing of the input training data involves assigning label 0 or 1 to the document sentences based on the give summary. The summarization problem is also simplfied to classifying whether each document sentence should be included in the summary. \n",
    "\n",
    "The figure below illustrates how BERTSum can be fine tuned for extractive summarization task. Each sentence is inserted with [CLS] token at the beginning and  [SEP] at the end. Interval segment embedding and positional embedding are added upon the token embedding before input the BERT model. The [CLS] token representation is used as sentence embedding and only the [CLS] tokens are used as input for the summarization model. The summarization layer predicts whether the probability of each each sentence token should be included in the summary or not. Techniques like trigram blocking can be used to improve model accuarcy.   \n",
    "\n",
    "<img src=\"https://nlpbp.blob.core.windows.net/images/BertSum.PNG\">\n",
    "\n",
    "\n",
    "### Before You Start\n",
    "\n",
    "The running time shown in this notebook is on a Standard_NC24s_v3 Azure Deep Learning Virtual Machine with 4 NVIDIA Tesla V100 GPUs. \n",
    "> **Tip**: If you want to run through the notebook quickly, you can set the **`QUICK_RUN`** flag in the cell below to **`True`** to run the notebook on a small subset of the data and a smaller number of epochs. \n",
    "\n",
    "On a machine with 1 NVIDIA Tesla V100 GPUs, 16GB GPU memory configuration,\n",
    "- for data preprocessing, it takes around 10 minutes the data preprocessing for quick run. Otherwise it takes ~2 hours to finish the data preprocessing. This time estimation assumes the chosen transformer model is \"distilbert-base-uncased\" and the sentence selection method is \"greedy\", which is the default. The preprocessing time can be significantly longer if the sentence selection method is \"combination\", which can achieve better model performance.\n",
    "\n",
    "- for model fine tuning, it takes around 30 minutes for quick run. Otherwise, it takes around ~3 hours to finish. This estimation assume the chosen encoder method is \"transformer\". The model fine tuning time can be shorter if other encoder method is chosen, which may result in worse model performance. \n"
   ]
  },
  {
   "cell_type": "code",
   "execution_count": 1,
   "metadata": {},
   "outputs": [],
   "source": [
    "## Set QUICK_RUN = True to run the notebook on a small subset of data and a smaller number of epochs.\n",
    "QUICK_RUN = True\n",
    "## Set USE_PREPROCSSED_DATA = True to skip the data preprocessing\n",
    "USE_PREPROCSSED_DATA = False"
   ]
  },
  {
   "cell_type": "markdown",
   "metadata": {},
   "source": [
    "### Configuration\n",
    "\n",
    "Before we start the notebook, we should set the environment variable to make sure you can access the GPUs on your machine"
   ]
  },
  {
   "cell_type": "code",
   "execution_count": 2,
   "metadata": {},
   "outputs": [],
   "source": [
    "%load_ext autoreload"
   ]
  },
  {
   "cell_type": "code",
   "execution_count": 3,
   "metadata": {},
   "outputs": [],
   "source": [
    "%autoreload 2"
   ]
  },
  {
   "cell_type": "code",
   "execution_count": 4,
   "metadata": {},
   "outputs": [
    {
     "name": "stderr",
     "output_type": "stream",
     "text": [
      "[nltk_data] Downloading package punkt to /home/daden/nltk_data...\n",
      "[nltk_data]   Package punkt is already up-to-date!\n",
      "I1213 19:06:40.821395 140049061730112 file_utils.py:39] PyTorch version 1.2.0 available.\n",
      "I1213 19:06:40.854509 140049061730112 modeling_xlnet.py:194] Better speed can be achieved with apex installed from https://www.github.com/nvidia/apex .\n"
     ]
    }
   ],
   "source": [
    "import os\n",
    "import sys\n",
    "from tempfile import TemporaryDirectory\n",
    "import torch\n",
    "\n",
    "nlp_path = os.path.abspath(\"../../\")\n",
    "if nlp_path not in sys.path:\n",
    "    sys.path.insert(0, nlp_path)\n",
    "\n",
    "from utils_nlp.common.pytorch_utils import get_device\n",
    "from utils_nlp.dataset.cnndm import CNNDMBertSumProcessedData, CNNDMSummarization\n",
    "from utils_nlp.eval.evaluate_summarization import get_rouge\n",
    "from utils_nlp.models.transformers.extractive_summarization import (\n",
    "    get_cycled_dataset,\n",
    "    get_dataloader,\n",
    "    get_sequential_dataloader,\n",
    "    ExtractiveSummarizer,\n",
    "    ExtSumProcessor,\n",
    ")"
   ]
  },
  {
   "cell_type": "markdown",
   "metadata": {},
   "source": [
    "### Configuration: choose the transformer model to be used"
   ]
  },
  {
   "cell_type": "code",
   "execution_count": 5,
   "metadata": {},
   "outputs": [],
   "source": [
    "# Transformer model being used\n",
    "MODEL_NAME = \"distilbert-base-uncased\""
   ]
  },
  {
   "cell_type": "markdown",
   "metadata": {},
   "source": [
    "Also, we need to install the dependencies for pyrouge."
   ]
  },
  {
   "cell_type": "markdown",
   "metadata": {},
   "source": [
    "# dependencies for ROUGE-1.5.5.pl\n",
    "!sudo apt-get update\n",
    "!sudo apt-get install expat\n",
    "!sudo apt-get install libexpat-dev -y"
   ]
  },
  {
   "cell_type": "markdown",
   "metadata": {},
   "source": [
    "Run the following command in your terminal to install pre-requiste for using pyrouge.\n",
    "1. sudo cpan install XML::Parser\n",
    "1. sudo cpan install XML::Parser::PerlSAX\n",
    "1. sudo cpan install XML::DOM\n",
    "\n",
    "Download ROUGE-1.5.5 from https://github.com/andersjo/pyrouge/tree/master/tools/ROUGE-1.5.5.\n",
    "Run the following command in your terminal.\n",
    "* pyrouge_set_rouge_path $ABSOLUTE_DIRECTORY_TO_ROUGE-1.5.5.pl"
   ]
  },
  {
   "cell_type": "markdown",
   "metadata": {},
   "source": [
    "### Data Preprossing\n",
    "\n",
    "The dataset we used for this notebook is CNN/DM dataset which contains the documents and accompanying questions from the news articles of CNN and Daily mail. The highlights in each article are used as summary. The dataset consits of ~289K training examples, ~11K valiation and ~11K test dataset.  You can choose the [Option 1] below preprocess the data or [Option 2] to use the preprocessed version at [BERTSum published example](https://github.com/nlpyang/BertSum/). You don't need to manually download any of these two data sets as the code below will handle this part.  Since it takes up to 28 hours to preprocess the training data  to run on 10  Intel(R) Xeon(R) CPU E5-2690 v3 @ 2.60GHz, we suggest you continue with set as True first and experiment with data preprocessing  with QUICKRUN set as True.\n",
    "\n",
    "##### Details of Data Preprocessing\n",
    "\n",
    "The purpose of preprocessing is to process the input articles to the format that BertSum takes.  Functions defined specific in harvardnlp_cnndm_preprocess function are unique to CNN/DM dataset that's processed by harvardnlp. However, it provides a skeleton of how to preprocessing data into the format that BertSum takes. Assuming you have all articles and target summery each in a file, line-breaker seperated, the steps to preprocess the data are:\n",
    "1. sentence tokenization\n",
    "2. word tokenization\n",
    "3. **label** the sentences in the article with 1 meaning the sentence is selected and 0 meaning the sentence is not selected. The options for the selection algorithms are \"greedy\" and \"combination\"\n",
    "3. convert each example to  BertSum format\n",
    "    - filter the sentences in the example based on the min_src_ntokens argument. If the lefted total sentence number is less than min_nsents, the example is discarded.\n",
    "    - truncate the sentences in the example if the length is greater than max_src_ntokens\n",
    "    - truncate the sentences in the example and the labels if the totle number of sentences is greater than max_nsents\n",
    "    - [CLS] and [SEP] are inserted before and after each sentence\n",
    "    - wordPiece tokenization\n",
    "    - truncate the example to 512 tokens\n",
    "    - convert the tokens into token indices corresponding to the BERT tokenizer's vocabulary.\n",
    "    - segment ids are generated\n",
    "    - [CLS] token positions are logged\n",
    "    - [CLS] token labels are truncated if it's greater than 512, which is the maximum input length that can be taken by the BERT model.\n",
    "    \n",
    "    \n",
    "Note that the original BERTSum paper use Stanford CoreNLP for data proprocessing, here we'll first how to use NLTK version, and then we also provide instruction of how to set up Stanford NLP and code examples of how to use Standford CoreNLP. "
   ]
  },
  {
   "cell_type": "markdown",
   "metadata": {},
   "source": [
    "##### [Option 1] Preprocess  data\n",
    "The code in following cell will download the CNN/DM dataset listed at https://github.com/harvardnlp/sent-summary/."
   ]
  },
  {
   "cell_type": "code",
   "execution_count": 6,
   "metadata": {},
   "outputs": [],
   "source": [
    "# the data path used to save the downloaded data file\n",
    "DATA_PATH = TemporaryDirectory().name\n",
    "# The number of lines at the head of data file used for preprocessing. -1 means all the lines.\n",
    "TOP_N = -1\n",
    "if QUICK_RUN:\n",
    "    TOP_N = 10000"
   ]
  },
  {
   "cell_type": "code",
   "execution_count": 7,
   "metadata": {
    "scrolled": true
   },
   "outputs": [
    {
     "name": "stderr",
     "output_type": "stream",
     "text": [
      "100%|██████████| 489k/489k [00:08<00:00, 59.5kKB/s] \n",
      "I1213 19:06:49.528935 140049061730112 utils.py:173] Opening tar file /tmp/tmpuf604ztw/cnndm.tar.gz.\n"
     ]
    }
   ],
   "source": [
    "train_dataset, test_dataset = CNNDMSummarization(top_n=TOP_N, local_cache_path=DATA_PATH)"
   ]
  },
  {
   "cell_type": "markdown",
   "metadata": {},
   "source": [
    "Preprocess the data and save the data to disk."
   ]
  },
  {
   "cell_type": "code",
   "execution_count": 8,
   "metadata": {},
   "outputs": [
    {
     "name": "stderr",
     "output_type": "stream",
     "text": [
      "I1213 19:07:00.743392 140049061730112 tokenization_utils.py:374] loading file https://s3.amazonaws.com/models.huggingface.co/bert/bert-base-uncased-vocab.txt from cache at ./26bc1ad6c0ac742e9b52263248f6d0f00068293b33709fae12320c0e35ccfbbb.542ce4285a40d23a559526243235df47c5f75c197f04f37d1a0c124c32c9a084\n"
     ]
    },
    {
     "name": "stdout",
     "output_type": "stream",
     "text": [
      "{'max_nsents': 200, 'max_src_ntokens': 2000, 'min_nsents': 3, 'min_src_ntokens': 5, 'use_interval': True}\n"
     ]
    }
   ],
   "source": [
    "processor = ExtSumProcessor(model_name=MODEL_NAME)\n",
    "ext_sum_train = processor.preprocess(train_dataset, train_dataset.get_target(), oracle_mode=\"greedy\")\n",
    "ext_sum_test = processor.preprocess(test_dataset, test_dataset.get_target(),oracle_mode=\"greedy\")"
   ]
  },
  {
   "cell_type": "code",
   "execution_count": 9,
   "metadata": {},
   "outputs": [],
   "source": [
    "save_path = os.path.join(DATA_PATH, \"processed\")\n",
    "train_files = CNNDMBertSumProcessedData.save_data(\n",
    "    ext_sum_train, is_test=False, save_path=save_path, chunk_size=2000\n",
    ")\n",
    "test_files = CNNDMBertSumProcessedData.save_data(\n",
    "    ext_sum_test, is_test=True, save_path=save_path, chunk_size=2000\n",
    ")"
   ]
  },
  {
   "cell_type": "code",
   "execution_count": 10,
   "metadata": {},
   "outputs": [
    {
     "data": {
      "text/plain": [
       "['/tmp/tmpuf604ztw/processed/0_train',\n",
       " '/tmp/tmpuf604ztw/processed/1_train',\n",
       " '/tmp/tmpuf604ztw/processed/2_train',\n",
       " '/tmp/tmpuf604ztw/processed/3_train',\n",
       " '/tmp/tmpuf604ztw/processed/4_train']"
      ]
     },
     "execution_count": 10,
     "metadata": {},
     "output_type": "execute_result"
    }
   ],
   "source": [
    "train_files"
   ]
  },
  {
   "cell_type": "code",
   "execution_count": 11,
   "metadata": {},
   "outputs": [
    {
     "data": {
      "text/plain": [
       "['/tmp/tmpuf604ztw/processed/0_test',\n",
       " '/tmp/tmpuf604ztw/processed/1_test',\n",
       " '/tmp/tmpuf604ztw/processed/2_test',\n",
       " '/tmp/tmpuf604ztw/processed/3_test',\n",
       " '/tmp/tmpuf604ztw/processed/4_test']"
      ]
     },
     "execution_count": 11,
     "metadata": {},
     "output_type": "execute_result"
    }
   ],
   "source": [
    "test_files"
   ]
  },
  {
   "cell_type": "code",
   "execution_count": 12,
   "metadata": {},
   "outputs": [],
   "source": [
    "train_dataset_generator, test_dataset_generator = CNNDMBertSumProcessedData().splits(root=save_path)"
   ]
  },
  {
   "cell_type": "markdown",
   "metadata": {},
   "source": [
    "#### Inspect Data"
   ]
  },
  {
   "cell_type": "code",
   "execution_count": 13,
   "metadata": {},
   "outputs": [
    {
     "name": "stdout",
     "output_type": "stream",
     "text": [
      "2000\n"
     ]
    },
    {
     "data": {
      "text/plain": [
       "dict_keys(['src', 'labels', 'segs', 'clss', 'src_txt', 'tgt_txt'])"
      ]
     },
     "execution_count": 13,
     "metadata": {},
     "output_type": "execute_result"
    }
   ],
   "source": [
    "import torch\n",
    "bert_format_data = torch.load(train_files[0])\n",
    "print(len(bert_format_data))\n",
    "bert_format_data[0].keys()"
   ]
  },
  {
   "cell_type": "code",
   "execution_count": 14,
   "metadata": {},
   "outputs": [
    {
     "data": {
      "text/plain": [
       "[0, 0, 1, 0, 0, 0, 0, 0, 0, 0, 0, 0, 0, 0, 0, 0, 0, 0, 0, 0]"
      ]
     },
     "execution_count": 14,
     "metadata": {},
     "output_type": "execute_result"
    }
   ],
   "source": [
    "bert_format_data[0]['labels']"
   ]
  },
  {
   "cell_type": "markdown",
   "metadata": {},
   "source": [
    "##### [Option 2] Reuse Preprocessed  data from [BERTSUM Repo](https://github.com/nlpyang/BertSum)"
   ]
  },
  {
   "cell_type": "code",
   "execution_count": 15,
   "metadata": {},
   "outputs": [],
   "source": [
    "# the data path used to downloaded the preprocessed data from BERTSUM Repo.\n",
    "# if you have downloaded the dataset, change the code to use that path where the dataset is.\n",
    "PROCESSED_DATA_PATH = TemporaryDirectory().name\n",
    "#data_path = \"./temp_data5/\"\n",
    "#PROCESSED_DATA_PATH = data_path"
   ]
  },
  {
   "cell_type": "code",
   "execution_count": 16,
   "metadata": {},
   "outputs": [],
   "source": [
    "if USE_PREPROCSSED_DATA:\n",
    "    CNNDMBertSumProcessedData.download(local_path=PROCESSED_DATA_PATH)\n",
    "    train_dataset_generator, test_dataset_generator = CNNDMBertSumProcessedData().splits(root=PROCESSED_DATA_PATH)\n",
    "    "
   ]
  },
  {
   "cell_type": "markdown",
   "metadata": {},
   "source": [
    "### Model training\n",
    "To start model training, we need to create a instance of ExtractiveSummarizer.\n",
    "#### Choose the transformer model.\n",
    "Currently ExtractiveSummarizer support two models:\n",
    "- distilbert-base-uncase, \n",
    "- bert-base-uncase\n",
    "\n",
    "Potentionally, roberta-based model and xlnet can be supported but needs to be tested.\n",
    "#### Choose the encoder algorithm.\n",
    "There are four options:\n",
    "- baseline: it used a smaller transformer model to replace the bert model and with transformer summarization layer\n",
    "- classifier: it uses pretrained BERT and fine-tune BERT with **simple logistic classification** summarization layer\n",
    "- transformer: it uses pretrained BERT and fine-tune BERT with **transformer** summarization layer\n",
    "- RNN: it uses pretrained BERT and fine-tune BERT with **LSTM** summarization layer"
   ]
  },
  {
   "cell_type": "code",
   "execution_count": 17,
   "metadata": {},
   "outputs": [],
   "source": [
    "# notebook parameters\n",
    "# the cache data path during find tuning\n",
    "CACHE_DIR = TemporaryDirectory().name\n",
    "\n",
    "# batch size, unit is the number of tokens\n",
    "BATCH_SIZE = 3000\n",
    "\n",
    "# GPU used for training\n",
    "NUM_GPUS = 1\n",
    "\n",
    "# Encoder name. Options are: 1. baseline, classifier, transformer, rnn.\n",
    "ENCODER = \"transformer\"\n",
    "\n",
    "# Learning rate\n",
    "LEARNING_RATE=2e-3\n",
    "\n",
    "# How often the statistics reports show up in training, unit is step.\n",
    "REPORT_EVERY=100\n",
    "    \n",
    "if QUICK_RUN:\n",
    "    # total number of steps for training\n",
    "    MAX_STEPS=1e4\n",
    "    # number of steps for warm up\n",
    "    WARMUP_STEPS=5e3\n",
    "    \n",
    "else:\n",
    "    MAX_STEPS=5e4\n",
    "    WARMUP_STEPS=5e3\n",
    " "
   ]
  },
  {
   "cell_type": "code",
   "execution_count": 18,
   "metadata": {
    "scrolled": true
   },
   "outputs": [
    {
     "name": "stderr",
     "output_type": "stream",
     "text": [
      "I1213 19:14:40.413720 140049061730112 file_utils.py:296] https://s3.amazonaws.com/models.huggingface.co/bert/distilbert-base-uncased-config.json not found in cache or force_download set to True, downloading to /tmp/tmpvow1cz9j\n",
      "100%|██████████| 492/492 [00:00<00:00, 544628.55B/s]\n",
      "I1213 19:14:40.574677 140049061730112 file_utils.py:309] copying /tmp/tmpvow1cz9j to cache at /tmp/tmp1x0h8exo/a41e817d5c0743e29e86ff85edc8c257e61bc8d88e4271bb1b243b6e7614c633.1ccd1a11c9ff276830e114ea477ea2407100f4a3be7bdc45d37be9e37fa71c7e\n",
      "I1213 19:14:40.575870 140049061730112 file_utils.py:313] creating metadata file for /tmp/tmp1x0h8exo/a41e817d5c0743e29e86ff85edc8c257e61bc8d88e4271bb1b243b6e7614c633.1ccd1a11c9ff276830e114ea477ea2407100f4a3be7bdc45d37be9e37fa71c7e\n",
      "I1213 19:14:40.577564 140049061730112 file_utils.py:322] removing temp file /tmp/tmpvow1cz9j\n",
      "I1213 19:14:40.578326 140049061730112 configuration_utils.py:151] loading configuration file https://s3.amazonaws.com/models.huggingface.co/bert/distilbert-base-uncased-config.json from cache at /tmp/tmp1x0h8exo/a41e817d5c0743e29e86ff85edc8c257e61bc8d88e4271bb1b243b6e7614c633.1ccd1a11c9ff276830e114ea477ea2407100f4a3be7bdc45d37be9e37fa71c7e\n",
      "I1213 19:14:40.579338 140049061730112 configuration_utils.py:168] Model config {\n",
      "  \"activation\": \"gelu\",\n",
      "  \"attention_dropout\": 0.1,\n",
      "  \"dim\": 768,\n",
      "  \"dropout\": 0.1,\n",
      "  \"finetuning_task\": null,\n",
      "  \"hidden_dim\": 3072,\n",
      "  \"initializer_range\": 0.02,\n",
      "  \"max_position_embeddings\": 512,\n",
      "  \"n_heads\": 12,\n",
      "  \"n_layers\": 6,\n",
      "  \"num_labels\": 0,\n",
      "  \"output_attentions\": false,\n",
      "  \"output_hidden_states\": false,\n",
      "  \"output_past\": true,\n",
      "  \"pruned_heads\": {},\n",
      "  \"qa_dropout\": 0.1,\n",
      "  \"seq_classif_dropout\": 0.2,\n",
      "  \"sinusoidal_pos_embds\": false,\n",
      "  \"tie_weights_\": true,\n",
      "  \"torchscript\": false,\n",
      "  \"use_bfloat16\": false,\n",
      "  \"vocab_size\": 30522\n",
      "}\n",
      "\n",
      "I1213 19:14:40.726104 140049061730112 file_utils.py:296] https://s3.amazonaws.com/models.huggingface.co/bert/distilbert-base-uncased-pytorch_model.bin not found in cache or force_download set to True, downloading to /tmp/tmp1jylmlrr\n",
      "100%|██████████| 267967963/267967963 [00:04<00:00, 66005477.88B/s]\n",
      "I1213 19:14:45.017174 140049061730112 file_utils.py:309] copying /tmp/tmp1jylmlrr to cache at /tmp/tmp1x0h8exo/7b8a8f0b21c4e7f6962451c9370a5d9af90372a5f64637a251f2de154d0fc72c.c2015533705b9dff680ae707e205a35e2860e8d148b45d35085419d74fe57ac5\n",
      "I1213 19:14:45.300228 140049061730112 file_utils.py:313] creating metadata file for /tmp/tmp1x0h8exo/7b8a8f0b21c4e7f6962451c9370a5d9af90372a5f64637a251f2de154d0fc72c.c2015533705b9dff680ae707e205a35e2860e8d148b45d35085419d74fe57ac5\n",
      "I1213 19:14:45.301454 140049061730112 file_utils.py:322] removing temp file /tmp/tmp1jylmlrr\n",
      "I1213 19:14:45.338460 140049061730112 modeling_utils.py:337] loading weights file https://s3.amazonaws.com/models.huggingface.co/bert/distilbert-base-uncased-pytorch_model.bin from cache at /tmp/tmp1x0h8exo/7b8a8f0b21c4e7f6962451c9370a5d9af90372a5f64637a251f2de154d0fc72c.c2015533705b9dff680ae707e205a35e2860e8d148b45d35085419d74fe57ac5\n",
      "I1213 19:14:46.801804 140049061730112 configuration_utils.py:151] loading configuration file https://s3.amazonaws.com/models.huggingface.co/bert/distilbert-base-uncased-config.json from cache at /tmp/tmp1x0h8exo/a41e817d5c0743e29e86ff85edc8c257e61bc8d88e4271bb1b243b6e7614c633.1ccd1a11c9ff276830e114ea477ea2407100f4a3be7bdc45d37be9e37fa71c7e\n",
      "I1213 19:14:46.803370 140049061730112 configuration_utils.py:168] Model config {\n",
      "  \"activation\": \"gelu\",\n",
      "  \"attention_dropout\": 0.1,\n",
      "  \"dim\": 768,\n",
      "  \"dropout\": 0.1,\n",
      "  \"finetuning_task\": null,\n",
      "  \"hidden_dim\": 3072,\n",
      "  \"initializer_range\": 0.02,\n",
      "  \"max_position_embeddings\": 512,\n",
      "  \"n_heads\": 12,\n",
      "  \"n_layers\": 6,\n",
      "  \"num_labels\": 2,\n",
      "  \"output_attentions\": false,\n",
      "  \"output_hidden_states\": false,\n",
      "  \"output_past\": true,\n",
      "  \"pruned_heads\": {},\n",
      "  \"qa_dropout\": 0.1,\n",
      "  \"seq_classif_dropout\": 0.2,\n",
      "  \"sinusoidal_pos_embds\": false,\n",
      "  \"tie_weights_\": true,\n",
      "  \"torchscript\": false,\n",
      "  \"use_bfloat16\": false,\n",
      "  \"vocab_size\": 30522\n",
      "}\n",
      "\n",
      "I1213 19:14:46.972312 140049061730112 modeling_utils.py:337] loading weights file https://s3.amazonaws.com/models.huggingface.co/bert/distilbert-base-uncased-pytorch_model.bin from cache at /tmp/tmp1x0h8exo/7b8a8f0b21c4e7f6962451c9370a5d9af90372a5f64637a251f2de154d0fc72c.c2015533705b9dff680ae707e205a35e2860e8d148b45d35085419d74fe57ac5\n"
     ]
    }
   ],
   "source": [
    "summarizer = ExtractiveSummarizer(MODEL_NAME, ENCODER, CACHE_DIR)"
   ]
  },
  {
   "cell_type": "code",
   "execution_count": 19,
   "metadata": {},
   "outputs": [],
   "source": [
    "# batch_size is the number of tokens in a batch\n",
    "train_dataloader = get_dataloader(get_cycled_dataset(train_dataset_generator), is_labeled=True, batch_size=3000)"
   ]
  },
  {
   "cell_type": "code",
   "execution_count": 20,
   "metadata": {
    "scrolled": true
   },
   "outputs": [
    {
     "name": "stdout",
     "output_type": "stream",
     "text": [
      "loss: 34.033510, time: 20.922801, number of examples in current step: 5, step 100 out of total 10000\n",
      "loss: 32.287387, time: 21.290814, number of examples in current step: 5, step 200 out of total 10000\n",
      "loss: 31.838500, time: 21.051537, number of examples in current step: 5, step 300 out of total 10000\n",
      "loss: 31.183838, time: 21.305765, number of examples in current step: 5, step 400 out of total 10000\n",
      "loss: 30.655987, time: 20.895105, number of examples in current step: 6, step 500 out of total 10000\n",
      "loss: 30.956138, time: 21.488802, number of examples in current step: 8, step 600 out of total 10000\n",
      "loss: 30.789554, time: 20.859549, number of examples in current step: 5, step 700 out of total 10000\n",
      "loss: 30.939141, time: 21.222007, number of examples in current step: 5, step 800 out of total 10000\n",
      "loss: 30.246895, time: 20.882249, number of examples in current step: 5, step 900 out of total 10000\n",
      "loss: 30.127477, time: 21.238788, number of examples in current step: 5, step 1000 out of total 10000\n",
      "loss: 30.511317, time: 20.870660, number of examples in current step: 5, step 1100 out of total 10000\n",
      "loss: 29.975881, time: 21.306635, number of examples in current step: 5, step 1200 out of total 10000\n",
      "loss: 29.922128, time: 20.797399, number of examples in current step: 5, step 1300 out of total 10000\n",
      "loss: 30.123425, time: 21.314660, number of examples in current step: 5, step 1400 out of total 10000\n",
      "loss: 29.797232, time: 20.774638, number of examples in current step: 5, step 1500 out of total 10000\n",
      "loss: 29.937522, time: 21.149396, number of examples in current step: 5, step 1600 out of total 10000\n",
      "loss: 29.936845, time: 20.826900, number of examples in current step: 5, step 1700 out of total 10000\n",
      "loss: 30.041832, time: 21.172081, number of examples in current step: 5, step 1800 out of total 10000\n",
      "loss: 29.963067, time: 20.848251, number of examples in current step: 8, step 1900 out of total 10000\n",
      "loss: 29.508682, time: 21.196101, number of examples in current step: 5, step 2000 out of total 10000\n",
      "loss: 29.310056, time: 20.740222, number of examples in current step: 5, step 2100 out of total 10000\n",
      "loss: 29.142451, time: 21.167559, number of examples in current step: 5, step 2200 out of total 10000\n",
      "loss: 29.366002, time: 20.756548, number of examples in current step: 5, step 2300 out of total 10000\n",
      "loss: 28.720221, time: 21.070108, number of examples in current step: 5, step 2400 out of total 10000\n",
      "loss: 29.210179, time: 20.782913, number of examples in current step: 5, step 2500 out of total 10000\n",
      "loss: 28.735651, time: 21.138025, number of examples in current step: 5, step 2600 out of total 10000\n",
      "loss: 28.166819, time: 21.227607, number of examples in current step: 5, step 2700 out of total 10000\n",
      "loss: 28.519964, time: 21.532721, number of examples in current step: 5, step 2800 out of total 10000\n",
      "loss: 28.067041, time: 20.801938, number of examples in current step: 5, step 2900 out of total 10000\n",
      "loss: 26.800023, time: 21.235498, number of examples in current step: 5, step 3000 out of total 10000\n",
      "loss: 25.966289, time: 20.801523, number of examples in current step: 5, step 3100 out of total 10000\n",
      "loss: 27.441247, time: 21.251401, number of examples in current step: 5, step 3200 out of total 10000\n",
      "loss: 26.384082, time: 20.743510, number of examples in current step: 5, step 3300 out of total 10000\n",
      "loss: 26.416547, time: 21.345901, number of examples in current step: 5, step 3400 out of total 10000\n",
      "loss: 25.922237, time: 20.865678, number of examples in current step: 5, step 3500 out of total 10000\n",
      "loss: 27.680460, time: 21.199962, number of examples in current step: 5, step 3600 out of total 10000\n",
      "loss: 28.024390, time: 20.748117, number of examples in current step: 5, step 3700 out of total 10000\n",
      "loss: 27.789941, time: 21.039152, number of examples in current step: 5, step 3800 out of total 10000\n",
      "loss: 27.393290, time: 21.498004, number of examples in current step: 5, step 3900 out of total 10000\n",
      "loss: 24.522380, time: 20.703085, number of examples in current step: 5, step 4000 out of total 10000\n",
      "loss: 24.722080, time: 21.283976, number of examples in current step: 5, step 4100 out of total 10000\n",
      "loss: 23.138078, time: 20.808383, number of examples in current step: 5, step 4200 out of total 10000\n",
      "loss: 22.454814, time: 21.352745, number of examples in current step: 5, step 4300 out of total 10000\n",
      "loss: 23.567452, time: 20.792935, number of examples in current step: 5, step 4400 out of total 10000\n",
      "loss: 24.148244, time: 21.288403, number of examples in current step: 5, step 4500 out of total 10000\n",
      "loss: 26.079271, time: 20.807319, number of examples in current step: 5, step 4600 out of total 10000\n",
      "loss: 25.641682, time: 21.380860, number of examples in current step: 5, step 4700 out of total 10000\n",
      "loss: 22.906024, time: 20.931059, number of examples in current step: 5, step 4800 out of total 10000\n",
      "loss: 23.376784, time: 21.110614, number of examples in current step: 9, step 4900 out of total 10000\n",
      "loss: 21.662924, time: 20.978585, number of examples in current step: 5, step 5000 out of total 10000\n",
      "loss: 22.046062, time: 21.240636, number of examples in current step: 5, step 5100 out of total 10000\n",
      "loss: 21.386175, time: 20.804918, number of examples in current step: 5, step 5200 out of total 10000\n",
      "loss: 20.024137, time: 21.035123, number of examples in current step: 5, step 5300 out of total 10000\n",
      "loss: 18.014099, time: 20.730976, number of examples in current step: 5, step 5400 out of total 10000\n",
      "loss: 17.972536, time: 21.357648, number of examples in current step: 5, step 5500 out of total 10000\n",
      "loss: 18.104921, time: 20.828797, number of examples in current step: 5, step 5600 out of total 10000\n",
      "loss: 18.028430, time: 21.441661, number of examples in current step: 5, step 5700 out of total 10000\n",
      "loss: 17.824031, time: 21.042334, number of examples in current step: 5, step 5800 out of total 10000\n",
      "loss: 16.643409, time: 21.337008, number of examples in current step: 5, step 5900 out of total 10000\n",
      "loss: 15.370370, time: 20.855913, number of examples in current step: 5, step 6000 out of total 10000\n",
      "loss: 16.535986, time: 21.432726, number of examples in current step: 5, step 6100 out of total 10000\n",
      "loss: 16.704506, time: 20.899321, number of examples in current step: 5, step 6200 out of total 10000\n",
      "loss: 14.427846, time: 21.232050, number of examples in current step: 5, step 6300 out of total 10000\n",
      "loss: 12.563373, time: 20.791491, number of examples in current step: 5, step 6400 out of total 10000\n",
      "loss: 12.213864, time: 21.292911, number of examples in current step: 5, step 6500 out of total 10000\n",
      "loss: 11.776337, time: 20.748140, number of examples in current step: 5, step 6600 out of total 10000\n",
      "loss: 12.572738, time: 21.238749, number of examples in current step: 5, step 6700 out of total 10000\n",
      "loss: 12.463492, time: 20.842669, number of examples in current step: 5, step 6800 out of total 10000\n",
      "loss: 11.554597, time: 21.252741, number of examples in current step: 5, step 6900 out of total 10000\n",
      "loss: 10.453426, time: 20.799305, number of examples in current step: 5, step 7000 out of total 10000\n",
      "loss: 12.571871, time: 21.199684, number of examples in current step: 5, step 7100 out of total 10000\n",
      "loss: 11.147736, time: 20.775112, number of examples in current step: 5, step 7200 out of total 10000\n",
      "loss: 8.840161, time: 21.307660, number of examples in current step: 5, step 7300 out of total 10000\n",
      "loss: 8.349351, time: 20.628739, number of examples in current step: 5, step 7400 out of total 10000\n",
      "loss: 8.538944, time: 20.980914, number of examples in current step: 5, step 7500 out of total 10000\n",
      "loss: 7.838777, time: 20.695940, number of examples in current step: 5, step 7600 out of total 10000\n",
      "loss: 8.679151, time: 21.186977, number of examples in current step: 5, step 7700 out of total 10000\n",
      "loss: 8.537620, time: 20.712432, number of examples in current step: 5, step 7800 out of total 10000\n",
      "loss: 8.859833, time: 20.965823, number of examples in current step: 3, step 7900 out of total 10000\n",
      "loss: 7.936649, time: 20.736918, number of examples in current step: 5, step 8000 out of total 10000\n",
      "loss: 7.635237, time: 21.115564, number of examples in current step: 5, step 8100 out of total 10000\n"
     ]
    },
    {
     "name": "stdout",
     "output_type": "stream",
     "text": [
      "loss: 7.357592, time: 21.266071, number of examples in current step: 5, step 8200 out of total 10000\n",
      "loss: 6.336736, time: 20.806072, number of examples in current step: 5, step 8300 out of total 10000\n",
      "loss: 5.877894, time: 21.371235, number of examples in current step: 5, step 8400 out of total 10000\n",
      "loss: 5.964879, time: 20.897553, number of examples in current step: 5, step 8500 out of total 10000\n",
      "loss: 5.535290, time: 21.059212, number of examples in current step: 5, step 8600 out of total 10000\n",
      "loss: 6.686879, time: 20.794497, number of examples in current step: 5, step 8700 out of total 10000\n",
      "loss: 5.563559, time: 21.314857, number of examples in current step: 5, step 8800 out of total 10000\n",
      "loss: 4.289995, time: 20.640453, number of examples in current step: 5, step 8900 out of total 10000\n",
      "loss: 4.875267, time: 21.064786, number of examples in current step: 2, step 9000 out of total 10000\n",
      "loss: 5.190399, time: 20.760948, number of examples in current step: 5, step 9100 out of total 10000\n",
      "loss: 5.859150, time: 21.078804, number of examples in current step: 5, step 9200 out of total 10000\n",
      "loss: 5.985065, time: 20.659935, number of examples in current step: 6, step 9300 out of total 10000\n",
      "loss: 5.589111, time: 21.402810, number of examples in current step: 5, step 9400 out of total 10000\n",
      "loss: 4.808244, time: 20.824272, number of examples in current step: 5, step 9500 out of total 10000\n",
      "loss: 4.557641, time: 21.290274, number of examples in current step: 5, step 9600 out of total 10000\n",
      "loss: 4.369399, time: 20.820461, number of examples in current step: 5, step 9700 out of total 10000\n",
      "loss: 3.616004, time: 21.067338, number of examples in current step: 5, step 9800 out of total 10000\n",
      "loss: 2.718699, time: 20.955738, number of examples in current step: 5, step 9900 out of total 10000\n",
      "loss: 3.190213, time: 21.127867, number of examples in current step: 2, step 10000 out of total 10000\n"
     ]
    }
   ],
   "source": [
    "summarizer.fit(\n",
    "            train_dataloader,\n",
    "            num_gpus=1,\n",
    "            gradient_accumulation_steps=2,\n",
    "            max_steps=MAX_STEPS,\n",
    "            lr=LEARNING_RATE,\n",
    "            warmup_steps=WARMUP_STEPS,\n",
    "            verbose=True,\n",
    "            report_every=REPORT_EVERY,\n",
    "            clip_grad_norm=False,\n",
    "        )"
   ]
  },
  {
   "cell_type": "code",
   "execution_count": 21,
   "metadata": {},
   "outputs": [
    {
     "name": "stderr",
     "output_type": "stream",
     "text": [
      "I1213 19:49:55.251679 140049061730112 extractive_summarization.py:432] Saving model checkpoint to /tmp/tmp1x0h8exo/fine_tuned/extsum_modelname_distilbert-base-uncased_quickrun_True.pt\n"
     ]
    }
   ],
   "source": [
    "summarizer.save_model(\"extsum_modelname_{0}_quickrun_{1}.pt\".format(MODEL_NAME, QUICK_RUN))"
   ]
  },
  {
   "cell_type": "code",
   "execution_count": 22,
   "metadata": {},
   "outputs": [],
   "source": [
    "# for loading a previous saved model\n",
    "#import torch\n",
    "#summarizer.model = torch.load(\"cnndm_transformersum_distilbert-base-uncased_bertsum_processed_data.pt\")"
   ]
  },
  {
   "cell_type": "markdown",
   "metadata": {},
   "source": [
    "### Model Evaluation\n",
    "\n",
    "[ROUGE](https://en.wikipedia.org/wiki/ROUGE_(metric)), or Recall-Oriented Understudy for Gisting Evaluation has been commonly used for evaluation text summarization."
   ]
  },
  {
   "cell_type": "code",
   "execution_count": 23,
   "metadata": {},
   "outputs": [],
   "source": [
    "test_dataset=[]\n",
    "for i in test_dataset_generator():\n",
    "    test_dataset.extend(i)\n",
    "target = [test_dataset[i]['tgt_txt'] for i in range(len(test_dataset))]"
   ]
  },
  {
   "cell_type": "code",
   "execution_count": 24,
   "metadata": {},
   "outputs": [],
   "source": [
    "prediction = summarizer.predict(get_sequential_dataloader(test_dataset))\n",
    "#prediction = summarizer.predict(get_dataloader(test_dataset_generator()))"
   ]
  },
  {
   "cell_type": "code",
   "execution_count": 25,
   "metadata": {},
   "outputs": [
    {
     "name": "stdout",
     "output_type": "stream",
     "text": [
      "9999\n",
      "9999\n"
     ]
    },
    {
     "name": "stderr",
     "output_type": "stream",
     "text": [
      "2019-12-13 19:51:06,253 [MainThread  ] [INFO ]  Writing summaries.\n",
      "I1213 19:51:06.253292 140049061730112 pyrouge.py:525] Writing summaries.\n",
      "2019-12-13 19:51:06,264 [MainThread  ] [INFO ]  Processing summaries. Saving system files to ./results/tmpe55w9_ms/system and model files to ./results/tmpe55w9_ms/model.\n",
      "I1213 19:51:06.264005 140049061730112 pyrouge.py:518] Processing summaries. Saving system files to ./results/tmpe55w9_ms/system and model files to ./results/tmpe55w9_ms/model.\n",
      "2019-12-13 19:51:06,264 [MainThread  ] [INFO ]  Processing files in ./results/rouge-tmp-2019-12-13-19-51-05/candidate/.\n",
      "I1213 19:51:06.264976 140049061730112 pyrouge.py:43] Processing files in ./results/rouge-tmp-2019-12-13-19-51-05/candidate/.\n",
      "2019-12-13 19:51:07,212 [MainThread  ] [INFO ]  Saved processed files to ./results/tmpe55w9_ms/system.\n",
      "I1213 19:51:07.212478 140049061730112 pyrouge.py:53] Saved processed files to ./results/tmpe55w9_ms/system.\n",
      "2019-12-13 19:51:07,214 [MainThread  ] [INFO ]  Processing files in ./results/rouge-tmp-2019-12-13-19-51-05/reference/.\n",
      "I1213 19:51:07.214902 140049061730112 pyrouge.py:43] Processing files in ./results/rouge-tmp-2019-12-13-19-51-05/reference/.\n",
      "2019-12-13 19:51:08,144 [MainThread  ] [INFO ]  Saved processed files to ./results/tmpe55w9_ms/model.\n",
      "I1213 19:51:08.144244 140049061730112 pyrouge.py:53] Saved processed files to ./results/tmpe55w9_ms/model.\n",
      "2019-12-13 19:51:08,561 [MainThread  ] [INFO ]  Written ROUGE configuration to ./results/tmpitl6lo4q/rouge_conf.xml\n",
      "I1213 19:51:08.561358 140049061730112 pyrouge.py:354] Written ROUGE configuration to ./results/tmpitl6lo4q/rouge_conf.xml\n",
      "2019-12-13 19:51:08,562 [MainThread  ] [INFO ]  Running ROUGE with command /dadendev/pyrouge/tools/ROUGE-1.5.5/ROUGE-1.5.5.pl -e /dadendev/pyrouge/tools/ROUGE-1.5.5/data -c 95 -m -r 1000 -n 2 -a ./results/tmpitl6lo4q/rouge_conf.xml\n",
      "I1213 19:51:08.562606 140049061730112 pyrouge.py:372] Running ROUGE with command /dadendev/pyrouge/tools/ROUGE-1.5.5/ROUGE-1.5.5.pl -e /dadendev/pyrouge/tools/ROUGE-1.5.5/data -c 95 -m -r 1000 -n 2 -a ./results/tmpitl6lo4q/rouge_conf.xml\n"
     ]
    },
    {
     "name": "stdout",
     "output_type": "stream",
     "text": [
      "---------------------------------------------\n",
      "1 ROUGE-1 Average_R: 0.48184 (95%-conf.int. 0.47899 - 0.48488)\n",
      "1 ROUGE-1 Average_P: 0.34422 (95%-conf.int. 0.34185 - 0.34659)\n",
      "1 ROUGE-1 Average_F: 0.38649 (95%-conf.int. 0.38434 - 0.38879)\n",
      "---------------------------------------------\n",
      "1 ROUGE-2 Average_R: 0.20180 (95%-conf.int. 0.19931 - 0.20468)\n",
      "1 ROUGE-2 Average_P: 0.14448 (95%-conf.int. 0.14249 - 0.14667)\n",
      "1 ROUGE-2 Average_F: 0.16185 (95%-conf.int. 0.15983 - 0.16404)\n",
      "---------------------------------------------\n",
      "1 ROUGE-L Average_R: 0.43652 (95%-conf.int. 0.43387 - 0.43948)\n",
      "1 ROUGE-L Average_P: 0.31246 (95%-conf.int. 0.31003 - 0.31479)\n",
      "1 ROUGE-L Average_F: 0.35053 (95%-conf.int. 0.34841 - 0.35273)\n",
      "\n"
     ]
    }
   ],
   "source": [
    "rouge_transformer = get_rouge(prediction, target, \"./results/\")"
   ]
  },
  {
   "cell_type": "code",
   "execution_count": 26,
   "metadata": {},
   "outputs": [
    {
     "data": {
      "text/plain": [
       "'marseille prosecutor says `` so far no videos were used in the crash investigation `` despite media reports .<q>journalists at bild and paris match are `` very confident `` the video clip is real , an editor says .<q>andreas lubitz had informed his lufthansa training school of an episode of severe depression , airline says .<q>'"
      ]
     },
     "execution_count": 26,
     "metadata": {},
     "output_type": "execute_result"
    }
   ],
   "source": [
    "test_dataset[0]['tgt_txt']"
   ]
  },
  {
   "cell_type": "code",
   "execution_count": 27,
   "metadata": {},
   "outputs": [
    {
     "data": {
      "text/plain": [
       "'marseille , france ( cnn ) the french prosecutor leading an investigation into the crash of germanwings flight 9525 insisted wednesday that he was not aware of any video footage from on board the plane .<q>marseille prosecutor brice robin told cnn that `` so far no videos were used in the crash investigation . ``<q>paris match and bild reported that the video was recovered from a phone at the wreckage site .'"
      ]
     },
     "execution_count": 27,
     "metadata": {},
     "output_type": "execute_result"
    }
   ],
   "source": [
    "prediction[0]"
   ]
  },
  {
   "cell_type": "code",
   "execution_count": 28,
   "metadata": {},
   "outputs": [
    {
     "data": {
      "text/plain": [
       "['marseille , france ( cnn ) the french prosecutor leading an investigation into the crash of germanwings flight 9525 insisted wednesday that he was not aware of any video footage from on board the plane .',\n",
       " 'marseille prosecutor brice robin told cnn that `` so far no videos were used in the crash investigation . ``',\n",
       " 'he added , `` a person who has such a video needs to immediately give it to the investigators . ``',\n",
       " \"robin 's comments follow claims by two magazines , german daily bild and french paris match , of a cell phone video showing the harrowing final seconds from on board germanwings flight 9525 as it crashed into the french alps .\",\n",
       " 'all 150 on board were killed .',\n",
       " 'paris match and bild reported that the video was recovered from a phone at the wreckage site .',\n",
       " 'the two publications described the supposed video , but did not post it on their websites .',\n",
       " 'the publications said that they watched the video , which was found by a source close to the investigation . ``',\n",
       " \"one can hear cries of ` my god ' in several languages , `` paris match reported . ``\",\n",
       " 'metallic banging can also be heard more than three times , perhaps of the pilot trying to open the cockpit door with a heavy object .',\n",
       " 'towards the end , after a heavy shake , stronger than the others , the screaming intensifies .',\n",
       " '`` it is a very disturbing scene , `` said julian reichelt , editor-in-chief of bild online .',\n",
       " \"an official with france 's accident investigation agency , the bea , said the agency is not aware of any such video .\",\n",
       " 'lt. col. jean-marc menichini , a french gendarmerie spokesman in charge of communications on rescue efforts around the germanwings crash site , told cnn that the reports were `` completely wrong `` and `` unwarranted . ``',\n",
       " \"cell phones have been collected at the site , he said , but that they `` had n't been exploited yet . ``\",\n",
       " 'menichini said he believed the cell phones would need to be sent to the criminal research institute in rosny sous-bois , near paris , in order to be analyzed by specialized technicians working hand-in-hand with investigators .',\n",
       " 'but none of the cell phones found so far have been sent to the institute , menichini said .',\n",
       " 'asked whether staff involved in the search could have leaked a memory card to the media , menichini answered with a categorical `` no . ``',\n",
       " 'reichelt told `` erin burnett : outfront `` that he had watched the video and stood by the report , saying bild and paris match are `` very confident `` that the clip is real .',\n",
       " \"he noted that investigators only revealed they 'd recovered cell phones from the crash site after bild and paris match published their reports . ``\",\n",
       " 'that is something we did not know before .',\n",
       " \"... overall we can say many things of the investigation were n't revealed by the investigation at the beginning , `` he said .\",\n",
       " 'what was mental state of germanwings co-pilot ?',\n",
       " \"german airline lufthansa confirmed tuesday that co-pilot andreas lubitz had battled depression years before he took the controls of germanwings flight 9525 , which he 's accused of deliberately crashing last week in the french alps .\",\n",
       " 'lubitz told his lufthansa flight training school in 2009 that he had a `` previous episode of severe depression , `` the airline said tuesday .',\n",
       " 'email correspondence between lubitz and the school discovered in an internal investigation , lufthansa said , included medical documents he submitted in connection with resuming his flight training .',\n",
       " \"the announcement indicates that lufthansa , the parent company of germanwings , knew of lubitz 's battle with depression , allowed him to continue training and ultimately put him in the cockpit .\",\n",
       " 'lufthansa , whose ceo carsten spohr previously said lubitz was 100 % fit to fly , described its statement tuesday as a `` swift and seamless clarification `` and said it was sharing the information and documents -- including training and medical records -- with public prosecutors .',\n",
       " 'spohr traveled to the crash site wednesday , where recovery teams have been working for the past week to recover human remains and plane debris scattered across a steep mountainside .',\n",
       " 'he saw the crisis center set up in seyne-les-alpes , laid a wreath in the village of le vernet , closer to the crash site , where grieving families have left flowers at a simple stone memorial .',\n",
       " 'menichini told cnn late tuesday that no visible human remains were left at the site but recovery teams would keep searching .',\n",
       " 'french president francois hollande , speaking tuesday , said that it should be possible to identify all the victims using dna analysis by the end of the week , sooner than authorities had previously suggested .',\n",
       " \"in the meantime , the recovery of the victims ' personal belongings will start wednesday , menichini said .\",\n",
       " 'among those personal belongings could be more cell phones belonging to the 144 passengers and six crew on board .',\n",
       " 'check out the latest from our correspondents .',\n",
       " \"the details about lubitz 's correspondence with the flight school during his training were among several developments as investigators continued to delve into what caused the crash and lubitz 's possible motive for downing the jet .\",\n",
       " 'a lufthansa spokesperson told cnn on tuesday that lubitz had a valid medical certificate , had passed all his examinations and `` held all the licenses required . ``',\n",
       " \"earlier , a spokesman for the prosecutor 's office in dusseldorf , christoph kumpa , said medical records reveal lubitz suffered from suicidal tendencies at some point before his aviation career and underwent psychotherapy before he got his pilot 's license .\",\n",
       " \"kumpa emphasized there 's no evidence suggesting lubitz was suicidal or acting aggressively before the crash .\",\n",
       " \"investigators are looking into whether lubitz feared his medical condition would cause him to lose his pilot 's license , a european government official briefed on the investigation told cnn on tuesday .\",\n",
       " \"while flying was `` a big part of his life , `` the source said , it 's only one theory being considered .\",\n",
       " 'another source , a law enforcement official briefed on the investigation , also told cnn that authorities believe the primary motive for lubitz to bring down the plane was that he feared he would not be allowed to fly because of his medical problems .',\n",
       " \"lubitz 's girlfriend told investigators he had seen an eye doctor and a neuropsychologist , both of whom deemed him unfit to work recently and concluded he had psychological issues , the european government official said .\",\n",
       " \"but no matter what details emerge about his previous mental health struggles , there 's more to the story , said brian russell , a forensic psychologist . ``\",\n",
       " \"psychology can explain why somebody would turn rage inward on themselves about the fact that maybe they were n't going to keep doing their job and they 're upset about that and so they 're suicidal , `` he said . ``\",\n",
       " \"but there is no mental illness that explains why somebody then feels entitled to also take that rage and turn it outward on 149 other people who had nothing to do with the person 's problems . ``\",\n",
       " 'germanwings crash compensation : what we know .',\n",
       " 'who was the captain of germanwings flight 9525 ?',\n",
       " \"cnn 's margot haddad reported from marseille and pamela brown from dusseldorf , while laura smith-spark wrote from london .\",\n",
       " \"cnn 's frederik pleitgen , pamela boykoff , antonia mortensen , sandrine amiel and anna-maja rappard contributed to this report .\"]"
      ]
     },
     "execution_count": 28,
     "metadata": {},
     "output_type": "execute_result"
    }
   ],
   "source": [
    "test_dataset[0]['src_txt']"
   ]
  }
 ],
 "metadata": {
  "kernelspec": {
   "display_name": "python3.6 cm3",
   "language": "python",
   "name": "cm3"
  },
  "language_info": {
   "codemirror_mode": {
    "name": "ipython",
    "version": 3
   },
   "file_extension": ".py",
   "mimetype": "text/x-python",
   "name": "python",
   "nbconvert_exporter": "python",
   "pygments_lexer": "ipython3",
   "version": "3.6.8"
  }
 },
 "nbformat": 4,
 "nbformat_minor": 2
}
