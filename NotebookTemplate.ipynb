{
 "cells": [
  {
   "cell_type": "markdown",
   "metadata": {},
   "source": [
    "Copyright (c) Microsoft Corporation. All rights reserved.\n",
    "Licensed under the MIT license."
   ]
  },
  {
   "cell_type": "markdown",
   "metadata": {},
   "source": [
    "# Title\n",
    "\n",
    "_**Subtitle**_\n",
    "\n",
    "---\n",
    "\n",
    "---\n",
    "\n",
    "## Table of Contents\n",
    "\n",
    "1. [Introduction](#Introduction)\n",
    "\n",
    "1. [Setup](#Setup)\n",
    "\t1. Read Environment Values\n",
    "\t1. Connect to Workspace\n",
    "\t1. Create an experiment to track all your runs\n",
    "\t1. Create a remote compute target to use for training\n",
    "\n",
    "1. [Data](#Data)\n",
    "\n",
    "1. [Train](#Train)\n",
    "\t1. Viewing run results\n",
    "\t1. Simple parameter sweep\n",
    "\t1. Viewing experiment results\n",
    "\t1. Select the best model\n",
    "\n",
    "1. [Deploy](Deploy)\n",
    "\t1. Register the model\n",
    "\t1. Create a scoring file\n",
    "\t1. describe your environment\n",
    "\t1. Describe your target compute\n",
    "\t1. Deploy your web service\n",
    "\t1. Test your web service \n",
    "\t1. Clean up\n",
    "\n",
    "1. [Next Steps](#Next%20Steps)\n",
    "\n",
    "## Introduction\n",
    "\n",
    "- Descriptive prose describing what the user will learn and accomplish by going through the notebook.  If specific technologies algorithms are used, describe or link to meaningful descriptions.\n",
    "\n",
    "## Setup\n",
    "\n",
    "- Indicate the user should run the configuration notebook if not done and provide link\n",
    "- Indicate any required notebooks that need to be run prior to this notebook and provide links\n",
    "- Importing the aml sdk and comparing the version to that used to create the notebook.\n",
    "- Access the AML workspace\n",
    "- Specify variables that could be configured through environment variables\n",
    "- Perform any additional notebook specific setup\n",
    "\n",
    "Optional Sections separated by horizontal lines\n",
    "\n",
    "## Next Steps\n",
    "\n",
    "---"
   ]
  },
  {
   "cell_type": "code",
   "execution_count": null,
   "metadata": {},
   "outputs": [],
   "source": []
  }
 ],
 "metadata": {
  "kernelspec": {
   "display_name": "Python 3",
   "language": "python",
   "name": "python3"
  },
  "language_info": {
   "codemirror_mode": {
    "name": "ipython",
    "version": 3
   },
   "file_extension": ".py",
   "mimetype": "text/x-python",
   "name": "python",
   "nbconvert_exporter": "python",
   "pygments_lexer": "ipython3",
   "version": "3.7.1"
  }
 },
 "nbformat": 4,
 "nbformat_minor": 2
}
